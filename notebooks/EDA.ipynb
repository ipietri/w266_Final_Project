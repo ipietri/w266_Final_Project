{
 "cells": [
  {
   "cell_type": "markdown",
   "id": "d6b44723",
   "metadata": {},
   "source": [
    "# Final Project- EDA Notebook"
   ]
  },
  {
   "cell_type": "markdown",
   "id": "43f5fc87",
   "metadata": {},
   "source": [
    "## Package imports"
   ]
  },
  {
   "cell_type": "code",
   "execution_count": 1,
   "id": "45c49eb2",
   "metadata": {},
   "outputs": [],
   "source": [
    "import pandas as pd\n",
    "import numpy as np\n",
    "import matplotlib.pyplot as plt\n",
    "\n",
    "# This tells matplotlib not to try opening a new window for each plot.\n",
    "%matplotlib inline"
   ]
  },
  {
   "cell_type": "markdown",
   "id": "2ba6dcc5",
   "metadata": {},
   "source": [
    "## Load data"
   ]
  },
  {
   "cell_type": "code",
   "execution_count": 2,
   "id": "d7f9dc66",
   "metadata": {},
   "outputs": [],
   "source": [
    "# Load aggressiveness dataset\n",
    "train_data = pd.read_csv('../../data/release-files/eng/trac2_eng_train.csv')\n",
    "dev_data = pd.read_csv('../../data/release-files/eng/trac2_eng_dev.csv')\n",
    "\n",
    "# test data data and labels is in separate files, potentially desorganized\n",
    "test_data = pd.read_csv('../../data/release-files/test/trac2_eng_test.csv')\n",
    "test_labels_a = pd.read_csv('../../data/release-files/gold/trac2_eng_gold_a.csv')\n",
    "test_labels_b = pd.read_csv('../../data/release-files/gold/trac2_eng_gold_b.csv')"
   ]
  },
  {
   "cell_type": "code",
   "execution_count": 3,
   "id": "63e789b2",
   "metadata": {},
   "outputs": [],
   "source": [
    "# Load datasets with gender data (RTGender corpus)\n",
    "# Some of them are too big (the two from facebook) and the kernel dies trying to read them -> fixed using a gcloud notebook instance\n",
    "\n",
    "# reddit data\n",
    "reddit_posts = pd.read_csv('../../data/rtgender/reddit_posts.csv')\n",
    "reddit_responses = pd.read_csv('../../data/rtgender/reddit_responses.csv')\n",
    "\n",
    "# fitocracy data\n",
    "fitocracy_posts = pd.read_csv('../../data/rtgender/fitocracy_posts.csv')\n",
    "fitocracy_responses = pd.read_csv('../../data/rtgender/fitocracy_responses.csv')\n",
    "\n",
    "# ted data\n",
    "ted_responses = pd.read_csv('../../data/rtgender/ted_responses.csv')\n",
    "\n",
    "# facebook congress\n",
    "fb_congress_posts = pd.read_csv('../../data/rtgender/facebook_congress_posts.csv')\n",
    "fb_congress_responses = pd.read_csv('../../data/rtgender/facebook_congress_responses.csv')\n",
    "\n",
    "# facebook wiki \n",
    "fb_wiki_posts = pd.read_csv('../../data/rtgender/facebook_wiki_posts.csv')\n",
    "fb_wiki_responses = pd.read_csv('../../data/rtgender/facebook_wiki_responses.csv')\n"
   ]
  },
  {
   "cell_type": "code",
   "execution_count": 4,
   "id": "b7610d54",
   "metadata": {},
   "outputs": [],
   "source": [
    "## labeled dataset of the RTGender corpus\n",
    "rt_gender = pd.read_csv('../../data/rtgender/annotations.csv')"
   ]
  },
  {
   "cell_type": "markdown",
   "id": "bda8dfcc",
   "metadata": {},
   "source": [
    "## Helper Functions\n",
    "Functions to help in the process of exploring multiple datasets.\n"
   ]
  },
  {
   "cell_type": "code",
   "execution_count": 3,
   "id": "42236a6c",
   "metadata": {},
   "outputs": [],
   "source": [
    "def explore_dataset(df, text_column=None):\n",
    "    '''\n",
    "    Returns dataframe general characteristics and text statistics.\n",
    "    Parameters:\n",
    "    df: dataframe\n",
    "    text_column: name of the column that contains the posts (string)\n",
    "    '''\n",
    "    # print dataset dimensions of dataframe\n",
    "    print(f'Number of rows: {df.shape[0]}')\n",
    "    print(f'Number of columns: {df.shape[1]}')\n",
    "    \n",
    "    # print columns names\n",
    "    print(f'Columns:{list(df.columns)}')\n",
    "    \n",
    "    if text_column != None:\n",
    "    # create a column with lenght of text\n",
    "        df['text_lenght'] = df[text_column].apply(lambda x: len(str(x).split()))\n",
    "\n",
    "        # get statistics of lenght of the text\n",
    "        min_words = df['text_lenght'].min()\n",
    "        max_words = df['text_lenght'].max()\n",
    "        mean_words = round(df['text_lenght'].mean(), 2) \n",
    "        print(f'Minimum number of words per post: {min_words}')\n",
    "        print(f'Maximum number of words per post: {max_words}')\n",
    "        print(f'Mean number of words per post: {mean_words}')\n",
    "        "
   ]
  },
  {
   "cell_type": "code",
   "execution_count": 4,
   "id": "49ece1b3",
   "metadata": {},
   "outputs": [],
   "source": [
    "def plot_text_lenght(df, name):\n",
    "    '''Creates a histogram.\n",
    "    Parameters:\n",
    "    df: dataframe\n",
    "    name: name for the plot (string)\n",
    "    '''\n",
    "    plt.hist(df['text_lenght'], bins=20, facecolor='grey', alpha=0.7)\n",
    "    plt.title(f'Text lenght histogram for {name}')\n",
    "    plt.show()\n",
    "    "
   ]
  },
  {
   "cell_type": "code",
   "execution_count": 5,
   "id": "50309353",
   "metadata": {},
   "outputs": [],
   "source": [
    "def cat_distribution(df, cat_column):\n",
    "    '''\n",
    "    Returns the count and percentage per category in a dataframe categorical column.\n",
    "    Parameters:\n",
    "    df: dataframe\n",
    "    cat_column: name of the categorical (string)\n",
    "    '''\n",
    "    by_cat_count = pd.DataFrame(df.groupby(cat_column)[cat_column].count())\n",
    "    by_cat_count = by_cat_count.rename(columns={cat_column:'count'}).reset_index()\n",
    "    by_cat_count['percentage'] = round((by_cat_count['count'] / by_cat_count['count'].sum())*100,2)\n",
    "    \n",
    "    return by_cat_count"
   ]
  },
  {
   "cell_type": "code",
   "execution_count": 38,
   "id": "c1891ea7",
   "metadata": {},
   "outputs": [],
   "source": [
    "def lenght_bins(df, column):\n",
    "    \"\"\"\n",
    "    Returns the percentage of the examples that are of a lenght in bins [0,10,50,100,150, max_words]\n",
    "    max_words is the maximum number of words a post has in a given dataframe\n",
    "    Parameters:\n",
    "    df: dataframe\n",
    "    column: column that contains the text lenght (string)\n",
    "    \"\"\"\n",
    "    \n",
    "    bins = pd.cut(df[column], bins=[0,10,50,100,150,df[column].max()]).value_counts() \n",
    "    bins_percentage = round((bins / df[column].count())*100, 2)\n",
    "    \n",
    "    return bins_percentage\n"
   ]
  },
  {
   "cell_type": "markdown",
   "id": "1689f3c2",
   "metadata": {},
   "source": [
    "## Aggressiveness dataset"
   ]
  },
  {
   "cell_type": "markdown",
   "id": "66c72824",
   "metadata": {},
   "source": [
    "### General aspects of the data\n",
    "\n",
    "Get an idea of the dimensions of the dataframes and the length of the text in each post."
   ]
  },
  {
   "cell_type": "code",
   "execution_count": 6,
   "id": "d486a9fd",
   "metadata": {
    "scrolled": true
   },
   "outputs": [
    {
     "data": {
      "text/html": [
       "<div>\n",
       "<style scoped>\n",
       "    .dataframe tbody tr th:only-of-type {\n",
       "        vertical-align: middle;\n",
       "    }\n",
       "\n",
       "    .dataframe tbody tr th {\n",
       "        vertical-align: top;\n",
       "    }\n",
       "\n",
       "    .dataframe thead th {\n",
       "        text-align: right;\n",
       "    }\n",
       "</style>\n",
       "<table border=\"1\" class=\"dataframe\">\n",
       "  <thead>\n",
       "    <tr style=\"text-align: right;\">\n",
       "      <th></th>\n",
       "      <th>ID</th>\n",
       "      <th>Text</th>\n",
       "      <th>Sub-task A</th>\n",
       "      <th>Sub-task B</th>\n",
       "    </tr>\n",
       "  </thead>\n",
       "  <tbody>\n",
       "    <tr>\n",
       "      <th>0</th>\n",
       "      <td>C45.451</td>\n",
       "      <td>Next part</td>\n",
       "      <td>NAG</td>\n",
       "      <td>NGEN</td>\n",
       "    </tr>\n",
       "    <tr>\n",
       "      <th>1</th>\n",
       "      <td>C47.11</td>\n",
       "      <td>Iii8mllllllm\\nMdxfvb8o90lplppi0005</td>\n",
       "      <td>NAG</td>\n",
       "      <td>NGEN</td>\n",
       "    </tr>\n",
       "    <tr>\n",
       "      <th>2</th>\n",
       "      <td>C33.79</td>\n",
       "      <td>🤣🤣😂😂🤣🤣🤣😂osm vedio ....keep it up...make more v...</td>\n",
       "      <td>NAG</td>\n",
       "      <td>NGEN</td>\n",
       "    </tr>\n",
       "    <tr>\n",
       "      <th>3</th>\n",
       "      <td>C4.1961</td>\n",
       "      <td>What the fuck was this? I respect shwetabh and...</td>\n",
       "      <td>NAG</td>\n",
       "      <td>NGEN</td>\n",
       "    </tr>\n",
       "    <tr>\n",
       "      <th>4</th>\n",
       "      <td>C10.153</td>\n",
       "      <td>Concerned authorities should bring arundathi R...</td>\n",
       "      <td>NAG</td>\n",
       "      <td>NGEN</td>\n",
       "    </tr>\n",
       "  </tbody>\n",
       "</table>\n",
       "</div>"
      ],
      "text/plain": [
       "        ID                                               Text Sub-task A  \\\n",
       "0  C45.451                                          Next part        NAG   \n",
       "1   C47.11                 Iii8mllllllm\\nMdxfvb8o90lplppi0005        NAG   \n",
       "2   C33.79  🤣🤣😂😂🤣🤣🤣😂osm vedio ....keep it up...make more v...        NAG   \n",
       "3  C4.1961  What the fuck was this? I respect shwetabh and...        NAG   \n",
       "4  C10.153  Concerned authorities should bring arundathi R...        NAG   \n",
       "\n",
       "  Sub-task B  \n",
       "0       NGEN  \n",
       "1       NGEN  \n",
       "2       NGEN  \n",
       "3       NGEN  \n",
       "4       NGEN  "
      ]
     },
     "execution_count": 6,
     "metadata": {},
     "output_type": "execute_result"
    }
   ],
   "source": [
    "# Inspect training data\n",
    "train_data.head()"
   ]
  },
  {
   "cell_type": "code",
   "execution_count": 7,
   "id": "83349167",
   "metadata": {},
   "outputs": [
    {
     "name": "stdout",
     "output_type": "stream",
     "text": [
      "Number of rows: 4263\n",
      "Number of columns: 4\n",
      "Columns:['ID', 'Text', 'Sub-task A', 'Sub-task B']\n",
      "Minimum number of words per post: 1\n",
      "Maximum number of words per post: 806\n",
      "Mean number of words per post: 17.23\n"
     ]
    }
   ],
   "source": [
    "# get statistics using helper function\n",
    "explore_dataset(train_data,'Text')"
   ]
  },
  {
   "cell_type": "code",
   "execution_count": 8,
   "id": "4959f999",
   "metadata": {
    "scrolled": true
   },
   "outputs": [
    {
     "data": {
      "text/html": [
       "<div>\n",
       "<style scoped>\n",
       "    .dataframe tbody tr th:only-of-type {\n",
       "        vertical-align: middle;\n",
       "    }\n",
       "\n",
       "    .dataframe tbody tr th {\n",
       "        vertical-align: top;\n",
       "    }\n",
       "\n",
       "    .dataframe thead th {\n",
       "        text-align: right;\n",
       "    }\n",
       "</style>\n",
       "<table border=\"1\" class=\"dataframe\">\n",
       "  <thead>\n",
       "    <tr style=\"text-align: right;\">\n",
       "      <th></th>\n",
       "      <th>ID</th>\n",
       "      <th>Text</th>\n",
       "      <th>Sub-task A</th>\n",
       "      <th>Sub-task B</th>\n",
       "    </tr>\n",
       "  </thead>\n",
       "  <tbody>\n",
       "    <tr>\n",
       "      <th>0</th>\n",
       "      <td>C7.2589</td>\n",
       "      <td>U deserve more subscribers. U really great.</td>\n",
       "      <td>NAG</td>\n",
       "      <td>NGEN</td>\n",
       "    </tr>\n",
       "    <tr>\n",
       "      <th>1</th>\n",
       "      <td>C68.872</td>\n",
       "      <td>Nice video....</td>\n",
       "      <td>NAG</td>\n",
       "      <td>NGEN</td>\n",
       "    </tr>\n",
       "    <tr>\n",
       "      <th>2</th>\n",
       "      <td>C36.762</td>\n",
       "      <td>sorry if i bother somebody.. iam a defence asp...</td>\n",
       "      <td>NAG</td>\n",
       "      <td>GEN</td>\n",
       "    </tr>\n",
       "    <tr>\n",
       "      <th>3</th>\n",
       "      <td>C4.1540.1</td>\n",
       "      <td>Joker was amazing....it was not glamorised !.....</td>\n",
       "      <td>NAG</td>\n",
       "      <td>NGEN</td>\n",
       "    </tr>\n",
       "    <tr>\n",
       "      <th>4</th>\n",
       "      <td>C59.68</td>\n",
       "      <td>Nice baro</td>\n",
       "      <td>NAG</td>\n",
       "      <td>NGEN</td>\n",
       "    </tr>\n",
       "  </tbody>\n",
       "</table>\n",
       "</div>"
      ],
      "text/plain": [
       "          ID                                               Text Sub-task A  \\\n",
       "0    C7.2589        U deserve more subscribers. U really great.        NAG   \n",
       "1    C68.872                                     Nice video....        NAG   \n",
       "2    C36.762  sorry if i bother somebody.. iam a defence asp...        NAG   \n",
       "3  C4.1540.1  Joker was amazing....it was not glamorised !.....        NAG   \n",
       "4     C59.68                                          Nice baro        NAG   \n",
       "\n",
       "  Sub-task B  \n",
       "0       NGEN  \n",
       "1       NGEN  \n",
       "2        GEN  \n",
       "3       NGEN  \n",
       "4       NGEN  "
      ]
     },
     "execution_count": 8,
     "metadata": {},
     "output_type": "execute_result"
    }
   ],
   "source": [
    "# Inspect development data\n",
    "dev_data.head()"
   ]
  },
  {
   "cell_type": "code",
   "execution_count": 9,
   "id": "829c90b1",
   "metadata": {},
   "outputs": [
    {
     "name": "stdout",
     "output_type": "stream",
     "text": [
      "Number of rows: 1066\n",
      "Number of columns: 4\n",
      "Columns:['ID', 'Text', 'Sub-task A', 'Sub-task B']\n",
      "Minimum number of words per post: 1\n",
      "Maximum number of words per post: 457\n",
      "Mean number of words per post: 17.52\n"
     ]
    }
   ],
   "source": [
    "# get statistics using helper function\n",
    "explore_dataset(dev_data,'Text')"
   ]
  },
  {
   "cell_type": "code",
   "execution_count": 10,
   "id": "2023d080",
   "metadata": {},
   "outputs": [
    {
     "data": {
      "text/html": [
       "<div>\n",
       "<style scoped>\n",
       "    .dataframe tbody tr th:only-of-type {\n",
       "        vertical-align: middle;\n",
       "    }\n",
       "\n",
       "    .dataframe tbody tr th {\n",
       "        vertical-align: top;\n",
       "    }\n",
       "\n",
       "    .dataframe thead th {\n",
       "        text-align: right;\n",
       "    }\n",
       "</style>\n",
       "<table border=\"1\" class=\"dataframe\">\n",
       "  <thead>\n",
       "    <tr style=\"text-align: right;\">\n",
       "      <th></th>\n",
       "      <th>ID</th>\n",
       "      <th>Text</th>\n",
       "    </tr>\n",
       "  </thead>\n",
       "  <tbody>\n",
       "    <tr>\n",
       "      <th>0</th>\n",
       "      <td>YoutubeCorpus37</td>\n",
       "      <td>https://www.youtube.com/watch?v=4iejjszkflo</td>\n",
       "    </tr>\n",
       "    <tr>\n",
       "      <th>1</th>\n",
       "      <td>C37.1</td>\n",
       "      <td>shame on society &amp; culture trying to justify t...</td>\n",
       "    </tr>\n",
       "    <tr>\n",
       "      <th>2</th>\n",
       "      <td>C37.2</td>\n",
       "      <td>just wanna say, there is no gay gene. you can ...</td>\n",
       "    </tr>\n",
       "    <tr>\n",
       "      <th>3</th>\n",
       "      <td>C37.3</td>\n",
       "      <td>well, if a one twin struggles with self confid...</td>\n",
       "    </tr>\n",
       "    <tr>\n",
       "      <th>4</th>\n",
       "      <td>C37.4</td>\n",
       "      <td>i am an identical twin and we are both homosex...</td>\n",
       "    </tr>\n",
       "  </tbody>\n",
       "</table>\n",
       "</div>"
      ],
      "text/plain": [
       "                ID                                               Text\n",
       "0  YoutubeCorpus37        https://www.youtube.com/watch?v=4iejjszkflo\n",
       "1            C37.1  shame on society & culture trying to justify t...\n",
       "2            C37.2  just wanna say, there is no gay gene. you can ...\n",
       "3            C37.3  well, if a one twin struggles with self confid...\n",
       "4            C37.4  i am an identical twin and we are both homosex..."
      ]
     },
     "execution_count": 10,
     "metadata": {},
     "output_type": "execute_result"
    }
   ],
   "source": [
    "# inspect test data\n",
    "test_data.head()"
   ]
  },
  {
   "cell_type": "code",
   "execution_count": 11,
   "id": "dbd09cf8",
   "metadata": {},
   "outputs": [
    {
     "name": "stdout",
     "output_type": "stream",
     "text": [
      "Number of rows: 1200\n",
      "Number of columns: 2\n",
      "Columns:['ID', 'Text']\n",
      "Minimum number of words per post: 1\n",
      "Maximum number of words per post: 1390\n",
      "Mean number of words per post: 39.68\n"
     ]
    }
   ],
   "source": [
    "# get statistics using helper function\n",
    "explore_dataset(test_data,'Text')"
   ]
  },
  {
   "cell_type": "code",
   "execution_count": 12,
   "id": "0792fc3d",
   "metadata": {},
   "outputs": [
    {
     "data": {
      "text/html": [
       "<div>\n",
       "<style scoped>\n",
       "    .dataframe tbody tr th:only-of-type {\n",
       "        vertical-align: middle;\n",
       "    }\n",
       "\n",
       "    .dataframe tbody tr th {\n",
       "        vertical-align: top;\n",
       "    }\n",
       "\n",
       "    .dataframe thead th {\n",
       "        text-align: right;\n",
       "    }\n",
       "</style>\n",
       "<table border=\"1\" class=\"dataframe\">\n",
       "  <thead>\n",
       "    <tr style=\"text-align: right;\">\n",
       "      <th></th>\n",
       "      <th>ID</th>\n",
       "      <th>Sub-task A</th>\n",
       "    </tr>\n",
       "  </thead>\n",
       "  <tbody>\n",
       "    <tr>\n",
       "      <th>0</th>\n",
       "      <td>YoutubeCorpus37</td>\n",
       "      <td>NAG</td>\n",
       "    </tr>\n",
       "    <tr>\n",
       "      <th>1</th>\n",
       "      <td>C37.1</td>\n",
       "      <td>NAG</td>\n",
       "    </tr>\n",
       "    <tr>\n",
       "      <th>2</th>\n",
       "      <td>C37.2</td>\n",
       "      <td>NAG</td>\n",
       "    </tr>\n",
       "    <tr>\n",
       "      <th>3</th>\n",
       "      <td>C37.3</td>\n",
       "      <td>NAG</td>\n",
       "    </tr>\n",
       "    <tr>\n",
       "      <th>4</th>\n",
       "      <td>C37.4</td>\n",
       "      <td>NAG</td>\n",
       "    </tr>\n",
       "  </tbody>\n",
       "</table>\n",
       "</div>"
      ],
      "text/plain": [
       "                ID Sub-task A\n",
       "0  YoutubeCorpus37        NAG\n",
       "1            C37.1        NAG\n",
       "2            C37.2        NAG\n",
       "3            C37.3        NAG\n",
       "4            C37.4        NAG"
      ]
     },
     "execution_count": 12,
     "metadata": {},
     "output_type": "execute_result"
    }
   ],
   "source": [
    "# inspect test labels for track a\n",
    "test_labels_a.head()"
   ]
  },
  {
   "cell_type": "code",
   "execution_count": 13,
   "id": "81fc312c",
   "metadata": {},
   "outputs": [
    {
     "data": {
      "text/html": [
       "<div>\n",
       "<style scoped>\n",
       "    .dataframe tbody tr th:only-of-type {\n",
       "        vertical-align: middle;\n",
       "    }\n",
       "\n",
       "    .dataframe tbody tr th {\n",
       "        vertical-align: top;\n",
       "    }\n",
       "\n",
       "    .dataframe thead th {\n",
       "        text-align: right;\n",
       "    }\n",
       "</style>\n",
       "<table border=\"1\" class=\"dataframe\">\n",
       "  <thead>\n",
       "    <tr style=\"text-align: right;\">\n",
       "      <th></th>\n",
       "      <th>ID</th>\n",
       "      <th>Sub-task B</th>\n",
       "    </tr>\n",
       "  </thead>\n",
       "  <tbody>\n",
       "    <tr>\n",
       "      <th>0</th>\n",
       "      <td>YoutubeCorpus37</td>\n",
       "      <td>NGEN</td>\n",
       "    </tr>\n",
       "    <tr>\n",
       "      <th>1</th>\n",
       "      <td>C37.1</td>\n",
       "      <td>NGEN</td>\n",
       "    </tr>\n",
       "    <tr>\n",
       "      <th>2</th>\n",
       "      <td>C37.2</td>\n",
       "      <td>NGEN</td>\n",
       "    </tr>\n",
       "    <tr>\n",
       "      <th>3</th>\n",
       "      <td>C37.3</td>\n",
       "      <td>NGEN</td>\n",
       "    </tr>\n",
       "    <tr>\n",
       "      <th>4</th>\n",
       "      <td>C37.4</td>\n",
       "      <td>NGEN</td>\n",
       "    </tr>\n",
       "  </tbody>\n",
       "</table>\n",
       "</div>"
      ],
      "text/plain": [
       "                ID Sub-task B\n",
       "0  YoutubeCorpus37       NGEN\n",
       "1            C37.1       NGEN\n",
       "2            C37.2       NGEN\n",
       "3            C37.3       NGEN\n",
       "4            C37.4       NGEN"
      ]
     },
     "execution_count": 13,
     "metadata": {},
     "output_type": "execute_result"
    }
   ],
   "source": [
    "# inspect test labels for track b\n",
    "test_labels_b.head()"
   ]
  },
  {
   "cell_type": "code",
   "execution_count": 14,
   "id": "f3a29b87",
   "metadata": {},
   "outputs": [
    {
     "data": {
      "image/png": "[encoded data removed]",
      "text/plain": [
       "<Figure size 432x288 with 1 Axes>"
      ]
     },
     "metadata": {
      "needs_background": "light"
     },
     "output_type": "display_data"
    }
   ],
   "source": [
    "plot_text_lenght(train_data, 'training data')"
   ]
  },
  {
   "cell_type": "code",
   "execution_count": 15,
   "id": "2712404c",
   "metadata": {},
   "outputs": [
    {
     "data": {
      "image/png": "[encoded data removed]",
      "text/plain": [
       "<Figure size 432x288 with 1 Axes>"
      ]
     },
     "metadata": {
      "needs_background": "light"
     },
     "output_type": "display_data"
    }
   ],
   "source": [
    "plot_text_lenght(dev_data, 'development data')"
   ]
  },
  {
   "cell_type": "code",
   "execution_count": 16,
   "id": "d5391509",
   "metadata": {},
   "outputs": [
    {
     "data": {
      "image/png": "[encoded data removed]",
      "text/plain": [
       "<Figure size 432x288 with 1 Axes>"
      ]
     },
     "metadata": {
      "needs_background": "light"
     },
     "output_type": "display_data"
    }
   ],
   "source": [
    "plot_text_lenght(test_data, 'test data')"
   ]
  },
  {
   "cell_type": "code",
   "execution_count": 40,
   "id": "72780faf",
   "metadata": {},
   "outputs": [
    {
     "data": {
      "text/plain": [
       "(0, 10]       59.91\n",
       "(10, 50]      33.40\n",
       "(50, 100]      4.50\n",
       "(100, 150]     1.31\n",
       "(150, 806]     0.87\n",
       "Name: text_lenght, dtype: float64"
      ]
     },
     "execution_count": 40,
     "metadata": {},
     "output_type": "execute_result"
    }
   ],
   "source": [
    "# lenght distribution in bins - training data\n",
    "lenght_bins(train_data, 'text_lenght')"
   ]
  },
  {
   "cell_type": "code",
   "execution_count": 42,
   "id": "80991757",
   "metadata": {},
   "outputs": [
    {
     "data": {
      "text/plain": [
       "(0, 10]       56.38\n",
       "(10, 50]      36.96\n",
       "(50, 100]      4.78\n",
       "(100, 150]     1.22\n",
       "(150, 457]     0.66\n",
       "Name: text_lenght, dtype: float64"
      ]
     },
     "execution_count": 42,
     "metadata": {},
     "output_type": "execute_result"
    }
   ],
   "source": [
    "# lenght distribution in bins - development data\n",
    "lenght_bins(dev_data, 'text_lenght')"
   ]
  },
  {
   "cell_type": "code",
   "execution_count": 43,
   "id": "4ce42eba",
   "metadata": {},
   "outputs": [
    {
     "data": {
      "text/plain": [
       "(0, 10]        48.00\n",
       "(10, 50]       29.42\n",
       "(50, 100]      13.42\n",
       "(100, 150]      4.83\n",
       "(150, 1390]     4.33\n",
       "Name: text_lenght, dtype: float64"
      ]
     },
     "execution_count": 43,
     "metadata": {},
     "output_type": "execute_result"
    }
   ],
   "source": [
    "# lenght distribution in bins - development data\n",
    "lenght_bins(test_data, 'text_lenght')"
   ]
  },
  {
   "cell_type": "markdown",
   "id": "4f2c77ee",
   "metadata": {},
   "source": [
    "- Training data: The lenght of the text is highly skewed, with a mean of ~17 words, a minimum of 1 word and a maximum of 806. About ~98% of the examples are between 1 and 100 words. \n",
    "- Development data: The lenght of the text is also highly skewed, with a mean of ~17 words, a minimum of 1 word and a maximum of 457. About ~98% of the examples are between 1 and 100 words. \n",
    "- Test data: The lenght of the text is also highly skewed, with a mean of ~40 words, a minimum of 1 word and a maximum of 1390. The test dataset seems to have longer text. About ~91% of the examples are between 1 and 100 words. "
   ]
  },
  {
   "cell_type": "markdown",
   "id": "0f81af1e",
   "metadata": {},
   "source": [
    "### Labels\n",
    "\n",
    "The classes are imbalanced. \n",
    "\n",
    "- For task A- About 80% of the data is composed by non-aggresive comments.\n",
    "- For task B- About 93% of the data is composed by non-aggresive comments.\n",
    "\n",
    "For the purpose of the project we will focus on the task A. Identify aggressiveness in posts."
   ]
  },
  {
   "cell_type": "code",
   "execution_count": 19,
   "id": "1fe50b0c",
   "metadata": {},
   "outputs": [
    {
     "data": {
      "text/html": [
       "<div>\n",
       "<style scoped>\n",
       "    .dataframe tbody tr th:only-of-type {\n",
       "        vertical-align: middle;\n",
       "    }\n",
       "\n",
       "    .dataframe tbody tr th {\n",
       "        vertical-align: top;\n",
       "    }\n",
       "\n",
       "    .dataframe thead th {\n",
       "        text-align: right;\n",
       "    }\n",
       "</style>\n",
       "<table border=\"1\" class=\"dataframe\">\n",
       "  <thead>\n",
       "    <tr style=\"text-align: right;\">\n",
       "      <th></th>\n",
       "      <th>Sub-task A</th>\n",
       "      <th>count</th>\n",
       "      <th>percentage</th>\n",
       "    </tr>\n",
       "  </thead>\n",
       "  <tbody>\n",
       "    <tr>\n",
       "      <th>0</th>\n",
       "      <td>CAG</td>\n",
       "      <td>453</td>\n",
       "      <td>10.63</td>\n",
       "    </tr>\n",
       "    <tr>\n",
       "      <th>1</th>\n",
       "      <td>NAG</td>\n",
       "      <td>3375</td>\n",
       "      <td>79.17</td>\n",
       "    </tr>\n",
       "    <tr>\n",
       "      <th>2</th>\n",
       "      <td>OAG</td>\n",
       "      <td>435</td>\n",
       "      <td>10.20</td>\n",
       "    </tr>\n",
       "  </tbody>\n",
       "</table>\n",
       "</div>"
      ],
      "text/plain": [
       "  Sub-task A  count  percentage\n",
       "0        CAG    453       10.63\n",
       "1        NAG   3375       79.17\n",
       "2        OAG    435       10.20"
      ]
     },
     "execution_count": 19,
     "metadata": {},
     "output_type": "execute_result"
    }
   ],
   "source": [
    "# Explore the label distribution for the sub-task A\n",
    "\n",
    "cat_distribution(train_data,'Sub-task A')"
   ]
  },
  {
   "cell_type": "code",
   "execution_count": 20,
   "id": "127b5a6f",
   "metadata": {},
   "outputs": [
    {
     "data": {
      "text/html": [
       "<div>\n",
       "<style scoped>\n",
       "    .dataframe tbody tr th:only-of-type {\n",
       "        vertical-align: middle;\n",
       "    }\n",
       "\n",
       "    .dataframe tbody tr th {\n",
       "        vertical-align: top;\n",
       "    }\n",
       "\n",
       "    .dataframe thead th {\n",
       "        text-align: right;\n",
       "    }\n",
       "</style>\n",
       "<table border=\"1\" class=\"dataframe\">\n",
       "  <thead>\n",
       "    <tr style=\"text-align: right;\">\n",
       "      <th></th>\n",
       "      <th>Sub-task A</th>\n",
       "      <th>count</th>\n",
       "      <th>percentage</th>\n",
       "    </tr>\n",
       "  </thead>\n",
       "  <tbody>\n",
       "    <tr>\n",
       "      <th>0</th>\n",
       "      <td>CAG</td>\n",
       "      <td>117</td>\n",
       "      <td>10.98</td>\n",
       "    </tr>\n",
       "    <tr>\n",
       "      <th>1</th>\n",
       "      <td>NAG</td>\n",
       "      <td>836</td>\n",
       "      <td>78.42</td>\n",
       "    </tr>\n",
       "    <tr>\n",
       "      <th>2</th>\n",
       "      <td>OAG</td>\n",
       "      <td>113</td>\n",
       "      <td>10.60</td>\n",
       "    </tr>\n",
       "  </tbody>\n",
       "</table>\n",
       "</div>"
      ],
      "text/plain": [
       "  Sub-task A  count  percentage\n",
       "0        CAG    117       10.98\n",
       "1        NAG    836       78.42\n",
       "2        OAG    113       10.60"
      ]
     },
     "execution_count": 20,
     "metadata": {},
     "output_type": "execute_result"
    }
   ],
   "source": [
    "cat_distribution(dev_data,'Sub-task A')"
   ]
  },
  {
   "cell_type": "code",
   "execution_count": 21,
   "id": "6876c982",
   "metadata": {},
   "outputs": [
    {
     "data": {
      "text/html": [
       "<div>\n",
       "<style scoped>\n",
       "    .dataframe tbody tr th:only-of-type {\n",
       "        vertical-align: middle;\n",
       "    }\n",
       "\n",
       "    .dataframe tbody tr th {\n",
       "        vertical-align: top;\n",
       "    }\n",
       "\n",
       "    .dataframe thead th {\n",
       "        text-align: right;\n",
       "    }\n",
       "</style>\n",
       "<table border=\"1\" class=\"dataframe\">\n",
       "  <thead>\n",
       "    <tr style=\"text-align: right;\">\n",
       "      <th></th>\n",
       "      <th>Sub-task B</th>\n",
       "      <th>count</th>\n",
       "      <th>percentage</th>\n",
       "    </tr>\n",
       "  </thead>\n",
       "  <tbody>\n",
       "    <tr>\n",
       "      <th>0</th>\n",
       "      <td>GEN</td>\n",
       "      <td>309</td>\n",
       "      <td>7.25</td>\n",
       "    </tr>\n",
       "    <tr>\n",
       "      <th>1</th>\n",
       "      <td>NGEN</td>\n",
       "      <td>3954</td>\n",
       "      <td>92.75</td>\n",
       "    </tr>\n",
       "  </tbody>\n",
       "</table>\n",
       "</div>"
      ],
      "text/plain": [
       "  Sub-task B  count  percentage\n",
       "0        GEN    309        7.25\n",
       "1       NGEN   3954       92.75"
      ]
     },
     "execution_count": 21,
     "metadata": {},
     "output_type": "execute_result"
    }
   ],
   "source": [
    "cat_distribution(train_data,'Sub-task B')"
   ]
  },
  {
   "cell_type": "code",
   "execution_count": 22,
   "id": "72627eb8",
   "metadata": {
    "scrolled": true
   },
   "outputs": [
    {
     "data": {
      "text/html": [
       "<div>\n",
       "<style scoped>\n",
       "    .dataframe tbody tr th:only-of-type {\n",
       "        vertical-align: middle;\n",
       "    }\n",
       "\n",
       "    .dataframe tbody tr th {\n",
       "        vertical-align: top;\n",
       "    }\n",
       "\n",
       "    .dataframe thead th {\n",
       "        text-align: right;\n",
       "    }\n",
       "</style>\n",
       "<table border=\"1\" class=\"dataframe\">\n",
       "  <thead>\n",
       "    <tr style=\"text-align: right;\">\n",
       "      <th></th>\n",
       "      <th>Sub-task B</th>\n",
       "      <th>count</th>\n",
       "      <th>percentage</th>\n",
       "    </tr>\n",
       "  </thead>\n",
       "  <tbody>\n",
       "    <tr>\n",
       "      <th>0</th>\n",
       "      <td>GEN</td>\n",
       "      <td>73</td>\n",
       "      <td>6.85</td>\n",
       "    </tr>\n",
       "    <tr>\n",
       "      <th>1</th>\n",
       "      <td>NGEN</td>\n",
       "      <td>993</td>\n",
       "      <td>93.15</td>\n",
       "    </tr>\n",
       "  </tbody>\n",
       "</table>\n",
       "</div>"
      ],
      "text/plain": [
       "  Sub-task B  count  percentage\n",
       "0        GEN     73        6.85\n",
       "1       NGEN    993       93.15"
      ]
     },
     "execution_count": 22,
     "metadata": {},
     "output_type": "execute_result"
    }
   ],
   "source": [
    "cat_distribution(dev_data,'Sub-task B')"
   ]
  },
  {
   "cell_type": "markdown",
   "id": "61f61a0b",
   "metadata": {},
   "source": [
    "## Datasets with gender data in posts and responses\n",
    "\n",
    "This is the RTGender corpus. It is composed by data from facebook, reddit, ted and fitocracy (Paper: https://github.com/ipietri/w266_Final_Project/blob/master/papers/RtGender-A%20Corpus%20for%20Studying%20Differential%20Responses%20to%20Gender.pdf)\n",
    "\n",
    "The authors invested a lot of time scrapping data and assigning gender to posts.\n",
    "\n",
    "We need to see how we are going to build our dataset based on these datasets. \n",
    "\n",
    "We could also add other dataset with gender data if we find any of interest (maybe we could focus only on 3-4 platforms?)\n"
   ]
  },
  {
   "cell_type": "markdown",
   "id": "7942533b",
   "metadata": {},
   "source": [
    "### Reddit dataset"
   ]
  },
  {
   "cell_type": "code",
   "execution_count": 23,
   "id": "c60e0e55",
   "metadata": {},
   "outputs": [
    {
     "data": {
      "text/html": [
       "<div>\n",
       "<style scoped>\n",
       "    .dataframe tbody tr th:only-of-type {\n",
       "        vertical-align: middle;\n",
       "    }\n",
       "\n",
       "    .dataframe tbody tr th {\n",
       "        vertical-align: top;\n",
       "    }\n",
       "\n",
       "    .dataframe thead th {\n",
       "        text-align: right;\n",
       "    }\n",
       "</style>\n",
       "<table border=\"1\" class=\"dataframe\">\n",
       "  <thead>\n",
       "    <tr style=\"text-align: right;\">\n",
       "      <th></th>\n",
       "      <th>op_id</th>\n",
       "      <th>op_gender</th>\n",
       "      <th>post_id</th>\n",
       "      <th>post_text</th>\n",
       "      <th>subreddit</th>\n",
       "      <th>op_gender_visible</th>\n",
       "    </tr>\n",
       "  </thead>\n",
       "  <tbody>\n",
       "    <tr>\n",
       "      <th>0</th>\n",
       "      <td>Kastoli</td>\n",
       "      <td>M</td>\n",
       "      <td>0</td>\n",
       "      <td>slayer task perhaps?</td>\n",
       "      <td>2007scape</td>\n",
       "      <td>False</td>\n",
       "    </tr>\n",
       "    <tr>\n",
       "      <th>1</th>\n",
       "      <td>Kastoli</td>\n",
       "      <td>M</td>\n",
       "      <td>1</td>\n",
       "      <td>Black DHide legs, possibly an initiate pure?</td>\n",
       "      <td>2007scape</td>\n",
       "      <td>False</td>\n",
       "    </tr>\n",
       "    <tr>\n",
       "      <th>2</th>\n",
       "      <td>DCBizzle</td>\n",
       "      <td>M</td>\n",
       "      <td>2</td>\n",
       "      <td>Whats a tonk? lol</td>\n",
       "      <td>2007scape</td>\n",
       "      <td>False</td>\n",
       "    </tr>\n",
       "    <tr>\n",
       "      <th>3</th>\n",
       "      <td>ordona</td>\n",
       "      <td>M</td>\n",
       "      <td>3</td>\n",
       "      <td>Do the Stronghold of Security for a free 10k t...</td>\n",
       "      <td>2007scape</td>\n",
       "      <td>False</td>\n",
       "    </tr>\n",
       "    <tr>\n",
       "      <th>4</th>\n",
       "      <td>SlayerMaster</td>\n",
       "      <td>M</td>\n",
       "      <td>4</td>\n",
       "      <td>I cant tell if this guy just doesnt speak Engl...</td>\n",
       "      <td>2007scape</td>\n",
       "      <td>False</td>\n",
       "    </tr>\n",
       "  </tbody>\n",
       "</table>\n",
       "</div>"
      ],
      "text/plain": [
       "          op_id op_gender  post_id  \\\n",
       "0       Kastoli         M        0   \n",
       "1       Kastoli         M        1   \n",
       "2      DCBizzle         M        2   \n",
       "3        ordona         M        3   \n",
       "4  SlayerMaster         M        4   \n",
       "\n",
       "                                           post_text  subreddit  \\\n",
       "0                               slayer task perhaps?  2007scape   \n",
       "1       Black DHide legs, possibly an initiate pure?  2007scape   \n",
       "2                                  Whats a tonk? lol  2007scape   \n",
       "3  Do the Stronghold of Security for a free 10k t...  2007scape   \n",
       "4  I cant tell if this guy just doesnt speak Engl...  2007scape   \n",
       "\n",
       "   op_gender_visible  \n",
       "0              False  \n",
       "1              False  \n",
       "2              False  \n",
       "3              False  \n",
       "4              False  "
      ]
     },
     "execution_count": 23,
     "metadata": {},
     "output_type": "execute_result"
    }
   ],
   "source": [
    "reddit_posts.head()"
   ]
  },
  {
   "cell_type": "code",
   "execution_count": 24,
   "id": "2f87d55b",
   "metadata": {},
   "outputs": [
    {
     "data": {
      "text/html": [
       "<div>\n",
       "<style scoped>\n",
       "    .dataframe tbody tr th:only-of-type {\n",
       "        vertical-align: middle;\n",
       "    }\n",
       "\n",
       "    .dataframe tbody tr th {\n",
       "        vertical-align: top;\n",
       "    }\n",
       "\n",
       "    .dataframe thead th {\n",
       "        text-align: right;\n",
       "    }\n",
       "</style>\n",
       "<table border=\"1\" class=\"dataframe\">\n",
       "  <thead>\n",
       "    <tr style=\"text-align: right;\">\n",
       "      <th></th>\n",
       "      <th>op_id</th>\n",
       "      <th>op_gender</th>\n",
       "      <th>post_id</th>\n",
       "      <th>responder_id</th>\n",
       "      <th>response_text</th>\n",
       "      <th>subreddit</th>\n",
       "      <th>responder_gender</th>\n",
       "      <th>responder_gender_visible</th>\n",
       "    </tr>\n",
       "  </thead>\n",
       "  <tbody>\n",
       "    <tr>\n",
       "      <th>0</th>\n",
       "      <td>Kastoli</td>\n",
       "      <td>M</td>\n",
       "      <td>0</td>\n",
       "      <td>Thunda_Storm</td>\n",
       "      <td>or low level. I mean hes wearing black armour ...</td>\n",
       "      <td>2007scape</td>\n",
       "      <td>NaN</td>\n",
       "      <td>unknown_gender</td>\n",
       "    </tr>\n",
       "    <tr>\n",
       "      <th>1</th>\n",
       "      <td>Kastoli</td>\n",
       "      <td>M</td>\n",
       "      <td>1</td>\n",
       "      <td>Thunda_Storm</td>\n",
       "      <td>So... Low level</td>\n",
       "      <td>2007scape</td>\n",
       "      <td>NaN</td>\n",
       "      <td>unknown_gender</td>\n",
       "    </tr>\n",
       "    <tr>\n",
       "      <th>2</th>\n",
       "      <td>DCBizzle</td>\n",
       "      <td>M</td>\n",
       "      <td>2</td>\n",
       "      <td>minixmatt</td>\n",
       "      <td>&lt;link&gt;  TONK, TONK</td>\n",
       "      <td>2007scape</td>\n",
       "      <td>NaN</td>\n",
       "      <td>unknown_gender</td>\n",
       "    </tr>\n",
       "    <tr>\n",
       "      <th>3</th>\n",
       "      <td>ordona</td>\n",
       "      <td>M</td>\n",
       "      <td>3</td>\n",
       "      <td>Namiweso</td>\n",
       "      <td>Thanks I forgot about that place! :)</td>\n",
       "      <td>2007scape</td>\n",
       "      <td>NaN</td>\n",
       "      <td>unknown_gender</td>\n",
       "    </tr>\n",
       "    <tr>\n",
       "      <th>4</th>\n",
       "      <td>SlayerMaster</td>\n",
       "      <td>M</td>\n",
       "      <td>4</td>\n",
       "      <td>Quantization</td>\n",
       "      <td>Or hes just trolling.</td>\n",
       "      <td>2007scape</td>\n",
       "      <td>NaN</td>\n",
       "      <td>unknown_gender</td>\n",
       "    </tr>\n",
       "  </tbody>\n",
       "</table>\n",
       "</div>"
      ],
      "text/plain": [
       "          op_id op_gender  post_id  responder_id  \\\n",
       "0       Kastoli         M        0  Thunda_Storm   \n",
       "1       Kastoli         M        1  Thunda_Storm   \n",
       "2      DCBizzle         M        2     minixmatt   \n",
       "3        ordona         M        3      Namiweso   \n",
       "4  SlayerMaster         M        4  Quantization   \n",
       "\n",
       "                                       response_text  subreddit  \\\n",
       "0  or low level. I mean hes wearing black armour ...  2007scape   \n",
       "1                                    So... Low level  2007scape   \n",
       "2                                 <link>  TONK, TONK  2007scape   \n",
       "3               Thanks I forgot about that place! :)  2007scape   \n",
       "4                              Or hes just trolling.  2007scape   \n",
       "\n",
       "  responder_gender responder_gender_visible  \n",
       "0              NaN           unknown_gender  \n",
       "1              NaN           unknown_gender  \n",
       "2              NaN           unknown_gender  \n",
       "3              NaN           unknown_gender  \n",
       "4              NaN           unknown_gender  "
      ]
     },
     "execution_count": 24,
     "metadata": {},
     "output_type": "execute_result"
    }
   ],
   "source": [
    "reddit_responses.head()"
   ]
  },
  {
   "cell_type": "code",
   "execution_count": 25,
   "id": "c09aa9a7",
   "metadata": {},
   "outputs": [
    {
     "name": "stdout",
     "output_type": "stream",
     "text": [
      "Number of rows: 1453512\n",
      "Number of columns: 6\n",
      "Columns:['op_id', 'op_gender', 'post_id', 'post_text', 'subreddit', 'op_gender_visible']\n",
      "Minimum number of words per post: 1\n",
      "Maximum number of words per post: 2050\n",
      "Mean number of words per post: 36.61\n"
     ]
    }
   ],
   "source": [
    "explore_dataset(reddit_posts, 'post_text')"
   ]
  },
  {
   "cell_type": "code",
   "execution_count": 26,
   "id": "38178f0b",
   "metadata": {},
   "outputs": [
    {
     "name": "stdout",
     "output_type": "stream",
     "text": [
      "Number of rows: 1453512\n",
      "Number of columns: 8\n",
      "Columns:['op_id', 'op_gender', 'post_id', 'responder_id', 'response_text', 'subreddit', 'responder_gender', 'responder_gender_visible']\n",
      "Minimum number of words per post: 1\n",
      "Maximum number of words per post: 2595\n",
      "Mean number of words per post: 30.64\n"
     ]
    }
   ],
   "source": [
    "explore_dataset(reddit_responses,'response_text')"
   ]
  },
  {
   "cell_type": "code",
   "execution_count": 27,
   "id": "cf8b7b26",
   "metadata": {},
   "outputs": [
    {
     "data": {
      "image/png": "[encoded data removed]",
      "text/plain": [
       "<Figure size 432x288 with 1 Axes>"
      ]
     },
     "metadata": {
      "needs_background": "light"
     },
     "output_type": "display_data"
    }
   ],
   "source": [
    "plot_text_lenght(reddit_posts, 'Reddit Posts')"
   ]
  },
  {
   "cell_type": "code",
   "execution_count": 28,
   "id": "3c409697",
   "metadata": {
    "scrolled": true
   },
   "outputs": [
    {
     "data": {
      "image/png": "[encoded data removed]",
      "text/plain": [
       "<Figure size 432x288 with 1 Axes>"
      ]
     },
     "metadata": {
      "needs_background": "light"
     },
     "output_type": "display_data"
    }
   ],
   "source": [
    "plot_text_lenght(reddit_responses, 'Reddit Responses')"
   ]
  },
  {
   "cell_type": "code",
   "execution_count": 29,
   "id": "8f0daba8",
   "metadata": {},
   "outputs": [
    {
     "data": {
      "text/html": [
       "<div>\n",
       "<style scoped>\n",
       "    .dataframe tbody tr th:only-of-type {\n",
       "        vertical-align: middle;\n",
       "    }\n",
       "\n",
       "    .dataframe tbody tr th {\n",
       "        vertical-align: top;\n",
       "    }\n",
       "\n",
       "    .dataframe thead th {\n",
       "        text-align: right;\n",
       "    }\n",
       "</style>\n",
       "<table border=\"1\" class=\"dataframe\">\n",
       "  <thead>\n",
       "    <tr style=\"text-align: right;\">\n",
       "      <th></th>\n",
       "      <th>op_gender</th>\n",
       "      <th>count</th>\n",
       "      <th>percentage</th>\n",
       "    </tr>\n",
       "  </thead>\n",
       "  <tbody>\n",
       "    <tr>\n",
       "      <th>0</th>\n",
       "      <td>M</td>\n",
       "      <td>1148591</td>\n",
       "      <td>79.02</td>\n",
       "    </tr>\n",
       "    <tr>\n",
       "      <th>1</th>\n",
       "      <td>W</td>\n",
       "      <td>304921</td>\n",
       "      <td>20.98</td>\n",
       "    </tr>\n",
       "  </tbody>\n",
       "</table>\n",
       "</div>"
      ],
      "text/plain": [
       "  op_gender    count  percentage\n",
       "0         M  1148591       79.02\n",
       "1         W   304921       20.98"
      ]
     },
     "execution_count": 29,
     "metadata": {},
     "output_type": "execute_result"
    }
   ],
   "source": [
    "# number of women/men posts. Men post more.\n",
    "cat_distribution(reddit_responses, 'op_gender')"
   ]
  },
  {
   "cell_type": "markdown",
   "id": "16a336aa",
   "metadata": {},
   "source": [
    "### Fitocracy dataset"
   ]
  },
  {
   "cell_type": "code",
   "execution_count": 30,
   "id": "7008a3a6",
   "metadata": {},
   "outputs": [
    {
     "data": {
      "text/html": [
       "<div>\n",
       "<style scoped>\n",
       "    .dataframe tbody tr th:only-of-type {\n",
       "        vertical-align: middle;\n",
       "    }\n",
       "\n",
       "    .dataframe tbody tr th {\n",
       "        vertical-align: top;\n",
       "    }\n",
       "\n",
       "    .dataframe thead th {\n",
       "        text-align: right;\n",
       "    }\n",
       "</style>\n",
       "<table border=\"1\" class=\"dataframe\">\n",
       "  <thead>\n",
       "    <tr style=\"text-align: right;\">\n",
       "      <th></th>\n",
       "      <th>op_id</th>\n",
       "      <th>op_gender</th>\n",
       "      <th>post_id</th>\n",
       "      <th>post_text</th>\n",
       "    </tr>\n",
       "  </thead>\n",
       "  <tbody>\n",
       "    <tr>\n",
       "      <th>0</th>\n",
       "      <td>102</td>\n",
       "      <td>W</td>\n",
       "      <td>0</td>\n",
       "      <td>Thanks for the follow!  I followed back :)  I ...</td>\n",
       "    </tr>\n",
       "    <tr>\n",
       "      <th>1</th>\n",
       "      <td>104</td>\n",
       "      <td>W</td>\n",
       "      <td>1</td>\n",
       "      <td>I've decided I have this crazy goal of running...</td>\n",
       "    </tr>\n",
       "    <tr>\n",
       "      <th>2</th>\n",
       "      <td>104</td>\n",
       "      <td>W</td>\n",
       "      <td>2</td>\n",
       "      <td>Umm, yeah, so those are assisted pull-ups. Bef...</td>\n",
       "    </tr>\n",
       "    <tr>\n",
       "      <th>3</th>\n",
       "      <td>117</td>\n",
       "      <td>M</td>\n",
       "      <td>3</td>\n",
       "      <td>dam gurl lookin mad tone in dat pp holla bb</td>\n",
       "    </tr>\n",
       "    <tr>\n",
       "      <th>4</th>\n",
       "      <td>117</td>\n",
       "      <td>M</td>\n",
       "      <td>4</td>\n",
       "      <td>What's up there bear mode?</td>\n",
       "    </tr>\n",
       "  </tbody>\n",
       "</table>\n",
       "</div>"
      ],
      "text/plain": [
       "   op_id op_gender  post_id                                          post_text\n",
       "0    102         W        0  Thanks for the follow!  I followed back :)  I ...\n",
       "1    104         W        1  I've decided I have this crazy goal of running...\n",
       "2    104         W        2  Umm, yeah, so those are assisted pull-ups. Bef...\n",
       "3    117         M        3        dam gurl lookin mad tone in dat pp holla bb\n",
       "4    117         M        4                         What's up there bear mode?"
      ]
     },
     "execution_count": 30,
     "metadata": {},
     "output_type": "execute_result"
    }
   ],
   "source": [
    "fitocracy_posts.head()"
   ]
  },
  {
   "cell_type": "code",
   "execution_count": 31,
   "id": "b7f87fef",
   "metadata": {},
   "outputs": [
    {
     "data": {
      "text/html": [
       "<div>\n",
       "<style scoped>\n",
       "    .dataframe tbody tr th:only-of-type {\n",
       "        vertical-align: middle;\n",
       "    }\n",
       "\n",
       "    .dataframe tbody tr th {\n",
       "        vertical-align: top;\n",
       "    }\n",
       "\n",
       "    .dataframe thead th {\n",
       "        text-align: right;\n",
       "    }\n",
       "</style>\n",
       "<table border=\"1\" class=\"dataframe\">\n",
       "  <thead>\n",
       "    <tr style=\"text-align: right;\">\n",
       "      <th></th>\n",
       "      <th>op_id</th>\n",
       "      <th>op_gender</th>\n",
       "      <th>post_id</th>\n",
       "      <th>responder_id</th>\n",
       "      <th>response_text</th>\n",
       "      <th>responder_gender</th>\n",
       "    </tr>\n",
       "  </thead>\n",
       "  <tbody>\n",
       "    <tr>\n",
       "      <th>0</th>\n",
       "      <td>102</td>\n",
       "      <td>W</td>\n",
       "      <td>0</td>\n",
       "      <td>1196122</td>\n",
       "      <td>One day at a time! =]</td>\n",
       "      <td>M</td>\n",
       "    </tr>\n",
       "    <tr>\n",
       "      <th>1</th>\n",
       "      <td>104</td>\n",
       "      <td>W</td>\n",
       "      <td>1</td>\n",
       "      <td>5867</td>\n",
       "      <td>Crazy is synonymous with awesome in this case.</td>\n",
       "      <td>W</td>\n",
       "    </tr>\n",
       "    <tr>\n",
       "      <th>2</th>\n",
       "      <td>104</td>\n",
       "      <td>W</td>\n",
       "      <td>2</td>\n",
       "      <td>1635</td>\n",
       "      <td>You can enter assisted pullups. Select pullups...</td>\n",
       "      <td>M</td>\n",
       "    </tr>\n",
       "    <tr>\n",
       "      <th>3</th>\n",
       "      <td>117</td>\n",
       "      <td>M</td>\n",
       "      <td>3</td>\n",
       "      <td>8520</td>\n",
       "      <td>Mirin 3% bodyfat? Yeah, you are.</td>\n",
       "      <td>W</td>\n",
       "    </tr>\n",
       "    <tr>\n",
       "      <th>4</th>\n",
       "      <td>117</td>\n",
       "      <td>M</td>\n",
       "      <td>4</td>\n",
       "      <td>29126</td>\n",
       "      <td>Hey! I just started a new job, so things are s...</td>\n",
       "      <td>M</td>\n",
       "    </tr>\n",
       "  </tbody>\n",
       "</table>\n",
       "</div>"
      ],
      "text/plain": [
       "   op_id op_gender  post_id  responder_id  \\\n",
       "0    102         W        0       1196122   \n",
       "1    104         W        1          5867   \n",
       "2    104         W        2          1635   \n",
       "3    117         M        3          8520   \n",
       "4    117         M        4         29126   \n",
       "\n",
       "                                       response_text responder_gender  \n",
       "0                              One day at a time! =]                M  \n",
       "1     Crazy is synonymous with awesome in this case.                W  \n",
       "2  You can enter assisted pullups. Select pullups...                M  \n",
       "3                   Mirin 3% bodyfat? Yeah, you are.                W  \n",
       "4  Hey! I just started a new job, so things are s...                M  "
      ]
     },
     "execution_count": 31,
     "metadata": {},
     "output_type": "execute_result"
    }
   ],
   "source": [
    "fitocracy_responses.head()"
   ]
  },
  {
   "cell_type": "code",
   "execution_count": 32,
   "id": "aca207bb",
   "metadata": {},
   "outputs": [
    {
     "name": "stdout",
     "output_type": "stream",
     "text": [
      "Number of rows: 318535\n",
      "Number of columns: 4\n",
      "Columns:['op_id', 'op_gender', 'post_id', 'post_text']\n",
      "Minimum number of words per post: 1\n",
      "Maximum number of words per post: 777\n",
      "Mean number of words per post: 14.62\n"
     ]
    }
   ],
   "source": [
    "explore_dataset(fitocracy_posts, 'post_text')"
   ]
  },
  {
   "cell_type": "code",
   "execution_count": 33,
   "id": "e8d887e3",
   "metadata": {},
   "outputs": [
    {
     "name": "stdout",
     "output_type": "stream",
     "text": [
      "Number of rows: 318535\n",
      "Number of columns: 6\n",
      "Columns:['op_id', 'op_gender', 'post_id', 'responder_id', 'response_text', 'responder_gender']\n",
      "Minimum number of words per post: 1\n",
      "Maximum number of words per post: 829\n",
      "Mean number of words per post: 20.74\n"
     ]
    }
   ],
   "source": [
    "explore_dataset(fitocracy_responses, 'response_text')"
   ]
  },
  {
   "cell_type": "code",
   "execution_count": 34,
   "id": "2ddddeae",
   "metadata": {},
   "outputs": [
    {
     "data": {
      "image/png": "[encoded data removed]",
      "text/plain": [
       "<Figure size 432x288 with 1 Axes>"
      ]
     },
     "metadata": {
      "needs_background": "light"
     },
     "output_type": "display_data"
    }
   ],
   "source": [
    "plot_text_lenght(fitocracy_posts, 'Fitocracy Posts')"
   ]
  },
  {
   "cell_type": "code",
   "execution_count": 35,
   "id": "fe05e931",
   "metadata": {},
   "outputs": [
    {
     "data": {
      "image/png": "[encoded data removed]",
      "text/plain": [
       "<Figure size 432x288 with 1 Axes>"
      ]
     },
     "metadata": {
      "needs_background": "light"
     },
     "output_type": "display_data"
    }
   ],
   "source": [
    "plot_text_lenght(fitocracy_posts, 'Fitocracy Responses')"
   ]
  },
  {
   "cell_type": "code",
   "execution_count": 36,
   "id": "4851bbdb",
   "metadata": {},
   "outputs": [
    {
     "data": {
      "text/html": [
       "<div>\n",
       "<style scoped>\n",
       "    .dataframe tbody tr th:only-of-type {\n",
       "        vertical-align: middle;\n",
       "    }\n",
       "\n",
       "    .dataframe tbody tr th {\n",
       "        vertical-align: top;\n",
       "    }\n",
       "\n",
       "    .dataframe thead th {\n",
       "        text-align: right;\n",
       "    }\n",
       "</style>\n",
       "<table border=\"1\" class=\"dataframe\">\n",
       "  <thead>\n",
       "    <tr style=\"text-align: right;\">\n",
       "      <th></th>\n",
       "      <th>op_gender</th>\n",
       "      <th>count</th>\n",
       "      <th>percentage</th>\n",
       "    </tr>\n",
       "  </thead>\n",
       "  <tbody>\n",
       "    <tr>\n",
       "      <th>0</th>\n",
       "      <td>M</td>\n",
       "      <td>173738</td>\n",
       "      <td>54.54</td>\n",
       "    </tr>\n",
       "    <tr>\n",
       "      <th>1</th>\n",
       "      <td>W</td>\n",
       "      <td>144797</td>\n",
       "      <td>45.46</td>\n",
       "    </tr>\n",
       "  </tbody>\n",
       "</table>\n",
       "</div>"
      ],
      "text/plain": [
       "  op_gender   count  percentage\n",
       "0         M  173738       54.54\n",
       "1         W  144797       45.46"
      ]
     },
     "execution_count": 36,
     "metadata": {},
     "output_type": "execute_result"
    }
   ],
   "source": [
    "# number of women/men posts. Much more balanced ~50/50\n",
    "cat_distribution(fitocracy_responses, 'op_gender')"
   ]
  },
  {
   "cell_type": "markdown",
   "id": "e065fa11",
   "metadata": {},
   "source": [
    "### TED dataset"
   ]
  },
  {
   "cell_type": "code",
   "execution_count": 37,
   "id": "7b957e52",
   "metadata": {},
   "outputs": [
    {
     "data": {
      "text/html": [
       "<div>\n",
       "<style scoped>\n",
       "    .dataframe tbody tr th:only-of-type {\n",
       "        vertical-align: middle;\n",
       "    }\n",
       "\n",
       "    .dataframe tbody tr th {\n",
       "        vertical-align: top;\n",
       "    }\n",
       "\n",
       "    .dataframe thead th {\n",
       "        text-align: right;\n",
       "    }\n",
       "</style>\n",
       "<table border=\"1\" class=\"dataframe\">\n",
       "  <thead>\n",
       "    <tr style=\"text-align: right;\">\n",
       "      <th></th>\n",
       "      <th>op_id</th>\n",
       "      <th>op_gender</th>\n",
       "      <th>post_id</th>\n",
       "      <th>responder_id</th>\n",
       "      <th>response_text</th>\n",
       "    </tr>\n",
       "  </thead>\n",
       "  <tbody>\n",
       "    <tr>\n",
       "      <th>0</th>\n",
       "      <td>Aimee Mullins</td>\n",
       "      <td>W</td>\n",
       "      <td>0</td>\n",
       "      <td>Laura</td>\n",
       "      <td>She seems like a truly amazing person, regardl...</td>\n",
       "    </tr>\n",
       "    <tr>\n",
       "      <th>1</th>\n",
       "      <td>Aimee Mullins</td>\n",
       "      <td>W</td>\n",
       "      <td>1</td>\n",
       "      <td>Ellen</td>\n",
       "      <td>Aimee's true \"disability\" is when people treat...</td>\n",
       "    </tr>\n",
       "    <tr>\n",
       "      <th>2</th>\n",
       "      <td>Aimee Mullins</td>\n",
       "      <td>W</td>\n",
       "      <td>2</td>\n",
       "      <td>Tanya</td>\n",
       "      <td>I love that she took away some of the mystery ...</td>\n",
       "    </tr>\n",
       "    <tr>\n",
       "      <th>3</th>\n",
       "      <td>Aimee Mullins</td>\n",
       "      <td>W</td>\n",
       "      <td>3</td>\n",
       "      <td>Salim</td>\n",
       "      <td>VERY inspiring indeed! I love these TED antiqu...</td>\n",
       "    </tr>\n",
       "    <tr>\n",
       "      <th>4</th>\n",
       "      <td>Aimee Mullins</td>\n",
       "      <td>W</td>\n",
       "      <td>4</td>\n",
       "      <td>Kiruba</td>\n",
       "      <td>We take running so much for granted that most ...</td>\n",
       "    </tr>\n",
       "  </tbody>\n",
       "</table>\n",
       "</div>"
      ],
      "text/plain": [
       "           op_id op_gender  post_id responder_id  \\\n",
       "0  Aimee Mullins         W        0        Laura   \n",
       "1  Aimee Mullins         W        1        Ellen   \n",
       "2  Aimee Mullins         W        2        Tanya   \n",
       "3  Aimee Mullins         W        3        Salim   \n",
       "4  Aimee Mullins         W        4       Kiruba   \n",
       "\n",
       "                                       response_text  \n",
       "0  She seems like a truly amazing person, regardl...  \n",
       "1  Aimee's true \"disability\" is when people treat...  \n",
       "2  I love that she took away some of the mystery ...  \n",
       "3  VERY inspiring indeed! I love these TED antiqu...  \n",
       "4  We take running so much for granted that most ...  "
      ]
     },
     "execution_count": 37,
     "metadata": {},
     "output_type": "execute_result"
    }
   ],
   "source": [
    "ted_responses.head()"
   ]
  },
  {
   "cell_type": "code",
   "execution_count": 38,
   "id": "64500354",
   "metadata": {},
   "outputs": [
    {
     "name": "stdout",
     "output_type": "stream",
     "text": [
      "Number of rows: 190414\n",
      "Number of columns: 5\n",
      "Columns:['op_id', 'op_gender', 'post_id', 'responder_id', 'response_text']\n",
      "Minimum number of words per post: 1\n",
      "Maximum number of words per post: 3212\n",
      "Mean number of words per post: 81.68\n"
     ]
    }
   ],
   "source": [
    "explore_dataset(ted_responses, 'response_text')"
   ]
  },
  {
   "cell_type": "code",
   "execution_count": 39,
   "id": "1fe5de4c",
   "metadata": {
    "scrolled": true
   },
   "outputs": [
    {
     "data": {
      "image/png": "[encoded data removed]",
      "text/plain": [
       "<Figure size 432x288 with 1 Axes>"
      ]
     },
     "metadata": {
      "needs_background": "light"
     },
     "output_type": "display_data"
    }
   ],
   "source": [
    "plot_text_lenght(ted_responses, 'TED Responses')"
   ]
  },
  {
   "cell_type": "code",
   "execution_count": 40,
   "id": "867f90b4",
   "metadata": {},
   "outputs": [
    {
     "data": {
      "text/html": [
       "<div>\n",
       "<style scoped>\n",
       "    .dataframe tbody tr th:only-of-type {\n",
       "        vertical-align: middle;\n",
       "    }\n",
       "\n",
       "    .dataframe tbody tr th {\n",
       "        vertical-align: top;\n",
       "    }\n",
       "\n",
       "    .dataframe thead th {\n",
       "        text-align: right;\n",
       "    }\n",
       "</style>\n",
       "<table border=\"1\" class=\"dataframe\">\n",
       "  <thead>\n",
       "    <tr style=\"text-align: right;\">\n",
       "      <th></th>\n",
       "      <th>op_gender</th>\n",
       "      <th>count</th>\n",
       "      <th>percentage</th>\n",
       "    </tr>\n",
       "  </thead>\n",
       "  <tbody>\n",
       "    <tr>\n",
       "      <th>0</th>\n",
       "      <td>M</td>\n",
       "      <td>144336</td>\n",
       "      <td>75.83</td>\n",
       "    </tr>\n",
       "    <tr>\n",
       "      <th>1</th>\n",
       "      <td>W</td>\n",
       "      <td>46011</td>\n",
       "      <td>24.17</td>\n",
       "    </tr>\n",
       "  </tbody>\n",
       "</table>\n",
       "</div>"
      ],
      "text/plain": [
       "  op_gender   count  percentage\n",
       "0         M  144336       75.83\n",
       "1         W   46011       24.17"
      ]
     },
     "execution_count": 40,
     "metadata": {},
     "output_type": "execute_result"
    }
   ],
   "source": [
    "# number of women/men posts. More men post (or give talks)\n",
    "cat_distribution(ted_responses, 'op_gender')"
   ]
  },
  {
   "cell_type": "markdown",
   "id": "5ccb2e77",
   "metadata": {},
   "source": [
    "### Facebook Congress dataset"
   ]
  },
  {
   "cell_type": "code",
   "execution_count": 41,
   "id": "fdb68969",
   "metadata": {},
   "outputs": [
    {
     "data": {
      "text/html": [
       "<div>\n",
       "<style scoped>\n",
       "    .dataframe tbody tr th:only-of-type {\n",
       "        vertical-align: middle;\n",
       "    }\n",
       "\n",
       "    .dataframe tbody tr th {\n",
       "        vertical-align: top;\n",
       "    }\n",
       "\n",
       "    .dataframe thead th {\n",
       "        text-align: right;\n",
       "    }\n",
       "</style>\n",
       "<table border=\"1\" class=\"dataframe\">\n",
       "  <thead>\n",
       "    <tr style=\"text-align: right;\">\n",
       "      <th></th>\n",
       "      <th>op_id</th>\n",
       "      <th>op_gender</th>\n",
       "      <th>post_id</th>\n",
       "      <th>post_text</th>\n",
       "      <th>post_type</th>\n",
       "    </tr>\n",
       "  </thead>\n",
       "  <tbody>\n",
       "    <tr>\n",
       "      <th>0</th>\n",
       "      <td>57265377</td>\n",
       "      <td>M</td>\n",
       "      <td>0</td>\n",
       "      <td>Yesterday, my colleagues and I voted to protec...</td>\n",
       "      <td>video</td>\n",
       "    </tr>\n",
       "    <tr>\n",
       "      <th>1</th>\n",
       "      <td>57265377</td>\n",
       "      <td>M</td>\n",
       "      <td>1</td>\n",
       "      <td>Roses are red...and so is Texas. Let's keep it...</td>\n",
       "      <td>video</td>\n",
       "    </tr>\n",
       "    <tr>\n",
       "      <th>2</th>\n",
       "      <td>57265377</td>\n",
       "      <td>M</td>\n",
       "      <td>2</td>\n",
       "      <td>#TBT to this classic video. #DonkeyWhisperer</td>\n",
       "      <td>video</td>\n",
       "    </tr>\n",
       "    <tr>\n",
       "      <th>3</th>\n",
       "      <td>57265377</td>\n",
       "      <td>M</td>\n",
       "      <td>3</td>\n",
       "      <td>Since President Donald J. Trump was sworn in o...</td>\n",
       "      <td>video</td>\n",
       "    </tr>\n",
       "    <tr>\n",
       "      <th>4</th>\n",
       "      <td>57265377</td>\n",
       "      <td>M</td>\n",
       "      <td>4</td>\n",
       "      <td>Remembering our 40th president today. LIKE to ...</td>\n",
       "      <td>video</td>\n",
       "    </tr>\n",
       "  </tbody>\n",
       "</table>\n",
       "</div>"
      ],
      "text/plain": [
       "      op_id op_gender  post_id  \\\n",
       "0  57265377         M        0   \n",
       "1  57265377         M        1   \n",
       "2  57265377         M        2   \n",
       "3  57265377         M        3   \n",
       "4  57265377         M        4   \n",
       "\n",
       "                                           post_text post_type  \n",
       "0  Yesterday, my colleagues and I voted to protec...     video  \n",
       "1  Roses are red...and so is Texas. Let's keep it...     video  \n",
       "2       #TBT to this classic video. #DonkeyWhisperer     video  \n",
       "3  Since President Donald J. Trump was sworn in o...     video  \n",
       "4  Remembering our 40th president today. LIKE to ...     video  "
      ]
     },
     "execution_count": 41,
     "metadata": {},
     "output_type": "execute_result"
    }
   ],
   "source": [
    "fb_congress_posts.head()"
   ]
  },
  {
   "cell_type": "code",
   "execution_count": 42,
   "id": "90377e1f",
   "metadata": {},
   "outputs": [
    {
     "data": {
      "text/html": [
       "<div>\n",
       "<style scoped>\n",
       "    .dataframe tbody tr th:only-of-type {\n",
       "        vertical-align: middle;\n",
       "    }\n",
       "\n",
       "    .dataframe tbody tr th {\n",
       "        vertical-align: top;\n",
       "    }\n",
       "\n",
       "    .dataframe thead th {\n",
       "        text-align: right;\n",
       "    }\n",
       "</style>\n",
       "<table border=\"1\" class=\"dataframe\">\n",
       "  <thead>\n",
       "    <tr style=\"text-align: right;\">\n",
       "      <th></th>\n",
       "      <th>op_id</th>\n",
       "      <th>op_gender</th>\n",
       "      <th>post_id</th>\n",
       "      <th>responder_id</th>\n",
       "      <th>response_text</th>\n",
       "      <th>op_name</th>\n",
       "      <th>op_category</th>\n",
       "    </tr>\n",
       "  </thead>\n",
       "  <tbody>\n",
       "    <tr>\n",
       "      <th>0</th>\n",
       "      <td>57265377</td>\n",
       "      <td>M</td>\n",
       "      <td>0</td>\n",
       "      <td>Jerry</td>\n",
       "      <td>Protecting birth is not the same as protecting...</td>\n",
       "      <td>Roger Williams</td>\n",
       "      <td>Congress_Republican</td>\n",
       "    </tr>\n",
       "    <tr>\n",
       "      <th>1</th>\n",
       "      <td>57265377</td>\n",
       "      <td>M</td>\n",
       "      <td>0</td>\n",
       "      <td>Andrea</td>\n",
       "      <td>You need to protect children and leave my body...</td>\n",
       "      <td>Roger Williams</td>\n",
       "      <td>Congress_Republican</td>\n",
       "    </tr>\n",
       "    <tr>\n",
       "      <th>2</th>\n",
       "      <td>57265377</td>\n",
       "      <td>M</td>\n",
       "      <td>0</td>\n",
       "      <td>Sherry</td>\n",
       "      <td>Thank you</td>\n",
       "      <td>Roger Williams</td>\n",
       "      <td>Congress_Republican</td>\n",
       "    </tr>\n",
       "    <tr>\n",
       "      <th>3</th>\n",
       "      <td>57265377</td>\n",
       "      <td>M</td>\n",
       "      <td>0</td>\n",
       "      <td>Bob</td>\n",
       "      <td>Thank you Roger</td>\n",
       "      <td>Roger Williams</td>\n",
       "      <td>Congress_Republican</td>\n",
       "    </tr>\n",
       "    <tr>\n",
       "      <th>4</th>\n",
       "      <td>57265377</td>\n",
       "      <td>M</td>\n",
       "      <td>0</td>\n",
       "      <td>Joy</td>\n",
       "      <td>Unwanted pregnancy is a sad and unfortunate si...</td>\n",
       "      <td>Roger Williams</td>\n",
       "      <td>Congress_Republican</td>\n",
       "    </tr>\n",
       "  </tbody>\n",
       "</table>\n",
       "</div>"
      ],
      "text/plain": [
       "      op_id op_gender  post_id responder_id  \\\n",
       "0  57265377         M        0        Jerry   \n",
       "1  57265377         M        0       Andrea   \n",
       "2  57265377         M        0       Sherry   \n",
       "3  57265377         M        0          Bob   \n",
       "4  57265377         M        0          Joy   \n",
       "\n",
       "                                       response_text         op_name  \\\n",
       "0  Protecting birth is not the same as protecting...  Roger Williams   \n",
       "1  You need to protect children and leave my body...  Roger Williams   \n",
       "2                                          Thank you  Roger Williams   \n",
       "3                                    Thank you Roger  Roger Williams   \n",
       "4  Unwanted pregnancy is a sad and unfortunate si...  Roger Williams   \n",
       "\n",
       "           op_category  \n",
       "0  Congress_Republican  \n",
       "1  Congress_Republican  \n",
       "2  Congress_Republican  \n",
       "3  Congress_Republican  \n",
       "4  Congress_Republican  "
      ]
     },
     "execution_count": 42,
     "metadata": {},
     "output_type": "execute_result"
    }
   ],
   "source": [
    "fb_congress_responses.head()"
   ]
  },
  {
   "cell_type": "code",
   "execution_count": 43,
   "id": "3163747d",
   "metadata": {},
   "outputs": [
    {
     "name": "stdout",
     "output_type": "stream",
     "text": [
      "Number of rows: 548341\n",
      "Number of columns: 5\n",
      "Columns:['op_id', 'op_gender', 'post_id', 'post_text', 'post_type']\n",
      "Minimum number of words per post: 1\n",
      "Maximum number of words per post: 3080\n",
      "Mean number of words per post: 39.99\n"
     ]
    }
   ],
   "source": [
    "explore_dataset(fb_congress_posts, 'post_text')"
   ]
  },
  {
   "cell_type": "code",
   "execution_count": 44,
   "id": "0e0b5408",
   "metadata": {},
   "outputs": [
    {
     "name": "stdout",
     "output_type": "stream",
     "text": [
      "Number of rows: 13866507\n",
      "Number of columns: 7\n",
      "Columns:['op_id', 'op_gender', 'post_id', 'responder_id', 'response_text', 'op_name', 'op_category']\n",
      "Minimum number of words per post: 1\n",
      "Maximum number of words per post: 8777\n",
      "Mean number of words per post: 27.12\n"
     ]
    }
   ],
   "source": [
    "explore_dataset(fb_congress_responses, 'response_text')"
   ]
  },
  {
   "cell_type": "code",
   "execution_count": 45,
   "id": "e1ecfa54",
   "metadata": {},
   "outputs": [
    {
     "data": {
      "image/png": "[encoded data removed]",
      "text/plain": [
       "<Figure size 432x288 with 1 Axes>"
      ]
     },
     "metadata": {
      "needs_background": "light"
     },
     "output_type": "display_data"
    }
   ],
   "source": [
    "plot_text_lenght(fb_congress_posts, 'FB Congress Posts')"
   ]
  },
  {
   "cell_type": "code",
   "execution_count": 46,
   "id": "45a4222c",
   "metadata": {},
   "outputs": [
    {
     "data": {
      "image/png": "[encoded data removed]",
      "text/plain": [
       "<Figure size 432x288 with 1 Axes>"
      ]
     },
     "metadata": {
      "needs_background": "light"
     },
     "output_type": "display_data"
    }
   ],
   "source": [
    "plot_text_lenght(fb_congress_responses, 'FB Congress Responses')"
   ]
  },
  {
   "cell_type": "code",
   "execution_count": 47,
   "id": "8cebd191",
   "metadata": {},
   "outputs": [
    {
     "data": {
      "text/html": [
       "<div>\n",
       "<style scoped>\n",
       "    .dataframe tbody tr th:only-of-type {\n",
       "        vertical-align: middle;\n",
       "    }\n",
       "\n",
       "    .dataframe tbody tr th {\n",
       "        vertical-align: top;\n",
       "    }\n",
       "\n",
       "    .dataframe thead th {\n",
       "        text-align: right;\n",
       "    }\n",
       "</style>\n",
       "<table border=\"1\" class=\"dataframe\">\n",
       "  <thead>\n",
       "    <tr style=\"text-align: right;\">\n",
       "      <th></th>\n",
       "      <th>op_gender</th>\n",
       "      <th>count</th>\n",
       "      <th>percentage</th>\n",
       "    </tr>\n",
       "  </thead>\n",
       "  <tbody>\n",
       "    <tr>\n",
       "      <th>0</th>\n",
       "      <td>M</td>\n",
       "      <td>413011</td>\n",
       "      <td>75.32</td>\n",
       "    </tr>\n",
       "    <tr>\n",
       "      <th>1</th>\n",
       "      <td>W</td>\n",
       "      <td>135330</td>\n",
       "      <td>24.68</td>\n",
       "    </tr>\n",
       "  </tbody>\n",
       "</table>\n",
       "</div>"
      ],
      "text/plain": [
       "  op_gender   count  percentage\n",
       "0         M  413011       75.32\n",
       "1         W  135330       24.68"
      ]
     },
     "execution_count": 47,
     "metadata": {},
     "output_type": "execute_result"
    }
   ],
   "source": [
    "# number of women/men posts. More men post\n",
    "cat_distribution(fb_congress_posts, 'op_gender')"
   ]
  },
  {
   "cell_type": "code",
   "execution_count": 48,
   "id": "1a563537",
   "metadata": {},
   "outputs": [
    {
     "data": {
      "text/html": [
       "<div>\n",
       "<style scoped>\n",
       "    .dataframe tbody tr th:only-of-type {\n",
       "        vertical-align: middle;\n",
       "    }\n",
       "\n",
       "    .dataframe tbody tr th {\n",
       "        vertical-align: top;\n",
       "    }\n",
       "\n",
       "    .dataframe thead th {\n",
       "        text-align: right;\n",
       "    }\n",
       "</style>\n",
       "<table border=\"1\" class=\"dataframe\">\n",
       "  <thead>\n",
       "    <tr style=\"text-align: right;\">\n",
       "      <th></th>\n",
       "      <th>post_type</th>\n",
       "      <th>count</th>\n",
       "      <th>percentage</th>\n",
       "    </tr>\n",
       "  </thead>\n",
       "  <tbody>\n",
       "    <tr>\n",
       "      <th>0</th>\n",
       "      <td>event</td>\n",
       "      <td>3417</td>\n",
       "      <td>0.62</td>\n",
       "    </tr>\n",
       "    <tr>\n",
       "      <th>1</th>\n",
       "      <td>link</td>\n",
       "      <td>210499</td>\n",
       "      <td>38.39</td>\n",
       "    </tr>\n",
       "    <tr>\n",
       "      <th>2</th>\n",
       "      <td>music</td>\n",
       "      <td>278</td>\n",
       "      <td>0.05</td>\n",
       "    </tr>\n",
       "    <tr>\n",
       "      <th>3</th>\n",
       "      <td>note</td>\n",
       "      <td>261</td>\n",
       "      <td>0.05</td>\n",
       "    </tr>\n",
       "    <tr>\n",
       "      <th>4</th>\n",
       "      <td>photo</td>\n",
       "      <td>199123</td>\n",
       "      <td>36.31</td>\n",
       "    </tr>\n",
       "    <tr>\n",
       "      <th>5</th>\n",
       "      <td>status</td>\n",
       "      <td>87921</td>\n",
       "      <td>16.03</td>\n",
       "    </tr>\n",
       "    <tr>\n",
       "      <th>6</th>\n",
       "      <td>video</td>\n",
       "      <td>46842</td>\n",
       "      <td>8.54</td>\n",
       "    </tr>\n",
       "  </tbody>\n",
       "</table>\n",
       "</div>"
      ],
      "text/plain": [
       "  post_type   count  percentage\n",
       "0     event    3417        0.62\n",
       "1      link  210499       38.39\n",
       "2     music     278        0.05\n",
       "3      note     261        0.05\n",
       "4     photo  199123       36.31\n",
       "5    status   87921       16.03\n",
       "6     video   46842        8.54"
      ]
     },
     "execution_count": 48,
     "metadata": {},
     "output_type": "execute_result"
    }
   ],
   "source": [
    "# type of posts\n",
    "cat_distribution(fb_congress_posts, 'post_type')"
   ]
  },
  {
   "cell_type": "code",
   "execution_count": 49,
   "id": "dc56ee04",
   "metadata": {},
   "outputs": [
    {
     "data": {
      "text/html": [
       "<div>\n",
       "<style scoped>\n",
       "    .dataframe tbody tr th:only-of-type {\n",
       "        vertical-align: middle;\n",
       "    }\n",
       "\n",
       "    .dataframe tbody tr th {\n",
       "        vertical-align: top;\n",
       "    }\n",
       "\n",
       "    .dataframe thead th {\n",
       "        text-align: right;\n",
       "    }\n",
       "</style>\n",
       "<table border=\"1\" class=\"dataframe\">\n",
       "  <thead>\n",
       "    <tr style=\"text-align: right;\">\n",
       "      <th></th>\n",
       "      <th>op_category</th>\n",
       "      <th>count</th>\n",
       "      <th>percentage</th>\n",
       "    </tr>\n",
       "  </thead>\n",
       "  <tbody>\n",
       "    <tr>\n",
       "      <th>0</th>\n",
       "      <td>Congress_Democratic</td>\n",
       "      <td>4786769</td>\n",
       "      <td>34.52</td>\n",
       "    </tr>\n",
       "    <tr>\n",
       "      <th>1</th>\n",
       "      <td>Congress_Independent</td>\n",
       "      <td>193088</td>\n",
       "      <td>1.39</td>\n",
       "    </tr>\n",
       "    <tr>\n",
       "      <th>2</th>\n",
       "      <td>Congress_Republican</td>\n",
       "      <td>8886650</td>\n",
       "      <td>64.09</td>\n",
       "    </tr>\n",
       "  </tbody>\n",
       "</table>\n",
       "</div>"
      ],
      "text/plain": [
       "            op_category    count  percentage\n",
       "0   Congress_Democratic  4786769       34.52\n",
       "1  Congress_Independent   193088        1.39\n",
       "2   Congress_Republican  8886650       64.09"
      ]
     },
     "execution_count": 49,
     "metadata": {},
     "output_type": "execute_result"
    }
   ],
   "source": [
    "# party of posts\n",
    "cat_distribution(fb_congress_responses, 'op_category')"
   ]
  },
  {
   "cell_type": "markdown",
   "id": "ca2465e4",
   "metadata": {},
   "source": [
    "### Facebook Wiki dataset"
   ]
  },
  {
   "cell_type": "code",
   "execution_count": 50,
   "id": "8f56a409",
   "metadata": {},
   "outputs": [
    {
     "data": {
      "text/html": [
       "<div>\n",
       "<style scoped>\n",
       "    .dataframe tbody tr th:only-of-type {\n",
       "        vertical-align: middle;\n",
       "    }\n",
       "\n",
       "    .dataframe tbody tr th {\n",
       "        vertical-align: top;\n",
       "    }\n",
       "\n",
       "    .dataframe thead th {\n",
       "        text-align: right;\n",
       "    }\n",
       "</style>\n",
       "<table border=\"1\" class=\"dataframe\">\n",
       "  <thead>\n",
       "    <tr style=\"text-align: right;\">\n",
       "      <th></th>\n",
       "      <th>op_id</th>\n",
       "      <th>op_gender</th>\n",
       "      <th>post_id</th>\n",
       "      <th>post_text</th>\n",
       "      <th>post_type</th>\n",
       "    </tr>\n",
       "  </thead>\n",
       "  <tbody>\n",
       "    <tr>\n",
       "      <th>0</th>\n",
       "      <td>11679984</td>\n",
       "      <td>M</td>\n",
       "      <td>0</td>\n",
       "      <td>Tornado watch in effect tonight. Be safe. Plea...</td>\n",
       "      <td>photo</td>\n",
       "    </tr>\n",
       "    <tr>\n",
       "      <th>1</th>\n",
       "      <td>11679984</td>\n",
       "      <td>M</td>\n",
       "      <td>1</td>\n",
       "      <td>NaN</td>\n",
       "      <td>photo</td>\n",
       "    </tr>\n",
       "    <tr>\n",
       "      <th>2</th>\n",
       "      <td>11679984</td>\n",
       "      <td>M</td>\n",
       "      <td>2</td>\n",
       "      <td>Temps warming up for the holiday weekend! I wi...</td>\n",
       "      <td>photo</td>\n",
       "    </tr>\n",
       "    <tr>\n",
       "      <th>3</th>\n",
       "      <td>11679984</td>\n",
       "      <td>M</td>\n",
       "      <td>3</td>\n",
       "      <td>Showers heading this way ..</td>\n",
       "      <td>photo</td>\n",
       "    </tr>\n",
       "    <tr>\n",
       "      <th>4</th>\n",
       "      <td>11679984</td>\n",
       "      <td>M</td>\n",
       "      <td>4</td>\n",
       "      <td>Storm potential update...feel free to share th...</td>\n",
       "      <td>photo</td>\n",
       "    </tr>\n",
       "  </tbody>\n",
       "</table>\n",
       "</div>"
      ],
      "text/plain": [
       "      op_id op_gender  post_id  \\\n",
       "0  11679984         M        0   \n",
       "1  11679984         M        1   \n",
       "2  11679984         M        2   \n",
       "3  11679984         M        3   \n",
       "4  11679984         M        4   \n",
       "\n",
       "                                           post_text post_type  \n",
       "0  Tornado watch in effect tonight. Be safe. Plea...     photo  \n",
       "1                                                NaN     photo  \n",
       "2  Temps warming up for the holiday weekend! I wi...     photo  \n",
       "3                        Showers heading this way ..     photo  \n",
       "4  Storm potential update...feel free to share th...     photo  "
      ]
     },
     "execution_count": 50,
     "metadata": {},
     "output_type": "execute_result"
    }
   ],
   "source": [
    "fb_wiki_posts.head()"
   ]
  },
  {
   "cell_type": "code",
   "execution_count": 51,
   "id": "e31ecb8a",
   "metadata": {},
   "outputs": [
    {
     "data": {
      "text/html": [
       "<div>\n",
       "<style scoped>\n",
       "    .dataframe tbody tr th:only-of-type {\n",
       "        vertical-align: middle;\n",
       "    }\n",
       "\n",
       "    .dataframe tbody tr th {\n",
       "        vertical-align: top;\n",
       "    }\n",
       "\n",
       "    .dataframe thead th {\n",
       "        text-align: right;\n",
       "    }\n",
       "</style>\n",
       "<table border=\"1\" class=\"dataframe\">\n",
       "  <thead>\n",
       "    <tr style=\"text-align: right;\">\n",
       "      <th></th>\n",
       "      <th>op_id</th>\n",
       "      <th>op_gender</th>\n",
       "      <th>post_id</th>\n",
       "      <th>responder_id</th>\n",
       "      <th>response_text</th>\n",
       "      <th>op_name</th>\n",
       "      <th>op_category</th>\n",
       "    </tr>\n",
       "  </thead>\n",
       "  <tbody>\n",
       "    <tr>\n",
       "      <th>0</th>\n",
       "      <td>11679984</td>\n",
       "      <td>M</td>\n",
       "      <td>0</td>\n",
       "      <td>Michelle</td>\n",
       "      <td>Is this watch going to make it to LaPorte county?</td>\n",
       "      <td>Byron Miranda</td>\n",
       "      <td>Wikipedia_American_television_news_anchors</td>\n",
       "    </tr>\n",
       "    <tr>\n",
       "      <th>1</th>\n",
       "      <td>11679984</td>\n",
       "      <td>M</td>\n",
       "      <td>0</td>\n",
       "      <td>Melissa</td>\n",
       "      <td>Anything for Wilmington area</td>\n",
       "      <td>Byron Miranda</td>\n",
       "      <td>Wikipedia_American_television_news_anchors</td>\n",
       "    </tr>\n",
       "    <tr>\n",
       "      <th>2</th>\n",
       "      <td>11679984</td>\n",
       "      <td>M</td>\n",
       "      <td>0</td>\n",
       "      <td>Darlene</td>\n",
       "      <td>Thanks, please keep us posted.</td>\n",
       "      <td>Byron Miranda</td>\n",
       "      <td>Wikipedia_American_television_news_anchors</td>\n",
       "    </tr>\n",
       "    <tr>\n",
       "      <th>3</th>\n",
       "      <td>11679984</td>\n",
       "      <td>M</td>\n",
       "      <td>0</td>\n",
       "      <td>Cheryl</td>\n",
       "      <td>Thanks Byron</td>\n",
       "      <td>Byron Miranda</td>\n",
       "      <td>Wikipedia_American_television_news_anchors</td>\n",
       "    </tr>\n",
       "    <tr>\n",
       "      <th>4</th>\n",
       "      <td>11679984</td>\n",
       "      <td>M</td>\n",
       "      <td>0</td>\n",
       "      <td>Melissa</td>\n",
       "      <td>[[STICKER]]</td>\n",
       "      <td>Byron Miranda</td>\n",
       "      <td>Wikipedia_American_television_news_anchors</td>\n",
       "    </tr>\n",
       "  </tbody>\n",
       "</table>\n",
       "</div>"
      ],
      "text/plain": [
       "      op_id op_gender  post_id responder_id  \\\n",
       "0  11679984         M        0     Michelle   \n",
       "1  11679984         M        0      Melissa   \n",
       "2  11679984         M        0      Darlene   \n",
       "3  11679984         M        0       Cheryl   \n",
       "4  11679984         M        0      Melissa   \n",
       "\n",
       "                                       response_text        op_name  \\\n",
       "0  Is this watch going to make it to LaPorte county?  Byron Miranda   \n",
       "1                       Anything for Wilmington area  Byron Miranda   \n",
       "2                     Thanks, please keep us posted.  Byron Miranda   \n",
       "3                                       Thanks Byron  Byron Miranda   \n",
       "4                                        [[STICKER]]  Byron Miranda   \n",
       "\n",
       "                                  op_category  \n",
       "0  Wikipedia_American_television_news_anchors  \n",
       "1  Wikipedia_American_television_news_anchors  \n",
       "2  Wikipedia_American_television_news_anchors  \n",
       "3  Wikipedia_American_television_news_anchors  \n",
       "4  Wikipedia_American_television_news_anchors  "
      ]
     },
     "execution_count": 51,
     "metadata": {},
     "output_type": "execute_result"
    }
   ],
   "source": [
    "fb_wiki_responses.head()"
   ]
  },
  {
   "cell_type": "code",
   "execution_count": 52,
   "id": "5553b97b",
   "metadata": {},
   "outputs": [
    {
     "name": "stdout",
     "output_type": "stream",
     "text": [
      "Number of rows: 149448\n",
      "Number of columns: 5\n",
      "Columns:['op_id', 'op_gender', 'post_id', 'post_text', 'post_type']\n",
      "Minimum number of words per post: 1\n",
      "Maximum number of words per post: 4533\n",
      "Mean number of words per post: 23.77\n"
     ]
    }
   ],
   "source": [
    "explore_dataset(fb_wiki_posts, 'post_text')"
   ]
  },
  {
   "cell_type": "code",
   "execution_count": 53,
   "id": "a1c5a176",
   "metadata": {},
   "outputs": [
    {
     "name": "stdout",
     "output_type": "stream",
     "text": [
      "Number of rows: 10667500\n",
      "Number of columns: 7\n",
      "Columns:['op_id', 'op_gender', 'post_id', 'responder_id', 'response_text', 'op_name', 'op_category']\n",
      "Minimum number of words per post: 1\n",
      "Maximum number of words per post: 2491\n",
      "Mean number of words per post: 11.6\n"
     ]
    }
   ],
   "source": [
    "explore_dataset(fb_wiki_responses, 'response_text')"
   ]
  },
  {
   "cell_type": "code",
   "execution_count": 54,
   "id": "61484212",
   "metadata": {},
   "outputs": [
    {
     "data": {
      "image/png": "[encoded data removed]",
      "text/plain": [
       "<Figure size 432x288 with 1 Axes>"
      ]
     },
     "metadata": {
      "needs_background": "light"
     },
     "output_type": "display_data"
    }
   ],
   "source": [
    "plot_text_lenght(fb_wiki_posts, 'FB Wiki Posts')"
   ]
  },
  {
   "cell_type": "code",
   "execution_count": 55,
   "id": "1d0470bf",
   "metadata": {},
   "outputs": [
    {
     "data": {
      "image/png": "[encoded data removed]",
      "text/plain": [
       "<Figure size 432x288 with 1 Axes>"
      ]
     },
     "metadata": {
      "needs_background": "light"
     },
     "output_type": "display_data"
    }
   ],
   "source": [
    "plot_text_lenght(fb_wiki_responses, 'FB Wiki Responses')"
   ]
  },
  {
   "cell_type": "code",
   "execution_count": 56,
   "id": "ca6ea5d2",
   "metadata": {},
   "outputs": [
    {
     "data": {
      "text/html": [
       "<div>\n",
       "<style scoped>\n",
       "    .dataframe tbody tr th:only-of-type {\n",
       "        vertical-align: middle;\n",
       "    }\n",
       "\n",
       "    .dataframe tbody tr th {\n",
       "        vertical-align: top;\n",
       "    }\n",
       "\n",
       "    .dataframe thead th {\n",
       "        text-align: right;\n",
       "    }\n",
       "</style>\n",
       "<table border=\"1\" class=\"dataframe\">\n",
       "  <thead>\n",
       "    <tr style=\"text-align: right;\">\n",
       "      <th></th>\n",
       "      <th>op_gender</th>\n",
       "      <th>count</th>\n",
       "      <th>percentage</th>\n",
       "    </tr>\n",
       "  </thead>\n",
       "  <tbody>\n",
       "    <tr>\n",
       "      <th>0</th>\n",
       "      <td>M</td>\n",
       "      <td>49756</td>\n",
       "      <td>33.29</td>\n",
       "    </tr>\n",
       "    <tr>\n",
       "      <th>1</th>\n",
       "      <td>W</td>\n",
       "      <td>99692</td>\n",
       "      <td>66.71</td>\n",
       "    </tr>\n",
       "  </tbody>\n",
       "</table>\n",
       "</div>"
      ],
      "text/plain": [
       "  op_gender  count  percentage\n",
       "0         M  49756       33.29\n",
       "1         W  99692       66.71"
      ]
     },
     "execution_count": 56,
     "metadata": {},
     "output_type": "execute_result"
    }
   ],
   "source": [
    "# number of women/men posts. More women post !\n",
    "cat_distribution(fb_wiki_posts, 'op_gender')"
   ]
  },
  {
   "cell_type": "code",
   "execution_count": 57,
   "id": "17bc47d4",
   "metadata": {},
   "outputs": [
    {
     "data": {
      "text/html": [
       "<div>\n",
       "<style scoped>\n",
       "    .dataframe tbody tr th:only-of-type {\n",
       "        vertical-align: middle;\n",
       "    }\n",
       "\n",
       "    .dataframe tbody tr th {\n",
       "        vertical-align: top;\n",
       "    }\n",
       "\n",
       "    .dataframe thead th {\n",
       "        text-align: right;\n",
       "    }\n",
       "</style>\n",
       "<table border=\"1\" class=\"dataframe\">\n",
       "  <thead>\n",
       "    <tr style=\"text-align: right;\">\n",
       "      <th></th>\n",
       "      <th>post_type</th>\n",
       "      <th>count</th>\n",
       "      <th>percentage</th>\n",
       "    </tr>\n",
       "  </thead>\n",
       "  <tbody>\n",
       "    <tr>\n",
       "      <th>0</th>\n",
       "      <td>event</td>\n",
       "      <td>859</td>\n",
       "      <td>0.57</td>\n",
       "    </tr>\n",
       "    <tr>\n",
       "      <th>1</th>\n",
       "      <td>link</td>\n",
       "      <td>37609</td>\n",
       "      <td>25.17</td>\n",
       "    </tr>\n",
       "    <tr>\n",
       "      <th>2</th>\n",
       "      <td>music</td>\n",
       "      <td>16</td>\n",
       "      <td>0.01</td>\n",
       "    </tr>\n",
       "    <tr>\n",
       "      <th>3</th>\n",
       "      <td>note</td>\n",
       "      <td>32</td>\n",
       "      <td>0.02</td>\n",
       "    </tr>\n",
       "    <tr>\n",
       "      <th>4</th>\n",
       "      <td>photo</td>\n",
       "      <td>61411</td>\n",
       "      <td>41.09</td>\n",
       "    </tr>\n",
       "    <tr>\n",
       "      <th>5</th>\n",
       "      <td>status</td>\n",
       "      <td>33495</td>\n",
       "      <td>22.41</td>\n",
       "    </tr>\n",
       "    <tr>\n",
       "      <th>6</th>\n",
       "      <td>video</td>\n",
       "      <td>16026</td>\n",
       "      <td>10.72</td>\n",
       "    </tr>\n",
       "  </tbody>\n",
       "</table>\n",
       "</div>"
      ],
      "text/plain": [
       "  post_type  count  percentage\n",
       "0     event    859        0.57\n",
       "1      link  37609       25.17\n",
       "2     music     16        0.01\n",
       "3      note     32        0.02\n",
       "4     photo  61411       41.09\n",
       "5    status  33495       22.41\n",
       "6     video  16026       10.72"
      ]
     },
     "execution_count": 57,
     "metadata": {},
     "output_type": "execute_result"
    }
   ],
   "source": [
    "# type of posts\n",
    "cat_distribution(fb_wiki_posts, 'post_type')"
   ]
  },
  {
   "cell_type": "code",
   "execution_count": 58,
   "id": "2934d5bb",
   "metadata": {},
   "outputs": [
    {
     "data": {
      "text/html": [
       "<div>\n",
       "<style scoped>\n",
       "    .dataframe tbody tr th:only-of-type {\n",
       "        vertical-align: middle;\n",
       "    }\n",
       "\n",
       "    .dataframe tbody tr th {\n",
       "        vertical-align: top;\n",
       "    }\n",
       "\n",
       "    .dataframe thead th {\n",
       "        text-align: right;\n",
       "    }\n",
       "</style>\n",
       "<table border=\"1\" class=\"dataframe\">\n",
       "  <thead>\n",
       "    <tr style=\"text-align: right;\">\n",
       "      <th></th>\n",
       "      <th>op_category</th>\n",
       "      <th>count</th>\n",
       "      <th>percentage</th>\n",
       "    </tr>\n",
       "  </thead>\n",
       "  <tbody>\n",
       "    <tr>\n",
       "      <th>0</th>\n",
       "      <td>Wikipedia_21st-century_American_novelists</td>\n",
       "      <td>131467</td>\n",
       "      <td>1.23</td>\n",
       "    </tr>\n",
       "    <tr>\n",
       "      <th>1</th>\n",
       "      <td>Wikipedia_American_female_tennis_players</td>\n",
       "      <td>866343</td>\n",
       "      <td>8.12</td>\n",
       "    </tr>\n",
       "    <tr>\n",
       "      <th>2</th>\n",
       "      <td>Wikipedia_American_film_actresses</td>\n",
       "      <td>2689280</td>\n",
       "      <td>25.21</td>\n",
       "    </tr>\n",
       "    <tr>\n",
       "      <th>3</th>\n",
       "      <td>Wikipedia_American_male_film_actors</td>\n",
       "      <td>405185</td>\n",
       "      <td>3.80</td>\n",
       "    </tr>\n",
       "    <tr>\n",
       "      <th>4</th>\n",
       "      <td>Wikipedia_American_male_television_actors</td>\n",
       "      <td>1270247</td>\n",
       "      <td>11.91</td>\n",
       "    </tr>\n",
       "    <tr>\n",
       "      <th>5</th>\n",
       "      <td>Wikipedia_American_male_tennis_players</td>\n",
       "      <td>29426</td>\n",
       "      <td>0.28</td>\n",
       "    </tr>\n",
       "    <tr>\n",
       "      <th>6</th>\n",
       "      <td>Wikipedia_American_television_actresses</td>\n",
       "      <td>1605001</td>\n",
       "      <td>15.05</td>\n",
       "    </tr>\n",
       "    <tr>\n",
       "      <th>7</th>\n",
       "      <td>Wikipedia_American_television_journalists</td>\n",
       "      <td>336403</td>\n",
       "      <td>3.15</td>\n",
       "    </tr>\n",
       "    <tr>\n",
       "      <th>8</th>\n",
       "      <td>Wikipedia_American_television_news_anchors</td>\n",
       "      <td>1556393</td>\n",
       "      <td>14.59</td>\n",
       "    </tr>\n",
       "    <tr>\n",
       "      <th>9</th>\n",
       "      <td>Wikipedia_American_television_talk_show_hosts</td>\n",
       "      <td>1534354</td>\n",
       "      <td>14.38</td>\n",
       "    </tr>\n",
       "    <tr>\n",
       "      <th>10</th>\n",
       "      <td>Wikipedia_Olympic_track_and_field_athletes_of_...</td>\n",
       "      <td>1200</td>\n",
       "      <td>0.01</td>\n",
       "    </tr>\n",
       "    <tr>\n",
       "      <th>11</th>\n",
       "      <td>Wikipedia_Political_analysts</td>\n",
       "      <td>148187</td>\n",
       "      <td>1.39</td>\n",
       "    </tr>\n",
       "    <tr>\n",
       "      <th>12</th>\n",
       "      <td>Wikipedia_Women_economists</td>\n",
       "      <td>94014</td>\n",
       "      <td>0.88</td>\n",
       "    </tr>\n",
       "  </tbody>\n",
       "</table>\n",
       "</div>"
      ],
      "text/plain": [
       "                                          op_category    count  percentage\n",
       "0           Wikipedia_21st-century_American_novelists   131467        1.23\n",
       "1            Wikipedia_American_female_tennis_players   866343        8.12\n",
       "2                   Wikipedia_American_film_actresses  2689280       25.21\n",
       "3                 Wikipedia_American_male_film_actors   405185        3.80\n",
       "4           Wikipedia_American_male_television_actors  1270247       11.91\n",
       "5              Wikipedia_American_male_tennis_players    29426        0.28\n",
       "6             Wikipedia_American_television_actresses  1605001       15.05\n",
       "7           Wikipedia_American_television_journalists   336403        3.15\n",
       "8          Wikipedia_American_television_news_anchors  1556393       14.59\n",
       "9       Wikipedia_American_television_talk_show_hosts  1534354       14.38\n",
       "10  Wikipedia_Olympic_track_and_field_athletes_of_...     1200        0.01\n",
       "11                       Wikipedia_Political_analysts   148187        1.39\n",
       "12                         Wikipedia_Women_economists    94014        0.88"
      ]
     },
     "execution_count": 58,
     "metadata": {},
     "output_type": "execute_result"
    }
   ],
   "source": [
    "# categories of people that post\n",
    "cat_distribution(fb_wiki_responses, 'op_category')"
   ]
  },
  {
   "cell_type": "markdown",
   "id": "702a6b8e",
   "metadata": {},
   "source": [
    "### RTGender labeled dataset \n",
    "\n",
    "This is the part of the dataset that they labeled with sentiment data. I don't think we need this part.\n"
   ]
  },
  {
   "cell_type": "code",
   "execution_count": 59,
   "id": "074f2188",
   "metadata": {
    "scrolled": true
   },
   "outputs": [
    {
     "data": {
      "text/html": [
       "<div>\n",
       "<style scoped>\n",
       "    .dataframe tbody tr th:only-of-type {\n",
       "        vertical-align: middle;\n",
       "    }\n",
       "\n",
       "    .dataframe tbody tr th {\n",
       "        vertical-align: top;\n",
       "    }\n",
       "\n",
       "    .dataframe thead th {\n",
       "        text-align: right;\n",
       "    }\n",
       "</style>\n",
       "<table border=\"1\" class=\"dataframe\">\n",
       "  <thead>\n",
       "    <tr style=\"text-align: right;\">\n",
       "      <th></th>\n",
       "      <th>source</th>\n",
       "      <th>op_gender</th>\n",
       "      <th>post_text</th>\n",
       "      <th>response_text</th>\n",
       "      <th>sentiment</th>\n",
       "      <th>relevance</th>\n",
       "    </tr>\n",
       "  </thead>\n",
       "  <tbody>\n",
       "    <tr>\n",
       "      <th>0</th>\n",
       "      <td>facebook_wiki</td>\n",
       "      <td>W</td>\n",
       "      <td>Stopped by Fashion Week and got to hang with A...</td>\n",
       "      <td>You are Both Sweet Ashley Tisdale and Lauren C...</td>\n",
       "      <td>Positive</td>\n",
       "      <td>Poster</td>\n",
       "    </tr>\n",
       "    <tr>\n",
       "      <th>1</th>\n",
       "      <td>facebook_wiki</td>\n",
       "      <td>M</td>\n",
       "      <td>Well guys, real progress is happening. I'm 50 ...</td>\n",
       "      <td>Give us the first page to read. ONE PAGE.</td>\n",
       "      <td>Mixed</td>\n",
       "      <td>Content</td>\n",
       "    </tr>\n",
       "    <tr>\n",
       "      <th>2</th>\n",
       "      <td>facebook_wiki</td>\n",
       "      <td>W</td>\n",
       "      <td>Tonight is going to be a good night #PerfectMo...</td>\n",
       "      <td>this is my city was there 2 weeks a go</td>\n",
       "      <td>Neutral</td>\n",
       "      <td>Content</td>\n",
       "    </tr>\n",
       "    <tr>\n",
       "      <th>3</th>\n",
       "      <td>facebook_wiki</td>\n",
       "      <td>M</td>\n",
       "      <td>I know grandma Gilmore is real proud of you ht...</td>\n",
       "      <td>if grizzly Adams had a beard.</td>\n",
       "      <td>Neutral</td>\n",
       "      <td>Content</td>\n",
       "    </tr>\n",
       "    <tr>\n",
       "      <th>4</th>\n",
       "      <td>facebook_wiki</td>\n",
       "      <td>W</td>\n",
       "      <td>#NEWS to KNOW this AM - Mayor Emanuel will mak...</td>\n",
       "      <td>Good morning Lourdes, have a great day! Great ...</td>\n",
       "      <td>Positive</td>\n",
       "      <td>Irrelevant</td>\n",
       "    </tr>\n",
       "    <tr>\n",
       "      <th>5</th>\n",
       "      <td>facebook_wiki</td>\n",
       "      <td>M</td>\n",
       "      <td>What questions do you have for Alisyn Camerota...</td>\n",
       "      <td>Question: Would you invite me up to have a bes...</td>\n",
       "      <td>Neutral</td>\n",
       "      <td>Content</td>\n",
       "    </tr>\n",
       "    <tr>\n",
       "      <th>6</th>\n",
       "      <td>facebook_wiki</td>\n",
       "      <td>W</td>\n",
       "      <td>Into the quarters tomorrow! Won today 6-2,6-3!</td>\n",
       "      <td>awesome! Keep up the good work</td>\n",
       "      <td>Positive</td>\n",
       "      <td>Content</td>\n",
       "    </tr>\n",
       "    <tr>\n",
       "      <th>7</th>\n",
       "      <td>facebook_wiki</td>\n",
       "      <td>W</td>\n",
       "      <td>Fed Cup, ITF Pro Circuit WTA Kristina Mladenov...</td>\n",
       "      <td>Quelle belle poque. Mary tu as berc toute ma j...</td>\n",
       "      <td>Neutral</td>\n",
       "      <td>Content</td>\n",
       "    </tr>\n",
       "    <tr>\n",
       "      <th>8</th>\n",
       "      <td>facebook_wiki</td>\n",
       "      <td>W</td>\n",
       "      <td>Thanks everyone!! Doubles and mixed tomorrow.....</td>\n",
       "      <td>Good luck, don't over do it. Great win today!</td>\n",
       "      <td>Positive</td>\n",
       "      <td>Content</td>\n",
       "    </tr>\n",
       "    <tr>\n",
       "      <th>9</th>\n",
       "      <td>facebook_wiki</td>\n",
       "      <td>W</td>\n",
       "      <td>GOOD Night.... Go to Sleep.... God's Up and He...</td>\n",
       "      <td>Thank you. I've had a very rough couple of wee...</td>\n",
       "      <td>Positive</td>\n",
       "      <td>Content</td>\n",
       "    </tr>\n",
       "  </tbody>\n",
       "</table>\n",
       "</div>"
      ],
      "text/plain": [
       "          source op_gender                                          post_text  \\\n",
       "0  facebook_wiki         W  Stopped by Fashion Week and got to hang with A...   \n",
       "1  facebook_wiki         M  Well guys, real progress is happening. I'm 50 ...   \n",
       "2  facebook_wiki         W  Tonight is going to be a good night #PerfectMo...   \n",
       "3  facebook_wiki         M  I know grandma Gilmore is real proud of you ht...   \n",
       "4  facebook_wiki         W  #NEWS to KNOW this AM - Mayor Emanuel will mak...   \n",
       "5  facebook_wiki         M  What questions do you have for Alisyn Camerota...   \n",
       "6  facebook_wiki         W     Into the quarters tomorrow! Won today 6-2,6-3!   \n",
       "7  facebook_wiki         W  Fed Cup, ITF Pro Circuit WTA Kristina Mladenov...   \n",
       "8  facebook_wiki         W  Thanks everyone!! Doubles and mixed tomorrow.....   \n",
       "9  facebook_wiki         W  GOOD Night.... Go to Sleep.... God's Up and He...   \n",
       "\n",
       "                                       response_text sentiment   relevance  \n",
       "0  You are Both Sweet Ashley Tisdale and Lauren C...  Positive      Poster  \n",
       "1          Give us the first page to read. ONE PAGE.     Mixed     Content  \n",
       "2             this is my city was there 2 weeks a go   Neutral     Content  \n",
       "3                      if grizzly Adams had a beard.   Neutral     Content  \n",
       "4  Good morning Lourdes, have a great day! Great ...  Positive  Irrelevant  \n",
       "5  Question: Would you invite me up to have a bes...   Neutral     Content  \n",
       "6                     awesome! Keep up the good work  Positive     Content  \n",
       "7  Quelle belle poque. Mary tu as berc toute ma j...   Neutral     Content  \n",
       "8      Good luck, don't over do it. Great win today!  Positive     Content  \n",
       "9  Thank you. I've had a very rough couple of wee...  Positive     Content  "
      ]
     },
     "execution_count": 59,
     "metadata": {},
     "output_type": "execute_result"
    }
   ],
   "source": [
    "rt_gender.head(10)"
   ]
  },
  {
   "cell_type": "code",
   "execution_count": 60,
   "id": "0a15ee92",
   "metadata": {},
   "outputs": [
    {
     "name": "stdout",
     "output_type": "stream",
     "text": [
      "Number of rows: 15352\n",
      "Number of columns: 6\n",
      "Columns:['source', 'op_gender', 'post_text', 'response_text', 'sentiment', 'relevance']\n",
      "Minimum number of words per post: 1\n",
      "Maximum number of words per post: 64\n",
      "Mean number of words per post: 18.93\n"
     ]
    }
   ],
   "source": [
    "explore_dataset(rt_gender, 'post_text')"
   ]
  },
  {
   "cell_type": "code",
   "execution_count": 61,
   "id": "233bf5ca",
   "metadata": {},
   "outputs": [
    {
     "name": "stdout",
     "output_type": "stream",
     "text": [
      "Number of rows: 15352\n",
      "Number of columns: 7\n",
      "Columns:['source', 'op_gender', 'post_text', 'response_text', 'sentiment', 'relevance', 'text_lenght']\n",
      "Minimum number of words per post: 1\n",
      "Maximum number of words per post: 66\n",
      "Mean number of words per post: 17.49\n"
     ]
    }
   ],
   "source": [
    "explore_dataset(rt_gender, 'response_text')"
   ]
  },
  {
   "cell_type": "code",
   "execution_count": 62,
   "id": "4df26cb7",
   "metadata": {},
   "outputs": [
    {
     "data": {
      "text/html": [
       "<div>\n",
       "<style scoped>\n",
       "    .dataframe tbody tr th:only-of-type {\n",
       "        vertical-align: middle;\n",
       "    }\n",
       "\n",
       "    .dataframe tbody tr th {\n",
       "        vertical-align: top;\n",
       "    }\n",
       "\n",
       "    .dataframe thead th {\n",
       "        text-align: right;\n",
       "    }\n",
       "</style>\n",
       "<table border=\"1\" class=\"dataframe\">\n",
       "  <thead>\n",
       "    <tr style=\"text-align: right;\">\n",
       "      <th></th>\n",
       "      <th>source</th>\n",
       "      <th>count</th>\n",
       "      <th>percentage</th>\n",
       "    </tr>\n",
       "  </thead>\n",
       "  <tbody>\n",
       "    <tr>\n",
       "      <th>0</th>\n",
       "      <td>facebook_congress</td>\n",
       "      <td>4180</td>\n",
       "      <td>27.23</td>\n",
       "    </tr>\n",
       "    <tr>\n",
       "      <th>1</th>\n",
       "      <td>facebook_wiki</td>\n",
       "      <td>2884</td>\n",
       "      <td>18.79</td>\n",
       "    </tr>\n",
       "    <tr>\n",
       "      <th>2</th>\n",
       "      <td>fitocracy</td>\n",
       "      <td>2904</td>\n",
       "      <td>18.92</td>\n",
       "    </tr>\n",
       "    <tr>\n",
       "      <th>3</th>\n",
       "      <td>reddit</td>\n",
       "      <td>2732</td>\n",
       "      <td>17.80</td>\n",
       "    </tr>\n",
       "    <tr>\n",
       "      <th>4</th>\n",
       "      <td>ted</td>\n",
       "      <td>2652</td>\n",
       "      <td>17.27</td>\n",
       "    </tr>\n",
       "  </tbody>\n",
       "</table>\n",
       "</div>"
      ],
      "text/plain": [
       "              source  count  percentage\n",
       "0  facebook_congress   4180       27.23\n",
       "1      facebook_wiki   2884       18.79\n",
       "2          fitocracy   2904       18.92\n",
       "3             reddit   2732       17.80\n",
       "4                ted   2652       17.27"
      ]
     },
     "execution_count": 62,
     "metadata": {},
     "output_type": "execute_result"
    }
   ],
   "source": [
    "# number of posts of each platform\n",
    "cat_distribution(rt_gender, 'source')"
   ]
  },
  {
   "cell_type": "code",
   "execution_count": null,
   "id": "334267ee",
   "metadata": {},
   "outputs": [],
   "source": []
  }
 ],
 "metadata": {
  "environment": {
   "name": "common-cu110.m79",
   "type": "gcloud",
   "uri": "gcr.io/deeplearning-platform-release/base-cu110:m79"
  },
  "kernelspec": {
   "display_name": "Python 3",
   "language": "python",
   "name": "python3"
  },
  "language_info": {
   "codemirror_mode": {
    "name": "ipython",
    "version": 3
   },
   "file_extension": ".py",
   "mimetype": "text/x-python",
   "name": "python",
   "nbconvert_exporter": "python",
   "pygments_lexer": "ipython3",
   "version": "3.7.10"
  }
 },
 "nbformat": 4,
 "nbformat_minor": 5
}
