{
  "nbformat": 4,
  "nbformat_minor": 5,
  "metadata": {
    "environment": {
      "name": "common-cu110.m80",
      "type": "gcloud",
      "uri": "gcr.io/deeplearning-platform-release/base-cu110:m80"
    },
    "kernelspec": {
      "display_name": "Python 3",
      "language": "python",
      "name": "python3"
    },
    "language_info": {
      "codemirror_mode": {
        "name": "ipython",
        "version": 3
      },
      "file_extension": ".py",
      "mimetype": "text/x-python",
      "name": "python",
      "nbconvert_exporter": "python",
      "pygments_lexer": "ipython3",
      "version": "3.7.10"
    },
    "toc-autonumbering": true,
    "colab": {
      "name": "RtGender - Annotations - Removed Irrelevant - BoW Neural Net.ipynb",
      "provenance": [],
      "collapsed_sections": [],
      "include_colab_link": true
    }
  },
  "cells": [
    {
      "cell_type": "markdown",
      "metadata": {
        "id": "view-in-github",
        "colab_type": "text"
      },
      "source": [
        "<a href=\"https://colab.research.google.com/github/ipietri/w266_Final_Project/blob/master/notebooks/RtGender-Notebooks/Removed_Irrelevant/RtGender_Annotations_Removed_Irrelevant_BoW_Neural_Net.ipynb\" target=\"_parent\"><img src=\"https://colab.research.google.com/assets/colab-badge.svg\" alt=\"Open In Colab\"/></a>"
      ]
    },
    {
      "cell_type": "markdown",
      "metadata": {
        "id": "e39fbde0"
      },
      "source": [
        "## RtGender- Annotations - BoW Neural Net\n",
        "\n",
        "In this notebook we build the baseline models for the RtGender dataset. \n",
        "\n",
        "Characteristics of the models:\n",
        "- Neural Bag of Words architecture\n",
        "- A single dense layer with dropout\n",
        "- Use Glove embeddings (dim=300) without fine tuning them\n",
        "- Maximum sequence length is 100\n",
        "\n",
        "\n"
      ],
      "id": "e39fbde0"
    },
    {
      "cell_type": "markdown",
      "metadata": {
        "id": "10cd528a"
      },
      "source": [
        "## Package imports"
      ],
      "id": "10cd528a"
    },
    {
      "cell_type": "code",
      "metadata": {
        "colab": {
          "base_uri": "https://localhost:8080/"
        },
        "id": "fiMZM5rm7A4E",
        "outputId": "402d6ae9-98ab-4185-f1fc-7860756a0c0d"
      },
      "source": [
        "!pip install keras_tuner"
      ],
      "id": "fiMZM5rm7A4E",
      "execution_count": 3,
      "outputs": [
        {
          "output_type": "stream",
          "name": "stdout",
          "text": [
            "Collecting keras_tuner\n",
            "  Downloading keras_tuner-1.1.0-py3-none-any.whl (98 kB)\n",
            "\u001b[?25l\r\u001b[K     |███▍                            | 10 kB 13.9 MB/s eta 0:00:01\r\u001b[K     |██████▊                         | 20 kB 19.1 MB/s eta 0:00:01\r\u001b[K     |██████████                      | 30 kB 24.4 MB/s eta 0:00:01\r\u001b[K     |█████████████▍                  | 40 kB 28.5 MB/s eta 0:00:01\r\u001b[K     |████████████████▊               | 51 kB 20.3 MB/s eta 0:00:01\r\u001b[K     |████████████████████            | 61 kB 14.0 MB/s eta 0:00:01\r\u001b[K     |███████████████████████▍        | 71 kB 12.7 MB/s eta 0:00:01\r\u001b[K     |██████████████████████████▊     | 81 kB 14.0 MB/s eta 0:00:01\r\u001b[K     |██████████████████████████████  | 92 kB 15.3 MB/s eta 0:00:01\r\u001b[K     |████████████████████████████████| 98 kB 5.0 MB/s \n",
            "\u001b[?25hRequirement already satisfied: tensorboard in /usr/local/lib/python3.7/dist-packages (from keras_tuner) (2.7.0)\n",
            "Requirement already satisfied: scipy in /usr/local/lib/python3.7/dist-packages (from keras_tuner) (1.4.1)\n",
            "Requirement already satisfied: packaging in /usr/local/lib/python3.7/dist-packages (from keras_tuner) (21.3)\n",
            "Requirement already satisfied: requests in /usr/local/lib/python3.7/dist-packages (from keras_tuner) (2.23.0)\n",
            "Requirement already satisfied: ipython in /usr/local/lib/python3.7/dist-packages (from keras_tuner) (5.5.0)\n",
            "Collecting kt-legacy\n",
            "  Downloading kt_legacy-1.0.4-py3-none-any.whl (9.6 kB)\n",
            "Requirement already satisfied: numpy in /usr/local/lib/python3.7/dist-packages (from keras_tuner) (1.19.5)\n",
            "Requirement already satisfied: simplegeneric>0.8 in /usr/local/lib/python3.7/dist-packages (from ipython->keras_tuner) (0.8.1)\n",
            "Requirement already satisfied: setuptools>=18.5 in /usr/local/lib/python3.7/dist-packages (from ipython->keras_tuner) (57.4.0)\n",
            "Requirement already satisfied: pygments in /usr/local/lib/python3.7/dist-packages (from ipython->keras_tuner) (2.6.1)\n",
            "Requirement already satisfied: pexpect in /usr/local/lib/python3.7/dist-packages (from ipython->keras_tuner) (4.8.0)\n",
            "Requirement already satisfied: decorator in /usr/local/lib/python3.7/dist-packages (from ipython->keras_tuner) (4.4.2)\n",
            "Requirement already satisfied: prompt-toolkit<2.0.0,>=1.0.4 in /usr/local/lib/python3.7/dist-packages (from ipython->keras_tuner) (1.0.18)\n",
            "Requirement already satisfied: pickleshare in /usr/local/lib/python3.7/dist-packages (from ipython->keras_tuner) (0.7.5)\n",
            "Requirement already satisfied: traitlets>=4.2 in /usr/local/lib/python3.7/dist-packages (from ipython->keras_tuner) (5.1.1)\n",
            "Requirement already satisfied: wcwidth in /usr/local/lib/python3.7/dist-packages (from prompt-toolkit<2.0.0,>=1.0.4->ipython->keras_tuner) (0.2.5)\n",
            "Requirement already satisfied: six>=1.9.0 in /usr/local/lib/python3.7/dist-packages (from prompt-toolkit<2.0.0,>=1.0.4->ipython->keras_tuner) (1.15.0)\n",
            "Requirement already satisfied: pyparsing!=3.0.5,>=2.0.2 in /usr/local/lib/python3.7/dist-packages (from packaging->keras_tuner) (3.0.6)\n",
            "Requirement already satisfied: ptyprocess>=0.5 in /usr/local/lib/python3.7/dist-packages (from pexpect->ipython->keras_tuner) (0.7.0)\n",
            "Requirement already satisfied: certifi>=2017.4.17 in /usr/local/lib/python3.7/dist-packages (from requests->keras_tuner) (2021.10.8)\n",
            "Requirement already satisfied: urllib3!=1.25.0,!=1.25.1,<1.26,>=1.21.1 in /usr/local/lib/python3.7/dist-packages (from requests->keras_tuner) (1.24.3)\n",
            "Requirement already satisfied: idna<3,>=2.5 in /usr/local/lib/python3.7/dist-packages (from requests->keras_tuner) (2.10)\n",
            "Requirement already satisfied: chardet<4,>=3.0.2 in /usr/local/lib/python3.7/dist-packages (from requests->keras_tuner) (3.0.4)\n",
            "Requirement already satisfied: absl-py>=0.4 in /usr/local/lib/python3.7/dist-packages (from tensorboard->keras_tuner) (0.12.0)\n",
            "Requirement already satisfied: markdown>=2.6.8 in /usr/local/lib/python3.7/dist-packages (from tensorboard->keras_tuner) (3.3.6)\n",
            "Requirement already satisfied: tensorboard-plugin-wit>=1.6.0 in /usr/local/lib/python3.7/dist-packages (from tensorboard->keras_tuner) (1.8.0)\n",
            "Requirement already satisfied: grpcio>=1.24.3 in /usr/local/lib/python3.7/dist-packages (from tensorboard->keras_tuner) (1.42.0)\n",
            "Requirement already satisfied: werkzeug>=0.11.15 in /usr/local/lib/python3.7/dist-packages (from tensorboard->keras_tuner) (1.0.1)\n",
            "Requirement already satisfied: google-auth-oauthlib<0.5,>=0.4.1 in /usr/local/lib/python3.7/dist-packages (from tensorboard->keras_tuner) (0.4.6)\n",
            "Requirement already satisfied: wheel>=0.26 in /usr/local/lib/python3.7/dist-packages (from tensorboard->keras_tuner) (0.37.0)\n",
            "Requirement already satisfied: google-auth<3,>=1.6.3 in /usr/local/lib/python3.7/dist-packages (from tensorboard->keras_tuner) (1.35.0)\n",
            "Requirement already satisfied: tensorboard-data-server<0.7.0,>=0.6.0 in /usr/local/lib/python3.7/dist-packages (from tensorboard->keras_tuner) (0.6.1)\n",
            "Requirement already satisfied: protobuf>=3.6.0 in /usr/local/lib/python3.7/dist-packages (from tensorboard->keras_tuner) (3.17.3)\n",
            "Requirement already satisfied: cachetools<5.0,>=2.0.0 in /usr/local/lib/python3.7/dist-packages (from google-auth<3,>=1.6.3->tensorboard->keras_tuner) (4.2.4)\n",
            "Requirement already satisfied: pyasn1-modules>=0.2.1 in /usr/local/lib/python3.7/dist-packages (from google-auth<3,>=1.6.3->tensorboard->keras_tuner) (0.2.8)\n",
            "Requirement already satisfied: rsa<5,>=3.1.4 in /usr/local/lib/python3.7/dist-packages (from google-auth<3,>=1.6.3->tensorboard->keras_tuner) (4.7.2)\n",
            "Requirement already satisfied: requests-oauthlib>=0.7.0 in /usr/local/lib/python3.7/dist-packages (from google-auth-oauthlib<0.5,>=0.4.1->tensorboard->keras_tuner) (1.3.0)\n",
            "Requirement already satisfied: importlib-metadata>=4.4 in /usr/local/lib/python3.7/dist-packages (from markdown>=2.6.8->tensorboard->keras_tuner) (4.8.2)\n",
            "Requirement already satisfied: typing-extensions>=3.6.4 in /usr/local/lib/python3.7/dist-packages (from importlib-metadata>=4.4->markdown>=2.6.8->tensorboard->keras_tuner) (3.10.0.2)\n",
            "Requirement already satisfied: zipp>=0.5 in /usr/local/lib/python3.7/dist-packages (from importlib-metadata>=4.4->markdown>=2.6.8->tensorboard->keras_tuner) (3.6.0)\n",
            "Requirement already satisfied: pyasn1<0.5.0,>=0.4.6 in /usr/local/lib/python3.7/dist-packages (from pyasn1-modules>=0.2.1->google-auth<3,>=1.6.3->tensorboard->keras_tuner) (0.4.8)\n",
            "Requirement already satisfied: oauthlib>=3.0.0 in /usr/local/lib/python3.7/dist-packages (from requests-oauthlib>=0.7.0->google-auth-oauthlib<0.5,>=0.4.1->tensorboard->keras_tuner) (3.1.1)\n",
            "Installing collected packages: kt-legacy, keras-tuner\n",
            "Successfully installed keras-tuner-1.1.0 kt-legacy-1.0.4\n"
          ]
        }
      ]
    },
    {
      "cell_type": "code",
      "metadata": {
        "id": "bfb853e9"
      },
      "source": [
        "import pandas as pd\n",
        "import numpy as np\n",
        "\n",
        "import matplotlib.pyplot as plt\n",
        "# This tells matplotlib not to try opening a new window for each plot.\n",
        "%matplotlib inline\n",
        "import seaborn as sns\n",
        "\n",
        "from collections import Counter\n",
        "\n",
        "import tensorflow as tf\n",
        "from keras.preprocessing.text import Tokenizer\n",
        "from tensorflow.keras.layers import Embedding, Input, Dense, Lambda, Dropout\n",
        "from keras.models import Sequential\n",
        "from tensorflow.keras.layers import TextVectorization\n",
        "import tensorflow.keras.backend as K\n",
        "# for hyperparameter tunning\n",
        "import keras_tuner as kt\n",
        "from keras_tuner import HyperModel\n",
        "import keras_tuner as kt\n",
        "from tensorflow.keras.utils import to_categorical\n",
        "from keras.preprocessing.sequence import pad_sequences\n",
        "\n",
        "\n",
        "# import sklearn to calculate the metrics\n",
        "from sklearn import metrics\n",
        "from sklearn.preprocessing import label_binarize\n",
        "from sklearn.model_selection import train_test_split\n",
        "from sklearn.metrics import classification_report\n"
      ],
      "id": "bfb853e9",
      "execution_count": 4,
      "outputs": []
    },
    {
      "cell_type": "code",
      "metadata": {
        "id": "7762ba27",
        "colab": {
          "base_uri": "https://localhost:8080/"
        },
        "outputId": "2ba10606-802c-4543-cca4-75905e6fae02"
      },
      "source": [
        "print(tf.__version__)"
      ],
      "id": "7762ba27",
      "execution_count": 5,
      "outputs": [
        {
          "output_type": "stream",
          "name": "stdout",
          "text": [
            "2.7.0\n"
          ]
        }
      ]
    },
    {
      "cell_type": "code",
      "metadata": {
        "id": "b8da6ff7",
        "colab": {
          "base_uri": "https://localhost:8080/",
          "height": 35
        },
        "outputId": "0a59887f-7e26-460c-9c4a-6c12626f753f"
      },
      "source": [
        "import os\n",
        "os.getcwd()"
      ],
      "id": "b8da6ff7",
      "execution_count": 6,
      "outputs": [
        {
          "output_type": "execute_result",
          "data": {
            "application/vnd.google.colaboratory.intrinsic+json": {
              "type": "string"
            },
            "text/plain": [
              "'/content'"
            ]
          },
          "metadata": {},
          "execution_count": 6
        }
      ]
    },
    {
      "cell_type": "markdown",
      "metadata": {
        "id": "e7545875"
      },
      "source": [
        "# Load\n",
        "Load training, development and test datasets. See RtGender Split and Save notebook to see approach. "
      ],
      "id": "e7545875"
    },
    {
      "cell_type": "code",
      "metadata": {
        "colab": {
          "base_uri": "https://localhost:8080/"
        },
        "id": "aH1TbcMD7iRR",
        "outputId": "9467893c-3cc8-4b56-ea8f-ebd2625ba62f"
      },
      "source": [
        "try:\n",
        "  from google.colab import drive\n",
        "  drive.mount('/content/drive', force_remount=True)\n",
        "  path = r'/content/drive/MyDrive/w266'\n",
        "except ModuleNotFoundError:\n",
        "  path = r'data'"
      ],
      "id": "aH1TbcMD7iRR",
      "execution_count": 21,
      "outputs": [
        {
          "output_type": "stream",
          "name": "stdout",
          "text": [
            "Mounted at /content/drive\n"
          ]
        }
      ]
    },
    {
      "cell_type": "code",
      "metadata": {
        "id": "51e7fb3e",
        "colab": {
          "base_uri": "https://localhost:8080/"
        },
        "outputId": "1928df9b-a4ba-4ba2-e19e-5c9c293f55a4"
      },
      "source": [
        "# annotations data\n",
        "# annotations = pd.read_parquet('../../data/RtGender/annotations.parquet.gzip')\n",
        "\n",
        "\n",
        "train_df = pd.read_csv('/content/drive/MyDrive/w266/annotations_train.csv')\n",
        "dev_df = pd.read_csv('/content/drive/MyDrive/w266/annotations_dev.csv')\n",
        "\n",
        "print('train_shape: ',train_df.shape)\n",
        "print('dev_shape: ',dev_df.shape)"
      ],
      "id": "51e7fb3e",
      "execution_count": 9,
      "outputs": [
        {
          "output_type": "stream",
          "name": "stdout",
          "text": [
            "train_shape:  (10746, 9)\n",
            "dev_shape:  (2303, 9)\n"
          ]
        }
      ]
    },
    {
      "cell_type": "code",
      "metadata": {
        "colab": {
          "base_uri": "https://localhost:8080/"
        },
        "id": "YPNL_jyK7qeI",
        "outputId": "56fa604e-32ef-4ca8-ab9d-ca637ccd65c0"
      },
      "source": [
        "# remove irrelevant annotation examples\n",
        "train_df  = train_df[train_df['relevance'] != 'Irrelevant']\n",
        "dev_df = dev_df[dev_df['relevance'] != 'Irrelevant']\n",
        "\n",
        "print('updated train_shape: ',train_df.shape)\n",
        "print('updated dev_shape: ',dev_df.shape)"
      ],
      "id": "YPNL_jyK7qeI",
      "execution_count": 11,
      "outputs": [
        {
          "output_type": "stream",
          "name": "stdout",
          "text": [
            "updated train_shape:  (9482, 9)\n",
            "updated dev_shape:  (2042, 9)\n"
          ]
        }
      ]
    },
    {
      "cell_type": "markdown",
      "metadata": {
        "id": "40c4ca26"
      },
      "source": [
        "## Load GloVe "
      ],
      "id": "40c4ca26"
    },
    {
      "cell_type": "code",
      "metadata": {
        "id": "8e43db36",
        "colab": {
          "base_uri": "https://localhost:8080/"
        },
        "outputId": "88115e8e-188c-4c70-8cbf-8eaf9520886b"
      },
      "source": [
        "# load pre-trained word embeddings. In this case Glove\n",
        "# This is commented out to avoid downloading it again\n",
        "!wget http://nlp.stanford.edu/data/glove.6B.zip -P ~/data/\n",
        "\n",
        "# unzip the file\n",
        "# commented out for the same reason above\n",
        "!unzip ~/data/glove.6B.zip -d ~/data/"
      ],
      "id": "8e43db36",
      "execution_count": 22,
      "outputs": [
        {
          "output_type": "stream",
          "name": "stdout",
          "text": [
            "--2021-11-29 23:13:51--  http://nlp.stanford.edu/data/glove.6B.zip\n",
            "Resolving nlp.stanford.edu (nlp.stanford.edu)... 171.64.67.140\n",
            "Connecting to nlp.stanford.edu (nlp.stanford.edu)|171.64.67.140|:80... connected.\n",
            "HTTP request sent, awaiting response... 302 Found\n",
            "Location: https://nlp.stanford.edu/data/glove.6B.zip [following]\n",
            "--2021-11-29 23:13:51--  https://nlp.stanford.edu/data/glove.6B.zip\n",
            "Connecting to nlp.stanford.edu (nlp.stanford.edu)|171.64.67.140|:443... connected.\n",
            "HTTP request sent, awaiting response... 301 Moved Permanently\n",
            "Location: http://downloads.cs.stanford.edu/nlp/data/glove.6B.zip [following]\n",
            "--2021-11-29 23:13:52--  http://downloads.cs.stanford.edu/nlp/data/glove.6B.zip\n",
            "Resolving downloads.cs.stanford.edu (downloads.cs.stanford.edu)... 171.64.64.22\n",
            "Connecting to downloads.cs.stanford.edu (downloads.cs.stanford.edu)|171.64.64.22|:80... connected.\n",
            "HTTP request sent, awaiting response... 200 OK\n",
            "Length: 862182613 (822M) [application/zip]\n",
            "Saving to: ‘/root/data/glove.6B.zip.1’\n",
            "\n",
            "glove.6B.zip.1       23%[===>                ] 195.11M  5.00MB/s    eta 1m 57s ^C\n",
            "Archive:  /root/data/glove.6B.zip\n",
            "replace /root/data/glove.6B.50d.txt? [y]es, [n]o, [A]ll, [N]one, [r]ename: "
          ]
        }
      ]
    },
    {
      "cell_type": "code",
      "metadata": {
        "id": "8167680e",
        "colab": {
          "base_uri": "https://localhost:8080/"
        },
        "outputId": "da769a74-dfb6-481e-e741-dbda1e4dc73d"
      },
      "source": [
        "# path to glove file- will use the embeddings with dimension = 300\n",
        "glove_file =\"/root/data/glove.6B.300d.txt\"\n",
        "\n",
        "# embedding layer \n",
        "embeddings_index = {}\n",
        "f = open(os.path.join(glove_file))\n",
        "for line in f:\n",
        "    values = line.split()\n",
        "    word = values[0]\n",
        "    coefs = np.asarray(values[1:], dtype='float32')\n",
        "    embeddings_index[word] = coefs\n",
        "f.close()\n",
        "\n",
        "print('Found %s word vectors.' % len(embeddings_index))"
      ],
      "id": "8167680e",
      "execution_count": 23,
      "outputs": [
        {
          "output_type": "stream",
          "name": "stdout",
          "text": [
            "Found 400000 word vectors.\n"
          ]
        }
      ]
    },
    {
      "cell_type": "markdown",
      "metadata": {
        "id": "0798594a"
      },
      "source": [
        "# Helper functions"
      ],
      "id": "0798594a"
    },
    {
      "cell_type": "code",
      "metadata": {
        "id": "8ec075f8"
      },
      "source": [
        "#Posts, Responses, & Annotations: op_gender (M:0, W:1)\n",
        "gender_binary_mappings = {\"M\": 0, \"W\": 1}\n",
        "gender_labels = [\"M\", \"W\"]\n",
        "\n",
        "# Annotations sentiment\n",
        "# group mixed and neutral \n",
        "sentiment_mappings = {'Positive': 2, 'Mixed': 1, 'Neutral': 1, 'Negative':0}\n",
        "sentiment_labels = ['Positive', 'Mixed/Neutral', 'Negative']\n"
      ],
      "id": "8ec075f8",
      "execution_count": 24,
      "outputs": []
    },
    {
      "cell_type": "code",
      "metadata": {
        "id": "42458b73"
      },
      "source": [
        "def tokenize_Xtrain_and_Xdev(x_train, x_dev):\n",
        "    '''Combine tokenize and split back the X_train and \n",
        "    X_dev or X_test datasets. Then create an embedding matrix.'''\n",
        "\n",
        "    # note the length of the training index\n",
        "    train_idx = len(x_train)\n",
        "    #combine train and dev data and then tokenize\n",
        "    texts = x_train.append(x_dev)\n",
        "\n",
        "    tokenizer.fit_on_texts(texts)\n",
        "    sequences = tokenizer.texts_to_sequences(texts)\n",
        "    word_index = tokenizer.word_index\n",
        "    print('Train + Dev %s unique tokens.' % len(word_index))\n",
        "\n",
        "    data = pad_sequences(sequences, maxlen=max_sequence_length)\n",
        "    print('Shape of data tensor:', data.shape)\n",
        "    \n",
        "    x_train = data[:train_idx]\n",
        "    x_dev = data[train_idx:]\n",
        "\n",
        "    print('Shape of train data tensor:', x_train.shape)\n",
        "    print('Shape of dev data tensor:', x_dev.shape)\n",
        "    print(\"-\"*60)\n",
        "    \n",
        "    # print top 5 most and least common tokens\n",
        "    print(\"top 5 most common tokens: \", sorted(word_index, key=word_index.get, reverse=True)[-5:])\n",
        "    print(\"top 5 least common tokens: \", sorted(word_index, key=word_index.get, reverse=True)[:5])\n",
        "    print(\"-\"*60)\n",
        "\n",
        "    \n",
        "    # build embedding matrix to use it in the model\n",
        "    dimensions_emb = 300\n",
        "\n",
        "    # zero position is zero by default in keras\n",
        "    embedding_matrix = np.zeros((len(word_index) + 1, dimensions_emb)) \n",
        "\n",
        "    total_tokens = len(word_index) + 1\n",
        "    with_embedding = []\n",
        "    without_embedding = []\n",
        "\n",
        "    for word, i in word_index.items():\n",
        "        embedding_vector = embeddings_index.get(word)\n",
        "        if embedding_vector is not None:\n",
        "            # words not found in embedding index will be all-zeros.\n",
        "            embedding_matrix[i] = embedding_vector\n",
        "            with_embedding.append(word)\n",
        "        else:\n",
        "            without_embedding.append(word)\n",
        "\n",
        "    print(f'Number of words with embeddings found: {len(with_embedding)}')\n",
        "    print(f'Number of words with embeddings NOT found: {len(without_embedding)}')        \n",
        "\n",
        "    \n",
        "    return x_train, x_dev, embedding_matrix\n"
      ],
      "id": "42458b73",
      "execution_count": 25,
      "outputs": []
    },
    {
      "cell_type": "code",
      "metadata": {
        "id": "5eee790a"
      },
      "source": [
        "def binary_loss_accuracy_plots(training_history):\n",
        "    '''\n",
        "    Returns plots for loss and accuracy during the training process of a NN.\n",
        "    Parameters:\n",
        "    training_history: object that stores the training history of the NN (from model.fit(...))\n",
        "    xrange: range in x axis\n",
        "    task: string used for the title in the plot\n",
        "    '''\n",
        "    \n",
        "    fig, (ax1, ax2) = plt.subplots(1, 2, figsize=(15,6))\n",
        "    \n",
        "    # summarize history for accuracy\n",
        "    ax1.plot(training_history.history['binary_accuracy'])\n",
        "    ax1.plot(training_history.history['val_binary_accuracy'])\n",
        "    ax1.set_title('model accuracy')\n",
        "    ax1.set_ylabel('accuracy')\n",
        "    ax1.set_xlabel('epoch')\n",
        "    ax1.legend(['train', 'dev'], loc='upper left')\n",
        "\n",
        "    # summarize history for loss\n",
        "    ax2.plot(training_history.history['loss'])\n",
        "    ax2.plot(training_history.history['val_loss'])\n",
        "    ax2.set_title('model loss')\n",
        "    ax2.set_ylabel('loss')\n",
        "    ax2.set_xlabel('epoch')\n",
        "    ax2.legend(['train', 'dev'], loc='upper left')\n",
        "\n",
        "    plt.show()\n",
        "    \n",
        "def multiclass_loss_accuracy_plots(training_history):\n",
        "    '''\n",
        "    Returns plots for loss and accuracy during the training process of a NN.\n",
        "    Parameters:\n",
        "    training_history: object that stores the training history of the NN (from model.fit(...))\n",
        "    '''\n",
        "    \n",
        "    fig, (ax1, ax2) = plt.subplots(1, 2, figsize=(15,6))\n",
        "    \n",
        "    # summarize history for accuracy\n",
        "    ax1.plot(training_history.history['categorical_accuracy'])\n",
        "    ax1.plot(training_history.history['val_categorical_accuracy'])\n",
        "    ax1.set_title('model accuracy')\n",
        "    ax1.set_ylabel('accuracy')\n",
        "    ax1.set_xlabel('epoch')\n",
        "    ax1.legend(['train', 'dev'], loc='upper left')\n",
        "\n",
        "    # summarize history for loss\n",
        "    ax2.plot(training_history.history['loss'])\n",
        "    ax2.plot(training_history.history['val_loss'])\n",
        "    ax2.set_title('model loss')\n",
        "    ax2.set_ylabel('loss')\n",
        "    ax2.set_xlabel('epoch')\n",
        "    ax2.legend(['train', 'dev'], loc='upper left')\n",
        "\n",
        "    plt.show()"
      ],
      "id": "5eee790a",
      "execution_count": 26,
      "outputs": []
    },
    {
      "cell_type": "code",
      "metadata": {
        "id": "db73c525"
      },
      "source": [
        "def confusion_matrix(x_dev, original_dev_labels, class_labels):\n",
        "\n",
        "    # identify the correct class\n",
        "    max_class_idx = np.argmax(y_pred, axis = 1)\n",
        "    \n",
        "    # Create a confusion matrix\n",
        "    cm = tf.math.confusion_matrix(original_dev_labels, max_class_idx)\n",
        "    cm = cm/cm.numpy().sum(axis=1)[:, tf.newaxis]\n",
        "\n",
        "    sns.heatmap(\n",
        "        cm, annot=True,\n",
        "        xticklabels=class_labels,\n",
        "        yticklabels=class_labels,\n",
        "        fmt='.2%', cmap='Blues')\n",
        "    plt.xlabel(\"Predicted\")\n",
        "    plt.ylabel(\"True\")\n",
        "    plt.show()\n",
        "    \n",
        "    # print classification report\n",
        "    print(metrics.classification_report(original_dev_labels, max_class_idx))\n",
        "    # print global weighted f-1 score\n",
        "    f1 = metrics.f1_score(original_dev_labels, max_class_idx, pos_label=1, average='weighted')*100\n",
        "    print(f\"Weighted f1-score: %.2f%%\" %f1)\n"
      ],
      "id": "db73c525",
      "execution_count": 27,
      "outputs": []
    },
    {
      "cell_type": "markdown",
      "metadata": {
        "tags": [],
        "id": "3933ee1b"
      },
      "source": [
        "# Annotations: Sentiment\n"
      ],
      "id": "3933ee1b"
    },
    {
      "cell_type": "code",
      "metadata": {
        "id": "5a5e6dce"
      },
      "source": [
        "X_train = train_df['response_text']\n",
        "y_train = train_df['labels_4']\n",
        "\n",
        "X_dev = dev_df['response_text']\n",
        "y_dev = dev_df['labels_4']\n",
        "\n"
      ],
      "id": "5a5e6dce",
      "execution_count": 31,
      "outputs": []
    },
    {
      "cell_type": "markdown",
      "metadata": {
        "id": "a11e15aa"
      },
      "source": [
        "## Preprocess & Embeddings matrix"
      ],
      "id": "a11e15aa"
    },
    {
      "cell_type": "code",
      "metadata": {
        "id": "6da2e52d",
        "colab": {
          "base_uri": "https://localhost:8080/"
        },
        "outputId": "23934005-31dc-4ff9-a991-af5cf8100761"
      },
      "source": [
        "# tokenize data and return embeddings matrix \n",
        "max_tokens = 10000\n",
        "# consider this maximum number of words\n",
        "max_sequence_length = 289\n",
        "tokenizer = Tokenizer(num_words=max_tokens)\n",
        "\n",
        "x_train, x_dev, embedding_matrix = tokenize_Xtrain_and_Xdev(X_train, X_dev)\n",
        "\n",
        "# one-hot encodign and reshape labels\n",
        "print(\"-\"*60)\n",
        "\n",
        "train_labels = to_categorical(np.asarray(y_train))\n",
        "dev_labels = to_categorical(np.asarray(y_dev))\n",
        "\n",
        "print('Shape of train label tensor:', train_labels.shape)\n",
        "print('Shape of dev label tensor:', dev_labels.shape)"
      ],
      "id": "6da2e52d",
      "execution_count": 32,
      "outputs": [
        {
          "output_type": "stream",
          "name": "stdout",
          "text": [
            "Train + Dev 18096 unique tokens.\n",
            "Shape of data tensor: (11524, 289)\n",
            "Shape of train data tensor: (9482, 289)\n",
            "Shape of dev data tensor: (2042, 289)\n",
            "------------------------------------------------------------\n",
            "top 5 most common tokens:  ['and', 'you', 'i', 'to', 'the']\n",
            "top 5 least common tokens:  ['grandeur', 'inadequate', 'woefully', 'lodge', 'jazzy']\n",
            "------------------------------------------------------------\n",
            "Number of words with embeddings found: 15510\n",
            "Number of words with embeddings NOT found: 2586\n",
            "------------------------------------------------------------\n",
            "Shape of train label tensor: (9482, 4)\n",
            "Shape of dev label tensor: (2042, 4)\n"
          ]
        }
      ]
    },
    {
      "cell_type": "markdown",
      "metadata": {
        "id": "d19a5fce"
      },
      "source": [
        "## Best Model"
      ],
      "id": "d19a5fce"
    },
    {
      "cell_type": "code",
      "metadata": {
        "id": "faab50e2"
      },
      "source": [
        "def multiclass_model_builder(hp):\n",
        "    model = tf.keras.Sequential()\n",
        "    model.add(embedding_layer) \n",
        "    model.add(tf.keras.layers.Lambda(lambda x: K.mean(x, axis=1))) #avg\n",
        "\n",
        "    # Tune the number of units in the first Dense layer\n",
        "    # Choose an optimal value between 10 and 100\n",
        "    hp_units = hp.Int('units', min_value=10, max_value=100, step=10)\n",
        "    model.add(tf.keras.layers.Dense(units=hp_units, activation='relu'))\n",
        "    \n",
        "    # Tune dropout layer \n",
        "    dropout = hp.Float('dropout', min_value=0.2, max_value=0.5, default=0.0, step=0.05)\n",
        "    model.add(Dropout(dropout))\n",
        "        \n",
        "    # output layer \n",
        "    model.add(Dense(4, activation='softmax'))\n",
        "\n",
        "    # Tune the learning rate for the optimizer\n",
        "    # Choose an optimal value from 0.01, 0.001, or 0.0001\n",
        "    hp_learning_rate = hp.Choice('learning_rate', values=[1e-2, 1e-3, 1e-4])\n",
        "\n",
        "    model.compile(optimizer=tf.keras.optimizers.Adam(learning_rate=hp_learning_rate),\n",
        "                loss='categorical_crossentropy', \n",
        "                metrics=[tf.keras.metrics.categorical_accuracy, 'categorical_crossentropy'])\n",
        "\n",
        "    return model"
      ],
      "id": "faab50e2",
      "execution_count": 36,
      "outputs": []
    },
    {
      "cell_type": "code",
      "metadata": {
        "id": "74963805",
        "colab": {
          "base_uri": "https://localhost:8080/"
        },
        "outputId": "2d26f6b2-5aa6-465d-ce15-77807bdf6301"
      },
      "source": [
        "embedding_layer = Embedding(embedding_matrix.shape[0],\n",
        "                            embedding_matrix.shape[1],\n",
        "                            embeddings_initializer=tf.keras.initializers.Constant(embedding_matrix),\n",
        "                            input_length=max_sequence_length,\n",
        "                            trainable=False)\n",
        "\n",
        "tuner = kt.Hyperband(multiclass_model_builder,\n",
        "                     objective='val_categorical_accuracy',\n",
        "                     max_epochs=100,\n",
        "                     factor=4,\n",
        "                     directory='my_dir',\n",
        "                     project_name='intro_to_kt2')\n",
        "\n",
        "tuner.search(x_train, train_labels, validation_data=(x_dev, dev_labels),\n",
        "             epochs=1)\n",
        "\n",
        "# Get the optimal hyperparameters\n",
        "best_hps=tuner.get_best_hyperparameters(num_trials=1)[0]\n",
        "\n",
        "print(f\"\"\"\n",
        "The hyperparameter search is complete. The optimal number of units in the first densely-connected\n",
        "layer is {best_hps.get('units')} and the optimal learning rate for the optimizer\n",
        "is {best_hps.get('learning_rate')}.\n",
        "\"\"\")"
      ],
      "id": "74963805",
      "execution_count": 37,
      "outputs": [
        {
          "output_type": "stream",
          "name": "stdout",
          "text": [
            "Trial 255 Complete [00h 03m 27s]\n",
            "val_categorical_accuracy: 0.6395690441131592\n",
            "\n",
            "Best val_categorical_accuracy So Far: 0.6395690441131592\n",
            "Total elapsed time: 01h 45m 25s\n",
            "INFO:tensorflow:Oracle triggered exit\n",
            "\n",
            "The hyperparameter search is complete. The optimal number of units in the first densely-connected\n",
            "layer is 40 and the optimal learning rate for the optimizer\n",
            "is 0.001.\n",
            "\n"
          ]
        }
      ]
    },
    {
      "cell_type": "code",
      "metadata": {
        "id": "aeb18caf-839a-4636-8966-cdd4310748f6",
        "colab": {
          "base_uri": "https://localhost:8080/"
        },
        "outputId": "bca50e82-8174-4f9b-98e4-933aecfd0789"
      },
      "source": [
        "# create a model off the best model\n",
        "model = tuner.hypermodel.build(best_hps)\n",
        "model.save('~/RtGender/annotations_sentiment_bow_neural_model_only_relevant')\n",
        "\n",
        "# fit model \n",
        "history = model.fit(x_train, train_labels,\n",
        "                    validation_data=(x_dev, dev_labels),\n",
        "                    epochs=50, verbose=0)"
      ],
      "id": "aeb18caf-839a-4636-8966-cdd4310748f6",
      "execution_count": 38,
      "outputs": [
        {
          "output_type": "stream",
          "name": "stdout",
          "text": [
            "INFO:tensorflow:Assets written to: ~/RtGender/annotations_sentiment_bow_neural_model/assets\n"
          ]
        }
      ]
    },
    {
      "cell_type": "markdown",
      "metadata": {
        "id": "09f1b2d4-0d72-4040-812c-5391371ecb36"
      },
      "source": [
        "## Metrics"
      ],
      "id": "09f1b2d4-0d72-4040-812c-5391371ecb36"
    },
    {
      "cell_type": "code",
      "metadata": {
        "id": "198fa802-f404-417b-9aa5-1e55d5f5909d",
        "colab": {
          "base_uri": "https://localhost:8080/",
          "height": 992
        },
        "outputId": "775f40b9-27c4-4f1b-abd8-4dbc3896c4ca"
      },
      "source": [
        "multiclass_loss_accuracy_plots(history)\n",
        "y_pred = model.predict(x_dev) #predict\n",
        "confusion_matrix(x_dev, y_dev, sentiment_labels)"
      ],
      "id": "198fa802-f404-417b-9aa5-1e55d5f5909d",
      "execution_count": 39,
      "outputs": [
        {
          "output_type": "display_data",
          "data": {
            "image/png": "[encoded data removed]",
            "text/plain": [
              "<Figure size 1080x432 with 2 Axes>"
            ]
          },
          "metadata": {
            "needs_background": "light"
          }
        },
        {
          "output_type": "display_data",
          "data": {
            "image/png": "[encoded data removed]",
            "text/plain": [
              "<Figure size 432x288 with 2 Axes>"
            ]
          },
          "metadata": {
            "needs_background": "light"
          }
        },
        {
          "output_type": "stream",
          "name": "stdout",
          "text": [
            "              precision    recall  f1-score   support\n",
            "\n",
            "           0       0.46      0.58      0.52       329\n",
            "           1       0.45      0.42      0.44       415\n",
            "           2       0.74      0.85      0.79      1077\n",
            "           3       0.00      0.00      0.00       221\n",
            "\n",
            "    accuracy                           0.63      2042\n",
            "   macro avg       0.41      0.46      0.44      2042\n",
            "weighted avg       0.56      0.63      0.59      2042\n",
            "\n",
            "Weighted f1-score: 58.77%\n"
          ]
        },
        {
          "output_type": "stream",
          "name": "stderr",
          "text": [
            "/usr/local/lib/python3.7/dist-packages/sklearn/metrics/_classification.py:1308: UndefinedMetricWarning: Precision and F-score are ill-defined and being set to 0.0 in labels with no predicted samples. Use `zero_division` parameter to control this behavior.\n",
            "  _warn_prf(average, modifier, msg_start, len(result))\n",
            "/usr/local/lib/python3.7/dist-packages/sklearn/metrics/_classification.py:1308: UndefinedMetricWarning: Precision and F-score are ill-defined and being set to 0.0 in labels with no predicted samples. Use `zero_division` parameter to control this behavior.\n",
            "  _warn_prf(average, modifier, msg_start, len(result))\n",
            "/usr/local/lib/python3.7/dist-packages/sklearn/metrics/_classification.py:1308: UndefinedMetricWarning: Precision and F-score are ill-defined and being set to 0.0 in labels with no predicted samples. Use `zero_division` parameter to control this behavior.\n",
            "  _warn_prf(average, modifier, msg_start, len(result))\n"
          ]
        }
      ]
    }
  ]
}