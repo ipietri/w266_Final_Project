{
  "nbformat": 4,
  "nbformat_minor": 0,
  "metadata": {
    "colab": {
      "name": "RtGender - Split Annotations.ipynb",
      "provenance": [],
      "collapsed_sections": [
        "KPIXbPYQnoVV",
        "RF_ks4Tc9Nbh",
        "tPmmdzm7CS37"
      ],
      "machine_shape": "hm",
      "authorship_tag": "ABX9TyMd8scGRZdRtbnaROSiJNkB",
      "include_colab_link": true
    },
    "kernelspec": {
      "name": "python3",
      "display_name": "Python 3"
    },
    "language_info": {
      "name": "python"
    },
    "accelerator": "GPU"
  },
  "cells": [
    {
      "cell_type": "markdown",
      "metadata": {
        "id": "view-in-github",
        "colab_type": "text"
      },
      "source": [
        "<a href=\"https://colab.research.google.com/github/ipietri/w266_Final_Project/blob/master/notebooks/RtGender-Notebooks/RtGender_Split_Annotations.ipynb\" target=\"_parent\"><img src=\"https://colab.research.google.com/assets/colab-badge.svg\" alt=\"Open In Colab\"/></a>"
      ]
    },
    {
      "cell_type": "markdown",
      "metadata": {
        "id": "nlq21_F27BIc"
      },
      "source": [
        "# Load"
      ]
    },
    {
      "cell_type": "code",
      "metadata": {
        "colab": {
          "base_uri": "https://localhost:8080/"
        },
        "id": "liZb3K7B8Pxg",
        "outputId": "a50f01ba-4587-48ff-e9ef-7587437fae59"
      },
      "source": [
        "#mount from Google Drive \n",
        "\n",
        "try:\n",
        "  from google.colab import drive\n",
        "  drive.mount('/content/drive', force_remount=True)\n",
        "  path = r'/content/drive/MyDrive/w266'\n",
        "except ModuleNotFoundError:\n",
        "  path = r'data'"
      ],
      "execution_count": 1,
      "outputs": [
        {
          "output_type": "stream",
          "name": "stdout",
          "text": [
            "Mounted at /content/drive\n"
          ]
        }
      ]
    },
    {
      "cell_type": "code",
      "metadata": {
        "id": "WliR7xYj6EU1"
      },
      "source": [
        "!pip install keras_tuner\n",
        "\n",
        "import pandas as pd\n",
        "import numpy as np\n",
        "\n",
        "import matplotlib.pyplot as plt\n",
        "# This tells matplotlib not to try opening a new window for each plot.\n",
        "%matplotlib inline\n",
        "import seaborn as sns\n",
        "\n",
        "from collections import Counter\n",
        "\n",
        "# import sklearn to calculate the metrics\n",
        "from sklearn import metrics\n",
        "from sklearn.preprocessing import label_binarize\n",
        "from sklearn.model_selection import train_test_split\n",
        "from sklearn.metrics import classification_report"
      ],
      "execution_count": null,
      "outputs": []
    },
    {
      "cell_type": "code",
      "metadata": {
        "id": "VqeLn1Gixywk"
      },
      "source": [
        "# for huggingface compatible arrow tables\n",
        "%%capture\n",
        "!pip install datasets\n",
        "import datasets \n",
        "from datasets import load_dataset, Dataset, DatasetDict"
      ],
      "execution_count": 3,
      "outputs": []
    },
    {
      "cell_type": "markdown",
      "metadata": {
        "id": "eaZqpKgcx0Y-"
      },
      "source": [
        "# Import and Quick Look at Annotations\n",
        "See EDA workbook for more detailed review"
      ]
    },
    {
      "cell_type": "code",
      "metadata": {
        "colab": {
          "base_uri": "https://localhost:8080/",
          "height": 419
        },
        "id": "H0DUnmTinn6h",
        "outputId": "de4d2704-9cd3-4f28-b091-2257627d9d44"
      },
      "source": [
        "#import annotations dataset\n",
        "annotations_df = pd.read_parquet('/content/drive/MyDrive/w266/annotations.parquet.gzip')\n",
        "annotations_df"
      ],
      "execution_count": 4,
      "outputs": [
        {
          "output_type": "execute_result",
          "data": {
            "text/html": [
              "<div>\n",
              "<style scoped>\n",
              "    .dataframe tbody tr th:only-of-type {\n",
              "        vertical-align: middle;\n",
              "    }\n",
              "\n",
              "    .dataframe tbody tr th {\n",
              "        vertical-align: top;\n",
              "    }\n",
              "\n",
              "    .dataframe thead th {\n",
              "        text-align: right;\n",
              "    }\n",
              "</style>\n",
              "<table border=\"1\" class=\"dataframe\">\n",
              "  <thead>\n",
              "    <tr style=\"text-align: right;\">\n",
              "      <th></th>\n",
              "      <th>source</th>\n",
              "      <th>op_gender</th>\n",
              "      <th>post_text</th>\n",
              "      <th>response_text</th>\n",
              "      <th>sentiment</th>\n",
              "      <th>relevance</th>\n",
              "    </tr>\n",
              "  </thead>\n",
              "  <tbody>\n",
              "    <tr>\n",
              "      <th>0</th>\n",
              "      <td>facebook_wiki</td>\n",
              "      <td>W</td>\n",
              "      <td>Stopped by Fashion Week and got to hang with A...</td>\n",
              "      <td>You are Both Sweet Ashley Tisdale and Lauren C...</td>\n",
              "      <td>Positive</td>\n",
              "      <td>Poster</td>\n",
              "    </tr>\n",
              "    <tr>\n",
              "      <th>1</th>\n",
              "      <td>facebook_wiki</td>\n",
              "      <td>M</td>\n",
              "      <td>Well guys, real progress is happening. I'm 50 ...</td>\n",
              "      <td>Give us the first page to read. ONE PAGE.</td>\n",
              "      <td>Mixed</td>\n",
              "      <td>Content</td>\n",
              "    </tr>\n",
              "    <tr>\n",
              "      <th>2</th>\n",
              "      <td>facebook_wiki</td>\n",
              "      <td>W</td>\n",
              "      <td>Tonight is going to be a good night #PerfectMo...</td>\n",
              "      <td>this is my city was there 2 weeks a go</td>\n",
              "      <td>Neutral</td>\n",
              "      <td>Content</td>\n",
              "    </tr>\n",
              "    <tr>\n",
              "      <th>3</th>\n",
              "      <td>facebook_wiki</td>\n",
              "      <td>M</td>\n",
              "      <td>I know grandma Gilmore is real proud of you ht...</td>\n",
              "      <td>if grizzly Adams had a beard.</td>\n",
              "      <td>Neutral</td>\n",
              "      <td>Content</td>\n",
              "    </tr>\n",
              "    <tr>\n",
              "      <th>4</th>\n",
              "      <td>facebook_wiki</td>\n",
              "      <td>W</td>\n",
              "      <td>#NEWS to KNOW this AM - Mayor Emanuel will mak...</td>\n",
              "      <td>Good morning Lourdes, have a great day! Great ...</td>\n",
              "      <td>Positive</td>\n",
              "      <td>Irrelevant</td>\n",
              "    </tr>\n",
              "    <tr>\n",
              "      <th>...</th>\n",
              "      <td>...</td>\n",
              "      <td>...</td>\n",
              "      <td>...</td>\n",
              "      <td>...</td>\n",
              "      <td>...</td>\n",
              "      <td>...</td>\n",
              "    </tr>\n",
              "    <tr>\n",
              "      <th>15347</th>\n",
              "      <td>ted</td>\n",
              "      <td>W</td>\n",
              "      <td>Jane McGonigal gave a talk about computers, de...</td>\n",
              "      <td>YAY! I am so happy to see this talk up! I enjo...</td>\n",
              "      <td>Positive</td>\n",
              "      <td>ContentPoster</td>\n",
              "    </tr>\n",
              "    <tr>\n",
              "      <th>15348</th>\n",
              "      <td>ted</td>\n",
              "      <td>W</td>\n",
              "      <td>Dambisa Moyo gave a talk about Africa, Asia, c...</td>\n",
              "      <td>EU, USA,CHINA none of the above have Africa at...</td>\n",
              "      <td>Neutral</td>\n",
              "      <td>Content</td>\n",
              "    </tr>\n",
              "    <tr>\n",
              "      <th>15349</th>\n",
              "      <td>ted</td>\n",
              "      <td>M</td>\n",
              "      <td>Jim Al-Khalili gave a talk about biology, bird...</td>\n",
              "      <td>He explained his self very well. not sure how ...</td>\n",
              "      <td>Mixed</td>\n",
              "      <td>ContentPoster</td>\n",
              "    </tr>\n",
              "    <tr>\n",
              "      <th>15350</th>\n",
              "      <td>ted</td>\n",
              "      <td>M</td>\n",
              "      <td>Stephen Hawking gave a talk about String theor...</td>\n",
              "      <td>Mr. Tavares. Thank you for your insight. My on...</td>\n",
              "      <td>Neutral</td>\n",
              "      <td>Irrelevant</td>\n",
              "    </tr>\n",
              "    <tr>\n",
              "      <th>15351</th>\n",
              "      <td>ted</td>\n",
              "      <td>W</td>\n",
              "      <td>Annie Murphy Paul gave a talk about children, ...</td>\n",
              "      <td>hi Nibedita! I was thinking about same story y...</td>\n",
              "      <td>Positive</td>\n",
              "      <td>Content</td>\n",
              "    </tr>\n",
              "  </tbody>\n",
              "</table>\n",
              "<p>15352 rows × 6 columns</p>\n",
              "</div>"
            ],
            "text/plain": [
              "              source op_gender  ... sentiment      relevance\n",
              "0      facebook_wiki         W  ...  Positive         Poster\n",
              "1      facebook_wiki         M  ...     Mixed        Content\n",
              "2      facebook_wiki         W  ...   Neutral        Content\n",
              "3      facebook_wiki         M  ...   Neutral        Content\n",
              "4      facebook_wiki         W  ...  Positive     Irrelevant\n",
              "...              ...       ...  ...       ...            ...\n",
              "15347            ted         W  ...  Positive  ContentPoster\n",
              "15348            ted         W  ...   Neutral        Content\n",
              "15349            ted         M  ...     Mixed  ContentPoster\n",
              "15350            ted         M  ...   Neutral     Irrelevant\n",
              "15351            ted         W  ...  Positive        Content\n",
              "\n",
              "[15352 rows x 6 columns]"
            ]
          },
          "metadata": {},
          "execution_count": 4
        }
      ]
    },
    {
      "cell_type": "code",
      "metadata": {
        "id": "RJ8GxHe2skMU"
      },
      "source": [
        "#1st split: 70 train /30 test\n",
        "train, test = train_test_split(annotations_df, test_size = .3, random_state = 1222)\n",
        "\n",
        "#2nd split: test data 50/50 into test/dev\n",
        "dev, test = train_test_split(test, test_size = .5, random_state = 1222)"
      ],
      "execution_count": null,
      "outputs": []
    },
    {
      "cell_type": "code",
      "metadata": {
        "colab": {
          "base_uri": "https://localhost:8080/"
        },
        "id": "xI16TrHQs8K2",
        "outputId": "78f8916b-ae2b-40ba-922d-c332c0045650"
      },
      "source": [
        "train.shape"
      ],
      "execution_count": null,
      "outputs": [
        {
          "output_type": "execute_result",
          "data": {
            "text/plain": [
              "(10746, 7)"
            ]
          },
          "metadata": {},
          "execution_count": 79
        }
      ]
    },
    {
      "cell_type": "code",
      "metadata": {
        "colab": {
          "base_uri": "https://localhost:8080/"
        },
        "id": "YbfqIHqKs-YL",
        "outputId": "03783642-a92d-4eba-f468-4d7b9154dd0a"
      },
      "source": [
        "dev.shape"
      ],
      "execution_count": null,
      "outputs": [
        {
          "output_type": "execute_result",
          "data": {
            "text/plain": [
              "(2303, 7)"
            ]
          },
          "metadata": {},
          "execution_count": 81
        }
      ]
    },
    {
      "cell_type": "code",
      "metadata": {
        "colab": {
          "base_uri": "https://localhost:8080/"
        },
        "id": "sH7Tnt7Ls_rW",
        "outputId": "eabd6171-6874-417a-f92f-001913875e69"
      },
      "source": [
        "test.shape"
      ],
      "execution_count": null,
      "outputs": [
        {
          "output_type": "execute_result",
          "data": {
            "text/plain": [
              "(2303, 7)"
            ]
          },
          "metadata": {},
          "execution_count": 82
        }
      ]
    },
    {
      "cell_type": "code",
      "metadata": {
        "colab": {
          "base_uri": "https://localhost:8080/",
          "height": 206
        },
        "id": "rrvhFnqUtCNb",
        "outputId": "911f68ee-e450-403f-8e07-af972e30db27"
      },
      "source": [
        "train.groupby('sentiment').count()"
      ],
      "execution_count": null,
      "outputs": [
        {
          "output_type": "execute_result",
          "data": {
            "text/html": [
              "<div>\n",
              "<style scoped>\n",
              "    .dataframe tbody tr th:only-of-type {\n",
              "        vertical-align: middle;\n",
              "    }\n",
              "\n",
              "    .dataframe tbody tr th {\n",
              "        vertical-align: top;\n",
              "    }\n",
              "\n",
              "    .dataframe thead th {\n",
              "        text-align: right;\n",
              "    }\n",
              "</style>\n",
              "<table border=\"1\" class=\"dataframe\">\n",
              "  <thead>\n",
              "    <tr style=\"text-align: right;\">\n",
              "      <th></th>\n",
              "      <th>source</th>\n",
              "      <th>op_gender</th>\n",
              "      <th>post_text</th>\n",
              "      <th>response_text</th>\n",
              "      <th>relevance</th>\n",
              "      <th>label</th>\n",
              "    </tr>\n",
              "    <tr>\n",
              "      <th>sentiment</th>\n",
              "      <th></th>\n",
              "      <th></th>\n",
              "      <th></th>\n",
              "      <th></th>\n",
              "      <th></th>\n",
              "      <th></th>\n",
              "    </tr>\n",
              "  </thead>\n",
              "  <tbody>\n",
              "    <tr>\n",
              "      <th>Mixed</th>\n",
              "      <td>1087</td>\n",
              "      <td>1087</td>\n",
              "      <td>1087</td>\n",
              "      <td>1087</td>\n",
              "      <td>1087</td>\n",
              "      <td>1087</td>\n",
              "    </tr>\n",
              "    <tr>\n",
              "      <th>Negative</th>\n",
              "      <td>1751</td>\n",
              "      <td>1751</td>\n",
              "      <td>1751</td>\n",
              "      <td>1751</td>\n",
              "      <td>1751</td>\n",
              "      <td>1751</td>\n",
              "    </tr>\n",
              "    <tr>\n",
              "      <th>Neutral</th>\n",
              "      <td>2612</td>\n",
              "      <td>2612</td>\n",
              "      <td>2612</td>\n",
              "      <td>2612</td>\n",
              "      <td>2612</td>\n",
              "      <td>2612</td>\n",
              "    </tr>\n",
              "    <tr>\n",
              "      <th>Positive</th>\n",
              "      <td>5296</td>\n",
              "      <td>5296</td>\n",
              "      <td>5296</td>\n",
              "      <td>5296</td>\n",
              "      <td>5296</td>\n",
              "      <td>5296</td>\n",
              "    </tr>\n",
              "  </tbody>\n",
              "</table>\n",
              "</div>"
            ],
            "text/plain": [
              "           source  op_gender  post_text  response_text  relevance  label\n",
              "sentiment                                                               \n",
              "Mixed        1087       1087       1087           1087       1087   1087\n",
              "Negative     1751       1751       1751           1751       1751   1751\n",
              "Neutral      2612       2612       2612           2612       2612   2612\n",
              "Positive     5296       5296       5296           5296       5296   5296"
            ]
          },
          "metadata": {},
          "execution_count": 86
        }
      ]
    },
    {
      "cell_type": "code",
      "metadata": {
        "colab": {
          "base_uri": "https://localhost:8080/",
          "height": 35
        },
        "id": "izhLLDHst_g0",
        "outputId": "fb8e6743-b1bb-483a-e8fe-c0351d5b8fb8"
      },
      "source": [
        "path"
      ],
      "execution_count": null,
      "outputs": [
        {
          "output_type": "execute_result",
          "data": {
            "application/vnd.google.colaboratory.intrinsic+json": {
              "type": "string"
            },
            "text/plain": [
              "'/content/drive/MyDrive/w266'"
            ]
          },
          "metadata": {},
          "execution_count": 87
        }
      ]
    },
    {
      "cell_type": "code",
      "metadata": {
        "id": "EBDjs7i0tn3O"
      },
      "source": [
        "# save out\n",
        "train.to_csv(os.path.join(path,r'annotations_train.csv'))\n",
        "test.to_csv(os.path.join(path,r'annotations_test.csv'))\n",
        "dev.to_csv(os.path.join(path,r'annotations_dev.csv'))"
      ],
      "execution_count": null,
      "outputs": []
    }
  ]
}