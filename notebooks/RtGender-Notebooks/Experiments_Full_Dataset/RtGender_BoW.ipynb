{
  "nbformat": 4,
  "nbformat_minor": 5,
  "metadata": {
    "environment": {
      "name": "common-cu110.m80",
      "type": "gcloud",
      "uri": "gcr.io/deeplearning-platform-release/base-cu110:m80"
    },
    "kernelspec": {
      "display_name": "Python 3",
      "language": "python",
      "name": "python3"
    },
    "language_info": {
      "codemirror_mode": {
        "name": "ipython",
        "version": 3
      },
      "file_extension": ".py",
      "mimetype": "text/x-python",
      "name": "python",
      "nbconvert_exporter": "python",
      "pygments_lexer": "ipython3",
      "version": "3.7.10"
    },
    "toc-autonumbering": true,
    "colab": {
      "name": "Annotations-BoW.ipynb",
      "provenance": [],
      "collapsed_sections": [
        "3a96351b-b72b-4d3a-930c-b1ced24420cf",
        "c6a1c3d5-4504-4f5f-abbb-59cd695d3cdb",
        "c5809fff-5919-44c5-9ddc-bbcc8817f859"
      ],
      "include_colab_link": true
    },
    "accelerator": "GPU"
  },
  "cells": [
    {
      "cell_type": "markdown",
      "metadata": {
        "id": "view-in-github",
        "colab_type": "text"
      },
      "source": [
        "<a href=\"https://colab.research.google.com/github/ipietri/w266_Final_Project/blob/master/notebooks/RtGender-Notebooks/Annotations_BoW.ipynb\" target=\"_parent\"><img src=\"https://colab.research.google.com/assets/colab-badge.svg\" alt=\"Open In Colab\"/></a>"
      ]
    },
    {
      "cell_type": "markdown",
      "metadata": {
        "id": "e39fbde0"
      },
      "source": [
        "## RtGender- Annotations - BoW Neural Net\n",
        "\n",
        "In this notebook we build the baseline models for the RtGender dataset. \n",
        "\n",
        "Characteristics of the models:\n",
        "- Neural Bag of Words architecture\n",
        "- A single dense layer with dropout\n",
        "- Use Glove embeddings (dim=300) without fine tuning them\n",
        "- Maximum sequence length is 100\n",
        "\n",
        "\n"
      ],
      "id": "e39fbde0"
    },
    {
      "cell_type": "code",
      "metadata": {
        "colab": {
          "base_uri": "https://localhost:8080/"
        },
        "id": "LFZAqRZx8MGm",
        "outputId": "a5ce4842-046b-4ef2-dffa-2ecba05e6c64"
      },
      "source": [
        "try:\n",
        "  from google.colab import drive\n",
        "  drive.mount('/content/drive', force_remount=True)\n",
        "  path = r'/content/drive/MyDrive/w266'\n",
        "except ModuleNotFoundError:\n",
        "  path = r'data'"
      ],
      "id": "LFZAqRZx8MGm",
      "execution_count": null,
      "outputs": [
        {
          "output_type": "stream",
          "name": "stdout",
          "text": [
            "Mounted at /content/drive\n"
          ]
        }
      ]
    },
    {
      "cell_type": "markdown",
      "metadata": {
        "id": "10cd528a"
      },
      "source": [
        "## Package imports"
      ],
      "id": "10cd528a"
    },
    {
      "cell_type": "code",
      "metadata": {
        "id": "AY6lZmEA8Tc-"
      },
      "source": [
        "%%capture\n",
        "!pip install keras_tuner"
      ],
      "id": "AY6lZmEA8Tc-",
      "execution_count": null,
      "outputs": []
    },
    {
      "cell_type": "code",
      "metadata": {
        "id": "bfb853e9"
      },
      "source": [
        "import pandas as pd\n",
        "import numpy as np\n",
        "\n",
        "import matplotlib.pyplot as plt\n",
        "# This tells matplotlib not to try opening a new window for each plot.\n",
        "%matplotlib inline\n",
        "import seaborn as sns\n",
        "\n",
        "from collections import Counter\n",
        "\n",
        "import tensorflow as tf\n",
        "from keras.preprocessing.text import Tokenizer\n",
        "from tensorflow.keras.layers import Embedding, Input, Dense, Lambda, Dropout\n",
        "from keras.models import Sequential\n",
        "from tensorflow.keras.layers import TextVectorization\n",
        "import tensorflow.keras.backend as K\n",
        "# for hyperparameter tunning\n",
        "import keras_tuner as kt\n",
        "from keras_tuner import HyperModel\n",
        "import keras_tuner as kt\n",
        "from tensorflow.keras.utils import to_categorical\n",
        "from keras.preprocessing.sequence import pad_sequences\n",
        "\n",
        "\n",
        "# import sklearn to calculate the metrics\n",
        "from sklearn import metrics\n",
        "from sklearn.preprocessing import label_binarize\n",
        "from sklearn.model_selection import train_test_split\n",
        "from sklearn.metrics import classification_report\n"
      ],
      "id": "bfb853e9",
      "execution_count": null,
      "outputs": []
    },
    {
      "cell_type": "code",
      "metadata": {
        "id": "7762ba27",
        "colab": {
          "base_uri": "https://localhost:8080/"
        },
        "outputId": "22466613-391e-4cf3-8b72-16281f776d8a"
      },
      "source": [
        "print(tf.__version__)"
      ],
      "id": "7762ba27",
      "execution_count": null,
      "outputs": [
        {
          "output_type": "stream",
          "name": "stdout",
          "text": [
            "2.6.0\n"
          ]
        }
      ]
    },
    {
      "cell_type": "code",
      "metadata": {
        "id": "b8da6ff7",
        "colab": {
          "base_uri": "https://localhost:8080/",
          "height": 35
        },
        "outputId": "7688dff0-76ba-47dc-d7c9-5ed2b4548448"
      },
      "source": [
        "import os\n",
        "os.getcwd()"
      ],
      "id": "b8da6ff7",
      "execution_count": null,
      "outputs": [
        {
          "output_type": "execute_result",
          "data": {
            "application/vnd.google.colaboratory.intrinsic+json": {
              "type": "string"
            },
            "text/plain": [
              "'/content'"
            ]
          },
          "metadata": {},
          "execution_count": 5
        }
      ]
    },
    {
      "cell_type": "markdown",
      "metadata": {
        "id": "e7545875"
      },
      "source": [
        "# Load\n",
        "Load training, development and test datasets. See RtGender Split and Save notebook to see approach. "
      ],
      "id": "e7545875"
    },
    {
      "cell_type": "code",
      "metadata": {
        "id": "51e7fb3e"
      },
      "source": [
        "# Load post data\n",
        "# posts_train = pd.read_parquet('../../data/RtGender/posts_train.parquet.gzip')\n",
        "# posts_test = pd.read_parquet('../../data/RtGender/posts_tests.parquet.gzip')\n",
        "# posts_dev= pd.read_parquet('../../data/RtGender/posts_dev.parquet.gzip')\n",
        "\n",
        "# # # response data \n",
        "# # responses_train = pd.read_parquet('RtGender/datasets/responses_train.parquet')\n",
        "# # #responses_test = pd.read_parquet('RtGender/datasets/responses_test.parquet')\n",
        "# # responses_dev = pd.read_parquet('RtGender/datasets/responses_dev.parquet')\n",
        "\n",
        "# # annotations data\n",
        "# annotations = pd.read_parquet('../../data/RtGender/annotations.parquet.gzip')"
      ],
      "id": "51e7fb3e",
      "execution_count": null,
      "outputs": []
    },
    {
      "cell_type": "code",
      "metadata": {
        "colab": {
          "base_uri": "https://localhost:8080/"
        },
        "id": "Dz1IKdoG5naN",
        "outputId": "5e847b08-75dc-4349-8182-138e87f83385"
      },
      "source": [
        "train_df = pd.read_csv('/content/drive/MyDrive/w266/annotations_train.csv') #train_oversampled\n",
        "dev_df = pd.read_csv('/content/drive/MyDrive/w266/annotations_dev.csv')\n",
        "\n",
        "print('train_shape: ',train_df.shape)\n",
        "print('dev_shape: ',dev_df.shape)"
      ],
      "id": "Dz1IKdoG5naN",
      "execution_count": null,
      "outputs": [
        {
          "output_type": "stream",
          "name": "stdout",
          "text": [
            "train_shape:  (10746, 9)\n",
            "dev_shape:  (2303, 9)\n"
          ]
        }
      ]
    },
    {
      "cell_type": "code",
      "metadata": {
        "colab": {
          "base_uri": "https://localhost:8080/"
        },
        "id": "drepZIvnAQPF",
        "outputId": "881573f6-9494-41a8-c7d9-6deb13d6ced8"
      },
      "source": [
        "nan_values = dev_df[dev_df.isna().any(axis=1)] \n",
        "print(nan_values)\n",
        "\n",
        "# return without missing values in response_text\n",
        "dev_df.dropna(subset = [\"response_text\"], inplace=True)"
      ],
      "id": "drepZIvnAQPF",
      "execution_count": null,
      "outputs": [
        {
          "output_type": "stream",
          "name": "stdout",
          "text": [
            "      Unnamed: 0         source op_gender  ...   relevance label labels_4\n",
            "830         2576  facebook_wiki         M  ...  Irrelevant     1        1\n",
            "1664        2722  facebook_wiki         W  ...  Irrelevant     1        1\n",
            "\n",
            "[2 rows x 9 columns]\n"
          ]
        }
      ]
    },
    {
      "cell_type": "code",
      "metadata": {
        "id": "mDdFMAl57ztl"
      },
      "source": [
        "X_train = train_df['response_text']\n",
        "y_train = train_df['labels_4']\n",
        "X_dev = dev_df['response_text']\n",
        "y_dev = dev_df['labels_4']"
      ],
      "id": "mDdFMAl57ztl",
      "execution_count": null,
      "outputs": []
    },
    {
      "cell_type": "code",
      "metadata": {
        "colab": {
          "base_uri": "https://localhost:8080/"
        },
        "id": "-OP003JZ-2E8",
        "outputId": "80c99296-9d45-4fe0-afa7-9479d5d3c837"
      },
      "source": [
        "y_train"
      ],
      "id": "-OP003JZ-2E8",
      "execution_count": null,
      "outputs": [
        {
          "output_type": "execute_result",
          "data": {
            "text/plain": [
              "0        2\n",
              "1        2\n",
              "2        3\n",
              "3        2\n",
              "4        3\n",
              "        ..\n",
              "10741    2\n",
              "10742    0\n",
              "10743    3\n",
              "10744    1\n",
              "10745    2\n",
              "Name: labels_4, Length: 10746, dtype: int64"
            ]
          },
          "metadata": {},
          "execution_count": 9
        }
      ]
    },
    {
      "cell_type": "markdown",
      "metadata": {
        "id": "40c4ca26"
      },
      "source": [
        "## Load GloVe "
      ],
      "id": "40c4ca26"
    },
    {
      "cell_type": "code",
      "metadata": {
        "id": "8e43db36",
        "colab": {
          "base_uri": "https://localhost:8080/"
        },
        "outputId": "bb9cdff1-0955-4d89-eea4-6a467666abdb"
      },
      "source": [
        "# load pre-trained word embeddings. In this case Glove\n",
        "# This is commented out to avoid downloading it again\n",
        "!wget http://nlp.stanford.edu/data/glove.6B.zip -P ~/data/\n",
        "\n",
        "# # unzip the file\n",
        "# # commented out for the same reason above\n",
        "!unzip ~/data/glove.6B.zip -d ~/data/"
      ],
      "id": "8e43db36",
      "execution_count": null,
      "outputs": [
        {
          "output_type": "stream",
          "name": "stdout",
          "text": [
            "--2021-10-22 21:07:40--  http://nlp.stanford.edu/data/glove.6B.zip\n",
            "Resolving nlp.stanford.edu (nlp.stanford.edu)... 171.64.67.140\n",
            "Connecting to nlp.stanford.edu (nlp.stanford.edu)|171.64.67.140|:80... connected.\n",
            "HTTP request sent, awaiting response... 302 Found\n",
            "Location: https://nlp.stanford.edu/data/glove.6B.zip [following]\n",
            "--2021-10-22 21:07:40--  https://nlp.stanford.edu/data/glove.6B.zip\n",
            "Connecting to nlp.stanford.edu (nlp.stanford.edu)|171.64.67.140|:443... connected.\n",
            "HTTP request sent, awaiting response... 301 Moved Permanently\n",
            "Location: http://downloads.cs.stanford.edu/nlp/data/glove.6B.zip [following]\n",
            "--2021-10-22 21:07:40--  http://downloads.cs.stanford.edu/nlp/data/glove.6B.zip\n",
            "Resolving downloads.cs.stanford.edu (downloads.cs.stanford.edu)... 171.64.64.22\n",
            "Connecting to downloads.cs.stanford.edu (downloads.cs.stanford.edu)|171.64.64.22|:80... connected.\n",
            "HTTP request sent, awaiting response... 200 OK\n",
            "Length: 862182613 (822M) [application/zip]\n",
            "Saving to: ‘/root/data/glove.6B.zip’\n",
            "\n",
            "glove.6B.zip        100%[===================>] 822.24M  5.00MB/s    in 2m 40s  \n",
            "\n",
            "2021-10-22 21:10:20 (5.14 MB/s) - ‘/root/data/glove.6B.zip’ saved [862182613/862182613]\n",
            "\n",
            "Archive:  /root/data/glove.6B.zip\n",
            "  inflating: /root/data/glove.6B.50d.txt  \n",
            "  inflating: /root/data/glove.6B.100d.txt  \n",
            "  inflating: /root/data/glove.6B.200d.txt  \n",
            "  inflating: /root/data/glove.6B.300d.txt  \n"
          ]
        }
      ]
    },
    {
      "cell_type": "code",
      "metadata": {
        "id": "8167680e",
        "colab": {
          "base_uri": "https://localhost:8080/"
        },
        "outputId": "d0b18e03-3394-4a31-f858-50d001f14462"
      },
      "source": [
        "# path to glove file- will use the embeddings with dimension = 300\n",
        "glove_file =\"/root/data/glove.6B.300d.txt\"\n",
        "\n",
        "# embedding layer \n",
        "embeddings_index = {}\n",
        "f = open(os.path.join(glove_file))\n",
        "for line in f:\n",
        "    values = line.split()\n",
        "    word = values[0]\n",
        "    coefs = np.asarray(values[1:], dtype='float32')\n",
        "    embeddings_index[word] = coefs\n",
        "f.close()\n",
        "\n",
        "print('Found %s word vectors.' % len(embeddings_index))"
      ],
      "id": "8167680e",
      "execution_count": null,
      "outputs": [
        {
          "output_type": "stream",
          "name": "stdout",
          "text": [
            "Found 400000 word vectors.\n"
          ]
        }
      ]
    },
    {
      "cell_type": "markdown",
      "metadata": {
        "id": "0798594a"
      },
      "source": [
        "# Preprocess"
      ],
      "id": "0798594a"
    },
    {
      "cell_type": "code",
      "metadata": {
        "id": "6da2e52d",
        "colab": {
          "base_uri": "https://localhost:8080/"
        },
        "outputId": "0d17fce8-58c2-4261-8e8d-1ea1df5a9397"
      },
      "source": [
        "# tokenize data and return embeddings matrix \n",
        "max_tokens = 10000\n",
        "# consider this maximum number of words\n",
        "max_sequence_length = 100\n",
        "tokenizer = Tokenizer(num_words=max_tokens)\n",
        "\n",
        "#x_train, x_dev, embedding_matrix = tokenize_Xtrain_and_Xdev(X_train, X_dev)\n",
        "\n",
        "# one-hot encodign and reshape labels\n",
        "print(\"-\"*60)\n",
        "\n",
        "train_labels = to_categorical(np.asarray(y_train))\n",
        "dev_labels = to_categorical(np.asarray(y_dev))\n",
        "\n",
        "print('Shape of train label tensor:', train_labels.shape)\n",
        "print('Shape of dev label tensor:', dev_labels.shape)"
      ],
      "id": "6da2e52d",
      "execution_count": null,
      "outputs": [
        {
          "output_type": "stream",
          "name": "stdout",
          "text": [
            "------------------------------------------------------------\n",
            "Shape of train label tensor: (10746, 4)\n",
            "Shape of dev label tensor: (2301, 4)\n"
          ]
        }
      ]
    },
    {
      "cell_type": "markdown",
      "metadata": {
        "id": "a11e15aa"
      },
      "source": [
        "## Preprocess & Embeddings matrix"
      ],
      "id": "a11e15aa"
    },
    {
      "cell_type": "code",
      "metadata": {
        "colab": {
          "base_uri": "https://localhost:8080/"
        },
        "id": "iDqFAiucCFLw",
        "outputId": "14089a83-c703-4c0d-8402-5896e37c89d1"
      },
      "source": [
        "x_train = X_train \n",
        "x_dev = X_dev\n",
        " # note the length of the training index\n",
        "train_idx = len(x_train)\n",
        "#combine train and dev data and then tokenize\n",
        "texts = x_train.append(x_dev)\n",
        "\n",
        "tokenizer.fit_on_texts(texts)\n",
        "sequences = tokenizer.texts_to_sequences(texts)\n",
        "word_index = tokenizer.word_index\n",
        "print('Train + Dev %s unique tokens.' % len(word_index))\n",
        "\n",
        "data = pad_sequences(sequences, maxlen=max_sequence_length)\n",
        "print('Shape of data tensor:', data.shape)\n",
        "\n",
        "x_train = data[:train_idx]\n",
        "x_dev = data[train_idx:]\n",
        "print('Shape of train data tensor:', x_train.shape)\n",
        "print('Shape of dev data tensor:', x_dev.shape)\n",
        "print(\"-\"*60)\n",
        "\n",
        "# print top 5 most and least common tokens\n",
        "print(\"top 5 most common tokens: \", sorted(word_index, key=word_index.get, reverse=True)[-5:])\n",
        "print(\"top 5 least common tokens: \", sorted(word_index, key=word_index.get, reverse=True)[:5])\n",
        "print(\"-\"*60)\n",
        "\n",
        "# build embedding matrix to use it in the model\n",
        "dimensions_emb = 300\n",
        "\n",
        "# zero position is zero by default in keras\n",
        "embedding_matrix = np.zeros((len(word_index) + 1, dimensions_emb)) \n",
        "\n",
        "total_tokens = len(word_index) + 1\n",
        "with_embedding = []\n",
        "without_embedding = []\n",
        "\n",
        "for word, i in word_index.items():\n",
        "    embedding_vector = embeddings_index.get(word)\n",
        "    if embedding_vector is not None:\n",
        "        # words not found in embedding index will be all-zeros.\n",
        "        embedding_matrix[i] = embedding_vector\n",
        "        with_embedding.append(word)\n",
        "    else:\n",
        "        without_embedding.append(word)\n",
        "\n",
        "print(f'Number of words with embeddings found: {len(with_embedding)}')\n",
        "print(f'Number of words with embeddings NOT found: {len(without_embedding)}')        \n",
        "\n"
      ],
      "id": "iDqFAiucCFLw",
      "execution_count": null,
      "outputs": [
        {
          "output_type": "stream",
          "name": "stdout",
          "text": [
            "Train + Dev 20145 unique tokens.\n",
            "Shape of data tensor: (13047, 100)\n",
            "Shape of train data tensor: (10746, 100)\n",
            "Shape of dev data tensor: (2301, 100)\n",
            "------------------------------------------------------------\n",
            "top 5 most common tokens:  ['and', 'you', 'i', 'to', 'the']\n",
            "top 5 least common tokens:  ['interupt', 'grandeur', 'inadequate', 'woefully', 'robisz']\n",
            "------------------------------------------------------------\n",
            "Number of words with embeddings found: 16754\n",
            "Number of words with embeddings NOT found: 3391\n"
          ]
        }
      ]
    },
    {
      "cell_type": "markdown",
      "metadata": {
        "id": "d19a5fce"
      },
      "source": [
        "## Best Model"
      ],
      "id": "d19a5fce"
    },
    {
      "cell_type": "code",
      "metadata": {
        "id": "faab50e2"
      },
      "source": [
        "def multiclass_model_builder(hp):\n",
        "    model = tf.keras.Sequential()\n",
        "    model.add(embedding_layer) \n",
        "    model.add(tf.keras.layers.Lambda(lambda x: K.mean(x, axis=1))) #avg\n",
        "\n",
        "    # Tune the number of units in the first Dense layer\n",
        "    # Choose an optimal value between 10 and 100\n",
        "    hp_units = hp.Int('units', min_value=10, max_value=100, step=10)\n",
        "    model.add(tf.keras.layers.Dense(units=hp_units, activation='relu'))\n",
        "    \n",
        "    # Tune dropout layer \n",
        "    dropout = hp.Float('dropout', min_value=0.2, max_value=0.5, default=0.0, step=0.05)\n",
        "    model.add(Dropout(dropout))\n",
        "        \n",
        "    # output layer \n",
        "    model.add(Dense(4, activation='softmax'))\n",
        "\n",
        "    # Tune the learning rate for the optimizer\n",
        "    # Choose an optimal value from 0.01, 0.001, or 0.0001\n",
        "    hp_learning_rate = hp.Choice('learning_rate', values=[1e-2, 1e-3, 1e-4])\n",
        "\n",
        "    model.compile(optimizer=tf.keras.optimizers.Adam(learning_rate=hp_learning_rate),\n",
        "                loss='categorical_crossentropy', \n",
        "                metrics=[tf.keras.metrics.categorical_accuracy, 'categorical_crossentropy'])\n",
        "\n",
        "    return model"
      ],
      "id": "faab50e2",
      "execution_count": null,
      "outputs": []
    },
    {
      "cell_type": "code",
      "metadata": {
        "id": "74963805"
      },
      "source": [
        "embedding_layer = Embedding(embedding_matrix.shape[0],\n",
        "                            embedding_matrix.shape[1],\n",
        "                            embeddings_initializer=tf.keras.initializers.Constant(embedding_matrix),\n",
        "                            input_length=max_sequence_length,\n",
        "                            trainable=False)\n",
        "\n",
        "tuner = kt.Hyperband(multiclass_model_builder,\n",
        "                     objective='val_categorical_accuracy',\n",
        "                     max_epochs=100,\n",
        "                     factor=4,\n",
        "                     directory='my_dir',\n",
        "                     project_name='intro_to_kt2')\n",
        "\n",
        "tuner.search(x_train, train_labels, validation_data=(x_dev, dev_labels),\n",
        "             epochs=1)\n",
        "\n"
      ],
      "id": "74963805",
      "execution_count": null,
      "outputs": []
    },
    {
      "cell_type": "code",
      "metadata": {
        "colab": {
          "base_uri": "https://localhost:8080/"
        },
        "id": "74B6tFNfCd_x",
        "outputId": "a19dec2b-ceaa-4a4e-a5e7-a2ae2bfcdc84"
      },
      "source": [
        "# Get the optimal hyperparameters\n",
        "best_hps=tuner.get_best_hyperparameters(num_trials=1)[0]\n",
        "\n",
        "print(f\"\"\"\n",
        "The hyperparameter search is complete. The optimal number of units in the first densely-connected\n",
        "layer is {best_hps.get('units')} and the optimal learning rate for the optimizer\n",
        "is {best_hps.get('learning_rate')} and the best drop-out rate is {best_hps.get('dropout')}.\n",
        "\"\"\")"
      ],
      "id": "74B6tFNfCd_x",
      "execution_count": null,
      "outputs": [
        {
          "output_type": "stream",
          "name": "stdout",
          "text": [
            "\n",
            "The hyperparameter search is complete. The optimal number of units in the first densely-connected\n",
            "layer is 90 and the optimal learning rate for the optimizer\n",
            "is 0.01 and the best drop-out rate is 0.3.\n",
            "\n"
          ]
        }
      ]
    },
    {
      "cell_type": "code",
      "metadata": {
        "id": "aeb18caf-839a-4636-8966-cdd4310748f6",
        "colab": {
          "base_uri": "https://localhost:8080/"
        },
        "outputId": "27e5804c-d493-48d0-8fb8-fa7258ff1bcd"
      },
      "source": [
        "# create a model off the best model\n",
        "model = tuner.hypermodel.build(best_hps)\n",
        "model.save(os.path.join(path,'annotations_sentiment_bow_neural_model'))\n",
        "\n",
        "# fit model \n",
        "history = model.fit(x_train, train_labels,\n",
        "                    validation_data=(x_dev, dev_labels),\n",
        "                    epochs=50, verbose=0)"
      ],
      "id": "aeb18caf-839a-4636-8966-cdd4310748f6",
      "execution_count": null,
      "outputs": [
        {
          "output_type": "stream",
          "name": "stdout",
          "text": [
            "INFO:tensorflow:Assets written to: /content/drive/MyDrive/w266/annotations_sentiment_bow_neural_model/assets\n"
          ]
        }
      ]
    },
    {
      "cell_type": "markdown",
      "metadata": {
        "id": "09f1b2d4-0d72-4040-812c-5391371ecb36"
      },
      "source": [
        "## Metrics"
      ],
      "id": "09f1b2d4-0d72-4040-812c-5391371ecb36"
    },
    {
      "cell_type": "code",
      "metadata": {
        "id": "5eee790a"
      },
      "source": [
        "def binary_loss_accuracy_plots(training_history):\n",
        "    '''\n",
        "    Returns plots for loss and accuracy during the training process of a NN.\n",
        "    Parameters:\n",
        "    training_history: object that stores the training history of the NN (from model.fit(...))\n",
        "    xrange: range in x axis\n",
        "    task: string used for the title in the plot\n",
        "    '''\n",
        "    \n",
        "    fig, (ax1, ax2) = plt.subplots(1, 2, figsize=(15,6))\n",
        "    \n",
        "    # summarize history for accuracy\n",
        "    ax1.plot(training_history.history['binary_accuracy'])\n",
        "    ax1.plot(training_history.history['val_binary_accuracy'])\n",
        "    ax1.set_title('model accuracy')\n",
        "    ax1.set_ylabel('accuracy')\n",
        "    ax1.set_xlabel('epoch')\n",
        "    ax1.legend(['train', 'dev'], loc='upper left')\n",
        "\n",
        "    # summarize history for loss\n",
        "    ax2.plot(training_history.history['loss'])\n",
        "    ax2.plot(training_history.history['val_loss'])\n",
        "    ax2.set_title('model loss')\n",
        "    ax2.set_ylabel('loss')\n",
        "    ax2.set_xlabel('epoch')\n",
        "    ax2.legend(['train', 'dev'], loc='upper left')\n",
        "\n",
        "    plt.show()\n",
        "    \n",
        "def multiclass_loss_accuracy_plots(training_history):\n",
        "    '''\n",
        "    Returns plots for loss and accuracy during the training process of a NN.\n",
        "    Parameters:\n",
        "    training_history: object that stores the training history of the NN (from model.fit(...))\n",
        "    '''\n",
        "    \n",
        "    fig, (ax1, ax2) = plt.subplots(1, 2, figsize=(15,6))\n",
        "    \n",
        "    # summarize history for accuracy\n",
        "    ax1.plot(training_history.history['categorical_accuracy'])\n",
        "    ax1.plot(training_history.history['val_categorical_accuracy'])\n",
        "    ax1.set_title('model accuracy')\n",
        "    ax1.set_ylabel('accuracy')\n",
        "    ax1.set_xlabel('epoch')\n",
        "    ax1.legend(['train', 'dev'], loc='upper left')\n",
        "\n",
        "    # summarize history for loss\n",
        "    ax2.plot(training_history.history['loss'])\n",
        "    ax2.plot(training_history.history['val_loss'])\n",
        "    ax2.set_title('model loss')\n",
        "    ax2.set_ylabel('loss')\n",
        "    ax2.set_xlabel('epoch')\n",
        "    ax2.legend(['train', 'dev'], loc='upper left')\n",
        "\n",
        "    plt.show()"
      ],
      "id": "5eee790a",
      "execution_count": null,
      "outputs": []
    },
    {
      "cell_type": "code",
      "metadata": {
        "id": "198fa802-f404-417b-9aa5-1e55d5f5909d",
        "colab": {
          "base_uri": "https://localhost:8080/",
          "height": 346
        },
        "outputId": "b328b30a-e9e8-4cb5-e206-12a0f3b4a9f9"
      },
      "source": [
        "from sklearn.metrics import confusion_matrix\n",
        "multiclass_loss_accuracy_plots(history)\n",
        "y_pred = model.predict(x_dev) #predict\n"
      ],
      "id": "198fa802-f404-417b-9aa5-1e55d5f5909d",
      "execution_count": null,
      "outputs": [
        {
          "output_type": "display_data",
          "data": {
            "image/png": "[encoded data removed]",
            "text/plain": [
              "<Figure size 1080x432 with 2 Axes>"
            ]
          },
          "metadata": {
            "needs_background": "light"
          }
        }
      ]
    },
    {
      "cell_type": "code",
      "metadata": {
        "id": "db73c525"
      },
      "source": [
        "def confusion_matrix(x_dev, original_dev_labels, class_labels):\n",
        "\n",
        "    # identify the correct class\n",
        "    max_class_idx = np.argmax(y_pred, axis = 1)\n",
        "    \n",
        "    # Create a confusion matrix\n",
        "    cm = tf.math.confusion_matrix(original_dev_labels, max_class_idx)\n",
        "    cm = cm/cm.numpy().sum(axis=1)[:, tf.newaxis]\n",
        "\n",
        "    sns.heatmap(\n",
        "        cm, annot=True,\n",
        "        xticklabels=class_labels,\n",
        "        yticklabels=class_labels,\n",
        "        fmt='.2%', cmap='Blues')\n",
        "    plt.xlabel(\"Predicted\")\n",
        "    plt.ylabel(\"True\")\n",
        "    plt.show()\n",
        "    \n",
        "    # print classification report\n",
        "    print(metrics.classification_report(original_dev_labels, max_class_idx))\n",
        "    # print global weighted f-1 score\n",
        "    f1 = metrics.f1_score(original_dev_labels, max_class_idx, pos_label=1, average='weighted')*100\n",
        "    print(f\"Weighted f1-score: %.2f%%\" %f1)\n"
      ],
      "id": "db73c525",
      "execution_count": null,
      "outputs": []
    },
    {
      "cell_type": "code",
      "metadata": {
        "colab": {
          "base_uri": "https://localhost:8080/",
          "height": 487
        },
        "id": "i-qXWBnYhyjv",
        "outputId": "26cc97c6-8e58-42cc-a949-ed30d827e1f1"
      },
      "source": [
        "sentiment_labels = [\"Negative\", \"Neutral\", \"Positive\", \"Mixed\"] #{'Positive': 2, 'Mixed': 3, 'Neutral': 1, 'Negative':0}\n",
        "confusion_matrix(y_pred, y_dev, sentiment_labels)"
      ],
      "id": "i-qXWBnYhyjv",
      "execution_count": null,
      "outputs": [
        {
          "output_type": "display_data",
          "data": {
            "image/png": "[encoded data removed]",
            "text/plain": [
              "<Figure size 432x288 with 2 Axes>"
            ]
          },
          "metadata": {
            "needs_background": "light"
          }
        },
        {
          "output_type": "stream",
          "name": "stdout",
          "text": [
            "              precision    recall  f1-score   support\n",
            "\n",
            "           0       0.47      0.50      0.49       381\n",
            "           1       0.48      0.44      0.46       564\n",
            "           2       0.71      0.84      0.77      1118\n",
            "           3       0.20      0.04      0.07       238\n",
            "\n",
            "    accuracy                           0.60      2301\n",
            "   macro avg       0.47      0.46      0.45      2301\n",
            "weighted avg       0.56      0.60      0.57      2301\n",
            "\n",
            "Weighted f1-score: 57.39%\n"
          ]
        }
      ]
    },
    {
      "cell_type": "markdown",
      "metadata": {
        "id": "4Ed5OcoqDAs0"
      },
      "source": [
        "# Optimal Model Iterated"
      ],
      "id": "4Ed5OcoqDAs0"
    },
    {
      "cell_type": "code",
      "metadata": {
        "id": "_Kc8bVqcE1Ig"
      },
      "source": [
        "iterations = 5"
      ],
      "id": "_Kc8bVqcE1Ig",
      "execution_count": null,
      "outputs": []
    },
    {
      "cell_type": "code",
      "metadata": {
        "colab": {
          "base_uri": "https://localhost:8080/"
        },
        "id": "n-eLc5pbDLmo",
        "outputId": "d0d89575-46e1-49a4-facf-654b90816033"
      },
      "source": [
        "from sklearn.metrics import classification_report\n",
        "accuracy_list = []\n",
        "weighted_f1_score_list = []\n",
        "macro_f1_score_list = []\n",
        "negative_f1_score = []\n",
        "neutral_f1_score = []\n",
        "mixed_f1_score = []\n",
        "positive_f1_score = []\n",
        "\n",
        "for i in range(iterations):\n",
        "  try:\n",
        "    del history\n",
        "    del y_pred\n",
        "    del cr\n",
        "  except: pass\n",
        "\n",
        "\n",
        "  history = model.fit(x_train, train_labels,\n",
        "                      validation_data=(x_dev, dev_labels),\n",
        "                      epochs=50, verbose=0)\n",
        "  y_pred = model.predict(x_dev) #predict\n",
        "\n",
        "  # metrics append to appropriate lists\n",
        "  predictions = y_pred.argmax(1)\n",
        "  cr = metrics.classification_report(y_dev, predictions, digits=3, output_dict=True)\n",
        "  \n",
        "  accuracy_list.append(cr.get('accuracy'))\n",
        "  weighted_f1_score_list.append(cr.get('weighted avg').get(\"f1-score\"))\n",
        "  macro_f1_score_list.append(cr.get(\"macro avg\").get(\"f1-score\"))\n",
        "\n",
        "  negative_f1_score.append(cr.get('0').get(\"f1-score\"))\n",
        "  neutral_f1_score.append(cr.get('1').get(\"f1-score\"))\n",
        "  positive_f1_score.append(cr.get('2').get(\"f1-score\"))\n",
        "  mixed_f1_score.append(cr.get('3').get(\"f1-score\"))\n",
        "\n",
        "  print(f'---------------------------Iteration {i+1} Complete---------------------------\\n')\n"
      ],
      "id": "n-eLc5pbDLmo",
      "execution_count": null,
      "outputs": [
        {
          "output_type": "stream",
          "name": "stdout",
          "text": [
            "---------------------------Iteration 1 Complete---------------------------\n",
            "\n",
            "---------------------------Iteration 2 Complete---------------------------\n",
            "\n",
            "---------------------------Iteration 3 Complete---------------------------\n",
            "\n",
            "---------------------------Iteration 4 Complete---------------------------\n",
            "\n",
            "---------------------------Iteration 5 Complete---------------------------\n",
            "\n"
          ]
        }
      ]
    },
    {
      "cell_type": "code",
      "metadata": {
        "colab": {
          "base_uri": "https://localhost:8080/"
        },
        "id": "cEFb5Ti0FBth",
        "outputId": "a3875fd2-734c-40bb-ecc9-093eb3896c22"
      },
      "source": [
        "import statistics\n",
        "\n",
        "print(\"%15s %s (%s)\" % (\"\",\"Mean\", \"StDev\"))\n",
        "\n",
        "print(\"-\"*29)\n",
        "print(\"Macro Scores\")\n",
        "print(\"-\"*29)\n",
        "\n",
        "print(f\"%15s %s (%s)\" %(\"Accuracy\",\n",
        "    round(statistics.mean(accuracy_list),3),\n",
        "    round(statistics.stdev(accuracy_list),3)))\n",
        "print(f\"%15s %5s (%s)\" %(\"Macro F1\",\n",
        "    round(statistics.mean(macro_f1_score_list),3),\n",
        "    round(statistics.stdev(macro_f1_score_list),3)))\n",
        "print(f\"%15s %5s (%s)\" %(\"Weighted F1\",\n",
        "    round(statistics.mean(weighted_f1_score_list),3),\n",
        "    round(statistics.stdev(weighted_f1_score_list),3)))\n",
        "\n",
        "print(\"-\"*29)\n",
        "print(\"Class Scores\")\n",
        "print(\"-\"*29)\n",
        "\n",
        "print(f\"%15s %s (%s)\" %(\"Positive\",\n",
        "    round(statistics.mean(positive_f1_score),3),\n",
        "    round(statistics.stdev(positive_f1_score),3)))\n",
        "print(f\"%15s %5s (%s)\" %(\"Neutral\",\n",
        "    round(statistics.mean(neutral_f1_score),3),\n",
        "    round(statistics.stdev(neutral_f1_score),3)))\n",
        "print(f\"%15s %5s (%s)\" %(\"Negative\",\n",
        "    round(statistics.mean(negative_f1_score),3),\n",
        "    round(statistics.stdev(negative_f1_score),3)))\n",
        "print(f\"%15s %5s (%s)\" %(\"Mixed\",\n",
        "    round(statistics.mean(mixed_f1_score),3),\n",
        "    round(statistics.stdev(mixed_f1_score),3)))"
      ],
      "id": "cEFb5Ti0FBth",
      "execution_count": null,
      "outputs": [
        {
          "output_type": "stream",
          "name": "stdout",
          "text": [
            "                Mean (StDev)\n",
            "-----------------------------\n",
            "Macro Scores\n",
            "-----------------------------\n",
            "       Accuracy 0.572 (0.003)\n",
            "       Macro F1 0.431 (0.005)\n",
            "    Weighted F1 0.553 (0.004)\n",
            "-----------------------------\n",
            "Class Scores\n",
            "-----------------------------\n",
            "       Positive 0.743 (0.006)\n",
            "        Neutral 0.446 (0.012)\n",
            "       Negative  0.43 (0.014)\n",
            "          Mixed 0.106 (0.016)\n"
          ]
        }
      ]
    },
    {
      "cell_type": "markdown",
      "metadata": {
        "id": "3a96351b-b72b-4d3a-930c-b1ced24420cf"
      },
      "source": [
        "# Parking Lot\n",
        "the rest of this notebook required more RAM and GPUs to run. The Posts op gender ran on Colab Pro but Responses did not."
      ],
      "id": "3a96351b-b72b-4d3a-930c-b1ced24420cf"
    },
    {
      "cell_type": "code",
      "metadata": {
        "colab": {
          "base_uri": "https://localhost:8080/",
          "height": 364
        },
        "id": "yRZMTJ_B7GsI",
        "outputId": "e8e555c5-13b6-4e95-fcfb-38c5574191b5"
      },
      "source": [
        "#Load model\n",
        "tf.keras.models.load_model(\n",
        "    os.path.join(path,'annotations_sentiment_bow_neural_model'), custom_objects=None, compile=True, options=None)\n"
      ],
      "id": "yRZMTJ_B7GsI",
      "execution_count": null,
      "outputs": [
        {
          "output_type": "error",
          "ename": "OSError",
          "evalue": "ignored",
          "traceback": [
            "\u001b[0;31m---------------------------------------------------------------------------\u001b[0m",
            "\u001b[0;31mOSError\u001b[0m                                   Traceback (most recent call last)",
            "\u001b[0;32m<ipython-input-58-f56cd4af895f>\u001b[0m in \u001b[0;36m<module>\u001b[0;34m()\u001b[0m\n\u001b[1;32m      1\u001b[0m \u001b[0;31m#Load model\u001b[0m\u001b[0;34m\u001b[0m\u001b[0;34m\u001b[0m\u001b[0;34m\u001b[0m\u001b[0m\n\u001b[1;32m      2\u001b[0m tf.keras.models.load_model(\n\u001b[0;32m----> 3\u001b[0;31m     os.path.join(path,'annotations_sentiment_bow_neural_model'), custom_objects=None, compile=True, options=None)\n\u001b[0m",
            "\u001b[0;32m/usr/local/lib/python3.7/dist-packages/keras/saving/save.py\u001b[0m in \u001b[0;36mload_model\u001b[0;34m(filepath, custom_objects, compile, options)\u001b[0m\n\u001b[1;32m    203\u001b[0m         \u001b[0mfilepath\u001b[0m \u001b[0;34m=\u001b[0m \u001b[0mpath_to_string\u001b[0m\u001b[0;34m(\u001b[0m\u001b[0mfilepath\u001b[0m\u001b[0;34m)\u001b[0m\u001b[0;34m\u001b[0m\u001b[0;34m\u001b[0m\u001b[0m\n\u001b[1;32m    204\u001b[0m         \u001b[0;32mif\u001b[0m \u001b[0misinstance\u001b[0m\u001b[0;34m(\u001b[0m\u001b[0mfilepath\u001b[0m\u001b[0;34m,\u001b[0m \u001b[0mstr\u001b[0m\u001b[0;34m)\u001b[0m\u001b[0;34m:\u001b[0m\u001b[0;34m\u001b[0m\u001b[0;34m\u001b[0m\u001b[0m\n\u001b[0;32m--> 205\u001b[0;31m           \u001b[0;32mreturn\u001b[0m \u001b[0msaved_model_load\u001b[0m\u001b[0;34m.\u001b[0m\u001b[0mload\u001b[0m\u001b[0;34m(\u001b[0m\u001b[0mfilepath\u001b[0m\u001b[0;34m,\u001b[0m \u001b[0mcompile\u001b[0m\u001b[0;34m,\u001b[0m \u001b[0moptions\u001b[0m\u001b[0;34m)\u001b[0m\u001b[0;34m\u001b[0m\u001b[0;34m\u001b[0m\u001b[0m\n\u001b[0m\u001b[1;32m    206\u001b[0m \u001b[0;34m\u001b[0m\u001b[0m\n\u001b[1;32m    207\u001b[0m   raise IOError(\n",
            "\u001b[0;32m/usr/local/lib/python3.7/dist-packages/keras/saving/saved_model/load.py\u001b[0m in \u001b[0;36mload\u001b[0;34m(path, compile, options)\u001b[0m\n\u001b[1;32m    106\u001b[0m   \u001b[0;31m# Look for metadata file or parse the SavedModel\u001b[0m\u001b[0;34m\u001b[0m\u001b[0;34m\u001b[0m\u001b[0;34m\u001b[0m\u001b[0m\n\u001b[1;32m    107\u001b[0m   \u001b[0mmetadata\u001b[0m \u001b[0;34m=\u001b[0m \u001b[0msaved_metadata_pb2\u001b[0m\u001b[0;34m.\u001b[0m\u001b[0mSavedMetadata\u001b[0m\u001b[0;34m(\u001b[0m\u001b[0;34m)\u001b[0m\u001b[0;34m\u001b[0m\u001b[0;34m\u001b[0m\u001b[0m\n\u001b[0;32m--> 108\u001b[0;31m   \u001b[0mmeta_graph_def\u001b[0m \u001b[0;34m=\u001b[0m \u001b[0mtf\u001b[0m\u001b[0;34m.\u001b[0m\u001b[0m__internal__\u001b[0m\u001b[0;34m.\u001b[0m\u001b[0msaved_model\u001b[0m\u001b[0;34m.\u001b[0m\u001b[0mparse_saved_model\u001b[0m\u001b[0;34m(\u001b[0m\u001b[0mpath\u001b[0m\u001b[0;34m)\u001b[0m\u001b[0;34m.\u001b[0m\u001b[0mmeta_graphs\u001b[0m\u001b[0;34m[\u001b[0m\u001b[0;36m0\u001b[0m\u001b[0;34m]\u001b[0m\u001b[0;34m\u001b[0m\u001b[0;34m\u001b[0m\u001b[0m\n\u001b[0m\u001b[1;32m    109\u001b[0m   \u001b[0mobject_graph_def\u001b[0m \u001b[0;34m=\u001b[0m \u001b[0mmeta_graph_def\u001b[0m\u001b[0;34m.\u001b[0m\u001b[0mobject_graph_def\u001b[0m\u001b[0;34m\u001b[0m\u001b[0;34m\u001b[0m\u001b[0m\n\u001b[1;32m    110\u001b[0m   \u001b[0mpath_to_metadata_pb\u001b[0m \u001b[0;34m=\u001b[0m \u001b[0mos\u001b[0m\u001b[0;34m.\u001b[0m\u001b[0mpath\u001b[0m\u001b[0;34m.\u001b[0m\u001b[0mjoin\u001b[0m\u001b[0;34m(\u001b[0m\u001b[0mpath\u001b[0m\u001b[0;34m,\u001b[0m \u001b[0mconstants\u001b[0m\u001b[0;34m.\u001b[0m\u001b[0mSAVED_METADATA_PATH\u001b[0m\u001b[0;34m)\u001b[0m\u001b[0;34m\u001b[0m\u001b[0;34m\u001b[0m\u001b[0m\n",
            "\u001b[0;32m/usr/local/lib/python3.7/dist-packages/tensorflow/python/saved_model/loader_impl.py\u001b[0m in \u001b[0;36mparse_saved_model\u001b[0;34m(export_dir)\u001b[0m\n\u001b[1;32m    119\u001b[0m         \u001b[0;34m\"SavedModel file does not exist at: %s%s{%s|%s}\"\u001b[0m \u001b[0;34m%\u001b[0m\u001b[0;34m\u001b[0m\u001b[0;34m\u001b[0m\u001b[0m\n\u001b[1;32m    120\u001b[0m         (export_dir, os.path.sep, constants.SAVED_MODEL_FILENAME_PBTXT,\n\u001b[0;32m--> 121\u001b[0;31m          constants.SAVED_MODEL_FILENAME_PB))\n\u001b[0m\u001b[1;32m    122\u001b[0m \u001b[0;34m\u001b[0m\u001b[0m\n\u001b[1;32m    123\u001b[0m \u001b[0;34m\u001b[0m\u001b[0m\n",
            "\u001b[0;31mOSError\u001b[0m: SavedModel file does not exist at: /content/drive/MyDrive/w266/annotations_sentiment_bow_neural_model/{saved_model.pbtxt|saved_model.pb}"
          ]
        }
      ]
    },
    {
      "cell_type": "markdown",
      "metadata": {
        "id": "b36e1d6d-9f9c-4260-b08b-97b0dd6c31d9"
      },
      "source": [
        "## Posts - Op Gender"
      ],
      "id": "b36e1d6d-9f9c-4260-b08b-97b0dd6c31d9"
    },
    {
      "cell_type": "code",
      "metadata": {
        "id": "2e4b65a4-44f1-4eca-bfa8-e0e02a9d3f2d"
      },
      "source": [
        "X_train = posts_train['post_text']\n",
        "y_train = posts_train['op_gender'].map(gender_binary_mappings)\n",
        "X_dev = posts_dev['post_text']\n",
        "y_dev = posts_dev['op_gender'].map(gender_binary_mappings)"
      ],
      "id": "2e4b65a4-44f1-4eca-bfa8-e0e02a9d3f2d",
      "execution_count": null,
      "outputs": []
    },
    {
      "cell_type": "markdown",
      "metadata": {
        "id": "c6a1c3d5-4504-4f5f-abbb-59cd695d3cdb"
      },
      "source": [
        "### Tokenize & Create Embeddings Layer"
      ],
      "id": "c6a1c3d5-4504-4f5f-abbb-59cd695d3cdb"
    },
    {
      "cell_type": "code",
      "metadata": {
        "id": "bc2450ee-2e93-41c4-9594-d7db80a70de0",
        "outputId": "796183ad-e82e-4527-c8e7-d45aca5e9cba"
      },
      "source": [
        "# tokenize data and return embeddings matrix \n",
        "max_tokens = 10000\n",
        "# consider this maximum number of words\n",
        "max_sequence_length = 100\n",
        "tokenizer = Tokenizer(num_words=max_tokens)\n",
        "\n",
        "x_train, x_dev, embedding_matrix = tokenize_Xtrain_and_Xdev(X_train, X_dev)\n",
        "\n",
        "# one-hot encodign and reshape labels\n",
        "print(\"-\"*60)\n",
        "\n",
        "train_labels = to_categorical(np.asarray(y_train))\n",
        "dev_labels = to_categorical(np.asarray(y_dev))\n",
        "\n",
        "print('Shape of train label tensor:', train_labels.shape)\n",
        "print('Shape of dev label tensor:', dev_labels.shape)"
      ],
      "id": "bc2450ee-2e93-41c4-9594-d7db80a70de0",
      "execution_count": null,
      "outputs": [
        {
          "name": "stdout",
          "output_type": "stream",
          "text": [
            "Train + Dev 559520 unique tokens.\n",
            "Shape of data tensor: (2883387, 100)\n",
            "Shape of train data tensor: (2137983, 100)\n",
            "Shape of dev data tensor: (745404, 100)\n",
            "------------------------------------------------------------\n",
            "top 5 most common tokens:  ['of', 'a', 'and', 'to', 'the']\n",
            "top 5 least common tokens:  ['digikey', 'mu6300', 'aliant', 'metrotown', 'beamdog']\n",
            "------------------------------------------------------------\n",
            "Number of words with embeddings found: 146683\n",
            "Number of words with embeddings NOT found: 412837\n",
            "------------------------------------------------------------\n",
            "Shape of train label tensor: (2137983, 2)\n",
            "Shape of dev label tensor: (745404, 2)\n"
          ]
        }
      ]
    },
    {
      "cell_type": "code",
      "metadata": {
        "id": "57adf7c7-8816-4c5e-a345-781cddc1a2db"
      },
      "source": [
        "embedding_layer = Embedding(embedding_matrix.shape[0],\n",
        "                            embedding_matrix.shape[1],\n",
        "                            embeddings_initializer=tf.keras.initializers.Constant(embedding_matrix),\n",
        "                            input_length=max_sequence_length,\n",
        "                            trainable=False)"
      ],
      "id": "57adf7c7-8816-4c5e-a345-781cddc1a2db",
      "execution_count": null,
      "outputs": []
    },
    {
      "cell_type": "markdown",
      "metadata": {
        "id": "c5809fff-5919-44c5-9ddc-bbcc8817f859"
      },
      "source": [
        "### Run Model - Hypertune"
      ],
      "id": "c5809fff-5919-44c5-9ddc-bbcc8817f859"
    },
    {
      "cell_type": "code",
      "metadata": {
        "id": "1753b60d-42a2-402d-a7e1-bdbed5290e43"
      },
      "source": [
        "def post_op_binary_model_builder(hp):\n",
        "    model = tf.keras.Sequential()\n",
        "    model.add(embedding_layer) \n",
        "    model.add(tf.keras.layers.Lambda(lambda x: K.mean(x, axis=1))) #avg\n",
        "\n",
        "    # Tune the number of units in the first Dense layer\n",
        "    # Choose an optimal value between 10 and 25\n",
        "    hp_units = hp.Int('units', min_value=10, max_value=25, step=5)\n",
        "    model.add(tf.keras.layers.Dense(units=hp_units, activation='relu'))\n",
        "    \n",
        "    # Tune dropout layer \n",
        "    dropout = hp.Float('dropout', min_value=0.2, max_value=0.5, default=0.0, step=0.1)\n",
        "    model.add(Dropout(dropout))\n",
        "        \n",
        "    # output layer \n",
        "    model.add(Dense(2, activation='sigmoid'))\n",
        "\n",
        "    # Tune the learning rate for the optimizer\n",
        "  \n",
        "    model.compile(optimizer='adam',\n",
        "                loss='binary_crossentropy', \n",
        "                metrics=['binary_accuracy', 'binary_crossentropy'])\n",
        "\n",
        "    return model"
      ],
      "id": "1753b60d-42a2-402d-a7e1-bdbed5290e43",
      "execution_count": null,
      "outputs": []
    },
    {
      "cell_type": "code",
      "metadata": {
        "id": "4c0cdc7d-c58c-4fbd-b1ef-eced5cd7783b",
        "outputId": "610149ce-a53c-4522-f46a-40feb578c504"
      },
      "source": [
        "tuner = kt.Hyperband(post_op_binary_model_builder,\n",
        "                     objective='val_binary_accuracy',\n",
        "                     max_epochs=25,\n",
        "                     factor=3,\n",
        "                     directory='my_dir',\n",
        "                     project_name='op_gender')\n",
        "\n",
        "tuner.search(x_train, train_labels, validation_data=(x_dev, dev_labels),\n",
        "             epochs=1, verbose=0)\n",
        "\n",
        "# Get the optimal hyperparameters\n",
        "best_hps=tuner.get_best_hyperparameters(num_trials=1)[0]\n",
        "\n",
        "print(f\"\"\"\n",
        "The hyperparameter search is complete. The optimal number of units in the first densely-connected\n",
        "layer is {best_hps.get('units')} and the optimal learning rate for the optimizer\n",
        "is {best_hps.get('learning_rate')}.\n",
        "\"\"\")\n",
        "model = tuner.hypermodel.build(best_hps)\n"
      ],
      "id": "4c0cdc7d-c58c-4fbd-b1ef-eced5cd7783b",
      "execution_count": null,
      "outputs": [
        {
          "name": "stdout",
          "output_type": "stream",
          "text": [
            "INFO:tensorflow:Reloading Oracle from existing project my_dir/op_gender/oracle.json\n",
            "INFO:tensorflow:Reloading Tuner from my_dir/op_gender/tuner0.json\n"
          ]
        }
      ]
    },
    {
      "cell_type": "code",
      "metadata": {
        "id": "3eb2aadb-e481-426b-8fda-ae42bbdce2b7"
      },
      "source": [
        "model.save('RtGender/models/posts_op_gender_baseline_model')\n",
        "\n",
        "# fit model \n",
        "history = model.fit(x_train, train_labels,\n",
        "                    validation_data=(x_dev, dev_labels),\n",
        "                    epochs=5, verbose=0)"
      ],
      "id": "3eb2aadb-e481-426b-8fda-ae42bbdce2b7",
      "execution_count": null,
      "outputs": []
    },
    {
      "cell_type": "markdown",
      "metadata": {
        "id": "36bb3954-0add-468d-8882-5bb330d41c94"
      },
      "source": [
        "### Metrics "
      ],
      "id": "36bb3954-0add-468d-8882-5bb330d41c94"
    },
    {
      "cell_type": "code",
      "metadata": {
        "id": "aec941a3-3a0e-4bc3-b0b4-a64116224338"
      },
      "source": [
        "binary_loss_accuracy_plots(history)\n",
        "y_pred = model.predict(x_dev) #predict\n",
        "confusion_matrix(x_dev, y_dev, gender_labels)"
      ],
      "id": "aec941a3-3a0e-4bc3-b0b4-a64116224338",
      "execution_count": null,
      "outputs": []
    },
    {
      "cell_type": "markdown",
      "metadata": {
        "tags": [],
        "id": "62f80ddd"
      },
      "source": [
        "## Annotations: Op Gender Model\n",
        "[Source](https://blog.keras.io/using-pre-trained-word-embeddings-in-a-keras-model.html)\n"
      ],
      "id": "62f80ddd"
    },
    {
      "cell_type": "code",
      "metadata": {
        "id": "71ee318a"
      },
      "source": [
        "#Annotations data split train: 70%, dev: 15%, test: 15%\n",
        "\n",
        "X = annotations['post_text']\n",
        "y = annotations['op_gender'].map(gender_binary_mappings)\n",
        "\n",
        "#1st split: 70 train /30 test\n",
        "ann_train, ann_test, ann_train_op_gender, ann_test_op_gender = train_test_split(\n",
        "X, y, test_size = .3, random_state = 1222, stratify = y)\n",
        "\n",
        "#2nd split: test data 50/50 into test/dev\n",
        "ann_test, ann_dev, ann_test_op_gender, ann_dev_op_gender = train_test_split(\n",
        "ann_test, ann_test_op_gender, test_size = .5, random_state = 1222, stratify = ann_test_op_gender)"
      ],
      "id": "71ee318a",
      "execution_count": null,
      "outputs": []
    },
    {
      "cell_type": "markdown",
      "metadata": {
        "id": "cae16c53"
      },
      "source": [
        "## Prepare the data for modeling and create Embeddings matrix"
      ],
      "id": "cae16c53"
    },
    {
      "cell_type": "code",
      "metadata": {
        "id": "0111b62f",
        "outputId": "d24accbf-76d7-4c01-c0fb-a461257b8989"
      },
      "source": [
        "# tokenize data and return embeddings matrix \n",
        "max_tokens = 10000\n",
        "# consider this maximum number of words\n",
        "max_sequence_length = 100\n",
        "tokenizer = Tokenizer(num_words=max_tokens)\n",
        "\n",
        "x_train, x_dev, embedding_matrix = tokenize_Xtrain_and_Xdev(ann_train, ann_dev)\n",
        "\n",
        "# one-hot encodign and reshape labels\n",
        "print(\"-\"*60)\n",
        "\n",
        "train_labels = to_categorical(np.asarray(ann_train_op_gender))\n",
        "dev_labels = to_categorical(np.asarray(ann_dev_op_gender))\n",
        "\n",
        "print('Shape of train label tensor:', train_labels.shape)\n",
        "print('Shape of dev label tensor:', dev_labels.shape)"
      ],
      "id": "0111b62f",
      "execution_count": null,
      "outputs": [
        {
          "name": "stdout",
          "output_type": "stream",
          "text": [
            "Train + Dev 21901 unique tokens.\n",
            "Shape of data tensor: (13049, 100)\n",
            "Shape of train data tensor: (10746, 100)\n",
            "Shape of dev data tensor: (2303, 100)\n",
            "------------------------------------------------------------\n",
            "top 5 most common tokens:  ['i', 'and', 'a', 'to', 'the']\n",
            "top 5 least common tokens:  [\"hagel's\", 'approves', 'disasterassistance', 'tropical', 'suffered']\n",
            "------------------------------------------------------------\n",
            "Number of words with embeddings found: 17158\n",
            "Number of words with embeddings NOT found: 4743\n",
            "------------------------------------------------------------\n",
            "Shape of train label tensor: (10746, 2)\n",
            "Shape of dev label tensor: (2303, 2)\n"
          ]
        }
      ]
    },
    {
      "cell_type": "markdown",
      "metadata": {
        "id": "045e9e52"
      },
      "source": [
        "## Create Model"
      ],
      "id": "045e9e52"
    },
    {
      "cell_type": "code",
      "metadata": {
        "id": "45feec36",
        "outputId": "0bc10d38-231f-48cb-8afe-8d63ddff2a12"
      },
      "source": [
        "# Define the model\n",
        "from keras.layers import Embedding\n",
        "\n",
        "# delete model if exists\n",
        "try:\n",
        "    del ANN_OP_GENDER\n",
        "except:\n",
        "    pass\n",
        "\n",
        "# create embedding layer\n",
        "# input_lenght: Keras' embedding layer expects a specific input length. Padding is needed here. The vectorizer\n",
        "# defined above takes care of the padding\n",
        "embedding_layer = Embedding(embedding_matrix.shape[0],\n",
        "                            embedding_matrix.shape[1],\n",
        "                            embeddings_initializer=tf.keras.initializers.Constant(embedding_matrix),\n",
        "                            input_length=max_sequence_length,\n",
        "                            trainable=False)\n",
        "\n",
        "\n",
        "# simple sequential model\n",
        "ANN_OP_GENDER = tf.keras.Sequential()\n",
        "# include the embedding layer\n",
        "ANN_OP_GENDER.add(embedding_layer)\n",
        "# average embedding vectors\n",
        "ANN_OP_GENDER.add(tf.keras.layers.Lambda(lambda x: K.mean(x, axis=1))) \n",
        "# hidden layer with rectified linear activation function (relu)\n",
        "ANN_OP_GENDER.add(Dense(100, activation='relu'))  \n",
        "# dropout layer for regularization\n",
        "ANN_OP_GENDER.add(Dropout(0.2))\n",
        "# output layer with 2 classes classification\n",
        "ANN_OP_GENDER.add(Dense(2, activation='softmax'))"
      ],
      "id": "45feec36",
      "execution_count": null,
      "outputs": [
        {
          "name": "stderr",
          "output_type": "stream",
          "text": [
            "2021-09-30 02:24:47.584035: W tensorflow/stream_executor/platform/default/dso_loader.cc:64] Could not load dynamic library 'libcuda.so.1'; dlerror: libcuda.so.1: cannot open shared object file: No such file or directory; LD_LIBRARY_PATH: /usr/local/cuda/lib64:/usr/local/nccl2/lib:/usr/local/cuda/extras/CUPTI/lib64\n",
            "2021-09-30 02:24:47.584101: W tensorflow/stream_executor/cuda/cuda_driver.cc:269] failed call to cuInit: UNKNOWN ERROR (303)\n",
            "2021-09-30 02:24:47.584136: I tensorflow/stream_executor/cuda/cuda_diagnostics.cc:156] kernel driver does not appear to be running on this host (w266-teslat4): /proc/driver/nvidia/version does not exist\n",
            "2021-09-30 02:24:47.584730: I tensorflow/core/platform/cpu_feature_guard.cc:142] This TensorFlow binary is optimized with oneAPI Deep Neural Network Library (oneDNN) to use the following CPU instructions in performance-critical operations:  AVX2 FMA\n",
            "To enable them in other operations, rebuild TensorFlow with the appropriate compiler flags.\n"
          ]
        }
      ]
    },
    {
      "cell_type": "code",
      "metadata": {
        "id": "77e27d56",
        "outputId": "8bfe6af5-a9bf-4028-9889-d573969211a4"
      },
      "source": [
        "# compile the model\n",
        "# categorical_crossentropy: loss function appropiate for multi-class single label classification\n",
        "ANN_OP_GENDER.compile(loss='binary_crossentropy', \n",
        "                      optimizer='adam', \n",
        "                      metrics=['binary_accuracy', 'binary_crossentropy'])\n",
        "\n",
        "# summary of the model's architecture\n",
        "ANN_OP_GENDER.summary()"
      ],
      "id": "77e27d56",
      "execution_count": null,
      "outputs": [
        {
          "name": "stdout",
          "output_type": "stream",
          "text": [
            "Model: \"sequential\"\n",
            "_________________________________________________________________\n",
            "Layer (type)                 Output Shape              Param #   \n",
            "=================================================================\n",
            "embedding (Embedding)        (None, 100, 300)          6570600   \n",
            "_________________________________________________________________\n",
            "lambda (Lambda)              (None, 300)               0         \n",
            "_________________________________________________________________\n",
            "dense (Dense)                (None, 100)               30100     \n",
            "_________________________________________________________________\n",
            "dropout (Dropout)            (None, 100)               0         \n",
            "_________________________________________________________________\n",
            "dense_1 (Dense)              (None, 2)                 202       \n",
            "=================================================================\n",
            "Total params: 6,600,902\n",
            "Trainable params: 30,302\n",
            "Non-trainable params: 6,570,600\n",
            "_________________________________________________________________\n"
          ]
        }
      ]
    },
    {
      "cell_type": "code",
      "metadata": {
        "id": "042e1521",
        "outputId": "290a178f-c051-4d17-ad1f-cf57613968c6"
      },
      "source": [
        "# train the model and store the training history\n",
        "training_history = ANN_OP_GENDER.fit(x_train, train_labels,\n",
        "                                     validation_data=(x_dev, dev_labels),\n",
        "                                     epochs=50, verbose=0)"
      ],
      "id": "042e1521",
      "execution_count": null,
      "outputs": [
        {
          "name": "stderr",
          "output_type": "stream",
          "text": [
            "2021-09-30 02:24:53.443771: I tensorflow/compiler/mlir/mlir_graph_optimization_pass.cc:185] None of the MLIR Optimization Passes are enabled (registered 2)\n"
          ]
        }
      ]
    },
    {
      "cell_type": "code",
      "metadata": {
        "id": "c5a67f9d",
        "outputId": "199d7b66-cb33-45a9-b23f-a25118ada157"
      },
      "source": [
        "binary_loss_accuracy_plots(training_history)"
      ],
      "id": "c5a67f9d",
      "execution_count": null,
      "outputs": [
        {
          "data": {
            "image/png": "[encoded data removed]",
            "text/plain": [
              "<Figure size 1080x432 with 2 Axes>"
            ]
          },
          "metadata": {
            "needs_background": "light"
          },
          "output_type": "display_data"
        }
      ]
    },
    {
      "cell_type": "markdown",
      "metadata": {
        "id": "13b1f9e4"
      },
      "source": [
        "This model is clearly overfitting. "
      ],
      "id": "13b1f9e4"
    },
    {
      "cell_type": "markdown",
      "metadata": {
        "id": "be0e1d92"
      },
      "source": [
        "## Tune\n",
        "[source](https://www.tensorflow.org/tutorials/keras/keras_tuner)"
      ],
      "id": "be0e1d92"
    },
    {
      "cell_type": "code",
      "metadata": {
        "id": "4d0f24a0"
      },
      "source": [
        "def binary_model_builder(hp):\n",
        "    model = tf.keras.Sequential()\n",
        "    model.add(embedding_layer) \n",
        "    model.add(tf.keras.layers.Lambda(lambda x: K.mean(x, axis=1))) #avg\n",
        "\n",
        "    # Tune the number of units in the first Dense layer\n",
        "    # Choose an optimal value between 10 and 100\n",
        "    hp_units = hp.Int('units', min_value=10, max_value=100, step=10)\n",
        "    model.add(tf.keras.layers.Dense(units=hp_units, activation='relu'))\n",
        "    \n",
        "    # Tune dropout layer \n",
        "    dropout = hp.Float('dropout', min_value=0.2, max_value=0.5, default=0.0, step=0.05)\n",
        "    model.add(Dropout(dropout))\n",
        "        \n",
        "    # output layer \n",
        "    model.add(Dense(2, activation='softmax'))\n",
        "\n",
        "    # Tune the learning rate for the optimizer\n",
        "    # Choose an optimal value from 0.01, 0.001, or 0.0001\n",
        "    hp_learning_rate = hp.Choice('learning_rate', values=[1e-2, 1e-3, 1e-4])\n",
        "\n",
        "    model.compile(optimizer=tf.keras.optimizers.Adam(learning_rate=hp_learning_rate),\n",
        "                loss='binary_crossentropy', \n",
        "                metrics=['binary_accuracy', 'binary_crossentropy'])\n",
        "\n",
        "    return model"
      ],
      "id": "4d0f24a0",
      "execution_count": null,
      "outputs": []
    },
    {
      "cell_type": "code",
      "metadata": {
        "id": "198d69a1",
        "outputId": "35464f0c-a2ab-41b4-9658-93144c211e9a"
      },
      "source": [
        "tuner = kt.Hyperband(binary_model_builder,\n",
        "                     objective='val_binary_accuracy',\n",
        "                     max_epochs=10,\n",
        "                     factor=3,\n",
        "                     directory='my_dir',\n",
        "                     project_name='intro_to_kt2')"
      ],
      "id": "198d69a1",
      "execution_count": null,
      "outputs": [
        {
          "name": "stdout",
          "output_type": "stream",
          "text": [
            "INFO:tensorflow:Reloading Oracle from existing project my_dir/intro_to_kt2/oracle.json\n",
            "INFO:tensorflow:Reloading Tuner from my_dir/intro_to_kt2/tuner0.json\n"
          ]
        }
      ]
    },
    {
      "cell_type": "code",
      "metadata": {
        "id": "cd6efc60",
        "outputId": "ea8b8616-bf81-4179-8390-f22d9a01dce2"
      },
      "source": [
        "tuner.search(x_train, train_labels, validation_data=(x_dev, dev_labels),\n",
        "             epochs=50, verbose=0)\n",
        "\n",
        "# Get the optimal hyperparameters\n",
        "best_hps=tuner.get_best_hyperparameters(num_trials=1)[0]\n",
        "\n",
        "print(f\"\"\"\n",
        "The hyperparameter search is complete. The optimal number of units in the first densely-connected\n",
        "layer is {best_hps.get('units')} and the optimal learning rate for the optimizer\n",
        "is {best_hps.get('learning_rate')}.\n",
        "\"\"\")"
      ],
      "id": "cd6efc60",
      "execution_count": null,
      "outputs": [
        {
          "name": "stdout",
          "output_type": "stream",
          "text": [
            "INFO:tensorflow:Oracle triggered exit\n",
            "\n",
            "The hyperparameter search is complete. The optimal number of units in the first densely-connected\n",
            "layer is 30 and the optimal learning rate for the optimizer\n",
            "is 0.0001.\n",
            "\n"
          ]
        }
      ]
    },
    {
      "cell_type": "markdown",
      "metadata": {
        "id": "20187dd1"
      },
      "source": [
        "Run the model with the optimal hyperparameters"
      ],
      "id": "20187dd1"
    },
    {
      "cell_type": "code",
      "metadata": {
        "id": "a0c894f4"
      },
      "source": [
        "model = tuner.hypermodel.build(best_hps)\n",
        "history = model.fit(x_train, train_labels,\n",
        "                    validation_data=(x_dev, dev_labels),\n",
        "                    epochs=50, verbose=0)"
      ],
      "id": "a0c894f4",
      "execution_count": null,
      "outputs": []
    },
    {
      "cell_type": "markdown",
      "metadata": {
        "id": "66922c0a"
      },
      "source": [
        "Review the performance of the selected model in the test data:"
      ],
      "id": "66922c0a"
    },
    {
      "cell_type": "markdown",
      "metadata": {
        "id": "4c71dba3"
      },
      "source": [
        "## Metrics"
      ],
      "id": "4c71dba3"
    },
    {
      "cell_type": "code",
      "metadata": {
        "id": "80cea02f",
        "outputId": "646acb2a-c17b-41a8-eb6f-6c603d4884c9"
      },
      "source": [
        "binary_loss_accuracy_plots(history)"
      ],
      "id": "80cea02f",
      "execution_count": null,
      "outputs": [
        {
          "data": {
            "image/png": "[encoded data removed]",
            "text/plain": [
              "<Figure size 1080x432 with 2 Axes>"
            ]
          },
          "metadata": {
            "needs_background": "light"
          },
          "output_type": "display_data"
        }
      ]
    },
    {
      "cell_type": "markdown",
      "metadata": {
        "id": "3928a78f"
      },
      "source": [
        "Still overfitting. "
      ],
      "id": "3928a78f"
    },
    {
      "cell_type": "markdown",
      "metadata": {
        "id": "592136f5"
      },
      "source": [
        "### Confusion Matrix"
      ],
      "id": "592136f5"
    },
    {
      "cell_type": "code",
      "metadata": {
        "id": "a5a511ca",
        "outputId": "13d18240-a3a7-4cc4-a737-345005dd8ae1"
      },
      "source": [
        "y_pred = model.predict(x_dev) #predict\n",
        "confusion_matrix(x_dev, ann_dev_op_gender, gender_labels)"
      ],
      "id": "a5a511ca",
      "execution_count": null,
      "outputs": [
        {
          "data": {
            "image/png": "[encoded data removed]",
            "text/plain": [
              "<Figure size 432x288 with 2 Axes>"
            ]
          },
          "metadata": {
            "needs_background": "light"
          },
          "output_type": "display_data"
        },
        {
          "name": "stdout",
          "output_type": "stream",
          "text": [
            "              precision    recall  f1-score   support\n",
            "\n",
            "           0       0.50      0.57      0.53      1169\n",
            "           1       0.49      0.42      0.45      1134\n",
            "\n",
            "    accuracy                           0.50      2303\n",
            "   macro avg       0.49      0.49      0.49      2303\n",
            "weighted avg       0.49      0.50      0.49      2303\n",
            "\n",
            "Weighted f1-score: 49.27%\n"
          ]
        }
      ]
    },
    {
      "cell_type": "code",
      "metadata": {
        "id": "f19473bd",
        "cellView": "form"
      },
      "source": [
        "#@title\n",
        "#Annotations data split train: 70%, dev: 15%, test: 15%\n",
        "\n",
        "X = annotations['response_text']\n",
        "y = annotations['sentiment'].map(sentiment_mappings)\n",
        "\n",
        "#1st split: 70 train /30 test\n",
        "X_train, X_dev, y_train, y_dev = train_test_split(\n",
        "X, y, test_size = .3, random_state = 1222, stratify = y)\n",
        "\n",
        "#2nd split: test data 50/50 into test/dev\n",
        "X_test, X_dev, y_test, y_dev = train_test_split(\n",
        "X_dev, y_dev, test_size = .5, random_state = 1222, stratify = y_dev)"
      ],
      "id": "f19473bd",
      "execution_count": null,
      "outputs": []
    },
    {
      "cell_type": "code",
      "metadata": {
        "id": "42458b73"
      },
      "source": [
        "def tokenize_Xtrain_and_Xdev(x_train, x_dev):\n",
        "    '''Combine tokenize and split back the X_train and \n",
        "    X_dev or X_test datasets. Then create an embedding matrix.'''\n",
        "\n",
        "    # note the length of the training index\n",
        "    train_idx = len(x_train)\n",
        "    #combine train and dev data and then tokenize\n",
        "    texts = x_train.append(x_dev)\n",
        "\n",
        "    tokenizer.fit_on_texts(texts)\n",
        "    sequences = tokenizer.texts_to_sequences(texts)\n",
        "    word_index = tokenizer.word_index\n",
        "    print('Train + Dev %s unique tokens.' % len(word_index))\n",
        "\n",
        "    data = pad_sequences(sequences, maxlen=max_sequence_length)\n",
        "    print('Shape of data tensor:', data.shape)\n",
        "    \n",
        "    x_train = data[:train_idx]\n",
        "    x_dev = data[train_idx:]\n",
        "\n",
        "    print('Shape of train data tensor:', x_train.shape)\n",
        "    print('Shape of dev data tensor:', x_dev.shape)\n",
        "    print(\"-\"*60)\n",
        "    \n",
        "    # print top 5 most and least common tokens\n",
        "    print(\"top 5 most common tokens: \", sorted(word_index, key=word_index.get, reverse=True)[-5:])\n",
        "    print(\"top 5 least common tokens: \", sorted(word_index, key=word_index.get, reverse=True)[:5])\n",
        "    print(\"-\"*60)\n",
        "\n",
        "    \n",
        "    # build embedding matrix to use it in the model\n",
        "    # dimensions_emb = 300\n",
        "\n",
        "    # # zero position is zero by default in keras\n",
        "    # embedding_matrix = np.zeros((len(word_index) + 1, dimensions_emb)) \n",
        "\n",
        "    # total_tokens = len(word_index) + 1\n",
        "    # with_embedding = []\n",
        "    # without_embedding = []\n",
        "\n",
        "    # for word, i in word_index.items():\n",
        "    #     embedding_vector = embeddings_index.get(word)\n",
        "    #     if embedding_vector is not None:\n",
        "    #         # words not found in embedding index will be all-zeros.\n",
        "    #         embedding_matrix[i] = embedding_vector\n",
        "    #         with_embedding.append(word)\n",
        "    #     else:\n",
        "    #         without_embedding.append(word)\n",
        "\n",
        "    # print(f'Number of words with embeddings found: {len(with_embedding)}')\n",
        "    # print(f'Number of words with embeddings NOT found: {len(without_embedding)}')        \n",
        "\n",
        "    \n",
        "    # return x_train, x_dev, embedding_matrix\n"
      ],
      "id": "42458b73",
      "execution_count": null,
      "outputs": []
    }
  ]
}