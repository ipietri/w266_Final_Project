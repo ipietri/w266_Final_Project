{
  "nbformat": 4,
  "nbformat_minor": 0,
  "metadata": {
    "accelerator": "GPU",
    "colab": {
      "name": "RtGender - Annotations - Sentiment - Easy Data Augmentation Techniques.ipynb",
      "provenance": [],
      "collapsed_sections": [
        "N7PAJ1oIJZfY",
        "z0gJDRCbgi-P",
        "foi-kqbQd5tC",
        "cnqhca40_cu2",
        "OYm-yyHufXuD"
      ],
      "machine_shape": "hm",
      "include_colab_link": true
    },
    "kernelspec": {
      "display_name": "Python 3",
      "language": "python",
      "name": "python3"
    },
    "language_info": {
      "codemirror_mode": {
        "name": "ipython",
        "version": 3
      },
      "file_extension": ".py",
      "mimetype": "text/x-python",
      "name": "python",
      "nbconvert_exporter": "python",
      "pygments_lexer": "ipython3",
      "version": "3.6.6"
    },
    "widgets": {
      "application/vnd.jupyter.widget-state+json": {
        "a6e39ee194a54c79bae0d910fc628764": {
          "model_module": "@jupyter-widgets/controls",
          "model_name": "HBoxModel",
          "model_module_version": "1.5.0",
          "state": {
            "_view_name": "HBoxView",
            "_dom_classes": [],
            "_model_name": "HBoxModel",
            "_view_module": "@jupyter-widgets/controls",
            "_model_module_version": "1.5.0",
            "_view_count": null,
            "_view_module_version": "1.5.0",
            "box_style": "",
            "layout": "IPY_MODEL_d2a08b0ef773428d9749b95aac153464",
            "_model_module": "@jupyter-widgets/controls",
            "children": [
              "IPY_MODEL_f4f3c833281e47d6950b326d9814b428",
              "IPY_MODEL_e62348f87fe947d8ba21d1237fff4f0f",
              "IPY_MODEL_c4e72eb08cca4441bce27148cbb2b904"
            ]
          }
        },
        "d2a08b0ef773428d9749b95aac153464": {
          "model_module": "@jupyter-widgets/base",
          "model_name": "LayoutModel",
          "model_module_version": "1.2.0",
          "state": {
            "_view_name": "LayoutView",
            "grid_template_rows": null,
            "right": null,
            "justify_content": null,
            "_view_module": "@jupyter-widgets/base",
            "overflow": null,
            "_model_module_version": "1.2.0",
            "_view_count": null,
            "flex_flow": null,
            "width": null,
            "min_width": null,
            "border": null,
            "align_items": null,
            "bottom": null,
            "_model_module": "@jupyter-widgets/base",
            "top": null,
            "grid_column": null,
            "overflow_y": null,
            "overflow_x": null,
            "grid_auto_flow": null,
            "grid_area": null,
            "grid_template_columns": null,
            "flex": null,
            "_model_name": "LayoutModel",
            "justify_items": null,
            "grid_row": null,
            "max_height": null,
            "align_content": null,
            "visibility": null,
            "align_self": null,
            "height": null,
            "min_height": null,
            "padding": null,
            "grid_auto_rows": null,
            "grid_gap": null,
            "max_width": null,
            "order": null,
            "_view_module_version": "1.2.0",
            "grid_template_areas": null,
            "object_position": null,
            "object_fit": null,
            "grid_auto_columns": null,
            "margin": null,
            "display": null,
            "left": null
          }
        },
        "f4f3c833281e47d6950b326d9814b428": {
          "model_module": "@jupyter-widgets/controls",
          "model_name": "HTMLModel",
          "model_module_version": "1.5.0",
          "state": {
            "_view_name": "HTMLView",
            "style": "IPY_MODEL_e3ae19b280cc4110902a4035d8811442",
            "_dom_classes": [],
            "description": "",
            "_model_name": "HTMLModel",
            "placeholder": "​",
            "_view_module": "@jupyter-widgets/controls",
            "_model_module_version": "1.5.0",
            "value": "100%",
            "_view_count": null,
            "_view_module_version": "1.5.0",
            "description_tooltip": null,
            "_model_module": "@jupyter-widgets/controls",
            "layout": "IPY_MODEL_1c43749696ef4fbead1ada545b42eec8"
          }
        },
        "e62348f87fe947d8ba21d1237fff4f0f": {
          "model_module": "@jupyter-widgets/controls",
          "model_name": "FloatProgressModel",
          "model_module_version": "1.5.0",
          "state": {
            "_view_name": "ProgressView",
            "style": "IPY_MODEL_2d6fbefee1c24d7b839777973c6e48de",
            "_dom_classes": [],
            "description": "",
            "_model_name": "FloatProgressModel",
            "bar_style": "success",
            "max": 1,
            "_view_module": "@jupyter-widgets/controls",
            "_model_module_version": "1.5.0",
            "value": 1,
            "_view_count": null,
            "_view_module_version": "1.5.0",
            "orientation": "horizontal",
            "min": 0,
            "description_tooltip": null,
            "_model_module": "@jupyter-widgets/controls",
            "layout": "IPY_MODEL_088387b1f47a46dd9b1cfc9f705d4378"
          }
        },
        "c4e72eb08cca4441bce27148cbb2b904": {
          "model_module": "@jupyter-widgets/controls",
          "model_name": "HTMLModel",
          "model_module_version": "1.5.0",
          "state": {
            "_view_name": "HTMLView",
            "style": "IPY_MODEL_fd1286dd07a244ea89fd16c37cf1c3c7",
            "_dom_classes": [],
            "description": "",
            "_model_name": "HTMLModel",
            "placeholder": "​",
            "_view_module": "@jupyter-widgets/controls",
            "_model_module_version": "1.5.0",
            "value": " 1/1 [00:01&lt;00:00,  1.85s/ba]",
            "_view_count": null,
            "_view_module_version": "1.5.0",
            "description_tooltip": null,
            "_model_module": "@jupyter-widgets/controls",
            "layout": "IPY_MODEL_a0536517b8f64b6b813b11f44fceee27"
          }
        },
        "e3ae19b280cc4110902a4035d8811442": {
          "model_module": "@jupyter-widgets/controls",
          "model_name": "DescriptionStyleModel",
          "model_module_version": "1.5.0",
          "state": {
            "_view_name": "StyleView",
            "_model_name": "DescriptionStyleModel",
            "description_width": "",
            "_view_module": "@jupyter-widgets/base",
            "_model_module_version": "1.5.0",
            "_view_count": null,
            "_view_module_version": "1.2.0",
            "_model_module": "@jupyter-widgets/controls"
          }
        },
        "1c43749696ef4fbead1ada545b42eec8": {
          "model_module": "@jupyter-widgets/base",
          "model_name": "LayoutModel",
          "model_module_version": "1.2.0",
          "state": {
            "_view_name": "LayoutView",
            "grid_template_rows": null,
            "right": null,
            "justify_content": null,
            "_view_module": "@jupyter-widgets/base",
            "overflow": null,
            "_model_module_version": "1.2.0",
            "_view_count": null,
            "flex_flow": null,
            "width": null,
            "min_width": null,
            "border": null,
            "align_items": null,
            "bottom": null,
            "_model_module": "@jupyter-widgets/base",
            "top": null,
            "grid_column": null,
            "overflow_y": null,
            "overflow_x": null,
            "grid_auto_flow": null,
            "grid_area": null,
            "grid_template_columns": null,
            "flex": null,
            "_model_name": "LayoutModel",
            "justify_items": null,
            "grid_row": null,
            "max_height": null,
            "align_content": null,
            "visibility": null,
            "align_self": null,
            "height": null,
            "min_height": null,
            "padding": null,
            "grid_auto_rows": null,
            "grid_gap": null,
            "max_width": null,
            "order": null,
            "_view_module_version": "1.2.0",
            "grid_template_areas": null,
            "object_position": null,
            "object_fit": null,
            "grid_auto_columns": null,
            "margin": null,
            "display": null,
            "left": null
          }
        },
        "2d6fbefee1c24d7b839777973c6e48de": {
          "model_module": "@jupyter-widgets/controls",
          "model_name": "ProgressStyleModel",
          "model_module_version": "1.5.0",
          "state": {
            "_view_name": "StyleView",
            "_model_name": "ProgressStyleModel",
            "description_width": "",
            "_view_module": "@jupyter-widgets/base",
            "_model_module_version": "1.5.0",
            "_view_count": null,
            "_view_module_version": "1.2.0",
            "bar_color": null,
            "_model_module": "@jupyter-widgets/controls"
          }
        },
        "088387b1f47a46dd9b1cfc9f705d4378": {
          "model_module": "@jupyter-widgets/base",
          "model_name": "LayoutModel",
          "model_module_version": "1.2.0",
          "state": {
            "_view_name": "LayoutView",
            "grid_template_rows": null,
            "right": null,
            "justify_content": null,
            "_view_module": "@jupyter-widgets/base",
            "overflow": null,
            "_model_module_version": "1.2.0",
            "_view_count": null,
            "flex_flow": null,
            "width": null,
            "min_width": null,
            "border": null,
            "align_items": null,
            "bottom": null,
            "_model_module": "@jupyter-widgets/base",
            "top": null,
            "grid_column": null,
            "overflow_y": null,
            "overflow_x": null,
            "grid_auto_flow": null,
            "grid_area": null,
            "grid_template_columns": null,
            "flex": null,
            "_model_name": "LayoutModel",
            "justify_items": null,
            "grid_row": null,
            "max_height": null,
            "align_content": null,
            "visibility": null,
            "align_self": null,
            "height": null,
            "min_height": null,
            "padding": null,
            "grid_auto_rows": null,
            "grid_gap": null,
            "max_width": null,
            "order": null,
            "_view_module_version": "1.2.0",
            "grid_template_areas": null,
            "object_position": null,
            "object_fit": null,
            "grid_auto_columns": null,
            "margin": null,
            "display": null,
            "left": null
          }
        },
        "fd1286dd07a244ea89fd16c37cf1c3c7": {
          "model_module": "@jupyter-widgets/controls",
          "model_name": "DescriptionStyleModel",
          "model_module_version": "1.5.0",
          "state": {
            "_view_name": "StyleView",
            "_model_name": "DescriptionStyleModel",
            "description_width": "",
            "_view_module": "@jupyter-widgets/base",
            "_model_module_version": "1.5.0",
            "_view_count": null,
            "_view_module_version": "1.2.0",
            "_model_module": "@jupyter-widgets/controls"
          }
        },
        "a0536517b8f64b6b813b11f44fceee27": {
          "model_module": "@jupyter-widgets/base",
          "model_name": "LayoutModel",
          "model_module_version": "1.2.0",
          "state": {
            "_view_name": "LayoutView",
            "grid_template_rows": null,
            "right": null,
            "justify_content": null,
            "_view_module": "@jupyter-widgets/base",
            "overflow": null,
            "_model_module_version": "1.2.0",
            "_view_count": null,
            "flex_flow": null,
            "width": null,
            "min_width": null,
            "border": null,
            "align_items": null,
            "bottom": null,
            "_model_module": "@jupyter-widgets/base",
            "top": null,
            "grid_column": null,
            "overflow_y": null,
            "overflow_x": null,
            "grid_auto_flow": null,
            "grid_area": null,
            "grid_template_columns": null,
            "flex": null,
            "_model_name": "LayoutModel",
            "justify_items": null,
            "grid_row": null,
            "max_height": null,
            "align_content": null,
            "visibility": null,
            "align_self": null,
            "height": null,
            "min_height": null,
            "padding": null,
            "grid_auto_rows": null,
            "grid_gap": null,
            "max_width": null,
            "order": null,
            "_view_module_version": "1.2.0",
            "grid_template_areas": null,
            "object_position": null,
            "object_fit": null,
            "grid_auto_columns": null,
            "margin": null,
            "display": null,
            "left": null
          }
        },
        "0480b6f64e5d410e88c4ff029e0d22aa": {
          "model_module": "@jupyter-widgets/controls",
          "model_name": "HBoxModel",
          "model_module_version": "1.5.0",
          "state": {
            "_view_name": "HBoxView",
            "_dom_classes": [],
            "_model_name": "HBoxModel",
            "_view_module": "@jupyter-widgets/controls",
            "_model_module_version": "1.5.0",
            "_view_count": null,
            "_view_module_version": "1.5.0",
            "box_style": "",
            "layout": "IPY_MODEL_abf2afcf26c64ddb8e2114d461adf439",
            "_model_module": "@jupyter-widgets/controls",
            "children": [
              "IPY_MODEL_84e2c0039d704371aadd22d32c88af42",
              "IPY_MODEL_9a5636b48a264cd088f1d919217ad1a1",
              "IPY_MODEL_3655ca8c64e3498fb69d3a6768db102e"
            ]
          }
        },
        "abf2afcf26c64ddb8e2114d461adf439": {
          "model_module": "@jupyter-widgets/base",
          "model_name": "LayoutModel",
          "model_module_version": "1.2.0",
          "state": {
            "_view_name": "LayoutView",
            "grid_template_rows": null,
            "right": null,
            "justify_content": null,
            "_view_module": "@jupyter-widgets/base",
            "overflow": null,
            "_model_module_version": "1.2.0",
            "_view_count": null,
            "flex_flow": null,
            "width": null,
            "min_width": null,
            "border": null,
            "align_items": null,
            "bottom": null,
            "_model_module": "@jupyter-widgets/base",
            "top": null,
            "grid_column": null,
            "overflow_y": null,
            "overflow_x": null,
            "grid_auto_flow": null,
            "grid_area": null,
            "grid_template_columns": null,
            "flex": null,
            "_model_name": "LayoutModel",
            "justify_items": null,
            "grid_row": null,
            "max_height": null,
            "align_content": null,
            "visibility": null,
            "align_self": null,
            "height": null,
            "min_height": null,
            "padding": null,
            "grid_auto_rows": null,
            "grid_gap": null,
            "max_width": null,
            "order": null,
            "_view_module_version": "1.2.0",
            "grid_template_areas": null,
            "object_position": null,
            "object_fit": null,
            "grid_auto_columns": null,
            "margin": null,
            "display": null,
            "left": null
          }
        },
        "84e2c0039d704371aadd22d32c88af42": {
          "model_module": "@jupyter-widgets/controls",
          "model_name": "HTMLModel",
          "model_module_version": "1.5.0",
          "state": {
            "_view_name": "HTMLView",
            "style": "IPY_MODEL_f8b59904f0af45a0830cd7d737548892",
            "_dom_classes": [],
            "description": "",
            "_model_name": "HTMLModel",
            "placeholder": "​",
            "_view_module": "@jupyter-widgets/controls",
            "_model_module_version": "1.5.0",
            "value": "100%",
            "_view_count": null,
            "_view_module_version": "1.5.0",
            "description_tooltip": null,
            "_model_module": "@jupyter-widgets/controls",
            "layout": "IPY_MODEL_b652370f47b74407aa2472e717f12c0c"
          }
        },
        "9a5636b48a264cd088f1d919217ad1a1": {
          "model_module": "@jupyter-widgets/controls",
          "model_name": "FloatProgressModel",
          "model_module_version": "1.5.0",
          "state": {
            "_view_name": "ProgressView",
            "style": "IPY_MODEL_a7e48a0a6bfa47f2b606078642c621db",
            "_dom_classes": [],
            "description": "",
            "_model_name": "FloatProgressModel",
            "bar_style": "success",
            "max": 1,
            "_view_module": "@jupyter-widgets/controls",
            "_model_module_version": "1.5.0",
            "value": 1,
            "_view_count": null,
            "_view_module_version": "1.5.0",
            "orientation": "horizontal",
            "min": 0,
            "description_tooltip": null,
            "_model_module": "@jupyter-widgets/controls",
            "layout": "IPY_MODEL_fc4de82920aa43888e18888e7c6056d7"
          }
        },
        "3655ca8c64e3498fb69d3a6768db102e": {
          "model_module": "@jupyter-widgets/controls",
          "model_name": "HTMLModel",
          "model_module_version": "1.5.0",
          "state": {
            "_view_name": "HTMLView",
            "style": "IPY_MODEL_c839cfb9f476406b99edf71f8fc21e6d",
            "_dom_classes": [],
            "description": "",
            "_model_name": "HTMLModel",
            "placeholder": "​",
            "_view_module": "@jupyter-widgets/controls",
            "_model_module_version": "1.5.0",
            "value": " 1/1 [00:00&lt;00:00,  6.67ba/s]",
            "_view_count": null,
            "_view_module_version": "1.5.0",
            "description_tooltip": null,
            "_model_module": "@jupyter-widgets/controls",
            "layout": "IPY_MODEL_94af3d5bfe0541c5ad374ed0ff9da744"
          }
        },
        "f8b59904f0af45a0830cd7d737548892": {
          "model_module": "@jupyter-widgets/controls",
          "model_name": "DescriptionStyleModel",
          "model_module_version": "1.5.0",
          "state": {
            "_view_name": "StyleView",
            "_model_name": "DescriptionStyleModel",
            "description_width": "",
            "_view_module": "@jupyter-widgets/base",
            "_model_module_version": "1.5.0",
            "_view_count": null,
            "_view_module_version": "1.2.0",
            "_model_module": "@jupyter-widgets/controls"
          }
        },
        "b652370f47b74407aa2472e717f12c0c": {
          "model_module": "@jupyter-widgets/base",
          "model_name": "LayoutModel",
          "model_module_version": "1.2.0",
          "state": {
            "_view_name": "LayoutView",
            "grid_template_rows": null,
            "right": null,
            "justify_content": null,
            "_view_module": "@jupyter-widgets/base",
            "overflow": null,
            "_model_module_version": "1.2.0",
            "_view_count": null,
            "flex_flow": null,
            "width": null,
            "min_width": null,
            "border": null,
            "align_items": null,
            "bottom": null,
            "_model_module": "@jupyter-widgets/base",
            "top": null,
            "grid_column": null,
            "overflow_y": null,
            "overflow_x": null,
            "grid_auto_flow": null,
            "grid_area": null,
            "grid_template_columns": null,
            "flex": null,
            "_model_name": "LayoutModel",
            "justify_items": null,
            "grid_row": null,
            "max_height": null,
            "align_content": null,
            "visibility": null,
            "align_self": null,
            "height": null,
            "min_height": null,
            "padding": null,
            "grid_auto_rows": null,
            "grid_gap": null,
            "max_width": null,
            "order": null,
            "_view_module_version": "1.2.0",
            "grid_template_areas": null,
            "object_position": null,
            "object_fit": null,
            "grid_auto_columns": null,
            "margin": null,
            "display": null,
            "left": null
          }
        },
        "a7e48a0a6bfa47f2b606078642c621db": {
          "model_module": "@jupyter-widgets/controls",
          "model_name": "ProgressStyleModel",
          "model_module_version": "1.5.0",
          "state": {
            "_view_name": "StyleView",
            "_model_name": "ProgressStyleModel",
            "description_width": "",
            "_view_module": "@jupyter-widgets/base",
            "_model_module_version": "1.5.0",
            "_view_count": null,
            "_view_module_version": "1.2.0",
            "bar_color": null,
            "_model_module": "@jupyter-widgets/controls"
          }
        },
        "fc4de82920aa43888e18888e7c6056d7": {
          "model_module": "@jupyter-widgets/base",
          "model_name": "LayoutModel",
          "model_module_version": "1.2.0",
          "state": {
            "_view_name": "LayoutView",
            "grid_template_rows": null,
            "right": null,
            "justify_content": null,
            "_view_module": "@jupyter-widgets/base",
            "overflow": null,
            "_model_module_version": "1.2.0",
            "_view_count": null,
            "flex_flow": null,
            "width": null,
            "min_width": null,
            "border": null,
            "align_items": null,
            "bottom": null,
            "_model_module": "@jupyter-widgets/base",
            "top": null,
            "grid_column": null,
            "overflow_y": null,
            "overflow_x": null,
            "grid_auto_flow": null,
            "grid_area": null,
            "grid_template_columns": null,
            "flex": null,
            "_model_name": "LayoutModel",
            "justify_items": null,
            "grid_row": null,
            "max_height": null,
            "align_content": null,
            "visibility": null,
            "align_self": null,
            "height": null,
            "min_height": null,
            "padding": null,
            "grid_auto_rows": null,
            "grid_gap": null,
            "max_width": null,
            "order": null,
            "_view_module_version": "1.2.0",
            "grid_template_areas": null,
            "object_position": null,
            "object_fit": null,
            "grid_auto_columns": null,
            "margin": null,
            "display": null,
            "left": null
          }
        },
        "c839cfb9f476406b99edf71f8fc21e6d": {
          "model_module": "@jupyter-widgets/controls",
          "model_name": "DescriptionStyleModel",
          "model_module_version": "1.5.0",
          "state": {
            "_view_name": "StyleView",
            "_model_name": "DescriptionStyleModel",
            "description_width": "",
            "_view_module": "@jupyter-widgets/base",
            "_model_module_version": "1.5.0",
            "_view_count": null,
            "_view_module_version": "1.2.0",
            "_model_module": "@jupyter-widgets/controls"
          }
        },
        "94af3d5bfe0541c5ad374ed0ff9da744": {
          "model_module": "@jupyter-widgets/base",
          "model_name": "LayoutModel",
          "model_module_version": "1.2.0",
          "state": {
            "_view_name": "LayoutView",
            "grid_template_rows": null,
            "right": null,
            "justify_content": null,
            "_view_module": "@jupyter-widgets/base",
            "overflow": null,
            "_model_module_version": "1.2.0",
            "_view_count": null,
            "flex_flow": null,
            "width": null,
            "min_width": null,
            "border": null,
            "align_items": null,
            "bottom": null,
            "_model_module": "@jupyter-widgets/base",
            "top": null,
            "grid_column": null,
            "overflow_y": null,
            "overflow_x": null,
            "grid_auto_flow": null,
            "grid_area": null,
            "grid_template_columns": null,
            "flex": null,
            "_model_name": "LayoutModel",
            "justify_items": null,
            "grid_row": null,
            "max_height": null,
            "align_content": null,
            "visibility": null,
            "align_self": null,
            "height": null,
            "min_height": null,
            "padding": null,
            "grid_auto_rows": null,
            "grid_gap": null,
            "max_width": null,
            "order": null,
            "_view_module_version": "1.2.0",
            "grid_template_areas": null,
            "object_position": null,
            "object_fit": null,
            "grid_auto_columns": null,
            "margin": null,
            "display": null,
            "left": null
          }
        },
        "17964030065940c4883fbca756ef76d3": {
          "model_module": "@jupyter-widgets/controls",
          "model_name": "HBoxModel",
          "model_module_version": "1.5.0",
          "state": {
            "_view_name": "HBoxView",
            "_dom_classes": [],
            "_model_name": "HBoxModel",
            "_view_module": "@jupyter-widgets/controls",
            "_model_module_version": "1.5.0",
            "_view_count": null,
            "_view_module_version": "1.5.0",
            "box_style": "",
            "layout": "IPY_MODEL_e99f45ce0bfc424bb8572b5ae2600be4",
            "_model_module": "@jupyter-widgets/controls",
            "children": [
              "IPY_MODEL_ee24b8c6007f457e95203d9cb6d24cf3",
              "IPY_MODEL_5924d604e3d94175b532f5d56c2fdede",
              "IPY_MODEL_73cbdfd56fcd4240be115a2bd29993ff"
            ]
          }
        },
        "e99f45ce0bfc424bb8572b5ae2600be4": {
          "model_module": "@jupyter-widgets/base",
          "model_name": "LayoutModel",
          "model_module_version": "1.2.0",
          "state": {
            "_view_name": "LayoutView",
            "grid_template_rows": null,
            "right": null,
            "justify_content": null,
            "_view_module": "@jupyter-widgets/base",
            "overflow": null,
            "_model_module_version": "1.2.0",
            "_view_count": null,
            "flex_flow": null,
            "width": null,
            "min_width": null,
            "border": null,
            "align_items": null,
            "bottom": null,
            "_model_module": "@jupyter-widgets/base",
            "top": null,
            "grid_column": null,
            "overflow_y": null,
            "overflow_x": null,
            "grid_auto_flow": null,
            "grid_area": null,
            "grid_template_columns": null,
            "flex": null,
            "_model_name": "LayoutModel",
            "justify_items": null,
            "grid_row": null,
            "max_height": null,
            "align_content": null,
            "visibility": null,
            "align_self": null,
            "height": null,
            "min_height": null,
            "padding": null,
            "grid_auto_rows": null,
            "grid_gap": null,
            "max_width": null,
            "order": null,
            "_view_module_version": "1.2.0",
            "grid_template_areas": null,
            "object_position": null,
            "object_fit": null,
            "grid_auto_columns": null,
            "margin": null,
            "display": null,
            "left": null
          }
        },
        "ee24b8c6007f457e95203d9cb6d24cf3": {
          "model_module": "@jupyter-widgets/controls",
          "model_name": "HTMLModel",
          "model_module_version": "1.5.0",
          "state": {
            "_view_name": "HTMLView",
            "style": "IPY_MODEL_57b9cadf173345509cf2f1206a8505fb",
            "_dom_classes": [],
            "description": "",
            "_model_name": "HTMLModel",
            "placeholder": "​",
            "_view_module": "@jupyter-widgets/controls",
            "_model_module_version": "1.5.0",
            "value": "Downloading: 100%",
            "_view_count": null,
            "_view_module_version": "1.5.0",
            "description_tooltip": null,
            "_model_module": "@jupyter-widgets/controls",
            "layout": "IPY_MODEL_9770397b59b14234b6d41ac1d77b1c6b"
          }
        },
        "5924d604e3d94175b532f5d56c2fdede": {
          "model_module": "@jupyter-widgets/controls",
          "model_name": "FloatProgressModel",
          "model_module_version": "1.5.0",
          "state": {
            "_view_name": "ProgressView",
            "style": "IPY_MODEL_b48dd4fe9f664f508cd2deba058b34b6",
            "_dom_classes": [],
            "description": "",
            "_model_name": "FloatProgressModel",
            "bar_style": "success",
            "max": 440473133,
            "_view_module": "@jupyter-widgets/controls",
            "_model_module_version": "1.5.0",
            "value": 440473133,
            "_view_count": null,
            "_view_module_version": "1.5.0",
            "orientation": "horizontal",
            "min": 0,
            "description_tooltip": null,
            "_model_module": "@jupyter-widgets/controls",
            "layout": "IPY_MODEL_b3951c528b434e39a229b6c23cbf9535"
          }
        },
        "73cbdfd56fcd4240be115a2bd29993ff": {
          "model_module": "@jupyter-widgets/controls",
          "model_name": "HTMLModel",
          "model_module_version": "1.5.0",
          "state": {
            "_view_name": "HTMLView",
            "style": "IPY_MODEL_8c3e37ded16346559cd31c0a0565f602",
            "_dom_classes": [],
            "description": "",
            "_model_name": "HTMLModel",
            "placeholder": "​",
            "_view_module": "@jupyter-widgets/controls",
            "_model_module_version": "1.5.0",
            "value": " 420M/420M [00:08&lt;00:00, 56.3MB/s]",
            "_view_count": null,
            "_view_module_version": "1.5.0",
            "description_tooltip": null,
            "_model_module": "@jupyter-widgets/controls",
            "layout": "IPY_MODEL_f898a8fa6e3a4252816f39b9dade28fd"
          }
        },
        "57b9cadf173345509cf2f1206a8505fb": {
          "model_module": "@jupyter-widgets/controls",
          "model_name": "DescriptionStyleModel",
          "model_module_version": "1.5.0",
          "state": {
            "_view_name": "StyleView",
            "_model_name": "DescriptionStyleModel",
            "description_width": "",
            "_view_module": "@jupyter-widgets/base",
            "_model_module_version": "1.5.0",
            "_view_count": null,
            "_view_module_version": "1.2.0",
            "_model_module": "@jupyter-widgets/controls"
          }
        },
        "9770397b59b14234b6d41ac1d77b1c6b": {
          "model_module": "@jupyter-widgets/base",
          "model_name": "LayoutModel",
          "model_module_version": "1.2.0",
          "state": {
            "_view_name": "LayoutView",
            "grid_template_rows": null,
            "right": null,
            "justify_content": null,
            "_view_module": "@jupyter-widgets/base",
            "overflow": null,
            "_model_module_version": "1.2.0",
            "_view_count": null,
            "flex_flow": null,
            "width": null,
            "min_width": null,
            "border": null,
            "align_items": null,
            "bottom": null,
            "_model_module": "@jupyter-widgets/base",
            "top": null,
            "grid_column": null,
            "overflow_y": null,
            "overflow_x": null,
            "grid_auto_flow": null,
            "grid_area": null,
            "grid_template_columns": null,
            "flex": null,
            "_model_name": "LayoutModel",
            "justify_items": null,
            "grid_row": null,
            "max_height": null,
            "align_content": null,
            "visibility": null,
            "align_self": null,
            "height": null,
            "min_height": null,
            "padding": null,
            "grid_auto_rows": null,
            "grid_gap": null,
            "max_width": null,
            "order": null,
            "_view_module_version": "1.2.0",
            "grid_template_areas": null,
            "object_position": null,
            "object_fit": null,
            "grid_auto_columns": null,
            "margin": null,
            "display": null,
            "left": null
          }
        },
        "b48dd4fe9f664f508cd2deba058b34b6": {
          "model_module": "@jupyter-widgets/controls",
          "model_name": "ProgressStyleModel",
          "model_module_version": "1.5.0",
          "state": {
            "_view_name": "StyleView",
            "_model_name": "ProgressStyleModel",
            "description_width": "",
            "_view_module": "@jupyter-widgets/base",
            "_model_module_version": "1.5.0",
            "_view_count": null,
            "_view_module_version": "1.2.0",
            "bar_color": null,
            "_model_module": "@jupyter-widgets/controls"
          }
        },
        "b3951c528b434e39a229b6c23cbf9535": {
          "model_module": "@jupyter-widgets/base",
          "model_name": "LayoutModel",
          "model_module_version": "1.2.0",
          "state": {
            "_view_name": "LayoutView",
            "grid_template_rows": null,
            "right": null,
            "justify_content": null,
            "_view_module": "@jupyter-widgets/base",
            "overflow": null,
            "_model_module_version": "1.2.0",
            "_view_count": null,
            "flex_flow": null,
            "width": null,
            "min_width": null,
            "border": null,
            "align_items": null,
            "bottom": null,
            "_model_module": "@jupyter-widgets/base",
            "top": null,
            "grid_column": null,
            "overflow_y": null,
            "overflow_x": null,
            "grid_auto_flow": null,
            "grid_area": null,
            "grid_template_columns": null,
            "flex": null,
            "_model_name": "LayoutModel",
            "justify_items": null,
            "grid_row": null,
            "max_height": null,
            "align_content": null,
            "visibility": null,
            "align_self": null,
            "height": null,
            "min_height": null,
            "padding": null,
            "grid_auto_rows": null,
            "grid_gap": null,
            "max_width": null,
            "order": null,
            "_view_module_version": "1.2.0",
            "grid_template_areas": null,
            "object_position": null,
            "object_fit": null,
            "grid_auto_columns": null,
            "margin": null,
            "display": null,
            "left": null
          }
        },
        "8c3e37ded16346559cd31c0a0565f602": {
          "model_module": "@jupyter-widgets/controls",
          "model_name": "DescriptionStyleModel",
          "model_module_version": "1.5.0",
          "state": {
            "_view_name": "StyleView",
            "_model_name": "DescriptionStyleModel",
            "description_width": "",
            "_view_module": "@jupyter-widgets/base",
            "_model_module_version": "1.5.0",
            "_view_count": null,
            "_view_module_version": "1.2.0",
            "_model_module": "@jupyter-widgets/controls"
          }
        },
        "f898a8fa6e3a4252816f39b9dade28fd": {
          "model_module": "@jupyter-widgets/base",
          "model_name": "LayoutModel",
          "model_module_version": "1.2.0",
          "state": {
            "_view_name": "LayoutView",
            "grid_template_rows": null,
            "right": null,
            "justify_content": null,
            "_view_module": "@jupyter-widgets/base",
            "overflow": null,
            "_model_module_version": "1.2.0",
            "_view_count": null,
            "flex_flow": null,
            "width": null,
            "min_width": null,
            "border": null,
            "align_items": null,
            "bottom": null,
            "_model_module": "@jupyter-widgets/base",
            "top": null,
            "grid_column": null,
            "overflow_y": null,
            "overflow_x": null,
            "grid_auto_flow": null,
            "grid_area": null,
            "grid_template_columns": null,
            "flex": null,
            "_model_name": "LayoutModel",
            "justify_items": null,
            "grid_row": null,
            "max_height": null,
            "align_content": null,
            "visibility": null,
            "align_self": null,
            "height": null,
            "min_height": null,
            "padding": null,
            "grid_auto_rows": null,
            "grid_gap": null,
            "max_width": null,
            "order": null,
            "_view_module_version": "1.2.0",
            "grid_template_areas": null,
            "object_position": null,
            "object_fit": null,
            "grid_auto_columns": null,
            "margin": null,
            "display": null,
            "left": null
          }
        }
      }
    }
  },
  "cells": [
    {
      "cell_type": "markdown",
      "metadata": {
        "id": "view-in-github",
        "colab_type": "text"
      },
      "source": [
        "<a href=\"https://colab.research.google.com/github/ipietri/w266_Final_Project/blob/master/notebooks/RtGender-Notebooks/RtGender_Annotations_Sentiment_Easy_Data_Augmentation_Techniques.ipynb\" target=\"_parent\"><img src=\"https://colab.research.google.com/assets/colab-badge.svg\" alt=\"Open In Colab\"/></a>"
      ]
    },
    {
      "cell_type": "markdown",
      "metadata": {
        "id": "8OhO4xlwqExT"
      },
      "source": [
        "# RtGender - Annotations - Sentiment w/ Easy Data Augmentation Techniques\n",
        "With oversampled data\\\n",
        "[Source](https://github.com/jasonwei20/eda_nlp)\n",
        "\n",
        "[Paper that explores these techniques](https://arxiv.org/abs/1901.11196)\n"
      ]
    },
    {
      "cell_type": "code",
      "metadata": {
        "id": "cirVs78YksXS",
        "colab": {
          "base_uri": "https://localhost:8080/"
        },
        "outputId": "52fb6b5e-3b26-4247-ca90-7880cff761df"
      },
      "source": [
        "try:\n",
        "  from google.colab import drive\n",
        "  drive.mount('/content/drive', force_remount=True)\n",
        "  path = r'/content/drive/MyDrive/w266'\n",
        "except ModuleNotFoundError:\n",
        "  path = r'data'"
      ],
      "execution_count": 1,
      "outputs": [
        {
          "output_type": "stream",
          "name": "stdout",
          "text": [
            "Mounted at /content/drive\n"
          ]
        }
      ]
    },
    {
      "cell_type": "markdown",
      "metadata": {
        "id": "N7PAJ1oIJZfY"
      },
      "source": [
        "<a id='section01'></a>\n",
        "## Load Modules"
      ]
    },
    {
      "cell_type": "code",
      "metadata": {
        "colab": {
          "base_uri": "https://localhost:8080/"
        },
        "id": "p--X9MlxQP05",
        "outputId": "9c1fbeb5-fd67-4ba4-8b64-d5210a8670e2"
      },
      "source": [
        "!pip install -U nltk\n",
        "import nltk; nltk.download('wordnet')"
      ],
      "execution_count": 2,
      "outputs": [
        {
          "output_type": "stream",
          "name": "stdout",
          "text": [
            "Requirement already satisfied: nltk in /usr/local/lib/python3.7/dist-packages (3.2.5)\n",
            "Collecting nltk\n",
            "  Downloading nltk-3.6.5-py3-none-any.whl (1.5 MB)\n",
            "\u001b[?25l\r\u001b[K     |▎                               | 10 kB 37.3 MB/s eta 0:00:01\r\u001b[K     |▌                               | 20 kB 41.6 MB/s eta 0:00:01\r\u001b[K     |▊                               | 30 kB 43.9 MB/s eta 0:00:01\r\u001b[K     |█                               | 40 kB 25.4 MB/s eta 0:00:01\r\u001b[K     |█▏                              | 51 kB 17.5 MB/s eta 0:00:01\r\u001b[K     |█▍                              | 61 kB 18.9 MB/s eta 0:00:01\r\u001b[K     |█▋                              | 71 kB 16.9 MB/s eta 0:00:01\r\u001b[K     |█▉                              | 81 kB 18.7 MB/s eta 0:00:01\r\u001b[K     |██                              | 92 kB 14.3 MB/s eta 0:00:01\r\u001b[K     |██▎                             | 102 kB 15.5 MB/s eta 0:00:01\r\u001b[K     |██▌                             | 112 kB 15.5 MB/s eta 0:00:01\r\u001b[K     |██▊                             | 122 kB 15.5 MB/s eta 0:00:01\r\u001b[K     |███                             | 133 kB 15.5 MB/s eta 0:00:01\r\u001b[K     |███▏                            | 143 kB 15.5 MB/s eta 0:00:01\r\u001b[K     |███▍                            | 153 kB 15.5 MB/s eta 0:00:01\r\u001b[K     |███▋                            | 163 kB 15.5 MB/s eta 0:00:01\r\u001b[K     |███▉                            | 174 kB 15.5 MB/s eta 0:00:01\r\u001b[K     |████                            | 184 kB 15.5 MB/s eta 0:00:01\r\u001b[K     |████▎                           | 194 kB 15.5 MB/s eta 0:00:01\r\u001b[K     |████▌                           | 204 kB 15.5 MB/s eta 0:00:01\r\u001b[K     |████▊                           | 215 kB 15.5 MB/s eta 0:00:01\r\u001b[K     |█████                           | 225 kB 15.5 MB/s eta 0:00:01\r\u001b[K     |█████▏                          | 235 kB 15.5 MB/s eta 0:00:01\r\u001b[K     |█████▍                          | 245 kB 15.5 MB/s eta 0:00:01\r\u001b[K     |█████▋                          | 256 kB 15.5 MB/s eta 0:00:01\r\u001b[K     |█████▉                          | 266 kB 15.5 MB/s eta 0:00:01\r\u001b[K     |██████                          | 276 kB 15.5 MB/s eta 0:00:01\r\u001b[K     |██████▎                         | 286 kB 15.5 MB/s eta 0:00:01\r\u001b[K     |██████▌                         | 296 kB 15.5 MB/s eta 0:00:01\r\u001b[K     |██████▊                         | 307 kB 15.5 MB/s eta 0:00:01\r\u001b[K     |███████                         | 317 kB 15.5 MB/s eta 0:00:01\r\u001b[K     |███████▏                        | 327 kB 15.5 MB/s eta 0:00:01\r\u001b[K     |███████▍                        | 337 kB 15.5 MB/s eta 0:00:01\r\u001b[K     |███████▋                        | 348 kB 15.5 MB/s eta 0:00:01\r\u001b[K     |███████▉                        | 358 kB 15.5 MB/s eta 0:00:01\r\u001b[K     |████████                        | 368 kB 15.5 MB/s eta 0:00:01\r\u001b[K     |████████▎                       | 378 kB 15.5 MB/s eta 0:00:01\r\u001b[K     |████████▌                       | 389 kB 15.5 MB/s eta 0:00:01\r\u001b[K     |████████▊                       | 399 kB 15.5 MB/s eta 0:00:01\r\u001b[K     |█████████                       | 409 kB 15.5 MB/s eta 0:00:01\r\u001b[K     |█████████▎                      | 419 kB 15.5 MB/s eta 0:00:01\r\u001b[K     |█████████▌                      | 430 kB 15.5 MB/s eta 0:00:01\r\u001b[K     |█████████▊                      | 440 kB 15.5 MB/s eta 0:00:01\r\u001b[K     |██████████                      | 450 kB 15.5 MB/s eta 0:00:01\r\u001b[K     |██████████▏                     | 460 kB 15.5 MB/s eta 0:00:01\r\u001b[K     |██████████▍                     | 471 kB 15.5 MB/s eta 0:00:01\r\u001b[K     |██████████▋                     | 481 kB 15.5 MB/s eta 0:00:01\r\u001b[K     |██████████▉                     | 491 kB 15.5 MB/s eta 0:00:01\r\u001b[K     |███████████                     | 501 kB 15.5 MB/s eta 0:00:01\r\u001b[K     |███████████▎                    | 512 kB 15.5 MB/s eta 0:00:01\r\u001b[K     |███████████▌                    | 522 kB 15.5 MB/s eta 0:00:01\r\u001b[K     |███████████▊                    | 532 kB 15.5 MB/s eta 0:00:01\r\u001b[K     |████████████                    | 542 kB 15.5 MB/s eta 0:00:01\r\u001b[K     |████████████▏                   | 552 kB 15.5 MB/s eta 0:00:01\r\u001b[K     |████████████▍                   | 563 kB 15.5 MB/s eta 0:00:01\r\u001b[K     |████████████▋                   | 573 kB 15.5 MB/s eta 0:00:01\r\u001b[K     |████████████▉                   | 583 kB 15.5 MB/s eta 0:00:01\r\u001b[K     |█████████████                   | 593 kB 15.5 MB/s eta 0:00:01\r\u001b[K     |█████████████▎                  | 604 kB 15.5 MB/s eta 0:00:01\r\u001b[K     |█████████████▌                  | 614 kB 15.5 MB/s eta 0:00:01\r\u001b[K     |█████████████▊                  | 624 kB 15.5 MB/s eta 0:00:01\r\u001b[K     |██████████████                  | 634 kB 15.5 MB/s eta 0:00:01\r\u001b[K     |██████████████▏                 | 645 kB 15.5 MB/s eta 0:00:01\r\u001b[K     |██████████████▍                 | 655 kB 15.5 MB/s eta 0:00:01\r\u001b[K     |██████████████▋                 | 665 kB 15.5 MB/s eta 0:00:01\r\u001b[K     |██████████████▉                 | 675 kB 15.5 MB/s eta 0:00:01\r\u001b[K     |███████████████                 | 686 kB 15.5 MB/s eta 0:00:01\r\u001b[K     |███████████████▎                | 696 kB 15.5 MB/s eta 0:00:01\r\u001b[K     |███████████████▌                | 706 kB 15.5 MB/s eta 0:00:01\r\u001b[K     |███████████████▊                | 716 kB 15.5 MB/s eta 0:00:01\r\u001b[K     |████████████████                | 727 kB 15.5 MB/s eta 0:00:01\r\u001b[K     |████████████████▏               | 737 kB 15.5 MB/s eta 0:00:01\r\u001b[K     |████████████████▍               | 747 kB 15.5 MB/s eta 0:00:01\r\u001b[K     |████████████████▋               | 757 kB 15.5 MB/s eta 0:00:01\r\u001b[K     |████████████████▉               | 768 kB 15.5 MB/s eta 0:00:01\r\u001b[K     |█████████████████               | 778 kB 15.5 MB/s eta 0:00:01\r\u001b[K     |█████████████████▎              | 788 kB 15.5 MB/s eta 0:00:01\r\u001b[K     |█████████████████▌              | 798 kB 15.5 MB/s eta 0:00:01\r\u001b[K     |█████████████████▊              | 808 kB 15.5 MB/s eta 0:00:01\r\u001b[K     |██████████████████              | 819 kB 15.5 MB/s eta 0:00:01\r\u001b[K     |██████████████████▏             | 829 kB 15.5 MB/s eta 0:00:01\r\u001b[K     |██████████████████▌             | 839 kB 15.5 MB/s eta 0:00:01\r\u001b[K     |██████████████████▊             | 849 kB 15.5 MB/s eta 0:00:01\r\u001b[K     |███████████████████             | 860 kB 15.5 MB/s eta 0:00:01\r\u001b[K     |███████████████████▏            | 870 kB 15.5 MB/s eta 0:00:01\r\u001b[K     |███████████████████▍            | 880 kB 15.5 MB/s eta 0:00:01\r\u001b[K     |███████████████████▋            | 890 kB 15.5 MB/s eta 0:00:01\r\u001b[K     |███████████████████▉            | 901 kB 15.5 MB/s eta 0:00:01\r\u001b[K     |████████████████████            | 911 kB 15.5 MB/s eta 0:00:01\r\u001b[K     |████████████████████▎           | 921 kB 15.5 MB/s eta 0:00:01\r\u001b[K     |████████████████████▌           | 931 kB 15.5 MB/s eta 0:00:01\r\u001b[K     |████████████████████▊           | 942 kB 15.5 MB/s eta 0:00:01\r\u001b[K     |█████████████████████           | 952 kB 15.5 MB/s eta 0:00:01\r\u001b[K     |█████████████████████▏          | 962 kB 15.5 MB/s eta 0:00:01\r\u001b[K     |█████████████████████▍          | 972 kB 15.5 MB/s eta 0:00:01\r\u001b[K     |█████████████████████▋          | 983 kB 15.5 MB/s eta 0:00:01\r\u001b[K     |█████████████████████▉          | 993 kB 15.5 MB/s eta 0:00:01\r\u001b[K     |██████████████████████          | 1.0 MB 15.5 MB/s eta 0:00:01\r\u001b[K     |██████████████████████▎         | 1.0 MB 15.5 MB/s eta 0:00:01\r\u001b[K     |██████████████████████▌         | 1.0 MB 15.5 MB/s eta 0:00:01\r\u001b[K     |██████████████████████▊         | 1.0 MB 15.5 MB/s eta 0:00:01\r\u001b[K     |███████████████████████         | 1.0 MB 15.5 MB/s eta 0:00:01\r\u001b[K     |███████████████████████▏        | 1.1 MB 15.5 MB/s eta 0:00:01\r\u001b[K     |███████████████████████▍        | 1.1 MB 15.5 MB/s eta 0:00:01\r\u001b[K     |███████████████████████▋        | 1.1 MB 15.5 MB/s eta 0:00:01\r\u001b[K     |███████████████████████▉        | 1.1 MB 15.5 MB/s eta 0:00:01\r\u001b[K     |████████████████████████        | 1.1 MB 15.5 MB/s eta 0:00:01\r\u001b[K     |████████████████████████▎       | 1.1 MB 15.5 MB/s eta 0:00:01\r\u001b[K     |████████████████████████▌       | 1.1 MB 15.5 MB/s eta 0:00:01\r\u001b[K     |████████████████████████▊       | 1.1 MB 15.5 MB/s eta 0:00:01\r\u001b[K     |█████████████████████████       | 1.1 MB 15.5 MB/s eta 0:00:01\r\u001b[K     |█████████████████████████▏      | 1.1 MB 15.5 MB/s eta 0:00:01\r\u001b[K     |█████████████████████████▍      | 1.2 MB 15.5 MB/s eta 0:00:01\r\u001b[K     |█████████████████████████▋      | 1.2 MB 15.5 MB/s eta 0:00:01\r\u001b[K     |█████████████████████████▉      | 1.2 MB 15.5 MB/s eta 0:00:01\r\u001b[K     |██████████████████████████      | 1.2 MB 15.5 MB/s eta 0:00:01\r\u001b[K     |██████████████████████████▎     | 1.2 MB 15.5 MB/s eta 0:00:01\r\u001b[K     |██████████████████████████▌     | 1.2 MB 15.5 MB/s eta 0:00:01\r\u001b[K     |██████████████████████████▊     | 1.2 MB 15.5 MB/s eta 0:00:01\r\u001b[K     |███████████████████████████     | 1.2 MB 15.5 MB/s eta 0:00:01\r\u001b[K     |███████████████████████████▏    | 1.2 MB 15.5 MB/s eta 0:00:01\r\u001b[K     |███████████████████████████▍    | 1.2 MB 15.5 MB/s eta 0:00:01\r\u001b[K     |███████████████████████████▊    | 1.3 MB 15.5 MB/s eta 0:00:01\r\u001b[K     |████████████████████████████    | 1.3 MB 15.5 MB/s eta 0:00:01\r\u001b[K     |████████████████████████████▏   | 1.3 MB 15.5 MB/s eta 0:00:01\r\u001b[K     |████████████████████████████▍   | 1.3 MB 15.5 MB/s eta 0:00:01\r\u001b[K     |████████████████████████████▋   | 1.3 MB 15.5 MB/s eta 0:00:01\r\u001b[K     |████████████████████████████▉   | 1.3 MB 15.5 MB/s eta 0:00:01\r\u001b[K     |█████████████████████████████   | 1.3 MB 15.5 MB/s eta 0:00:01\r\u001b[K     |█████████████████████████████▎  | 1.3 MB 15.5 MB/s eta 0:00:01\r\u001b[K     |█████████████████████████████▌  | 1.3 MB 15.5 MB/s eta 0:00:01\r\u001b[K     |█████████████████████████████▊  | 1.4 MB 15.5 MB/s eta 0:00:01\r\u001b[K     |██████████████████████████████  | 1.4 MB 15.5 MB/s eta 0:00:01\r\u001b[K     |██████████████████████████████▏ | 1.4 MB 15.5 MB/s eta 0:00:01\r\u001b[K     |██████████████████████████████▍ | 1.4 MB 15.5 MB/s eta 0:00:01\r\u001b[K     |██████████████████████████████▋ | 1.4 MB 15.5 MB/s eta 0:00:01\r\u001b[K     |██████████████████████████████▉ | 1.4 MB 15.5 MB/s eta 0:00:01\r\u001b[K     |███████████████████████████████ | 1.4 MB 15.5 MB/s eta 0:00:01\r\u001b[K     |███████████████████████████████▎| 1.4 MB 15.5 MB/s eta 0:00:01\r\u001b[K     |███████████████████████████████▌| 1.4 MB 15.5 MB/s eta 0:00:01\r\u001b[K     |███████████████████████████████▊| 1.4 MB 15.5 MB/s eta 0:00:01\r\u001b[K     |████████████████████████████████| 1.5 MB 15.5 MB/s eta 0:00:01\r\u001b[K     |████████████████████████████████| 1.5 MB 15.5 MB/s \n",
            "\u001b[?25hRequirement already satisfied: click in /usr/local/lib/python3.7/dist-packages (from nltk) (7.1.2)\n",
            "Requirement already satisfied: tqdm in /usr/local/lib/python3.7/dist-packages (from nltk) (4.62.3)\n",
            "Requirement already satisfied: joblib in /usr/local/lib/python3.7/dist-packages (from nltk) (1.0.1)\n",
            "Collecting regex>=2021.8.3\n",
            "  Downloading regex-2021.11.2-cp37-cp37m-manylinux_2_17_x86_64.manylinux2014_x86_64.whl (749 kB)\n",
            "\u001b[K     |████████████████████████████████| 749 kB 74.6 MB/s \n",
            "\u001b[?25hInstalling collected packages: regex, nltk\n",
            "  Attempting uninstall: regex\n",
            "    Found existing installation: regex 2019.12.20\n",
            "    Uninstalling regex-2019.12.20:\n",
            "      Successfully uninstalled regex-2019.12.20\n",
            "  Attempting uninstall: nltk\n",
            "    Found existing installation: nltk 3.2.5\n",
            "    Uninstalling nltk-3.2.5:\n",
            "      Successfully uninstalled nltk-3.2.5\n",
            "Successfully installed nltk-3.6.5 regex-2021.11.2\n"
          ]
        },
        {
          "output_type": "stream",
          "name": "stderr",
          "text": [
            "[nltk_data] Downloading package wordnet to /root/nltk_data...\n",
            "[nltk_data]   Unzipping corpora/wordnet.zip.\n"
          ]
        },
        {
          "output_type": "execute_result",
          "data": {
            "text/plain": [
              "True"
            ]
          },
          "metadata": {},
          "execution_count": 2
        }
      ]
    },
    {
      "cell_type": "code",
      "metadata": {
        "id": "a-GlywkSFegL"
      },
      "source": [
        "%%capture\n",
        "#!pip install transformers==3.0.2\n",
        "!pip install -q transformers"
      ],
      "execution_count": 3,
      "outputs": []
    },
    {
      "cell_type": "code",
      "metadata": {
        "id": "7IV4cb3abmJP"
      },
      "source": [
        "%%capture\n",
        "!pip install datasets\n",
        "import datasets \n",
        "from datasets import load_dataset, Dataset, DatasetDict"
      ],
      "execution_count": 4,
      "outputs": []
    },
    {
      "cell_type": "code",
      "metadata": {
        "id": "979OUro5Eac3"
      },
      "source": [
        "# Importing the libraries needed\n",
        "import pandas as pd\n",
        "import numpy as np\n",
        "from sklearn.model_selection import train_test_split\n",
        "\n",
        "from sklearn import metrics\n",
        "import torch\n",
        "import seaborn as sns\n",
        "import transformers\n",
        "import json\n",
        "from tqdm import tqdm\n",
        "#from torch.utils.data import Dataset, DataLoader, RandomSampler, SequentialSampler\n",
        "import logging\n",
        "logging.basicConfig(level=logging.ERROR)"
      ],
      "execution_count": 5,
      "outputs": []
    },
    {
      "cell_type": "code",
      "metadata": {
        "id": "sb1Q5N6LGK7z"
      },
      "source": [
        "# Setting up the device for GPU usage\n",
        "\n",
        "from torch import cuda\n",
        "device = 'cuda' if cuda.is_available() else 'cpu'"
      ],
      "execution_count": 6,
      "outputs": []
    },
    {
      "cell_type": "markdown",
      "metadata": {
        "id": "hErgyoZRHSA3"
      },
      "source": [
        "<a id='section02'></a>\n",
        "## Import and Reshape Data"
      ]
    },
    {
      "cell_type": "code",
      "metadata": {
        "id": "J3FzcAlgEac8",
        "colab": {
          "base_uri": "https://localhost:8080/"
        },
        "outputId": "db317e5c-6e92-465f-ef24-01ec89bfd90d"
      },
      "source": [
        "train_df = pd.read_csv('/content/drive/MyDrive/w266/train_oversampled.csv')\n",
        "dev_df = pd.read_csv('/content/drive/MyDrive/w266/annotations_dev.csv')\n",
        "\n",
        "print('train_shape: ',train_df.shape)\n",
        "print('dev_shape: ',dev_df.shape)"
      ],
      "execution_count": 7,
      "outputs": [
        {
          "output_type": "stream",
          "name": "stdout",
          "text": [
            "train_shape:  (21184, 9)\n",
            "dev_shape:  (2303, 9)\n"
          ]
        }
      ]
    },
    {
      "cell_type": "code",
      "metadata": {
        "colab": {
          "base_uri": "https://localhost:8080/"
        },
        "id": "ntnIM3pjdQ2C",
        "outputId": "2aae77ed-f13c-4d35-d8a4-34f174aabef6"
      },
      "source": [
        "# there are NaNs in the dev dataset remove \n",
        "nan_values = dev_df[dev_df.isna().any(axis=1)] \n",
        "print(nan_values)\n",
        "\n",
        "# return without missing values in response_text\n",
        "dev_df.dropna(subset = [\"response_text\"], inplace=True)\n",
        "\n",
        "print(\"Train shape\", train_df.shape)\n",
        "print(\"Dev shape\", dev_df.shape)"
      ],
      "execution_count": 8,
      "outputs": [
        {
          "output_type": "stream",
          "name": "stdout",
          "text": [
            "      Unnamed: 0         source op_gender  ...   relevance label labels_4\n",
            "830         2576  facebook_wiki         M  ...  Irrelevant     1        1\n",
            "1664        2722  facebook_wiki         W  ...  Irrelevant     1        1\n",
            "\n",
            "[2 rows x 9 columns]\n",
            "Train shape (21184, 9)\n",
            "Dev shape (2301, 9)\n"
          ]
        }
      ]
    },
    {
      "cell_type": "code",
      "metadata": {
        "colab": {
          "base_uri": "https://localhost:8080/"
        },
        "id": "k9BHmHVnbaJm",
        "outputId": "b20626e0-dc6d-490c-d8b2-75e3ce94dc1b"
      },
      "source": [
        "print(\"Unique sentiments: \", train_df['sentiment'].unique())"
      ],
      "execution_count": null,
      "outputs": [
        {
          "output_type": "stream",
          "name": "stdout",
          "text": [
            "Unique sentiments:  ['Positive' 'Mixed' 'Neutral' 'Negative']\n"
          ]
        }
      ]
    },
    {
      "cell_type": "code",
      "metadata": {
        "id": "4rIl4GMGbYVn"
      },
      "source": [
        "# Change Mixed to Neutral\n",
        "# train_df['sentiment'].replace({\"Mixed\":\"Neutral\"}, inplace = True)\n",
        "# dev_df['sentiment'].replace({\"Mixed\":\"Neutral\"}, inplace = True)"
      ],
      "execution_count": null,
      "outputs": []
    },
    {
      "cell_type": "markdown",
      "metadata": {
        "id": "vki-cYpURWf4"
      },
      "source": [
        "# Run through Easy Data Augmentation Techniques package\n",
        "[augment](https://github.com/jasonwei20/eda_nlp/blob/master/code/augment.py)\n"
      ]
    },
    {
      "cell_type": "markdown",
      "metadata": {
        "id": "z0gJDRCbgi-P"
      },
      "source": [
        "#### Import Modules"
      ]
    },
    {
      "cell_type": "code",
      "metadata": {
        "colab": {
          "base_uri": "https://localhost:8080/"
        },
        "id": "VcTXavwcTzGT",
        "outputId": "6871aa6b-9745-484e-b4f6-eebc9ebcb460"
      },
      "source": [
        "# import eda script from github\n",
        "!git clone https://github.com/jasonwei20/eda_nlp"
      ],
      "execution_count": 9,
      "outputs": [
        {
          "output_type": "stream",
          "name": "stdout",
          "text": [
            "Cloning into 'eda_nlp'...\n",
            "remote: Enumerating objects: 396, done.\u001b[K\n",
            "remote: Counting objects: 100% (17/17), done.\u001b[K\n",
            "remote: Compressing objects: 100% (13/13), done.\u001b[K\n",
            "remote: Total 396 (delta 6), reused 8 (delta 4), pack-reused 379\u001b[K\n",
            "Receiving objects: 100% (396/396), 20.42 MiB | 25.22 MiB/s, done.\n",
            "Resolving deltas: 100% (189/189), done.\n"
          ]
        }
      ]
    },
    {
      "cell_type": "code",
      "metadata": {
        "id": "TNy4tEvPXCeE"
      },
      "source": [
        "import sys\n",
        "# sys.path is a list of absolute path strings\n",
        "sys.path.append('/content/eda_nlp/code/')\n",
        "\n",
        "from eda import *"
      ],
      "execution_count": 10,
      "outputs": []
    },
    {
      "cell_type": "markdown",
      "metadata": {
        "id": "foi-kqbQd5tC"
      },
      "source": [
        "\n",
        "#### Random deletion\n",
        "Randomly delete words from the sentence with probability p\n"
      ]
    },
    {
      "cell_type": "code",
      "metadata": {
        "id": "dqzBGZlQwCKt"
      },
      "source": [
        "# apply the main data augmentation function in the eda module\n",
        "\n",
        "augmented_sentences = []\n",
        "\n",
        "for sentence in train_df['response_text']:\n",
        "  words = sentence.split(' ')\n",
        "  a_words = random_deletion(words, 0.1)\n",
        "  augmented_sentences.append(' '.join(a_words))\n"
      ],
      "execution_count": 11,
      "outputs": []
    },
    {
      "cell_type": "markdown",
      "metadata": {
        "id": "cnqhca40_cu2"
      },
      "source": [
        "#### Replace with Synonyms"
      ]
    },
    {
      "cell_type": "code",
      "metadata": {
        "id": "2f3-tRtN_b4c"
      },
      "source": [
        "augmented_sentences_2 = []\n",
        "alpha_sr=0.1\n",
        "\n",
        "if (alpha_sr > 0):\n",
        "  for sentence in augmented_sentences:\n",
        "    words = sentence.split(' ')\n",
        "    num_words = len(sentence)\n",
        "    n_sr = max(1, int(alpha_sr*num_words))\n",
        "    a_words = synonym_replacement(words, n_sr)\n",
        "    augmented_sentences_2.append(' '.join(a_words))"
      ],
      "execution_count": 12,
      "outputs": []
    },
    {
      "cell_type": "code",
      "metadata": {
        "colab": {
          "base_uri": "https://localhost:8080/",
          "height": 0
        },
        "id": "BjqtH_K9Tfny",
        "outputId": "42a97dc2-cf2a-4594-e0e1-05f8f667bd39"
      },
      "source": [
        "# add to train df\n",
        "train_df_aug = train_df\n",
        "train_df_aug['augmented_response_text'] = augmented_sentences_2\n",
        "train_df_aug"
      ],
      "execution_count": 13,
      "outputs": [
        {
          "output_type": "execute_result",
          "data": {
            "text/html": [
              "<div>\n",
              "<style scoped>\n",
              "    .dataframe tbody tr th:only-of-type {\n",
              "        vertical-align: middle;\n",
              "    }\n",
              "\n",
              "    .dataframe tbody tr th {\n",
              "        vertical-align: top;\n",
              "    }\n",
              "\n",
              "    .dataframe thead th {\n",
              "        text-align: right;\n",
              "    }\n",
              "</style>\n",
              "<table border=\"1\" class=\"dataframe\">\n",
              "  <thead>\n",
              "    <tr style=\"text-align: right;\">\n",
              "      <th></th>\n",
              "      <th>Unnamed: 0</th>\n",
              "      <th>source</th>\n",
              "      <th>op_gender</th>\n",
              "      <th>post_text</th>\n",
              "      <th>response_text</th>\n",
              "      <th>sentiment</th>\n",
              "      <th>relevance</th>\n",
              "      <th>label</th>\n",
              "      <th>labels_4</th>\n",
              "      <th>augmented_response_text</th>\n",
              "    </tr>\n",
              "  </thead>\n",
              "  <tbody>\n",
              "    <tr>\n",
              "      <th>0</th>\n",
              "      <td>3845</td>\n",
              "      <td>facebook_congress</td>\n",
              "      <td>W</td>\n",
              "      <td>Im reading the 3/1 GAO report that finds billi...</td>\n",
              "      <td>Thank you Congresswoman Bass. Keep up the grea...</td>\n",
              "      <td>Positive</td>\n",
              "      <td>ContentPoster</td>\n",
              "      <td>2</td>\n",
              "      <td>2</td>\n",
              "      <td>thank you representative Bass. save up the ban...</td>\n",
              "    </tr>\n",
              "    <tr>\n",
              "      <th>1</th>\n",
              "      <td>9743</td>\n",
              "      <td>fitocracy</td>\n",
              "      <td>M</td>\n",
              "      <td>Being followed by the famous DBJ? Quite an honor.</td>\n",
              "      <td>Well, I am very honored you feel so honored</td>\n",
              "      <td>Positive</td>\n",
              "      <td>Content</td>\n",
              "      <td>2</td>\n",
              "      <td>2</td>\n",
              "      <td>I am very you feeling so reward</td>\n",
              "    </tr>\n",
              "    <tr>\n",
              "      <th>2</th>\n",
              "      <td>13041</td>\n",
              "      <td>ted</td>\n",
              "      <td>W</td>\n",
              "      <td>Penelope Boston gave a talk about Planets, exp...</td>\n",
              "      <td>Her opinions seem driven by wishful thinking. ...</td>\n",
              "      <td>Mixed</td>\n",
              "      <td>Content</td>\n",
              "      <td>1</td>\n",
              "      <td>3</td>\n",
              "      <td>Her compulsive by desirous thinking. She there...</td>\n",
              "    </tr>\n",
              "    <tr>\n",
              "      <th>3</th>\n",
              "      <td>4265</td>\n",
              "      <td>facebook_congress</td>\n",
              "      <td>W</td>\n",
              "      <td>Congress must act to help the 41 million Ameri...</td>\n",
              "      <td>There's no other way out of the enormity excep...</td>\n",
              "      <td>Positive</td>\n",
              "      <td>Content</td>\n",
              "      <td>2</td>\n",
              "      <td>2</td>\n",
              "      <td>There's no other way of life out of the outrag...</td>\n",
              "    </tr>\n",
              "    <tr>\n",
              "      <th>4</th>\n",
              "      <td>13145</td>\n",
              "      <td>ted</td>\n",
              "      <td>W</td>\n",
              "      <td>Pardis Sabeti gave a talk about Africa, big pr...</td>\n",
              "      <td>What were the benefits of the larger community...</td>\n",
              "      <td>Mixed</td>\n",
              "      <td>Content</td>\n",
              "      <td>1</td>\n",
              "      <td>3</td>\n",
              "      <td>What were the of the great community? She didn...</td>\n",
              "    </tr>\n",
              "    <tr>\n",
              "      <th>...</th>\n",
              "      <td>...</td>\n",
              "      <td>...</td>\n",
              "      <td>...</td>\n",
              "      <td>...</td>\n",
              "      <td>...</td>\n",
              "      <td>...</td>\n",
              "      <td>...</td>\n",
              "      <td>...</td>\n",
              "      <td>...</td>\n",
              "      <td>...</td>\n",
              "    </tr>\n",
              "    <tr>\n",
              "      <th>21179</th>\n",
              "      <td>6561</td>\n",
              "      <td>facebook_congress</td>\n",
              "      <td>W</td>\n",
              "      <td>It was terrific to have the chance to hear fro...</td>\n",
              "      <td>\"Committed to making sure we don't lose our he...</td>\n",
              "      <td>Negative</td>\n",
              "      <td>Poster</td>\n",
              "      <td>0</td>\n",
              "      <td>0</td>\n",
              "      <td>\"Committed to crap trusted we don't mislay hea...</td>\n",
              "    </tr>\n",
              "    <tr>\n",
              "      <th>21180</th>\n",
              "      <td>3829</td>\n",
              "      <td>facebook_congress</td>\n",
              "      <td>M</td>\n",
              "      <td>Johnny will join Tim Bryant on WGAU 1340 AM (A...</td>\n",
              "      <td>Both Isakson and Chambliss voted to TABLE Rand...</td>\n",
              "      <td>Negative</td>\n",
              "      <td>Poster</td>\n",
              "      <td>0</td>\n",
              "      <td>0</td>\n",
              "      <td>both Isakson and Chambliss vote to tabularize ...</td>\n",
              "    </tr>\n",
              "    <tr>\n",
              "      <th>21181</th>\n",
              "      <td>11700</td>\n",
              "      <td>reddit</td>\n",
              "      <td>W</td>\n",
              "      <td>It wouldnt disintegrate you.</td>\n",
              "      <td>I think a magic beam of pure light would disin...</td>\n",
              "      <td>Negative</td>\n",
              "      <td>Content</td>\n",
              "      <td>0</td>\n",
              "      <td>0</td>\n",
              "      <td>unity a deception balance beam of gross light ...</td>\n",
              "    </tr>\n",
              "    <tr>\n",
              "      <th>21182</th>\n",
              "      <td>5668</td>\n",
              "      <td>facebook_congress</td>\n",
              "      <td>M</td>\n",
              "      <td>Our contest for a chance to attend a special c...</td>\n",
              "      <td>I'd rather have a root canal . . .</td>\n",
              "      <td>Negative</td>\n",
              "      <td>ContentPoster</td>\n",
              "      <td>0</td>\n",
              "      <td>0</td>\n",
              "      <td>I'd sooner have a settle down epithelial duct ...</td>\n",
              "    </tr>\n",
              "    <tr>\n",
              "      <th>21183</th>\n",
              "      <td>5920</td>\n",
              "      <td>facebook_congress</td>\n",
              "      <td>W</td>\n",
              "      <td>Looking forward to appearing on the Alex Witt ...</td>\n",
              "      <td>You get elected to lead....then you get on TV ...</td>\n",
              "      <td>Negative</td>\n",
              "      <td>ContentPoster</td>\n",
              "      <td>0</td>\n",
              "      <td>0</td>\n",
              "      <td>You bring elective to lead....then you bring o...</td>\n",
              "    </tr>\n",
              "  </tbody>\n",
              "</table>\n",
              "<p>21184 rows × 10 columns</p>\n",
              "</div>"
            ],
            "text/plain": [
              "       Unnamed: 0  ...                            augmented_response_text\n",
              "0            3845  ...  thank you representative Bass. save up the ban...\n",
              "1            9743  ...                    I am very you feeling so reward\n",
              "2           13041  ...  Her compulsive by desirous thinking. She there...\n",
              "3            4265  ...  There's no other way of life out of the outrag...\n",
              "4           13145  ...  What were the of the great community? She didn...\n",
              "...           ...  ...                                                ...\n",
              "21179        6561  ...  \"Committed to crap trusted we don't mislay hea...\n",
              "21180        3829  ...  both Isakson and Chambliss vote to tabularize ...\n",
              "21181       11700  ...  unity a deception balance beam of gross light ...\n",
              "21182        5668  ...  I'd sooner have a settle down epithelial duct ...\n",
              "21183        5920  ...  You bring elective to lead....then you bring o...\n",
              "\n",
              "[21184 rows x 10 columns]"
            ]
          },
          "metadata": {},
          "execution_count": 13
        }
      ]
    },
    {
      "cell_type": "markdown",
      "metadata": {
        "id": "_QhabasyTaAU"
      },
      "source": [
        "# Transform to HuggingFace friendly format"
      ]
    },
    {
      "cell_type": "code",
      "metadata": {
        "id": "lGcvxwWXIbfq"
      },
      "source": [
        "# change to dataset to work with Huggingface transformer & remove unused columns\n",
        "columns_to_remove = ['op_gender', 'source', 'Unnamed: 0', 'relevance', 'sentiment','post_text', 'label']\n",
        "\n",
        "from datasets import load_dataset\n",
        "train_dataset = Dataset.from_pandas(train_df_aug)\n",
        "dev_dataset = Dataset.from_pandas(dev_df)\n",
        "\n",
        "train_dataset = train_dataset.remove_columns(column_names= columns_to_remove)\n",
        "dev_dataset = dev_dataset.remove_columns(column_names= columns_to_remove)\n",
        "dev_dataset = dev_dataset.remove_columns(column_names= '__index_level_0__')\n",
        "\n",
        "# rename sentiment to labels\n",
        "train_dataset = train_dataset.rename_column(\"labels_4\", \"label\")\n",
        "dev_dataset = dev_dataset.rename_column(\"labels_4\", \"label\")"
      ],
      "execution_count": 14,
      "outputs": []
    },
    {
      "cell_type": "code",
      "metadata": {
        "colab": {
          "base_uri": "https://localhost:8080/"
        },
        "id": "wMF7YvFgcDSW",
        "outputId": "b3020640-e295-4b49-8cb7-ffd37cbb37f5"
      },
      "source": [
        "# combine into a DataDictionary for huggingface use\n",
        "rtg_dataset = DatasetDict({\n",
        "    'train': train_dataset,\n",
        "    'dev': dev_dataset \n",
        "})\n",
        "\n",
        "rtg_dataset"
      ],
      "execution_count": 15,
      "outputs": [
        {
          "output_type": "execute_result",
          "data": {
            "text/plain": [
              "DatasetDict({\n",
              "    train: Dataset({\n",
              "        features: ['response_text', 'label', 'augmented_response_text'],\n",
              "        num_rows: 21184\n",
              "    })\n",
              "    dev: Dataset({\n",
              "        features: ['response_text', 'label'],\n",
              "        num_rows: 2301\n",
              "    })\n",
              "})"
            ]
          },
          "metadata": {},
          "execution_count": 15
        }
      ]
    },
    {
      "cell_type": "markdown",
      "metadata": {
        "id": "OYm-yyHufXuD"
      },
      "source": [
        "## Tokenize"
      ]
    },
    {
      "cell_type": "code",
      "metadata": {
        "id": "VAWtxVO2b1Xf"
      },
      "source": [
        "import torch\n",
        "device = torch.device(\"cuda\" if torch.cuda.is_available() else \"cpu\")"
      ],
      "execution_count": 20,
      "outputs": []
    },
    {
      "cell_type": "code",
      "metadata": {
        "colab": {
          "base_uri": "https://localhost:8080/"
        },
        "id": "7JXXScXOWHIb",
        "outputId": "2654b8a2-bfb0-4f7c-b641-4a7189b55107"
      },
      "source": [
        "# find the P99 of length for response_text and set that as the max length \n",
        "max_length = train_df['response_text'].astype(str).map(len).quantile(0.99)\n",
        "print(f\"99th %tile of response_text length: {max_length}\")"
      ],
      "execution_count": 21,
      "outputs": [
        {
          "output_type": "stream",
          "name": "stdout",
          "text": [
            "99th %tile of response_text length: 289.0\n"
          ]
        }
      ]
    },
    {
      "cell_type": "code",
      "metadata": {
        "id": "8csnO6fRb5WY"
      },
      "source": [
        "from transformers import AutoTokenizer\n",
        "\n",
        "model_name = \"bert-base-uncased\"\n",
        "tokenizer = AutoTokenizer.from_pretrained(model_name, max_length = max_length)\n",
        "\n",
        "def tokenize(batch):\n",
        "    return tokenizer(batch[\"response_text\"], padding=True, truncation=True)"
      ],
      "execution_count": 22,
      "outputs": []
    },
    {
      "cell_type": "code",
      "metadata": {
        "colab": {
          "base_uri": "https://localhost:8080/",
          "height": 0,
          "referenced_widgets": [
            "a6e39ee194a54c79bae0d910fc628764",
            "d2a08b0ef773428d9749b95aac153464",
            "f4f3c833281e47d6950b326d9814b428",
            "e62348f87fe947d8ba21d1237fff4f0f",
            "c4e72eb08cca4441bce27148cbb2b904",
            "e3ae19b280cc4110902a4035d8811442",
            "1c43749696ef4fbead1ada545b42eec8",
            "2d6fbefee1c24d7b839777973c6e48de",
            "088387b1f47a46dd9b1cfc9f705d4378",
            "fd1286dd07a244ea89fd16c37cf1c3c7",
            "a0536517b8f64b6b813b11f44fceee27",
            "0480b6f64e5d410e88c4ff029e0d22aa",
            "abf2afcf26c64ddb8e2114d461adf439",
            "84e2c0039d704371aadd22d32c88af42",
            "9a5636b48a264cd088f1d919217ad1a1",
            "3655ca8c64e3498fb69d3a6768db102e",
            "f8b59904f0af45a0830cd7d737548892",
            "b652370f47b74407aa2472e717f12c0c",
            "a7e48a0a6bfa47f2b606078642c621db",
            "fc4de82920aa43888e18888e7c6056d7",
            "c839cfb9f476406b99edf71f8fc21e6d",
            "94af3d5bfe0541c5ad374ed0ff9da744"
          ]
        },
        "id": "YKMeefM8f698",
        "outputId": "a7054e98-6875-49f0-b964-ffcd6864a76c"
      },
      "source": [
        "rtg_encoded = rtg_dataset.map(tokenize, batched=True, batch_size=None)\n",
        "rtg_encoded['train'].features"
      ],
      "execution_count": 23,
      "outputs": [
        {
          "output_type": "display_data",
          "data": {
            "application/vnd.jupyter.widget-view+json": {
              "model_id": "a6e39ee194a54c79bae0d910fc628764",
              "version_minor": 0,
              "version_major": 2
            },
            "text/plain": [
              "  0%|          | 0/1 [00:00<?, ?ba/s]"
            ]
          },
          "metadata": {}
        },
        {
          "output_type": "display_data",
          "data": {
            "application/vnd.jupyter.widget-view+json": {
              "model_id": "0480b6f64e5d410e88c4ff029e0d22aa",
              "version_minor": 0,
              "version_major": 2
            },
            "text/plain": [
              "  0%|          | 0/1 [00:00<?, ?ba/s]"
            ]
          },
          "metadata": {}
        },
        {
          "output_type": "execute_result",
          "data": {
            "text/plain": [
              "{'attention_mask': Sequence(feature=Value(dtype='int8', id=None), length=-1, id=None),\n",
              " 'augmented_response_text': Value(dtype='string', id=None),\n",
              " 'input_ids': Sequence(feature=Value(dtype='int32', id=None), length=-1, id=None),\n",
              " 'label': Value(dtype='int64', id=None),\n",
              " 'response_text': Value(dtype='string', id=None),\n",
              " 'token_type_ids': Sequence(feature=Value(dtype='int8', id=None), length=-1, id=None)}"
            ]
          },
          "metadata": {},
          "execution_count": 23
        }
      ]
    },
    {
      "cell_type": "markdown",
      "metadata": {
        "id": "j_toVz-NgFKH"
      },
      "source": [
        "# Model"
      ]
    },
    {
      "cell_type": "code",
      "metadata": {
        "colab": {
          "base_uri": "https://localhost:8080/",
          "height": 222,
          "referenced_widgets": [
            "17964030065940c4883fbca756ef76d3",
            "e99f45ce0bfc424bb8572b5ae2600be4",
            "ee24b8c6007f457e95203d9cb6d24cf3",
            "5924d604e3d94175b532f5d56c2fdede",
            "73cbdfd56fcd4240be115a2bd29993ff",
            "57b9cadf173345509cf2f1206a8505fb",
            "9770397b59b14234b6d41ac1d77b1c6b",
            "b48dd4fe9f664f508cd2deba058b34b6",
            "b3951c528b434e39a229b6c23cbf9535",
            "8c3e37ded16346559cd31c0a0565f602",
            "f898a8fa6e3a4252816f39b9dade28fd"
          ]
        },
        "id": "1ycuAMQWcQ-q",
        "outputId": "0490cf62-ef24-4bce-9381-a94652c1e005"
      },
      "source": [
        "from transformers import AutoModelForSequenceClassification\n",
        "num_labels = 4\n",
        "model = (AutoModelForSequenceClassification.from_pretrained(model_name, num_labels=num_labels).to(device))"
      ],
      "execution_count": 24,
      "outputs": [
        {
          "output_type": "stream",
          "name": "stderr",
          "text": [
            "DEBUG:filelock:Attempting to acquire lock 140156580196944 on /root/.cache/huggingface/transformers/a8041bf617d7f94ea26d15e218abd04afc2004805632abc0ed2066aa16d50d04.faf6ea826ae9c5867d12b22257f9877e6b8367890837bd60f7c54a29633f7f2f.lock\n",
            "DEBUG:filelock:Lock 140156580196944 acquired on /root/.cache/huggingface/transformers/a8041bf617d7f94ea26d15e218abd04afc2004805632abc0ed2066aa16d50d04.faf6ea826ae9c5867d12b22257f9877e6b8367890837bd60f7c54a29633f7f2f.lock\n"
          ]
        },
        {
          "output_type": "display_data",
          "data": {
            "application/vnd.jupyter.widget-view+json": {
              "model_id": "17964030065940c4883fbca756ef76d3",
              "version_minor": 0,
              "version_major": 2
            },
            "text/plain": [
              "Downloading:   0%|          | 0.00/420M [00:00<?, ?B/s]"
            ]
          },
          "metadata": {}
        },
        {
          "output_type": "stream",
          "name": "stderr",
          "text": [
            "DEBUG:filelock:Attempting to release lock 140156580196944 on /root/.cache/huggingface/transformers/a8041bf617d7f94ea26d15e218abd04afc2004805632abc0ed2066aa16d50d04.faf6ea826ae9c5867d12b22257f9877e6b8367890837bd60f7c54a29633f7f2f.lock\n",
            "DEBUG:filelock:Lock 140156580196944 released on /root/.cache/huggingface/transformers/a8041bf617d7f94ea26d15e218abd04afc2004805632abc0ed2066aa16d50d04.faf6ea826ae9c5867d12b22257f9877e6b8367890837bd60f7c54a29633f7f2f.lock\n",
            "Some weights of the model checkpoint at bert-base-uncased were not used when initializing BertForSequenceClassification: ['cls.seq_relationship.weight', 'cls.predictions.bias', 'cls.predictions.transform.LayerNorm.weight', 'cls.predictions.transform.LayerNorm.bias', 'cls.predictions.transform.dense.bias', 'cls.predictions.decoder.weight', 'cls.seq_relationship.bias', 'cls.predictions.transform.dense.weight']\n",
            "- This IS expected if you are initializing BertForSequenceClassification from the checkpoint of a model trained on another task or with another architecture (e.g. initializing a BertForSequenceClassification model from a BertForPreTraining model).\n",
            "- This IS NOT expected if you are initializing BertForSequenceClassification from the checkpoint of a model that you expect to be exactly identical (initializing a BertForSequenceClassification model from a BertForSequenceClassification model).\n",
            "Some weights of BertForSequenceClassification were not initialized from the model checkpoint at bert-base-uncased and are newly initialized: ['classifier.bias', 'classifier.weight']\n",
            "You should probably TRAIN this model on a down-stream task to be able to use it for predictions and inference.\n"
          ]
        }
      ]
    },
    {
      "cell_type": "code",
      "metadata": {
        "colab": {
          "base_uri": "https://localhost:8080/"
        },
        "id": "O1bqyXiLgjLb",
        "outputId": "709c8cb9-4645-4dc1-ebd2-a6e55526b4f3"
      },
      "source": [
        "rtg_encoded.set_format(\"torch\", columns=[\"input_ids\", \"attention_mask\", \"label\"])\n",
        "rtg_encoded[\"dev\"].features"
      ],
      "execution_count": 25,
      "outputs": [
        {
          "output_type": "execute_result",
          "data": {
            "text/plain": [
              "{'attention_mask': Sequence(feature=Value(dtype='int8', id=None), length=-1, id=None),\n",
              " 'input_ids': Sequence(feature=Value(dtype='int32', id=None), length=-1, id=None),\n",
              " 'label': Value(dtype='int64', id=None),\n",
              " 'response_text': Value(dtype='string', id=None),\n",
              " 'token_type_ids': Sequence(feature=Value(dtype='int8', id=None), length=-1, id=None)}"
            ]
          },
          "metadata": {},
          "execution_count": 25
        }
      ]
    },
    {
      "cell_type": "code",
      "metadata": {
        "id": "j0gITK_Rgpi5"
      },
      "source": [
        "from sklearn.metrics import accuracy_score, f1_score\n",
        "\n",
        "def compute_metrics(pred):\n",
        "    labels = pred.label_ids\n",
        "    preds = pred.predictions.argmax(-1)\n",
        "    f1_weighted = f1_score(labels, preds, average=\"weighted\")\n",
        "    f1_macro = f1_score(labels, preds, average = 'macro')\n",
        "    acc = accuracy_score(labels, preds)\n",
        "    return {\"accuracy\": acc, \"f1\": f1_weighted, \"f1_macro\": f1_macro} "
      ],
      "execution_count": 26,
      "outputs": []
    },
    {
      "cell_type": "code",
      "metadata": {
        "id": "yRmc5S3ygsUH"
      },
      "source": [
        "from transformers import Trainer, TrainingArguments\n",
        "\n",
        "batch_size = 8\n",
        "logging_steps = len(rtg_encoded[\"train\"]) // batch_size\n",
        "training_args = TrainingArguments(output_dir=\"results\",\n",
        "                                  num_train_epochs=2,\n",
        "                                  learning_rate=2e-5,\n",
        "                                  per_device_train_batch_size=batch_size,\n",
        "                                  per_device_eval_batch_size=batch_size,\n",
        "                                  load_best_model_at_end=False,\n",
        "                                 # metric_for_best_model=\"f1_macro\",\n",
        "                                 # weight_decay=0.01,\n",
        "                                  evaluation_strategy=\"epoch\",\n",
        "                                  save_strategy=\"epoch\",\n",
        "                                  disable_tqdm=False\n",
        "                                  )"
      ],
      "execution_count": 27,
      "outputs": []
    },
    {
      "cell_type": "code",
      "metadata": {
        "colab": {
          "base_uri": "https://localhost:8080/",
          "height": 1000
        },
        "id": "YY_V0Pb3pNs4",
        "outputId": "063e4d76-1130-4244-987b-ba6005b596fb"
      },
      "source": [
        "from sklearn.metrics import classification_report\n",
        "\n",
        "accuracy_list = []\n",
        "weighted_f1_score_list = []\n",
        "macro_f1_score_list = []\n",
        "negative_f1_score = []\n",
        "neutral_f1_score = []\n",
        "mixed_f1_score = []\n",
        "positive_f1_score = []\n",
        "\n",
        "\n",
        "for i in range(5):\n",
        "  try:\n",
        "    del trainer\n",
        "    del results\n",
        "    del cr\n",
        "  except: pass\n",
        "\n",
        "\n",
        "  trainer = Trainer(model=model, args=training_args,\n",
        "                  compute_metrics=compute_metrics,\n",
        "                  train_dataset=rtg_encoded[\"train\"],\n",
        "                  eval_dataset=rtg_encoded[\"dev\"])\n",
        "  trainer.train()\n",
        "  results = trainer.evaluate()\n",
        "\n",
        "  # append macro metrics to lists\n",
        "  accuracy_list.append(results.get('eval_accuracy'))\n",
        "  weighted_f1_score_list.append(results.get(\"eval_f1\"))\n",
        "  macro_f1_score_list.append(results.get(\"eval_f1_macro\"))\n",
        "\n",
        "  trainer.predict(rtg_encoded[\"dev\"])\n",
        "  # append the class-level F1 scores\n",
        "  outputs = trainer.predict(rtg_encoded[\"dev\"])\n",
        "  predictions = outputs.predictions.argmax(1)\n",
        "  labels = rtg_encoded[\"dev\"]['label']\n",
        "  cr = classification_report(labels, predictions, digits=3, output_dict=True)\n",
        "  negative_f1_score.append(cr.get('0').get(\"f1-score\"))\n",
        "  neutral_f1_score.append(cr.get('1').get(\"f1-score\"))\n",
        "  positive_f1_score.append(cr.get('2').get(\"f1-score\"))\n",
        "  mixed_f1_score.append(cr.get('3').get(\"f1-score\"))\n",
        "\n",
        "  print(f'---------------------------Iteration {i+1} Complete---------------------------\\n')"
      ],
      "execution_count": 28,
      "outputs": [
        {
          "output_type": "stream",
          "name": "stderr",
          "text": [
            "The following columns in the training set  don't have a corresponding argument in `BertForSequenceClassification.forward` and have been ignored: response_text, augmented_response_text.\n",
            "***** Running training *****\n",
            "  Num examples = 21184\n",
            "  Num Epochs = 2\n",
            "  Instantaneous batch size per device = 8\n",
            "  Total train batch size (w. parallel, distributed & accumulation) = 8\n",
            "  Gradient Accumulation steps = 1\n",
            "  Total optimization steps = 5296\n"
          ]
        },
        {
          "output_type": "display_data",
          "data": {
            "text/html": [
              "\n",
              "    <div>\n",
              "      \n",
              "      <progress value='5296' max='5296' style='width:300px; height:20px; vertical-align: middle;'></progress>\n",
              "      [5296/5296 08:43, Epoch 2/2]\n",
              "    </div>\n",
              "    <table border=\"1\" class=\"dataframe\">\n",
              "  <thead>\n",
              "    <tr style=\"text-align: left;\">\n",
              "      <th>Epoch</th>\n",
              "      <th>Training Loss</th>\n",
              "      <th>Validation Loss</th>\n",
              "      <th>Accuracy</th>\n",
              "      <th>F1</th>\n",
              "      <th>F1 Macro</th>\n",
              "    </tr>\n",
              "  </thead>\n",
              "  <tbody>\n",
              "    <tr>\n",
              "      <td>1</td>\n",
              "      <td>0.569000</td>\n",
              "      <td>1.031838</td>\n",
              "      <td>0.679704</td>\n",
              "      <td>0.677515</td>\n",
              "      <td>0.574008</td>\n",
              "    </tr>\n",
              "    <tr>\n",
              "      <td>2</td>\n",
              "      <td>0.307200</td>\n",
              "      <td>1.498302</td>\n",
              "      <td>0.675359</td>\n",
              "      <td>0.675083</td>\n",
              "      <td>0.572798</td>\n",
              "    </tr>\n",
              "  </tbody>\n",
              "</table><p>"
            ],
            "text/plain": [
              "<IPython.core.display.HTML object>"
            ]
          },
          "metadata": {}
        },
        {
          "output_type": "stream",
          "name": "stderr",
          "text": [
            "The following columns in the evaluation set  don't have a corresponding argument in `BertForSequenceClassification.forward` and have been ignored: response_text.\n",
            "***** Running Evaluation *****\n",
            "  Num examples = 2301\n",
            "  Batch size = 8\n",
            "Saving model checkpoint to results/checkpoint-2648\n",
            "Configuration saved in results/checkpoint-2648/config.json\n",
            "Model weights saved in results/checkpoint-2648/pytorch_model.bin\n",
            "The following columns in the evaluation set  don't have a corresponding argument in `BertForSequenceClassification.forward` and have been ignored: response_text.\n",
            "***** Running Evaluation *****\n",
            "  Num examples = 2301\n",
            "  Batch size = 8\n",
            "Saving model checkpoint to results/checkpoint-5296\n",
            "Configuration saved in results/checkpoint-5296/config.json\n",
            "Model weights saved in results/checkpoint-5296/pytorch_model.bin\n",
            "\n",
            "\n",
            "Training completed. Do not forget to share your model on huggingface.co/models =)\n",
            "\n",
            "\n",
            "The following columns in the evaluation set  don't have a corresponding argument in `BertForSequenceClassification.forward` and have been ignored: response_text.\n",
            "***** Running Evaluation *****\n",
            "  Num examples = 2301\n",
            "  Batch size = 8\n"
          ]
        },
        {
          "output_type": "display_data",
          "data": {
            "text/html": [
              "\n",
              "    <div>\n",
              "      \n",
              "      <progress value='864' max='288' style='width:300px; height:20px; vertical-align: middle;'></progress>\n",
              "      [288/288 00:19]\n",
              "    </div>\n",
              "    "
            ],
            "text/plain": [
              "<IPython.core.display.HTML object>"
            ]
          },
          "metadata": {}
        },
        {
          "output_type": "stream",
          "name": "stderr",
          "text": [
            "The following columns in the test set  don't have a corresponding argument in `BertForSequenceClassification.forward` and have been ignored: response_text.\n",
            "***** Running Prediction *****\n",
            "  Num examples = 2301\n",
            "  Batch size = 8\n",
            "The following columns in the test set  don't have a corresponding argument in `BertForSequenceClassification.forward` and have been ignored: response_text.\n",
            "***** Running Prediction *****\n",
            "  Num examples = 2301\n",
            "  Batch size = 8\n",
            "The following columns in the training set  don't have a corresponding argument in `BertForSequenceClassification.forward` and have been ignored: response_text, augmented_response_text.\n",
            "***** Running training *****\n",
            "  Num examples = 21184\n",
            "  Num Epochs = 2\n",
            "  Instantaneous batch size per device = 8\n",
            "  Total train batch size (w. parallel, distributed & accumulation) = 8\n",
            "  Gradient Accumulation steps = 1\n",
            "  Total optimization steps = 5296\n"
          ]
        },
        {
          "output_type": "stream",
          "name": "stdout",
          "text": [
            "---------------------------Iteration 1 Complete---------------------------\n",
            "\n"
          ]
        },
        {
          "output_type": "display_data",
          "data": {
            "text/html": [
              "\n",
              "    <div>\n",
              "      \n",
              "      <progress value='5296' max='5296' style='width:300px; height:20px; vertical-align: middle;'></progress>\n",
              "      [5296/5296 08:38, Epoch 2/2]\n",
              "    </div>\n",
              "    <table border=\"1\" class=\"dataframe\">\n",
              "  <thead>\n",
              "    <tr style=\"text-align: left;\">\n",
              "      <th>Epoch</th>\n",
              "      <th>Training Loss</th>\n",
              "      <th>Validation Loss</th>\n",
              "      <th>Accuracy</th>\n",
              "      <th>F1</th>\n",
              "      <th>F1 Macro</th>\n",
              "    </tr>\n",
              "  </thead>\n",
              "  <tbody>\n",
              "    <tr>\n",
              "      <td>1</td>\n",
              "      <td>0.189600</td>\n",
              "      <td>1.922759</td>\n",
              "      <td>0.674055</td>\n",
              "      <td>0.665332</td>\n",
              "      <td>0.554176</td>\n",
              "    </tr>\n",
              "    <tr>\n",
              "      <td>2</td>\n",
              "      <td>0.140600</td>\n",
              "      <td>2.152776</td>\n",
              "      <td>0.670578</td>\n",
              "      <td>0.665893</td>\n",
              "      <td>0.559584</td>\n",
              "    </tr>\n",
              "  </tbody>\n",
              "</table><p>"
            ],
            "text/plain": [
              "<IPython.core.display.HTML object>"
            ]
          },
          "metadata": {}
        },
        {
          "output_type": "stream",
          "name": "stderr",
          "text": [
            "The following columns in the evaluation set  don't have a corresponding argument in `BertForSequenceClassification.forward` and have been ignored: response_text.\n",
            "***** Running Evaluation *****\n",
            "  Num examples = 2301\n",
            "  Batch size = 8\n",
            "Saving model checkpoint to results/checkpoint-2648\n",
            "Configuration saved in results/checkpoint-2648/config.json\n",
            "Model weights saved in results/checkpoint-2648/pytorch_model.bin\n",
            "The following columns in the evaluation set  don't have a corresponding argument in `BertForSequenceClassification.forward` and have been ignored: response_text.\n",
            "***** Running Evaluation *****\n",
            "  Num examples = 2301\n",
            "  Batch size = 8\n",
            "Saving model checkpoint to results/checkpoint-5296\n",
            "Configuration saved in results/checkpoint-5296/config.json\n",
            "Model weights saved in results/checkpoint-5296/pytorch_model.bin\n",
            "\n",
            "\n",
            "Training completed. Do not forget to share your model on huggingface.co/models =)\n",
            "\n",
            "\n",
            "The following columns in the evaluation set  don't have a corresponding argument in `BertForSequenceClassification.forward` and have been ignored: response_text.\n",
            "***** Running Evaluation *****\n",
            "  Num examples = 2301\n",
            "  Batch size = 8\n"
          ]
        },
        {
          "output_type": "display_data",
          "data": {
            "text/html": [
              "\n",
              "    <div>\n",
              "      \n",
              "      <progress value='864' max='288' style='width:300px; height:20px; vertical-align: middle;'></progress>\n",
              "      [288/288 00:18]\n",
              "    </div>\n",
              "    "
            ],
            "text/plain": [
              "<IPython.core.display.HTML object>"
            ]
          },
          "metadata": {}
        },
        {
          "output_type": "stream",
          "name": "stderr",
          "text": [
            "The following columns in the test set  don't have a corresponding argument in `BertForSequenceClassification.forward` and have been ignored: response_text.\n",
            "***** Running Prediction *****\n",
            "  Num examples = 2301\n",
            "  Batch size = 8\n",
            "The following columns in the test set  don't have a corresponding argument in `BertForSequenceClassification.forward` and have been ignored: response_text.\n",
            "***** Running Prediction *****\n",
            "  Num examples = 2301\n",
            "  Batch size = 8\n",
            "The following columns in the training set  don't have a corresponding argument in `BertForSequenceClassification.forward` and have been ignored: response_text, augmented_response_text.\n",
            "***** Running training *****\n",
            "  Num examples = 21184\n",
            "  Num Epochs = 2\n",
            "  Instantaneous batch size per device = 8\n",
            "  Total train batch size (w. parallel, distributed & accumulation) = 8\n",
            "  Gradient Accumulation steps = 1\n",
            "  Total optimization steps = 5296\n"
          ]
        },
        {
          "output_type": "stream",
          "name": "stdout",
          "text": [
            "---------------------------Iteration 2 Complete---------------------------\n",
            "\n"
          ]
        },
        {
          "output_type": "display_data",
          "data": {
            "text/html": [
              "\n",
              "    <div>\n",
              "      \n",
              "      <progress value='5296' max='5296' style='width:300px; height:20px; vertical-align: middle;'></progress>\n",
              "      [5296/5296 08:36, Epoch 2/2]\n",
              "    </div>\n",
              "    <table border=\"1\" class=\"dataframe\">\n",
              "  <thead>\n",
              "    <tr style=\"text-align: left;\">\n",
              "      <th>Epoch</th>\n",
              "      <th>Training Loss</th>\n",
              "      <th>Validation Loss</th>\n",
              "      <th>Accuracy</th>\n",
              "      <th>F1</th>\n",
              "      <th>F1 Macro</th>\n",
              "    </tr>\n",
              "  </thead>\n",
              "  <tbody>\n",
              "    <tr>\n",
              "      <td>1</td>\n",
              "      <td>0.093000</td>\n",
              "      <td>2.383868</td>\n",
              "      <td>0.657540</td>\n",
              "      <td>0.644833</td>\n",
              "      <td>0.538071</td>\n",
              "    </tr>\n",
              "    <tr>\n",
              "      <td>2</td>\n",
              "      <td>0.076900</td>\n",
              "      <td>2.554327</td>\n",
              "      <td>0.656236</td>\n",
              "      <td>0.649861</td>\n",
              "      <td>0.543896</td>\n",
              "    </tr>\n",
              "  </tbody>\n",
              "</table><p>"
            ],
            "text/plain": [
              "<IPython.core.display.HTML object>"
            ]
          },
          "metadata": {}
        },
        {
          "output_type": "stream",
          "name": "stderr",
          "text": [
            "The following columns in the evaluation set  don't have a corresponding argument in `BertForSequenceClassification.forward` and have been ignored: response_text.\n",
            "***** Running Evaluation *****\n",
            "  Num examples = 2301\n",
            "  Batch size = 8\n",
            "Saving model checkpoint to results/checkpoint-2648\n",
            "Configuration saved in results/checkpoint-2648/config.json\n",
            "Model weights saved in results/checkpoint-2648/pytorch_model.bin\n",
            "The following columns in the evaluation set  don't have a corresponding argument in `BertForSequenceClassification.forward` and have been ignored: response_text.\n",
            "***** Running Evaluation *****\n",
            "  Num examples = 2301\n",
            "  Batch size = 8\n",
            "Saving model checkpoint to results/checkpoint-5296\n",
            "Configuration saved in results/checkpoint-5296/config.json\n",
            "Model weights saved in results/checkpoint-5296/pytorch_model.bin\n",
            "\n",
            "\n",
            "Training completed. Do not forget to share your model on huggingface.co/models =)\n",
            "\n",
            "\n",
            "The following columns in the evaluation set  don't have a corresponding argument in `BertForSequenceClassification.forward` and have been ignored: response_text.\n",
            "***** Running Evaluation *****\n",
            "  Num examples = 2301\n",
            "  Batch size = 8\n"
          ]
        },
        {
          "output_type": "display_data",
          "data": {
            "text/html": [
              "\n",
              "    <div>\n",
              "      \n",
              "      <progress value='864' max='288' style='width:300px; height:20px; vertical-align: middle;'></progress>\n",
              "      [288/288 00:18]\n",
              "    </div>\n",
              "    "
            ],
            "text/plain": [
              "<IPython.core.display.HTML object>"
            ]
          },
          "metadata": {}
        },
        {
          "output_type": "stream",
          "name": "stderr",
          "text": [
            "The following columns in the test set  don't have a corresponding argument in `BertForSequenceClassification.forward` and have been ignored: response_text.\n",
            "***** Running Prediction *****\n",
            "  Num examples = 2301\n",
            "  Batch size = 8\n",
            "The following columns in the test set  don't have a corresponding argument in `BertForSequenceClassification.forward` and have been ignored: response_text.\n",
            "***** Running Prediction *****\n",
            "  Num examples = 2301\n",
            "  Batch size = 8\n",
            "The following columns in the training set  don't have a corresponding argument in `BertForSequenceClassification.forward` and have been ignored: response_text, augmented_response_text.\n",
            "***** Running training *****\n",
            "  Num examples = 21184\n",
            "  Num Epochs = 2\n",
            "  Instantaneous batch size per device = 8\n",
            "  Total train batch size (w. parallel, distributed & accumulation) = 8\n",
            "  Gradient Accumulation steps = 1\n",
            "  Total optimization steps = 5296\n"
          ]
        },
        {
          "output_type": "stream",
          "name": "stdout",
          "text": [
            "---------------------------Iteration 3 Complete---------------------------\n",
            "\n"
          ]
        },
        {
          "output_type": "display_data",
          "data": {
            "text/html": [
              "\n",
              "    <div>\n",
              "      \n",
              "      <progress value='5296' max='5296' style='width:300px; height:20px; vertical-align: middle;'></progress>\n",
              "      [5296/5296 08:33, Epoch 2/2]\n",
              "    </div>\n",
              "    <table border=\"1\" class=\"dataframe\">\n",
              "  <thead>\n",
              "    <tr style=\"text-align: left;\">\n",
              "      <th>Epoch</th>\n",
              "      <th>Training Loss</th>\n",
              "      <th>Validation Loss</th>\n",
              "      <th>Accuracy</th>\n",
              "      <th>F1</th>\n",
              "      <th>F1 Macro</th>\n",
              "    </tr>\n",
              "  </thead>\n",
              "  <tbody>\n",
              "    <tr>\n",
              "      <td>1</td>\n",
              "      <td>0.049300</td>\n",
              "      <td>2.654287</td>\n",
              "      <td>0.652760</td>\n",
              "      <td>0.639331</td>\n",
              "      <td>0.529353</td>\n",
              "    </tr>\n",
              "    <tr>\n",
              "      <td>2</td>\n",
              "      <td>0.056400</td>\n",
              "      <td>2.765028</td>\n",
              "      <td>0.663625</td>\n",
              "      <td>0.656113</td>\n",
              "      <td>0.550176</td>\n",
              "    </tr>\n",
              "  </tbody>\n",
              "</table><p>"
            ],
            "text/plain": [
              "<IPython.core.display.HTML object>"
            ]
          },
          "metadata": {}
        },
        {
          "output_type": "stream",
          "name": "stderr",
          "text": [
            "The following columns in the evaluation set  don't have a corresponding argument in `BertForSequenceClassification.forward` and have been ignored: response_text.\n",
            "***** Running Evaluation *****\n",
            "  Num examples = 2301\n",
            "  Batch size = 8\n",
            "Saving model checkpoint to results/checkpoint-2648\n",
            "Configuration saved in results/checkpoint-2648/config.json\n",
            "Model weights saved in results/checkpoint-2648/pytorch_model.bin\n",
            "The following columns in the evaluation set  don't have a corresponding argument in `BertForSequenceClassification.forward` and have been ignored: response_text.\n",
            "***** Running Evaluation *****\n",
            "  Num examples = 2301\n",
            "  Batch size = 8\n",
            "Saving model checkpoint to results/checkpoint-5296\n",
            "Configuration saved in results/checkpoint-5296/config.json\n",
            "Model weights saved in results/checkpoint-5296/pytorch_model.bin\n",
            "\n",
            "\n",
            "Training completed. Do not forget to share your model on huggingface.co/models =)\n",
            "\n",
            "\n",
            "The following columns in the evaluation set  don't have a corresponding argument in `BertForSequenceClassification.forward` and have been ignored: response_text.\n",
            "***** Running Evaluation *****\n",
            "  Num examples = 2301\n",
            "  Batch size = 8\n"
          ]
        },
        {
          "output_type": "display_data",
          "data": {
            "text/html": [
              "\n",
              "    <div>\n",
              "      \n",
              "      <progress value='864' max='288' style='width:300px; height:20px; vertical-align: middle;'></progress>\n",
              "      [288/288 00:18]\n",
              "    </div>\n",
              "    "
            ],
            "text/plain": [
              "<IPython.core.display.HTML object>"
            ]
          },
          "metadata": {}
        },
        {
          "output_type": "stream",
          "name": "stderr",
          "text": [
            "The following columns in the test set  don't have a corresponding argument in `BertForSequenceClassification.forward` and have been ignored: response_text.\n",
            "***** Running Prediction *****\n",
            "  Num examples = 2301\n",
            "  Batch size = 8\n",
            "The following columns in the test set  don't have a corresponding argument in `BertForSequenceClassification.forward` and have been ignored: response_text.\n",
            "***** Running Prediction *****\n",
            "  Num examples = 2301\n",
            "  Batch size = 8\n",
            "The following columns in the training set  don't have a corresponding argument in `BertForSequenceClassification.forward` and have been ignored: response_text, augmented_response_text.\n",
            "***** Running training *****\n",
            "  Num examples = 21184\n",
            "  Num Epochs = 2\n",
            "  Instantaneous batch size per device = 8\n",
            "  Total train batch size (w. parallel, distributed & accumulation) = 8\n",
            "  Gradient Accumulation steps = 1\n",
            "  Total optimization steps = 5296\n"
          ]
        },
        {
          "output_type": "stream",
          "name": "stdout",
          "text": [
            "---------------------------Iteration 4 Complete---------------------------\n",
            "\n"
          ]
        },
        {
          "output_type": "display_data",
          "data": {
            "text/html": [
              "\n",
              "    <div>\n",
              "      \n",
              "      <progress value='5296' max='5296' style='width:300px; height:20px; vertical-align: middle;'></progress>\n",
              "      [5296/5296 08:33, Epoch 2/2]\n",
              "    </div>\n",
              "    <table border=\"1\" class=\"dataframe\">\n",
              "  <thead>\n",
              "    <tr style=\"text-align: left;\">\n",
              "      <th>Epoch</th>\n",
              "      <th>Training Loss</th>\n",
              "      <th>Validation Loss</th>\n",
              "      <th>Accuracy</th>\n",
              "      <th>F1</th>\n",
              "      <th>F1 Macro</th>\n",
              "    </tr>\n",
              "  </thead>\n",
              "  <tbody>\n",
              "    <tr>\n",
              "      <td>1</td>\n",
              "      <td>0.037400</td>\n",
              "      <td>2.971754</td>\n",
              "      <td>0.667970</td>\n",
              "      <td>0.648437</td>\n",
              "      <td>0.536489</td>\n",
              "    </tr>\n",
              "    <tr>\n",
              "      <td>2</td>\n",
              "      <td>0.042300</td>\n",
              "      <td>2.898651</td>\n",
              "      <td>0.663625</td>\n",
              "      <td>0.658866</td>\n",
              "      <td>0.554481</td>\n",
              "    </tr>\n",
              "  </tbody>\n",
              "</table><p>"
            ],
            "text/plain": [
              "<IPython.core.display.HTML object>"
            ]
          },
          "metadata": {}
        },
        {
          "output_type": "stream",
          "name": "stderr",
          "text": [
            "The following columns in the evaluation set  don't have a corresponding argument in `BertForSequenceClassification.forward` and have been ignored: response_text.\n",
            "***** Running Evaluation *****\n",
            "  Num examples = 2301\n",
            "  Batch size = 8\n",
            "Saving model checkpoint to results/checkpoint-2648\n",
            "Configuration saved in results/checkpoint-2648/config.json\n",
            "Model weights saved in results/checkpoint-2648/pytorch_model.bin\n",
            "The following columns in the evaluation set  don't have a corresponding argument in `BertForSequenceClassification.forward` and have been ignored: response_text.\n",
            "***** Running Evaluation *****\n",
            "  Num examples = 2301\n",
            "  Batch size = 8\n",
            "Saving model checkpoint to results/checkpoint-5296\n",
            "Configuration saved in results/checkpoint-5296/config.json\n",
            "Model weights saved in results/checkpoint-5296/pytorch_model.bin\n",
            "\n",
            "\n",
            "Training completed. Do not forget to share your model on huggingface.co/models =)\n",
            "\n",
            "\n",
            "The following columns in the evaluation set  don't have a corresponding argument in `BertForSequenceClassification.forward` and have been ignored: response_text.\n",
            "***** Running Evaluation *****\n",
            "  Num examples = 2301\n",
            "  Batch size = 8\n"
          ]
        },
        {
          "output_type": "display_data",
          "data": {
            "text/html": [
              "\n",
              "    <div>\n",
              "      \n",
              "      <progress value='864' max='288' style='width:300px; height:20px; vertical-align: middle;'></progress>\n",
              "      [288/288 00:19]\n",
              "    </div>\n",
              "    "
            ],
            "text/plain": [
              "<IPython.core.display.HTML object>"
            ]
          },
          "metadata": {}
        },
        {
          "output_type": "stream",
          "name": "stderr",
          "text": [
            "The following columns in the test set  don't have a corresponding argument in `BertForSequenceClassification.forward` and have been ignored: response_text.\n",
            "***** Running Prediction *****\n",
            "  Num examples = 2301\n",
            "  Batch size = 8\n",
            "The following columns in the test set  don't have a corresponding argument in `BertForSequenceClassification.forward` and have been ignored: response_text.\n",
            "***** Running Prediction *****\n",
            "  Num examples = 2301\n",
            "  Batch size = 8\n"
          ]
        },
        {
          "output_type": "stream",
          "name": "stdout",
          "text": [
            "---------------------------Iteration 5 Complete---------------------------\n",
            "\n"
          ]
        }
      ]
    },
    {
      "cell_type": "code",
      "metadata": {
        "colab": {
          "base_uri": "https://localhost:8080/"
        },
        "id": "v1UzIi5vYVrQ",
        "outputId": "f711a932-9fc1-413a-efe2-c6490ca930d5"
      },
      "source": [
        "import statistics\n",
        "\n",
        "print(\"%15s %s (%s)\" % (\"\",\"Mean\", \"StDev\"))\n",
        "\n",
        "print(\"-\"*29)\n",
        "print(\"Macro Scores\")\n",
        "print(\"-\"*29)\n",
        "\n",
        "print(f\"%15s %s (%s)\" %(\"Accuracy\",\n",
        "    round(statistics.mean(accuracy_list),3),\n",
        "    round(statistics.stdev(accuracy_list),3)))\n",
        "print(f\"%15s %5s (%s)\" %(\"Macro F1\",\n",
        "    round(statistics.mean(macro_f1_score_list),3),\n",
        "    round(statistics.stdev(macro_f1_score_list),3)))\n",
        "print(f\"%15s %5s (%s)\" %(\"Weighted F1\",\n",
        "    round(statistics.mean(weighted_f1_score_list),3),\n",
        "    round(statistics.stdev(weighted_f1_score_list),3)))\n",
        "\n",
        "print(\"-\"*29)\n",
        "print(\"Class Scores\")\n",
        "print(\"-\"*29)\n",
        "\n",
        "print(f\"%15s %s (%s)\" %(\"Positive\",\n",
        "    round(statistics.mean(positive_f1_score),3),\n",
        "    round(statistics.stdev(positive_f1_score),3)))\n",
        "print(f\"%15s %5s (%s)\" %(\"Neutral\",\n",
        "    round(statistics.mean(neutral_f1_score),3),\n",
        "    round(statistics.stdev(neutral_f1_score),3)))\n",
        "print(f\"%15s %5s (%s)\" %(\"Negative\",\n",
        "    round(statistics.mean(negative_f1_score),3),\n",
        "    round(statistics.stdev(negative_f1_score),3)))\n",
        "print(f\"%15s %5s (%s)\" %(\"Mixed\",\n",
        "    round(statistics.mean(mixed_f1_score),3),\n",
        "    round(statistics.stdev(mixed_f1_score),3)))"
      ],
      "execution_count": 29,
      "outputs": [
        {
          "output_type": "stream",
          "name": "stdout",
          "text": [
            "                Mean (StDev)\n",
            "-----------------------------\n",
            "Macro Scores\n",
            "-----------------------------\n",
            "       Accuracy 0.666 (0.007)\n",
            "       Macro F1 0.556 (0.011)\n",
            "    Weighted F1 0.661 (0.01)\n",
            "-----------------------------\n",
            "Class Scores\n",
            "-----------------------------\n",
            "       Positive 0.813 (0.009)\n",
            "        Neutral 0.594 (0.011)\n",
            "       Negative 0.581 (0.008)\n",
            "          Mixed 0.237 (0.019)\n"
          ]
        }
      ]
    },
    {
      "cell_type": "code",
      "metadata": {
        "colab": {
          "base_uri": "https://localhost:8080/"
        },
        "id": "8eKt004BKjyT",
        "outputId": "b67fba99-429d-4669-eb69-0fe41aaeafd7"
      },
      "source": [
        "output_model_file = '/content/drive/MyDrive/w266/pytorch_bert_rtgender_easy_data_aug_oversampled.bin'\n",
        "output_vocab_file = './'\n",
        "\n",
        "model_to_save = model\n",
        "torch.save(model_to_save, output_model_file)\n",
        "tokenizer.save_vocabulary(output_vocab_file)\n",
        "\n",
        "print('All files saved')"
      ],
      "execution_count": 30,
      "outputs": [
        {
          "output_type": "stream",
          "name": "stdout",
          "text": [
            "All files saved\n"
          ]
        }
      ]
    }
  ]
}