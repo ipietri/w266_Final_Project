{
  "nbformat": 4,
  "nbformat_minor": 0,
  "metadata": {
    "colab": {
      "name": "RtGender - Annotations - Sentiment - EDA.ipynb",
      "provenance": [],
      "collapsed_sections": [
        "N7PAJ1oIJZfY",
        "sc1LMqJyFbtw",
        "bdsxHUwoJFLf",
        "y1I3qA_jDRAk"
      ],
      "machine_shape": "hm",
      "include_colab_link": true
    },
    "kernelspec": {
      "display_name": "Python 3",
      "language": "python",
      "name": "python3"
    },
    "language_info": {
      "codemirror_mode": {
        "name": "ipython",
        "version": 3
      },
      "file_extension": ".py",
      "mimetype": "text/x-python",
      "name": "python",
      "nbconvert_exporter": "python",
      "pygments_lexer": "ipython3",
      "version": "3.6.6"
    }
  },
  "cells": [
    {
      "cell_type": "markdown",
      "metadata": {
        "id": "view-in-github",
        "colab_type": "text"
      },
      "source": [
        "<a href=\"https://colab.research.google.com/github/ipietri/w266_Final_Project/blob/master/notebooks/RtGender-Notebooks/RtGender_Annotations_Sentiment_EDA.ipynb\" target=\"_parent\"><img src=\"https://colab.research.google.com/assets/colab-badge.svg\" alt=\"Open In Colab\"/></a>"
      ]
    },
    {
      "cell_type": "markdown",
      "metadata": {
        "id": "8OhO4xlwqExT"
      },
      "source": [
        "# RtGender - Annotations - Additional EDA\n",
        "\n"
      ]
    },
    {
      "cell_type": "code",
      "metadata": {
        "id": "cirVs78YksXS",
        "colab": {
          "base_uri": "https://localhost:8080/"
        },
        "outputId": "23a3eb91-7328-4014-b6da-e59ea08e8486"
      },
      "source": [
        "try:\n",
        "  from google.colab import drive\n",
        "  drive.mount('/content/drive', force_remount=True)\n",
        "  path = r'/content/drive/MyDrive/w266'\n",
        "except ModuleNotFoundError:\n",
        "  path = r'data'"
      ],
      "execution_count": 1,
      "outputs": [
        {
          "output_type": "stream",
          "name": "stdout",
          "text": [
            "Mounted at /content/drive\n"
          ]
        }
      ]
    },
    {
      "cell_type": "markdown",
      "metadata": {
        "id": "N7PAJ1oIJZfY"
      },
      "source": [
        "<a id='section01'></a>\n",
        "## Load Modules"
      ]
    },
    {
      "cell_type": "code",
      "metadata": {
        "id": "a-GlywkSFegL"
      },
      "source": [
        "%%capture\n",
        "#!pip install transformers==3.0.2\n",
        "!pip install -q transformers"
      ],
      "execution_count": 2,
      "outputs": []
    },
    {
      "cell_type": "code",
      "metadata": {
        "id": "7IV4cb3abmJP"
      },
      "source": [
        "%%capture\n",
        "!pip install datasets\n",
        "import datasets \n",
        "from datasets import load_dataset, Dataset, DatasetDict"
      ],
      "execution_count": 3,
      "outputs": []
    },
    {
      "cell_type": "code",
      "metadata": {
        "id": "979OUro5Eac3"
      },
      "source": [
        "# Importing the libraries needed\n",
        "import pandas as pd\n",
        "import numpy as np\n",
        "from sklearn.model_selection import train_test_split\n",
        "\n",
        "from sklearn import metrics\n",
        "import torch\n",
        "import seaborn as sns\n",
        "import transformers\n",
        "import json\n",
        "from tqdm import tqdm\n",
        "#from torch.utils.data import Dataset, DataLoader, RandomSampler, SequentialSampler\n",
        "import logging\n",
        "logging.basicConfig(level=logging.ERROR)"
      ],
      "execution_count": 4,
      "outputs": []
    },
    {
      "cell_type": "code",
      "metadata": {
        "id": "sb1Q5N6LGK7z"
      },
      "source": [
        "# Setting up the device for GPU usage\n",
        "\n",
        "from torch import cuda\n",
        "device = 'cuda' if cuda.is_available() else 'cpu'"
      ],
      "execution_count": 5,
      "outputs": []
    },
    {
      "cell_type": "markdown",
      "metadata": {
        "id": "hErgyoZRHSA3"
      },
      "source": [
        "<a id='section02'></a>\n",
        "## Import and Review Data"
      ]
    },
    {
      "cell_type": "code",
      "metadata": {
        "id": "J3FzcAlgEac8",
        "colab": {
          "base_uri": "https://localhost:8080/"
        },
        "outputId": "7ed03c23-a3a7-49c2-d524-979290d46fc4"
      },
      "source": [
        "train_df = pd.read_csv('/content/drive/MyDrive/w266/annotations_train.csv')\n",
        "dev_df = pd.read_csv('/content/drive/MyDrive/w266/annotations_dev.csv')\n",
        "test_df = pd.read_csv('/content/drive/MyDrive/w266/annotations_test.csv')\n",
        "\n",
        "print('train_shape: ',train_df.shape)\n",
        "print('dev_shape: ',dev_df.shape)\n",
        "print('test_shape: ',test_df.shape)"
      ],
      "execution_count": 6,
      "outputs": [
        {
          "output_type": "stream",
          "name": "stdout",
          "text": [
            "train_shape:  (10746, 8)\n",
            "dev_shape:  (2303, 8)\n",
            "test_shape:  (2303, 8)\n"
          ]
        }
      ]
    },
    {
      "cell_type": "code",
      "metadata": {
        "colab": {
          "base_uri": "https://localhost:8080/",
          "height": 424
        },
        "id": "cLrCe3HjGz00",
        "outputId": "241b1797-a94f-469b-9ac4-3f64c65a7ace"
      },
      "source": [
        "train_df"
      ],
      "execution_count": 7,
      "outputs": [
        {
          "output_type": "execute_result",
          "data": {
            "text/html": [
              "<div>\n",
              "<style scoped>\n",
              "    .dataframe tbody tr th:only-of-type {\n",
              "        vertical-align: middle;\n",
              "    }\n",
              "\n",
              "    .dataframe tbody tr th {\n",
              "        vertical-align: top;\n",
              "    }\n",
              "\n",
              "    .dataframe thead th {\n",
              "        text-align: right;\n",
              "    }\n",
              "</style>\n",
              "<table border=\"1\" class=\"dataframe\">\n",
              "  <thead>\n",
              "    <tr style=\"text-align: right;\">\n",
              "      <th></th>\n",
              "      <th>Unnamed: 0</th>\n",
              "      <th>source</th>\n",
              "      <th>op_gender</th>\n",
              "      <th>post_text</th>\n",
              "      <th>response_text</th>\n",
              "      <th>sentiment</th>\n",
              "      <th>relevance</th>\n",
              "      <th>label</th>\n",
              "    </tr>\n",
              "  </thead>\n",
              "  <tbody>\n",
              "    <tr>\n",
              "      <th>0</th>\n",
              "      <td>3845</td>\n",
              "      <td>facebook_congress</td>\n",
              "      <td>W</td>\n",
              "      <td>Im reading the 3/1 GAO report that finds billi...</td>\n",
              "      <td>Thank you Congresswoman Bass. Keep up the grea...</td>\n",
              "      <td>Positive</td>\n",
              "      <td>ContentPoster</td>\n",
              "      <td>2</td>\n",
              "    </tr>\n",
              "    <tr>\n",
              "      <th>1</th>\n",
              "      <td>9743</td>\n",
              "      <td>fitocracy</td>\n",
              "      <td>M</td>\n",
              "      <td>Being followed by the famous DBJ? Quite an honor.</td>\n",
              "      <td>Well, I am very honored you feel so honored</td>\n",
              "      <td>Positive</td>\n",
              "      <td>Content</td>\n",
              "      <td>2</td>\n",
              "    </tr>\n",
              "    <tr>\n",
              "      <th>2</th>\n",
              "      <td>13041</td>\n",
              "      <td>ted</td>\n",
              "      <td>W</td>\n",
              "      <td>Penelope Boston gave a talk about Planets, exp...</td>\n",
              "      <td>Her opinions seem driven by wishful thinking. ...</td>\n",
              "      <td>Mixed</td>\n",
              "      <td>Content</td>\n",
              "      <td>1</td>\n",
              "    </tr>\n",
              "    <tr>\n",
              "      <th>3</th>\n",
              "      <td>4265</td>\n",
              "      <td>facebook_congress</td>\n",
              "      <td>W</td>\n",
              "      <td>Congress must act to help the 41 million Ameri...</td>\n",
              "      <td>There's no other way out of the enormity excep...</td>\n",
              "      <td>Positive</td>\n",
              "      <td>Content</td>\n",
              "      <td>2</td>\n",
              "    </tr>\n",
              "    <tr>\n",
              "      <th>4</th>\n",
              "      <td>13145</td>\n",
              "      <td>ted</td>\n",
              "      <td>W</td>\n",
              "      <td>Pardis Sabeti gave a talk about Africa, big pr...</td>\n",
              "      <td>What were the benefits of the larger community...</td>\n",
              "      <td>Mixed</td>\n",
              "      <td>Content</td>\n",
              "      <td>1</td>\n",
              "    </tr>\n",
              "    <tr>\n",
              "      <th>...</th>\n",
              "      <td>...</td>\n",
              "      <td>...</td>\n",
              "      <td>...</td>\n",
              "      <td>...</td>\n",
              "      <td>...</td>\n",
              "      <td>...</td>\n",
              "      <td>...</td>\n",
              "      <td>...</td>\n",
              "    </tr>\n",
              "    <tr>\n",
              "      <th>10741</th>\n",
              "      <td>14128</td>\n",
              "      <td>ted</td>\n",
              "      <td>M</td>\n",
              "      <td>Bjarke Ingels gave a talk about architecture, ...</td>\n",
              "      <td>Brillant!! Ingels has a terrific future ahead ...</td>\n",
              "      <td>Positive</td>\n",
              "      <td>Content</td>\n",
              "      <td>2</td>\n",
              "    </tr>\n",
              "    <tr>\n",
              "      <th>10742</th>\n",
              "      <td>5589</td>\n",
              "      <td>facebook_congress</td>\n",
              "      <td>W</td>\n",
              "      <td>I was honored to meet with Eliseo Medina and F...</td>\n",
              "      <td>The Democrats view this as another way to use ...</td>\n",
              "      <td>Negative</td>\n",
              "      <td>Content</td>\n",
              "      <td>0</td>\n",
              "    </tr>\n",
              "    <tr>\n",
              "      <th>10743</th>\n",
              "      <td>10672</td>\n",
              "      <td>reddit</td>\n",
              "      <td>W</td>\n",
              "      <td>SO YOU LIKE STACKING CUPS?! DO WE HAVE A GREAT...</td>\n",
              "      <td>Is this real?? Well at least this kid will be ...</td>\n",
              "      <td>Mixed</td>\n",
              "      <td>Content</td>\n",
              "      <td>1</td>\n",
              "    </tr>\n",
              "    <tr>\n",
              "      <th>10744</th>\n",
              "      <td>4839</td>\n",
              "      <td>facebook_congress</td>\n",
              "      <td>M</td>\n",
              "      <td>Try this Brian Schatz FB bumper sticker - an e...</td>\n",
              "      <td>EH BRIAN WEA MY STICKA N WAT OBAMA STAY ON UM ...</td>\n",
              "      <td>Neutral</td>\n",
              "      <td>Irrelevant</td>\n",
              "      <td>1</td>\n",
              "    </tr>\n",
              "    <tr>\n",
              "      <th>10745</th>\n",
              "      <td>14093</td>\n",
              "      <td>ted</td>\n",
              "      <td>W</td>\n",
              "      <td>Bren Brown gave a talk about communication, cu...</td>\n",
              "      <td>Thank you for your talk. This video was a grea...</td>\n",
              "      <td>Positive</td>\n",
              "      <td>Content</td>\n",
              "      <td>2</td>\n",
              "    </tr>\n",
              "  </tbody>\n",
              "</table>\n",
              "<p>10746 rows × 8 columns</p>\n",
              "</div>"
            ],
            "text/plain": [
              "       Unnamed: 0             source op_gender  ... sentiment      relevance label\n",
              "0            3845  facebook_congress         W  ...  Positive  ContentPoster     2\n",
              "1            9743          fitocracy         M  ...  Positive        Content     2\n",
              "2           13041                ted         W  ...     Mixed        Content     1\n",
              "3            4265  facebook_congress         W  ...  Positive        Content     2\n",
              "4           13145                ted         W  ...     Mixed        Content     1\n",
              "...           ...                ...       ...  ...       ...            ...   ...\n",
              "10741       14128                ted         M  ...  Positive        Content     2\n",
              "10742        5589  facebook_congress         W  ...  Negative        Content     0\n",
              "10743       10672             reddit         W  ...     Mixed        Content     1\n",
              "10744        4839  facebook_congress         M  ...   Neutral     Irrelevant     1\n",
              "10745       14093                ted         W  ...  Positive        Content     2\n",
              "\n",
              "[10746 rows x 8 columns]"
            ]
          },
          "metadata": {},
          "execution_count": 7
        }
      ]
    },
    {
      "cell_type": "markdown",
      "metadata": {
        "id": "usyKbI9IH19e"
      },
      "source": [
        "Distribution"
      ]
    },
    {
      "cell_type": "code",
      "metadata": {
        "colab": {
          "base_uri": "https://localhost:8080/"
        },
        "id": "jeBhnH3xG2AL",
        "outputId": "ed6c3ee9-940b-4bb2-c13f-2f1cf5f12628"
      },
      "source": [
        "print(\"train distribution: \", train_df.sentiment.value_counts(normalize=True))\n",
        "print(\"-\"*20)\n",
        "print(\"dev distribution: \", dev_df.sentiment.value_counts(normalize=True))\n",
        "print(\"-\"*20)\n",
        "print(\"test distribution: \", test_df.sentiment.value_counts(normalize=True))"
      ],
      "execution_count": 8,
      "outputs": [
        {
          "output_type": "stream",
          "name": "stdout",
          "text": [
            "train distribution:  Positive    0.492835\n",
            "Neutral     0.243067\n",
            "Negative    0.162944\n",
            "Mixed       0.101154\n",
            "Name: sentiment, dtype: float64\n",
            "--------------------\n",
            "dev distribution:  Positive    0.485454\n",
            "Neutral     0.245766\n",
            "Negative    0.165436\n",
            "Mixed       0.103343\n",
            "Name: sentiment, dtype: float64\n",
            "--------------------\n",
            "test distribution:  Positive    0.474598\n",
            "Neutral     0.248372\n",
            "Negative    0.176726\n",
            "Mixed       0.100304\n",
            "Name: sentiment, dtype: float64\n"
          ]
        }
      ]
    },
    {
      "cell_type": "markdown",
      "metadata": {
        "id": "GUhmG9dNH1Hh"
      },
      "source": [
        "Relevance"
      ]
    },
    {
      "cell_type": "code",
      "metadata": {
        "colab": {
          "base_uri": "https://localhost:8080/"
        },
        "id": "MeKlK27kH8Gt",
        "outputId": "fff4bdcb-aefa-4663-e326-13b7632ac59e"
      },
      "source": [
        "print(\"train distribution: \", train_df.relevance.value_counts(normalize=True))\n",
        "print(\"-\"*20)\n",
        "print(\"dev distribution: \", dev_df.relevance.value_counts(normalize=True))\n",
        "print(\"-\"*20)\n",
        "print(\"test distribution: \", test_df.relevance.value_counts(normalize=True))"
      ],
      "execution_count": 9,
      "outputs": [
        {
          "output_type": "stream",
          "name": "stdout",
          "text": [
            "train distribution:  Content          0.526987\n",
            "ContentPoster    0.206216\n",
            "Poster           0.149172\n",
            "Irrelevant       0.117625\n",
            "Name: relevance, dtype: float64\n",
            "--------------------\n",
            "dev distribution:  Content          0.529744\n",
            "ContentPoster    0.194095\n",
            "Poster           0.162831\n",
            "Irrelevant       0.113330\n",
            "Name: relevance, dtype: float64\n",
            "--------------------\n",
            "test distribution:  Content          0.531046\n",
            "ContentPoster    0.201476\n",
            "Poster           0.146765\n",
            "Irrelevant       0.120712\n",
            "Name: relevance, dtype: float64\n"
          ]
        }
      ]
    },
    {
      "cell_type": "markdown",
      "metadata": {
        "id": "CZXPni1uJcy3"
      },
      "source": [
        "Gender"
      ]
    },
    {
      "cell_type": "code",
      "metadata": {
        "colab": {
          "base_uri": "https://localhost:8080/"
        },
        "id": "hyKcjfqaJdx_",
        "outputId": "51aad8f9-8382-412a-9620-3a5d3f79441e"
      },
      "source": [
        "print(\"train distribution: \", train_df.op_gender.value_counts(normalize=True))\n",
        "print(\"-\"*20)\n",
        "print(\"dev distribution: \", dev_df.op_gender.value_counts(normalize=True))\n",
        "print(\"-\"*20)\n",
        "print(\"test distribution: \", test_df.op_gender.value_counts(normalize=True))"
      ],
      "execution_count": 10,
      "outputs": [
        {
          "output_type": "stream",
          "name": "stdout",
          "text": [
            "train distribution:  M    0.504095\n",
            "W    0.495905\n",
            "Name: op_gender, dtype: float64\n",
            "--------------------\n",
            "dev distribution:  M    0.517586\n",
            "W    0.482414\n",
            "Name: op_gender, dtype: float64\n",
            "--------------------\n",
            "test distribution:  M    0.514112\n",
            "W    0.485888\n",
            "Name: op_gender, dtype: float64\n"
          ]
        }
      ]
    },
    {
      "cell_type": "markdown",
      "metadata": {
        "id": "BpbhJO3lJZkH"
      },
      "source": [
        "Cross Tab"
      ]
    },
    {
      "cell_type": "code",
      "metadata": {
        "colab": {
          "base_uri": "https://localhost:8080/",
          "height": 206
        },
        "id": "QOMJzll0JY1N",
        "outputId": "b2e0ef1b-f81e-43ba-8f63-8abb44e76d38"
      },
      "source": [
        "#sentiment and relevance\n",
        "pd.crosstab(train_df.relevance, train_df.sentiment, normalize='columns')"
      ],
      "execution_count": 11,
      "outputs": [
        {
          "output_type": "execute_result",
          "data": {
            "text/html": [
              "<div>\n",
              "<style scoped>\n",
              "    .dataframe tbody tr th:only-of-type {\n",
              "        vertical-align: middle;\n",
              "    }\n",
              "\n",
              "    .dataframe tbody tr th {\n",
              "        vertical-align: top;\n",
              "    }\n",
              "\n",
              "    .dataframe thead th {\n",
              "        text-align: right;\n",
              "    }\n",
              "</style>\n",
              "<table border=\"1\" class=\"dataframe\">\n",
              "  <thead>\n",
              "    <tr style=\"text-align: right;\">\n",
              "      <th>sentiment</th>\n",
              "      <th>Mixed</th>\n",
              "      <th>Negative</th>\n",
              "      <th>Neutral</th>\n",
              "      <th>Positive</th>\n",
              "    </tr>\n",
              "    <tr>\n",
              "      <th>relevance</th>\n",
              "      <th></th>\n",
              "      <th></th>\n",
              "      <th></th>\n",
              "      <th></th>\n",
              "    </tr>\n",
              "  </thead>\n",
              "  <tbody>\n",
              "    <tr>\n",
              "      <th>Content</th>\n",
              "      <td>0.595216</td>\n",
              "      <td>0.552256</td>\n",
              "      <td>0.590735</td>\n",
              "      <td>0.473187</td>\n",
              "    </tr>\n",
              "    <tr>\n",
              "      <th>ContentPoster</th>\n",
              "      <td>0.197792</td>\n",
              "      <td>0.154769</td>\n",
              "      <td>0.084992</td>\n",
              "      <td>0.284743</td>\n",
              "    </tr>\n",
              "    <tr>\n",
              "      <th>Irrelevant</th>\n",
              "      <td>0.102116</td>\n",
              "      <td>0.135922</td>\n",
              "      <td>0.261485</td>\n",
              "      <td>0.043807</td>\n",
              "    </tr>\n",
              "    <tr>\n",
              "      <th>Poster</th>\n",
              "      <td>0.104876</td>\n",
              "      <td>0.157053</td>\n",
              "      <td>0.062787</td>\n",
              "      <td>0.198263</td>\n",
              "    </tr>\n",
              "  </tbody>\n",
              "</table>\n",
              "</div>"
            ],
            "text/plain": [
              "sentiment         Mixed  Negative   Neutral  Positive\n",
              "relevance                                            \n",
              "Content        0.595216  0.552256  0.590735  0.473187\n",
              "ContentPoster  0.197792  0.154769  0.084992  0.284743\n",
              "Irrelevant     0.102116  0.135922  0.261485  0.043807\n",
              "Poster         0.104876  0.157053  0.062787  0.198263"
            ]
          },
          "metadata": {},
          "execution_count": 11
        }
      ]
    },
    {
      "cell_type": "code",
      "metadata": {
        "colab": {
          "base_uri": "https://localhost:8080/",
          "height": 143
        },
        "id": "EwPGgKNrNCjL",
        "outputId": "3115359a-76e4-421a-a86b-9705a7e84699"
      },
      "source": [
        "#sentiment and op_gender\n",
        "pd.crosstab(train_df.op_gender, train_df.sentiment, normalize='columns')"
      ],
      "execution_count": 12,
      "outputs": [
        {
          "output_type": "execute_result",
          "data": {
            "text/html": [
              "<div>\n",
              "<style scoped>\n",
              "    .dataframe tbody tr th:only-of-type {\n",
              "        vertical-align: middle;\n",
              "    }\n",
              "\n",
              "    .dataframe tbody tr th {\n",
              "        vertical-align: top;\n",
              "    }\n",
              "\n",
              "    .dataframe thead th {\n",
              "        text-align: right;\n",
              "    }\n",
              "</style>\n",
              "<table border=\"1\" class=\"dataframe\">\n",
              "  <thead>\n",
              "    <tr style=\"text-align: right;\">\n",
              "      <th>sentiment</th>\n",
              "      <th>Mixed</th>\n",
              "      <th>Negative</th>\n",
              "      <th>Neutral</th>\n",
              "      <th>Positive</th>\n",
              "    </tr>\n",
              "    <tr>\n",
              "      <th>op_gender</th>\n",
              "      <th></th>\n",
              "      <th></th>\n",
              "      <th></th>\n",
              "      <th></th>\n",
              "    </tr>\n",
              "  </thead>\n",
              "  <tbody>\n",
              "    <tr>\n",
              "      <th>M</th>\n",
              "      <td>0.514259</td>\n",
              "      <td>0.550543</td>\n",
              "      <td>0.536753</td>\n",
              "      <td>0.470544</td>\n",
              "    </tr>\n",
              "    <tr>\n",
              "      <th>W</th>\n",
              "      <td>0.485741</td>\n",
              "      <td>0.449457</td>\n",
              "      <td>0.463247</td>\n",
              "      <td>0.529456</td>\n",
              "    </tr>\n",
              "  </tbody>\n",
              "</table>\n",
              "</div>"
            ],
            "text/plain": [
              "sentiment     Mixed  Negative   Neutral  Positive\n",
              "op_gender                                        \n",
              "M          0.514259  0.550543  0.536753  0.470544\n",
              "W          0.485741  0.449457  0.463247  0.529456"
            ]
          },
          "metadata": {},
          "execution_count": 12
        }
      ]
    },
    {
      "cell_type": "markdown",
      "metadata": {
        "id": "sc1LMqJyFbtw"
      },
      "source": [
        "## Determine Max Length"
      ]
    },
    {
      "cell_type": "code",
      "metadata": {
        "colab": {
          "base_uri": "https://localhost:8080/"
        },
        "id": "YhylD3KfIFIy",
        "outputId": "88fa93bc-bb04-4b68-c2c9-d37660f1e2e9"
      },
      "source": [
        "# find the P99 of length for response_text and set that as the max length \n",
        "max_length = train_df['response_text'].astype(str).map(len).quantile(0.99)\n",
        "print(f\"99th %tile of response_text length: {max_length}\")"
      ],
      "execution_count": 13,
      "outputs": [
        {
          "output_type": "stream",
          "name": "stdout",
          "text": [
            "99th %tile of response_text length: 287.0\n"
          ]
        }
      ]
    },
    {
      "cell_type": "markdown",
      "metadata": {
        "id": "VC6VWckxMuME"
      },
      "source": [
        "# Create multi class label"
      ]
    },
    {
      "cell_type": "code",
      "metadata": {
        "id": "gXzE_nXUMpfp"
      },
      "source": [
        "# add a dummy variable for the 4 sentiment classes \n",
        "sentiment_mappings_4 = {'Positive': 2, 'Mixed': 3, 'Neutral': 1, 'Negative':0}\n",
        "train_df['labels_4'] = train_df.sentiment.map(sentiment_mappings_4)\n",
        "dev_df['labels_4'] = dev_df.sentiment.map(sentiment_mappings_4)\n",
        "test_df['labels_4'] = test_df.sentiment.map(sentiment_mappings_4)"
      ],
      "execution_count": 14,
      "outputs": []
    },
    {
      "cell_type": "markdown",
      "metadata": {
        "id": "03ofnoLfO05F"
      },
      "source": [
        "#Over Sample"
      ]
    },
    {
      "cell_type": "code",
      "metadata": {
        "colab": {
          "base_uri": "https://localhost:8080/"
        },
        "id": "SqR38HApMtHe",
        "outputId": "23e8b46a-e690-476c-dfa9-0ea52d4dc645"
      },
      "source": [
        "#Positive has the largest n-count so oversample each of the minority classes to have the largest number\n",
        "print(\"train distribution: \", train_df.sentiment.value_counts(normalize=False))"
      ],
      "execution_count": 15,
      "outputs": [
        {
          "output_type": "stream",
          "name": "stdout",
          "text": [
            "train distribution:  Positive    5296\n",
            "Neutral     2612\n",
            "Negative    1751\n",
            "Mixed       1087\n",
            "Name: sentiment, dtype: int64\n"
          ]
        }
      ]
    },
    {
      "cell_type": "code",
      "metadata": {
        "id": "OUcQODUaN8in"
      },
      "source": [
        "additional_neutral = train_df[train_df.sentiment == 'Neutral'].sample(5296 -2612, replace=True, random_state=12345)\n",
        "additional_mixed = train_df[train_df.sentiment == 'Mixed'].sample(5296 -1087, replace=True, random_state=12345)\n",
        "additional_neg = train_df[train_df.sentiment == 'Negative'].sample(5296 -1751, replace=True, random_state=12345)\n",
        "\n",
        "train_data_oversampled = pd.concat([train_df,additional_neutral,additional_mixed,additional_neg], axis=0)"
      ],
      "execution_count": 16,
      "outputs": []
    },
    {
      "cell_type": "code",
      "metadata": {
        "colab": {
          "base_uri": "https://localhost:8080/"
        },
        "id": "HQxfyTI0QYLb",
        "outputId": "de86c1c3-e216-4094-ce50-65114fea7fe7"
      },
      "source": [
        "train_data_oversampled['sentiment'].value_counts(normalize=True)\n",
        "print('train_shape: ',train_data_oversampled.shape)"
      ],
      "execution_count": 17,
      "outputs": [
        {
          "output_type": "stream",
          "name": "stdout",
          "text": [
            "train_shape:  (21184, 9)\n"
          ]
        }
      ]
    },
    {
      "cell_type": "code",
      "metadata": {
        "colab": {
          "base_uri": "https://localhost:8080/"
        },
        "id": "aMbnHItkTQjq",
        "outputId": "88d8a387-125f-45fd-fade-e80d1b4d8197"
      },
      "source": [
        "print(\"oversampled train distribution: \", train_data_oversampled.op_gender.value_counts(normalize=True))\n"
      ],
      "execution_count": 18,
      "outputs": [
        {
          "output_type": "stream",
          "name": "stdout",
          "text": [
            "oversampled train distribution:  M    0.519165\n",
            "W    0.480835\n",
            "Name: op_gender, dtype: float64\n"
          ]
        }
      ]
    },
    {
      "cell_type": "code",
      "metadata": {
        "id": "soCA2qwPRGrB"
      },
      "source": [
        "# save out oversampled train_df and newly labeled dev and test \n",
        "train_data_oversampled.to_csv('/content/drive/MyDrive/w266/train_oversampled.csv', index=False)\n",
        "train_df.to_csv('/content/drive/MyDrive/w266/annotations_train.csv', index=False)\n",
        "dev_df.to_csv('/content/drive/MyDrive/w266/annotations_dev.csv', index=False)\n",
        "test_df.to_csv('/content/drive/MyDrive/w266/annotations_test.csv', index=False)\n",
        "\n",
        "\n"
      ],
      "execution_count": 21,
      "outputs": []
    },
    {
      "cell_type": "code",
      "metadata": {
        "colab": {
          "base_uri": "https://localhost:8080/",
          "height": 424
        },
        "id": "b_iQyJzVSwor",
        "outputId": "b86927e0-854b-400f-8f62-29c202b8ba20"
      },
      "source": [
        "train_data_oversampled"
      ],
      "execution_count": 20,
      "outputs": [
        {
          "output_type": "execute_result",
          "data": {
            "text/html": [
              "<div>\n",
              "<style scoped>\n",
              "    .dataframe tbody tr th:only-of-type {\n",
              "        vertical-align: middle;\n",
              "    }\n",
              "\n",
              "    .dataframe tbody tr th {\n",
              "        vertical-align: top;\n",
              "    }\n",
              "\n",
              "    .dataframe thead th {\n",
              "        text-align: right;\n",
              "    }\n",
              "</style>\n",
              "<table border=\"1\" class=\"dataframe\">\n",
              "  <thead>\n",
              "    <tr style=\"text-align: right;\">\n",
              "      <th></th>\n",
              "      <th>Unnamed: 0</th>\n",
              "      <th>source</th>\n",
              "      <th>op_gender</th>\n",
              "      <th>post_text</th>\n",
              "      <th>response_text</th>\n",
              "      <th>sentiment</th>\n",
              "      <th>relevance</th>\n",
              "      <th>label</th>\n",
              "      <th>labels_4</th>\n",
              "    </tr>\n",
              "  </thead>\n",
              "  <tbody>\n",
              "    <tr>\n",
              "      <th>0</th>\n",
              "      <td>3845</td>\n",
              "      <td>facebook_congress</td>\n",
              "      <td>W</td>\n",
              "      <td>Im reading the 3/1 GAO report that finds billi...</td>\n",
              "      <td>Thank you Congresswoman Bass. Keep up the grea...</td>\n",
              "      <td>Positive</td>\n",
              "      <td>ContentPoster</td>\n",
              "      <td>2</td>\n",
              "      <td>2</td>\n",
              "    </tr>\n",
              "    <tr>\n",
              "      <th>1</th>\n",
              "      <td>9743</td>\n",
              "      <td>fitocracy</td>\n",
              "      <td>M</td>\n",
              "      <td>Being followed by the famous DBJ? Quite an honor.</td>\n",
              "      <td>Well, I am very honored you feel so honored</td>\n",
              "      <td>Positive</td>\n",
              "      <td>Content</td>\n",
              "      <td>2</td>\n",
              "      <td>2</td>\n",
              "    </tr>\n",
              "    <tr>\n",
              "      <th>2</th>\n",
              "      <td>13041</td>\n",
              "      <td>ted</td>\n",
              "      <td>W</td>\n",
              "      <td>Penelope Boston gave a talk about Planets, exp...</td>\n",
              "      <td>Her opinions seem driven by wishful thinking. ...</td>\n",
              "      <td>Mixed</td>\n",
              "      <td>Content</td>\n",
              "      <td>1</td>\n",
              "      <td>3</td>\n",
              "    </tr>\n",
              "    <tr>\n",
              "      <th>3</th>\n",
              "      <td>4265</td>\n",
              "      <td>facebook_congress</td>\n",
              "      <td>W</td>\n",
              "      <td>Congress must act to help the 41 million Ameri...</td>\n",
              "      <td>There's no other way out of the enormity excep...</td>\n",
              "      <td>Positive</td>\n",
              "      <td>Content</td>\n",
              "      <td>2</td>\n",
              "      <td>2</td>\n",
              "    </tr>\n",
              "    <tr>\n",
              "      <th>4</th>\n",
              "      <td>13145</td>\n",
              "      <td>ted</td>\n",
              "      <td>W</td>\n",
              "      <td>Pardis Sabeti gave a talk about Africa, big pr...</td>\n",
              "      <td>What were the benefits of the larger community...</td>\n",
              "      <td>Mixed</td>\n",
              "      <td>Content</td>\n",
              "      <td>1</td>\n",
              "      <td>3</td>\n",
              "    </tr>\n",
              "    <tr>\n",
              "      <th>...</th>\n",
              "      <td>...</td>\n",
              "      <td>...</td>\n",
              "      <td>...</td>\n",
              "      <td>...</td>\n",
              "      <td>...</td>\n",
              "      <td>...</td>\n",
              "      <td>...</td>\n",
              "      <td>...</td>\n",
              "      <td>...</td>\n",
              "    </tr>\n",
              "    <tr>\n",
              "      <th>1940</th>\n",
              "      <td>6561</td>\n",
              "      <td>facebook_congress</td>\n",
              "      <td>W</td>\n",
              "      <td>It was terrific to have the chance to hear fro...</td>\n",
              "      <td>\"Committed to making sure we don't lose our he...</td>\n",
              "      <td>Negative</td>\n",
              "      <td>Poster</td>\n",
              "      <td>0</td>\n",
              "      <td>0</td>\n",
              "    </tr>\n",
              "    <tr>\n",
              "      <th>600</th>\n",
              "      <td>3829</td>\n",
              "      <td>facebook_congress</td>\n",
              "      <td>M</td>\n",
              "      <td>Johnny will join Tim Bryant on WGAU 1340 AM (A...</td>\n",
              "      <td>Both Isakson and Chambliss voted to TABLE Rand...</td>\n",
              "      <td>Negative</td>\n",
              "      <td>Poster</td>\n",
              "      <td>0</td>\n",
              "      <td>0</td>\n",
              "    </tr>\n",
              "    <tr>\n",
              "      <th>1625</th>\n",
              "      <td>11700</td>\n",
              "      <td>reddit</td>\n",
              "      <td>W</td>\n",
              "      <td>It wouldnt disintegrate you.</td>\n",
              "      <td>I think a magic beam of pure light would disin...</td>\n",
              "      <td>Negative</td>\n",
              "      <td>Content</td>\n",
              "      <td>0</td>\n",
              "      <td>0</td>\n",
              "    </tr>\n",
              "    <tr>\n",
              "      <th>7110</th>\n",
              "      <td>5668</td>\n",
              "      <td>facebook_congress</td>\n",
              "      <td>M</td>\n",
              "      <td>Our contest for a chance to attend a special c...</td>\n",
              "      <td>I'd rather have a root canal . . .</td>\n",
              "      <td>Negative</td>\n",
              "      <td>ContentPoster</td>\n",
              "      <td>0</td>\n",
              "      <td>0</td>\n",
              "    </tr>\n",
              "    <tr>\n",
              "      <th>10071</th>\n",
              "      <td>5920</td>\n",
              "      <td>facebook_congress</td>\n",
              "      <td>W</td>\n",
              "      <td>Looking forward to appearing on the Alex Witt ...</td>\n",
              "      <td>You get elected to lead....then you get on TV ...</td>\n",
              "      <td>Negative</td>\n",
              "      <td>ContentPoster</td>\n",
              "      <td>0</td>\n",
              "      <td>0</td>\n",
              "    </tr>\n",
              "  </tbody>\n",
              "</table>\n",
              "<p>21184 rows × 9 columns</p>\n",
              "</div>"
            ],
            "text/plain": [
              "       Unnamed: 0             source op_gender  ...      relevance label labels_4\n",
              "0            3845  facebook_congress         W  ...  ContentPoster     2        2\n",
              "1            9743          fitocracy         M  ...        Content     2        2\n",
              "2           13041                ted         W  ...        Content     1        3\n",
              "3            4265  facebook_congress         W  ...        Content     2        2\n",
              "4           13145                ted         W  ...        Content     1        3\n",
              "...           ...                ...       ...  ...            ...   ...      ...\n",
              "1940         6561  facebook_congress         W  ...         Poster     0        0\n",
              "600          3829  facebook_congress         M  ...         Poster     0        0\n",
              "1625        11700             reddit         W  ...        Content     0        0\n",
              "7110         5668  facebook_congress         M  ...  ContentPoster     0        0\n",
              "10071        5920  facebook_congress         W  ...  ContentPoster     0        0\n",
              "\n",
              "[21184 rows x 9 columns]"
            ]
          },
          "metadata": {},
          "execution_count": 20
        }
      ]
    },
    {
      "cell_type": "code",
      "metadata": {
        "id": "vRNic6dAUTK6"
      },
      "source": [
        ""
      ],
      "execution_count": null,
      "outputs": []
    }
  ]
}