{
  "nbformat": 4,
  "nbformat_minor": 0,
  "metadata": {
    "colab": {
      "name": "Sentiment ScalesGrayscaling.ipynb",
      "provenance": [],
      "collapsed_sections": [
        "N7PAJ1oIJZfY"
      ],
      "machine_shape": "hm",
      "include_colab_link": true
    },
    "kernelspec": {
      "display_name": "Python 3",
      "language": "python",
      "name": "python3"
    },
    "language_info": {
      "codemirror_mode": {
        "name": "ipython",
        "version": 3
      },
      "file_extension": ".py",
      "mimetype": "text/x-python",
      "name": "python",
      "nbconvert_exporter": "python",
      "pygments_lexer": "ipython3",
      "version": "3.6.6"
    }
  },
  "cells": [
    {
      "cell_type": "markdown",
      "metadata": {
        "id": "view-in-github",
        "colab_type": "text"
      },
      "source": [
        "<a href=\"https://colab.research.google.com/github/ipietri/w266_Final_Project/blob/master/notebooks/RtGender-Notebooks/Sentiment_ScalesGrayscaling.ipynb\" target=\"_parent\"><img src=\"https://colab.research.google.com/assets/colab-badge.svg\" alt=\"Open In Colab\"/></a>"
      ]
    },
    {
      "cell_type": "markdown",
      "metadata": {
        "id": "8OhO4xlwqExT"
      },
      "source": [
        "# Create Sentiment Scales with Greyscaled Language\n",
        "[Code Source](https://github.com/ainagari/scalar_adjs)\n",
        "\n",
        "* [BERT Knows Punta Cana is not just beautiful, it’s gorgeous:\n",
        "Ranking Scalar Adjectives with Contextualised Representations](https://aclanthology.org/2020.emnlp-main.598.pdf)\\\n",
        "*[Scalar Adjective Identification and Multilingual Ranking\n",
        "](https://arxiv.org/abs/2105.01180)\\\n",
        "*[Identifying and Ordering Scalar Adjectives Using Lexical Substitution](https://www.proquest.com/openview/aade435a5bbdcf41e2b8c24e648826cc/1.pdf?pq-origsite=gscholar&cbl=18750)\\\n",
        "*[A Gold Standard for Scalar Adjectives](https://aclanthology.org/L16-1424/)\n"
      ]
    },
    {
      "cell_type": "code",
      "metadata": {
        "colab": {
          "base_uri": "https://localhost:8080/"
        },
        "id": "cirVs78YksXS",
        "outputId": "cbec0714-0c35-472c-dda7-85a772f0b267"
      },
      "source": [
        "try:\n",
        "  from google.colab import drive\n",
        "  drive.mount('/content/drive', force_remount=True)\n",
        "  path = r'/content/drive/MyDrive/w266'\n",
        "except ModuleNotFoundError:\n",
        "  path = r'data'"
      ],
      "execution_count": 1,
      "outputs": [
        {
          "output_type": "stream",
          "name": "stdout",
          "text": [
            "Mounted at /content/drive\n"
          ]
        }
      ]
    },
    {
      "cell_type": "markdown",
      "metadata": {
        "id": "N7PAJ1oIJZfY"
      },
      "source": [
        "<a id='section01'></a>\n",
        "## Load Modules"
      ]
    },
    {
      "cell_type": "code",
      "metadata": {
        "colab": {
          "base_uri": "https://localhost:8080/"
        },
        "id": "p--X9MlxQP05",
        "outputId": "afdb7902-5b5e-479e-ac5f-698942c7f1fc"
      },
      "source": [
        "#!pip install -U nltk\n",
        "import nltk; nltk.download('wordnet')"
      ],
      "execution_count": 2,
      "outputs": [
        {
          "output_type": "stream",
          "name": "stdout",
          "text": [
            "[nltk_data] Downloading package wordnet to /root/nltk_data...\n",
            "[nltk_data]   Unzipping corpora/wordnet.zip.\n"
          ]
        },
        {
          "output_type": "execute_result",
          "data": {
            "text/plain": [
              "True"
            ]
          },
          "metadata": {},
          "execution_count": 2
        }
      ]
    },
    {
      "cell_type": "code",
      "metadata": {
        "id": "a-GlywkSFegL"
      },
      "source": [
        "%%capture\n",
        "!pip install -q transformers"
      ],
      "execution_count": 3,
      "outputs": []
    },
    {
      "cell_type": "code",
      "metadata": {
        "id": "7IV4cb3abmJP"
      },
      "source": [
        "%%capture\n",
        "!pip install datasets\n",
        "import datasets \n",
        "from datasets import load_dataset, Dataset, DatasetDict"
      ],
      "execution_count": 4,
      "outputs": []
    },
    {
      "cell_type": "code",
      "metadata": {
        "id": "979OUro5Eac3"
      },
      "source": [
        "# Importing the libraries needed\n",
        "import pandas as pd\n",
        "import numpy as np\n",
        "from sklearn.model_selection import train_test_split\n",
        "\n",
        "from sklearn import metrics\n",
        "import torch\n",
        "import seaborn as sns\n",
        "import transformers\n",
        "import json\n",
        "from tqdm import tqdm\n",
        "#from torch.utils.data import Dataset, DataLoader, RandomSampler, SequentialSampler\n",
        "import logging\n",
        "logging.basicConfig(level=logging.ERROR)"
      ],
      "execution_count": 5,
      "outputs": []
    },
    {
      "cell_type": "code",
      "metadata": {
        "id": "Q-eMCGrpkQ1E"
      },
      "source": [
        "from nltk.corpus import wordnet as wn\n",
        "import gzip\n",
        "import pickle\n",
        "import numpy as np\n",
        "import sys\n",
        "from scipy.spatial.distance import cosine\n",
        "from operator import itemgetter\n",
        "from collections import defaultdict\n",
        "#from pymagnitude import *\n",
        "import argparse\n",
        "\n",
        "import itertools"
      ],
      "execution_count": 6,
      "outputs": []
    },
    {
      "cell_type": "code",
      "metadata": {
        "colab": {
          "base_uri": "https://localhost:8080/"
        },
        "id": "VcTXavwcTzGT",
        "outputId": "28abf3b6-0298-4333-9fac-9e08a4990edb"
      },
      "source": [
        "# import eda script from github\n",
        "!git clone https://github.com/ainagari/scalar_adjs"
      ],
      "execution_count": 7,
      "outputs": [
        {
          "output_type": "stream",
          "name": "stdout",
          "text": [
            "Cloning into 'scalar_adjs'...\n",
            "remote: Enumerating objects: 854, done.\u001b[K\n",
            "remote: Counting objects: 100% (438/438), done.\u001b[K\n",
            "remote: Compressing objects: 100% (189/189), done.\u001b[K\n",
            "remote: Total 854 (delta 91), reused 358 (delta 45), pack-reused 416\u001b[K\n",
            "Receiving objects: 100% (854/854), 13.47 MiB | 29.35 MiB/s, done.\n",
            "Resolving deltas: 100% (129/129), done.\n"
          ]
        }
      ]
    },
    {
      "cell_type": "code",
      "metadata": {
        "id": "1HucjuuC6RGk"
      },
      "source": [
        "# import fucntions from scalar_adjs\n",
        "import sys\n",
        "\n",
        "# sys.path is a list of absolute path strings\n",
        "sys.path.append('/content/scalar_adjs/')\n",
        "\n",
        "from read_scalar_datasets import read_scales\n"
      ],
      "execution_count": 8,
      "outputs": []
    },
    {
      "cell_type": "markdown",
      "metadata": {
        "id": "vki-cYpURWf4"
      },
      "source": [
        "# Greyscale\n",
        "Adapted from Scalar Adj Code\n",
        "\n"
      ]
    },
    {
      "cell_type": "markdown",
      "metadata": {
        "id": "HMxa-W_awyUI"
      },
      "source": [
        "# [Extract Relevant Text](https://github.com/ainagari/scalar_adjs/blob/master/extract_flickr_scalar.py)"
      ]
    },
    {
      "cell_type": "code",
      "metadata": {
        "id": "uzYGg8Nfukpr"
      },
      "source": [
        "import pickle\n",
        "import pdb\n",
        "import spacy\n",
        "import os\n",
        "\n",
        "nlp = spacy.load(\"en_core_web_sm\")\n",
        "\n",
        "language_str = \"en\" #set to english -- one dataset in English only"
      ],
      "execution_count": 9,
      "outputs": []
    },
    {
      "cell_type": "markdown",
      "metadata": {
        "id": "vswkCWT-ewNj"
      },
      "source": [
        "### Identify the location of every word present the three types of scales\n",
        "Extract and save out as a dictionary for every example that contains at least one scaled word. Adapted from extract_flickr_scalar.py"
      ]
    },
    {
      "cell_type": "code",
      "metadata": {
        "id": "8y5gFIVbveKy"
      },
      "source": [
        "rankings = dict()\n",
        "datanames = [\"demelo\", \"crowd\", \"wilkinson\"]\n",
        "for dataname in datanames:\n",
        "    r = read_scales(\"/content/scalar_adjs/data/\" + dataname + \"/gold_rankings/\")\n",
        "    rankings[dataname] = r\n",
        "\n",
        "my_words = set()\n",
        "for dataname in rankings:\n",
        "    for scale in rankings[dataname]:\n",
        "        for word in rankings[dataname][scale]:\n",
        "            words = word.split(\" || \")\n",
        "            for w in words:\n",
        "                my_words.add(w)\n",
        "\n",
        "word_sentence_dict = dict()\n",
        "for word in my_words:\n",
        "    word_sentence_dict[word] = set()\n",
        "\n",
        "def accepted_pos(pos):\n",
        "    if pos in [\"ADJ\",\"ADV\", \"ADP\",\"VERB\",\"DET\"]:\n",
        "        return True\n",
        "    return False\n",
        "\n"
      ],
      "execution_count": 10,
      "outputs": []
    },
    {
      "cell_type": "markdown",
      "metadata": {
        "id": "jiDXVUW7Vn_y"
      },
      "source": [
        "## Identify the position of the word which exists in any of the scales"
      ]
    },
    {
      "cell_type": "markdown",
      "metadata": {
        "id": "fod_2GUQ4_Gh"
      },
      "source": [
        "## Create Scaled Dictionaries with Grey Scaling"
      ]
    },
    {
      "cell_type": "code",
      "metadata": {
        "id": "77YAYRVDc2xb"
      },
      "source": [
        "# create a nested dictionary with every scale, scale list with equalities, and all words in the scale\n",
        "\n",
        "import collections\n",
        "\n",
        "scales_dict = collections.defaultdict(dict)\n",
        "\n",
        "for dataname in datanames:\n",
        "  for scale_file_name, scale in rankings[dataname].items():\n",
        "    words_in_scale = []\n",
        "    for ws in scale:\n",
        "      # split if there are ties\n",
        "      words_in_scale.extend(ws.split(\" || \"))\n",
        "    scales_dict[dataname][str(scale)] = tuple(words_in_scale)\n"
      ],
      "execution_count": 11,
      "outputs": []
    },
    {
      "cell_type": "markdown",
      "metadata": {
        "id": "gM_7-hjn5DRS"
      },
      "source": [
        "  Since there are ties in our scales\n",
        "  the milder word may be one or more words.\n",
        "  So if the original word is foo || bar and the \n",
        "  milder word is foolish || barish this \n",
        "  {foo: foolish, foo: barish, bar: foolish,  bar: barish}"
      ]
    },
    {
      "cell_type": "code",
      "metadata": {
        "id": "kvfsP1y8jJwz"
      },
      "source": [
        "scales_with_milder_option = collections.defaultdict(lambda: collections.defaultdict(dict))\n",
        "\n",
        "### iterate through temp dictionaries and create a master dictionary\n",
        "for data_name in datanames:\n",
        "  for scale_name, words in scales_dict[data_name].items():\n",
        "    '''\n",
        "    Sample input: scale_name = ['harmful', 'toxic', 'deadly']\n",
        "    Sample output: {'deadly': ['harmful', 'toxic'], 'toxic': ['harmful']}\n",
        "    '''\n",
        "    ### convert key from string to list\n",
        "    # drop first and last characters which are brackets[]\n",
        "    scale_name = scale_name[2:-1].replace(\"'\", \"\")\n",
        "    scale_name = scale_name.split(\", \") \n",
        "\n",
        "    while len(scale_name) > 1:\n",
        "      most_extreme_words = scale_name[-1].split(\" || \")\n",
        "      \n",
        "      milder_words = scale_name[:-1]\n",
        "      milder_list = []\n",
        "      for words in milder_words:\n",
        "        milder_list.extend(words.split(\" || \"))\n",
        "      instance = dict(itertools.product(most_extreme_words, milder_list))\n",
        "\n",
        "      for k in most_extreme_words:\n",
        "          scales_with_milder_option[data_name][k] = milder_list\n",
        "      \n",
        "      # drop most extreme terms\n",
        "      scale_name.pop()"
      ],
      "execution_count": 16,
      "outputs": []
    },
    {
      "cell_type": "code",
      "metadata": {
        "colab": {
          "base_uri": "https://localhost:8080/"
        },
        "id": "wZSccQ6z2Zqr",
        "outputId": "0c4b20a6-f584-48d9-cb0c-a7989ef0c6ad"
      },
      "source": [
        "scales_with_milder_option"
      ],
      "execution_count": 17,
      "outputs": [
        {
          "output_type": "execute_result",
          "data": {
            "text/plain": [
              "defaultdict(<function __main__.<lambda>>,\n",
              "            {'crowd': defaultdict(dict,\n",
              "                         {'abundant': ['plenty', 'vast'],\n",
              "                          'accurate': ['clear'],\n",
              "                          'adequate': ['fine'],\n",
              "                          'admirable': ['fine'],\n",
              "                          'angry': ['upset'],\n",
              "                          'appropriate': ['a-okay', 'okay', 'fine'],\n",
              "                          'awesome': ['fine', 'well'],\n",
              "                          'bankrupt': ['poor', 'indigent'],\n",
              "                          'beautiful': ['fair', 'fairer', 'fairest'],\n",
              "                          'better': ['good'],\n",
              "                          'big': ['sizeable'],\n",
              "                          'bizarre': ['odd'],\n",
              "                          'breathtaking': ['cute',\n",
              "                           'pretty',\n",
              "                           'lovely',\n",
              "                           'lovelier'],\n",
              "                          'broad': ['general'],\n",
              "                          'broader': ['general', 'broad'],\n",
              "                          'celebrated': ['known'],\n",
              "                          'colossal': ['sizeable',\n",
              "                           'huge',\n",
              "                           'major',\n",
              "                           'immense',\n",
              "                           'formidable'],\n",
              "                          'comprehensive': ['general', 'commonplace'],\n",
              "                          'critical': ['graver'],\n",
              "                          'crucial': ['relevant'],\n",
              "                          'daunting': ['tough', 'formidable'],\n",
              "                          'delighted': ['pleased'],\n",
              "                          'distressing': ['bad'],\n",
              "                          'diverse': ['general',\n",
              "                           'broad',\n",
              "                           'broader',\n",
              "                           'wide-ranging'],\n",
              "                          'dreadful': ['awful'],\n",
              "                          'efficient': ['functioning'],\n",
              "                          'embarrassed': ['uncomfortable'],\n",
              "                          'embarrassing': ['uncomfortable'],\n",
              "                          'enormous': ['sizeable', 'big', 'huge'],\n",
              "                          'enraged': ['upset', 'angry'],\n",
              "                          'exact': ['clear', 'accurate', 'precise'],\n",
              "                          'excellent': ['fine', 'satisfactory'],\n",
              "                          'exceptional': ['good', 'better', 'remarkable'],\n",
              "                          'excessive': ['much'],\n",
              "                          'excited': ['pleased', 'happy'],\n",
              "                          'exorbitant': ['costly', 'expensive'],\n",
              "                          'expensive': ['costly'],\n",
              "                          'extensive': ['big'],\n",
              "                          'fairer': ['fair'],\n",
              "                          'fairest': ['fair', 'fairer'],\n",
              "                          'faultless': ['a-okay',\n",
              "                           'okay',\n",
              "                           'fine',\n",
              "                           'appropriate'],\n",
              "                          'feeble': ['little'],\n",
              "                          'formidable': ['sizeable', 'huge', 'major'],\n",
              "                          'global': ['general', 'commonplace'],\n",
              "                          'good': ['adequate', 'fine', 'fitting'],\n",
              "                          'gorgeous': ['cute'],\n",
              "                          'happy': ['pleased'],\n",
              "                          'higher': ['high'],\n",
              "                          'horrendous': ['bad', 'horrific'],\n",
              "                          'horrible': ['lousy', 'miserable'],\n",
              "                          'horrific': ['bad'],\n",
              "                          'huge': ['sizeable', 'big'],\n",
              "                          'immeasurable': ['valuable'],\n",
              "                          'immense': ['sizeable', 'big', 'huge'],\n",
              "                          'impressive': ['fine', 'remarkable'],\n",
              "                          'inadequate': ['low', 'scarce'],\n",
              "                          'incorrect': ['improper', 'poor'],\n",
              "                          'incredible': ['okay'],\n",
              "                          'indigent': ['poor'],\n",
              "                          'least': ['few', 'little'],\n",
              "                          'life-threatening': ['graver', 'critical'],\n",
              "                          'limited': ['few'],\n",
              "                          'lovelier': ['cute', 'pretty', 'lovely'],\n",
              "                          'lovely': ['cute', 'pretty'],\n",
              "                          'ludicrous': ['bad'],\n",
              "                          'major': ['sizeable', 'huge'],\n",
              "                          'marvellous': ['pretty'],\n",
              "                          'marvelous': ['okay'],\n",
              "                          'meagre': ['few', 'limited'],\n",
              "                          'miniscule': ['small', 'minute'],\n",
              "                          'minute': ['small'],\n",
              "                          'miserable': ['unhappy', 'sad'],\n",
              "                          'necessary': ['useful', 'relevant'],\n",
              "                          'noteworthy': ['known'],\n",
              "                          'obnoxious': ['annoying'],\n",
              "                          'optimum': ['efficient'],\n",
              "                          'outstanding': ['qualified', 'excellent'],\n",
              "                          'overwhelmed': ['pleased',\n",
              "                           'happy',\n",
              "                           'excited',\n",
              "                           'delighted'],\n",
              "                          'overwhelming': ['sizeable',\n",
              "                           'huge',\n",
              "                           'major',\n",
              "                           'immense',\n",
              "                           'formidable'],\n",
              "                          'perfect': ['good',\n",
              "                           'better',\n",
              "                           'remarkable',\n",
              "                           'exceptional'],\n",
              "                          'pleased': ['content', 'satisfied'],\n",
              "                          'potent': ['effective'],\n",
              "                          'precise': ['clear', 'accurate'],\n",
              "                          'pretty': ['cute'],\n",
              "                          'problematic': ['hard'],\n",
              "                          'proficient': ['capable', 'qualified'],\n",
              "                          'prominent': ['clear'],\n",
              "                          'rare': ['unusual'],\n",
              "                          'relevant': ['useful'],\n",
              "                          'remarkable': ['fine'],\n",
              "                          'reprehensible': ['unfortunate'],\n",
              "                          'rigorous': ['tough', 'tougher'],\n",
              "                          'satisfactory': ['fine'],\n",
              "                          'scant': ['few', 'limited'],\n",
              "                          'scarce': ['low', 'limited'],\n",
              "                          'severe': ['tough',\n",
              "                           'tougher',\n",
              "                           'rigorous',\n",
              "                           'stringent'],\n",
              "                          'shaky': ['weak'],\n",
              "                          'shitty': ['awful'],\n",
              "                          'skilled': ['capable', 'qualified'],\n",
              "                          'spectacular': ['fine', 'remarkable'],\n",
              "                          'staggering': ['big', 'substantial'],\n",
              "                          'stringent': ['tough', 'tougher', 'rigorous'],\n",
              "                          'sturdy': ['intact'],\n",
              "                          'substantial': ['big'],\n",
              "                          'tenacious': ['hardworking'],\n",
              "                          'terrible': ['sad'],\n",
              "                          'terrific': ['positive'],\n",
              "                          'terrifying': ['scary', 'frightening'],\n",
              "                          'tiny': ['little'],\n",
              "                          'tough': ['hardworking', 'tenacious'],\n",
              "                          'tougher': ['tough'],\n",
              "                          'tremendous': ['sizeable', 'big', 'huge'],\n",
              "                          'unacceptable': ['low', 'scarce', 'inadequate'],\n",
              "                          'universal': ['general', 'commonplace'],\n",
              "                          'unsatisfactory': ['improper', 'poor'],\n",
              "                          'upstanding': ['fine'],\n",
              "                          'valuable': ['useful', 'worthwhile'],\n",
              "                          'vast': ['big'],\n",
              "                          'vulnerable': ['weak', 'shaky'],\n",
              "                          'wide-ranging': ['general', 'broad', 'broader'],\n",
              "                          'worthwhile': ['useful']}),\n",
              "             'demelo': defaultdict(dict,\n",
              "                         {'accessible': ['available'],\n",
              "                          'adjacent': ['nearby', 'near', 'close'],\n",
              "                          'amusing': ['interesting', 'intriguing'],\n",
              "                          'astonishing': ['unexpected'],\n",
              "                          'attractive': ['handsome', 'lovely', 'gorgeous'],\n",
              "                          'authentic': ['good', 'real'],\n",
              "                          'awake': ['alive'],\n",
              "                          'aware': ['alive', 'awake'],\n",
              "                          'bad': ['cheap', 'mediocre'],\n",
              "                          'beautiful': ['handsome', 'lovely', 'gorgeous'],\n",
              "                          'big': ['sizeable'],\n",
              "                          'black': ['dim', 'gloomy', 'dark'],\n",
              "                          'brilliant': ['bright',\n",
              "                           'intelligent',\n",
              "                           'smart',\n",
              "                           'clever'],\n",
              "                          'broken': ['cracked'],\n",
              "                          'careless': ['negligent'],\n",
              "                          'cheap': ['affordable', 'inexpensive'],\n",
              "                          'chubby': ['overweight'],\n",
              "                          'close': ['nearby', 'near'],\n",
              "                          'cold': ['cool', 'refrigerated', 'chilly'],\n",
              "                          'colossal': ['sizeable', 'big', 'large', 'huge'],\n",
              "                          'complete': ['general', 'extensive'],\n",
              "                          'comprehensive': ['general', 'extensive'],\n",
              "                          'concerned': ['interested'],\n",
              "                          'conscious': ['alive', 'awake'],\n",
              "                          'crazy': ['unstable'],\n",
              "                          'critical': ['necessary', 'vital', 'indispensable'],\n",
              "                          'crushed': ['cracked', 'broken'],\n",
              "                          'dangerous': ['unreliable'],\n",
              "                          'dark': ['dim', 'gloomy'],\n",
              "                          'deadly': ['harmful', 'toxic'],\n",
              "                          'deceptive': ['misleading'],\n",
              "                          'defeated': ['disappointed', 'frustrated'],\n",
              "                          'dense': ['thick'],\n",
              "                          'disabled': ['sick', 'ill', 'impaired'],\n",
              "                          'disastrous': ['unfortunate'],\n",
              "                          'eerie': ['strange', 'funny', 'unusual', 'weird'],\n",
              "                          'effortless': ['easy',\n",
              "                           'simple',\n",
              "                           'smooth',\n",
              "                           'painless'],\n",
              "                          'eighth': ['first',\n",
              "                           'second',\n",
              "                           'third',\n",
              "                           'fourth',\n",
              "                           'fifth',\n",
              "                           'sixth',\n",
              "                           'seventh'],\n",
              "                          'emaciated': ['lean',\n",
              "                           'slim',\n",
              "                           'thin',\n",
              "                           'skinny',\n",
              "                           'gaunt'],\n",
              "                          'entertaining': ['interesting', 'intriguing'],\n",
              "                          'equal': ['like'],\n",
              "                          'essential': ['needed', 'necessary'],\n",
              "                          'euphoric': ['happy', 'content'],\n",
              "                          'evil': ['wrong', 'immoral', 'sinful'],\n",
              "                          'exceptional': ['uncommon',\n",
              "                           'unusual',\n",
              "                           'rare',\n",
              "                           'extraordinary'],\n",
              "                          'exciting': ['interesting',\n",
              "                           'intriguing',\n",
              "                           'amusing',\n",
              "                           'entertaining'],\n",
              "                          'extensive': ['general'],\n",
              "                          'extraordinary': ['uncommon', 'unusual', 'rare'],\n",
              "                          'false': ['misleading', 'deceptive', 'fraudulent'],\n",
              "                          'famous': ['known'],\n",
              "                          'farther': ['far'],\n",
              "                          'fascinating': ['interesting',\n",
              "                           'intriguing',\n",
              "                           'amusing',\n",
              "                           'entertaining'],\n",
              "                          'fat': ['overweight', 'chubby'],\n",
              "                          'fatal': ['unfortunate', 'disastrous'],\n",
              "                          'feasible': ['possible', 'realistic'],\n",
              "                          'few': ['some'],\n",
              "                          'fewer': ['some', 'few'],\n",
              "                          'fifth': ['first', 'second', 'third', 'fourth'],\n",
              "                          'forgotten': ['neglected', 'ignored', 'overlooked'],\n",
              "                          'fourth': ['first', 'second', 'third'],\n",
              "                          'fraudulent': ['misleading'],\n",
              "                          'frightening': ['creepy'],\n",
              "                          'frigid': ['cool', 'refrigerated', 'chilly', 'cold'],\n",
              "                          'frozen': ['cool',\n",
              "                           'refrigerated',\n",
              "                           'chilly',\n",
              "                           'cold',\n",
              "                           'frigid'],\n",
              "                          'frustrated': ['disappointed'],\n",
              "                          'full': ['sufficient', 'good', 'wide'],\n",
              "                          'further': ['far'],\n",
              "                          'galore': ['some', 'many', 'numerous'],\n",
              "                          'gaunt': ['lean', 'slim', 'thin', 'skinny'],\n",
              "                          'general': ['broad', 'widespread'],\n",
              "                          'global': ['transnational', 'international'],\n",
              "                          'gloomy': ['dim'],\n",
              "                          'good': ['sufficient'],\n",
              "                          'grave': ['real', 'solemn', 'serious'],\n",
              "                          'happy': ['content', 'satisfied'],\n",
              "                          'higher': ['high'],\n",
              "                          'homicidal': ['violent'],\n",
              "                          'hopeless': ['bleak', 'desperate'],\n",
              "                          'hostile': ['critical', 'negative'],\n",
              "                          'hot': ['flavorful', 'zesty'],\n",
              "                          'huge': ['sizeable', 'big', 'large'],\n",
              "                          'humiliated': ['humbled'],\n",
              "                          'icy': ['cool',\n",
              "                           'refrigerated',\n",
              "                           'chilly',\n",
              "                           'cold',\n",
              "                           'frigid'],\n",
              "                          'ignored': ['neglected'],\n",
              "                          'immaculate': ['clean'],\n",
              "                          'immoral': ['wrong'],\n",
              "                          'impaired': ['sick', 'ill'],\n",
              "                          'impenetrable': ['thick', 'dense'],\n",
              "                          'imperceptible': ['quiet'],\n",
              "                          'impossible': ['impractical', 'unrealistic'],\n",
              "                          'inaudible': ['soft', 'quiet'],\n",
              "                          'indispensable': ['necessary', 'vital'],\n",
              "                          'inexpensive': ['affordable'],\n",
              "                          'infeasible': ['impractical',\n",
              "                           'impracticable',\n",
              "                           'unrealistic'],\n",
              "                          'insane': ['unstable', 'crazy'],\n",
              "                          'intense': ['strong'],\n",
              "                          'international': ['transnational'],\n",
              "                          'intimate': ['friendly', 'cordial', 'warm'],\n",
              "                          'intriguing': ['interesting'],\n",
              "                          'involved': ['interested', 'concerned'],\n",
              "                          'large': ['sizeable'],\n",
              "                          'legendary': ['known', 'famous'],\n",
              "                          'many': ['some'],\n",
              "                          'mesmerizing': ['attractive', 'beautiful'],\n",
              "                          'micro': ['small',\n",
              "                           'smaller',\n",
              "                           'midget',\n",
              "                           'minute',\n",
              "                           'tiny',\n",
              "                           'minuscule'],\n",
              "                          'microscopic': ['small',\n",
              "                           'smaller',\n",
              "                           'midget',\n",
              "                           'minute',\n",
              "                           'tiny',\n",
              "                           'minuscule'],\n",
              "                          'midget': ['small', 'smaller'],\n",
              "                          'minuscule': ['small',\n",
              "                           'smaller',\n",
              "                           'midget',\n",
              "                           'minute'],\n",
              "                          'minute': ['small', 'smaller', 'midget'],\n",
              "                          'moving': ['interesting'],\n",
              "                          'murderous': ['violent'],\n",
              "                          'nationwide': ['statewide'],\n",
              "                          'near': ['close'],\n",
              "                          'necessary': ['needed'],\n",
              "                          'negative': ['critical'],\n",
              "                          'numerous': ['some', 'many'],\n",
              "                          'obese': ['overweight', 'chubby', 'fat'],\n",
              "                          'obscene': ['indecent', 'profane'],\n",
              "                          'obsessed': ['concerned', 'preoccupied'],\n",
              "                          'obsolete': ['old'],\n",
              "                          'outdated': ['old'],\n",
              "                          'overflowing': ['full', 'stuffed', 'overloaded'],\n",
              "                          'overheated': ['warm', 'hot'],\n",
              "                          'overloaded': ['full', 'stuffed'],\n",
              "                          'overlooked': ['neglected'],\n",
              "                          'overripe': ['mature', 'ripe'],\n",
              "                          'overwhelming': ['strong', 'intense', 'terrible'],\n",
              "                          'painful': ['uncomfortable', 'uneasy'],\n",
              "                          'painless': ['easy', 'simple', 'smooth'],\n",
              "                          'pleased': ['content', 'satisfied'],\n",
              "                          'practical': ['possible', 'realistic', 'feasible'],\n",
              "                          'preoccupied': ['concerned'],\n",
              "                          'pretty': ['handsome', 'lovely', 'gorgeous'],\n",
              "                          'private': ['personal'],\n",
              "                          'profane': ['indecent'],\n",
              "                          'quadruple': ['dual',\n",
              "                           'double',\n",
              "                           'doubled',\n",
              "                           'triple',\n",
              "                           'treble'],\n",
              "                          'quiet': ['low', 'subdued'],\n",
              "                          'rare': ['uncommon', 'unusual'],\n",
              "                          'real': ['good'],\n",
              "                          'realistic': ['possible'],\n",
              "                          'reckless': ['negligent', 'careless'],\n",
              "                          'removed': ['far', 'further', 'farther'],\n",
              "                          'required': ['needed', 'necessary'],\n",
              "                          'right': ['acceptable', 'okay', 'alright'],\n",
              "                          'ripe': ['mature'],\n",
              "                          'risky': ['unreliable'],\n",
              "                          'same': ['like', 'equal'],\n",
              "                          'scary': ['creepy'],\n",
              "                          'sealed': ['closed', 'shut'],\n",
              "                          'second': ['first'],\n",
              "                          'secret': ['personal', 'private'],\n",
              "                          'seductive': ['attractive', 'beautiful'],\n",
              "                          'serene': ['calm', 'cool'],\n",
              "                          'serious': ['real', 'solemn'],\n",
              "                          'seventh': ['first',\n",
              "                           'second',\n",
              "                           'third',\n",
              "                           'fourth',\n",
              "                           'fifth',\n",
              "                           'sixth'],\n",
              "                          'sexy': ['attractive'],\n",
              "                          'shut': ['closed'],\n",
              "                          'silent': ['soft', 'quiet', 'inaudible'],\n",
              "                          'sinful': ['wrong', 'immoral'],\n",
              "                          'sinister': ['creepy',\n",
              "                           'scary',\n",
              "                           'frightening',\n",
              "                           'terrifying'],\n",
              "                          'sixth': ['first',\n",
              "                           'second',\n",
              "                           'third',\n",
              "                           'fourth',\n",
              "                           'fifth'],\n",
              "                          'skeletal': ['lean',\n",
              "                           'slim',\n",
              "                           'thin',\n",
              "                           'skinny',\n",
              "                           'gaunt',\n",
              "                           'emaciated'],\n",
              "                          'skinny': ['lean', 'slim', 'thin'],\n",
              "                          'slim': ['lean'],\n",
              "                          'smaller': ['small'],\n",
              "                          'snug': ['close', 'tight'],\n",
              "                          'soaring': ['high', 'higher'],\n",
              "                          'solemn': ['real'],\n",
              "                          'sound': ['reasonable', 'valid'],\n",
              "                          'spicy': ['flavorful', 'zesty'],\n",
              "                          'spotless': ['clean'],\n",
              "                          'stifling': ['warm', 'hot', 'overheated'],\n",
              "                          'stuffed': ['full'],\n",
              "                          'stunning': ['unexpected'],\n",
              "                          'subdued': ['low'],\n",
              "                          'sugary': ['sweet'],\n",
              "                          'suicidal': ['unreliable', 'dangerous', 'risky'],\n",
              "                          'sultry': ['warm', 'hot', 'overheated'],\n",
              "                          'syrupy': ['sweet', 'sugary'],\n",
              "                          'terrible': ['strong', 'intense'],\n",
              "                          'terrifying': ['creepy', 'scary', 'frightening'],\n",
              "                          'thin': ['lean', 'slim'],\n",
              "                          'third': ['first', 'second'],\n",
              "                          'thrilling': ['interesting', 'moving', 'exciting'],\n",
              "                          'tight': ['close'],\n",
              "                          'tiny': ['small', 'smaller', 'midget', 'minute'],\n",
              "                          'toxic': ['harmful'],\n",
              "                          'treble': ['dual', 'double', 'doubled'],\n",
              "                          'triple': ['dual', 'double', 'doubled'],\n",
              "                          'ugly': ['plain', 'unattractive'],\n",
              "                          'unattractive': ['plain'],\n",
              "                          'uneasy': ['uncomfortable'],\n",
              "                          'unfriendly': ['cool', 'chilly'],\n",
              "                          'universal': ['general',\n",
              "                           'extensive',\n",
              "                           'complete',\n",
              "                           'comprehensive'],\n",
              "                          'unrealistic': ['impractical'],\n",
              "                          'unusual': ['strange', 'funny'],\n",
              "                          'valid': ['reasonable'],\n",
              "                          'violent': ['strong',\n",
              "                           'intense',\n",
              "                           'terrible',\n",
              "                           'overwhelming'],\n",
              "                          'visible': ['available', 'accessible'],\n",
              "                          'vital': ['necessary'],\n",
              "                          'warm': ['friendly', 'cordial'],\n",
              "                          'weird': ['strange', 'funny', 'unusual'],\n",
              "                          'wide': ['sufficient'],\n",
              "                          'worldwide': ['statewide', 'nationwide'],\n",
              "                          'worst': ['cheap', 'mediocre', 'bad'],\n",
              "                          'zesty': ['flavorful']}),\n",
              "             'wilkinson': defaultdict(dict,\n",
              "                         {'alike': ['similar'],\n",
              "                          'ancient': ['old'],\n",
              "                          'arid': ['dry'],\n",
              "                          'awesome': ['good', 'great', 'wonderful'],\n",
              "                          'awful': ['bad'],\n",
              "                          'beautiful': ['pretty'],\n",
              "                          'bright': ['light'],\n",
              "                          'cold': ['warm'],\n",
              "                          'dark': ['dim'],\n",
              "                          'difficult': ['hard'],\n",
              "                          'enormous': ['big', 'large', 'huge'],\n",
              "                          'fast': ['quick'],\n",
              "                          'freezing': ['warm', 'cold'],\n",
              "                          'gigantic': ['big', 'large', 'huge', 'enormous'],\n",
              "                          'gorgeous': ['pretty', 'beautiful'],\n",
              "                          'great': ['good'],\n",
              "                          'hideous': ['ugly'],\n",
              "                          'horrible': ['bad', 'awful', 'terrible'],\n",
              "                          'hot': ['warm'],\n",
              "                          'huge': ['big', 'large'],\n",
              "                          'idiotic': ['dumb', 'stupid'],\n",
              "                          'intelligent': ['smart'],\n",
              "                          'large': ['big'],\n",
              "                          'many': ['few', 'some', 'several'],\n",
              "                          'miniscule': ['small', 'tiny'],\n",
              "                          'moist': ['damp'],\n",
              "                          'new': ['fresh'],\n",
              "                          'parched': ['dry', 'arid'],\n",
              "                          'same': ['similar', 'alike'],\n",
              "                          'several': ['few', 'some'],\n",
              "                          'simple': ['easy'],\n",
              "                          'some': ['few'],\n",
              "                          'speedy': ['quick', 'fast'],\n",
              "                          'stupid': ['dumb'],\n",
              "                          'terrible': ['bad', 'awful'],\n",
              "                          'tiny': ['small'],\n",
              "                          'wet': ['damp', 'moist'],\n",
              "                          'wonderful': ['good', 'great']})})"
            ]
          },
          "metadata": {},
          "execution_count": 17
        }
      ]
    },
    {
      "cell_type": "code",
      "metadata": {
        "id": "Z3g0KdJa2pa6"
      },
      "source": [
        "import dill\n",
        "with open('/content/drive/MyDrive/w266/scales_with_milder_option.pickle', 'wb') as handle:\n",
        "    dill.dump(scales_with_milder_option, handle, protocol=pickle.HIGHEST_PROTOCOL)"
      ],
      "execution_count": 22,
      "outputs": []
    }
  ]
}
