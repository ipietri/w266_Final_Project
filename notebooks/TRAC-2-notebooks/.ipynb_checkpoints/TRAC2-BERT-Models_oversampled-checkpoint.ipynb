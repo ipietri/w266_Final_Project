{
 "cells": [
  {
   "cell_type": "markdown",
   "id": "8f01d8e3",
   "metadata": {
    "id": "8f01d8e3"
   },
   "source": [
    "# Final Project"
   ]
  },
  {
   "cell_type": "markdown",
   "id": "67b65eac",
   "metadata": {
    "id": "67b65eac"
   },
   "source": [
    "## TRAC2- Transformer Models (BERT) - base uncased- Oversampled\n",
    "\n",
    "In this notebook we use an oversampled version of the data. \n",
    "\n",
    "Refer to the `TRAC2-Data_oversampling.ipynb` to check how the data was oversampled."
   ]
  },
  {
   "cell_type": "markdown",
   "id": "fc82e530",
   "metadata": {
    "id": "fc82e530"
   },
   "source": [
    "## Package imports"
   ]
  },
  {
   "cell_type": "code",
   "execution_count": 1,
   "id": "ss6OEdHqIWyt",
   "metadata": {
    "colab": {
     "base_uri": "https://localhost:8080/"
    },
    "executionInfo": {
     "elapsed": 7900,
     "status": "ok",
     "timestamp": 1634150205511,
     "user": {
      "displayName": "Isabel G",
      "photoUrl": "https://lh3.googleusercontent.com/a/default-user=s64",
      "userId": "12706972986805579164"
     },
     "user_tz": 420
    },
    "id": "ss6OEdHqIWyt",
    "outputId": "badeb384-8c45-4d43-bccf-d19de2fbb362"
   },
   "outputs": [],
   "source": [
    "# !pip install transformers"
   ]
  },
  {
   "cell_type": "code",
   "execution_count": 2,
   "id": "__N7lLxVIYs0",
   "metadata": {
    "colab": {
     "base_uri": "https://localhost:8080/"
    },
    "executionInfo": {
     "elapsed": 7177,
     "status": "ok",
     "timestamp": 1634150212684,
     "user": {
      "displayName": "Isabel G",
      "photoUrl": "https://lh3.googleusercontent.com/a/default-user=s64",
      "userId": "12706972986805579164"
     },
     "user_tz": 420
    },
    "id": "__N7lLxVIYs0",
    "outputId": "7835b8ff-a7d3-4eed-82be-a238e9faf6cd"
   },
   "outputs": [],
   "source": [
    "# !pip install datasets"
   ]
  },
  {
   "cell_type": "code",
   "execution_count": 3,
   "id": "c0ad9cf3",
   "metadata": {
    "executionInfo": {
     "elapsed": 13558,
     "status": "ok",
     "timestamp": 1634150226239,
     "user": {
      "displayName": "Isabel G",
      "photoUrl": "https://lh3.googleusercontent.com/a/default-user=s64",
      "userId": "12706972986805579164"
     },
     "user_tz": 420
    },
    "id": "c0ad9cf3"
   },
   "outputs": [],
   "source": [
    "import pandas as pd\n",
    "import numpy as np\n",
    "import matplotlib.pyplot as plt\n",
    "# This tells matplotlib not to try opening a new window for each plot.\n",
    "%matplotlib inline\n",
    "\n",
    "import tensorflow as tf\n",
    "from transformers import AutoTokenizer\n",
    "from transformers import TFAutoModelForSequenceClassification\n",
    "from datasets import load_dataset\n",
    "\n",
    "from sklearn.preprocessing import label_binarize\n",
    "from sklearn import metrics"
   ]
  },
  {
   "cell_type": "markdown",
   "id": "1b0b9771",
   "metadata": {
    "id": "1b0b9771"
   },
   "source": [
    "## Helper functions"
   ]
  },
  {
   "cell_type": "code",
   "execution_count": 4,
   "id": "4a8eaacb",
   "metadata": {
    "executionInfo": {
     "elapsed": 12,
     "status": "ok",
     "timestamp": 1634150226239,
     "user": {
      "displayName": "Isabel G",
      "photoUrl": "https://lh3.googleusercontent.com/a/default-user=s64",
      "userId": "12706972986805579164"
     },
     "user_tz": 420
    },
    "id": "4a8eaacb"
   },
   "outputs": [],
   "source": [
    "def from_logits_to_labels(pred, task):\n",
    "    '''\n",
    "    Returns labels based on predicted logits on labels [CAG,NAG,OAG] for task A. Task B is binary, and 'GEN' represents \n",
    "    the positive class.\n",
    "    Parameters:\n",
    "    pred: array with model prediction\n",
    "    task: either 'A' or 'B'\n",
    "    '''\n",
    "    index_a = {0:'CAG', 1:'NAG', 2:'OAG'}\n",
    "    index_b = {0:'GEN', 1:'NGEN'}\n",
    "    \n",
    "    if task == 'A':\n",
    "        highest_prob_class = np.argmax(pred, axis=1)\n",
    "        labels = np.vectorize(index_a.get)(highest_prob_class.astype(int))\n",
    "        \n",
    "    elif task == 'B':\n",
    "        highest_prob_class = np.argmax(pred, axis=1)\n",
    "        labels = np.vectorize(index_b.get)(highest_prob_class.astype(int))\n",
    "    else:\n",
    "        labels = []\n",
    "        \n",
    "    return labels  "
   ]
  },
  {
   "cell_type": "code",
   "execution_count": 5,
   "id": "505b0828",
   "metadata": {
    "executionInfo": {
     "elapsed": 12,
     "status": "ok",
     "timestamp": 1634150226240,
     "user": {
      "displayName": "Isabel G",
      "photoUrl": "https://lh3.googleusercontent.com/a/default-user=s64",
      "userId": "12706972986805579164"
     },
     "user_tz": 420
    },
    "id": "505b0828"
   },
   "outputs": [],
   "source": [
    "def to_one_hot_labels(string_labels):\n",
    "    '''\n",
    "    Returns one-hot encoded labels from a multi-class label vector e.g. ['cat', 'dog', 'dog', 'lion', 'cat', ...] \n",
    "    Parameters:\n",
    "    string_labels: \n",
    "    '''\n",
    "    labels = pd.get_dummies(string_labels)\n",
    "    labels = labels.to_numpy()\n",
    "    \n",
    "    return labels"
   ]
  },
  {
   "cell_type": "code",
   "execution_count": 6,
   "id": "cf367348",
   "metadata": {
    "executionInfo": {
     "elapsed": 12,
     "status": "ok",
     "timestamp": 1634150226240,
     "user": {
      "displayName": "Isabel G",
      "photoUrl": "https://lh3.googleusercontent.com/a/default-user=s64",
      "userId": "12706972986805579164"
     },
     "user_tz": 420
    },
    "id": "cf367348"
   },
   "outputs": [],
   "source": [
    "# this is modified to get the prediction as parameter\n",
    "# to avoid predicting again since inference takes time\n",
    "def confusion_matrix_plot(pred_labels, true_labels, task, normalize=None):\n",
    "    '''\n",
    "    Returns a confusion matrix with a nice format.\n",
    "    Parameters:\n",
    "    pred_labels: predicted labels\n",
    "    true_labels: true labels \n",
    "    task: 'A' or 'B'\n",
    "    normalize: if want to normalize the confusion matrix normalize='true'\n",
    "    '''\n",
    "    \n",
    "    # Create a confusion matrix\n",
    "    cm = metrics.confusion_matrix(true_labels, pred_labels, normalize=normalize)\n",
    "    cm = np.around(cm, 2)\n",
    "\n",
    "    # Plot the confusion matrix\n",
    "    if task == 'A':\n",
    "        axis_labels = ['CAG', 'NAG', 'OAG']\n",
    "    elif task == 'B':\n",
    "        axis_labels = ['GEN', 'NGEN']\n",
    "\n",
    "    fig, ax = plt.subplots(figsize=(4,4))\n",
    "    im = ax.imshow(cm, cmap=\"Blues\")\n",
    "\n",
    "    # Create the ticks and labels\n",
    "    ax.set_xticks(np.arange(len(axis_labels)))\n",
    "    ax.set_yticks(np.arange(len(axis_labels)))\n",
    "    ax.set_xticklabels(axis_labels)\n",
    "    ax.set_yticklabels(axis_labels)\n",
    "\n",
    "    # Axis titles\n",
    "    plt.ylabel('True label', size=12)\n",
    "    plt.xlabel('Predicted label', size=12)\n",
    "\n",
    "    # Loop over data dimensions and create text annotations.\n",
    "    for i in range(len(axis_labels)):\n",
    "        for j in range(len(axis_labels)):\n",
    "            text = ax.text(j, i, cm[i, j],ha=\"center\", va=\"center\", color=\"dimgrey\", size=12)\n",
    "    \n",
    "    ax.set_title(\"Confusion Matrix\", size=16, weight=\"bold\")\n",
    "    fig.tight_layout()\n",
    "    plt.show()\n"
   ]
  },
  {
   "cell_type": "code",
   "execution_count": 7,
   "id": "17c5651f",
   "metadata": {
    "executionInfo": {
     "elapsed": 12,
     "status": "ok",
     "timestamp": 1634150226240,
     "user": {
      "displayName": "Isabel G",
      "photoUrl": "https://lh3.googleusercontent.com/a/default-user=s64",
      "userId": "12706972986805579164"
     },
     "user_tz": 420
    },
    "id": "17c5651f"
   },
   "outputs": [],
   "source": [
    "def loss_accuracy_plots(training_history, xrange, task):\n",
    "    '''\n",
    "    Returns plots for loss and accuracy during the training process of a NN.\n",
    "    Parameters:\n",
    "    training_history: object that stores the training history of the NN (from model.fit(...))\n",
    "    xrange: range in x axis\n",
    "    task: string used for the title in the plot\n",
    "    '''\n",
    "    \n",
    "    fig, (ax1, ax2) = plt.subplots(1, 2, figsize=(15,6))\n",
    "    \n",
    "    # loss plot\n",
    "    ax1.plot(training_history.history['loss'], color='black')\n",
    "    ax1.plot(training_history.history['val_loss'], color='blue')\n",
    "    ax1.set_title('Training and validation loss Sub-Task ' + task)\n",
    "    ax1.legend(['training', 'development'])\n",
    "    ax1.grid(which='both')\n",
    "    ax1.set_xticks(np.arange(0, xrange, 2))\n",
    "    \n",
    "    # accuracy plot\n",
    "    ax2.plot(training_history.history['categorical_accuracy'], color='black')\n",
    "    ax2.plot(training_history.history['val_categorical_accuracy'], color='blue')\n",
    "    ax2.set_title('Training and validation acccuracy Sub_Task ' + task)\n",
    "    ax2.legend(['training', 'development'])\n",
    "    ax2.grid(which='both')\n",
    "    ax2.set_xticks(np.arange(0, xrange, 2))\n",
    "    plt.show()\n",
    "    "
   ]
  },
  {
   "cell_type": "markdown",
   "id": "544f08b5",
   "metadata": {
    "id": "544f08b5"
   },
   "source": [
    "## Load data\n",
    "Load training, development and test datasets."
   ]
  },
  {
   "cell_type": "code",
   "execution_count": 8,
   "id": "c7a92330",
   "metadata": {
    "executionInfo": {
     "elapsed": 3889,
     "status": "ok",
     "timestamp": 1634150230117,
     "user": {
      "displayName": "Isabel G",
      "photoUrl": "https://lh3.googleusercontent.com/a/default-user=s64",
      "userId": "12706972986805579164"
     },
     "user_tz": 420
    },
    "id": "c7a92330"
   },
   "outputs": [],
   "source": [
    "# Load labels using pandas dataframes\n",
    "\n",
    "train_labels_a = pd.read_csv('../../../data/release-files/eng/trac2_eng_train_oversampled.csv')['Sub-task A']\n",
    "train_labels_b = pd.read_csv('../../../data/release-files/eng/trac2_eng_train_oversampled.csv')['Sub-task B']\n",
    "dev_labels_a = pd.read_csv('../../../data/release-files/eng/trac2_eng_dev.csv')['Sub-task A']\n",
    "dev_labels_b = pd.read_csv('../../../data/release-files/eng/trac2_eng_dev.csv')['Sub-task B']\n",
    "test_labels_a = pd.read_csv('../../../data/release-files/gold/trac2_eng_gold_a.csv')['Sub-task A']\n",
    "test_labels_b = pd.read_csv('../../../data/release-files/gold/trac2_eng_gold_b.csv')['Sub-task B']"
   ]
  },
  {
   "cell_type": "code",
   "execution_count": 9,
   "id": "e837f450",
   "metadata": {
    "colab": {
     "base_uri": "https://localhost:8080/",
     "height": 382,
     "referenced_widgets": [
      "d6edcc6147fb49a8a1944b54270e930b",
      "37104ab7062947de949cc510c55c5310",
      "96126c2aca9c4ddcb4e1127eda79ef71",
      "1cbf79deebae47428ae0ca2407c769e1",
      "5327dead88bf424790a14ef77fab51cf",
      "027bc8e38f384dd686fb1a911d64acff",
      "536cba5bab334e88b5b2208183b62c18",
      "695a530a338440c4a282ab8d8a581133",
      "34c276864ffc40428a7d60be2ae3cf8e",
      "458f923eb83f4a9db0b8d48ea6871ccc",
      "3c835385aa1e477aa5a4ba0e08469238",
      "9229992751494c02b0e224512e5ade18",
      "ea6c07e0c7224177aae21a87be3c6685",
      "b6d2e462408b4e88b7547b10585ae47b",
      "f4535ca7784c4b5790da7f3b701b8951",
      "3cce6089ed244ef8ada7c19bca931f26",
      "aecf431cfbd24a7084b7433f799a6678",
      "016578b53f0a4ef79632861858031678",
      "4ff6dab4705446f2bd93af65704dee60",
      "6ab4454848224b4588f2f2a47701064d",
      "526933eb605249f19ec65ff0a59def34",
      "d8faad4622f04990932efbb8fc88bfc8"
     ]
    },
    "executionInfo": {
     "elapsed": 31911,
     "status": "ok",
     "timestamp": 1634150262026,
     "user": {
      "displayName": "Isabel G",
      "photoUrl": "https://lh3.googleusercontent.com/a/default-user=s64",
      "userId": "12706972986805579164"
     },
     "user_tz": 420
    },
    "id": "e837f450",
    "outputId": "df5041af-52b6-4862-85b4-c5b5d25dff95",
    "scrolled": true
   },
   "outputs": [
    {
     "name": "stderr",
     "output_type": "stream",
     "text": [
      "Using custom data configuration default-0fb084a5858aaab7\n",
      "Reusing dataset csv (/Users/isabel/.cache/huggingface/datasets/csv/default-0fb084a5858aaab7/0.0.0/9144e0a4e8435090117cea53e6c7537173ef2304525df4a077c435d8ee7828ff)\n",
      "Using custom data configuration default-a842edb638833834\n",
      "Reusing dataset csv (/Users/isabel/.cache/huggingface/datasets/csv/default-a842edb638833834/0.0.0/9144e0a4e8435090117cea53e6c7537173ef2304525df4a077c435d8ee7828ff)\n",
      "Using custom data configuration default-bfcd354802845a1d\n",
      "Reusing dataset csv (/Users/isabel/.cache/huggingface/datasets/csv/default-bfcd354802845a1d/0.0.0/9144e0a4e8435090117cea53e6c7537173ef2304525df4a077c435d8ee7828ff)\n"
     ]
    }
   ],
   "source": [
    "# Load text data using Hugging Face datasets\n",
    "# need to use the split argument even though we are not splitting. If not, data is loaded as DatasetDict\n",
    "# to load as dataset need to include the split parameter\n",
    "train_dataset = load_dataset('csv', data_files='../../../data/release-files/eng/trac2_eng_train_oversampled.csv', split = 'train[:9373]')\n",
    "dev_dataset = load_dataset('csv', data_files='../../../data/release-files/eng/trac2_eng_dev.csv', split = 'train[:1066]')\n",
    "test_dataset = load_dataset('csv', data_files='../../../data/release-files/test/trac2_eng_test.csv', split = 'train[:1200]')"
   ]
  },
  {
   "cell_type": "markdown",
   "id": "86e2c1cf",
   "metadata": {
    "id": "86e2c1cf"
   },
   "source": [
    "## Encode labels"
   ]
  },
  {
   "cell_type": "code",
   "execution_count": 10,
   "id": "2bc320b3",
   "metadata": {
    "executionInfo": {
     "elapsed": 8,
     "status": "ok",
     "timestamp": 1634150262027,
     "user": {
      "displayName": "Isabel G",
      "photoUrl": "https://lh3.googleusercontent.com/a/default-user=s64",
      "userId": "12706972986805579164"
     },
     "user_tz": 420
    },
    "id": "2bc320b3"
   },
   "outputs": [],
   "source": [
    "# encode labels Task A- [CAG,NAG,OAG]\n",
    "train_labels_a_enc = to_one_hot_labels(train_labels_a)\n",
    "dev_labels_a_enc = to_one_hot_labels(dev_labels_a)\n",
    "test_labels_a_enc = to_one_hot_labels(test_labels_a)\n"
   ]
  },
  {
   "cell_type": "code",
   "execution_count": 11,
   "id": "jCpGlFvZZ1ua",
   "metadata": {
    "executionInfo": {
     "elapsed": 6,
     "status": "ok",
     "timestamp": 1634150262027,
     "user": {
      "displayName": "Isabel G",
      "photoUrl": "https://lh3.googleusercontent.com/a/default-user=s64",
      "userId": "12706972986805579164"
     },
     "user_tz": 420
    },
    "id": "jCpGlFvZZ1ua"
   },
   "outputs": [],
   "source": [
    "# encode labels Task B- [GEN, NGEN]\n",
    "train_labels_b_enc = to_one_hot_labels(train_labels_b)\n",
    "dev_labels_b_enc = to_one_hot_labels(dev_labels_b)\n",
    "test_labels_b_enc = to_one_hot_labels(test_labels_b)"
   ]
  },
  {
   "cell_type": "markdown",
   "id": "5db58504",
   "metadata": {
    "id": "5db58504"
   },
   "source": [
    "## Prepare TensorFlow datasets for BERT"
   ]
  },
  {
   "cell_type": "code",
   "execution_count": 12,
   "id": "415583c1",
   "metadata": {
    "executionInfo": {
     "elapsed": 5,
     "status": "ok",
     "timestamp": 1634150262027,
     "user": {
      "displayName": "Isabel G",
      "photoUrl": "https://lh3.googleusercontent.com/a/default-user=s64",
      "userId": "12706972986805579164"
     },
     "user_tz": 420
    },
    "id": "415583c1"
   },
   "outputs": [],
   "source": [
    "# remove columns to leave only the column with the posts. Column 'Text'\n",
    "train_dataset = train_dataset.remove_columns(['ID', 'Sub-task B', 'Sub-task A'])\n",
    "dev_dataset = dev_dataset.remove_columns(['ID', 'Sub-task A', 'Sub-task B'])\n",
    "test_dataset = test_dataset.remove_columns('ID')"
   ]
  },
  {
   "cell_type": "code",
   "execution_count": 13,
   "id": "5ead92c9",
   "metadata": {
    "colab": {
     "base_uri": "https://localhost:8080/",
     "height": 145
    },
    "executionInfo": {
     "elapsed": 12359,
     "status": "ok",
     "timestamp": 1634150274381,
     "user": {
      "displayName": "Isabel G",
      "photoUrl": "https://lh3.googleusercontent.com/a/default-user=s64",
      "userId": "12706972986805579164"
     },
     "user_tz": 420
    },
    "id": "5ead92c9",
    "outputId": "e5fd93aa-a0cf-401b-d9cc-0d216e0416b5"
   },
   "outputs": [],
   "source": [
    "# define a BERT tokenizer\n",
    "# use the bert-based-uncased tokenizer\n",
    "tokenizer = AutoTokenizer.from_pretrained('bert-base-uncased')"
   ]
  },
  {
   "cell_type": "markdown",
   "id": "8420a05b",
   "metadata": {
    "id": "8420a05b"
   },
   "source": [
    "The tokenizer automatically lowercase the input text, and ads some special tokens ([CLS] and [SEP]) that the BERT model expects.\n",
    "\n",
    "To use the training examples in the model we need to pad (or truncate) each example to a maximum lenght. For BERT the maximum possible length is 512. "
   ]
  },
  {
   "cell_type": "code",
   "execution_count": 14,
   "id": "cd498279",
   "metadata": {
    "colab": {
     "base_uri": "https://localhost:8080/",
     "height": 113,
     "referenced_widgets": [
      "c5cbd4f0e14b4edfbeaf1d8da723c0aa",
      "c752b31160f94453ace7c47ab138aca2",
      "7a9629f0d8af4a42a676000e2d1b7d61",
      "71d7a2ccc5134bbbbde55bd85466b48d",
      "1b7cbf23dacf4623b3b804b02b5282b1",
      "357f0c2258e54e50b56060f19bdf5e1b",
      "f348287b1b734f098fae8c691e578836",
      "c1ea846d4cf64e649302cdfce39ef5cf",
      "cd4ec03ce87c41d6b95615fd37c847d9",
      "c22f12014dba4f1c91d11ddfd289720f",
      "5850e089462a4402ba76fd4b52d72dc6"
     ]
    },
    "executionInfo": {
     "elapsed": 1783,
     "status": "ok",
     "timestamp": 1634150276154,
     "user": {
      "displayName": "Isabel G",
      "photoUrl": "https://lh3.googleusercontent.com/a/default-user=s64",
      "userId": "12706972986805579164"
     },
     "user_tz": 420
    },
    "id": "cd498279",
    "outputId": "d127d4de-ec50-4385-d7ca-085cdaf524dc"
   },
   "outputs": [
    {
     "name": "stderr",
     "output_type": "stream",
     "text": [
      "Loading cached processed dataset at /Users/isabel/.cache/huggingface/datasets/csv/default-0fb084a5858aaab7/0.0.0/9144e0a4e8435090117cea53e6c7537173ef2304525df4a077c435d8ee7828ff/cache-1229b2b4dbf8e734.arrow\n",
      "Loading cached processed dataset at /Users/isabel/.cache/huggingface/datasets/csv/default-a842edb638833834/0.0.0/9144e0a4e8435090117cea53e6c7537173ef2304525df4a077c435d8ee7828ff/cache-c16125cdf10d092e.arrow\n",
      "Loading cached processed dataset at /Users/isabel/.cache/huggingface/datasets/csv/default-bfcd354802845a1d/0.0.0/9144e0a4e8435090117cea53e6c7537173ef2304525df4a077c435d8ee7828ff/cache-a0623328f6d09454.arrow\n"
     ]
    }
   ],
   "source": [
    "# tokenize the train, development and test data\n",
    "# Use a max sequence of 150 tokens. Based on EDA this is enough for majority of posts\n",
    "\n",
    "train_dataset_tok = train_dataset.map(lambda x: tokenizer(x['Text'], truncation=True, padding=True, max_length=150), batched=True)\n",
    "dev_dataset_tok = dev_dataset.map(lambda x: tokenizer(x['Text'], truncation=True, padding=True, max_length=150), batched=True)\n",
    "test_dataset_tok = test_dataset.map(lambda x: tokenizer(x['Text'], truncation=True, padding=True, max_length=150), batched=True)"
   ]
  },
  {
   "cell_type": "code",
   "execution_count": 15,
   "id": "0526c186",
   "metadata": {
    "executionInfo": {
     "elapsed": 5,
     "status": "ok",
     "timestamp": 1634150276154,
     "user": {
      "displayName": "Isabel G",
      "photoUrl": "https://lh3.googleusercontent.com/a/default-user=s64",
      "userId": "12706972986805579164"
     },
     "user_tz": 420
    },
    "id": "0526c186"
   },
   "outputs": [],
   "source": [
    "# now we can remove the column with the original post from the dataset. We are going to use the result of tokenization for modeling\n",
    "train_dataset_tok = train_dataset_tok.remove_columns(['Text']).with_format('tensorflow')\n",
    "dev_dataset_tok = dev_dataset_tok.remove_columns(['Text']).with_format('tensorflow')\n",
    "test_dataset_tok = test_dataset_tok.remove_columns(['Text']).with_format('tensorflow')"
   ]
  },
  {
   "cell_type": "code",
   "execution_count": 16,
   "id": "778a3871",
   "metadata": {
    "colab": {
     "base_uri": "https://localhost:8080/",
     "height": 358
    },
    "executionInfo": {
     "elapsed": 794,
     "status": "error",
     "timestamp": 1634150276944,
     "user": {
      "displayName": "Isabel G",
      "photoUrl": "https://lh3.googleusercontent.com/a/default-user=s64",
      "userId": "12706972986805579164"
     },
     "user_tz": 420
    },
    "id": "778a3871",
    "outputId": "8a53aad3-a3a7-4f74-c6fa-0beadc96b117"
   },
   "outputs": [
    {
     "name": "stderr",
     "output_type": "stream",
     "text": [
      "2021-10-14 11:35:42.103274: I tensorflow/core/common_runtime/pluggable_device/pluggable_device_factory.cc:305] Could not identify NUMA node of platform GPU ID 0, defaulting to 0. Your kernel may not have been built with NUMA support.\n",
      "2021-10-14 11:35:42.103405: I tensorflow/core/common_runtime/pluggable_device/pluggable_device_factory.cc:271] Created TensorFlow device (/job:localhost/replica:0/task:0/device:GPU:0 with 0 MB memory) -> physical PluggableDevice (device: 0, name: METAL, pci bus id: <undefined>)\n"
     ]
    },
    {
     "name": "stdout",
     "output_type": "stream",
     "text": [
      "Metal device set to: Apple M1\n"
     ]
    }
   ],
   "source": [
    "# extract features from tokenizer output: 'input_ids', 'token_type_ids', 'attention_mask'\n",
    "train_features = {x: train_dataset_tok[x].to_tensor() for x in tokenizer.model_input_names}\n",
    "dev_features = {x: dev_dataset_tok[x].to_tensor() for x in tokenizer.model_input_names}\n",
    "test_features = {x: test_dataset_tok[x].to_tensor() for x in tokenizer.model_input_names}"
   ]
  },
  {
   "cell_type": "code",
   "execution_count": 17,
   "id": "2c9445e5",
   "metadata": {
    "executionInfo": {
     "elapsed": 351,
     "status": "aborted",
     "timestamp": 1634150276935,
     "user": {
      "displayName": "Isabel G",
      "photoUrl": "https://lh3.googleusercontent.com/a/default-user=s64",
      "userId": "12706972986805579164"
     },
     "user_tz": 420
    },
    "id": "2c9445e5"
   },
   "outputs": [],
   "source": [
    "# batch data\n",
    "\n",
    "batch_size = 16\n",
    "buffer = len(train_dataset_tok)\n",
    "\n",
    "# Task A\n",
    "train_tf_dataset_a = tf.data.Dataset.from_tensor_slices((train_features, train_labels_a_enc)).shuffle(buffer).batch(batch_size)\n",
    "dev_tf_dataset_a = tf.data.Dataset.from_tensor_slices((dev_features, dev_labels_a_enc)).batch(batch_size)\n",
    "test_tf_dataset_a = tf.data.Dataset.from_tensor_slices((test_features, test_labels_a_enc)).batch(batch_size)\n",
    "\n",
    "# Task B\n",
    "train_tf_dataset_b = tf.data.Dataset.from_tensor_slices((train_features, train_labels_b_enc)).shuffle(buffer).batch(batch_size)\n",
    "dev_tf_dataset_b = tf.data.Dataset.from_tensor_slices((dev_features, dev_labels_b_enc)).batch(batch_size)\n",
    "test_tf_dataset_b = tf.data.Dataset.from_tensor_slices((test_features, test_labels_b_enc)).batch(batch_size)"
   ]
  },
  {
   "cell_type": "markdown",
   "id": "b59c68de",
   "metadata": {
    "id": "b59c68de"
   },
   "source": [
    "## Model Task A"
   ]
  },
  {
   "cell_type": "code",
   "execution_count": 18,
   "id": "4dedc210",
   "metadata": {
    "executionInfo": {
     "elapsed": 352,
     "status": "aborted",
     "timestamp": 1634150276936,
     "user": {
      "displayName": "Isabel G",
      "photoUrl": "https://lh3.googleusercontent.com/a/default-user=s64",
      "userId": "12706972986805579164"
     },
     "user_tz": 420
    },
    "id": "4dedc210"
   },
   "outputs": [],
   "source": [
    "# delete model if exists\n",
    "try:\n",
    "    del BERT_model_A\n",
    "except:\n",
    "    pass"
   ]
  },
  {
   "cell_type": "code",
   "execution_count": 19,
   "id": "bdbe9a1d",
   "metadata": {
    "executionInfo": {
     "elapsed": 354,
     "status": "aborted",
     "timestamp": 1634150276938,
     "user": {
      "displayName": "Isabel G",
      "photoUrl": "https://lh3.googleusercontent.com/a/default-user=s64",
      "userId": "12706972986805579164"
     },
     "user_tz": 420
    },
    "id": "bdbe9a1d"
   },
   "outputs": [
    {
     "name": "stderr",
     "output_type": "stream",
     "text": [
      "All model checkpoint layers were used when initializing TFBertForSequenceClassification.\n",
      "\n",
      "Some layers of TFBertForSequenceClassification were not initialized from the model checkpoint at bert-base-uncased and are newly initialized: ['classifier']\n",
      "You should probably TRAIN this model on a down-stream task to be able to use it for predictions and inference.\n"
     ]
    }
   ],
   "source": [
    "# define the model. Task A is a classification task with 3 labels\n",
    "BERT_model_A = TFAutoModelForSequenceClassification.from_pretrained(\"bert-base-uncased\", num_labels=3)"
   ]
  },
  {
   "cell_type": "code",
   "execution_count": 20,
   "id": "dc878d92",
   "metadata": {
    "executionInfo": {
     "elapsed": 353,
     "status": "aborted",
     "timestamp": 1634150276938,
     "user": {
      "displayName": "Isabel G",
      "photoUrl": "https://lh3.googleusercontent.com/a/default-user=s64",
      "userId": "12706972986805579164"
     },
     "user_tz": 420
    },
    "id": "dc878d92"
   },
   "outputs": [],
   "source": [
    "# compile model\n",
    "BERT_model_A.compile(optimizer=tf.keras.optimizers.Adam(learning_rate=5e-5),\n",
    "                     loss=tf.keras.losses.CategoricalCrossentropy(from_logits=True),\n",
    "                     metrics=tf.metrics.CategoricalAccuracy()\n",
    "                    )"
   ]
  },
  {
   "cell_type": "code",
   "execution_count": 21,
   "id": "4407b556",
   "metadata": {
    "executionInfo": {
     "elapsed": 354,
     "status": "aborted",
     "timestamp": 1634150276939,
     "user": {
      "displayName": "Isabel G",
      "photoUrl": "https://lh3.googleusercontent.com/a/default-user=s64",
      "userId": "12706972986805579164"
     },
     "user_tz": 420
    },
    "id": "4407b556",
    "scrolled": true
   },
   "outputs": [
    {
     "name": "stdout",
     "output_type": "stream",
     "text": [
      "Epoch 1/2\n",
      "WARNING:tensorflow:The parameters `output_attentions`, `output_hidden_states` and `use_cache` cannot be updated when calling a model.They have to be set to True/False in the config object (i.e.: `config=XConfig.from_pretrained('name', output_attentions=True)`).\n",
      "WARNING:tensorflow:AutoGraph could not transform <bound method Socket.send of <zmq.Socket(zmq.PUSH) at 0x1039e4e80>> and will run it as-is.\n",
      "Please report this to the TensorFlow team. When filing the bug, set the verbosity to 10 (on Linux, `export AUTOGRAPH_VERBOSITY=10`) and attach the full output.\n",
      "Cause: module, class, method, function, traceback, frame, or code object was expected, got cython_function_or_method\n",
      "To silence this warning, decorate the function with @tf.autograph.experimental.do_not_convert\n",
      "WARNING: AutoGraph could not transform <bound method Socket.send of <zmq.Socket(zmq.PUSH) at 0x1039e4e80>> and will run it as-is.\n",
      "Please report this to the TensorFlow team. When filing the bug, set the verbosity to 10 (on Linux, `export AUTOGRAPH_VERBOSITY=10`) and attach the full output.\n",
      "Cause: module, class, method, function, traceback, frame, or code object was expected, got cython_function_or_method\n",
      "To silence this warning, decorate the function with @tf.autograph.experimental.do_not_convert\n",
      "WARNING:tensorflow:The parameter `return_dict` cannot be set in graph mode and will always be set to `True`.\n",
      "WARNING:tensorflow:The parameters `output_attentions`, `output_hidden_states` and `use_cache` cannot be updated when calling a model.They have to be set to True/False in the config object (i.e.: `config=XConfig.from_pretrained('name', output_attentions=True)`).\n",
      "WARNING:tensorflow:The parameter `return_dict` cannot be set in graph mode and will always be set to `True`.\n"
     ]
    },
    {
     "name": "stderr",
     "output_type": "stream",
     "text": [
      "2021-10-14 08:40:22.037721: I tensorflow/compiler/mlir/mlir_graph_optimization_pass.cc:185] None of the MLIR Optimization Passes are enabled (registered 2)\n",
      "2021-10-14 08:40:22.066517: W tensorflow/core/platform/profile_utils/cpu_utils.cc:128] Failed to get CPU frequency: 0 Hz\n",
      "2021-10-14 08:40:22.067934: I tensorflow/core/grappler/optimizers/custom_graph_optimizer_registry.cc:112] Plugin optimizer for device_type GPU is enabled.\n"
     ]
    },
    {
     "name": "stdout",
     "output_type": "stream",
     "text": [
      "586/586 [==============================] - ETA: 0s - loss: 0.5553 - categorical_accuracy: 0.7676WARNING:tensorflow:The parameters `output_attentions`, `output_hidden_states` and `use_cache` cannot be updated when calling a model.They have to be set to True/False in the config object (i.e.: `config=XConfig.from_pretrained('name', output_attentions=True)`).\n",
      "WARNING:tensorflow:The parameter `return_dict` cannot be set in graph mode and will always be set to `True`.\n"
     ]
    },
    {
     "name": "stderr",
     "output_type": "stream",
     "text": [
      "2021-10-14 09:10:18.955713: I tensorflow/core/grappler/optimizers/custom_graph_optimizer_registry.cc:112] Plugin optimizer for device_type GPU is enabled.\n"
     ]
    },
    {
     "name": "stdout",
     "output_type": "stream",
     "text": [
      "586/586 [==============================] - 1853s 3s/step - loss: 0.5553 - categorical_accuracy: 0.7676 - val_loss: 0.7035 - val_categorical_accuracy: 0.7533\n",
      "Epoch 2/2\n",
      "586/586 [==============================] - 2140s 4s/step - loss: 0.1265 - categorical_accuracy: 0.9596 - val_loss: 0.6619 - val_categorical_accuracy: 0.7992\n"
     ]
    }
   ],
   "source": [
    "# fit model\n",
    "training_history = BERT_model_A.fit(train_tf_dataset_a, validation_data=dev_tf_dataset_a, epochs=2)"
   ]
  },
  {
   "cell_type": "code",
   "execution_count": 22,
   "id": "9b34811c",
   "metadata": {
    "executionInfo": {
     "elapsed": 354,
     "status": "aborted",
     "timestamp": 1634150276939,
     "user": {
      "displayName": "Isabel G",
      "photoUrl": "https://lh3.googleusercontent.com/a/default-user=s64",
      "userId": "12706972986805579164"
     },
     "user_tz": 420
    },
    "id": "9b34811c",
    "scrolled": false
   },
   "outputs": [
    {
     "data": {
      "image/png": "[encoded data removed]",
      "text/plain": [
       "<Figure size 1080x432 with 2 Axes>"
      ]
     },
     "metadata": {
      "needs_background": "light"
     },
     "output_type": "display_data"
    }
   ],
   "source": [
    "# plot loss and accuracy\n",
    "loss_accuracy_plots(training_history, xrange=5, task='A')"
   ]
  },
  {
   "cell_type": "code",
   "execution_count": 23,
   "id": "7d916c4e",
   "metadata": {
    "executionInfo": {
     "elapsed": 354,
     "status": "aborted",
     "timestamp": 1634150276939,
     "user": {
      "displayName": "Isabel G",
      "photoUrl": "https://lh3.googleusercontent.com/a/default-user=s64",
      "userId": "12706972986805579164"
     },
     "user_tz": 420
    },
    "id": "7d916c4e"
   },
   "outputs": [
    {
     "name": "stdout",
     "output_type": "stream",
     "text": [
      "WARNING:tensorflow:The parameters `output_attentions`, `output_hidden_states` and `use_cache` cannot be updated when calling a model.They have to be set to True/False in the config object (i.e.: `config=XConfig.from_pretrained('name', output_attentions=True)`).\n",
      "WARNING:tensorflow:The parameter `return_dict` cannot be set in graph mode and will always be set to `True`.\n"
     ]
    },
    {
     "name": "stderr",
     "output_type": "stream",
     "text": [
      "2021-10-14 09:46:52.119996: I tensorflow/core/grappler/optimizers/custom_graph_optimizer_registry.cc:112] Plugin optimizer for device_type GPU is enabled.\n"
     ]
    },
    {
     "data": {
      "image/png": "[encoded data removed]",
      "text/plain": [
       "<Figure size 288x288 with 1 Axes>"
      ]
     },
     "metadata": {
      "needs_background": "light"
     },
     "output_type": "display_data"
    },
    {
     "name": "stdout",
     "output_type": "stream",
     "text": [
      "              precision    recall  f1-score   support\n",
      "\n",
      "         CAG      0.990     0.993     0.992      2718\n",
      "         NAG      0.991     0.992     0.991      4045\n",
      "         OAG      0.993     0.989     0.991      2610\n",
      "\n",
      "    accuracy                          0.991      9373\n",
      "   macro avg      0.991     0.991     0.991      9373\n",
      "weighted avg      0.991     0.991     0.991      9373\n",
      "\n",
      "Weighted f1-score: 0.9913579753892195\n"
     ]
    }
   ],
   "source": [
    "# Evaluate model on TRAINING data\n",
    "\n",
    "# predict using model. Returns logits\n",
    "pred_labels_train = BERT_model_A.predict(train_features)[0]\n",
    "\n",
    "# convert logits lo labels\n",
    "pred_labels_train = from_logits_to_labels(pred_labels_train, 'A')\n",
    "\n",
    "# confusion matrix\n",
    "confusion_matrix_plot(pred_labels_train, train_labels_a, task='A', normalize='true')\n",
    "\n",
    "# print the precision, recall, f1\n",
    "print(metrics.classification_report(train_labels_a, pred_labels_train, digits=3))\n",
    "\n",
    "# print global weighted f-1 score\n",
    "print(f\"Weighted f1-score: {metrics.f1_score(train_labels_a, pred_labels_train, pos_label=1, average='weighted')}\")\n"
   ]
  },
  {
   "cell_type": "code",
   "execution_count": 24,
   "id": "6a769e81",
   "metadata": {
    "executionInfo": {
     "elapsed": 355,
     "status": "aborted",
     "timestamp": 1634150276940,
     "user": {
      "displayName": "Isabel G",
      "photoUrl": "https://lh3.googleusercontent.com/a/default-user=s64",
      "userId": "12706972986805579164"
     },
     "user_tz": 420
    },
    "id": "6a769e81"
   },
   "outputs": [
    {
     "data": {
      "image/png": "[encoded data removed]",
      "text/plain": [
       "<Figure size 288x288 with 1 Axes>"
      ]
     },
     "metadata": {
      "needs_background": "light"
     },
     "output_type": "display_data"
    },
    {
     "name": "stdout",
     "output_type": "stream",
     "text": [
      "              precision    recall  f1-score   support\n",
      "\n",
      "         CAG      0.371     0.393     0.382       117\n",
      "         NAG      0.872     0.921     0.896       836\n",
      "         OAG      0.610     0.319     0.419       113\n",
      "\n",
      "    accuracy                          0.799      1066\n",
      "   macro avg      0.618     0.544     0.565      1066\n",
      "weighted avg      0.789     0.799     0.789      1066\n",
      "\n",
      "Weighted f1-score: 0.7888492385007737\n"
     ]
    }
   ],
   "source": [
    "# Evaluate model on DEVELOPMENT data\n",
    "\n",
    "# predict using model. Returns logits\n",
    "pred_labels_dev = BERT_model_A.predict(dev_features)[0]\n",
    "\n",
    "# convert logits lo labels\n",
    "pred_labels_dev = from_logits_to_labels(pred_labels_dev, 'A')\n",
    "\n",
    "# confusion matrix\n",
    "confusion_matrix_plot(pred_labels_dev, dev_labels_a, task='A', normalize='true')\n",
    "\n",
    "# print the precision, recall, f1\n",
    "print(metrics.classification_report(dev_labels_a, pred_labels_dev, digits=3))\n",
    "\n",
    "# print global weighted f-1 score\n",
    "print(f\"Weighted f1-score: {metrics.f1_score(dev_labels_a, pred_labels_dev, pos_label=1, average='weighted')}\")"
   ]
  },
  {
   "cell_type": "code",
   "execution_count": 25,
   "id": "9fe3bcbc",
   "metadata": {
    "executionInfo": {
     "elapsed": 355,
     "status": "aborted",
     "timestamp": 1634150276940,
     "user": {
      "displayName": "Isabel G",
      "photoUrl": "https://lh3.googleusercontent.com/a/default-user=s64",
      "userId": "12706972986805579164"
     },
     "user_tz": 420
    },
    "id": "9fe3bcbc"
   },
   "outputs": [
    {
     "data": {
      "image/png": "[encoded data removed]",
      "text/plain": [
       "<Figure size 288x288 with 1 Axes>"
      ]
     },
     "metadata": {
      "needs_background": "light"
     },
     "output_type": "display_data"
    },
    {
     "name": "stdout",
     "output_type": "stream",
     "text": [
      "              precision    recall  f1-score   support\n",
      "\n",
      "         CAG      0.481     0.460     0.470       224\n",
      "         NAG      0.782     0.933     0.851       690\n",
      "         OAG      0.821     0.465     0.594       286\n",
      "\n",
      "    accuracy                          0.733      1200\n",
      "   macro avg      0.695     0.619     0.638      1200\n",
      "weighted avg      0.735     0.733     0.718      1200\n",
      "\n",
      "Weighted f1-score: 0.7184711826478991\n"
     ]
    }
   ],
   "source": [
    "# Evaluate model on TEST data\n",
    "\n",
    "# predict using model. Returns logits\n",
    "pred_labels_test = BERT_model_A.predict(test_features)[0]\n",
    "\n",
    "# convert logits lo labels\n",
    "pred_labels_test = from_logits_to_labels(pred_labels_test, 'A')\n",
    "\n",
    "# confusion matrix\n",
    "confusion_matrix_plot(pred_labels_test, test_labels_a, task='A', normalize='true')\n",
    "\n",
    "# print the precision, recall, f1\n",
    "print(metrics.classification_report(test_labels_a, pred_labels_test, digits=3))\n",
    "\n",
    "# print global weighted f-1 score\n",
    "print(f\"Weighted f1-score: {metrics.f1_score(test_labels_a, pred_labels_test, pos_label=1, average='weighted')}\")"
   ]
  },
  {
   "cell_type": "code",
   "execution_count": 26,
   "id": "c3b4df30",
   "metadata": {
    "executionInfo": {
     "elapsed": 355,
     "status": "aborted",
     "timestamp": 1634150276940,
     "user": {
      "displayName": "Isabel G",
      "photoUrl": "https://lh3.googleusercontent.com/a/default-user=s64",
      "userId": "12706972986805579164"
     },
     "user_tz": 420
    },
    "id": "c3b4df30"
   },
   "outputs": [],
   "source": [
    "# save model\n",
    "BERT_model_A.save_pretrained('../../../saved_models/TRAC-2_BERT_model_A_oversampled')"
   ]
  },
  {
   "cell_type": "markdown",
   "id": "9142a3df",
   "metadata": {
    "id": "9142a3df"
   },
   "source": [
    "## Model Task B"
   ]
  },
  {
   "cell_type": "code",
   "execution_count": 18,
   "id": "ea8f0b20",
   "metadata": {
    "executionInfo": {
     "elapsed": 355,
     "status": "aborted",
     "timestamp": 1634150276940,
     "user": {
      "displayName": "Isabel G",
      "photoUrl": "https://lh3.googleusercontent.com/a/default-user=s64",
      "userId": "12706972986805579164"
     },
     "user_tz": 420
    },
    "id": "ea8f0b20"
   },
   "outputs": [],
   "source": [
    "# delete model if exists\n",
    "try:\n",
    "    del BERT_model_B\n",
    "except:\n",
    "    pass"
   ]
  },
  {
   "cell_type": "code",
   "execution_count": 19,
   "id": "49c167d7",
   "metadata": {
    "executionInfo": {
     "elapsed": 356,
     "status": "aborted",
     "timestamp": 1634150276941,
     "user": {
      "displayName": "Isabel G",
      "photoUrl": "https://lh3.googleusercontent.com/a/default-user=s64",
      "userId": "12706972986805579164"
     },
     "user_tz": 420
    },
    "id": "49c167d7"
   },
   "outputs": [
    {
     "name": "stderr",
     "output_type": "stream",
     "text": [
      "All model checkpoint layers were used when initializing TFBertForSequenceClassification.\n",
      "\n",
      "Some layers of TFBertForSequenceClassification were not initialized from the model checkpoint at bert-base-uncased and are newly initialized: ['classifier']\n",
      "You should probably TRAIN this model on a down-stream task to be able to use it for predictions and inference.\n"
     ]
    }
   ],
   "source": [
    "# define the model. Task B is a classification task with 2 labels\n",
    "BERT_model_B = TFAutoModelForSequenceClassification.from_pretrained(\"bert-base-uncased\", num_labels=2)"
   ]
  },
  {
   "cell_type": "code",
   "execution_count": 20,
   "id": "25449764",
   "metadata": {
    "executionInfo": {
     "elapsed": 356,
     "status": "aborted",
     "timestamp": 1634150276941,
     "user": {
      "displayName": "Isabel G",
      "photoUrl": "https://lh3.googleusercontent.com/a/default-user=s64",
      "userId": "12706972986805579164"
     },
     "user_tz": 420
    },
    "id": "25449764"
   },
   "outputs": [],
   "source": [
    "# compile model\n",
    "BERT_model_B.compile(optimizer=tf.keras.optimizers.Adam(learning_rate=5e-5),\n",
    "                     loss=tf.keras.losses.CategoricalCrossentropy(from_logits=True),\n",
    "                     metrics=tf.metrics.CategoricalAccuracy()\n",
    "                    )"
   ]
  },
  {
   "cell_type": "code",
   "execution_count": 21,
   "id": "153aa19e",
   "metadata": {
    "executionInfo": {
     "elapsed": 355,
     "status": "aborted",
     "timestamp": 1634150276941,
     "user": {
      "displayName": "Isabel G",
      "photoUrl": "https://lh3.googleusercontent.com/a/default-user=s64",
      "userId": "12706972986805579164"
     },
     "user_tz": 420
    },
    "id": "153aa19e"
   },
   "outputs": [
    {
     "name": "stdout",
     "output_type": "stream",
     "text": [
      "Epoch 1/3\n",
      "WARNING:tensorflow:The parameters `output_attentions`, `output_hidden_states` and `use_cache` cannot be updated when calling a model.They have to be set to True/False in the config object (i.e.: `config=XConfig.from_pretrained('name', output_attentions=True)`).\n",
      "WARNING:tensorflow:AutoGraph could not transform <bound method Socket.send of <zmq.Socket(zmq.PUSH) at 0x10417ce80>> and will run it as-is.\n",
      "Please report this to the TensorFlow team. When filing the bug, set the verbosity to 10 (on Linux, `export AUTOGRAPH_VERBOSITY=10`) and attach the full output.\n",
      "Cause: module, class, method, function, traceback, frame, or code object was expected, got cython_function_or_method\n",
      "To silence this warning, decorate the function with @tf.autograph.experimental.do_not_convert\n",
      "WARNING: AutoGraph could not transform <bound method Socket.send of <zmq.Socket(zmq.PUSH) at 0x10417ce80>> and will run it as-is.\n",
      "Please report this to the TensorFlow team. When filing the bug, set the verbosity to 10 (on Linux, `export AUTOGRAPH_VERBOSITY=10`) and attach the full output.\n",
      "Cause: module, class, method, function, traceback, frame, or code object was expected, got cython_function_or_method\n",
      "To silence this warning, decorate the function with @tf.autograph.experimental.do_not_convert\n",
      "WARNING:tensorflow:The parameter `return_dict` cannot be set in graph mode and will always be set to `True`.\n",
      "WARNING:tensorflow:The parameters `output_attentions`, `output_hidden_states` and `use_cache` cannot be updated when calling a model.They have to be set to True/False in the config object (i.e.: `config=XConfig.from_pretrained('name', output_attentions=True)`).\n",
      "WARNING:tensorflow:The parameter `return_dict` cannot be set in graph mode and will always be set to `True`.\n"
     ]
    },
    {
     "name": "stderr",
     "output_type": "stream",
     "text": [
      "2021-10-14 11:52:16.420908: I tensorflow/compiler/mlir/mlir_graph_optimization_pass.cc:185] None of the MLIR Optimization Passes are enabled (registered 2)\n",
      "2021-10-14 11:52:16.449632: W tensorflow/core/platform/profile_utils/cpu_utils.cc:128] Failed to get CPU frequency: 0 Hz\n",
      "2021-10-14 11:52:16.451553: I tensorflow/core/grappler/optimizers/custom_graph_optimizer_registry.cc:112] Plugin optimizer for device_type GPU is enabled.\n"
     ]
    },
    {
     "name": "stdout",
     "output_type": "stream",
     "text": [
      "586/586 [==============================] - ETA: 0s - loss: 0.1851 - categorical_accuracy: 0.9310WARNING:tensorflow:The parameters `output_attentions`, `output_hidden_states` and `use_cache` cannot be updated when calling a model.They have to be set to True/False in the config object (i.e.: `config=XConfig.from_pretrained('name', output_attentions=True)`).\n",
      "WARNING:tensorflow:The parameter `return_dict` cannot be set in graph mode and will always be set to `True`.\n"
     ]
    },
    {
     "name": "stderr",
     "output_type": "stream",
     "text": [
      "2021-10-14 12:30:40.975757: I tensorflow/core/grappler/optimizers/custom_graph_optimizer_registry.cc:112] Plugin optimizer for device_type GPU is enabled.\n"
     ]
    },
    {
     "name": "stdout",
     "output_type": "stream",
     "text": [
      "586/586 [==============================] - 2364s 4s/step - loss: 0.1851 - categorical_accuracy: 0.9310 - val_loss: 0.2367 - val_categorical_accuracy: 0.9381\n",
      "Epoch 2/3\n",
      "586/586 [==============================] - 2537s 4s/step - loss: 0.0467 - categorical_accuracy: 0.9870 - val_loss: 0.2596 - val_categorical_accuracy: 0.9287\n",
      "Epoch 3/3\n",
      "586/586 [==============================] - 3617s 6s/step - loss: 0.0170 - categorical_accuracy: 0.9954 - val_loss: 0.3821 - val_categorical_accuracy: 0.9381\n"
     ]
    }
   ],
   "source": [
    "# fit model\n",
    "training_history = BERT_model_B.fit(train_tf_dataset_b, validation_data=dev_tf_dataset_b, epochs=3)"
   ]
  },
  {
   "cell_type": "code",
   "execution_count": 22,
   "id": "30453359",
   "metadata": {
    "executionInfo": {
     "elapsed": 355,
     "status": "aborted",
     "timestamp": 1634150276941,
     "user": {
      "displayName": "Isabel G",
      "photoUrl": "https://lh3.googleusercontent.com/a/default-user=s64",
      "userId": "12706972986805579164"
     },
     "user_tz": 420
    },
    "id": "30453359"
   },
   "outputs": [
    {
     "data": {
      "image/png": "[encoded data removed]",
      "text/plain": [
       "<Figure size 1080x432 with 2 Axes>"
      ]
     },
     "metadata": {
      "needs_background": "light"
     },
     "output_type": "display_data"
    }
   ],
   "source": [
    "# plot loss and accuracy\n",
    "loss_accuracy_plots(training_history, xrange=5, task='B')"
   ]
  },
  {
   "cell_type": "code",
   "execution_count": 23,
   "id": "83a106f5",
   "metadata": {
    "executionInfo": {
     "elapsed": 14,
     "status": "aborted",
     "timestamp": 1634150276943,
     "user": {
      "displayName": "Isabel G",
      "photoUrl": "https://lh3.googleusercontent.com/a/default-user=s64",
      "userId": "12706972986805579164"
     },
     "user_tz": 420
    },
    "id": "83a106f5"
   },
   "outputs": [
    {
     "name": "stdout",
     "output_type": "stream",
     "text": [
      "WARNING:tensorflow:The parameters `output_attentions`, `output_hidden_states` and `use_cache` cannot be updated when calling a model.They have to be set to True/False in the config object (i.e.: `config=XConfig.from_pretrained('name', output_attentions=True)`).\n",
      "WARNING:tensorflow:The parameter `return_dict` cannot be set in graph mode and will always be set to `True`.\n"
     ]
    },
    {
     "name": "stderr",
     "output_type": "stream",
     "text": [
      "2021-10-14 14:14:12.779330: I tensorflow/core/grappler/optimizers/custom_graph_optimizer_registry.cc:112] Plugin optimizer for device_type GPU is enabled.\n"
     ]
    },
    {
     "data": {
      "image/png": "[encoded data removed]",
      "text/plain": [
       "<Figure size 288x288 with 1 Axes>"
      ]
     },
     "metadata": {
      "needs_background": "light"
     },
     "output_type": "display_data"
    },
    {
     "name": "stdout",
     "output_type": "stream",
     "text": [
      "              precision    recall  f1-score   support\n",
      "\n",
      "         GEN      0.998     0.998     0.998      1854\n",
      "        NGEN      0.999     0.999     0.999      7519\n",
      "\n",
      "    accuracy                          0.999      9373\n",
      "   macro avg      0.999     0.999     0.999      9373\n",
      "weighted avg      0.999     0.999     0.999      9373\n",
      "\n",
      "Weighted f1-score: 0.9991464845833777\n"
     ]
    }
   ],
   "source": [
    "# Evaluate model on TRAINING data\n",
    "\n",
    "# predict using model. Returns logits\n",
    "pred_labels_train = BERT_model_B.predict(train_features)[0]\n",
    "\n",
    "# convert logits lo labels\n",
    "pred_labels_train = from_logits_to_labels(pred_labels_train, 'B')\n",
    "\n",
    "# confusion matrix\n",
    "confusion_matrix_plot(pred_labels_train, train_labels_b, task='B', normalize='true')\n",
    "\n",
    "# print the precision, recall, f1\n",
    "print(metrics.classification_report(train_labels_b, pred_labels_train, digits=3))\n",
    "\n",
    "# print global weighted f-1 score\n",
    "print(f\"Weighted f1-score: {metrics.f1_score(train_labels_b, pred_labels_train, pos_label=1, average='weighted')}\")\n"
   ]
  },
  {
   "cell_type": "code",
   "execution_count": 24,
   "id": "68075bff",
   "metadata": {
    "executionInfo": {
     "elapsed": 13,
     "status": "aborted",
     "timestamp": 1634150276943,
     "user": {
      "displayName": "Isabel G",
      "photoUrl": "https://lh3.googleusercontent.com/a/default-user=s64",
      "userId": "12706972986805579164"
     },
     "user_tz": 420
    },
    "id": "68075bff"
   },
   "outputs": [
    {
     "data": {
      "image/png": "[encoded data removed]",
      "text/plain": [
       "<Figure size 288x288 with 1 Axes>"
      ]
     },
     "metadata": {
      "needs_background": "light"
     },
     "output_type": "display_data"
    },
    {
     "name": "stdout",
     "output_type": "stream",
     "text": [
      "              precision    recall  f1-score   support\n",
      "\n",
      "         GEN      0.578     0.356     0.441        73\n",
      "        NGEN      0.954     0.981     0.967       993\n",
      "\n",
      "    accuracy                          0.938      1066\n",
      "   macro avg      0.766     0.669     0.704      1066\n",
      "weighted avg      0.928     0.938     0.931      1066\n",
      "\n",
      "Weighted f1-score: 0.9311709943771663\n"
     ]
    }
   ],
   "source": [
    "# Evaluate model on DEVELOPMENT data\n",
    "\n",
    "# predict using model. Returns logits\n",
    "pred_labels_dev = BERT_model_B.predict(dev_features)[0]\n",
    "\n",
    "# convert logits lo labels\n",
    "pred_labels_dev = from_logits_to_labels(pred_labels_dev, 'B')\n",
    "\n",
    "# confusion matrix\n",
    "confusion_matrix_plot(pred_labels_dev, dev_labels_b, task='B', normalize='true')\n",
    "\n",
    "# print the precision, recall, f1\n",
    "print(metrics.classification_report(dev_labels_b, pred_labels_dev, digits=3))\n",
    "\n",
    "# print global weighted f-1 score\n",
    "print(f\"Weighted f1-score: {metrics.f1_score(dev_labels_b, pred_labels_dev, pos_label=1, average='weighted')}\")"
   ]
  },
  {
   "cell_type": "code",
   "execution_count": 25,
   "id": "69d97847",
   "metadata": {
    "executionInfo": {
     "elapsed": 13,
     "status": "aborted",
     "timestamp": 1634150276943,
     "user": {
      "displayName": "Isabel G",
      "photoUrl": "https://lh3.googleusercontent.com/a/default-user=s64",
      "userId": "12706972986805579164"
     },
     "user_tz": 420
    },
    "id": "69d97847"
   },
   "outputs": [
    {
     "data": {
      "image/png": "[encoded data removed]",
      "text/plain": [
       "<Figure size 288x288 with 1 Axes>"
      ]
     },
     "metadata": {
      "needs_background": "light"
     },
     "output_type": "display_data"
    },
    {
     "name": "stdout",
     "output_type": "stream",
     "text": [
      "              precision    recall  f1-score   support\n",
      "\n",
      "         GEN      0.489     0.526     0.507       175\n",
      "        NGEN      0.918     0.906     0.912      1025\n",
      "\n",
      "    accuracy                          0.851      1200\n",
      "   macro avg      0.704     0.716     0.710      1200\n",
      "weighted avg      0.855     0.851     0.853      1200\n",
      "\n",
      "Weighted f1-score: 0.8530283758727996\n"
     ]
    }
   ],
   "source": [
    "# Evaluate model on TEST data\n",
    "\n",
    "# predict using model. Returns logits\n",
    "pred_labels_test = BERT_model_B.predict(test_features)[0]\n",
    "\n",
    "# convert logits lo labels\n",
    "pred_labels_test = from_logits_to_labels(pred_labels_test, 'B')\n",
    "\n",
    "# confusion matrix\n",
    "confusion_matrix_plot(pred_labels_test, test_labels_b, task='B', normalize='true')\n",
    "\n",
    "# print the precision, recall, f1\n",
    "print(metrics.classification_report(test_labels_b, pred_labels_test, digits=3))\n",
    "\n",
    "# print global weighted f-1 score\n",
    "print(f\"Weighted f1-score: {metrics.f1_score(test_labels_b, pred_labels_test, pos_label=1, average='weighted')}\")"
   ]
  },
  {
   "cell_type": "code",
   "execution_count": 26,
   "id": "6aa1d2df",
   "metadata": {
    "executionInfo": {
     "elapsed": 13,
     "status": "aborted",
     "timestamp": 1634150276943,
     "user": {
      "displayName": "Isabel G",
      "photoUrl": "https://lh3.googleusercontent.com/a/default-user=s64",
      "userId": "12706972986805579164"
     },
     "user_tz": 420
    },
    "id": "6aa1d2df"
   },
   "outputs": [],
   "source": [
    "# save model\n",
    "BERT_model_B.save_pretrained('../../../saved_models/TRAC-2_BERT_model_B_oversampled')"
   ]
  },
  {
   "cell_type": "markdown",
   "id": "efcfaf92",
   "metadata": {
    "id": "efcfaf92"
   },
   "source": [
    "## References\n",
    "\n",
    "- Pre-processing data: https://huggingface.co/transformers/preprocessing.html\n",
    "\n",
    "- Fine-tunning a pre-trained model: https://huggingface.co/transformers/training.html\n",
    "\n",
    "- BERT: https://huggingface.co/transformers/model_doc/bert.html"
   ]
  },
  {
   "cell_type": "code",
   "execution_count": null,
   "id": "ecf7c642",
   "metadata": {
    "executionInfo": {
     "elapsed": 14,
     "status": "aborted",
     "timestamp": 1634150276944,
     "user": {
      "displayName": "Isabel G",
      "photoUrl": "https://lh3.googleusercontent.com/a/default-user=s64",
      "userId": "12706972986805579164"
     },
     "user_tz": 420
    },
    "id": "ecf7c642"
   },
   "outputs": [],
   "source": []
  }
 ],
 "metadata": {
  "colab": {
   "collapsed_sections": [],
   "name": "TRAC2-BERT-Models_oversampled.ipynb",
   "provenance": [
    {
     "file_id": "1sgHxorLKUsyVhksWLeGeOcUWaeFbXSr5",
     "timestamp": 1634077485250
    },
    {
     "file_id": "1d4fPHY04vX7cY8qIfTGKp51lmnQJyPlP",
     "timestamp": 1634076622755
    },
    {
     "file_id": "1eHLOgeKwtQWSLPIZwkDLEnrg20vAaHUa",
     "timestamp": 1634053840331
    }
   ]
  },
  "environment": {
   "name": "tf2-gpu.2-6.m79",
   "type": "gcloud",
   "uri": "gcr.io/deeplearning-platform-release/tf2-gpu.2-6:m79"
  },
  "kernelspec": {
   "display_name": "Python 3 (ipykernel)",
   "language": "python",
   "name": "python3"
  },
  "language_info": {
   "codemirror_mode": {
    "name": "ipython",
    "version": 3
   },
   "file_extension": ".py",
   "mimetype": "text/x-python",
   "name": "python",
   "nbconvert_exporter": "python",
   "pygments_lexer": "ipython3",
   "version": "3.9.7"
  },
  "widgets": {
   "application/vnd.jupyter.widget-state+json": {
    "016578b53f0a4ef79632861858031678": {
     "model_module": "@jupyter-widgets/base",
     "model_module_version": "1.2.0",
     "model_name": "LayoutModel",
     "state": {
      "_model_module": "@jupyter-widgets/base",
      "_model_module_version": "1.2.0",
      "_model_name": "LayoutModel",
      "_view_count": null,
      "_view_module": "@jupyter-widgets/base",
      "_view_module_version": "1.2.0",
      "_view_name": "LayoutView",
      "align_content": null,
      "align_items": null,
      "align_self": null,
      "border": null,
      "bottom": null,
      "display": null,
      "flex": null,
      "flex_flow": null,
      "grid_area": null,
      "grid_auto_columns": null,
      "grid_auto_flow": null,
      "grid_auto_rows": null,
      "grid_column": null,
      "grid_gap": null,
      "grid_row": null,
      "grid_template_areas": null,
      "grid_template_columns": null,
      "grid_template_rows": null,
      "height": null,
      "justify_content": null,
      "justify_items": null,
      "left": null,
      "margin": null,
      "max_height": null,
      "max_width": null,
      "min_height": null,
      "min_width": null,
      "object_fit": null,
      "object_position": null,
      "order": null,
      "overflow": null,
      "overflow_x": null,
      "overflow_y": null,
      "padding": null,
      "right": null,
      "top": null,
      "visibility": null,
      "width": null
     }
    },
    "027bc8e38f384dd686fb1a911d64acff": {
     "model_module": "@jupyter-widgets/controls",
     "model_module_version": "1.5.0",
     "model_name": "DescriptionStyleModel",
     "state": {
      "_model_module": "@jupyter-widgets/controls",
      "_model_module_version": "1.5.0",
      "_model_name": "DescriptionStyleModel",
      "_view_count": null,
      "_view_module": "@jupyter-widgets/base",
      "_view_module_version": "1.2.0",
      "_view_name": "StyleView",
      "description_width": ""
     }
    },
    "1b7cbf23dacf4623b3b804b02b5282b1": {
     "model_module": "@jupyter-widgets/controls",
     "model_module_version": "1.5.0",
     "model_name": "HTMLModel",
     "state": {
      "_dom_classes": [],
      "_model_module": "@jupyter-widgets/controls",
      "_model_module_version": "1.5.0",
      "_model_name": "HTMLModel",
      "_view_count": null,
      "_view_module": "@jupyter-widgets/controls",
      "_view_module_version": "1.5.0",
      "_view_name": "HTMLView",
      "description": "",
      "description_tooltip": null,
      "layout": "IPY_MODEL_5850e089462a4402ba76fd4b52d72dc6",
      "placeholder": "​",
      "style": "IPY_MODEL_c22f12014dba4f1c91d11ddfd289720f",
      "value": " 10/10 [00:01&lt;00:00,  6.92ba/s]"
     }
    },
    "1cbf79deebae47428ae0ca2407c769e1": {
     "model_module": "@jupyter-widgets/controls",
     "model_module_version": "1.5.0",
     "model_name": "FloatProgressModel",
     "state": {
      "_dom_classes": [],
      "_model_module": "@jupyter-widgets/controls",
      "_model_module_version": "1.5.0",
      "_model_name": "FloatProgressModel",
      "_view_count": null,
      "_view_module": "@jupyter-widgets/controls",
      "_view_module_version": "1.5.0",
      "_view_name": "ProgressView",
      "bar_style": "success",
      "description": "",
      "description_tooltip": null,
      "layout": "IPY_MODEL_34c276864ffc40428a7d60be2ae3cf8e",
      "max": 1,
      "min": 0,
      "orientation": "horizontal",
      "style": "IPY_MODEL_695a530a338440c4a282ab8d8a581133",
      "value": 1
     }
    },
    "34c276864ffc40428a7d60be2ae3cf8e": {
     "model_module": "@jupyter-widgets/base",
     "model_module_version": "1.2.0",
     "model_name": "LayoutModel",
     "state": {
      "_model_module": "@jupyter-widgets/base",
      "_model_module_version": "1.2.0",
      "_model_name": "LayoutModel",
      "_view_count": null,
      "_view_module": "@jupyter-widgets/base",
      "_view_module_version": "1.2.0",
      "_view_name": "LayoutView",
      "align_content": null,
      "align_items": null,
      "align_self": null,
      "border": null,
      "bottom": null,
      "display": null,
      "flex": null,
      "flex_flow": null,
      "grid_area": null,
      "grid_auto_columns": null,
      "grid_auto_flow": null,
      "grid_auto_rows": null,
      "grid_column": null,
      "grid_gap": null,
      "grid_row": null,
      "grid_template_areas": null,
      "grid_template_columns": null,
      "grid_template_rows": null,
      "height": null,
      "justify_content": null,
      "justify_items": null,
      "left": null,
      "margin": null,
      "max_height": null,
      "max_width": null,
      "min_height": null,
      "min_width": null,
      "object_fit": null,
      "object_position": null,
      "order": null,
      "overflow": null,
      "overflow_x": null,
      "overflow_y": null,
      "padding": null,
      "right": null,
      "top": null,
      "visibility": null,
      "width": null
     }
    },
    "357f0c2258e54e50b56060f19bdf5e1b": {
     "model_module": "@jupyter-widgets/controls",
     "model_module_version": "1.5.0",
     "model_name": "DescriptionStyleModel",
     "state": {
      "_model_module": "@jupyter-widgets/controls",
      "_model_module_version": "1.5.0",
      "_model_name": "DescriptionStyleModel",
      "_view_count": null,
      "_view_module": "@jupyter-widgets/base",
      "_view_module_version": "1.2.0",
      "_view_name": "StyleView",
      "description_width": ""
     }
    },
    "37104ab7062947de949cc510c55c5310": {
     "model_module": "@jupyter-widgets/base",
     "model_module_version": "1.2.0",
     "model_name": "LayoutModel",
     "state": {
      "_model_module": "@jupyter-widgets/base",
      "_model_module_version": "1.2.0",
      "_model_name": "LayoutModel",
      "_view_count": null,
      "_view_module": "@jupyter-widgets/base",
      "_view_module_version": "1.2.0",
      "_view_name": "LayoutView",
      "align_content": null,
      "align_items": null,
      "align_self": null,
      "border": null,
      "bottom": null,
      "display": null,
      "flex": null,
      "flex_flow": null,
      "grid_area": null,
      "grid_auto_columns": null,
      "grid_auto_flow": null,
      "grid_auto_rows": null,
      "grid_column": null,
      "grid_gap": null,
      "grid_row": null,
      "grid_template_areas": null,
      "grid_template_columns": null,
      "grid_template_rows": null,
      "height": null,
      "justify_content": null,
      "justify_items": null,
      "left": null,
      "margin": null,
      "max_height": null,
      "max_width": null,
      "min_height": null,
      "min_width": null,
      "object_fit": null,
      "object_position": null,
      "order": null,
      "overflow": null,
      "overflow_x": null,
      "overflow_y": null,
      "padding": null,
      "right": null,
      "top": null,
      "visibility": null,
      "width": null
     }
    },
    "3c835385aa1e477aa5a4ba0e08469238": {
     "model_module": "@jupyter-widgets/base",
     "model_module_version": "1.2.0",
     "model_name": "LayoutModel",
     "state": {
      "_model_module": "@jupyter-widgets/base",
      "_model_module_version": "1.2.0",
      "_model_name": "LayoutModel",
      "_view_count": null,
      "_view_module": "@jupyter-widgets/base",
      "_view_module_version": "1.2.0",
      "_view_name": "LayoutView",
      "align_content": null,
      "align_items": null,
      "align_self": null,
      "border": null,
      "bottom": null,
      "display": null,
      "flex": null,
      "flex_flow": null,
      "grid_area": null,
      "grid_auto_columns": null,
      "grid_auto_flow": null,
      "grid_auto_rows": null,
      "grid_column": null,
      "grid_gap": null,
      "grid_row": null,
      "grid_template_areas": null,
      "grid_template_columns": null,
      "grid_template_rows": null,
      "height": null,
      "justify_content": null,
      "justify_items": null,
      "left": null,
      "margin": null,
      "max_height": null,
      "max_width": null,
      "min_height": null,
      "min_width": null,
      "object_fit": null,
      "object_position": null,
      "order": null,
      "overflow": null,
      "overflow_x": null,
      "overflow_y": null,
      "padding": null,
      "right": null,
      "top": null,
      "visibility": null,
      "width": null
     }
    },
    "3cce6089ed244ef8ada7c19bca931f26": {
     "model_module": "@jupyter-widgets/controls",
     "model_module_version": "1.5.0",
     "model_name": "HTMLModel",
     "state": {
      "_dom_classes": [],
      "_model_module": "@jupyter-widgets/controls",
      "_model_module_version": "1.5.0",
      "_model_name": "HTMLModel",
      "_view_count": null,
      "_view_module": "@jupyter-widgets/controls",
      "_view_module_version": "1.5.0",
      "_view_name": "HTMLView",
      "description": "",
      "description_tooltip": null,
      "layout": "IPY_MODEL_d8faad4622f04990932efbb8fc88bfc8",
      "placeholder": "​",
      "style": "IPY_MODEL_526933eb605249f19ec65ff0a59def34",
      "value": " 1/1 [00:00&lt;00:00, 13.32it/s]"
     }
    },
    "458f923eb83f4a9db0b8d48ea6871ccc": {
     "model_module": "@jupyter-widgets/controls",
     "model_module_version": "1.5.0",
     "model_name": "DescriptionStyleModel",
     "state": {
      "_model_module": "@jupyter-widgets/controls",
      "_model_module_version": "1.5.0",
      "_model_name": "DescriptionStyleModel",
      "_view_count": null,
      "_view_module": "@jupyter-widgets/base",
      "_view_module_version": "1.2.0",
      "_view_name": "StyleView",
      "description_width": ""
     }
    },
    "4ff6dab4705446f2bd93af65704dee60": {
     "model_module": "@jupyter-widgets/controls",
     "model_module_version": "1.5.0",
     "model_name": "ProgressStyleModel",
     "state": {
      "_model_module": "@jupyter-widgets/controls",
      "_model_module_version": "1.5.0",
      "_model_name": "ProgressStyleModel",
      "_view_count": null,
      "_view_module": "@jupyter-widgets/base",
      "_view_module_version": "1.2.0",
      "_view_name": "StyleView",
      "bar_color": null,
      "description_width": ""
     }
    },
    "526933eb605249f19ec65ff0a59def34": {
     "model_module": "@jupyter-widgets/controls",
     "model_module_version": "1.5.0",
     "model_name": "DescriptionStyleModel",
     "state": {
      "_model_module": "@jupyter-widgets/controls",
      "_model_module_version": "1.5.0",
      "_model_name": "DescriptionStyleModel",
      "_view_count": null,
      "_view_module": "@jupyter-widgets/base",
      "_view_module_version": "1.2.0",
      "_view_name": "StyleView",
      "description_width": ""
     }
    },
    "5327dead88bf424790a14ef77fab51cf": {
     "model_module": "@jupyter-widgets/controls",
     "model_module_version": "1.5.0",
     "model_name": "HTMLModel",
     "state": {
      "_dom_classes": [],
      "_model_module": "@jupyter-widgets/controls",
      "_model_module_version": "1.5.0",
      "_model_name": "HTMLModel",
      "_view_count": null,
      "_view_module": "@jupyter-widgets/controls",
      "_view_module_version": "1.5.0",
      "_view_name": "HTMLView",
      "description": "",
      "description_tooltip": null,
      "layout": "IPY_MODEL_3c835385aa1e477aa5a4ba0e08469238",
      "placeholder": "​",
      "style": "IPY_MODEL_458f923eb83f4a9db0b8d48ea6871ccc",
      "value": " 1/1 [00:00&lt;00:00, 26.18it/s]"
     }
    },
    "536cba5bab334e88b5b2208183b62c18": {
     "model_module": "@jupyter-widgets/base",
     "model_module_version": "1.2.0",
     "model_name": "LayoutModel",
     "state": {
      "_model_module": "@jupyter-widgets/base",
      "_model_module_version": "1.2.0",
      "_model_name": "LayoutModel",
      "_view_count": null,
      "_view_module": "@jupyter-widgets/base",
      "_view_module_version": "1.2.0",
      "_view_name": "LayoutView",
      "align_content": null,
      "align_items": null,
      "align_self": null,
      "border": null,
      "bottom": null,
      "display": null,
      "flex": null,
      "flex_flow": null,
      "grid_area": null,
      "grid_auto_columns": null,
      "grid_auto_flow": null,
      "grid_auto_rows": null,
      "grid_column": null,
      "grid_gap": null,
      "grid_row": null,
      "grid_template_areas": null,
      "grid_template_columns": null,
      "grid_template_rows": null,
      "height": null,
      "justify_content": null,
      "justify_items": null,
      "left": null,
      "margin": null,
      "max_height": null,
      "max_width": null,
      "min_height": null,
      "min_width": null,
      "object_fit": null,
      "object_position": null,
      "order": null,
      "overflow": null,
      "overflow_x": null,
      "overflow_y": null,
      "padding": null,
      "right": null,
      "top": null,
      "visibility": null,
      "width": null
     }
    },
    "5850e089462a4402ba76fd4b52d72dc6": {
     "model_module": "@jupyter-widgets/base",
     "model_module_version": "1.2.0",
     "model_name": "LayoutModel",
     "state": {
      "_model_module": "@jupyter-widgets/base",
      "_model_module_version": "1.2.0",
      "_model_name": "LayoutModel",
      "_view_count": null,
      "_view_module": "@jupyter-widgets/base",
      "_view_module_version": "1.2.0",
      "_view_name": "LayoutView",
      "align_content": null,
      "align_items": null,
      "align_self": null,
      "border": null,
      "bottom": null,
      "display": null,
      "flex": null,
      "flex_flow": null,
      "grid_area": null,
      "grid_auto_columns": null,
      "grid_auto_flow": null,
      "grid_auto_rows": null,
      "grid_column": null,
      "grid_gap": null,
      "grid_row": null,
      "grid_template_areas": null,
      "grid_template_columns": null,
      "grid_template_rows": null,
      "height": null,
      "justify_content": null,
      "justify_items": null,
      "left": null,
      "margin": null,
      "max_height": null,
      "max_width": null,
      "min_height": null,
      "min_width": null,
      "object_fit": null,
      "object_position": null,
      "order": null,
      "overflow": null,
      "overflow_x": null,
      "overflow_y": null,
      "padding": null,
      "right": null,
      "top": null,
      "visibility": null,
      "width": null
     }
    },
    "695a530a338440c4a282ab8d8a581133": {
     "model_module": "@jupyter-widgets/controls",
     "model_module_version": "1.5.0",
     "model_name": "ProgressStyleModel",
     "state": {
      "_model_module": "@jupyter-widgets/controls",
      "_model_module_version": "1.5.0",
      "_model_name": "ProgressStyleModel",
      "_view_count": null,
      "_view_module": "@jupyter-widgets/base",
      "_view_module_version": "1.2.0",
      "_view_name": "StyleView",
      "bar_color": null,
      "description_width": ""
     }
    },
    "6ab4454848224b4588f2f2a47701064d": {
     "model_module": "@jupyter-widgets/base",
     "model_module_version": "1.2.0",
     "model_name": "LayoutModel",
     "state": {
      "_model_module": "@jupyter-widgets/base",
      "_model_module_version": "1.2.0",
      "_model_name": "LayoutModel",
      "_view_count": null,
      "_view_module": "@jupyter-widgets/base",
      "_view_module_version": "1.2.0",
      "_view_name": "LayoutView",
      "align_content": null,
      "align_items": null,
      "align_self": null,
      "border": null,
      "bottom": null,
      "display": null,
      "flex": null,
      "flex_flow": null,
      "grid_area": null,
      "grid_auto_columns": null,
      "grid_auto_flow": null,
      "grid_auto_rows": null,
      "grid_column": null,
      "grid_gap": null,
      "grid_row": null,
      "grid_template_areas": null,
      "grid_template_columns": null,
      "grid_template_rows": null,
      "height": null,
      "justify_content": null,
      "justify_items": null,
      "left": null,
      "margin": null,
      "max_height": null,
      "max_width": null,
      "min_height": null,
      "min_width": null,
      "object_fit": null,
      "object_position": null,
      "order": null,
      "overflow": null,
      "overflow_x": null,
      "overflow_y": null,
      "padding": null,
      "right": null,
      "top": null,
      "visibility": null,
      "width": null
     }
    },
    "71d7a2ccc5134bbbbde55bd85466b48d": {
     "model_module": "@jupyter-widgets/controls",
     "model_module_version": "1.5.0",
     "model_name": "FloatProgressModel",
     "state": {
      "_dom_classes": [],
      "_model_module": "@jupyter-widgets/controls",
      "_model_module_version": "1.5.0",
      "_model_name": "FloatProgressModel",
      "_view_count": null,
      "_view_module": "@jupyter-widgets/controls",
      "_view_module_version": "1.5.0",
      "_view_name": "ProgressView",
      "bar_style": "success",
      "description": "",
      "description_tooltip": null,
      "layout": "IPY_MODEL_cd4ec03ce87c41d6b95615fd37c847d9",
      "max": 10,
      "min": 0,
      "orientation": "horizontal",
      "style": "IPY_MODEL_c1ea846d4cf64e649302cdfce39ef5cf",
      "value": 10
     }
    },
    "7a9629f0d8af4a42a676000e2d1b7d61": {
     "model_module": "@jupyter-widgets/controls",
     "model_module_version": "1.5.0",
     "model_name": "HTMLModel",
     "state": {
      "_dom_classes": [],
      "_model_module": "@jupyter-widgets/controls",
      "_model_module_version": "1.5.0",
      "_model_name": "HTMLModel",
      "_view_count": null,
      "_view_module": "@jupyter-widgets/controls",
      "_view_module_version": "1.5.0",
      "_view_name": "HTMLView",
      "description": "",
      "description_tooltip": null,
      "layout": "IPY_MODEL_f348287b1b734f098fae8c691e578836",
      "placeholder": "​",
      "style": "IPY_MODEL_357f0c2258e54e50b56060f19bdf5e1b",
      "value": "100%"
     }
    },
    "9229992751494c02b0e224512e5ade18": {
     "model_module": "@jupyter-widgets/controls",
     "model_module_version": "1.5.0",
     "model_name": "HBoxModel",
     "state": {
      "_dom_classes": [],
      "_model_module": "@jupyter-widgets/controls",
      "_model_module_version": "1.5.0",
      "_model_name": "HBoxModel",
      "_view_count": null,
      "_view_module": "@jupyter-widgets/controls",
      "_view_module_version": "1.5.0",
      "_view_name": "HBoxView",
      "box_style": "",
      "children": [
       "IPY_MODEL_b6d2e462408b4e88b7547b10585ae47b",
       "IPY_MODEL_f4535ca7784c4b5790da7f3b701b8951",
       "IPY_MODEL_3cce6089ed244ef8ada7c19bca931f26"
      ],
      "layout": "IPY_MODEL_ea6c07e0c7224177aae21a87be3c6685"
     }
    },
    "96126c2aca9c4ddcb4e1127eda79ef71": {
     "model_module": "@jupyter-widgets/controls",
     "model_module_version": "1.5.0",
     "model_name": "HTMLModel",
     "state": {
      "_dom_classes": [],
      "_model_module": "@jupyter-widgets/controls",
      "_model_module_version": "1.5.0",
      "_model_name": "HTMLModel",
      "_view_count": null,
      "_view_module": "@jupyter-widgets/controls",
      "_view_module_version": "1.5.0",
      "_view_name": "HTMLView",
      "description": "",
      "description_tooltip": null,
      "layout": "IPY_MODEL_536cba5bab334e88b5b2208183b62c18",
      "placeholder": "​",
      "style": "IPY_MODEL_027bc8e38f384dd686fb1a911d64acff",
      "value": "100%"
     }
    },
    "aecf431cfbd24a7084b7433f799a6678": {
     "model_module": "@jupyter-widgets/controls",
     "model_module_version": "1.5.0",
     "model_name": "DescriptionStyleModel",
     "state": {
      "_model_module": "@jupyter-widgets/controls",
      "_model_module_version": "1.5.0",
      "_model_name": "DescriptionStyleModel",
      "_view_count": null,
      "_view_module": "@jupyter-widgets/base",
      "_view_module_version": "1.2.0",
      "_view_name": "StyleView",
      "description_width": ""
     }
    },
    "b6d2e462408b4e88b7547b10585ae47b": {
     "model_module": "@jupyter-widgets/controls",
     "model_module_version": "1.5.0",
     "model_name": "HTMLModel",
     "state": {
      "_dom_classes": [],
      "_model_module": "@jupyter-widgets/controls",
      "_model_module_version": "1.5.0",
      "_model_name": "HTMLModel",
      "_view_count": null,
      "_view_module": "@jupyter-widgets/controls",
      "_view_module_version": "1.5.0",
      "_view_name": "HTMLView",
      "description": "",
      "description_tooltip": null,
      "layout": "IPY_MODEL_016578b53f0a4ef79632861858031678",
      "placeholder": "​",
      "style": "IPY_MODEL_aecf431cfbd24a7084b7433f799a6678",
      "value": "100%"
     }
    },
    "c1ea846d4cf64e649302cdfce39ef5cf": {
     "model_module": "@jupyter-widgets/controls",
     "model_module_version": "1.5.0",
     "model_name": "ProgressStyleModel",
     "state": {
      "_model_module": "@jupyter-widgets/controls",
      "_model_module_version": "1.5.0",
      "_model_name": "ProgressStyleModel",
      "_view_count": null,
      "_view_module": "@jupyter-widgets/base",
      "_view_module_version": "1.2.0",
      "_view_name": "StyleView",
      "bar_color": null,
      "description_width": ""
     }
    },
    "c22f12014dba4f1c91d11ddfd289720f": {
     "model_module": "@jupyter-widgets/controls",
     "model_module_version": "1.5.0",
     "model_name": "DescriptionStyleModel",
     "state": {
      "_model_module": "@jupyter-widgets/controls",
      "_model_module_version": "1.5.0",
      "_model_name": "DescriptionStyleModel",
      "_view_count": null,
      "_view_module": "@jupyter-widgets/base",
      "_view_module_version": "1.2.0",
      "_view_name": "StyleView",
      "description_width": ""
     }
    },
    "c5cbd4f0e14b4edfbeaf1d8da723c0aa": {
     "model_module": "@jupyter-widgets/controls",
     "model_module_version": "1.5.0",
     "model_name": "HBoxModel",
     "state": {
      "_dom_classes": [],
      "_model_module": "@jupyter-widgets/controls",
      "_model_module_version": "1.5.0",
      "_model_name": "HBoxModel",
      "_view_count": null,
      "_view_module": "@jupyter-widgets/controls",
      "_view_module_version": "1.5.0",
      "_view_name": "HBoxView",
      "box_style": "",
      "children": [
       "IPY_MODEL_7a9629f0d8af4a42a676000e2d1b7d61",
       "IPY_MODEL_71d7a2ccc5134bbbbde55bd85466b48d",
       "IPY_MODEL_1b7cbf23dacf4623b3b804b02b5282b1"
      ],
      "layout": "IPY_MODEL_c752b31160f94453ace7c47ab138aca2"
     }
    },
    "c752b31160f94453ace7c47ab138aca2": {
     "model_module": "@jupyter-widgets/base",
     "model_module_version": "1.2.0",
     "model_name": "LayoutModel",
     "state": {
      "_model_module": "@jupyter-widgets/base",
      "_model_module_version": "1.2.0",
      "_model_name": "LayoutModel",
      "_view_count": null,
      "_view_module": "@jupyter-widgets/base",
      "_view_module_version": "1.2.0",
      "_view_name": "LayoutView",
      "align_content": null,
      "align_items": null,
      "align_self": null,
      "border": null,
      "bottom": null,
      "display": null,
      "flex": null,
      "flex_flow": null,
      "grid_area": null,
      "grid_auto_columns": null,
      "grid_auto_flow": null,
      "grid_auto_rows": null,
      "grid_column": null,
      "grid_gap": null,
      "grid_row": null,
      "grid_template_areas": null,
      "grid_template_columns": null,
      "grid_template_rows": null,
      "height": null,
      "justify_content": null,
      "justify_items": null,
      "left": null,
      "margin": null,
      "max_height": null,
      "max_width": null,
      "min_height": null,
      "min_width": null,
      "object_fit": null,
      "object_position": null,
      "order": null,
      "overflow": null,
      "overflow_x": null,
      "overflow_y": null,
      "padding": null,
      "right": null,
      "top": null,
      "visibility": null,
      "width": null
     }
    },
    "cd4ec03ce87c41d6b95615fd37c847d9": {
     "model_module": "@jupyter-widgets/base",
     "model_module_version": "1.2.0",
     "model_name": "LayoutModel",
     "state": {
      "_model_module": "@jupyter-widgets/base",
      "_model_module_version": "1.2.0",
      "_model_name": "LayoutModel",
      "_view_count": null,
      "_view_module": "@jupyter-widgets/base",
      "_view_module_version": "1.2.0",
      "_view_name": "LayoutView",
      "align_content": null,
      "align_items": null,
      "align_self": null,
      "border": null,
      "bottom": null,
      "display": null,
      "flex": null,
      "flex_flow": null,
      "grid_area": null,
      "grid_auto_columns": null,
      "grid_auto_flow": null,
      "grid_auto_rows": null,
      "grid_column": null,
      "grid_gap": null,
      "grid_row": null,
      "grid_template_areas": null,
      "grid_template_columns": null,
      "grid_template_rows": null,
      "height": null,
      "justify_content": null,
      "justify_items": null,
      "left": null,
      "margin": null,
      "max_height": null,
      "max_width": null,
      "min_height": null,
      "min_width": null,
      "object_fit": null,
      "object_position": null,
      "order": null,
      "overflow": null,
      "overflow_x": null,
      "overflow_y": null,
      "padding": null,
      "right": null,
      "top": null,
      "visibility": null,
      "width": null
     }
    },
    "d6edcc6147fb49a8a1944b54270e930b": {
     "model_module": "@jupyter-widgets/controls",
     "model_module_version": "1.5.0",
     "model_name": "HBoxModel",
     "state": {
      "_dom_classes": [],
      "_model_module": "@jupyter-widgets/controls",
      "_model_module_version": "1.5.0",
      "_model_name": "HBoxModel",
      "_view_count": null,
      "_view_module": "@jupyter-widgets/controls",
      "_view_module_version": "1.5.0",
      "_view_name": "HBoxView",
      "box_style": "",
      "children": [
       "IPY_MODEL_96126c2aca9c4ddcb4e1127eda79ef71",
       "IPY_MODEL_1cbf79deebae47428ae0ca2407c769e1",
       "IPY_MODEL_5327dead88bf424790a14ef77fab51cf"
      ],
      "layout": "IPY_MODEL_37104ab7062947de949cc510c55c5310"
     }
    },
    "d8faad4622f04990932efbb8fc88bfc8": {
     "model_module": "@jupyter-widgets/base",
     "model_module_version": "1.2.0",
     "model_name": "LayoutModel",
     "state": {
      "_model_module": "@jupyter-widgets/base",
      "_model_module_version": "1.2.0",
      "_model_name": "LayoutModel",
      "_view_count": null,
      "_view_module": "@jupyter-widgets/base",
      "_view_module_version": "1.2.0",
      "_view_name": "LayoutView",
      "align_content": null,
      "align_items": null,
      "align_self": null,
      "border": null,
      "bottom": null,
      "display": null,
      "flex": null,
      "flex_flow": null,
      "grid_area": null,
      "grid_auto_columns": null,
      "grid_auto_flow": null,
      "grid_auto_rows": null,
      "grid_column": null,
      "grid_gap": null,
      "grid_row": null,
      "grid_template_areas": null,
      "grid_template_columns": null,
      "grid_template_rows": null,
      "height": null,
      "justify_content": null,
      "justify_items": null,
      "left": null,
      "margin": null,
      "max_height": null,
      "max_width": null,
      "min_height": null,
      "min_width": null,
      "object_fit": null,
      "object_position": null,
      "order": null,
      "overflow": null,
      "overflow_x": null,
      "overflow_y": null,
      "padding": null,
      "right": null,
      "top": null,
      "visibility": null,
      "width": null
     }
    },
    "ea6c07e0c7224177aae21a87be3c6685": {
     "model_module": "@jupyter-widgets/base",
     "model_module_version": "1.2.0",
     "model_name": "LayoutModel",
     "state": {
      "_model_module": "@jupyter-widgets/base",
      "_model_module_version": "1.2.0",
      "_model_name": "LayoutModel",
      "_view_count": null,
      "_view_module": "@jupyter-widgets/base",
      "_view_module_version": "1.2.0",
      "_view_name": "LayoutView",
      "align_content": null,
      "align_items": null,
      "align_self": null,
      "border": null,
      "bottom": null,
      "display": null,
      "flex": null,
      "flex_flow": null,
      "grid_area": null,
      "grid_auto_columns": null,
      "grid_auto_flow": null,
      "grid_auto_rows": null,
      "grid_column": null,
      "grid_gap": null,
      "grid_row": null,
      "grid_template_areas": null,
      "grid_template_columns": null,
      "grid_template_rows": null,
      "height": null,
      "justify_content": null,
      "justify_items": null,
      "left": null,
      "margin": null,
      "max_height": null,
      "max_width": null,
      "min_height": null,
      "min_width": null,
      "object_fit": null,
      "object_position": null,
      "order": null,
      "overflow": null,
      "overflow_x": null,
      "overflow_y": null,
      "padding": null,
      "right": null,
      "top": null,
      "visibility": null,
      "width": null
     }
    },
    "f348287b1b734f098fae8c691e578836": {
     "model_module": "@jupyter-widgets/base",
     "model_module_version": "1.2.0",
     "model_name": "LayoutModel",
     "state": {
      "_model_module": "@jupyter-widgets/base",
      "_model_module_version": "1.2.0",
      "_model_name": "LayoutModel",
      "_view_count": null,
      "_view_module": "@jupyter-widgets/base",
      "_view_module_version": "1.2.0",
      "_view_name": "LayoutView",
      "align_content": null,
      "align_items": null,
      "align_self": null,
      "border": null,
      "bottom": null,
      "display": null,
      "flex": null,
      "flex_flow": null,
      "grid_area": null,
      "grid_auto_columns": null,
      "grid_auto_flow": null,
      "grid_auto_rows": null,
      "grid_column": null,
      "grid_gap": null,
      "grid_row": null,
      "grid_template_areas": null,
      "grid_template_columns": null,
      "grid_template_rows": null,
      "height": null,
      "justify_content": null,
      "justify_items": null,
      "left": null,
      "margin": null,
      "max_height": null,
      "max_width": null,
      "min_height": null,
      "min_width": null,
      "object_fit": null,
      "object_position": null,
      "order": null,
      "overflow": null,
      "overflow_x": null,
      "overflow_y": null,
      "padding": null,
      "right": null,
      "top": null,
      "visibility": null,
      "width": null
     }
    },
    "f4535ca7784c4b5790da7f3b701b8951": {
     "model_module": "@jupyter-widgets/controls",
     "model_module_version": "1.5.0",
     "model_name": "FloatProgressModel",
     "state": {
      "_dom_classes": [],
      "_model_module": "@jupyter-widgets/controls",
      "_model_module_version": "1.5.0",
      "_model_name": "FloatProgressModel",
      "_view_count": null,
      "_view_module": "@jupyter-widgets/controls",
      "_view_module_version": "1.5.0",
      "_view_name": "ProgressView",
      "bar_style": "success",
      "description": "",
      "description_tooltip": null,
      "layout": "IPY_MODEL_6ab4454848224b4588f2f2a47701064d",
      "max": 1,
      "min": 0,
      "orientation": "horizontal",
      "style": "IPY_MODEL_4ff6dab4705446f2bd93af65704dee60",
      "value": 1
     }
    }
   }
  }
 },
 "nbformat": 4,
 "nbformat_minor": 5
}
