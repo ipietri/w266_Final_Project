{
 "cells": [
  {
   "cell_type": "markdown",
   "id": "7393349d",
   "metadata": {},
   "source": [
    "# Final Project"
   ]
  },
  {
   "cell_type": "markdown",
   "id": "e6bcfe85",
   "metadata": {},
   "source": [
    "## TRAC 2 - Binary Task A labels"
   ]
  },
  {
   "cell_type": "markdown",
   "id": "02cf94d0",
   "metadata": {},
   "source": [
    "In this notebook we create a dataset that contains binary labels for task A.\n"
   ]
  },
  {
   "cell_type": "markdown",
   "id": "8ebf1ecf",
   "metadata": {},
   "source": [
    "## Package imports"
   ]
  },
  {
   "cell_type": "code",
   "execution_count": 1,
   "id": "eb5bc76d",
   "metadata": {},
   "outputs": [],
   "source": [
    "import pandas as pd\n",
    "import numpy as np"
   ]
  },
  {
   "cell_type": "markdown",
   "id": "965c2856",
   "metadata": {},
   "source": [
    "## Load training data"
   ]
  },
  {
   "cell_type": "code",
   "execution_count": 2,
   "id": "06daec65",
   "metadata": {},
   "outputs": [],
   "source": [
    "# Load aggressiveness dataset\n",
    "train_data = pd.read_csv('../../../data/release-files/eng/trac2_eng_train.csv')\n",
    "dev_data = pd.read_csv('../../../data/release-files/eng/trac2_eng_dev.csv')\n",
    "\n",
    "# test data data and labels is in separate files\n",
    "test_data = pd.read_csv('../../../data/release-files/test/trac2_eng_test.csv')\n",
    "test_labels_a = pd.read_csv('../../../data/release-files/gold/trac2_eng_gold_a.csv')['Sub-task A']\n",
    "test_labels_b = pd.read_csv('../../../data/release-files/gold/trac2_eng_gold_b.csv')['Sub-task B']\n",
    "\n",
    "# join text and labels for test data\n",
    "test_data['Sub-task A'] = test_labels_a\n",
    "test_data['Sub-task B'] = test_labels_b"
   ]
  },
  {
   "cell_type": "markdown",
   "id": "04ab64ab",
   "metadata": {},
   "source": [
    "## Convert labels of task A to two classes labels"
   ]
  },
  {
   "cell_type": "code",
   "execution_count": 3,
   "id": "a094e950",
   "metadata": {},
   "outputs": [],
   "source": [
    "# will consider only two labels for task A: AG and NAG. So CAG and OAG are now AG\n",
    "train_data['label_a'] = train_data['Sub-task A'].map(lambda x: 'AG' if (x=='OAG' or x=='CAG') else 'NAG')\n",
    "\n",
    "dev_data['label_a'] = dev_data['Sub-task A'].map(lambda x: 'AG' if (x=='OAG' or x=='CAG') else 'NAG')\n",
    "\n",
    "test_data['label_a'] = test_data['Sub-task A'].map(lambda x: 'AG' if (x=='OAG' or x=='CAG') else 'NAG')\n"
   ]
  },
  {
   "cell_type": "code",
   "execution_count": 4,
   "id": "3a69daf1",
   "metadata": {},
   "outputs": [
    {
     "data": {
      "text/plain": [
       "NAG    3375\n",
       "AG      888\n",
       "Name: label_a, dtype: int64"
      ]
     },
     "execution_count": 4,
     "metadata": {},
     "output_type": "execute_result"
    }
   ],
   "source": [
    "# labels distribution\n",
    "train_data['label_a'].value_counts()"
   ]
  },
  {
   "cell_type": "code",
   "execution_count": 5,
   "id": "3beba683",
   "metadata": {},
   "outputs": [],
   "source": [
    "# save data\n",
    "\n",
    "path = '../../../data/pet_files/all_data_task_A_two_classes/'\n",
    "train_name = path + 'train.csv'\n",
    "dev_name = path + 'dev.csv'\n",
    "test_name = path + 'test.csv'\n",
    "\n",
    "train_data.to_csv(train_name, index=False)\n",
    "dev_data.to_csv(dev_name, index=False)\n",
    "test_data.to_csv(test_name, index=False)"
   ]
  },
  {
   "cell_type": "code",
   "execution_count": null,
   "id": "829fb79c",
   "metadata": {},
   "outputs": [],
   "source": []
  }
 ],
 "metadata": {
  "kernelspec": {
   "display_name": "Python 3 (ipykernel)",
   "language": "python",
   "name": "python3"
  },
  "language_info": {
   "codemirror_mode": {
    "name": "ipython",
    "version": 3
   },
   "file_extension": ".py",
   "mimetype": "text/x-python",
   "name": "python",
   "nbconvert_exporter": "python",
   "pygments_lexer": "ipython3",
   "version": "3.9.7"
  }
 },
 "nbformat": 4,
 "nbformat_minor": 5
}
