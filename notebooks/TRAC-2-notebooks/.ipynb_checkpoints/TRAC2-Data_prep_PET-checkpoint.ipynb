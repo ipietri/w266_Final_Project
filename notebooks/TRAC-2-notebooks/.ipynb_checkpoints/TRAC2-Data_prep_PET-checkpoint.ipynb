{
 "cells": [
  {
   "cell_type": "markdown",
   "id": "7393349d",
   "metadata": {},
   "source": [
    "# Final Project"
   ]
  },
  {
   "cell_type": "markdown",
   "id": "e6bcfe85",
   "metadata": {},
   "source": [
    "## TRAC 2 - Format data for PET"
   ]
  },
  {
   "cell_type": "markdown",
   "id": "02cf94d0",
   "metadata": {},
   "source": [
    "In this notebook we generate suitable csv files for training, development, testing and unlabeled data to use in PET.\n"
   ]
  },
  {
   "cell_type": "markdown",
   "id": "8ebf1ecf",
   "metadata": {},
   "source": [
    "## Package imports"
   ]
  },
  {
   "cell_type": "code",
   "execution_count": 1,
   "id": "eb5bc76d",
   "metadata": {},
   "outputs": [],
   "source": [
    "import pandas as pd\n",
    "import numpy as np"
   ]
  },
  {
   "cell_type": "markdown",
   "id": "965c2856",
   "metadata": {},
   "source": [
    "## Load training data"
   ]
  },
  {
   "cell_type": "code",
   "execution_count": 2,
   "id": "06daec65",
   "metadata": {},
   "outputs": [],
   "source": [
    "# Load aggressiveness dataset\n",
    "train_data = pd.read_csv('../../../data/release-files/eng/trac2_eng_train.csv')\n",
    "dev_data = pd.read_csv('../../../data/release-files/eng/trac2_eng_dev.csv')\n",
    "\n",
    "# test data data and labels is in separate files\n",
    "test_data = pd.read_csv('../../../data/release-files/test/trac2_eng_test.csv')\n",
    "test_labels_a = pd.read_csv('../../../data/release-files/gold/trac2_eng_gold_a.csv')['Sub-task A']\n",
    "test_labels_b = pd.read_csv('../../../data/release-files/gold/trac2_eng_gold_b.csv')['Sub-task B']\n",
    "\n",
    "# join text and labels for test data\n",
    "test_data['Sub-task A'] = test_labels_a\n",
    "test_data['Sub-task B'] = test_labels_b"
   ]
  },
  {
   "cell_type": "markdown",
   "id": "04ab64ab",
   "metadata": {},
   "source": [
    "## Labels"
   ]
  },
  {
   "cell_type": "code",
   "execution_count": 3,
   "id": "a094e950",
   "metadata": {},
   "outputs": [],
   "source": [
    "# will consider only two labels for task A: AG and NAG. So CAG and OAG are now AG\n",
    "train_data['label_a'] = train_data['Sub-task A'].map(lambda x: 1 if (x=='OAG' or x=='CAG') else 0)\n",
    "train_data['label_b'] = train_data['Sub-task B'].map(lambda x: 1 if x=='GEN' else 0)\n",
    "\n",
    "dev_data['label_a'] = dev_data['Sub-task A'].map(lambda x: 1 if (x=='OAG' or x=='CAG') else 0)\n",
    "dev_data['label_b'] = dev_data['Sub-task B'].map(lambda x: 1 if x=='GEN' else 0)\n",
    "\n",
    "test_data['label_a'] = test_data['Sub-task A'].map(lambda x: 1 if (x=='OAG' or x=='CAG') else 0)\n",
    "test_data['label_b'] = test_data['Sub-task B'].map(lambda x: 1 if x=='GEN' else 0)"
   ]
  },
  {
   "cell_type": "code",
   "execution_count": 4,
   "id": "90bd185b",
   "metadata": {},
   "outputs": [],
   "source": [
    "# leave out columns not needed\n",
    "train_data = train_data[['Text', 'label_a', 'label_b']]\n",
    "dev_data = dev_data[['Text', 'label_a', 'label_b']]\n",
    "test_data = test_data[['Text', 'label_a', 'label_b']]"
   ]
  },
  {
   "cell_type": "code",
   "execution_count": 5,
   "id": "3a69daf1",
   "metadata": {},
   "outputs": [
    {
     "data": {
      "text/plain": [
       "0    3375\n",
       "1     888\n",
       "Name: label_a, dtype: int64"
      ]
     },
     "execution_count": 5,
     "metadata": {},
     "output_type": "execute_result"
    }
   ],
   "source": [
    "# labels distribution\n",
    "train_data['label_a'].value_counts()"
   ]
  },
  {
   "cell_type": "code",
   "execution_count": 6,
   "id": "80684ad7",
   "metadata": {},
   "outputs": [
    {
     "data": {
      "text/plain": [
       "0    3954\n",
       "1     309\n",
       "Name: label_b, dtype: int64"
      ]
     },
     "execution_count": 6,
     "metadata": {},
     "output_type": "execute_result"
    }
   ],
   "source": [
    "# labels distribution\n",
    "train_data['label_b'].value_counts()"
   ]
  },
  {
   "cell_type": "markdown",
   "id": "2ee92e27",
   "metadata": {},
   "source": [
    "## Select number of training, dev, test and unlabeled data"
   ]
  },
  {
   "cell_type": "code",
   "execution_count": null,
   "id": "3b7a667f",
   "metadata": {},
   "outputs": [],
   "source": [
    "def training_size(x, task):\n",
    "    '''Selects x amount of examples from the training data without replacement\n",
    "    The function samples the same amount of labels from the classes 0 and 1.\n",
    "    Parameters:\n",
    "    We expect that x <= 1,000 for task A\n",
    "    task= 'A' or 'B'\n",
    "    '''\n",
    "    if task == 'A':\n",
    "        labels = 'label_a'\n",
    "        df0 = train_data[train_data[labels]==0].sample(x//2, replace=False, random_state=12345)\n",
    "        df1 = train_data[train_data[labels]==1].sample(x//2, replace=False, random_state=12345)\n",
    "    elif task == 'B' and x <= 600: # case where I have enough examples of class 1 to do sample w/o replacement\n",
    "        labels = 'label_b'\n",
    "        df0 = train_data[train_data[labels]==0].sample(x//2, replace=False, random_state=12345)\n",
    "        df1 = train_data[train_data[labels]==1].sample(x//2, replace=False, random_state=12345)\n",
    "    elif task == 'B' and x > 600: # case where I don't have enough examples of class 1 to do sample w/o replacement\n",
    "        labels = 'label_b'\n",
    "        df0 = train_data[train_data[labels]==0].sample(x//2, replace=False, random_state=12345)\n",
    "        df1 = train_data[train_data[labels]==1].sample(x//2, replace=True, random_state=12345)\n",
    "    \n",
    "    # create the training dataframe\n",
    "    train = pd.concat([df0,df1], axis=0)[['Text', labels]]\n",
    "    \n",
    "    # index of the elements included in the training dataframe\n",
    "    index_train = train.index.to_list()\n",
    "    \n",
    "    # the unlabeled datafrane are all training data not used in the train dataframe\n",
    "    unlabeled = train_data.drop(index=index_train)[['Text', labels]]\n",
    "     \n",
    "    # shuffle rows\n",
    "    train = train.sample(frac=1, ignore_index=True, random_state=12345)\n",
    "    unlabeled = unlabeled.sample(frac=1, ignore_index=True, random_state=12345)\n",
    "    \n",
    "    return train, unlabeled"
   ]
  },
  {
   "cell_type": "code",
   "execution_count": null,
   "id": "e78add83",
   "metadata": {
    "scrolled": true
   },
   "outputs": [],
   "source": [
    "# create training, unlabeled dataframes\n",
    "labeled_examples = 10\n",
    "\n",
    "data = training_size(labeled_examples,'A')\n",
    "\n",
    "train = data[0]\n",
    "unlabeled = data[1]\n",
    "\n",
    "# remove labels in unlabeled dataset\n",
    "unlabeled['label_a'] = np.nan\n",
    "\n",
    "# rename label column\n",
    "train = train.rename(columns={'label_a':'label'})\n",
    "unlabeled = unlabeled.rename(columns={'label_a':'label'})"
   ]
  },
  {
   "cell_type": "code",
   "execution_count": null,
   "id": "8311a22f",
   "metadata": {},
   "outputs": [],
   "source": [
    "# development and test datasets\n",
    "dev_data = dev_data[['Text','label_a']]\n",
    "test_data = test_data[['Text', 'label_a']]\n",
    "\n",
    "# rename label column\n",
    "dev_data = dev_data.rename(columns={'label_a':'label'})\n",
    "test_data = test_data.rename(columns={'label_a':'label'})"
   ]
  },
  {
   "cell_type": "code",
   "execution_count": null,
   "id": "c6dfddc6",
   "metadata": {},
   "outputs": [],
   "source": [
    "# convert labels to strings\n",
    "train['label'] = train['label'].astype('str')\n",
    "dev_data['label'] = dev_data['label'].astype('str')\n",
    "test_data['label'] = test_data['label'].astype('str')"
   ]
  },
  {
   "cell_type": "code",
   "execution_count": null,
   "id": "3f84269f",
   "metadata": {},
   "outputs": [],
   "source": [
    "# save data\n",
    "\n",
    "path = '../../../data/pet_files/10_examples/'\n",
    "train_name = path + 'train.csv'\n",
    "unlabeled_name = path + 'unlabeled.csv'\n",
    "dev_name = path + 'dev.csv'\n",
    "test_name = path + 'test.csv'\n",
    "\n",
    "train.to_csv(train_name, index=False, header=False)\n",
    "unlabeled.to_csv(unlabeled_name, index=False, header=False)\n",
    "dev_data.to_csv(dev_name, index=False, header=False)\n",
    "test_data.to_csv(test_name, index=False, header=False)"
   ]
  },
  {
   "cell_type": "code",
   "execution_count": null,
   "id": "829fb79c",
   "metadata": {},
   "outputs": [],
   "source": []
  }
 ],
 "metadata": {
  "kernelspec": {
   "display_name": "Python 3 (ipykernel)",
   "language": "python",
   "name": "python3"
  },
  "language_info": {
   "codemirror_mode": {
    "name": "ipython",
    "version": 3
   },
   "file_extension": ".py",
   "mimetype": "text/x-python",
   "name": "python",
   "nbconvert_exporter": "python",
   "pygments_lexer": "ipython3",
   "version": "3.9.7"
  }
 },
 "nbformat": 4,
 "nbformat_minor": 5
}
