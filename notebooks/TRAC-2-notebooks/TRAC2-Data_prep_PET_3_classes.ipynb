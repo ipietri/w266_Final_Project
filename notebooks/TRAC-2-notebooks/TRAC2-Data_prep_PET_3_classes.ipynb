{
 "cells": [
  {
   "cell_type": "markdown",
   "id": "7393349d",
   "metadata": {},
   "source": [
    "# Final Project"
   ]
  },
  {
   "cell_type": "markdown",
   "id": "e6bcfe85",
   "metadata": {},
   "source": [
    "## TRAC 2 - Format data for PET"
   ]
  },
  {
   "cell_type": "markdown",
   "id": "02cf94d0",
   "metadata": {},
   "source": [
    "In this notebook we generate suitable csv files for training, development, testing and unlabeled data to use in PET.\n",
    "Here we prepare the data for the task-A with 3 classes.\n"
   ]
  },
  {
   "cell_type": "markdown",
   "id": "8ebf1ecf",
   "metadata": {},
   "source": [
    "## Package imports"
   ]
  },
  {
   "cell_type": "code",
   "execution_count": 1,
   "id": "eb5bc76d",
   "metadata": {},
   "outputs": [],
   "source": [
    "import pandas as pd\n",
    "import numpy as np"
   ]
  },
  {
   "cell_type": "markdown",
   "id": "965c2856",
   "metadata": {},
   "source": [
    "## Load training data"
   ]
  },
  {
   "cell_type": "code",
   "execution_count": 2,
   "id": "06daec65",
   "metadata": {},
   "outputs": [],
   "source": [
    "# Load aggressiveness dataset\n",
    "train_data = pd.read_csv('../../../data/release-files/eng/trac2_eng_train.csv')\n",
    "dev_data = pd.read_csv('../../../data/release-files/eng/trac2_eng_dev.csv')\n",
    "\n",
    "# test data data and labels is in separate files\n",
    "test_data = pd.read_csv('../../../data/release-files/test/trac2_eng_test.csv')\n",
    "test_labels_a = pd.read_csv('../../../data/release-files/gold/trac2_eng_gold_a.csv')['Sub-task A']\n",
    "\n",
    "# join text and labels for test data\n",
    "test_data['Sub-task A'] = test_labels_a\n"
   ]
  },
  {
   "cell_type": "markdown",
   "id": "04ab64ab",
   "metadata": {},
   "source": [
    "## Labels"
   ]
  },
  {
   "cell_type": "code",
   "execution_count": 3,
   "id": "a094e950",
   "metadata": {},
   "outputs": [],
   "source": [
    "# encode the labels for the task A. NAG=0, CAG=1, OAG=2 \n",
    "train_data['label'] = train_data['Sub-task A'].map(lambda x: 0 if x=='NAG' else (1 if x=='CAG' else 2))\n",
    "\n",
    "dev_data['label'] = dev_data['Sub-task A'].map(lambda x: 0 if x=='NAG' else (1 if x=='CAG' else 2))\n",
    "\n",
    "test_data['label'] = test_data['Sub-task A'].map(lambda x: 0 if x=='NAG' else (1 if x=='CAG' else 2))\n"
   ]
  },
  {
   "cell_type": "code",
   "execution_count": 4,
   "id": "90bd185b",
   "metadata": {},
   "outputs": [],
   "source": [
    "# leave out columns not needed\n",
    "train_data = train_data[['Text', 'label']]\n",
    "dev_data = dev_data[['Text', 'label']]\n",
    "test_data = test_data[['Text', 'label']]"
   ]
  },
  {
   "cell_type": "code",
   "execution_count": 5,
   "id": "3a69daf1",
   "metadata": {},
   "outputs": [
    {
     "data": {
      "text/plain": [
       "0    3375\n",
       "1     453\n",
       "2     435\n",
       "Name: label, dtype: int64"
      ]
     },
     "execution_count": 5,
     "metadata": {},
     "output_type": "execute_result"
    }
   ],
   "source": [
    "# labels distribution\n",
    "train_data['label'].value_counts()"
   ]
  },
  {
   "cell_type": "markdown",
   "id": "2ee92e27",
   "metadata": {},
   "source": [
    "## Select number of training, dev, test and unlabeled data"
   ]
  },
  {
   "cell_type": "code",
   "execution_count": 6,
   "id": "3b7a667f",
   "metadata": {},
   "outputs": [],
   "source": [
    "def training_size(train_data, x):\n",
    "    '''Selects x amount of examples from the training data without replacement\n",
    "    The function samples the same amount of labels from the classes.\n",
    "    Parameters:\n",
    "    train_data: training dataframe\n",
    "    x: number of training examples to sample\n",
    "    We expect that x <= 1,000, so we can sample without replacement all classes. \n",
    "    '''   \n",
    "    # since the number of classes is odd the remainder is assigned to class 0 (NAG)\n",
    "    df0 = train_data[train_data['label']==0].sample((x//3 + x%3), replace=False, random_state=12345)\n",
    "    df1 = train_data[train_data['label']==1].sample(x//3, replace=False, random_state=12345)\n",
    "    df3 = train_data[train_data['label']==2].sample(x//3, replace=False, random_state=12345)\n",
    "    \n",
    "    # create the training dataframe\n",
    "    train = pd.concat([df0,df1,df3], axis=0)[['Text', 'label']]\n",
    "    \n",
    "    # index of the elements included in the training dataframe\n",
    "    index_train = train.index.to_list()\n",
    "    \n",
    "    # the unlabeled datafrane are all training data not used in the train dataframe\n",
    "    unlabeled = train_data.drop(index=index_train)[['Text', 'label']]\n",
    "    \n",
    "    # shuffle rows\n",
    "    train = train.sample(frac=1, ignore_index=True, random_state=12345)\n",
    "    unlabeled = unlabeled.sample(frac=1, ignore_index=True, random_state=12345)\n",
    "    \n",
    "    return train, unlabeled"
   ]
  },
  {
   "cell_type": "code",
   "execution_count": 7,
   "id": "e78add83",
   "metadata": {
    "scrolled": true
   },
   "outputs": [],
   "source": [
    "# create training and unlabeled dataframes\n",
    "labeled_examples = 500\n",
    "\n",
    "data = training_size(train_data, labeled_examples)\n",
    "\n",
    "train = data[0]\n",
    "unlabeled = data[1]\n",
    "\n",
    "# remove labels in unlabeled dataset\n",
    "unlabeled['label'] = np.nan\n"
   ]
  },
  {
   "cell_type": "code",
   "execution_count": 8,
   "id": "8311a22f",
   "metadata": {},
   "outputs": [],
   "source": [
    "# development and test datasets\n",
    "dev_data = dev_data[['Text','label']]\n",
    "test_data = test_data[['Text', 'label']]"
   ]
  },
  {
   "cell_type": "code",
   "execution_count": 9,
   "id": "c6dfddc6",
   "metadata": {},
   "outputs": [],
   "source": [
    "# convert labels to strings\n",
    "train['label'] = train['label'].astype('str')\n",
    "dev_data['label'] = dev_data['label'].astype('str')\n",
    "test_data['label'] = test_data['label'].astype('str')"
   ]
  },
  {
   "cell_type": "code",
   "execution_count": 10,
   "id": "3f84269f",
   "metadata": {},
   "outputs": [],
   "source": [
    "# save data\n",
    "\n",
    "path = '../../../data/pet_files/500_examples_3c/'\n",
    "train_name = path + 'train.csv'\n",
    "unlabeled_name = path + 'unlabeled.csv'\n",
    "dev_name = path + 'dev.csv'\n",
    "test_name = path + 'test.csv'\n",
    "\n",
    "train.to_csv(train_name, index=False, header=False)\n",
    "unlabeled.to_csv(unlabeled_name, index=False, header=False)\n",
    "dev_data.to_csv(dev_name, index=False, header=False)\n",
    "test_data.to_csv(test_name, index=False, header=False)"
   ]
  },
  {
   "cell_type": "code",
   "execution_count": null,
   "id": "829fb79c",
   "metadata": {},
   "outputs": [],
   "source": []
  }
 ],
 "metadata": {
  "kernelspec": {
   "display_name": "Python 3 (ipykernel)",
   "language": "python",
   "name": "python3"
  },
  "language_info": {
   "codemirror_mode": {
    "name": "ipython",
    "version": 3
   },
   "file_extension": ".py",
   "mimetype": "text/x-python",
   "name": "python",
   "nbconvert_exporter": "python",
   "pygments_lexer": "ipython3",
   "version": "3.9.7"
  }
 },
 "nbformat": 4,
 "nbformat_minor": 5
}
