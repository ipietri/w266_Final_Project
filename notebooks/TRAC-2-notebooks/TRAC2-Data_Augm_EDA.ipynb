{
 "cells": [
  {
   "cell_type": "markdown",
   "id": "7393349d",
   "metadata": {},
   "source": [
    "# Final Project"
   ]
  },
  {
   "cell_type": "markdown",
   "id": "e6bcfe85",
   "metadata": {},
   "source": [
    "## TRAC 2 - EDA (Easy Data Augmentation Techniques)"
   ]
  },
  {
   "cell_type": "markdown",
   "id": "02cf94d0",
   "metadata": {},
   "source": [
    "In this notebook we augment our TRAC-2 training data using the data augmentation process described in the paper: Easy Data Augmentation Techniques for Boosting Performance on Text Classification Tasks.\n",
    "\n",
    "Paper: https://arxiv.org/abs/1901.11196\n",
    "\n",
    "GitHub: https://github.com/jasonwei20/eda_nlp\n"
   ]
  },
  {
   "cell_type": "markdown",
   "id": "8ebf1ecf",
   "metadata": {},
   "source": [
    "## Package imports"
   ]
  },
  {
   "cell_type": "code",
   "execution_count": 1,
   "id": "eb5bc76d",
   "metadata": {},
   "outputs": [],
   "source": [
    "import pandas as pd\n",
    "import numpy as np\n",
    "import re"
   ]
  },
  {
   "cell_type": "code",
   "execution_count": 2,
   "id": "e03f0f10",
   "metadata": {},
   "outputs": [
    {
     "name": "stdout",
     "output_type": "stream",
     "text": [
      "Requirement already satisfied: nltk in /Users/isabel/miniforge3/lib/python3.9/site-packages (3.6.5)\n",
      "Requirement already satisfied: joblib in /Users/isabel/miniforge3/lib/python3.9/site-packages (from nltk) (1.0.1)\n",
      "Requirement already satisfied: click in /Users/isabel/miniforge3/lib/python3.9/site-packages (from nltk) (8.0.1)\n",
      "Requirement already satisfied: tqdm in /Users/isabel/miniforge3/lib/python3.9/site-packages (from nltk) (4.49.0)\n",
      "Requirement already satisfied: regex>=2021.8.3 in /Users/isabel/miniforge3/lib/python3.9/site-packages (from nltk) (2021.9.30)\n",
      "Note: you may need to restart the kernel to use updated packages.\n"
     ]
    }
   ],
   "source": [
    "pip install -U nltk"
   ]
  },
  {
   "cell_type": "code",
   "execution_count": 3,
   "id": "e67e5a6c",
   "metadata": {
    "scrolled": true
   },
   "outputs": [
    {
     "name": "stderr",
     "output_type": "stream",
     "text": [
      "[nltk_data] Downloading package wordnet to /Users/isabel/nltk_data...\n",
      "[nltk_data]   Package wordnet is already up-to-date!\n"
     ]
    },
    {
     "data": {
      "text/plain": [
       "True"
      ]
     },
     "execution_count": 3,
     "metadata": {},
     "output_type": "execute_result"
    }
   ],
   "source": [
    "import nltk; nltk.download('wordnet')"
   ]
  },
  {
   "cell_type": "markdown",
   "id": "965c2856",
   "metadata": {},
   "source": [
    "## Load and prepare training data"
   ]
  },
  {
   "cell_type": "code",
   "execution_count": 4,
   "id": "06daec65",
   "metadata": {},
   "outputs": [],
   "source": [
    "# Load aggressiveness dataset\n",
    "train_data_a = pd.read_csv('../../../data/release-files/eng/trac2_eng_train_oversampled_task_A.csv')\n",
    "train_data_b = pd.read_csv('../../../data/release-files/eng/trac2_eng_train_oversampled_task_B.csv')"
   ]
  },
  {
   "cell_type": "code",
   "execution_count": 5,
   "id": "280cb34a",
   "metadata": {},
   "outputs": [],
   "source": [
    "# eliminate newline characters\n",
    "train_data_a = train_data_a.replace('\\n',' ', regex=True)\n",
    "train_data_b = train_data_b.replace('\\n',' ', regex=True)"
   ]
  },
  {
   "cell_type": "code",
   "execution_count": 6,
   "id": "54aeaf68",
   "metadata": {},
   "outputs": [],
   "source": [
    "# Find instances with no letter in them. They cause problems in the algorithm\n",
    "train_data_a['filter_out'] = train_data_a['Text'].map(lambda x: 0 if bool(re.search('[a-zA-Z]', x)) else 1)\n",
    "train_data_a = train_data_a[train_data_a['filter_out']==0]\n",
    "\n",
    "train_data_b['filter_out'] = train_data_b['Text'].map(lambda x: 0 if bool(re.search('[a-zA-Z]', x)) else 1)\n",
    "train_data_b = train_data_b[train_data_b['filter_out']==0]"
   ]
  },
  {
   "cell_type": "code",
   "execution_count": 7,
   "id": "78ba7fc9",
   "metadata": {},
   "outputs": [],
   "source": [
    "# drop a few extra examples that cause problems to the algorithm\n",
    "train_data_a = train_data_a.drop([517, 1310, 2406])\n",
    "train_data_b = train_data_b.drop([591, 1550, 1942])"
   ]
  },
  {
   "cell_type": "code",
   "execution_count": 8,
   "id": "0507bb90",
   "metadata": {},
   "outputs": [
    {
     "data": {
      "text/plain": [
       "(10104, 5)"
      ]
     },
     "execution_count": 8,
     "metadata": {},
     "output_type": "execute_result"
    }
   ],
   "source": [
    "train_data_a.shape"
   ]
  },
  {
   "cell_type": "code",
   "execution_count": 9,
   "id": "eddb0196",
   "metadata": {},
   "outputs": [
    {
     "data": {
      "text/plain": [
       "(7887, 5)"
      ]
     },
     "execution_count": 9,
     "metadata": {},
     "output_type": "execute_result"
    }
   ],
   "source": [
    "train_data_b.shape"
   ]
  },
  {
   "cell_type": "code",
   "execution_count": 10,
   "id": "abafb4bd",
   "metadata": {},
   "outputs": [],
   "source": [
    "# select columns in the order expected in the algorithm\n",
    "train_data_a = train_data_a[['Sub-task A', 'Text']]\n",
    "train_data_b = train_data_b[['Sub-task B', 'Text']]"
   ]
  },
  {
   "cell_type": "code",
   "execution_count": 11,
   "id": "47ed84da",
   "metadata": {},
   "outputs": [],
   "source": [
    "train_data_a.to_csv('../../../eda_nlp/data/trac-2-forEDA-taskA.txt', sep ='\\t', index=False, header=False)\n",
    "train_data_b.to_csv('../../../eda_nlp/data/trac-2-forEDA-taskB.txt', sep ='\\t', index=False, header=False)"
   ]
  },
  {
   "cell_type": "markdown",
   "id": "685c9621",
   "metadata": {},
   "source": [
    "## Augment Data"
   ]
  },
  {
   "cell_type": "code",
   "execution_count": 12,
   "id": "0ec5670f",
   "metadata": {},
   "outputs": [
    {
     "name": "stdout",
     "output_type": "stream",
     "text": [
      "/Users/isabel/SynologyDrive/Data_Science/09-W266_NPL_Deep_Learning/05-Final_project/eda_nlp\n"
     ]
    }
   ],
   "source": [
    "# go to the directory where the EDA code is\n",
    "%cd ../../../eda_nlp"
   ]
  },
  {
   "cell_type": "markdown",
   "id": "69c42789",
   "metadata": {},
   "source": [
    "### Synomym augmentation with random deletion\n",
    "\n",
    "Replace 10% of words by synonyms and delete 5% of words.\n"
   ]
  },
  {
   "cell_type": "code",
   "execution_count": 13,
   "id": "550f243c",
   "metadata": {},
   "outputs": [
    {
     "name": "stdout",
     "output_type": "stream",
     "text": [
      "generated augmented sentences with eda for data/trac-2-forEDA-taskA.txt to data/trac-2_augmented_EDA_taskA.txt with num_aug=3\r\n"
     ]
    }
   ],
   "source": [
    "# augment for Task A\n",
    "!python code/augment.py \\\n",
    "--input=data/trac-2-forEDA-taskA.txt \\\n",
    "--output=data/trac-2_augmented_EDA_taskA.txt \\\n",
    "--num_aug=3 \\\n",
    "--alpha_sr=0.1 \\\n",
    "--alpha_rd=0.05 \\\n",
    "--alpha_ri=0.0 \\\n",
    "--alpha_rs=0.0"
   ]
  },
  {
   "cell_type": "code",
   "execution_count": 14,
   "id": "6d24e5d1",
   "metadata": {},
   "outputs": [
    {
     "name": "stdout",
     "output_type": "stream",
     "text": [
      "generated augmented sentences with eda for data/trac-2-forEDA-taskB.txt to data/trac-2_augmented_EDA_taskB.txt with num_aug=3\r\n"
     ]
    }
   ],
   "source": [
    "# augment for Task B\n",
    "!python code/augment.py \\\n",
    "--input=data/trac-2-forEDA-taskB.txt \\\n",
    "--output=data/trac-2_augmented_EDA_taskB.txt \\\n",
    "--num_aug=3 \\\n",
    "--alpha_sr=0.1 \\\n",
    "--alpha_rd=0.05 \\\n",
    "--alpha_ri=0.0 \\\n",
    "--alpha_rs=0.0"
   ]
  },
  {
   "cell_type": "code",
   "execution_count": 33,
   "id": "d5799644",
   "metadata": {},
   "outputs": [],
   "source": [
    "# read back augmented data\n",
    "df_augm_a= pd.read_csv('data/trac-2_augmented_EDA_taskA.txt', sep='\\t', names=['Sub-task A', 'Text'])\n",
    "df_augm_b= pd.read_csv('data/trac-2_augmented_EDA_taskB.txt', sep='\\t', names=['Sub-task B', 'Text'])"
   ]
  },
  {
   "cell_type": "code",
   "execution_count": 34,
   "id": "2f9c10fc",
   "metadata": {},
   "outputs": [
    {
     "data": {
      "text/html": [
       "<div>\n",
       "<style scoped>\n",
       "    .dataframe tbody tr th:only-of-type {\n",
       "        vertical-align: middle;\n",
       "    }\n",
       "\n",
       "    .dataframe tbody tr th {\n",
       "        vertical-align: top;\n",
       "    }\n",
       "\n",
       "    .dataframe thead th {\n",
       "        text-align: right;\n",
       "    }\n",
       "</style>\n",
       "<table border=\"1\" class=\"dataframe\">\n",
       "  <thead>\n",
       "    <tr style=\"text-align: right;\">\n",
       "      <th></th>\n",
       "      <th>Sub-task A</th>\n",
       "      <th>Text</th>\n",
       "    </tr>\n",
       "  </thead>\n",
       "  <tbody>\n",
       "    <tr>\n",
       "      <th>0</th>\n",
       "      <td>NAG</td>\n",
       "      <td>following part</td>\n",
       "    </tr>\n",
       "    <tr>\n",
       "      <th>1</th>\n",
       "      <td>NAG</td>\n",
       "      <td>next part</td>\n",
       "    </tr>\n",
       "    <tr>\n",
       "      <th>2</th>\n",
       "      <td>NAG</td>\n",
       "      <td>next part</td>\n",
       "    </tr>\n",
       "    <tr>\n",
       "      <th>3</th>\n",
       "      <td>NAG</td>\n",
       "      <td>iii mllllllm o lplppi</td>\n",
       "    </tr>\n",
       "    <tr>\n",
       "      <th>4</th>\n",
       "      <td>NAG</td>\n",
       "      <td>iii mllllllm mdxfvb type o lplppi</td>\n",
       "    </tr>\n",
       "    <tr>\n",
       "      <th>...</th>\n",
       "      <td>...</td>\n",
       "      <td>...</td>\n",
       "    </tr>\n",
       "    <tr>\n",
       "      <th>30307</th>\n",
       "      <td>OAG</td>\n",
       "      <td>who is arundhati roy is she above constitution...</td>\n",
       "    </tr>\n",
       "    <tr>\n",
       "      <th>30308</th>\n",
       "      <td>OAG</td>\n",
       "      <td>who is arundhati roy is she above constitution...</td>\n",
       "    </tr>\n",
       "    <tr>\n",
       "      <th>30309</th>\n",
       "      <td>OAG</td>\n",
       "      <td>bakwaas baate hai ye talking about liberals an...</td>\n",
       "    </tr>\n",
       "    <tr>\n",
       "      <th>30310</th>\n",
       "      <td>OAG</td>\n",
       "      <td>bakwaas baate hai ye talking about liberals an...</td>\n",
       "    </tr>\n",
       "    <tr>\n",
       "      <th>30311</th>\n",
       "      <td>OAG</td>\n",
       "      <td>bakwaas baate hai ye talking about liberals an...</td>\n",
       "    </tr>\n",
       "  </tbody>\n",
       "</table>\n",
       "<p>30312 rows × 2 columns</p>\n",
       "</div>"
      ],
      "text/plain": [
       "      Sub-task A                                               Text\n",
       "0            NAG                                     following part\n",
       "1            NAG                                          next part\n",
       "2            NAG                                          next part\n",
       "3            NAG                              iii mllllllm o lplppi\n",
       "4            NAG                  iii mllllllm mdxfvb type o lplppi\n",
       "...          ...                                                ...\n",
       "30307        OAG  who is arundhati roy is she above constitution...\n",
       "30308        OAG  who is arundhati roy is she above constitution...\n",
       "30309        OAG  bakwaas baate hai ye talking about liberals an...\n",
       "30310        OAG  bakwaas baate hai ye talking about liberals an...\n",
       "30311        OAG  bakwaas baate hai ye talking about liberals an...\n",
       "\n",
       "[30312 rows x 2 columns]"
      ]
     },
     "execution_count": 34,
     "metadata": {},
     "output_type": "execute_result"
    }
   ],
   "source": [
    "df_augm_a"
   ]
  },
  {
   "cell_type": "code",
   "execution_count": 35,
   "id": "9d95ae46",
   "metadata": {
    "scrolled": false
   },
   "outputs": [
    {
     "data": {
      "text/html": [
       "<div>\n",
       "<style scoped>\n",
       "    .dataframe tbody tr th:only-of-type {\n",
       "        vertical-align: middle;\n",
       "    }\n",
       "\n",
       "    .dataframe tbody tr th {\n",
       "        vertical-align: top;\n",
       "    }\n",
       "\n",
       "    .dataframe thead th {\n",
       "        text-align: right;\n",
       "    }\n",
       "</style>\n",
       "<table border=\"1\" class=\"dataframe\">\n",
       "  <thead>\n",
       "    <tr style=\"text-align: right;\">\n",
       "      <th></th>\n",
       "      <th>Sub-task B</th>\n",
       "      <th>Text</th>\n",
       "    </tr>\n",
       "  </thead>\n",
       "  <tbody>\n",
       "    <tr>\n",
       "      <th>0</th>\n",
       "      <td>NGEN</td>\n",
       "      <td>next division</td>\n",
       "    </tr>\n",
       "    <tr>\n",
       "      <th>1</th>\n",
       "      <td>NGEN</td>\n",
       "      <td>next part</td>\n",
       "    </tr>\n",
       "    <tr>\n",
       "      <th>2</th>\n",
       "      <td>NGEN</td>\n",
       "      <td>next part</td>\n",
       "    </tr>\n",
       "    <tr>\n",
       "      <th>3</th>\n",
       "      <td>NGEN</td>\n",
       "      <td>trine mllllllm mdxfvb o lplppi</td>\n",
       "    </tr>\n",
       "    <tr>\n",
       "      <th>4</th>\n",
       "      <td>NGEN</td>\n",
       "      <td>mllllllm mdxfvb o</td>\n",
       "    </tr>\n",
       "    <tr>\n",
       "      <th>...</th>\n",
       "      <td>...</td>\n",
       "      <td>...</td>\n",
       "    </tr>\n",
       "    <tr>\n",
       "      <th>23656</th>\n",
       "      <td>GEN</td>\n",
       "      <td>vidya harish bhandary she is a failed soft por...</td>\n",
       "    </tr>\n",
       "    <tr>\n",
       "      <th>23657</th>\n",
       "      <td>GEN</td>\n",
       "      <td>vidya harish bhandary she is a failed soft por...</td>\n",
       "    </tr>\n",
       "    <tr>\n",
       "      <th>23658</th>\n",
       "      <td>GEN</td>\n",
       "      <td>i dont know much about homosexuals but i defin...</td>\n",
       "    </tr>\n",
       "    <tr>\n",
       "      <th>23659</th>\n",
       "      <td>GEN</td>\n",
       "      <td>i dont know much about homosexuals but i defin...</td>\n",
       "    </tr>\n",
       "    <tr>\n",
       "      <th>23660</th>\n",
       "      <td>GEN</td>\n",
       "      <td>i dont know much about homosexuals but i defin...</td>\n",
       "    </tr>\n",
       "  </tbody>\n",
       "</table>\n",
       "<p>23661 rows × 2 columns</p>\n",
       "</div>"
      ],
      "text/plain": [
       "      Sub-task B                                               Text\n",
       "0           NGEN                                      next division\n",
       "1           NGEN                                          next part\n",
       "2           NGEN                                          next part\n",
       "3           NGEN                     trine mllllllm mdxfvb o lplppi\n",
       "4           NGEN                                  mllllllm mdxfvb o\n",
       "...          ...                                                ...\n",
       "23656        GEN  vidya harish bhandary she is a failed soft por...\n",
       "23657        GEN  vidya harish bhandary she is a failed soft por...\n",
       "23658        GEN  i dont know much about homosexuals but i defin...\n",
       "23659        GEN  i dont know much about homosexuals but i defin...\n",
       "23660        GEN  i dont know much about homosexuals but i defin...\n",
       "\n",
       "[23661 rows x 2 columns]"
      ]
     },
     "execution_count": 35,
     "metadata": {},
     "output_type": "execute_result"
    }
   ],
   "source": [
    "df_augm_b"
   ]
  },
  {
   "cell_type": "code",
   "execution_count": 36,
   "id": "d7b7560f",
   "metadata": {},
   "outputs": [
    {
     "name": "stdout",
     "output_type": "stream",
     "text": [
      "/Users/isabel/SynologyDrive/Data_Science/09-W266_NPL_Deep_Learning/05-Final_project/eda_nlp\r\n"
     ]
    }
   ],
   "source": [
    "!pwd"
   ]
  },
  {
   "cell_type": "code",
   "execution_count": 37,
   "id": "87b7dd2b",
   "metadata": {},
   "outputs": [],
   "source": [
    "# create a dataframe with all the data (original + augmented)\n",
    "\n",
    "train_data_a = pd.read_csv('../data/release-files/eng/trac2_eng_train_oversampled_task_A.csv')\n",
    "train_data_b = pd.read_csv('../data/release-files/eng/trac2_eng_train_oversampled_task_B.csv')\n",
    "\n",
    "train_data_a = train_data_a[['Text', 'Sub-task A']]\n",
    "train_data_b = train_data_b[['Text', 'Sub-task B']]\n",
    "\n",
    "final_a = pd.concat([train_data_a,df_augm_a], ignore_index=True)\n",
    "final_b = pd.concat([train_data_b,df_augm_b], ignore_index=True)"
   ]
  },
  {
   "cell_type": "code",
   "execution_count": 38,
   "id": "4db77ac0",
   "metadata": {},
   "outputs": [
    {
     "data": {
      "text/plain": [
       "(40437, 2)"
      ]
     },
     "execution_count": 38,
     "metadata": {},
     "output_type": "execute_result"
    }
   ],
   "source": [
    "final_a.shape"
   ]
  },
  {
   "cell_type": "code",
   "execution_count": 39,
   "id": "8d854f85",
   "metadata": {},
   "outputs": [
    {
     "data": {
      "text/plain": [
       "(31569, 2)"
      ]
     },
     "execution_count": 39,
     "metadata": {},
     "output_type": "execute_result"
    }
   ],
   "source": [
    "final_b.shape"
   ]
  },
  {
   "cell_type": "code",
   "execution_count": 40,
   "id": "37d43e27",
   "metadata": {},
   "outputs": [],
   "source": [
    "# shuffle dataframes\n",
    "final_a = final_a.sample(frac=1)\n",
    "final_b = final_b.sample(frac=1)"
   ]
  },
  {
   "cell_type": "code",
   "execution_count": 41,
   "id": "1a4b47e3",
   "metadata": {},
   "outputs": [
    {
     "data": {
      "text/plain": [
       "OAG    0.333853\n",
       "CAG    0.333853\n",
       "NAG    0.332295\n",
       "Name: Sub-task A, dtype: float64"
      ]
     },
     "execution_count": 41,
     "metadata": {},
     "output_type": "execute_result"
    }
   ],
   "source": [
    "final_a['Sub-task A'].value_counts(normalize=True)"
   ]
  },
  {
   "cell_type": "code",
   "execution_count": 42,
   "id": "38fc9ad7",
   "metadata": {},
   "outputs": [
    {
     "data": {
      "text/plain": [
       "GEN     0.500998\n",
       "NGEN    0.499002\n",
       "Name: Sub-task B, dtype: float64"
      ]
     },
     "execution_count": 42,
     "metadata": {},
     "output_type": "execute_result"
    }
   ],
   "source": [
    "final_b['Sub-task B'].value_counts(normalize=True)"
   ]
  },
  {
   "cell_type": "code",
   "execution_count": 43,
   "id": "6b6f8a20",
   "metadata": {},
   "outputs": [],
   "source": [
    "# save file\n",
    "final_a.to_csv('../data/release-files/eng/trac2_eng_train_EDA_task_A.csv', index=False)\n",
    "final_b.to_csv('../data/release-files/eng/trac2_eng_train_EDA_task_B.csv', index=False)"
   ]
  }
 ],
 "metadata": {
  "kernelspec": {
   "display_name": "Python 3 (ipykernel)",
   "language": "python",
   "name": "python3"
  },
  "language_info": {
   "codemirror_mode": {
    "name": "ipython",
    "version": 3
   },
   "file_extension": ".py",
   "mimetype": "text/x-python",
   "name": "python",
   "nbconvert_exporter": "python",
   "pygments_lexer": "ipython3",
   "version": "3.9.7"
  }
 },
 "nbformat": 4,
 "nbformat_minor": 5
}
