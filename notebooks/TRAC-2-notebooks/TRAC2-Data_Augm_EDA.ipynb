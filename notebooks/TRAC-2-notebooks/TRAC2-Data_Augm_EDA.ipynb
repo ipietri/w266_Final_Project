{
 "cells": [
  {
   "cell_type": "markdown",
   "id": "7393349d",
   "metadata": {},
   "source": [
    "# Final Project"
   ]
  },
  {
   "cell_type": "markdown",
   "id": "e6bcfe85",
   "metadata": {},
   "source": [
    "## TRAC 2 - EDA (Easy Data Augmentation Techniques)"
   ]
  },
  {
   "cell_type": "markdown",
   "id": "02cf94d0",
   "metadata": {},
   "source": [
    "In this notebook we augment our TRAC-2 training data using the data augmentation process described in the paper: Easy Data Augmentation Techniques for Boosting Performance on Text Classification Tasks.\n",
    "\n",
    "Paper: https://arxiv.org/abs/1901.11196\n",
    "\n",
    "GitHub: https://github.com/jasonwei20/eda_nlp\n"
   ]
  },
  {
   "cell_type": "markdown",
   "id": "8ebf1ecf",
   "metadata": {},
   "source": [
    "## Package imports"
   ]
  },
  {
   "cell_type": "code",
   "execution_count": 1,
   "id": "eb5bc76d",
   "metadata": {},
   "outputs": [],
   "source": [
    "import pandas as pd\n",
    "import numpy as np"
   ]
  },
  {
   "cell_type": "code",
   "execution_count": 2,
   "id": "e03f0f10",
   "metadata": {},
   "outputs": [
    {
     "name": "stdout",
     "output_type": "stream",
     "text": [
      "Requirement already satisfied: nltk in /Users/isabel/miniforge3/lib/python3.9/site-packages (3.6.5)\n",
      "Requirement already satisfied: tqdm in /Users/isabel/miniforge3/lib/python3.9/site-packages (from nltk) (4.49.0)\n",
      "Requirement already satisfied: click in /Users/isabel/miniforge3/lib/python3.9/site-packages (from nltk) (8.0.1)\n",
      "Requirement already satisfied: joblib in /Users/isabel/miniforge3/lib/python3.9/site-packages (from nltk) (1.0.1)\n",
      "Requirement already satisfied: regex>=2021.8.3 in /Users/isabel/miniforge3/lib/python3.9/site-packages (from nltk) (2021.9.30)\n",
      "Note: you may need to restart the kernel to use updated packages.\n"
     ]
    }
   ],
   "source": [
    "pip install -U nltk"
   ]
  },
  {
   "cell_type": "code",
   "execution_count": 3,
   "id": "e67e5a6c",
   "metadata": {
    "scrolled": true
   },
   "outputs": [
    {
     "name": "stderr",
     "output_type": "stream",
     "text": [
      "[nltk_data] Downloading package wordnet to /Users/isabel/nltk_data...\n",
      "[nltk_data]   Package wordnet is already up-to-date!\n"
     ]
    },
    {
     "data": {
      "text/plain": [
       "True"
      ]
     },
     "execution_count": 3,
     "metadata": {},
     "output_type": "execute_result"
    }
   ],
   "source": [
    "import nltk; nltk.download('wordnet')"
   ]
  },
  {
   "cell_type": "markdown",
   "id": "965c2856",
   "metadata": {},
   "source": [
    "## Load and prepare training data"
   ]
  },
  {
   "cell_type": "code",
   "execution_count": 4,
   "id": "06daec65",
   "metadata": {},
   "outputs": [],
   "source": [
    "# Load aggressiveness dataset\n",
    "train_data = pd.read_csv('../../../data/release-files/eng/trac2_eng_train.csv')"
   ]
  },
  {
   "cell_type": "code",
   "execution_count": 5,
   "id": "9384360e",
   "metadata": {},
   "outputs": [],
   "source": [
    "## create a column that considers all the possible combination of classes for task A and task B\n",
    "## NAG-NGEN, NAG-GEN, CAG-NGEN, CAG-GEN, OAG-NGEN, OAG-GEN\n",
    "\n",
    "# create a list of conditions\n",
    "conditions = [(train_data['Sub-task A'] == 'NAG') & (train_data['Sub-task B'] == 'NGEN'),\n",
    "              (train_data['Sub-task A'] == 'NAG') & (train_data['Sub-task B'] == 'GEN'), \n",
    "              (train_data['Sub-task A'] == 'CAG') & (train_data['Sub-task B'] == 'NGEN'),\n",
    "              (train_data['Sub-task A'] == 'CAG') & (train_data['Sub-task B'] == 'GEN'),\n",
    "              (train_data['Sub-task A'] == 'OAG') & (train_data['Sub-task B'] == 'NGEN'),\n",
    "              (train_data['Sub-task A'] == 'OAG') & (train_data['Sub-task B'] == 'GEN')\n",
    "             ]\n",
    "           \n",
    "# values for each condition\n",
    "values = [0, 1, 2, 3, 4, 5]\n",
    "\n",
    "# create a new column \n",
    "train_data['combined'] = np.select(conditions, values)"
   ]
  },
  {
   "cell_type": "code",
   "execution_count": 6,
   "id": "d7c48aa6",
   "metadata": {},
   "outputs": [
    {
     "data": {
      "text/plain": [
       "0    3241\n",
       "2     418\n",
       "4     295\n",
       "5     140\n",
       "1     134\n",
       "3      35\n",
       "Name: combined, dtype: int64"
      ]
     },
     "execution_count": 6,
     "metadata": {},
     "output_type": "execute_result"
    }
   ],
   "source": [
    "train_data['combined'].value_counts()"
   ]
  },
  {
   "cell_type": "code",
   "execution_count": 7,
   "id": "a98d6362",
   "metadata": {},
   "outputs": [],
   "source": [
    "# create a dataframe for each class\n",
    "train_0 = train_data[train_data['combined'] == 0]\n",
    "train_1 = train_data[train_data['combined'] == 1]\n",
    "train_2 = train_data[train_data['combined'] == 2]\n",
    "train_3 = train_data[train_data['combined'] == 3]\n",
    "train_4 = train_data[train_data['combined'] == 4]\n",
    "train_5 = train_data[train_data['combined'] == 5]"
   ]
  },
  {
   "cell_type": "code",
   "execution_count": 8,
   "id": "2ecc3e01",
   "metadata": {
    "scrolled": false
   },
   "outputs": [
    {
     "data": {
      "text/html": [
       "<div>\n",
       "<style scoped>\n",
       "    .dataframe tbody tr th:only-of-type {\n",
       "        vertical-align: middle;\n",
       "    }\n",
       "\n",
       "    .dataframe tbody tr th {\n",
       "        vertical-align: top;\n",
       "    }\n",
       "\n",
       "    .dataframe thead th {\n",
       "        text-align: right;\n",
       "    }\n",
       "</style>\n",
       "<table border=\"1\" class=\"dataframe\">\n",
       "  <thead>\n",
       "    <tr style=\"text-align: right;\">\n",
       "      <th></th>\n",
       "      <th>ID</th>\n",
       "      <th>Text</th>\n",
       "      <th>Sub-task A</th>\n",
       "      <th>Sub-task B</th>\n",
       "      <th>combined</th>\n",
       "    </tr>\n",
       "  </thead>\n",
       "  <tbody>\n",
       "    <tr>\n",
       "      <th>21</th>\n",
       "      <td>C38.482</td>\n",
       "      <td>its not good i think its all dimaghi keeda bei...</td>\n",
       "      <td>NAG</td>\n",
       "      <td>GEN</td>\n",
       "      <td>1</td>\n",
       "    </tr>\n",
       "    <tr>\n",
       "      <th>24</th>\n",
       "      <td>C10.155</td>\n",
       "      <td>Why can't the Indian government take serious a...</td>\n",
       "      <td>NAG</td>\n",
       "      <td>GEN</td>\n",
       "      <td>1</td>\n",
       "    </tr>\n",
       "    <tr>\n",
       "      <th>61</th>\n",
       "      <td>C10.427</td>\n",
       "      <td>This mentally ill Lady is a barking Street dog...</td>\n",
       "      <td>NAG</td>\n",
       "      <td>GEN</td>\n",
       "      <td>1</td>\n",
       "    </tr>\n",
       "    <tr>\n",
       "      <th>82</th>\n",
       "      <td>C43.12</td>\n",
       "      <td>Finally, i can legally call indians gay</td>\n",
       "      <td>NAG</td>\n",
       "      <td>GEN</td>\n",
       "      <td>1</td>\n",
       "    </tr>\n",
       "    <tr>\n",
       "      <th>85</th>\n",
       "      <td>C10.1402</td>\n",
       "      <td>As per Arundhati she should give her name as K...</td>\n",
       "      <td>NAG</td>\n",
       "      <td>GEN</td>\n",
       "      <td>1</td>\n",
       "    </tr>\n",
       "    <tr>\n",
       "      <th>...</th>\n",
       "      <td>...</td>\n",
       "      <td>...</td>\n",
       "      <td>...</td>\n",
       "      <td>...</td>\n",
       "      <td>...</td>\n",
       "    </tr>\n",
       "    <tr>\n",
       "      <th>4182</th>\n",
       "      <td>C20.265</td>\n",
       "      <td>You,re a bitch</td>\n",
       "      <td>OAG</td>\n",
       "      <td>GEN</td>\n",
       "      <td>5</td>\n",
       "    </tr>\n",
       "    <tr>\n",
       "      <th>4208</th>\n",
       "      <td>C43.167.1</td>\n",
       "      <td>@Baraqua Amina Levy-Khan So is prests raping c...</td>\n",
       "      <td>OAG</td>\n",
       "      <td>GEN</td>\n",
       "      <td>5</td>\n",
       "    </tr>\n",
       "    <tr>\n",
       "      <th>4226</th>\n",
       "      <td>C20.62</td>\n",
       "      <td>Fuck u and your reviews.....</td>\n",
       "      <td>OAG</td>\n",
       "      <td>GEN</td>\n",
       "      <td>5</td>\n",
       "    </tr>\n",
       "    <tr>\n",
       "      <th>4254</th>\n",
       "      <td>C38.448</td>\n",
       "      <td>Open bob and vagane</td>\n",
       "      <td>OAG</td>\n",
       "      <td>GEN</td>\n",
       "      <td>5</td>\n",
       "    </tr>\n",
       "    <tr>\n",
       "      <th>4258</th>\n",
       "      <td>C10.123</td>\n",
       "      <td>Abey loudey Arnab... Did u ever see the vedios...</td>\n",
       "      <td>OAG</td>\n",
       "      <td>GEN</td>\n",
       "      <td>5</td>\n",
       "    </tr>\n",
       "  </tbody>\n",
       "</table>\n",
       "<p>1022 rows × 5 columns</p>\n",
       "</div>"
      ],
      "text/plain": [
       "             ID                                               Text Sub-task A  \\\n",
       "21      C38.482  its not good i think its all dimaghi keeda bei...        NAG   \n",
       "24      C10.155  Why can't the Indian government take serious a...        NAG   \n",
       "61      C10.427  This mentally ill Lady is a barking Street dog...        NAG   \n",
       "82       C43.12            Finally, i can legally call indians gay        NAG   \n",
       "85     C10.1402  As per Arundhati she should give her name as K...        NAG   \n",
       "...         ...                                                ...        ...   \n",
       "4182    C20.265                                     You,re a bitch        OAG   \n",
       "4208  C43.167.1  @Baraqua Amina Levy-Khan So is prests raping c...        OAG   \n",
       "4226     C20.62                       Fuck u and your reviews.....        OAG   \n",
       "4254    C38.448                                Open bob and vagane        OAG   \n",
       "4258    C10.123  Abey loudey Arnab... Did u ever see the vedios...        OAG   \n",
       "\n",
       "     Sub-task B  combined  \n",
       "21          GEN         1  \n",
       "24          GEN         1  \n",
       "61          GEN         1  \n",
       "82          GEN         1  \n",
       "85          GEN         1  \n",
       "...         ...       ...  \n",
       "4182        GEN         5  \n",
       "4208        GEN         5  \n",
       "4226        GEN         5  \n",
       "4254        GEN         5  \n",
       "4258        GEN         5  \n",
       "\n",
       "[1022 rows x 5 columns]"
      ]
     },
     "execution_count": 8,
     "metadata": {},
     "output_type": "execute_result"
    }
   ],
   "source": [
    "# only want to augment the minority classes\n",
    "# create a dataframe with only the minority classes\n",
    "\n",
    "df = pd.concat([train_1, train_2, train_3, train_4, train_5], axis=0)\n",
    "df"
   ]
  },
  {
   "cell_type": "code",
   "execution_count": 9,
   "id": "4eac127d",
   "metadata": {},
   "outputs": [],
   "source": [
    "# eliminate newline characters\n",
    "df = df.replace('\\n',' ', regex=True)"
   ]
  },
  {
   "cell_type": "code",
   "execution_count": 10,
   "id": "cab6dea6",
   "metadata": {},
   "outputs": [],
   "source": [
    "# select columns in the order expected in the algorithm\n",
    "df = df[['combined', 'Text']]"
   ]
  },
  {
   "cell_type": "code",
   "execution_count": 11,
   "id": "47ed84da",
   "metadata": {},
   "outputs": [],
   "source": [
    "df.to_csv('../../../eda_nlp/data/trac-2.txt', sep ='\\t', index=False, header=False)"
   ]
  },
  {
   "cell_type": "markdown",
   "id": "685c9621",
   "metadata": {},
   "source": [
    "## Augment Data"
   ]
  },
  {
   "cell_type": "code",
   "execution_count": 12,
   "id": "0ec5670f",
   "metadata": {},
   "outputs": [
    {
     "name": "stdout",
     "output_type": "stream",
     "text": [
      "/Users/isabel/SynologyDrive/Data_Science/09-W266_NPL_Deep_Learning/05-Final_project/eda_nlp\n"
     ]
    }
   ],
   "source": [
    "# go to the directory where the EDA code is\n",
    "%cd ../../../eda_nlp"
   ]
  },
  {
   "cell_type": "markdown",
   "id": "69c42789",
   "metadata": {},
   "source": [
    "### Synomym augmentation with random deletion\n",
    "\n",
    "Replace 10% of words by synonyms and delete 5% of words.\n"
   ]
  },
  {
   "cell_type": "code",
   "execution_count": 13,
   "id": "550f243c",
   "metadata": {},
   "outputs": [
    {
     "name": "stdout",
     "output_type": "stream",
     "text": [
      "generated augmented sentences with eda for data/trac-2.txt to data/trac-2_augmented.txt with num_aug=5\r\n"
     ]
    }
   ],
   "source": [
    "!python code/augment.py \\\n",
    "--input=data/trac-2.txt \\\n",
    "--output=data/trac-2_augmented.txt \\\n",
    "--num_aug=5 \\\n",
    "--alpha_sr=0.1 \\\n",
    "--alpha_rd=0.05 \\\n",
    "--alpha_ri=0.0 \\\n",
    "--alpha_rs=0.0"
   ]
  },
  {
   "cell_type": "code",
   "execution_count": 14,
   "id": "d5799644",
   "metadata": {},
   "outputs": [],
   "source": [
    "# read augmented data back\n",
    "df_augm= pd.read_csv('data/trac-2_augmented.txt', sep='\\t', names=['combined', 'Text'])"
   ]
  },
  {
   "cell_type": "code",
   "execution_count": 15,
   "id": "9d95ae46",
   "metadata": {},
   "outputs": [
    {
     "data": {
      "text/html": [
       "<div>\n",
       "<style scoped>\n",
       "    .dataframe tbody tr th:only-of-type {\n",
       "        vertical-align: middle;\n",
       "    }\n",
       "\n",
       "    .dataframe tbody tr th {\n",
       "        vertical-align: top;\n",
       "    }\n",
       "\n",
       "    .dataframe thead th {\n",
       "        text-align: right;\n",
       "    }\n",
       "</style>\n",
       "<table border=\"1\" class=\"dataframe\">\n",
       "  <thead>\n",
       "    <tr style=\"text-align: right;\">\n",
       "      <th></th>\n",
       "      <th>combined</th>\n",
       "      <th>Text</th>\n",
       "    </tr>\n",
       "  </thead>\n",
       "  <tbody>\n",
       "    <tr>\n",
       "      <th>0</th>\n",
       "      <td>1</td>\n",
       "      <td>not good i its all dimaghi keeda being or lesbian</td>\n",
       "    </tr>\n",
       "    <tr>\n",
       "      <th>1</th>\n",
       "      <td>1</td>\n",
       "      <td>its not good i think its all dimaghi keeda bei...</td>\n",
       "    </tr>\n",
       "    <tr>\n",
       "      <th>2</th>\n",
       "      <td>1</td>\n",
       "      <td>its not good think its all dimaghi keeda being...</td>\n",
       "    </tr>\n",
       "    <tr>\n",
       "      <th>3</th>\n",
       "      <td>1</td>\n",
       "      <td>its not good i call up its all dimaghi keeda b...</td>\n",
       "    </tr>\n",
       "    <tr>\n",
       "      <th>4</th>\n",
       "      <td>1</td>\n",
       "      <td>its not good i think its all dimaghi keeda bei...</td>\n",
       "    </tr>\n",
       "    <tr>\n",
       "      <th>...</th>\n",
       "      <td>...</td>\n",
       "      <td>...</td>\n",
       "    </tr>\n",
       "    <tr>\n",
       "      <th>5105</th>\n",
       "      <td>5</td>\n",
       "      <td>abey loudey arnab did u ever see the vedios of...</td>\n",
       "    </tr>\n",
       "    <tr>\n",
       "      <th>5106</th>\n",
       "      <td>5</td>\n",
       "      <td>abey loudey arnab did u always see the vedios ...</td>\n",
       "    </tr>\n",
       "    <tr>\n",
       "      <th>5107</th>\n",
       "      <td>5</td>\n",
       "      <td>abey loudey arnab did u ever see the vedios of...</td>\n",
       "    </tr>\n",
       "    <tr>\n",
       "      <th>5108</th>\n",
       "      <td>5</td>\n",
       "      <td>abey loudey arnab did u ever see the vedios hi...</td>\n",
       "    </tr>\n",
       "    <tr>\n",
       "      <th>5109</th>\n",
       "      <td>5</td>\n",
       "      <td>abey loudey arnab did u ever see the vedios of...</td>\n",
       "    </tr>\n",
       "  </tbody>\n",
       "</table>\n",
       "<p>5110 rows × 2 columns</p>\n",
       "</div>"
      ],
      "text/plain": [
       "      combined                                               Text\n",
       "0            1  not good i its all dimaghi keeda being or lesbian\n",
       "1            1  its not good i think its all dimaghi keeda bei...\n",
       "2            1  its not good think its all dimaghi keeda being...\n",
       "3            1  its not good i call up its all dimaghi keeda b...\n",
       "4            1  its not good i think its all dimaghi keeda bei...\n",
       "...        ...                                                ...\n",
       "5105         5  abey loudey arnab did u ever see the vedios of...\n",
       "5106         5  abey loudey arnab did u always see the vedios ...\n",
       "5107         5  abey loudey arnab did u ever see the vedios of...\n",
       "5108         5  abey loudey arnab did u ever see the vedios hi...\n",
       "5109         5  abey loudey arnab did u ever see the vedios of...\n",
       "\n",
       "[5110 rows x 2 columns]"
      ]
     },
     "execution_count": 15,
     "metadata": {},
     "output_type": "execute_result"
    }
   ],
   "source": [
    "df_augm"
   ]
  },
  {
   "cell_type": "code",
   "execution_count": 21,
   "id": "87b7dd2b",
   "metadata": {},
   "outputs": [],
   "source": [
    "# now need to create a dataframe with all the data (original + augmented)\n",
    "\n",
    "# list of conditions to populate labels task A and task B\n",
    "conditions = [(df_augm['combined'] == 1), \n",
    "              (df_augm['combined'] == 2 ),\n",
    "              (df_augm['combined'] == 3 ),\n",
    "              (df_augm['combined'] == 4 ),\n",
    "              (df_augm['combined'] == 5 )\n",
    "             ]\n",
    "# values for task A and B\n",
    "values_a = ['NAG','CAG','CAG','OAG', 'OAG']\n",
    "values_b = ['GEN','NGEN','GEN','NGEN', 'GEN']\n",
    "\n",
    "# create columsn with labels \n",
    "df_augm['Sub-task A'] = np.select(conditions, values_a)\n",
    "df_augm['Sub-task B'] = np.select(conditions, values_b)\n",
    "\n",
    "df_augm = df_augm[['Text', 'Sub-task A', 'Sub-task B']]\n"
   ]
  },
  {
   "cell_type": "code",
   "execution_count": 24,
   "id": "7a0e473b",
   "metadata": {},
   "outputs": [
    {
     "ename": "KeyError",
     "evalue": "\"['Sub-task A', 'Sub-task B'] not in index\"",
     "output_type": "error",
     "traceback": [
      "\u001b[0;31m---------------------------------------------------------------------------\u001b[0m",
      "\u001b[0;31mKeyError\u001b[0m                                  Traceback (most recent call last)",
      "\u001b[0;32m/var/folders/86/_vl4_6vn0gj17t38gfzw7g240000gn/T/ipykernel_38309/316233272.py\u001b[0m in \u001b[0;36m<module>\u001b[0;34m\u001b[0m\n\u001b[1;32m      1\u001b[0m \u001b[0;31m# select same columns in majority class dataset and original data\u001b[0m\u001b[0;34m\u001b[0m\u001b[0;34m\u001b[0m\u001b[0m\n\u001b[1;32m      2\u001b[0m \u001b[0mtrain_0\u001b[0m \u001b[0;34m=\u001b[0m \u001b[0mtrain_0\u001b[0m\u001b[0;34m[\u001b[0m\u001b[0;34m[\u001b[0m\u001b[0;34m'Text'\u001b[0m\u001b[0;34m,\u001b[0m \u001b[0;34m'Sub-task A'\u001b[0m\u001b[0;34m,\u001b[0m \u001b[0;34m'Sub-task B'\u001b[0m\u001b[0;34m]\u001b[0m\u001b[0;34m]\u001b[0m\u001b[0;34m\u001b[0m\u001b[0;34m\u001b[0m\u001b[0m\n\u001b[0;32m----> 3\u001b[0;31m \u001b[0mdf\u001b[0m \u001b[0;34m=\u001b[0m \u001b[0mdf\u001b[0m\u001b[0;34m[\u001b[0m\u001b[0;34m[\u001b[0m\u001b[0;34m'Text'\u001b[0m\u001b[0;34m,\u001b[0m \u001b[0;34m'Sub-task A'\u001b[0m\u001b[0;34m,\u001b[0m \u001b[0;34m'Sub-task B'\u001b[0m\u001b[0;34m]\u001b[0m\u001b[0;34m]\u001b[0m\u001b[0;34m\u001b[0m\u001b[0;34m\u001b[0m\u001b[0m\n\u001b[0m",
      "\u001b[0;32m~/miniforge3/lib/python3.9/site-packages/pandas/core/frame.py\u001b[0m in \u001b[0;36m__getitem__\u001b[0;34m(self, key)\u001b[0m\n\u001b[1;32m   3462\u001b[0m             \u001b[0;32mif\u001b[0m \u001b[0mis_iterator\u001b[0m\u001b[0;34m(\u001b[0m\u001b[0mkey\u001b[0m\u001b[0;34m)\u001b[0m\u001b[0;34m:\u001b[0m\u001b[0;34m\u001b[0m\u001b[0;34m\u001b[0m\u001b[0m\n\u001b[1;32m   3463\u001b[0m                 \u001b[0mkey\u001b[0m \u001b[0;34m=\u001b[0m \u001b[0mlist\u001b[0m\u001b[0;34m(\u001b[0m\u001b[0mkey\u001b[0m\u001b[0;34m)\u001b[0m\u001b[0;34m\u001b[0m\u001b[0;34m\u001b[0m\u001b[0m\n\u001b[0;32m-> 3464\u001b[0;31m             \u001b[0mindexer\u001b[0m \u001b[0;34m=\u001b[0m \u001b[0mself\u001b[0m\u001b[0;34m.\u001b[0m\u001b[0mloc\u001b[0m\u001b[0;34m.\u001b[0m\u001b[0m_get_listlike_indexer\u001b[0m\u001b[0;34m(\u001b[0m\u001b[0mkey\u001b[0m\u001b[0;34m,\u001b[0m \u001b[0maxis\u001b[0m\u001b[0;34m=\u001b[0m\u001b[0;36m1\u001b[0m\u001b[0;34m)\u001b[0m\u001b[0;34m[\u001b[0m\u001b[0;36m1\u001b[0m\u001b[0;34m]\u001b[0m\u001b[0;34m\u001b[0m\u001b[0;34m\u001b[0m\u001b[0m\n\u001b[0m\u001b[1;32m   3465\u001b[0m \u001b[0;34m\u001b[0m\u001b[0m\n\u001b[1;32m   3466\u001b[0m         \u001b[0;31m# take() does not accept boolean indexers\u001b[0m\u001b[0;34m\u001b[0m\u001b[0;34m\u001b[0m\u001b[0m\n",
      "\u001b[0;32m~/miniforge3/lib/python3.9/site-packages/pandas/core/indexing.py\u001b[0m in \u001b[0;36m_get_listlike_indexer\u001b[0;34m(self, key, axis)\u001b[0m\n\u001b[1;32m   1312\u001b[0m             \u001b[0mkeyarr\u001b[0m\u001b[0;34m,\u001b[0m \u001b[0mindexer\u001b[0m\u001b[0;34m,\u001b[0m \u001b[0mnew_indexer\u001b[0m \u001b[0;34m=\u001b[0m \u001b[0max\u001b[0m\u001b[0;34m.\u001b[0m\u001b[0m_reindex_non_unique\u001b[0m\u001b[0;34m(\u001b[0m\u001b[0mkeyarr\u001b[0m\u001b[0;34m)\u001b[0m\u001b[0;34m\u001b[0m\u001b[0;34m\u001b[0m\u001b[0m\n\u001b[1;32m   1313\u001b[0m \u001b[0;34m\u001b[0m\u001b[0m\n\u001b[0;32m-> 1314\u001b[0;31m         \u001b[0mself\u001b[0m\u001b[0;34m.\u001b[0m\u001b[0m_validate_read_indexer\u001b[0m\u001b[0;34m(\u001b[0m\u001b[0mkeyarr\u001b[0m\u001b[0;34m,\u001b[0m \u001b[0mindexer\u001b[0m\u001b[0;34m,\u001b[0m \u001b[0maxis\u001b[0m\u001b[0;34m)\u001b[0m\u001b[0;34m\u001b[0m\u001b[0;34m\u001b[0m\u001b[0m\n\u001b[0m\u001b[1;32m   1315\u001b[0m \u001b[0;34m\u001b[0m\u001b[0m\n\u001b[1;32m   1316\u001b[0m         if needs_i8_conversion(ax.dtype) or isinstance(\n",
      "\u001b[0;32m~/miniforge3/lib/python3.9/site-packages/pandas/core/indexing.py\u001b[0m in \u001b[0;36m_validate_read_indexer\u001b[0;34m(self, key, indexer, axis)\u001b[0m\n\u001b[1;32m   1375\u001b[0m \u001b[0;34m\u001b[0m\u001b[0m\n\u001b[1;32m   1376\u001b[0m             \u001b[0mnot_found\u001b[0m \u001b[0;34m=\u001b[0m \u001b[0mlist\u001b[0m\u001b[0;34m(\u001b[0m\u001b[0mensure_index\u001b[0m\u001b[0;34m(\u001b[0m\u001b[0mkey\u001b[0m\u001b[0;34m)\u001b[0m\u001b[0;34m[\u001b[0m\u001b[0mmissing_mask\u001b[0m\u001b[0;34m.\u001b[0m\u001b[0mnonzero\u001b[0m\u001b[0;34m(\u001b[0m\u001b[0;34m)\u001b[0m\u001b[0;34m[\u001b[0m\u001b[0;36m0\u001b[0m\u001b[0;34m]\u001b[0m\u001b[0;34m]\u001b[0m\u001b[0;34m.\u001b[0m\u001b[0munique\u001b[0m\u001b[0;34m(\u001b[0m\u001b[0;34m)\u001b[0m\u001b[0;34m)\u001b[0m\u001b[0;34m\u001b[0m\u001b[0;34m\u001b[0m\u001b[0m\n\u001b[0;32m-> 1377\u001b[0;31m             \u001b[0;32mraise\u001b[0m \u001b[0mKeyError\u001b[0m\u001b[0;34m(\u001b[0m\u001b[0;34mf\"{not_found} not in index\"\u001b[0m\u001b[0;34m)\u001b[0m\u001b[0;34m\u001b[0m\u001b[0;34m\u001b[0m\u001b[0m\n\u001b[0m\u001b[1;32m   1378\u001b[0m \u001b[0;34m\u001b[0m\u001b[0m\n\u001b[1;32m   1379\u001b[0m \u001b[0;34m\u001b[0m\u001b[0m\n",
      "\u001b[0;31mKeyError\u001b[0m: \"['Sub-task A', 'Sub-task B'] not in index\""
     ]
    }
   ],
   "source": [
    "# select same columns in majority class dataset and original data\n",
    "train_0 = train_0[['Text', 'Sub-task A', 'Sub-task B']]\n",
    "df = df[['Text', 'Sub-task A', 'Sub-task B']] "
   ]
  },
  {
   "cell_type": "code",
   "execution_count": 23,
   "id": "4db77ac0",
   "metadata": {},
   "outputs": [
    {
     "data": {
      "text/html": [
       "<div>\n",
       "<style scoped>\n",
       "    .dataframe tbody tr th:only-of-type {\n",
       "        vertical-align: middle;\n",
       "    }\n",
       "\n",
       "    .dataframe tbody tr th {\n",
       "        vertical-align: top;\n",
       "    }\n",
       "\n",
       "    .dataframe thead th {\n",
       "        text-align: right;\n",
       "    }\n",
       "</style>\n",
       "<table border=\"1\" class=\"dataframe\">\n",
       "  <thead>\n",
       "    <tr style=\"text-align: right;\">\n",
       "      <th></th>\n",
       "      <th>Text</th>\n",
       "      <th>Sub-task A</th>\n",
       "      <th>Sub-task B</th>\n",
       "    </tr>\n",
       "  </thead>\n",
       "  <tbody>\n",
       "    <tr>\n",
       "      <th>0</th>\n",
       "      <td>not good i its all dimaghi keeda being or lesbian</td>\n",
       "      <td>NAG</td>\n",
       "      <td>GEN</td>\n",
       "    </tr>\n",
       "    <tr>\n",
       "      <th>1</th>\n",
       "      <td>its not good i think its all dimaghi keeda bei...</td>\n",
       "      <td>NAG</td>\n",
       "      <td>GEN</td>\n",
       "    </tr>\n",
       "    <tr>\n",
       "      <th>2</th>\n",
       "      <td>its not good think its all dimaghi keeda being...</td>\n",
       "      <td>NAG</td>\n",
       "      <td>GEN</td>\n",
       "    </tr>\n",
       "    <tr>\n",
       "      <th>3</th>\n",
       "      <td>its not good i call up its all dimaghi keeda b...</td>\n",
       "      <td>NAG</td>\n",
       "      <td>GEN</td>\n",
       "    </tr>\n",
       "    <tr>\n",
       "      <th>4</th>\n",
       "      <td>its not good i think its all dimaghi keeda bei...</td>\n",
       "      <td>NAG</td>\n",
       "      <td>GEN</td>\n",
       "    </tr>\n",
       "    <tr>\n",
       "      <th>...</th>\n",
       "      <td>...</td>\n",
       "      <td>...</td>\n",
       "      <td>...</td>\n",
       "    </tr>\n",
       "    <tr>\n",
       "      <th>5105</th>\n",
       "      <td>abey loudey arnab did u ever see the vedios of...</td>\n",
       "      <td>OAG</td>\n",
       "      <td>GEN</td>\n",
       "    </tr>\n",
       "    <tr>\n",
       "      <th>5106</th>\n",
       "      <td>abey loudey arnab did u always see the vedios ...</td>\n",
       "      <td>OAG</td>\n",
       "      <td>GEN</td>\n",
       "    </tr>\n",
       "    <tr>\n",
       "      <th>5107</th>\n",
       "      <td>abey loudey arnab did u ever see the vedios of...</td>\n",
       "      <td>OAG</td>\n",
       "      <td>GEN</td>\n",
       "    </tr>\n",
       "    <tr>\n",
       "      <th>5108</th>\n",
       "      <td>abey loudey arnab did u ever see the vedios hi...</td>\n",
       "      <td>OAG</td>\n",
       "      <td>GEN</td>\n",
       "    </tr>\n",
       "    <tr>\n",
       "      <th>5109</th>\n",
       "      <td>abey loudey arnab did u ever see the vedios of...</td>\n",
       "      <td>OAG</td>\n",
       "      <td>GEN</td>\n",
       "    </tr>\n",
       "  </tbody>\n",
       "</table>\n",
       "<p>5110 rows × 3 columns</p>\n",
       "</div>"
      ],
      "text/plain": [
       "                                                   Text Sub-task A Sub-task B\n",
       "0     not good i its all dimaghi keeda being or lesbian        NAG        GEN\n",
       "1     its not good i think its all dimaghi keeda bei...        NAG        GEN\n",
       "2     its not good think its all dimaghi keeda being...        NAG        GEN\n",
       "3     its not good i call up its all dimaghi keeda b...        NAG        GEN\n",
       "4     its not good i think its all dimaghi keeda bei...        NAG        GEN\n",
       "...                                                 ...        ...        ...\n",
       "5105  abey loudey arnab did u ever see the vedios of...        OAG        GEN\n",
       "5106  abey loudey arnab did u always see the vedios ...        OAG        GEN\n",
       "5107  abey loudey arnab did u ever see the vedios of...        OAG        GEN\n",
       "5108  abey loudey arnab did u ever see the vedios hi...        OAG        GEN\n",
       "5109  abey loudey arnab did u ever see the vedios of...        OAG        GEN\n",
       "\n",
       "[5110 rows x 3 columns]"
      ]
     },
     "execution_count": 23,
     "metadata": {},
     "output_type": "execute_result"
    }
   ],
   "source": [
    "df_augm"
   ]
  },
  {
   "cell_type": "code",
   "execution_count": 25,
   "id": "09092037",
   "metadata": {},
   "outputs": [],
   "source": [
    "# select same columns in the original data\n",
    "train_0 = train_0[['Text', 'Sub-task A', 'Sub-task B']]\n",
    "train_1 = train_1[['Text', 'Sub-task A', 'Sub-task B']]\n",
    "train_2 = train_2[['Text', 'Sub-task A', 'Sub-task B']]\n",
    "train_3 = train_3[['Text', 'Sub-task A', 'Sub-task B']]\n",
    "train_4 = train_4[['Text', 'Sub-task A', 'Sub-task B']]\n",
    "train_5 = train_5[['Text', 'Sub-task A', 'Sub-task B']]"
   ]
  },
  {
   "cell_type": "code",
   "execution_count": 29,
   "id": "1ae615b2",
   "metadata": {},
   "outputs": [],
   "source": [
    "# concatenate dataframes to produce a final dataframe\n",
    "final = pd.concat([train_0,train_1,train_2,train_3,train_4,train_5,df_augm], ignore_index=True)"
   ]
  },
  {
   "cell_type": "code",
   "execution_count": 30,
   "id": "28fa3cf5",
   "metadata": {},
   "outputs": [
    {
     "data": {
      "text/html": [
       "<div>\n",
       "<style scoped>\n",
       "    .dataframe tbody tr th:only-of-type {\n",
       "        vertical-align: middle;\n",
       "    }\n",
       "\n",
       "    .dataframe tbody tr th {\n",
       "        vertical-align: top;\n",
       "    }\n",
       "\n",
       "    .dataframe thead th {\n",
       "        text-align: right;\n",
       "    }\n",
       "</style>\n",
       "<table border=\"1\" class=\"dataframe\">\n",
       "  <thead>\n",
       "    <tr style=\"text-align: right;\">\n",
       "      <th></th>\n",
       "      <th>Text</th>\n",
       "      <th>Sub-task A</th>\n",
       "      <th>Sub-task B</th>\n",
       "    </tr>\n",
       "  </thead>\n",
       "  <tbody>\n",
       "    <tr>\n",
       "      <th>0</th>\n",
       "      <td>Next part</td>\n",
       "      <td>NAG</td>\n",
       "      <td>NGEN</td>\n",
       "    </tr>\n",
       "    <tr>\n",
       "      <th>1</th>\n",
       "      <td>Iii8mllllllm\\nMdxfvb8o90lplppi0005</td>\n",
       "      <td>NAG</td>\n",
       "      <td>NGEN</td>\n",
       "    </tr>\n",
       "    <tr>\n",
       "      <th>2</th>\n",
       "      <td>🤣🤣😂😂🤣🤣🤣😂osm vedio ....keep it up...make more v...</td>\n",
       "      <td>NAG</td>\n",
       "      <td>NGEN</td>\n",
       "    </tr>\n",
       "    <tr>\n",
       "      <th>3</th>\n",
       "      <td>What the fuck was this? I respect shwetabh and...</td>\n",
       "      <td>NAG</td>\n",
       "      <td>NGEN</td>\n",
       "    </tr>\n",
       "    <tr>\n",
       "      <th>4</th>\n",
       "      <td>Concerned authorities should bring arundathi R...</td>\n",
       "      <td>NAG</td>\n",
       "      <td>NGEN</td>\n",
       "    </tr>\n",
       "    <tr>\n",
       "      <th>...</th>\n",
       "      <td>...</td>\n",
       "      <td>...</td>\n",
       "      <td>...</td>\n",
       "    </tr>\n",
       "    <tr>\n",
       "      <th>9368</th>\n",
       "      <td>abey loudey arnab did u ever see the vedios of...</td>\n",
       "      <td>OAG</td>\n",
       "      <td>GEN</td>\n",
       "    </tr>\n",
       "    <tr>\n",
       "      <th>9369</th>\n",
       "      <td>abey loudey arnab did u always see the vedios ...</td>\n",
       "      <td>OAG</td>\n",
       "      <td>GEN</td>\n",
       "    </tr>\n",
       "    <tr>\n",
       "      <th>9370</th>\n",
       "      <td>abey loudey arnab did u ever see the vedios of...</td>\n",
       "      <td>OAG</td>\n",
       "      <td>GEN</td>\n",
       "    </tr>\n",
       "    <tr>\n",
       "      <th>9371</th>\n",
       "      <td>abey loudey arnab did u ever see the vedios hi...</td>\n",
       "      <td>OAG</td>\n",
       "      <td>GEN</td>\n",
       "    </tr>\n",
       "    <tr>\n",
       "      <th>9372</th>\n",
       "      <td>abey loudey arnab did u ever see the vedios of...</td>\n",
       "      <td>OAG</td>\n",
       "      <td>GEN</td>\n",
       "    </tr>\n",
       "  </tbody>\n",
       "</table>\n",
       "<p>9373 rows × 3 columns</p>\n",
       "</div>"
      ],
      "text/plain": [
       "                                                   Text Sub-task A Sub-task B\n",
       "0                                             Next part        NAG       NGEN\n",
       "1                    Iii8mllllllm\\nMdxfvb8o90lplppi0005        NAG       NGEN\n",
       "2     🤣🤣😂😂🤣🤣🤣😂osm vedio ....keep it up...make more v...        NAG       NGEN\n",
       "3     What the fuck was this? I respect shwetabh and...        NAG       NGEN\n",
       "4     Concerned authorities should bring arundathi R...        NAG       NGEN\n",
       "...                                                 ...        ...        ...\n",
       "9368  abey loudey arnab did u ever see the vedios of...        OAG        GEN\n",
       "9369  abey loudey arnab did u always see the vedios ...        OAG        GEN\n",
       "9370  abey loudey arnab did u ever see the vedios of...        OAG        GEN\n",
       "9371  abey loudey arnab did u ever see the vedios hi...        OAG        GEN\n",
       "9372  abey loudey arnab did u ever see the vedios of...        OAG        GEN\n",
       "\n",
       "[9373 rows x 3 columns]"
      ]
     },
     "execution_count": 30,
     "metadata": {},
     "output_type": "execute_result"
    }
   ],
   "source": [
    "final"
   ]
  },
  {
   "cell_type": "code",
   "execution_count": 31,
   "id": "37d43e27",
   "metadata": {},
   "outputs": [
    {
     "data": {
      "text/html": [
       "<div>\n",
       "<style scoped>\n",
       "    .dataframe tbody tr th:only-of-type {\n",
       "        vertical-align: middle;\n",
       "    }\n",
       "\n",
       "    .dataframe tbody tr th {\n",
       "        vertical-align: top;\n",
       "    }\n",
       "\n",
       "    .dataframe thead th {\n",
       "        text-align: right;\n",
       "    }\n",
       "</style>\n",
       "<table border=\"1\" class=\"dataframe\">\n",
       "  <thead>\n",
       "    <tr style=\"text-align: right;\">\n",
       "      <th></th>\n",
       "      <th>Text</th>\n",
       "      <th>Sub-task A</th>\n",
       "      <th>Sub-task B</th>\n",
       "    </tr>\n",
       "  </thead>\n",
       "  <tbody>\n",
       "    <tr>\n",
       "      <th>5168</th>\n",
       "      <td>true brother bollywood definitely chutiyapa</td>\n",
       "      <td>CAG</td>\n",
       "      <td>NGEN</td>\n",
       "    </tr>\n",
       "    <tr>\n",
       "      <th>8340</th>\n",
       "      <td>this man is sick</td>\n",
       "      <td>OAG</td>\n",
       "      <td>NGEN</td>\n",
       "    </tr>\n",
       "    <tr>\n",
       "      <th>7743</th>\n",
       "      <td>who is arundhati roy is she above constitution...</td>\n",
       "      <td>OAG</td>\n",
       "      <td>NGEN</td>\n",
       "    </tr>\n",
       "    <tr>\n",
       "      <th>4510</th>\n",
       "      <td>she really have randy take care</td>\n",
       "      <td>NAG</td>\n",
       "      <td>GEN</td>\n",
       "    </tr>\n",
       "    <tr>\n",
       "      <th>8650</th>\n",
       "      <td>as a citizen i feel nrc is a slipper slap on m...</td>\n",
       "      <td>OAG</td>\n",
       "      <td>NGEN</td>\n",
       "    </tr>\n",
       "    <tr>\n",
       "      <th>...</th>\n",
       "      <td>...</td>\n",
       "      <td>...</td>\n",
       "      <td>...</td>\n",
       "    </tr>\n",
       "    <tr>\n",
       "      <th>7329</th>\n",
       "      <td>jhand movie is the perfect</td>\n",
       "      <td>OAG</td>\n",
       "      <td>NGEN</td>\n",
       "    </tr>\n",
       "    <tr>\n",
       "      <th>2518</th>\n",
       "      <td>Hllo</td>\n",
       "      <td>NAG</td>\n",
       "      <td>NGEN</td>\n",
       "    </tr>\n",
       "    <tr>\n",
       "      <th>4580</th>\n",
       "      <td>brother one more question why do u think being...</td>\n",
       "      <td>NAG</td>\n",
       "      <td>GEN</td>\n",
       "    </tr>\n",
       "    <tr>\n",
       "      <th>1742</th>\n",
       "      <td>I agree bro you are right</td>\n",
       "      <td>NAG</td>\n",
       "      <td>NGEN</td>\n",
       "    </tr>\n",
       "    <tr>\n",
       "      <th>1712</th>\n",
       "      <td>Vvvvvvvvnice</td>\n",
       "      <td>NAG</td>\n",
       "      <td>NGEN</td>\n",
       "    </tr>\n",
       "  </tbody>\n",
       "</table>\n",
       "<p>9373 rows × 3 columns</p>\n",
       "</div>"
      ],
      "text/plain": [
       "                                                   Text Sub-task A Sub-task B\n",
       "5168        true brother bollywood definitely chutiyapa        CAG       NGEN\n",
       "8340                                   this man is sick        OAG       NGEN\n",
       "7743  who is arundhati roy is she above constitution...        OAG       NGEN\n",
       "4510                    she really have randy take care        NAG        GEN\n",
       "8650  as a citizen i feel nrc is a slipper slap on m...        OAG       NGEN\n",
       "...                                                 ...        ...        ...\n",
       "7329                         jhand movie is the perfect        OAG       NGEN\n",
       "2518                                               Hllo        NAG       NGEN\n",
       "4580  brother one more question why do u think being...        NAG        GEN\n",
       "1742                          I agree bro you are right        NAG       NGEN\n",
       "1712                                       Vvvvvvvvnice        NAG       NGEN\n",
       "\n",
       "[9373 rows x 3 columns]"
      ]
     },
     "execution_count": 31,
     "metadata": {},
     "output_type": "execute_result"
    }
   ],
   "source": [
    "# shuffle dataframe\n",
    "final = final.sample(frac=1)\n",
    "final"
   ]
  },
  {
   "cell_type": "code",
   "execution_count": 33,
   "id": "1a4b47e3",
   "metadata": {},
   "outputs": [
    {
     "data": {
      "text/plain": [
       "NAG    0.431559\n",
       "CAG    0.289982\n",
       "OAG    0.278459\n",
       "Name: Sub-task A, dtype: float64"
      ]
     },
     "execution_count": 33,
     "metadata": {},
     "output_type": "execute_result"
    }
   ],
   "source": [
    "final['Sub-task A'].value_counts(normalize=True)"
   ]
  },
  {
   "cell_type": "code",
   "execution_count": 34,
   "id": "38fc9ad7",
   "metadata": {},
   "outputs": [
    {
     "data": {
      "text/plain": [
       "NGEN    0.802198\n",
       "GEN     0.197802\n",
       "Name: Sub-task B, dtype: float64"
      ]
     },
     "execution_count": 34,
     "metadata": {},
     "output_type": "execute_result"
    }
   ],
   "source": [
    "final['Sub-task B'].value_counts(normalize=True)"
   ]
  },
  {
   "cell_type": "code",
   "execution_count": 36,
   "id": "52c0d1a6",
   "metadata": {},
   "outputs": [
    {
     "name": "stdout",
     "output_type": "stream",
     "text": [
      "/Users/isabel/SynologyDrive/Data_Science/09-W266_NPL_Deep_Learning/05-Final_project/eda_nlp\r\n"
     ]
    }
   ],
   "source": [
    "!pwd"
   ]
  },
  {
   "cell_type": "code",
   "execution_count": 37,
   "id": "6b6f8a20",
   "metadata": {},
   "outputs": [],
   "source": [
    "# save file\n",
    "final.to_csv('../data/release-files/eng/trac2_eng_train_EDA.csv', index=False)"
   ]
  },
  {
   "cell_type": "code",
   "execution_count": null,
   "id": "8abadde5",
   "metadata": {},
   "outputs": [],
   "source": []
  }
 ],
 "metadata": {
  "kernelspec": {
   "display_name": "Python 3 (ipykernel)",
   "language": "python",
   "name": "python3"
  },
  "language_info": {
   "codemirror_mode": {
    "name": "ipython",
    "version": 3
   },
   "file_extension": ".py",
   "mimetype": "text/x-python",
   "name": "python",
   "nbconvert_exporter": "python",
   "pygments_lexer": "ipython3",
   "version": "3.9.7"
  }
 },
 "nbformat": 4,
 "nbformat_minor": 5
}
