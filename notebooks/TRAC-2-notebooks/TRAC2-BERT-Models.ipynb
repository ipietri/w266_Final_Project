{
  "nbformat": 4,
  "nbformat_minor": 5,
  "metadata": {
    "environment": {
      "name": "tf2-gpu.2-6.m79",
      "type": "gcloud",
      "uri": "gcr.io/deeplearning-platform-release/tf2-gpu.2-6:m79"
    },
    "kernelspec": {
      "display_name": "Python 3 (ipykernel)",
      "language": "python",
      "name": "python3"
    },
    "language_info": {
      "codemirror_mode": {
        "name": "ipython",
        "version": 3
      },
      "file_extension": ".py",
      "mimetype": "text/x-python",
      "name": "python",
      "nbconvert_exporter": "python",
      "pygments_lexer": "ipython3",
      "version": "3.9.7"
    },
    "colab": {
      "name": "TRAC2-BERT-Models.ipynb",
      "provenance": [],
      "collapsed_sections": []
    },
    "widgets": {
      "application/vnd.jupyter.widget-state+json": {
        "a22b4d13efbb450ca481082d65c758d3": {
          "model_module": "@jupyter-widgets/controls",
          "model_name": "HBoxModel",
          "model_module_version": "1.5.0",
          "state": {
            "_view_name": "HBoxView",
            "_dom_classes": [],
            "_model_name": "HBoxModel",
            "_view_module": "@jupyter-widgets/controls",
            "_model_module_version": "1.5.0",
            "_view_count": null,
            "_view_module_version": "1.5.0",
            "box_style": "",
            "layout": "IPY_MODEL_0d231997ab7b4d84b982928770a5ab48",
            "_model_module": "@jupyter-widgets/controls",
            "children": [
              "IPY_MODEL_e4de9699fec74a4ca4f435b16340d383",
              "IPY_MODEL_8faf34f9ffdd49d0bb71b4b7a5174c4a",
              "IPY_MODEL_333100a2bf264477afe435ebc37e6cee"
            ]
          }
        },
        "0d231997ab7b4d84b982928770a5ab48": {
          "model_module": "@jupyter-widgets/base",
          "model_name": "LayoutModel",
          "model_module_version": "1.2.0",
          "state": {
            "_view_name": "LayoutView",
            "grid_template_rows": null,
            "right": null,
            "justify_content": null,
            "_view_module": "@jupyter-widgets/base",
            "overflow": null,
            "_model_module_version": "1.2.0",
            "_view_count": null,
            "flex_flow": null,
            "width": null,
            "min_width": null,
            "border": null,
            "align_items": null,
            "bottom": null,
            "_model_module": "@jupyter-widgets/base",
            "top": null,
            "grid_column": null,
            "overflow_y": null,
            "overflow_x": null,
            "grid_auto_flow": null,
            "grid_area": null,
            "grid_template_columns": null,
            "flex": null,
            "_model_name": "LayoutModel",
            "justify_items": null,
            "grid_row": null,
            "max_height": null,
            "align_content": null,
            "visibility": null,
            "align_self": null,
            "height": null,
            "min_height": null,
            "padding": null,
            "grid_auto_rows": null,
            "grid_gap": null,
            "max_width": null,
            "order": null,
            "_view_module_version": "1.2.0",
            "grid_template_areas": null,
            "object_position": null,
            "object_fit": null,
            "grid_auto_columns": null,
            "margin": null,
            "display": null,
            "left": null
          }
        },
        "e4de9699fec74a4ca4f435b16340d383": {
          "model_module": "@jupyter-widgets/controls",
          "model_name": "HTMLModel",
          "model_module_version": "1.5.0",
          "state": {
            "_view_name": "HTMLView",
            "style": "IPY_MODEL_7bd5d3e3ba8b4211ba6cf8ff3e0e6cd3",
            "_dom_classes": [],
            "description": "",
            "_model_name": "HTMLModel",
            "placeholder": "​",
            "_view_module": "@jupyter-widgets/controls",
            "_model_module_version": "1.5.0",
            "value": "100%",
            "_view_count": null,
            "_view_module_version": "1.5.0",
            "description_tooltip": null,
            "_model_module": "@jupyter-widgets/controls",
            "layout": "IPY_MODEL_76088f8ab0c14f639a4c54eca4e8aad4"
          }
        },
        "8faf34f9ffdd49d0bb71b4b7a5174c4a": {
          "model_module": "@jupyter-widgets/controls",
          "model_name": "FloatProgressModel",
          "model_module_version": "1.5.0",
          "state": {
            "_view_name": "ProgressView",
            "style": "IPY_MODEL_e6d70dcdbdb9465d8db072de30cf3827",
            "_dom_classes": [],
            "description": "",
            "_model_name": "FloatProgressModel",
            "bar_style": "success",
            "max": 2,
            "_view_module": "@jupyter-widgets/controls",
            "_model_module_version": "1.5.0",
            "value": 2,
            "_view_count": null,
            "_view_module_version": "1.5.0",
            "orientation": "horizontal",
            "min": 0,
            "description_tooltip": null,
            "_model_module": "@jupyter-widgets/controls",
            "layout": "IPY_MODEL_90641bf1fb1946809f0c06c357601102"
          }
        },
        "333100a2bf264477afe435ebc37e6cee": {
          "model_module": "@jupyter-widgets/controls",
          "model_name": "HTMLModel",
          "model_module_version": "1.5.0",
          "state": {
            "_view_name": "HTMLView",
            "style": "IPY_MODEL_9a7d0e6b90964bb596e204ee1fa86c08",
            "_dom_classes": [],
            "description": "",
            "_model_name": "HTMLModel",
            "placeholder": "​",
            "_view_module": "@jupyter-widgets/controls",
            "_model_module_version": "1.5.0",
            "value": " 2/2 [00:00&lt;00:00,  4.59ba/s]",
            "_view_count": null,
            "_view_module_version": "1.5.0",
            "description_tooltip": null,
            "_model_module": "@jupyter-widgets/controls",
            "layout": "IPY_MODEL_939e95552da44802960951d3c940d203"
          }
        },
        "7bd5d3e3ba8b4211ba6cf8ff3e0e6cd3": {
          "model_module": "@jupyter-widgets/controls",
          "model_name": "DescriptionStyleModel",
          "model_module_version": "1.5.0",
          "state": {
            "_view_name": "StyleView",
            "_model_name": "DescriptionStyleModel",
            "description_width": "",
            "_view_module": "@jupyter-widgets/base",
            "_model_module_version": "1.5.0",
            "_view_count": null,
            "_view_module_version": "1.2.0",
            "_model_module": "@jupyter-widgets/controls"
          }
        },
        "76088f8ab0c14f639a4c54eca4e8aad4": {
          "model_module": "@jupyter-widgets/base",
          "model_name": "LayoutModel",
          "model_module_version": "1.2.0",
          "state": {
            "_view_name": "LayoutView",
            "grid_template_rows": null,
            "right": null,
            "justify_content": null,
            "_view_module": "@jupyter-widgets/base",
            "overflow": null,
            "_model_module_version": "1.2.0",
            "_view_count": null,
            "flex_flow": null,
            "width": null,
            "min_width": null,
            "border": null,
            "align_items": null,
            "bottom": null,
            "_model_module": "@jupyter-widgets/base",
            "top": null,
            "grid_column": null,
            "overflow_y": null,
            "overflow_x": null,
            "grid_auto_flow": null,
            "grid_area": null,
            "grid_template_columns": null,
            "flex": null,
            "_model_name": "LayoutModel",
            "justify_items": null,
            "grid_row": null,
            "max_height": null,
            "align_content": null,
            "visibility": null,
            "align_self": null,
            "height": null,
            "min_height": null,
            "padding": null,
            "grid_auto_rows": null,
            "grid_gap": null,
            "max_width": null,
            "order": null,
            "_view_module_version": "1.2.0",
            "grid_template_areas": null,
            "object_position": null,
            "object_fit": null,
            "grid_auto_columns": null,
            "margin": null,
            "display": null,
            "left": null
          }
        },
        "e6d70dcdbdb9465d8db072de30cf3827": {
          "model_module": "@jupyter-widgets/controls",
          "model_name": "ProgressStyleModel",
          "model_module_version": "1.5.0",
          "state": {
            "_view_name": "StyleView",
            "_model_name": "ProgressStyleModel",
            "description_width": "",
            "_view_module": "@jupyter-widgets/base",
            "_model_module_version": "1.5.0",
            "_view_count": null,
            "_view_module_version": "1.2.0",
            "bar_color": null,
            "_model_module": "@jupyter-widgets/controls"
          }
        },
        "90641bf1fb1946809f0c06c357601102": {
          "model_module": "@jupyter-widgets/base",
          "model_name": "LayoutModel",
          "model_module_version": "1.2.0",
          "state": {
            "_view_name": "LayoutView",
            "grid_template_rows": null,
            "right": null,
            "justify_content": null,
            "_view_module": "@jupyter-widgets/base",
            "overflow": null,
            "_model_module_version": "1.2.0",
            "_view_count": null,
            "flex_flow": null,
            "width": null,
            "min_width": null,
            "border": null,
            "align_items": null,
            "bottom": null,
            "_model_module": "@jupyter-widgets/base",
            "top": null,
            "grid_column": null,
            "overflow_y": null,
            "overflow_x": null,
            "grid_auto_flow": null,
            "grid_area": null,
            "grid_template_columns": null,
            "flex": null,
            "_model_name": "LayoutModel",
            "justify_items": null,
            "grid_row": null,
            "max_height": null,
            "align_content": null,
            "visibility": null,
            "align_self": null,
            "height": null,
            "min_height": null,
            "padding": null,
            "grid_auto_rows": null,
            "grid_gap": null,
            "max_width": null,
            "order": null,
            "_view_module_version": "1.2.0",
            "grid_template_areas": null,
            "object_position": null,
            "object_fit": null,
            "grid_auto_columns": null,
            "margin": null,
            "display": null,
            "left": null
          }
        },
        "9a7d0e6b90964bb596e204ee1fa86c08": {
          "model_module": "@jupyter-widgets/controls",
          "model_name": "DescriptionStyleModel",
          "model_module_version": "1.5.0",
          "state": {
            "_view_name": "StyleView",
            "_model_name": "DescriptionStyleModel",
            "description_width": "",
            "_view_module": "@jupyter-widgets/base",
            "_model_module_version": "1.5.0",
            "_view_count": null,
            "_view_module_version": "1.2.0",
            "_model_module": "@jupyter-widgets/controls"
          }
        },
        "939e95552da44802960951d3c940d203": {
          "model_module": "@jupyter-widgets/base",
          "model_name": "LayoutModel",
          "model_module_version": "1.2.0",
          "state": {
            "_view_name": "LayoutView",
            "grid_template_rows": null,
            "right": null,
            "justify_content": null,
            "_view_module": "@jupyter-widgets/base",
            "overflow": null,
            "_model_module_version": "1.2.0",
            "_view_count": null,
            "flex_flow": null,
            "width": null,
            "min_width": null,
            "border": null,
            "align_items": null,
            "bottom": null,
            "_model_module": "@jupyter-widgets/base",
            "top": null,
            "grid_column": null,
            "overflow_y": null,
            "overflow_x": null,
            "grid_auto_flow": null,
            "grid_area": null,
            "grid_template_columns": null,
            "flex": null,
            "_model_name": "LayoutModel",
            "justify_items": null,
            "grid_row": null,
            "max_height": null,
            "align_content": null,
            "visibility": null,
            "align_self": null,
            "height": null,
            "min_height": null,
            "padding": null,
            "grid_auto_rows": null,
            "grid_gap": null,
            "max_width": null,
            "order": null,
            "_view_module_version": "1.2.0",
            "grid_template_areas": null,
            "object_position": null,
            "object_fit": null,
            "grid_auto_columns": null,
            "margin": null,
            "display": null,
            "left": null
          }
        }
      }
    },
    "accelerator": "GPU"
  },
  "cells": [
    {
      "cell_type": "markdown",
      "metadata": {
        "id": "8f01d8e3"
      },
      "source": [
        "# Final Project"
      ],
      "id": "8f01d8e3"
    },
    {
      "cell_type": "markdown",
      "metadata": {
        "id": "67b65eac"
      },
      "source": [
        "## TRAC2- Transformer Models (BERT) - base uncased\n",
        "\n",
        "In this section we build a BERT (Bidirectional Encoder Representations from Transformers) model.\n",
        "\n",
        "We build two models: \n",
        "- Model for classification task A\n",
        "- Model for classification task B"
      ],
      "id": "67b65eac"
    },
    {
      "cell_type": "code",
      "metadata": {
        "colab": {
          "base_uri": "https://localhost:8080/"
        },
        "id": "H0HMV_5JH3iL",
        "outputId": "b23471b9-844a-43ef-9c82-d75d5813c5a8"
      },
      "source": [
        "# mount drive\n",
        "from google.colab import drive\n",
        "drive.mount('/content/drive')"
      ],
      "id": "H0HMV_5JH3iL",
      "execution_count": null,
      "outputs": [
        {
          "output_type": "stream",
          "name": "stdout",
          "text": [
            "Drive already mounted at /content/drive; to attempt to forcibly remount, call drive.mount(\"/content/drive\", force_remount=True).\n"
          ]
        }
      ]
    },
    {
      "cell_type": "markdown",
      "metadata": {
        "id": "fc82e530"
      },
      "source": [
        "## Package imports"
      ],
      "id": "fc82e530"
    },
    {
      "cell_type": "code",
      "metadata": {
        "colab": {
          "base_uri": "https://localhost:8080/"
        },
        "id": "ss6OEdHqIWyt",
        "outputId": "3154feaa-2c64-412b-c123-606c68f2f68a"
      },
      "source": [
        "!pip install transformers"
      ],
      "id": "ss6OEdHqIWyt",
      "execution_count": null,
      "outputs": [
        {
          "output_type": "stream",
          "name": "stdout",
          "text": [
            "Requirement already satisfied: transformers in /usr/local/lib/python3.7/dist-packages (4.11.3)\n",
            "Requirement already satisfied: requests in /usr/local/lib/python3.7/dist-packages (from transformers) (2.23.0)\n",
            "Requirement already satisfied: tokenizers<0.11,>=0.10.1 in /usr/local/lib/python3.7/dist-packages (from transformers) (0.10.3)\n",
            "Requirement already satisfied: sacremoses in /usr/local/lib/python3.7/dist-packages (from transformers) (0.0.46)\n",
            "Requirement already satisfied: pyyaml>=5.1 in /usr/local/lib/python3.7/dist-packages (from transformers) (5.4.1)\n",
            "Requirement already satisfied: importlib-metadata in /usr/local/lib/python3.7/dist-packages (from transformers) (4.8.1)\n",
            "Requirement already satisfied: packaging>=20.0 in /usr/local/lib/python3.7/dist-packages (from transformers) (21.0)\n",
            "Requirement already satisfied: tqdm>=4.27 in /usr/local/lib/python3.7/dist-packages (from transformers) (4.62.3)\n",
            "Requirement already satisfied: regex!=2019.12.17 in /usr/local/lib/python3.7/dist-packages (from transformers) (2019.12.20)\n",
            "Requirement already satisfied: numpy>=1.17 in /usr/local/lib/python3.7/dist-packages (from transformers) (1.19.5)\n",
            "Requirement already satisfied: filelock in /usr/local/lib/python3.7/dist-packages (from transformers) (3.3.0)\n",
            "Requirement already satisfied: huggingface-hub>=0.0.17 in /usr/local/lib/python3.7/dist-packages (from transformers) (0.0.19)\n",
            "Requirement already satisfied: typing-extensions in /usr/local/lib/python3.7/dist-packages (from huggingface-hub>=0.0.17->transformers) (3.7.4.3)\n",
            "Requirement already satisfied: pyparsing>=2.0.2 in /usr/local/lib/python3.7/dist-packages (from packaging>=20.0->transformers) (2.4.7)\n",
            "Requirement already satisfied: zipp>=0.5 in /usr/local/lib/python3.7/dist-packages (from importlib-metadata->transformers) (3.6.0)\n",
            "Requirement already satisfied: chardet<4,>=3.0.2 in /usr/local/lib/python3.7/dist-packages (from requests->transformers) (3.0.4)\n",
            "Requirement already satisfied: certifi>=2017.4.17 in /usr/local/lib/python3.7/dist-packages (from requests->transformers) (2021.5.30)\n",
            "Requirement already satisfied: urllib3!=1.25.0,!=1.25.1,<1.26,>=1.21.1 in /usr/local/lib/python3.7/dist-packages (from requests->transformers) (1.24.3)\n",
            "Requirement already satisfied: idna<3,>=2.5 in /usr/local/lib/python3.7/dist-packages (from requests->transformers) (2.10)\n",
            "Requirement already satisfied: six in /usr/local/lib/python3.7/dist-packages (from sacremoses->transformers) (1.15.0)\n",
            "Requirement already satisfied: joblib in /usr/local/lib/python3.7/dist-packages (from sacremoses->transformers) (1.0.1)\n",
            "Requirement already satisfied: click in /usr/local/lib/python3.7/dist-packages (from sacremoses->transformers) (7.1.2)\n"
          ]
        }
      ]
    },
    {
      "cell_type": "code",
      "metadata": {
        "colab": {
          "base_uri": "https://localhost:8080/"
        },
        "id": "__N7lLxVIYs0",
        "outputId": "ec753a6e-e0f8-43fd-e4aa-aefa0ae4d4d7"
      },
      "source": [
        "!pip install datasets"
      ],
      "id": "__N7lLxVIYs0",
      "execution_count": null,
      "outputs": [
        {
          "output_type": "stream",
          "name": "stdout",
          "text": [
            "Requirement already satisfied: datasets in /usr/local/lib/python3.7/dist-packages (1.12.1)\n",
            "Requirement already satisfied: aiohttp in /usr/local/lib/python3.7/dist-packages (from datasets) (3.7.4.post0)\n",
            "Requirement already satisfied: importlib-metadata in /usr/local/lib/python3.7/dist-packages (from datasets) (4.8.1)\n",
            "Requirement already satisfied: xxhash in /usr/local/lib/python3.7/dist-packages (from datasets) (2.0.2)\n",
            "Requirement already satisfied: huggingface-hub<0.1.0,>=0.0.14 in /usr/local/lib/python3.7/dist-packages (from datasets) (0.0.19)\n",
            "Requirement already satisfied: packaging in /usr/local/lib/python3.7/dist-packages (from datasets) (21.0)\n",
            "Requirement already satisfied: pyarrow!=4.0.0,>=1.0.0 in /usr/local/lib/python3.7/dist-packages (from datasets) (3.0.0)\n",
            "Requirement already satisfied: numpy>=1.17 in /usr/local/lib/python3.7/dist-packages (from datasets) (1.19.5)\n",
            "Requirement already satisfied: dill in /usr/local/lib/python3.7/dist-packages (from datasets) (0.3.4)\n",
            "Requirement already satisfied: pandas in /usr/local/lib/python3.7/dist-packages (from datasets) (1.1.5)\n",
            "Requirement already satisfied: tqdm>=4.62.1 in /usr/local/lib/python3.7/dist-packages (from datasets) (4.62.3)\n",
            "Requirement already satisfied: multiprocess in /usr/local/lib/python3.7/dist-packages (from datasets) (0.70.12.2)\n",
            "Requirement already satisfied: fsspec[http]>=2021.05.0 in /usr/local/lib/python3.7/dist-packages (from datasets) (2021.10.0)\n",
            "Requirement already satisfied: requests>=2.19.0 in /usr/local/lib/python3.7/dist-packages (from datasets) (2.23.0)\n",
            "Requirement already satisfied: typing-extensions in /usr/local/lib/python3.7/dist-packages (from huggingface-hub<0.1.0,>=0.0.14->datasets) (3.7.4.3)\n",
            "Requirement already satisfied: pyyaml in /usr/local/lib/python3.7/dist-packages (from huggingface-hub<0.1.0,>=0.0.14->datasets) (5.4.1)\n",
            "Requirement already satisfied: filelock in /usr/local/lib/python3.7/dist-packages (from huggingface-hub<0.1.0,>=0.0.14->datasets) (3.3.0)\n",
            "Requirement already satisfied: pyparsing>=2.0.2 in /usr/local/lib/python3.7/dist-packages (from packaging->datasets) (2.4.7)\n",
            "Requirement already satisfied: chardet<4,>=3.0.2 in /usr/local/lib/python3.7/dist-packages (from requests>=2.19.0->datasets) (3.0.4)\n",
            "Requirement already satisfied: certifi>=2017.4.17 in /usr/local/lib/python3.7/dist-packages (from requests>=2.19.0->datasets) (2021.5.30)\n",
            "Requirement already satisfied: urllib3!=1.25.0,!=1.25.1,<1.26,>=1.21.1 in /usr/local/lib/python3.7/dist-packages (from requests>=2.19.0->datasets) (1.24.3)\n",
            "Requirement already satisfied: idna<3,>=2.5 in /usr/local/lib/python3.7/dist-packages (from requests>=2.19.0->datasets) (2.10)\n",
            "Requirement already satisfied: multidict<7.0,>=4.5 in /usr/local/lib/python3.7/dist-packages (from aiohttp->datasets) (5.2.0)\n",
            "Requirement already satisfied: attrs>=17.3.0 in /usr/local/lib/python3.7/dist-packages (from aiohttp->datasets) (21.2.0)\n",
            "Requirement already satisfied: yarl<2.0,>=1.0 in /usr/local/lib/python3.7/dist-packages (from aiohttp->datasets) (1.7.0)\n",
            "Requirement already satisfied: async-timeout<4.0,>=3.0 in /usr/local/lib/python3.7/dist-packages (from aiohttp->datasets) (3.0.1)\n",
            "Requirement already satisfied: zipp>=0.5 in /usr/local/lib/python3.7/dist-packages (from importlib-metadata->datasets) (3.6.0)\n",
            "Requirement already satisfied: python-dateutil>=2.7.3 in /usr/local/lib/python3.7/dist-packages (from pandas->datasets) (2.8.2)\n",
            "Requirement already satisfied: pytz>=2017.2 in /usr/local/lib/python3.7/dist-packages (from pandas->datasets) (2018.9)\n",
            "Requirement already satisfied: six>=1.5 in /usr/local/lib/python3.7/dist-packages (from python-dateutil>=2.7.3->pandas->datasets) (1.15.0)\n"
          ]
        }
      ]
    },
    {
      "cell_type": "code",
      "metadata": {
        "id": "c0ad9cf3"
      },
      "source": [
        "import pandas as pd\n",
        "import numpy as np\n",
        "import matplotlib.pyplot as plt\n",
        "# This tells matplotlib not to try opening a new window for each plot.\n",
        "%matplotlib inline\n",
        "\n",
        "import tensorflow as tf\n",
        "from transformers import AutoTokenizer\n",
        "from transformers import TFAutoModelForSequenceClassification\n",
        "from datasets import load_dataset\n",
        "\n",
        "from sklearn.preprocessing import label_binarize\n",
        "from sklearn import metrics"
      ],
      "id": "c0ad9cf3",
      "execution_count": null,
      "outputs": []
    },
    {
      "cell_type": "markdown",
      "metadata": {
        "id": "1b0b9771"
      },
      "source": [
        "## Helper functions"
      ],
      "id": "1b0b9771"
    },
    {
      "cell_type": "code",
      "metadata": {
        "id": "4a8eaacb"
      },
      "source": [
        "def from_logits_to_labels(pred, task):\n",
        "    '''\n",
        "    Returns labels based on predicted logits on labels [CAG,NAG,OAG] for task A. Task B is binary, and 'GEN' represents \n",
        "    the positive class.\n",
        "    Parameters:\n",
        "    pred: array with model prediction\n",
        "    task: either 'A' or 'B'\n",
        "    '''\n",
        "    index_a = {0:'CAG', 1:'NAG', 2:'OAG'}\n",
        "    index_b = {0:'GEN', 1:'NGEN'}\n",
        "    \n",
        "    if task == 'A':\n",
        "        highest_prob_class = np.argmax(pred, axis=1)\n",
        "        labels = np.vectorize(index_a.get)(highest_prob_class.astype(int))\n",
        "        \n",
        "    elif task == 'B':\n",
        "        highest_prob_class = np.argmax(pred, axis=1)\n",
        "        labels = np.vectorize(index_b.get)(highest_prob_class.astype(int))\n",
        "    else:\n",
        "        labels = []\n",
        "        \n",
        "    return labels  "
      ],
      "id": "4a8eaacb",
      "execution_count": null,
      "outputs": []
    },
    {
      "cell_type": "code",
      "metadata": {
        "id": "505b0828"
      },
      "source": [
        "def to_one_hot_labels(string_labels):\n",
        "    '''\n",
        "    Returns one-hot encoded labels from a multi-class label vector e.g. ['cat', 'dog', 'dog', 'lion', 'cat', ...] \n",
        "    Parameters:\n",
        "    string_labels: \n",
        "    '''\n",
        "    labels = pd.get_dummies(string_labels)\n",
        "    labels = labels.to_numpy()\n",
        "    \n",
        "    return labels"
      ],
      "id": "505b0828",
      "execution_count": null,
      "outputs": []
    },
    {
      "cell_type": "code",
      "metadata": {
        "id": "cf367348"
      },
      "source": [
        "# this is modified to get the prediction as parameter\n",
        "# to avoid predicting again since inference takes time\n",
        "def confusion_matrix_plot(pred_labels, true_labels, task, normalize=None):\n",
        "    '''\n",
        "    Returns a confusion matrix with a nice format.\n",
        "    Parameters:\n",
        "    pred_labels: predicted labels\n",
        "    true_labels: true labels \n",
        "    task: 'A' or 'B'\n",
        "    normalize: if want to normalize the confusion matrix normalize='true'\n",
        "    '''\n",
        "    \n",
        "    # Create a confusion matrix\n",
        "    cm = metrics.confusion_matrix(true_labels, pred_labels, normalize=normalize)\n",
        "    cm = np.around(cm, 2)\n",
        "\n",
        "    # Plot the confusion matrix\n",
        "    if task == 'A':\n",
        "        axis_labels = ['CAG', 'NAG', 'OAG']\n",
        "    elif task == 'B':\n",
        "        axis_labels = ['GEN', 'NGEN']\n",
        "\n",
        "    fig, ax = plt.subplots(figsize=(4,4))\n",
        "    im = ax.imshow(cm, cmap=\"Blues\")\n",
        "\n",
        "    # Create the ticks and labels\n",
        "    ax.set_xticks(np.arange(len(axis_labels)))\n",
        "    ax.set_yticks(np.arange(len(axis_labels)))\n",
        "    ax.set_xticklabels(axis_labels)\n",
        "    ax.set_yticklabels(axis_labels)\n",
        "\n",
        "    # Axis titles\n",
        "    plt.ylabel('True label', size=12)\n",
        "    plt.xlabel('Predicted label', size=12)\n",
        "\n",
        "    # Loop over data dimensions and create text annotations.\n",
        "    for i in range(len(axis_labels)):\n",
        "        for j in range(len(axis_labels)):\n",
        "            text = ax.text(j, i, cm[i, j],ha=\"center\", va=\"center\", color=\"dimgrey\", size=12)\n",
        "    \n",
        "    ax.set_title(\"Confusion Matrix\", size=16, weight=\"bold\")\n",
        "    fig.tight_layout()\n",
        "    plt.show()\n"
      ],
      "id": "cf367348",
      "execution_count": null,
      "outputs": []
    },
    {
      "cell_type": "code",
      "metadata": {
        "id": "17c5651f"
      },
      "source": [
        "def loss_accuracy_plots(training_history, xrange, task):\n",
        "    '''\n",
        "    Returns plots for loss and accuracy during the training process of a NN.\n",
        "    Parameters:\n",
        "    training_history: object that stores the training history of the NN (from model.fit(...))\n",
        "    xrange: range in x axis\n",
        "    task: string used for the title in the plot\n",
        "    '''\n",
        "    \n",
        "    fig, (ax1, ax2) = plt.subplots(1, 2, figsize=(15,6))\n",
        "    \n",
        "    # loss plot\n",
        "    ax1.plot(training_history.history['loss'], color='black')\n",
        "    ax1.plot(training_history.history['val_loss'], color='blue')\n",
        "    ax1.set_title('Training and validation loss Sub-Task ' + task)\n",
        "    ax1.legend(['training', 'development'])\n",
        "    ax1.grid(which='both')\n",
        "    ax1.set_xticks(np.arange(0, xrange, 2))\n",
        "    \n",
        "    # accuracy plot\n",
        "    ax2.plot(training_history.history['categorical_accuracy'], color='black')\n",
        "    ax2.plot(training_history.history['val_categorical_accuracy'], color='blue')\n",
        "    ax2.set_title('Training and validation acccuracy Sub_Task ' + task)\n",
        "    ax2.legend(['training', 'development'])\n",
        "    ax2.grid(which='both')\n",
        "    ax2.set_xticks(np.arange(0, xrange, 2))\n",
        "    plt.show()\n",
        "    "
      ],
      "id": "17c5651f",
      "execution_count": null,
      "outputs": []
    },
    {
      "cell_type": "markdown",
      "metadata": {
        "id": "544f08b5"
      },
      "source": [
        "## Load data\n",
        "Load training, development and test datasets."
      ],
      "id": "544f08b5"
    },
    {
      "cell_type": "code",
      "metadata": {
        "id": "c7a92330"
      },
      "source": [
        "# Load labels using pandas dataframes\n",
        "\n",
        "train_labels_a = pd.read_csv('drive/MyDrive/w266/release-files/eng/trac2_eng_train.csv')['Sub-task A']\n",
        "train_labels_b = pd.read_csv('drive/MyDrive/w266/release-files/eng/trac2_eng_train.csv')['Sub-task B']\n",
        "dev_labels_a = pd.read_csv('drive/MyDrive/w266/release-files/eng/trac2_eng_dev.csv')['Sub-task A']\n",
        "dev_labels_b = pd.read_csv('drive/MyDrive/w266/release-files/eng/trac2_eng_dev.csv')['Sub-task B']\n",
        "test_labels_a = pd.read_csv('drive/MyDrive/w266/release-files/gold/trac2_eng_gold_a.csv')['Sub-task A']\n",
        "test_labels_b = pd.read_csv('drive/MyDrive/w266/release-files/gold/trac2_eng_gold_b.csv')['Sub-task B']"
      ],
      "id": "c7a92330",
      "execution_count": null,
      "outputs": []
    },
    {
      "cell_type": "code",
      "metadata": {
        "scrolled": true,
        "colab": {
          "base_uri": "https://localhost:8080/"
        },
        "id": "e837f450",
        "outputId": "22c8e651-279b-4a74-bc52-e0d4754c4f6d"
      },
      "source": [
        "# Load text data using Hugging Face datasets\n",
        "# need to use the split argument even though we are not splitting. If not, data is loaded as DatasetDict\n",
        "# to load as dataset need to include the split parameter\n",
        "train_dataset = load_dataset('csv', data_files='drive/MyDrive/w266/release-files/eng/trac2_eng_train.csv', split = 'train[:4263]')\n",
        "dev_dataset = load_dataset('csv', data_files='drive/MyDrive/w266/release-files/eng/trac2_eng_dev.csv', split = 'train[:1066]')\n",
        "test_dataset = load_dataset('csv', data_files='drive/MyDrive/w266/release-files/test/trac2_eng_test.csv', split = 'train[:1200]')"
      ],
      "id": "e837f450",
      "execution_count": null,
      "outputs": [
        {
          "output_type": "stream",
          "name": "stderr",
          "text": [
            "Using custom data configuration default-208f2d914f0f5280\n",
            "Reusing dataset csv (/root/.cache/huggingface/datasets/csv/default-208f2d914f0f5280/0.0.0/9144e0a4e8435090117cea53e6c7537173ef2304525df4a077c435d8ee7828ff)\n",
            "Using custom data configuration default-8fe574042ae65a17\n",
            "Reusing dataset csv (/root/.cache/huggingface/datasets/csv/default-8fe574042ae65a17/0.0.0/9144e0a4e8435090117cea53e6c7537173ef2304525df4a077c435d8ee7828ff)\n",
            "Using custom data configuration default-f4f28cfddb9ffd8b\n",
            "Reusing dataset csv (/root/.cache/huggingface/datasets/csv/default-f4f28cfddb9ffd8b/0.0.0/9144e0a4e8435090117cea53e6c7537173ef2304525df4a077c435d8ee7828ff)\n"
          ]
        }
      ]
    },
    {
      "cell_type": "markdown",
      "metadata": {
        "id": "86e2c1cf"
      },
      "source": [
        "## Encode labels"
      ],
      "id": "86e2c1cf"
    },
    {
      "cell_type": "code",
      "metadata": {
        "id": "2bc320b3"
      },
      "source": [
        "# encode labels Task A- [CAG,NAG,OAG]\n",
        "train_labels_a_enc = to_one_hot_labels(train_labels_a)\n",
        "dev_labels_a_enc = to_one_hot_labels(dev_labels_a)\n",
        "test_labels_a_enc = to_one_hot_labels(test_labels_a)\n"
      ],
      "id": "2bc320b3",
      "execution_count": null,
      "outputs": []
    },
    {
      "cell_type": "code",
      "metadata": {
        "id": "jCpGlFvZZ1ua"
      },
      "source": [
        "# encode labels Task B- [GEN, NGEN]\n",
        "train_labels_b_enc = to_one_hot_labels(train_labels_b)\n",
        "dev_labels_b_enc = to_one_hot_labels(dev_labels_b)\n",
        "test_labels_b_enc = to_one_hot_labels(test_labels_b)"
      ],
      "id": "jCpGlFvZZ1ua",
      "execution_count": null,
      "outputs": []
    },
    {
      "cell_type": "markdown",
      "metadata": {
        "id": "5db58504"
      },
      "source": [
        "## Prepare TensorFlow datasets for BERT"
      ],
      "id": "5db58504"
    },
    {
      "cell_type": "code",
      "metadata": {
        "id": "415583c1"
      },
      "source": [
        "# remove columns to leave only the column with the posts. Column 'Text'\n",
        "train_dataset = train_dataset.remove_columns(['ID', 'Sub-task B', 'Sub-task A'])\n",
        "dev_dataset = dev_dataset.remove_columns(['ID', 'Sub-task A', 'Sub-task B'])\n",
        "test_dataset = test_dataset.remove_columns('ID')"
      ],
      "id": "415583c1",
      "execution_count": null,
      "outputs": []
    },
    {
      "cell_type": "code",
      "metadata": {
        "id": "5ead92c9"
      },
      "source": [
        "# define a BERT tokenizer\n",
        "# use the bert-based-uncased tokenizer\n",
        "tokenizer = AutoTokenizer.from_pretrained('bert-base-uncased')"
      ],
      "id": "5ead92c9",
      "execution_count": null,
      "outputs": []
    },
    {
      "cell_type": "code",
      "metadata": {
        "colab": {
          "base_uri": "https://localhost:8080/",
          "height": 35
        },
        "id": "77a0bdf0",
        "outputId": "20b6186f-c119-4e00-eeb4-e54de139f4c9"
      },
      "source": [
        "# test how the tokenizer works\n",
        "test_sentence = 'I REALLY want to take some vacations soon'\n",
        "test_sentence"
      ],
      "id": "77a0bdf0",
      "execution_count": null,
      "outputs": [
        {
          "output_type": "execute_result",
          "data": {
            "application/vnd.google.colaboratory.intrinsic+json": {
              "type": "string"
            },
            "text/plain": [
              "'I REALLY want to take some vacations soon'"
            ]
          },
          "metadata": {},
          "execution_count": 15
        }
      ]
    },
    {
      "cell_type": "code",
      "metadata": {
        "colab": {
          "base_uri": "https://localhost:8080/"
        },
        "id": "eb2b71f0",
        "outputId": "98a33868-dd80-4716-c423-da784cb9c150"
      },
      "source": [
        "encoded_input = tokenizer(test_sentence)\n",
        "encoded_input"
      ],
      "id": "eb2b71f0",
      "execution_count": null,
      "outputs": [
        {
          "output_type": "execute_result",
          "data": {
            "text/plain": [
              "{'input_ids': [101, 1045, 2428, 2215, 2000, 2202, 2070, 10885, 2015, 2574, 102], 'token_type_ids': [0, 0, 0, 0, 0, 0, 0, 0, 0, 0, 0], 'attention_mask': [1, 1, 1, 1, 1, 1, 1, 1, 1, 1, 1]}"
            ]
          },
          "metadata": {},
          "execution_count": 16
        }
      ]
    },
    {
      "cell_type": "code",
      "metadata": {
        "colab": {
          "base_uri": "https://localhost:8080/",
          "height": 35
        },
        "id": "e6c8b8da",
        "outputId": "5d24c712-84da-4d36-b27f-cbd6c9e8ae71"
      },
      "source": [
        "tokenizer.decode(encoded_input['input_ids'])"
      ],
      "id": "e6c8b8da",
      "execution_count": null,
      "outputs": [
        {
          "output_type": "execute_result",
          "data": {
            "application/vnd.google.colaboratory.intrinsic+json": {
              "type": "string"
            },
            "text/plain": [
              "'[CLS] i really want to take some vacations soon [SEP]'"
            ]
          },
          "metadata": {},
          "execution_count": 17
        }
      ]
    },
    {
      "cell_type": "markdown",
      "metadata": {
        "id": "8420a05b"
      },
      "source": [
        "The tokenizer automatically lowercase the input text, and ads some special tokens ([CLS] and [SEP]) that the BERT model expects."
      ],
      "id": "8420a05b"
    },
    {
      "cell_type": "markdown",
      "metadata": {
        "id": "d403076a"
      },
      "source": [
        "To use the training examples in the model we need to pad (or truncate) each example to a maximum lenght. For BERT the maximum possible length is 512. "
      ],
      "id": "d403076a"
    },
    {
      "cell_type": "code",
      "metadata": {
        "colab": {
          "base_uri": "https://localhost:8080/",
          "height": 103,
          "referenced_widgets": [
            "a22b4d13efbb450ca481082d65c758d3",
            "0d231997ab7b4d84b982928770a5ab48",
            "e4de9699fec74a4ca4f435b16340d383",
            "8faf34f9ffdd49d0bb71b4b7a5174c4a",
            "333100a2bf264477afe435ebc37e6cee",
            "7bd5d3e3ba8b4211ba6cf8ff3e0e6cd3",
            "76088f8ab0c14f639a4c54eca4e8aad4",
            "e6d70dcdbdb9465d8db072de30cf3827",
            "90641bf1fb1946809f0c06c357601102",
            "9a7d0e6b90964bb596e204ee1fa86c08",
            "939e95552da44802960951d3c940d203"
          ]
        },
        "id": "cd498279",
        "outputId": "4954e33a-8f41-4598-fa22-b1048af42196"
      },
      "source": [
        "# tokenize the train, development and test data\n",
        "# Use a max sequence of 150 tokens. Based on EDA this is enough for majority of posts\n",
        "\n",
        "train_dataset_tok = train_dataset.map(lambda x: tokenizer(x['Text'], truncation=True, padding=True, max_length=150), batched=True)\n",
        "dev_dataset_tok = dev_dataset.map(lambda x: tokenizer(x['Text'], truncation=True, padding=True, max_length=150), batched=True)\n",
        "test_dataset_tok = test_dataset.map(lambda x: tokenizer(x['Text'], truncation=True, padding=True, max_length=150), batched=True)"
      ],
      "id": "cd498279",
      "execution_count": null,
      "outputs": [
        {
          "output_type": "stream",
          "name": "stderr",
          "text": [
            "Loading cached processed dataset at /root/.cache/huggingface/datasets/csv/default-208f2d914f0f5280/0.0.0/9144e0a4e8435090117cea53e6c7537173ef2304525df4a077c435d8ee7828ff/cache-fb5064822737471a.arrow\n",
            "Loading cached processed dataset at /root/.cache/huggingface/datasets/csv/default-8fe574042ae65a17/0.0.0/9144e0a4e8435090117cea53e6c7537173ef2304525df4a077c435d8ee7828ff/cache-7373b555e485f56c.arrow\n"
          ]
        },
        {
          "output_type": "display_data",
          "data": {
            "application/vnd.jupyter.widget-view+json": {
              "model_id": "a22b4d13efbb450ca481082d65c758d3",
              "version_minor": 0,
              "version_major": 2
            },
            "text/plain": [
              "  0%|          | 0/2 [00:00<?, ?ba/s]"
            ]
          },
          "metadata": {}
        }
      ]
    },
    {
      "cell_type": "code",
      "metadata": {
        "id": "0526c186"
      },
      "source": [
        "# now we can remove the column with the original post from the dataset. We are going to use the result of tokenization for modeling\n",
        "train_dataset_tok = train_dataset_tok.remove_columns(['Text']).with_format('tensorflow')\n",
        "dev_dataset_tok = dev_dataset_tok.remove_columns(['Text']).with_format('tensorflow')\n",
        "test_dataset_tok = test_dataset_tok.remove_columns(['Text']).with_format('tensorflow')"
      ],
      "id": "0526c186",
      "execution_count": null,
      "outputs": []
    },
    {
      "cell_type": "code",
      "metadata": {
        "id": "778a3871"
      },
      "source": [
        "# extract features from tokenizer output: 'input_ids', 'token_type_ids', 'attention_mask'\n",
        "train_features = {x: train_dataset_tok[x].to_tensor() for x in tokenizer.model_input_names}\n",
        "dev_features = {x: dev_dataset_tok[x].to_tensor() for x in tokenizer.model_input_names}\n",
        "test_features = {x: test_dataset_tok[x].to_tensor() for x in tokenizer.model_input_names}"
      ],
      "id": "778a3871",
      "execution_count": null,
      "outputs": []
    },
    {
      "cell_type": "code",
      "metadata": {
        "id": "2c9445e5"
      },
      "source": [
        "# batch data\n",
        "\n",
        "batch_size = 16\n",
        "buffer = len(train_dataset_tok)\n",
        "\n",
        "# Task A\n",
        "train_tf_dataset_a = tf.data.Dataset.from_tensor_slices((train_features, train_labels_a_enc)).shuffle(buffer).batch(batch_size)\n",
        "dev_tf_dataset_a = tf.data.Dataset.from_tensor_slices((dev_features, dev_labels_a_enc)).batch(batch_size)\n",
        "test_tf_dataset_a = tf.data.Dataset.from_tensor_slices((test_features, test_labels_a_enc)).batch(batch_size)\n",
        "\n",
        "# Task B\n",
        "train_tf_dataset_b = tf.data.Dataset.from_tensor_slices((train_features, train_labels_b_enc)).shuffle(buffer).batch(batch_size)\n",
        "dev_tf_dataset_b = tf.data.Dataset.from_tensor_slices((dev_features, dev_labels_b_enc)).batch(batch_size)\n",
        "test_tf_dataset_b = tf.data.Dataset.from_tensor_slices((test_features, test_labels_b_enc)).batch(batch_size)"
      ],
      "id": "2c9445e5",
      "execution_count": null,
      "outputs": []
    },
    {
      "cell_type": "markdown",
      "metadata": {
        "id": "b59c68de"
      },
      "source": [
        "## Model Task A"
      ],
      "id": "b59c68de"
    },
    {
      "cell_type": "code",
      "metadata": {
        "id": "4dedc210"
      },
      "source": [
        "# delete model if exists\n",
        "try:\n",
        "    del BERT_model_A\n",
        "except:\n",
        "    pass"
      ],
      "id": "4dedc210",
      "execution_count": null,
      "outputs": []
    },
    {
      "cell_type": "code",
      "metadata": {
        "colab": {
          "base_uri": "https://localhost:8080/"
        },
        "id": "bdbe9a1d",
        "outputId": "e9f7ef5f-69eb-45c0-9e55-1d9a7d2e6a49"
      },
      "source": [
        "# define the model. Task A is a classification task with 3 labels\n",
        "BERT_model_A = TFAutoModelForSequenceClassification.from_pretrained(\"bert-base-uncased\", num_labels=3)"
      ],
      "id": "bdbe9a1d",
      "execution_count": null,
      "outputs": [
        {
          "output_type": "stream",
          "name": "stderr",
          "text": [
            "All model checkpoint layers were used when initializing TFBertForSequenceClassification.\n",
            "\n",
            "Some layers of TFBertForSequenceClassification were not initialized from the model checkpoint at bert-base-uncased and are newly initialized: ['classifier']\n",
            "You should probably TRAIN this model on a down-stream task to be able to use it for predictions and inference.\n"
          ]
        }
      ]
    },
    {
      "cell_type": "code",
      "metadata": {
        "id": "dc878d92"
      },
      "source": [
        "# compile model\n",
        "BERT_model_A.compile(optimizer=tf.keras.optimizers.Adam(learning_rate=5e-5),\n",
        "                     loss=tf.keras.losses.CategoricalCrossentropy(from_logits=True),\n",
        "                     metrics=tf.metrics.CategoricalAccuracy()\n",
        "                    )"
      ],
      "id": "dc878d92",
      "execution_count": null,
      "outputs": []
    },
    {
      "cell_type": "code",
      "metadata": {
        "scrolled": true,
        "colab": {
          "base_uri": "https://localhost:8080/"
        },
        "id": "4407b556",
        "outputId": "fe98ef47-f52f-4870-dc08-89dfe3a85914"
      },
      "source": [
        "# fit model\n",
        "training_history = BERT_model_A.fit(train_tf_dataset_a, validation_data=dev_tf_dataset_a, epochs=2)"
      ],
      "id": "4407b556",
      "execution_count": null,
      "outputs": [
        {
          "output_type": "stream",
          "name": "stdout",
          "text": [
            "Epoch 1/2\n",
            "267/267 [==============================] - 114s 375ms/step - loss: 0.5468 - categorical_accuracy: 0.7915 - val_loss: 0.4881 - val_categorical_accuracy: 0.8002\n",
            "Epoch 2/2\n",
            "267/267 [==============================] - 98s 366ms/step - loss: 0.4081 - categorical_accuracy: 0.8299 - val_loss: 0.5382 - val_categorical_accuracy: 0.8077\n"
          ]
        }
      ]
    },
    {
      "cell_type": "code",
      "metadata": {
        "scrolled": false,
        "colab": {
          "base_uri": "https://localhost:8080/",
          "height": 390
        },
        "id": "9b34811c",
        "outputId": "549dbcf3-45ed-4fe7-f5a0-28fbd75dd20e"
      },
      "source": [
        "# plot loss and accuracy\n",
        "loss_accuracy_plots(training_history, xrange=5, task='A')"
      ],
      "id": "9b34811c",
      "execution_count": null,
      "outputs": [
        {
          "output_type": "display_data",
          "data": {
            "image/png": "[encoded data removed]",
            "text/plain": [
              "<Figure size 1080x432 with 2 Axes>"
            ]
          },
          "metadata": {
            "needs_background": "light"
          }
        }
      ]
    },
    {
      "cell_type": "code",
      "metadata": {
        "colab": {
          "base_uri": "https://localhost:8080/",
          "height": 484
        },
        "id": "7d916c4e",
        "outputId": "810dd30d-9d33-4f45-e68d-ed1fb4582a81"
      },
      "source": [
        "# Evaluate model on TRAINING data\n",
        "\n",
        "# predict using model. Returns logits\n",
        "pred_labels_train = BERT_model_A.predict(train_features)[0]\n",
        "\n",
        "# convert logits lo labels\n",
        "pred_labels_train = from_logits_to_labels(pred_labels_train, 'A')\n",
        "\n",
        "# confusion matrix\n",
        "confusion_matrix_plot(pred_labels_train, train_labels_a, task='A', normalize='true')\n",
        "\n",
        "# print the precision, recall, f1\n",
        "print(metrics.classification_report(train_labels_a, pred_labels_train, digits=3))\n",
        "\n",
        "# print global weighted f-1 score\n",
        "print(f\"Weighted f1-score: {metrics.f1_score(train_labels_a, pred_labels_train, pos_label=1, average='weighted')}\")\n"
      ],
      "id": "7d916c4e",
      "execution_count": null,
      "outputs": [
        {
          "output_type": "display_data",
          "data": {
            "image/png": "[encoded data removed]",
            "text/plain": [
              "<Figure size 288x288 with 1 Axes>"
            ]
          },
          "metadata": {
            "needs_background": "light"
          }
        },
        {
          "output_type": "stream",
          "name": "stdout",
          "text": [
            "              precision    recall  f1-score   support\n",
            "\n",
            "         CAG      0.676     0.479     0.561       453\n",
            "         NAG      0.922     0.986     0.953      3375\n",
            "         OAG      0.892     0.683     0.773       435\n",
            "\n",
            "    accuracy                          0.901      4263\n",
            "   macro avg      0.830     0.716     0.762      4263\n",
            "weighted avg      0.893     0.901     0.893      4263\n",
            "\n",
            "Weighted f1-score: 0.893020856157356\n"
          ]
        }
      ]
    },
    {
      "cell_type": "code",
      "metadata": {
        "colab": {
          "base_uri": "https://localhost:8080/",
          "height": 484
        },
        "id": "6a769e81",
        "outputId": "630d8eea-2572-4ec8-c132-873d78806bf8"
      },
      "source": [
        "# Evaluate model on DEVELOPMENT data\n",
        "\n",
        "# predict using model. Returns logits\n",
        "pred_labels_dev = BERT_model_A.predict(dev_features)[0]\n",
        "\n",
        "# convert logits lo labels\n",
        "pred_labels_dev = from_logits_to_labels(pred_labels_dev, 'A')\n",
        "\n",
        "# confusion matrix\n",
        "confusion_matrix_plot(pred_labels_dev, dev_labels_a, task='A', normalize='true')\n",
        "\n",
        "# print the precision, recall, f1\n",
        "print(metrics.classification_report(dev_labels_a, pred_labels_dev, digits=3))\n",
        "\n",
        "# print global weighted f-1 score\n",
        "print(f\"Weighted f1-score: {metrics.f1_score(dev_labels_a, pred_labels_dev, pos_label=1, average='weighted')}\")"
      ],
      "id": "6a769e81",
      "execution_count": null,
      "outputs": [
        {
          "output_type": "display_data",
          "data": {
            "image/png": "[encoded data removed]",
            "text/plain": [
              "<Figure size 288x288 with 1 Axes>"
            ]
          },
          "metadata": {
            "needs_background": "light"
          }
        },
        {
          "output_type": "stream",
          "name": "stdout",
          "text": [
            "              precision    recall  f1-score   support\n",
            "\n",
            "         CAG      0.333     0.222     0.267       117\n",
            "         NAG      0.849     0.962     0.902       836\n",
            "         OAG      0.756     0.274     0.403       113\n",
            "\n",
            "    accuracy                          0.808      1066\n",
            "   macro avg      0.646     0.486     0.524      1066\n",
            "weighted avg      0.783     0.808     0.779      1066\n",
            "\n",
            "Weighted f1-score: 0.7792127451772064\n"
          ]
        }
      ]
    },
    {
      "cell_type": "code",
      "metadata": {
        "colab": {
          "base_uri": "https://localhost:8080/",
          "height": 484
        },
        "id": "9fe3bcbc",
        "outputId": "d4c6e43b-0b62-495a-e45e-2b3ac078d830"
      },
      "source": [
        "# Evaluate model on TEST data\n",
        "\n",
        "# predict using model. Returns logits\n",
        "pred_labels_test = BERT_model_A.predict(test_features)[0]\n",
        "\n",
        "# convert logits lo labels\n",
        "pred_labels_test = from_logits_to_labels(pred_labels_test, 'A')\n",
        "\n",
        "# confusion matrix\n",
        "confusion_matrix_plot(pred_labels_test, test_labels_a, task='A', normalize='true')\n",
        "\n",
        "# print the precision, recall, f1\n",
        "print(metrics.classification_report(test_labels_a, pred_labels_test, digits=3))\n",
        "\n",
        "# print global weighted f-1 score\n",
        "print(f\"Weighted f1-score: {metrics.f1_score(test_labels_a, pred_labels_test, pos_label=1, average='weighted')}\")"
      ],
      "id": "9fe3bcbc",
      "execution_count": null,
      "outputs": [
        {
          "output_type": "display_data",
          "data": {
            "image/png": "[encoded data removed]",
            "text/plain": [
              "<Figure size 288x288 with 1 Axes>"
            ]
          },
          "metadata": {
            "needs_background": "light"
          }
        },
        {
          "output_type": "stream",
          "name": "stdout",
          "text": [
            "              precision    recall  f1-score   support\n",
            "\n",
            "         CAG      0.400     0.384     0.392       224\n",
            "         NAG      0.770     0.955     0.853       690\n",
            "         OAG      0.891     0.402     0.554       286\n",
            "\n",
            "    accuracy                          0.717      1200\n",
            "   macro avg      0.687     0.580     0.600      1200\n",
            "weighted avg      0.730     0.717     0.695      1200\n",
            "\n",
            "Weighted f1-score: 0.6954247858363173\n"
          ]
        }
      ]
    },
    {
      "cell_type": "code",
      "metadata": {
        "id": "c3b4df30"
      },
      "source": [
        "# save model\n",
        "BERT_model_A.save_pretrained('drive/MyDrive/w266/saved_models/TRAC-2_BERT_model_A')"
      ],
      "id": "c3b4df30",
      "execution_count": null,
      "outputs": []
    },
    {
      "cell_type": "markdown",
      "metadata": {
        "id": "9142a3df"
      },
      "source": [
        "## Model Task B"
      ],
      "id": "9142a3df"
    },
    {
      "cell_type": "code",
      "metadata": {
        "id": "ea8f0b20"
      },
      "source": [
        "# delete model if exists\n",
        "try:\n",
        "    del BERT_model_B\n",
        "except:\n",
        "    pass"
      ],
      "id": "ea8f0b20",
      "execution_count": null,
      "outputs": []
    },
    {
      "cell_type": "code",
      "metadata": {
        "colab": {
          "base_uri": "https://localhost:8080/"
        },
        "id": "49c167d7",
        "outputId": "5893af45-1282-44ec-879a-04a4bfe38f27"
      },
      "source": [
        "# define the model. Task B is a classification task with 2 labels\n",
        "BERT_model_B = TFAutoModelForSequenceClassification.from_pretrained(\"bert-base-uncased\", num_labels=2)"
      ],
      "id": "49c167d7",
      "execution_count": null,
      "outputs": [
        {
          "output_type": "stream",
          "name": "stderr",
          "text": [
            "All model checkpoint layers were used when initializing TFBertForSequenceClassification.\n",
            "\n",
            "Some layers of TFBertForSequenceClassification were not initialized from the model checkpoint at bert-base-uncased and are newly initialized: ['classifier']\n",
            "You should probably TRAIN this model on a down-stream task to be able to use it for predictions and inference.\n"
          ]
        }
      ]
    },
    {
      "cell_type": "code",
      "metadata": {
        "id": "25449764"
      },
      "source": [
        "# compile model\n",
        "BERT_model_B.compile(optimizer=tf.keras.optimizers.Adam(learning_rate=5e-5),\n",
        "                     loss=tf.keras.losses.CategoricalCrossentropy(from_logits=True),\n",
        "                     metrics=tf.metrics.CategoricalAccuracy()\n",
        "                    )"
      ],
      "id": "25449764",
      "execution_count": null,
      "outputs": []
    },
    {
      "cell_type": "code",
      "metadata": {
        "colab": {
          "base_uri": "https://localhost:8080/"
        },
        "id": "153aa19e",
        "outputId": "ed166550-7045-4d3f-cc5b-826896b32336"
      },
      "source": [
        "# fit model\n",
        "training_history = BERT_model_B.fit(train_tf_dataset_b, validation_data=dev_tf_dataset_b, epochs=3)"
      ],
      "id": "153aa19e",
      "execution_count": null,
      "outputs": [
        {
          "output_type": "stream",
          "name": "stdout",
          "text": [
            "Epoch 1/3\n",
            "267/267 [==============================] - 115s 374ms/step - loss: 0.2188 - categorical_accuracy: 0.9322 - val_loss: 0.1738 - val_categorical_accuracy: 0.9334\n",
            "Epoch 2/3\n",
            "267/267 [==============================] - 98s 366ms/step - loss: 0.1397 - categorical_accuracy: 0.9496 - val_loss: 0.1748 - val_categorical_accuracy: 0.9400\n",
            "Epoch 3/3\n",
            "267/267 [==============================] - 98s 366ms/step - loss: 0.0791 - categorical_accuracy: 0.9711 - val_loss: 0.2448 - val_categorical_accuracy: 0.9231\n"
          ]
        }
      ]
    },
    {
      "cell_type": "code",
      "metadata": {
        "colab": {
          "base_uri": "https://localhost:8080/",
          "height": 390
        },
        "id": "30453359",
        "outputId": "cb13f006-966b-466e-da32-51b112fc8cf6"
      },
      "source": [
        "# plot loss and accuracy\n",
        "loss_accuracy_plots(training_history, xrange=5, task='B')"
      ],
      "id": "30453359",
      "execution_count": null,
      "outputs": [
        {
          "output_type": "display_data",
          "data": {
            "image/png": "[encoded data removed]",
            "text/plain": [
              "<Figure size 1080x432 with 2 Axes>"
            ]
          },
          "metadata": {
            "needs_background": "light"
          }
        }
      ]
    },
    {
      "cell_type": "code",
      "metadata": {
        "colab": {
          "base_uri": "https://localhost:8080/",
          "height": 467
        },
        "id": "83a106f5",
        "outputId": "715646bd-5877-41c2-8704-a74ba0ad720c"
      },
      "source": [
        "# Evaluate model on TRAINING data\n",
        "\n",
        "# predict using model. Returns logits\n",
        "pred_labels_train = BERT_model_B.predict(train_features)[0]\n",
        "\n",
        "# convert logits lo labels\n",
        "pred_labels_train = from_logits_to_labels(pred_labels_train, 'B')\n",
        "\n",
        "# confusion matrix\n",
        "confusion_matrix_plot(pred_labels_train, train_labels_b, task='B', normalize='true')\n",
        "\n",
        "# print the precision, recall, f1\n",
        "print(metrics.classification_report(train_labels_b, pred_labels_train, digits=3))\n",
        "\n",
        "# print global weighted f-1 score\n",
        "print(f\"Weighted f1-score: {metrics.f1_score(train_labels_b, pred_labels_train, pos_label=1, average='weighted')}\")\n"
      ],
      "id": "83a106f5",
      "execution_count": null,
      "outputs": [
        {
          "output_type": "display_data",
          "data": {
            "image/png": "[encoded data removed]",
            "text/plain": [
              "<Figure size 288x288 with 1 Axes>"
            ]
          },
          "metadata": {
            "needs_background": "light"
          }
        },
        {
          "output_type": "stream",
          "name": "stdout",
          "text": [
            "              precision    recall  f1-score   support\n",
            "\n",
            "         GEN      0.882     0.968     0.923       309\n",
            "        NGEN      0.997     0.990     0.994      3954\n",
            "\n",
            "    accuracy                          0.988      4263\n",
            "   macro avg      0.940     0.979     0.958      4263\n",
            "weighted avg      0.989     0.988     0.989      4263\n",
            "\n",
            "Weighted f1-score: 0.9885203390991161\n"
          ]
        }
      ]
    },
    {
      "cell_type": "code",
      "metadata": {
        "colab": {
          "base_uri": "https://localhost:8080/",
          "height": 467
        },
        "id": "68075bff",
        "outputId": "b8f64462-6cdc-4988-b294-4de217cf32fb"
      },
      "source": [
        "# Evaluate model on DEVELOPMENT data\n",
        "\n",
        "# predict using model. Returns logits\n",
        "pred_labels_dev = BERT_model_B.predict(dev_features)[0]\n",
        "\n",
        "# convert logits lo labels\n",
        "pred_labels_dev = from_logits_to_labels(pred_labels_dev, 'B')\n",
        "\n",
        "# confusion matrix\n",
        "confusion_matrix_plot(pred_labels_dev, dev_labels_b, task='B', normalize='true')\n",
        "\n",
        "# print the precision, recall, f1\n",
        "print(metrics.classification_report(dev_labels_b, pred_labels_dev, digits=3))\n",
        "\n",
        "# print global weighted f-1 score\n",
        "print(f\"Weighted f1-score: {metrics.f1_score(dev_labels_b, pred_labels_dev, pos_label=1, average='weighted')}\")"
      ],
      "id": "68075bff",
      "execution_count": null,
      "outputs": [
        {
          "output_type": "display_data",
          "data": {
            "image/png": "[encoded data removed]",
            "text/plain": [
              "<Figure size 288x288 with 1 Axes>"
            ]
          },
          "metadata": {
            "needs_background": "light"
          }
        },
        {
          "output_type": "stream",
          "name": "stdout",
          "text": [
            "              precision    recall  f1-score   support\n",
            "\n",
            "         GEN      0.452     0.575     0.506        73\n",
            "        NGEN      0.968     0.949     0.958       993\n",
            "\n",
            "    accuracy                          0.923      1066\n",
            "   macro avg      0.710     0.762     0.732      1066\n",
            "weighted avg      0.933     0.923     0.927      1066\n",
            "\n",
            "Weighted f1-score: 0.9273195764511996\n"
          ]
        }
      ]
    },
    {
      "cell_type": "code",
      "metadata": {
        "colab": {
          "base_uri": "https://localhost:8080/",
          "height": 467
        },
        "id": "69d97847",
        "outputId": "39abc366-9d9b-4d69-cb7a-4c7c2cb61e75"
      },
      "source": [
        "# Evaluate model on TEST data\n",
        "\n",
        "# predict using model. Returns logits\n",
        "pred_labels_test = BERT_model_B.predict(test_features)[0]\n",
        "\n",
        "# convert logits lo labels\n",
        "pred_labels_test = from_logits_to_labels(pred_labels_test, 'B')\n",
        "\n",
        "# confusion matrix\n",
        "confusion_matrix_plot(pred_labels_test, test_labels_b, task='B', normalize='true')\n",
        "\n",
        "# print the precision, recall, f1\n",
        "print(metrics.classification_report(test_labels_b, pred_labels_test, digits=3))\n",
        "\n",
        "# print global weighted f-1 score\n",
        "print(f\"Weighted f1-score: {metrics.f1_score(test_labels_b, pred_labels_test, pos_label=1, average='weighted')}\")"
      ],
      "id": "69d97847",
      "execution_count": null,
      "outputs": [
        {
          "output_type": "display_data",
          "data": {
            "image/png": "[encoded data removed]",
            "text/plain": [
              "<Figure size 288x288 with 1 Axes>"
            ]
          },
          "metadata": {
            "needs_background": "light"
          }
        },
        {
          "output_type": "stream",
          "name": "stdout",
          "text": [
            "              precision    recall  f1-score   support\n",
            "\n",
            "         GEN      0.470     0.617     0.533       175\n",
            "        NGEN      0.931     0.881     0.905      1025\n",
            "\n",
            "    accuracy                          0.843      1200\n",
            "   macro avg      0.700     0.749     0.719      1200\n",
            "weighted avg      0.864     0.843     0.851      1200\n",
            "\n",
            "Weighted f1-score: 0.8510233918128655\n"
          ]
        }
      ]
    },
    {
      "cell_type": "code",
      "metadata": {
        "id": "6aa1d2df"
      },
      "source": [
        "# save model\n",
        "BERT_model_B.save_pretrained('drive/MyDrive/w266/saved_models/TRAC-2_BERT_model_B')"
      ],
      "id": "6aa1d2df",
      "execution_count": null,
      "outputs": []
    },
    {
      "cell_type": "markdown",
      "metadata": {
        "id": "efcfaf92"
      },
      "source": [
        "## References\n",
        "\n",
        "- Pre-processing data: https://huggingface.co/transformers/preprocessing.html\n",
        "\n",
        "- Fine-tunning a pre-trained model: https://huggingface.co/transformers/training.html\n",
        "\n",
        "- BERT: https://huggingface.co/transformers/model_doc/bert.html"
      ],
      "id": "efcfaf92"
    },
    {
      "cell_type": "code",
      "metadata": {
        "id": "ecf7c642"
      },
      "source": [
        ""
      ],
      "id": "ecf7c642",
      "execution_count": null,
      "outputs": []
    }
  ]
}