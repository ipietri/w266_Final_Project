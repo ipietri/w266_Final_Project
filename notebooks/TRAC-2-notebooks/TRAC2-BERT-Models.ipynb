{
 "cells": [
  {
   "cell_type": "markdown",
   "id": "8f01d8e3",
   "metadata": {},
   "source": [
    "# Final Project"
   ]
  },
  {
   "cell_type": "markdown",
   "id": "67b65eac",
   "metadata": {},
   "source": [
    "## TRAC2- Transformer Models (BERT) - base uncased\n",
    "\n",
    "In this section we build a BERT (Bidirectional Encoder Representations from Transformers) model.  "
   ]
  },
  {
   "cell_type": "markdown",
   "id": "fc82e530",
   "metadata": {},
   "source": [
    "## Package imports"
   ]
  },
  {
   "cell_type": "code",
   "execution_count": 4,
   "id": "c0ad9cf3",
   "metadata": {},
   "outputs": [],
   "source": [
    "import pandas as pd\n",
    "import numpy as np\n",
    "import matplotlib.pyplot as plt\n",
    "# This tells matplotlib not to try opening a new window for each plot.\n",
    "%matplotlib inline\n",
    "\n",
    "import tensorflow as tf\n",
    "from transformers import AutoTokenizer\n",
    "from transformers import TFAutoModelForSequenceClassification\n",
    "from datasets import load_dataset\n",
    "\n",
    "from sklearn.preprocessing import label_binarize\n",
    "from sklearn import metrics"
   ]
  },
  {
   "cell_type": "markdown",
   "id": "1b0b9771",
   "metadata": {},
   "source": [
    "## Helper functions"
   ]
  },
  {
   "cell_type": "code",
   "execution_count": 5,
   "id": "4a8eaacb",
   "metadata": {},
   "outputs": [],
   "source": [
    "def from_logits_to_labels(pred, task):\n",
    "    '''\n",
    "    Returns labels based on predicted logits on labels [CAG,NAG,OAG] for task A. Task B is binary, and 'GEN' represents \n",
    "    the positive class.\n",
    "    Parameters:\n",
    "    pred: array with model prediction\n",
    "    task: either 'A' or 'B'\n",
    "    '''\n",
    "    index_a = {0:'CAG', 1:'NAG', 2:'OAG'}\n",
    "    index_b = {0:'NGEN', 1:'GEN'}\n",
    "    \n",
    "    if task == 'A':\n",
    "        highest_prob_class = np.argmax(pred, axis=1)\n",
    "        labels = np.vectorize(index_a.get)(highest_prob_class.astype(int))\n",
    "        \n",
    "    elif task == 'B':\n",
    "#         labels = np.where(pred <0.5, 'NGEN', 'GEN')\n",
    "        highest_prob_class = np.argmax(pred, axis=1)\n",
    "        labels = np.vectorize(index_b.get)(highest_prob_class.astype(int))\n",
    "    else:\n",
    "        labels = []\n",
    "        \n",
    "    return labels    "
   ]
  },
  {
   "cell_type": "code",
   "execution_count": 6,
   "id": "11bc8144",
   "metadata": {},
   "outputs": [],
   "source": [
    "def to_binary_labels(string_labels, classes_list):\n",
    "    '''\n",
    "    Returns an array with 0 and 1 for a binary classification problem.\n",
    "    Parameters:\n",
    "    string_labels: array with 2 categories defined as strings e.g. ['cat', 'dog', 'dog', ...] \n",
    "    classes_list: array with the two classes. The order of the array defines which gets 0 and which gets 1. The first\n",
    "                  gets 0.\n",
    "    '''\n",
    "\n",
    "    labels = label_binarize(string_labels, classes = classes_list).flatten()\n",
    "    \n",
    "    return labels "
   ]
  },
  {
   "cell_type": "code",
   "execution_count": 7,
   "id": "505b0828",
   "metadata": {},
   "outputs": [],
   "source": [
    "def to_one_hot_labels(string_labels):\n",
    "    '''\n",
    "    Returns one-hot encoded labels from a multi-class label vector e.g. ['cat', 'dog', 'dog', 'lion', 'cat', ...] \n",
    "    Parameters:\n",
    "    string_labels: \n",
    "    '''\n",
    "    labels = pd.get_dummies(string_labels)\n",
    "    labels = labels.to_numpy()\n",
    "    \n",
    "    return labels"
   ]
  },
  {
   "cell_type": "code",
   "execution_count": 8,
   "id": "cf367348",
   "metadata": {},
   "outputs": [],
   "source": [
    "# this is modified to get the prediction as parameter\n",
    "# to avoid predicting again since inference takes time\n",
    "def confusion_matrix_plot(pred_labels, true_labels, task, normalize=None):\n",
    "    '''\n",
    "    Returns a confusion matrix with a nice format.\n",
    "    Parameters:\n",
    "    pred_labels: predicted labels\n",
    "    true_labels: true labels \n",
    "    task: 'A' or 'B'\n",
    "    normalize: if want to normalize the confusion matrix normalize='true'\n",
    "    '''\n",
    "    \n",
    "    # Create a confusion matrix\n",
    "    cm = metrics.confusion_matrix(true_labels, pred_labels, normalize=normalize)\n",
    "    cm = np.around(cm, 2)\n",
    "\n",
    "    # Plot the confusion matrix\n",
    "    if task == 'A':\n",
    "        axis_labels = ['CAG', 'NAG', 'OAG']\n",
    "    elif task == 'B':\n",
    "        axis_labels = ['GEN', 'NGEN']\n",
    "\n",
    "    fig, ax = plt.subplots(figsize=(4,4))\n",
    "    im = ax.imshow(cm, cmap=\"Blues\")\n",
    "\n",
    "    # Create the ticks and labels\n",
    "    ax.set_xticks(np.arange(len(axis_labels)))\n",
    "    ax.set_yticks(np.arange(len(axis_labels)))\n",
    "    ax.set_xticklabels(axis_labels)\n",
    "    ax.set_yticklabels(axis_labels)\n",
    "\n",
    "    # Axis titles\n",
    "    plt.ylabel('True label', size=12)\n",
    "    plt.xlabel('Predicted label', size=12)\n",
    "\n",
    "    # Loop over data dimensions and create text annotations.\n",
    "    for i in range(len(axis_labels)):\n",
    "        for j in range(len(axis_labels)):\n",
    "            text = ax.text(j, i, cm[i, j],ha=\"center\", va=\"center\", color=\"dimgrey\", size=12)\n",
    "    \n",
    "    ax.set_title(\"Confusion Matrix\", size=16, weight=\"bold\")\n",
    "    fig.tight_layout()\n",
    "    plt.show()\n"
   ]
  },
  {
   "cell_type": "code",
   "execution_count": 9,
   "id": "17c5651f",
   "metadata": {},
   "outputs": [],
   "source": [
    "def loss_accuracy_plots(training_history, xrange, task):\n",
    "    '''\n",
    "    Returns plots for loss and accuracy during the training process of a NN.\n",
    "    Parameters:\n",
    "    training_history: object that stores the training history of the NN (from model.fit(...))\n",
    "    xrange: range in x axis\n",
    "    task: string used for the title in the plot\n",
    "    '''\n",
    "    \n",
    "    fig, (ax1, ax2) = plt.subplots(1, 2, figsize=(15,6))\n",
    "    \n",
    "    # loss plot\n",
    "    ax1.plot(training_history.history['loss'], color='black')\n",
    "    ax1.plot(training_history.history['val_loss'], color='blue')\n",
    "    ax1.set_title('Training and validation loss Sub-Task ' + task)\n",
    "    ax1.legend(['training', 'development'])\n",
    "    ax1.grid(which='both')\n",
    "    ax1.set_xticks(np.arange(0, xrange, 2))\n",
    "    \n",
    "    # accuracy plot\n",
    "    if task == 'A':\n",
    "        ax2.plot(training_history.history['categorical_accuracy'], color='black')\n",
    "        ax2.plot(training_history.history['val_categorical_accuracy'], color='blue')\n",
    "        ax2.set_title('Training and validation acccuracy Sub_Task ' + task)\n",
    "        ax2.legend(['training', 'development'])\n",
    "        ax2.grid(which='both')\n",
    "        ax2.set_xticks(np.arange(0, xrange, 2))\n",
    "    elif task == 'B':\n",
    "        ax2.plot(training_history.history['sparse_categorical_accuracy'], color='black')\n",
    "        ax2.plot(training_history.history['val_sparse_categorical_accuracy'], color='blue')\n",
    "        ax2.set_title('Training and validation acccuracy Sub_Task ' + task)\n",
    "        ax2.legend(['training', 'development'])\n",
    "        ax2.grid(which='both')\n",
    "        ax2.set_xticks(np.arange(0, xrange, 2))\n",
    "    plt.show()\n",
    "    "
   ]
  },
  {
   "cell_type": "markdown",
   "id": "544f08b5",
   "metadata": {},
   "source": [
    "## Load data\n",
    "Load training, development and test datasets."
   ]
  },
  {
   "cell_type": "code",
   "execution_count": 10,
   "id": "c7a92330",
   "metadata": {},
   "outputs": [],
   "source": [
    "# Load labels using pandas dataframes\n",
    "\n",
    "train_labels_a = pd.read_csv('../../../data/release-files/eng/trac2_eng_train.csv')['Sub-task A']\n",
    "train_labels_b = pd.read_csv('../../../data/release-files/eng/trac2_eng_train.csv')['Sub-task B']\n",
    "dev_labels_a = pd.read_csv('../../../data/release-files/eng/trac2_eng_dev.csv')['Sub-task A']\n",
    "dev_labels_b = pd.read_csv('../../../data/release-files/eng/trac2_eng_dev.csv')['Sub-task B']\n",
    "test_labels_a = pd.read_csv('../../../data/release-files/gold/trac2_eng_gold_a.csv')['Sub-task A']\n",
    "test_labels_b = pd.read_csv('../../../data/release-files/gold/trac2_eng_gold_b.csv')['Sub-task B']"
   ]
  },
  {
   "cell_type": "code",
   "execution_count": 11,
   "id": "e837f450",
   "metadata": {
    "scrolled": true
   },
   "outputs": [
    {
     "name": "stderr",
     "output_type": "stream",
     "text": [
      "Using custom data configuration default-3bcd76a1a4d8b6ec\n",
      "Reusing dataset csv (/Users/isabel/.cache/huggingface/datasets/csv/default-3bcd76a1a4d8b6ec/0.0.0/9144e0a4e8435090117cea53e6c7537173ef2304525df4a077c435d8ee7828ff)\n",
      "Using custom data configuration default-a842edb638833834\n",
      "Reusing dataset csv (/Users/isabel/.cache/huggingface/datasets/csv/default-a842edb638833834/0.0.0/9144e0a4e8435090117cea53e6c7537173ef2304525df4a077c435d8ee7828ff)\n",
      "Using custom data configuration default-bfcd354802845a1d\n",
      "Reusing dataset csv (/Users/isabel/.cache/huggingface/datasets/csv/default-bfcd354802845a1d/0.0.0/9144e0a4e8435090117cea53e6c7537173ef2304525df4a077c435d8ee7828ff)\n"
     ]
    }
   ],
   "source": [
    "# Load text data using Hugging Face datasets\n",
    "# need to use the split argument even though we are not splitting. If not, data is loaded as DatasetDict\n",
    "# to load as dataset need to include the split parameter\n",
    "train_dataset = load_dataset('csv', data_files='../../../data/release-files/eng/trac2_eng_train.csv', split = 'train[:4263]')\n",
    "dev_dataset = load_dataset('csv', data_files='../../../data/release-files/eng/trac2_eng_dev.csv', split = 'train[:1066]')\n",
    "test_dataset = load_dataset('csv', data_files='../../../data/release-files/test/trac2_eng_test.csv', split = 'train[:1200]')"
   ]
  },
  {
   "cell_type": "markdown",
   "id": "86e2c1cf",
   "metadata": {},
   "source": [
    "## Encode labels"
   ]
  },
  {
   "cell_type": "code",
   "execution_count": 12,
   "id": "2bc320b3",
   "metadata": {},
   "outputs": [],
   "source": [
    "# encode labels Task A- [CAG,NAG,OAG]\n",
    "train_labels_a_enc = to_one_hot_labels(train_labels_a)\n",
    "dev_labels_a_enc = to_one_hot_labels(dev_labels_a)\n",
    "test_labels_a_enc = to_one_hot_labels(test_labels_a)\n"
   ]
  },
  {
   "cell_type": "code",
   "execution_count": 13,
   "id": "571e1d26",
   "metadata": {},
   "outputs": [],
   "source": [
    "# encode labels Task B- 0:NGEN, 1:GEN\n",
    "train_labels_b_enc = to_binary_labels(train_labels_b, classes_list=['NGEN', 'GEN'])\n",
    "dev_labels_b_enc = to_binary_labels(dev_labels_b, classes_list=['NGEN', 'GEN'])\n",
    "test_labels_b_enc = to_binary_labels(test_labels_b, classes_list=['NGEN', 'GEN'])"
   ]
  },
  {
   "cell_type": "markdown",
   "id": "5db58504",
   "metadata": {},
   "source": [
    "## Prepare TensorFlow datasets for BERT"
   ]
  },
  {
   "cell_type": "code",
   "execution_count": 14,
   "id": "415583c1",
   "metadata": {},
   "outputs": [],
   "source": [
    "# remove columns to leave only the column with the posts. Column 'Text'\n",
    "train_dataset = train_dataset.remove_columns(['ID', 'Sub-task B', 'Sub-task A'])\n",
    "dev_dataset = dev_dataset.remove_columns(['ID', 'Sub-task A', 'Sub-task B'])\n",
    "test_dataset = test_dataset.remove_columns('ID')"
   ]
  },
  {
   "cell_type": "code",
   "execution_count": 15,
   "id": "5ead92c9",
   "metadata": {},
   "outputs": [],
   "source": [
    "# define a BERT tokenizer\n",
    "# use the bert-based-uncased tokenizer\n",
    "tokenizer = AutoTokenizer.from_pretrained('bert-base-uncased')"
   ]
  },
  {
   "cell_type": "code",
   "execution_count": 16,
   "id": "77a0bdf0",
   "metadata": {},
   "outputs": [
    {
     "data": {
      "text/plain": [
       "'I REALLY want to take some vacations soon'"
      ]
     },
     "execution_count": 16,
     "metadata": {},
     "output_type": "execute_result"
    }
   ],
   "source": [
    "# test how the tokenizer works\n",
    "test_sentence = 'I REALLY want to take some vacations soon'\n",
    "test_sentence"
   ]
  },
  {
   "cell_type": "code",
   "execution_count": 17,
   "id": "eb2b71f0",
   "metadata": {},
   "outputs": [
    {
     "data": {
      "text/plain": [
       "{'input_ids': [101, 1045, 2428, 2215, 2000, 2202, 2070, 10885, 2015, 2574, 102], 'token_type_ids': [0, 0, 0, 0, 0, 0, 0, 0, 0, 0, 0], 'attention_mask': [1, 1, 1, 1, 1, 1, 1, 1, 1, 1, 1]}"
      ]
     },
     "execution_count": 17,
     "metadata": {},
     "output_type": "execute_result"
    }
   ],
   "source": [
    "encoded_input = tokenizer(test_sentence)\n",
    "encoded_input"
   ]
  },
  {
   "cell_type": "code",
   "execution_count": 18,
   "id": "e6c8b8da",
   "metadata": {},
   "outputs": [
    {
     "data": {
      "text/plain": [
       "'[CLS] i really want to take some vacations soon [SEP]'"
      ]
     },
     "execution_count": 18,
     "metadata": {},
     "output_type": "execute_result"
    }
   ],
   "source": [
    "tokenizer.decode(encoded_input['input_ids'])"
   ]
  },
  {
   "cell_type": "markdown",
   "id": "8420a05b",
   "metadata": {},
   "source": [
    "The tokenizer automatically lowercase the input text, and ads some special tokens ([CLS] and [SEP]) that the BERT model expects."
   ]
  },
  {
   "cell_type": "markdown",
   "id": "d403076a",
   "metadata": {},
   "source": [
    "To use the training examples in the model we need to pad (or truncate) each example to a maximum lenght. For BERT the maximum possible length is 512. "
   ]
  },
  {
   "cell_type": "code",
   "execution_count": 19,
   "id": "cd498279",
   "metadata": {},
   "outputs": [
    {
     "name": "stderr",
     "output_type": "stream",
     "text": [
      "Loading cached processed dataset at /Users/isabel/.cache/huggingface/datasets/csv/default-3bcd76a1a4d8b6ec/0.0.0/9144e0a4e8435090117cea53e6c7537173ef2304525df4a077c435d8ee7828ff/cache-f296505d1c4f8e31.arrow\n",
      "Loading cached processed dataset at /Users/isabel/.cache/huggingface/datasets/csv/default-a842edb638833834/0.0.0/9144e0a4e8435090117cea53e6c7537173ef2304525df4a077c435d8ee7828ff/cache-c16125cdf10d092e.arrow\n",
      "Loading cached processed dataset at /Users/isabel/.cache/huggingface/datasets/csv/default-bfcd354802845a1d/0.0.0/9144e0a4e8435090117cea53e6c7537173ef2304525df4a077c435d8ee7828ff/cache-a0623328f6d09454.arrow\n"
     ]
    }
   ],
   "source": [
    "# tokenize the train, development and test data\n",
    "# Use a max sequence of 150 tokens. Based on EDA this is enough for majority of posts\n",
    "\n",
    "train_dataset_tok = train_dataset.map(lambda x: tokenizer(x['Text'], truncation=True, padding=True, max_length=150), batched=True)\n",
    "dev_dataset_tok = dev_dataset.map(lambda x: tokenizer(x['Text'], truncation=True, padding=True, max_length=150), batched=True)\n",
    "test_dataset_tok = test_dataset.map(lambda x: tokenizer(x['Text'], truncation=True, padding=True, max_length=150), batched=True)"
   ]
  },
  {
   "cell_type": "code",
   "execution_count": 20,
   "id": "0526c186",
   "metadata": {},
   "outputs": [],
   "source": [
    "# now we can remove the column with the original post from the dataset. We are going to use the result of tokenization for modeling\n",
    "train_dataset_tok = train_dataset_tok.remove_columns(['Text']).with_format('tensorflow')\n",
    "dev_dataset_tok = dev_dataset_tok.remove_columns(['Text']).with_format('tensorflow')\n",
    "test_dataset_tok = test_dataset_tok.remove_columns(['Text']).with_format('tensorflow')"
   ]
  },
  {
   "cell_type": "code",
   "execution_count": 21,
   "id": "778a3871",
   "metadata": {},
   "outputs": [
    {
     "name": "stdout",
     "output_type": "stream",
     "text": [
      "Metal device set to: Apple M1\n"
     ]
    },
    {
     "name": "stderr",
     "output_type": "stream",
     "text": [
      "2021-10-03 18:01:04.710136: I tensorflow/core/common_runtime/pluggable_device/pluggable_device_factory.cc:305] Could not identify NUMA node of platform GPU ID 0, defaulting to 0. Your kernel may not have been built with NUMA support.\n",
      "2021-10-03 18:01:04.710406: I tensorflow/core/common_runtime/pluggable_device/pluggable_device_factory.cc:271] Created TensorFlow device (/job:localhost/replica:0/task:0/device:GPU:0 with 0 MB memory) -> physical PluggableDevice (device: 0, name: METAL, pci bus id: <undefined>)\n"
     ]
    }
   ],
   "source": [
    "# extract features from tokenizer output: 'input_ids', 'token_type_ids', 'attention_mask'\n",
    "train_features = {x: train_dataset_tok[x].to_tensor() for x in tokenizer.model_input_names}\n",
    "dev_features = {x: dev_dataset_tok[x].to_tensor() for x in tokenizer.model_input_names}\n",
    "test_features = {x: test_dataset_tok[x].to_tensor() for x in tokenizer.model_input_names}"
   ]
  },
  {
   "cell_type": "code",
   "execution_count": 22,
   "id": "2c9445e5",
   "metadata": {},
   "outputs": [],
   "source": [
    "# finally we create a dataset with features and labels\n",
    "\n",
    "# Task A\n",
    "train_tf_dataset_a = tf.data.Dataset.from_tensor_slices((train_features, train_labels_a_enc))\n",
    "dev_tf_dataset_a = tf.data.Dataset.from_tensor_slices((dev_features, dev_labels_a_enc))\n",
    "test_tf_dataset_a = tf.data.Dataset.from_tensor_slices((test_features, test_labels_a_enc))\n",
    "\n",
    "# Task B\n",
    "train_tf_dataset_b = tf.data.Dataset.from_tensor_slices((train_features, train_labels_b_enc))\n",
    "dev_tf_dataset_b = tf.data.Dataset.from_tensor_slices((dev_features, dev_labels_b_enc))\n",
    "test_tf_dataset_b = tf.data.Dataset.from_tensor_slices((test_features, test_labels_b_enc))"
   ]
  },
  {
   "cell_type": "code",
   "execution_count": 23,
   "id": "a8a7b4fe",
   "metadata": {},
   "outputs": [],
   "source": [
    "# shuffle training data and define batches. Define batches for development and test data.\n",
    "\n",
    "batch_size = 16\n",
    "\n",
    "# Task A\n",
    "train_tf_dataset_a = train_tf_dataset_a.shuffle(len(train_dataset_tok)).batch(batch_size)\n",
    "dev_tf_dataset_a = dev_tf_dataset_a.batch(batch_size)\n",
    "test_tf_dataset_a = test_tf_dataset_a.batch(batch_size)\n",
    "\n",
    "# Task B\n",
    "train_tf_dataset_b = train_tf_dataset_b.shuffle(len(train_dataset_tok)).batch(batch_size)\n",
    "dev_tf_dataset_b = dev_tf_dataset_b.batch(batch_size)\n",
    "test_tf_dataset_b = test_tf_dataset_b.batch(batch_size)"
   ]
  },
  {
   "cell_type": "markdown",
   "id": "b59c68de",
   "metadata": {},
   "source": [
    "## Model Task A"
   ]
  },
  {
   "cell_type": "code",
   "execution_count": 21,
   "id": "4dedc210",
   "metadata": {},
   "outputs": [],
   "source": [
    "# delete model if exists\n",
    "try:\n",
    "    del BERT_model_A\n",
    "except:\n",
    "    pass"
   ]
  },
  {
   "cell_type": "code",
   "execution_count": 22,
   "id": "bdbe9a1d",
   "metadata": {},
   "outputs": [
    {
     "name": "stderr",
     "output_type": "stream",
     "text": [
      "All model checkpoint layers were used when initializing TFBertForSequenceClassification.\n",
      "\n",
      "Some layers of TFBertForSequenceClassification were not initialized from the model checkpoint at bert-base-uncased and are newly initialized: ['classifier']\n",
      "You should probably TRAIN this model on a down-stream task to be able to use it for predictions and inference.\n"
     ]
    }
   ],
   "source": [
    "# define the model. Task A is a classification task with 3 labels\n",
    "BERT_model_A = TFAutoModelForSequenceClassification.from_pretrained(\"bert-base-uncased\", num_labels=3)"
   ]
  },
  {
   "cell_type": "code",
   "execution_count": 23,
   "id": "dc878d92",
   "metadata": {},
   "outputs": [],
   "source": [
    "# compile model\n",
    "BERT_model_A.compile(optimizer=tf.keras.optimizers.Adam(learning_rate=5e-5),\n",
    "                     loss=tf.keras.losses.CategoricalCrossentropy(from_logits=True),\n",
    "                     metrics=tf.metrics.CategoricalAccuracy()\n",
    "                    )"
   ]
  },
  {
   "cell_type": "code",
   "execution_count": 24,
   "id": "4407b556",
   "metadata": {
    "scrolled": true
   },
   "outputs": [
    {
     "name": "stdout",
     "output_type": "stream",
     "text": [
      "Epoch 1/2\n",
      "WARNING:tensorflow:The parameters `output_attentions`, `output_hidden_states` and `use_cache` cannot be updated when calling a model.They have to be set to True/False in the config object (i.e.: `config=XConfig.from_pretrained('name', output_attentions=True)`).\n",
      "WARNING:tensorflow:AutoGraph could not transform <bound method Socket.send of <zmq.Socket(zmq.PUSH) at 0x107cb5d00>> and will run it as-is.\n",
      "Please report this to the TensorFlow team. When filing the bug, set the verbosity to 10 (on Linux, `export AUTOGRAPH_VERBOSITY=10`) and attach the full output.\n",
      "Cause: module, class, method, function, traceback, frame, or code object was expected, got cython_function_or_method\n",
      "To silence this warning, decorate the function with @tf.autograph.experimental.do_not_convert\n",
      "WARNING: AutoGraph could not transform <bound method Socket.send of <zmq.Socket(zmq.PUSH) at 0x107cb5d00>> and will run it as-is.\n",
      "Please report this to the TensorFlow team. When filing the bug, set the verbosity to 10 (on Linux, `export AUTOGRAPH_VERBOSITY=10`) and attach the full output.\n",
      "Cause: module, class, method, function, traceback, frame, or code object was expected, got cython_function_or_method\n",
      "To silence this warning, decorate the function with @tf.autograph.experimental.do_not_convert\n",
      "WARNING:tensorflow:The parameter `return_dict` cannot be set in graph mode and will always be set to `True`.\n",
      "WARNING:tensorflow:The parameters `output_attentions`, `output_hidden_states` and `use_cache` cannot be updated when calling a model.They have to be set to True/False in the config object (i.e.: `config=XConfig.from_pretrained('name', output_attentions=True)`).\n",
      "WARNING:tensorflow:The parameter `return_dict` cannot be set in graph mode and will always be set to `True`.\n"
     ]
    },
    {
     "name": "stderr",
     "output_type": "stream",
     "text": [
      "2021-10-03 16:57:32.618405: I tensorflow/compiler/mlir/mlir_graph_optimization_pass.cc:185] None of the MLIR Optimization Passes are enabled (registered 2)\n",
      "2021-10-03 16:57:32.646702: W tensorflow/core/platform/profile_utils/cpu_utils.cc:128] Failed to get CPU frequency: 0 Hz\n",
      "2021-10-03 16:57:32.648239: I tensorflow/core/grappler/optimizers/custom_graph_optimizer_registry.cc:112] Plugin optimizer for device_type GPU is enabled.\n"
     ]
    },
    {
     "name": "stdout",
     "output_type": "stream",
     "text": [
      "267/267 [==============================] - ETA: 0s - loss: 0.5428 - categorical_accuracy: 0.7962WARNING:tensorflow:The parameters `output_attentions`, `output_hidden_states` and `use_cache` cannot be updated when calling a model.They have to be set to True/False in the config object (i.e.: `config=XConfig.from_pretrained('name', output_attentions=True)`).\n",
      "WARNING:tensorflow:The parameter `return_dict` cannot be set in graph mode and will always be set to `True`.\n"
     ]
    },
    {
     "name": "stderr",
     "output_type": "stream",
     "text": [
      "2021-10-03 17:06:38.136559: I tensorflow/core/grappler/optimizers/custom_graph_optimizer_registry.cc:112] Plugin optimizer for device_type GPU is enabled.\n"
     ]
    },
    {
     "name": "stdout",
     "output_type": "stream",
     "text": [
      "267/267 [==============================] - 586s 2s/step - loss: 0.5428 - categorical_accuracy: 0.7962 - val_loss: 0.4799 - val_categorical_accuracy: 0.7983\n",
      "Epoch 2/2\n",
      "267/267 [==============================] - 590s 2s/step - loss: 0.3843 - categorical_accuracy: 0.8464 - val_loss: 0.4692 - val_categorical_accuracy: 0.8068\n"
     ]
    }
   ],
   "source": [
    "# fit model\n",
    "training_history = BERT_model_A.fit(train_tf_dataset_a, validation_data=dev_tf_dataset_a, epochs=2)"
   ]
  },
  {
   "cell_type": "code",
   "execution_count": 25,
   "id": "9b34811c",
   "metadata": {
    "scrolled": false
   },
   "outputs": [
    {
     "data": {
      "image/png": "[encoded data removed]",
      "text/plain": [
       "<Figure size 1080x432 with 2 Axes>"
      ]
     },
     "metadata": {
      "needs_background": "light"
     },
     "output_type": "display_data"
    }
   ],
   "source": [
    "# plot loss and accuracy\n",
    "loss_accuracy_plots(training_history, xrange=5, task='A')"
   ]
  },
  {
   "cell_type": "code",
   "execution_count": 26,
   "id": "7d916c4e",
   "metadata": {},
   "outputs": [
    {
     "name": "stdout",
     "output_type": "stream",
     "text": [
      "WARNING:tensorflow:The parameters `output_attentions`, `output_hidden_states` and `use_cache` cannot be updated when calling a model.They have to be set to True/False in the config object (i.e.: `config=XConfig.from_pretrained('name', output_attentions=True)`).\n",
      "WARNING:tensorflow:The parameter `return_dict` cannot be set in graph mode and will always be set to `True`.\n"
     ]
    },
    {
     "name": "stderr",
     "output_type": "stream",
     "text": [
      "2021-10-03 17:17:04.355274: I tensorflow/core/grappler/optimizers/custom_graph_optimizer_registry.cc:112] Plugin optimizer for device_type GPU is enabled.\n"
     ]
    },
    {
     "data": {
      "image/png": "[encoded data removed]",
      "text/plain": [
       "<Figure size 288x288 with 1 Axes>"
      ]
     },
     "metadata": {
      "needs_background": "light"
     },
     "output_type": "display_data"
    },
    {
     "name": "stdout",
     "output_type": "stream",
     "text": [
      "              precision    recall  f1-score   support\n",
      "\n",
      "         CAG      0.875     0.603     0.714       453\n",
      "         NAG      0.940     0.994     0.966      3375\n",
      "         OAG      0.871     0.761     0.812       435\n",
      "\n",
      "    accuracy                          0.929      4263\n",
      "   macro avg      0.895     0.786     0.831      4263\n",
      "weighted avg      0.926     0.929     0.924      4263\n",
      "\n",
      "Weighted f1-score: 0.9235244561393406\n"
     ]
    }
   ],
   "source": [
    "# Evaluate model on TRAINING data\n",
    "\n",
    "# predict using model. Returns logits\n",
    "pred_labels_train = BERT_model_A.predict(train_features)[0]\n",
    "\n",
    "# convert logits lo labels\n",
    "pred_labels_train = from_logits_to_labels(pred_labels_train, 'A')\n",
    "\n",
    "# confusion matrix\n",
    "confusion_matrix_plot(pred_labels_train, train_labels_a, task='A', normalize='true')\n",
    "\n",
    "# print the precision, recall, f1\n",
    "print(metrics.classification_report(train_labels_a, pred_labels_train, digits=3))\n",
    "\n",
    "# print global weighted f-1 score\n",
    "print(f\"Weighted f1-score: {metrics.f1_score(train_labels_a, pred_labels_train, pos_label=1, average='weighted')}\")\n"
   ]
  },
  {
   "cell_type": "code",
   "execution_count": 27,
   "id": "6a769e81",
   "metadata": {},
   "outputs": [
    {
     "data": {
      "image/png": "[encoded data removed]",
      "text/plain": [
       "<Figure size 288x288 with 1 Axes>"
      ]
     },
     "metadata": {
      "needs_background": "light"
     },
     "output_type": "display_data"
    },
    {
     "name": "stdout",
     "output_type": "stream",
     "text": [
      "              precision    recall  f1-score   support\n",
      "\n",
      "         CAG      0.369     0.205     0.264       117\n",
      "         NAG      0.848     0.953     0.898       836\n",
      "         OAG      0.639     0.345     0.448       113\n",
      "\n",
      "    accuracy                          0.807      1066\n",
      "   macro avg      0.619     0.501     0.537      1066\n",
      "weighted avg      0.773     0.807     0.780      1066\n",
      "\n",
      "Weighted f1-score: 0.7803387843337382\n"
     ]
    }
   ],
   "source": [
    "# Evaluate model on DEVELOPMENT data\n",
    "\n",
    "# predict using model. Returns logits\n",
    "pred_labels_dev = BERT_model_A.predict(dev_features)[0]\n",
    "\n",
    "# convert logits lo labels\n",
    "pred_labels_dev = from_logits_to_labels(pred_labels_dev, 'A')\n",
    "\n",
    "# confusion matrix\n",
    "confusion_matrix_plot(pred_labels_dev, dev_labels_a, task='A', normalize='true')\n",
    "\n",
    "# print the precision, recall, f1\n",
    "print(metrics.classification_report(dev_labels_a, pred_labels_dev, digits=3))\n",
    "\n",
    "# print global weighted f-1 score\n",
    "print(f\"Weighted f1-score: {metrics.f1_score(dev_labels_a, pred_labels_dev, pos_label=1, average='weighted')}\")"
   ]
  },
  {
   "cell_type": "code",
   "execution_count": 28,
   "id": "9fe3bcbc",
   "metadata": {},
   "outputs": [
    {
     "data": {
      "image/png": "[encoded data removed]",
      "text/plain": [
       "<Figure size 288x288 with 1 Axes>"
      ]
     },
     "metadata": {
      "needs_background": "light"
     },
     "output_type": "display_data"
    },
    {
     "name": "stdout",
     "output_type": "stream",
     "text": [
      "              precision    recall  f1-score   support\n",
      "\n",
      "         CAG      0.532     0.295     0.379       224\n",
      "         NAG      0.735     0.962     0.834       690\n",
      "         OAG      0.855     0.517     0.645       286\n",
      "\n",
      "    accuracy                          0.732      1200\n",
      "   macro avg      0.708     0.591     0.619      1200\n",
      "weighted avg      0.726     0.732     0.704      1200\n",
      "\n",
      "Weighted f1-score: 0.7038481829946517\n"
     ]
    }
   ],
   "source": [
    "# Evaluate model on TEST data\n",
    "\n",
    "# predict using model. Returns logits\n",
    "pred_labels_test = BERT_model_A.predict(test_features)[0]\n",
    "\n",
    "# convert logits lo labels\n",
    "pred_labels_test = from_logits_to_labels(pred_labels_test, 'A')\n",
    "\n",
    "# confusion matrix\n",
    "confusion_matrix_plot(pred_labels_test, test_labels_a, task='A', normalize='true')\n",
    "\n",
    "# print the precision, recall, f1\n",
    "print(metrics.classification_report(test_labels_a, pred_labels_test, digits=3))\n",
    "\n",
    "# print global weighted f-1 score\n",
    "print(f\"Weighted f1-score: {metrics.f1_score(test_labels_a, pred_labels_test, pos_label=1, average='weighted')}\")"
   ]
  },
  {
   "cell_type": "code",
   "execution_count": 29,
   "id": "c3b4df30",
   "metadata": {},
   "outputs": [],
   "source": [
    "# save model\n",
    "BERT_model_A.save_pretrained('TRAC-2_BERT_model_A')"
   ]
  },
  {
   "cell_type": "markdown",
   "id": "9142a3df",
   "metadata": {},
   "source": [
    "## Model Task B"
   ]
  },
  {
   "cell_type": "code",
   "execution_count": 24,
   "id": "ea8f0b20",
   "metadata": {},
   "outputs": [],
   "source": [
    "# delete model if exists\n",
    "try:\n",
    "    del BERT_model_B\n",
    "except:\n",
    "    pass"
   ]
  },
  {
   "cell_type": "code",
   "execution_count": 25,
   "id": "49c167d7",
   "metadata": {},
   "outputs": [
    {
     "name": "stderr",
     "output_type": "stream",
     "text": [
      "All model checkpoint layers were used when initializing TFBertForSequenceClassification.\n",
      "\n",
      "Some layers of TFBertForSequenceClassification were not initialized from the model checkpoint at bert-base-uncased and are newly initialized: ['classifier']\n",
      "You should probably TRAIN this model on a down-stream task to be able to use it for predictions and inference.\n"
     ]
    }
   ],
   "source": [
    "# define the model. Task B is a classification task with 2 labels\n",
    "BERT_model_B = TFAutoModelForSequenceClassification.from_pretrained(\"bert-base-uncased\", num_labels=2)"
   ]
  },
  {
   "cell_type": "code",
   "execution_count": 26,
   "id": "25449764",
   "metadata": {},
   "outputs": [],
   "source": [
    "# compile model\n",
    "BERT_model_B.compile(optimizer=tf.keras.optimizers.Adam(learning_rate=5e-5),\n",
    "                     loss=tf.keras.losses.SparseCategoricalCrossentropy(from_logits=True),\n",
    "                     metrics=tf.metrics.SparseCategoricalAccuracy()\n",
    "                    )"
   ]
  },
  {
   "cell_type": "code",
   "execution_count": 27,
   "id": "153aa19e",
   "metadata": {},
   "outputs": [
    {
     "name": "stdout",
     "output_type": "stream",
     "text": [
      "Epoch 1/3\n",
      "WARNING:tensorflow:The parameters `output_attentions`, `output_hidden_states` and `use_cache` cannot be updated when calling a model.They have to be set to True/False in the config object (i.e.: `config=XConfig.from_pretrained('name', output_attentions=True)`).\n",
      "WARNING:tensorflow:AutoGraph could not transform <bound method Socket.send of <zmq.Socket(zmq.PUSH) at 0x110b02d00>> and will run it as-is.\n",
      "Please report this to the TensorFlow team. When filing the bug, set the verbosity to 10 (on Linux, `export AUTOGRAPH_VERBOSITY=10`) and attach the full output.\n",
      "Cause: module, class, method, function, traceback, frame, or code object was expected, got cython_function_or_method\n",
      "To silence this warning, decorate the function with @tf.autograph.experimental.do_not_convert\n",
      "WARNING: AutoGraph could not transform <bound method Socket.send of <zmq.Socket(zmq.PUSH) at 0x110b02d00>> and will run it as-is.\n",
      "Please report this to the TensorFlow team. When filing the bug, set the verbosity to 10 (on Linux, `export AUTOGRAPH_VERBOSITY=10`) and attach the full output.\n",
      "Cause: module, class, method, function, traceback, frame, or code object was expected, got cython_function_or_method\n",
      "To silence this warning, decorate the function with @tf.autograph.experimental.do_not_convert\n",
      "WARNING:tensorflow:The parameter `return_dict` cannot be set in graph mode and will always be set to `True`.\n",
      "WARNING:tensorflow:The parameters `output_attentions`, `output_hidden_states` and `use_cache` cannot be updated when calling a model.They have to be set to True/False in the config object (i.e.: `config=XConfig.from_pretrained('name', output_attentions=True)`).\n",
      "WARNING:tensorflow:The parameter `return_dict` cannot be set in graph mode and will always be set to `True`.\n"
     ]
    },
    {
     "name": "stderr",
     "output_type": "stream",
     "text": [
      "2021-10-03 18:01:36.034972: I tensorflow/compiler/mlir/mlir_graph_optimization_pass.cc:185] None of the MLIR Optimization Passes are enabled (registered 2)\n",
      "2021-10-03 18:01:36.063380: W tensorflow/core/platform/profile_utils/cpu_utils.cc:128] Failed to get CPU frequency: 0 Hz\n",
      "2021-10-03 18:01:36.064854: I tensorflow/core/grappler/optimizers/custom_graph_optimizer_registry.cc:112] Plugin optimizer for device_type GPU is enabled.\n"
     ]
    },
    {
     "name": "stdout",
     "output_type": "stream",
     "text": [
      "267/267 [==============================] - ETA: 0s - loss: 0.2163 - sparse_categorical_accuracy: 0.9329WARNING:tensorflow:The parameters `output_attentions`, `output_hidden_states` and `use_cache` cannot be updated when calling a model.They have to be set to True/False in the config object (i.e.: `config=XConfig.from_pretrained('name', output_attentions=True)`).\n",
      "WARNING:tensorflow:The parameter `return_dict` cannot be set in graph mode and will always be set to `True`.\n"
     ]
    },
    {
     "name": "stderr",
     "output_type": "stream",
     "text": [
      "2021-10-03 18:10:19.445866: I tensorflow/core/grappler/optimizers/custom_graph_optimizer_registry.cc:112] Plugin optimizer for device_type GPU is enabled.\n"
     ]
    },
    {
     "name": "stdout",
     "output_type": "stream",
     "text": [
      "267/267 [==============================] - 563s 2s/step - loss: 0.2163 - sparse_categorical_accuracy: 0.9329 - val_loss: 0.1849 - val_sparse_categorical_accuracy: 0.9362\n",
      "Epoch 2/3\n",
      "267/267 [==============================] - 563s 2s/step - loss: 0.1377 - sparse_categorical_accuracy: 0.9514 - val_loss: 0.1757 - val_sparse_categorical_accuracy: 0.9315\n",
      "Epoch 3/3\n",
      "267/267 [==============================] - 574s 2s/step - loss: 0.0765 - sparse_categorical_accuracy: 0.9707 - val_loss: 0.1979 - val_sparse_categorical_accuracy: 0.9512\n"
     ]
    }
   ],
   "source": [
    "# fit model\n",
    "training_history = BERT_model_B.fit(train_tf_dataset_b, validation_data=dev_tf_dataset_b, epochs=3)"
   ]
  },
  {
   "cell_type": "code",
   "execution_count": 28,
   "id": "30453359",
   "metadata": {},
   "outputs": [
    {
     "data": {
      "image/png": "[encoded data removed]",
      "text/plain": [
       "<Figure size 1080x432 with 2 Axes>"
      ]
     },
     "metadata": {
      "needs_background": "light"
     },
     "output_type": "display_data"
    }
   ],
   "source": [
    "# plot loss and accuracy\n",
    "loss_accuracy_plots(training_history, xrange=5, task='B')"
   ]
  },
  {
   "cell_type": "code",
   "execution_count": 29,
   "id": "83a106f5",
   "metadata": {},
   "outputs": [
    {
     "name": "stdout",
     "output_type": "stream",
     "text": [
      "WARNING:tensorflow:The parameters `output_attentions`, `output_hidden_states` and `use_cache` cannot be updated when calling a model.They have to be set to True/False in the config object (i.e.: `config=XConfig.from_pretrained('name', output_attentions=True)`).\n",
      "WARNING:tensorflow:The parameter `return_dict` cannot be set in graph mode and will always be set to `True`.\n"
     ]
    },
    {
     "name": "stderr",
     "output_type": "stream",
     "text": [
      "2021-10-03 18:29:52.435585: I tensorflow/core/grappler/optimizers/custom_graph_optimizer_registry.cc:112] Plugin optimizer for device_type GPU is enabled.\n"
     ]
    },
    {
     "data": {
      "image/png": "[encoded data removed]",
      "text/plain": [
       "<Figure size 288x288 with 1 Axes>"
      ]
     },
     "metadata": {
      "needs_background": "light"
     },
     "output_type": "display_data"
    },
    {
     "name": "stdout",
     "output_type": "stream",
     "text": [
      "              precision    recall  f1-score   support\n",
      "\n",
      "         GEN      0.962     0.900     0.930       309\n",
      "        NGEN      0.992     0.997     0.995      3954\n",
      "\n",
      "    accuracy                          0.990      4263\n",
      "   macro avg      0.977     0.948     0.962      4263\n",
      "weighted avg      0.990     0.990     0.990      4263\n",
      "\n",
      "Weighted f1-score: 0.9899954575777613\n"
     ]
    }
   ],
   "source": [
    "# Evaluate model on TRAINING data\n",
    "\n",
    "# predict using model. Returns logits\n",
    "pred_labels_train = BERT_model_B.predict(train_features)[0]\n",
    "\n",
    "# convert logits lo labels\n",
    "pred_labels_train = from_logits_to_labels(pred_labels_train, 'B')\n",
    "\n",
    "# confusion matrix\n",
    "confusion_matrix_plot(pred_labels_train, train_labels_b, task='B', normalize='true')\n",
    "\n",
    "# print the precision, recall, f1\n",
    "print(metrics.classification_report(train_labels_b, pred_labels_train, digits=3))\n",
    "\n",
    "# print global weighted f-1 score\n",
    "print(f\"Weighted f1-score: {metrics.f1_score(train_labels_b, pred_labels_train, pos_label=1, average='weighted')}\")\n"
   ]
  },
  {
   "cell_type": "code",
   "execution_count": 30,
   "id": "68075bff",
   "metadata": {},
   "outputs": [
    {
     "data": {
      "image/png": "[encoded data removed]",
      "text/plain": [
       "<Figure size 288x288 with 1 Axes>"
      ]
     },
     "metadata": {
      "needs_background": "light"
     },
     "output_type": "display_data"
    },
    {
     "name": "stdout",
     "output_type": "stream",
     "text": [
      "              precision    recall  f1-score   support\n",
      "\n",
      "         GEN      0.800     0.384     0.519        73\n",
      "        NGEN      0.956     0.993     0.974       993\n",
      "\n",
      "    accuracy                          0.951      1066\n",
      "   macro avg      0.878     0.688     0.746      1066\n",
      "weighted avg      0.946     0.951     0.943      1066\n",
      "\n",
      "Weighted f1-score: 0.9430956793098891\n"
     ]
    }
   ],
   "source": [
    "# Evaluate model on DEVELOPMENT data\n",
    "\n",
    "# predict using model. Returns logits\n",
    "pred_labels_dev = BERT_model_B.predict(dev_features)[0]\n",
    "\n",
    "# convert logits lo labels\n",
    "pred_labels_dev = from_logits_to_labels(pred_labels_dev, 'B')\n",
    "\n",
    "# confusion matrix\n",
    "confusion_matrix_plot(pred_labels_dev, dev_labels_b, task='B', normalize='true')\n",
    "\n",
    "# print the precision, recall, f1\n",
    "print(metrics.classification_report(dev_labels_b, pred_labels_dev, digits=3))\n",
    "\n",
    "# print global weighted f-1 score\n",
    "print(f\"Weighted f1-score: {metrics.f1_score(dev_labels_b, pred_labels_dev, pos_label=1, average='weighted')}\")"
   ]
  },
  {
   "cell_type": "code",
   "execution_count": 31,
   "id": "69d97847",
   "metadata": {},
   "outputs": [
    {
     "data": {
      "image/png": "[encoded data removed]",
      "text/plain": [
       "<Figure size 288x288 with 1 Axes>"
      ]
     },
     "metadata": {
      "needs_background": "light"
     },
     "output_type": "display_data"
    },
    {
     "name": "stdout",
     "output_type": "stream",
     "text": [
      "              precision    recall  f1-score   support\n",
      "\n",
      "         GEN      0.546     0.474     0.508       175\n",
      "        NGEN      0.912     0.933     0.922      1025\n",
      "\n",
      "    accuracy                          0.866      1200\n",
      "   macro avg      0.729     0.703     0.715      1200\n",
      "weighted avg      0.859     0.866     0.862      1200\n",
      "\n",
      "Weighted f1-score: 0.861859225427847\n"
     ]
    }
   ],
   "source": [
    "# Evaluate model on TEST data\n",
    "\n",
    "# predict using model. Returns logits\n",
    "pred_labels_test = BERT_model_B.predict(test_features)[0]\n",
    "\n",
    "# convert logits lo labels\n",
    "pred_labels_test = from_logits_to_labels(pred_labels_test, 'B')\n",
    "\n",
    "# confusion matrix\n",
    "confusion_matrix_plot(pred_labels_test, test_labels_b, task='B', normalize='true')\n",
    "\n",
    "# print the precision, recall, f1\n",
    "print(metrics.classification_report(test_labels_b, pred_labels_test, digits=3))\n",
    "\n",
    "# print global weighted f-1 score\n",
    "print(f\"Weighted f1-score: {metrics.f1_score(test_labels_b, pred_labels_test, pos_label=1, average='weighted')}\")"
   ]
  },
  {
   "cell_type": "code",
   "execution_count": 32,
   "id": "6aa1d2df",
   "metadata": {},
   "outputs": [],
   "source": [
    "# save model\n",
    "BERT_model_B.save_pretrained('TRAC-2_BERT_model_B')"
   ]
  },
  {
   "cell_type": "code",
   "execution_count": null,
   "id": "b7d3a14e",
   "metadata": {},
   "outputs": [],
   "source": []
  },
  {
   "cell_type": "markdown",
   "id": "efcfaf92",
   "metadata": {},
   "source": [
    "## References\n",
    "\n",
    "- Pre-processing data: https://huggingface.co/transformers/preprocessing.html\n",
    "\n",
    "- Fine-tunning a pre-trained model: https://huggingface.co/transformers/training.html\n",
    "\n",
    "- BERT: https://huggingface.co/transformers/model_doc/bert.html\n"
   ]
  },
  {
   "cell_type": "code",
   "execution_count": null,
   "id": "ecf7c642",
   "metadata": {},
   "outputs": [],
   "source": []
  }
 ],
 "metadata": {
  "environment": {
   "name": "tf2-gpu.2-6.m79",
   "type": "gcloud",
   "uri": "gcr.io/deeplearning-platform-release/tf2-gpu.2-6:m79"
  },
  "kernelspec": {
   "display_name": "Python 3 (ipykernel)",
   "language": "python",
   "name": "python3"
  },
  "language_info": {
   "codemirror_mode": {
    "name": "ipython",
    "version": 3
   },
   "file_extension": ".py",
   "mimetype": "text/x-python",
   "name": "python",
   "nbconvert_exporter": "python",
   "pygments_lexer": "ipython3",
   "version": "3.9.7"
  }
 },
 "nbformat": 4,
 "nbformat_minor": 5
}
