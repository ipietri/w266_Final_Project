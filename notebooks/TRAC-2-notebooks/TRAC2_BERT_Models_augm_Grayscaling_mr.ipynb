{
  "nbformat": 4,
  "nbformat_minor": 5,
  "metadata": {
    "environment": {
      "name": "tf2-gpu.2-6.m79",
      "type": "gcloud",
      "uri": "gcr.io/deeplearning-platform-release/tf2-gpu.2-6:m79"
    },
    "kernelspec": {
      "display_name": "Python 3 (ipykernel)",
      "language": "python",
      "name": "python3"
    },
    "language_info": {
      "codemirror_mode": {
        "name": "ipython",
        "version": 3
      },
      "file_extension": ".py",
      "mimetype": "text/x-python",
      "name": "python",
      "nbconvert_exporter": "python",
      "pygments_lexer": "ipython3",
      "version": "3.9.7"
    },
    "colab": {
      "name": "TRAC2-BERT-Models_augm_Grayscaling_mr.ipynb",
      "provenance": [],
      "collapsed_sections": [
        "fc82e530",
        "1b0b9771"
      ],
      "include_colab_link": true
    },
    "widgets": {
      "application/vnd.jupyter.widget-state+json": {
        "8d177486bf764926b1d51c0e2e00e0ab": {
          "model_module": "@jupyter-widgets/controls",
          "model_name": "HBoxModel",
          "model_module_version": "1.5.0",
          "state": {
            "_view_name": "HBoxView",
            "_dom_classes": [],
            "_model_name": "HBoxModel",
            "_view_module": "@jupyter-widgets/controls",
            "_model_module_version": "1.5.0",
            "_view_count": null,
            "_view_module_version": "1.5.0",
            "box_style": "",
            "layout": "IPY_MODEL_9c650265e58c4ae1ae6f4a43d65403cf",
            "_model_module": "@jupyter-widgets/controls",
            "children": [
              "IPY_MODEL_a2c38777c27e40a8889577e7c619d193",
              "IPY_MODEL_3d38d547778641cca83325914f649773",
              "IPY_MODEL_cebb7ffed1dd41f3a4c478a997b97b50"
            ]
          }
        },
        "9c650265e58c4ae1ae6f4a43d65403cf": {
          "model_module": "@jupyter-widgets/base",
          "model_name": "LayoutModel",
          "model_module_version": "1.2.0",
          "state": {
            "_view_name": "LayoutView",
            "grid_template_rows": null,
            "right": null,
            "justify_content": null,
            "_view_module": "@jupyter-widgets/base",
            "overflow": null,
            "_model_module_version": "1.2.0",
            "_view_count": null,
            "flex_flow": null,
            "width": null,
            "min_width": null,
            "border": null,
            "align_items": null,
            "bottom": null,
            "_model_module": "@jupyter-widgets/base",
            "top": null,
            "grid_column": null,
            "overflow_y": null,
            "overflow_x": null,
            "grid_auto_flow": null,
            "grid_area": null,
            "grid_template_columns": null,
            "flex": null,
            "_model_name": "LayoutModel",
            "justify_items": null,
            "grid_row": null,
            "max_height": null,
            "align_content": null,
            "visibility": null,
            "align_self": null,
            "height": null,
            "min_height": null,
            "padding": null,
            "grid_auto_rows": null,
            "grid_gap": null,
            "max_width": null,
            "order": null,
            "_view_module_version": "1.2.0",
            "grid_template_areas": null,
            "object_position": null,
            "object_fit": null,
            "grid_auto_columns": null,
            "margin": null,
            "display": null,
            "left": null
          }
        },
        "a2c38777c27e40a8889577e7c619d193": {
          "model_module": "@jupyter-widgets/controls",
          "model_name": "HTMLModel",
          "model_module_version": "1.5.0",
          "state": {
            "_view_name": "HTMLView",
            "style": "IPY_MODEL_30b48eddf38a4be988c07f74054a7f5b",
            "_dom_classes": [],
            "description": "",
            "_model_name": "HTMLModel",
            "placeholder": "​",
            "_view_module": "@jupyter-widgets/controls",
            "_model_module_version": "1.5.0",
            "value": "100%",
            "_view_count": null,
            "_view_module_version": "1.5.0",
            "description_tooltip": null,
            "_model_module": "@jupyter-widgets/controls",
            "layout": "IPY_MODEL_29684baa67b94750b1351d2253a6e15f"
          }
        },
        "3d38d547778641cca83325914f649773": {
          "model_module": "@jupyter-widgets/controls",
          "model_name": "FloatProgressModel",
          "model_module_version": "1.5.0",
          "state": {
            "_view_name": "ProgressView",
            "style": "IPY_MODEL_7112fbc780804418b4327de4361f0932",
            "_dom_classes": [],
            "description": "",
            "_model_name": "FloatProgressModel",
            "bar_style": "success",
            "max": 23,
            "_view_module": "@jupyter-widgets/controls",
            "_model_module_version": "1.5.0",
            "value": 23,
            "_view_count": null,
            "_view_module_version": "1.5.0",
            "orientation": "horizontal",
            "min": 0,
            "description_tooltip": null,
            "_model_module": "@jupyter-widgets/controls",
            "layout": "IPY_MODEL_7068c6eac7e64ee5833ed3e61ced35a6"
          }
        },
        "cebb7ffed1dd41f3a4c478a997b97b50": {
          "model_module": "@jupyter-widgets/controls",
          "model_name": "HTMLModel",
          "model_module_version": "1.5.0",
          "state": {
            "_view_name": "HTMLView",
            "style": "IPY_MODEL_766931d0f62742c9a96eb5b4f046dde1",
            "_dom_classes": [],
            "description": "",
            "_model_name": "HTMLModel",
            "placeholder": "​",
            "_view_module": "@jupyter-widgets/controls",
            "_model_module_version": "1.5.0",
            "value": " 23/23 [00:04&lt;00:00,  7.24ba/s]",
            "_view_count": null,
            "_view_module_version": "1.5.0",
            "description_tooltip": null,
            "_model_module": "@jupyter-widgets/controls",
            "layout": "IPY_MODEL_9e9338a2679d4d22aea36ca2e95ac07b"
          }
        },
        "30b48eddf38a4be988c07f74054a7f5b": {
          "model_module": "@jupyter-widgets/controls",
          "model_name": "DescriptionStyleModel",
          "model_module_version": "1.5.0",
          "state": {
            "_view_name": "StyleView",
            "_model_name": "DescriptionStyleModel",
            "description_width": "",
            "_view_module": "@jupyter-widgets/base",
            "_model_module_version": "1.5.0",
            "_view_count": null,
            "_view_module_version": "1.2.0",
            "_model_module": "@jupyter-widgets/controls"
          }
        },
        "29684baa67b94750b1351d2253a6e15f": {
          "model_module": "@jupyter-widgets/base",
          "model_name": "LayoutModel",
          "model_module_version": "1.2.0",
          "state": {
            "_view_name": "LayoutView",
            "grid_template_rows": null,
            "right": null,
            "justify_content": null,
            "_view_module": "@jupyter-widgets/base",
            "overflow": null,
            "_model_module_version": "1.2.0",
            "_view_count": null,
            "flex_flow": null,
            "width": null,
            "min_width": null,
            "border": null,
            "align_items": null,
            "bottom": null,
            "_model_module": "@jupyter-widgets/base",
            "top": null,
            "grid_column": null,
            "overflow_y": null,
            "overflow_x": null,
            "grid_auto_flow": null,
            "grid_area": null,
            "grid_template_columns": null,
            "flex": null,
            "_model_name": "LayoutModel",
            "justify_items": null,
            "grid_row": null,
            "max_height": null,
            "align_content": null,
            "visibility": null,
            "align_self": null,
            "height": null,
            "min_height": null,
            "padding": null,
            "grid_auto_rows": null,
            "grid_gap": null,
            "max_width": null,
            "order": null,
            "_view_module_version": "1.2.0",
            "grid_template_areas": null,
            "object_position": null,
            "object_fit": null,
            "grid_auto_columns": null,
            "margin": null,
            "display": null,
            "left": null
          }
        },
        "7112fbc780804418b4327de4361f0932": {
          "model_module": "@jupyter-widgets/controls",
          "model_name": "ProgressStyleModel",
          "model_module_version": "1.5.0",
          "state": {
            "_view_name": "StyleView",
            "_model_name": "ProgressStyleModel",
            "description_width": "",
            "_view_module": "@jupyter-widgets/base",
            "_model_module_version": "1.5.0",
            "_view_count": null,
            "_view_module_version": "1.2.0",
            "bar_color": null,
            "_model_module": "@jupyter-widgets/controls"
          }
        },
        "7068c6eac7e64ee5833ed3e61ced35a6": {
          "model_module": "@jupyter-widgets/base",
          "model_name": "LayoutModel",
          "model_module_version": "1.2.0",
          "state": {
            "_view_name": "LayoutView",
            "grid_template_rows": null,
            "right": null,
            "justify_content": null,
            "_view_module": "@jupyter-widgets/base",
            "overflow": null,
            "_model_module_version": "1.2.0",
            "_view_count": null,
            "flex_flow": null,
            "width": null,
            "min_width": null,
            "border": null,
            "align_items": null,
            "bottom": null,
            "_model_module": "@jupyter-widgets/base",
            "top": null,
            "grid_column": null,
            "overflow_y": null,
            "overflow_x": null,
            "grid_auto_flow": null,
            "grid_area": null,
            "grid_template_columns": null,
            "flex": null,
            "_model_name": "LayoutModel",
            "justify_items": null,
            "grid_row": null,
            "max_height": null,
            "align_content": null,
            "visibility": null,
            "align_self": null,
            "height": null,
            "min_height": null,
            "padding": null,
            "grid_auto_rows": null,
            "grid_gap": null,
            "max_width": null,
            "order": null,
            "_view_module_version": "1.2.0",
            "grid_template_areas": null,
            "object_position": null,
            "object_fit": null,
            "grid_auto_columns": null,
            "margin": null,
            "display": null,
            "left": null
          }
        },
        "766931d0f62742c9a96eb5b4f046dde1": {
          "model_module": "@jupyter-widgets/controls",
          "model_name": "DescriptionStyleModel",
          "model_module_version": "1.5.0",
          "state": {
            "_view_name": "StyleView",
            "_model_name": "DescriptionStyleModel",
            "description_width": "",
            "_view_module": "@jupyter-widgets/base",
            "_model_module_version": "1.5.0",
            "_view_count": null,
            "_view_module_version": "1.2.0",
            "_model_module": "@jupyter-widgets/controls"
          }
        },
        "9e9338a2679d4d22aea36ca2e95ac07b": {
          "model_module": "@jupyter-widgets/base",
          "model_name": "LayoutModel",
          "model_module_version": "1.2.0",
          "state": {
            "_view_name": "LayoutView",
            "grid_template_rows": null,
            "right": null,
            "justify_content": null,
            "_view_module": "@jupyter-widgets/base",
            "overflow": null,
            "_model_module_version": "1.2.0",
            "_view_count": null,
            "flex_flow": null,
            "width": null,
            "min_width": null,
            "border": null,
            "align_items": null,
            "bottom": null,
            "_model_module": "@jupyter-widgets/base",
            "top": null,
            "grid_column": null,
            "overflow_y": null,
            "overflow_x": null,
            "grid_auto_flow": null,
            "grid_area": null,
            "grid_template_columns": null,
            "flex": null,
            "_model_name": "LayoutModel",
            "justify_items": null,
            "grid_row": null,
            "max_height": null,
            "align_content": null,
            "visibility": null,
            "align_self": null,
            "height": null,
            "min_height": null,
            "padding": null,
            "grid_auto_rows": null,
            "grid_gap": null,
            "max_width": null,
            "order": null,
            "_view_module_version": "1.2.0",
            "grid_template_areas": null,
            "object_position": null,
            "object_fit": null,
            "grid_auto_columns": null,
            "margin": null,
            "display": null,
            "left": null
          }
        },
        "fc607cad4a8b4939a5010e185b29bf3e": {
          "model_module": "@jupyter-widgets/controls",
          "model_name": "HBoxModel",
          "model_module_version": "1.5.0",
          "state": {
            "_view_name": "HBoxView",
            "_dom_classes": [],
            "_model_name": "HBoxModel",
            "_view_module": "@jupyter-widgets/controls",
            "_model_module_version": "1.5.0",
            "_view_count": null,
            "_view_module_version": "1.5.0",
            "box_style": "",
            "layout": "IPY_MODEL_beb00b7f000c4317b3b0dfeb590f90c1",
            "_model_module": "@jupyter-widgets/controls",
            "children": [
              "IPY_MODEL_6c892d6d5f9c40fc91d1fe79db6cfcd6",
              "IPY_MODEL_6923fa747f9e449b8829e522bc2d973f",
              "IPY_MODEL_3a7e54e593834a338ed65a133e545648"
            ]
          }
        },
        "beb00b7f000c4317b3b0dfeb590f90c1": {
          "model_module": "@jupyter-widgets/base",
          "model_name": "LayoutModel",
          "model_module_version": "1.2.0",
          "state": {
            "_view_name": "LayoutView",
            "grid_template_rows": null,
            "right": null,
            "justify_content": null,
            "_view_module": "@jupyter-widgets/base",
            "overflow": null,
            "_model_module_version": "1.2.0",
            "_view_count": null,
            "flex_flow": null,
            "width": null,
            "min_width": null,
            "border": null,
            "align_items": null,
            "bottom": null,
            "_model_module": "@jupyter-widgets/base",
            "top": null,
            "grid_column": null,
            "overflow_y": null,
            "overflow_x": null,
            "grid_auto_flow": null,
            "grid_area": null,
            "grid_template_columns": null,
            "flex": null,
            "_model_name": "LayoutModel",
            "justify_items": null,
            "grid_row": null,
            "max_height": null,
            "align_content": null,
            "visibility": null,
            "align_self": null,
            "height": null,
            "min_height": null,
            "padding": null,
            "grid_auto_rows": null,
            "grid_gap": null,
            "max_width": null,
            "order": null,
            "_view_module_version": "1.2.0",
            "grid_template_areas": null,
            "object_position": null,
            "object_fit": null,
            "grid_auto_columns": null,
            "margin": null,
            "display": null,
            "left": null
          }
        },
        "6c892d6d5f9c40fc91d1fe79db6cfcd6": {
          "model_module": "@jupyter-widgets/controls",
          "model_name": "HTMLModel",
          "model_module_version": "1.5.0",
          "state": {
            "_view_name": "HTMLView",
            "style": "IPY_MODEL_22c04e1f3e3e4b99ba5cb573bf2dabe0",
            "_dom_classes": [],
            "description": "",
            "_model_name": "HTMLModel",
            "placeholder": "​",
            "_view_module": "@jupyter-widgets/controls",
            "_model_module_version": "1.5.0",
            "value": "100%",
            "_view_count": null,
            "_view_module_version": "1.5.0",
            "description_tooltip": null,
            "_model_module": "@jupyter-widgets/controls",
            "layout": "IPY_MODEL_13a3bff4f6204538a59bec0ee02eaa4f"
          }
        },
        "6923fa747f9e449b8829e522bc2d973f": {
          "model_module": "@jupyter-widgets/controls",
          "model_name": "FloatProgressModel",
          "model_module_version": "1.5.0",
          "state": {
            "_view_name": "ProgressView",
            "style": "IPY_MODEL_a0a499cfdac44a449da5f249d311c707",
            "_dom_classes": [],
            "description": "",
            "_model_name": "FloatProgressModel",
            "bar_style": "success",
            "max": 17,
            "_view_module": "@jupyter-widgets/controls",
            "_model_module_version": "1.5.0",
            "value": 17,
            "_view_count": null,
            "_view_module_version": "1.5.0",
            "orientation": "horizontal",
            "min": 0,
            "description_tooltip": null,
            "_model_module": "@jupyter-widgets/controls",
            "layout": "IPY_MODEL_8204426196d548f5ad4a77b6785302d1"
          }
        },
        "3a7e54e593834a338ed65a133e545648": {
          "model_module": "@jupyter-widgets/controls",
          "model_name": "HTMLModel",
          "model_module_version": "1.5.0",
          "state": {
            "_view_name": "HTMLView",
            "style": "IPY_MODEL_2bdf207116fb4b0399d842b333978c12",
            "_dom_classes": [],
            "description": "",
            "_model_name": "HTMLModel",
            "placeholder": "​",
            "_view_module": "@jupyter-widgets/controls",
            "_model_module_version": "1.5.0",
            "value": " 17/17 [00:02&lt;00:00,  7.91ba/s]",
            "_view_count": null,
            "_view_module_version": "1.5.0",
            "description_tooltip": null,
            "_model_module": "@jupyter-widgets/controls",
            "layout": "IPY_MODEL_fda5129e76ad49739377f5362509a9d1"
          }
        },
        "22c04e1f3e3e4b99ba5cb573bf2dabe0": {
          "model_module": "@jupyter-widgets/controls",
          "model_name": "DescriptionStyleModel",
          "model_module_version": "1.5.0",
          "state": {
            "_view_name": "StyleView",
            "_model_name": "DescriptionStyleModel",
            "description_width": "",
            "_view_module": "@jupyter-widgets/base",
            "_model_module_version": "1.5.0",
            "_view_count": null,
            "_view_module_version": "1.2.0",
            "_model_module": "@jupyter-widgets/controls"
          }
        },
        "13a3bff4f6204538a59bec0ee02eaa4f": {
          "model_module": "@jupyter-widgets/base",
          "model_name": "LayoutModel",
          "model_module_version": "1.2.0",
          "state": {
            "_view_name": "LayoutView",
            "grid_template_rows": null,
            "right": null,
            "justify_content": null,
            "_view_module": "@jupyter-widgets/base",
            "overflow": null,
            "_model_module_version": "1.2.0",
            "_view_count": null,
            "flex_flow": null,
            "width": null,
            "min_width": null,
            "border": null,
            "align_items": null,
            "bottom": null,
            "_model_module": "@jupyter-widgets/base",
            "top": null,
            "grid_column": null,
            "overflow_y": null,
            "overflow_x": null,
            "grid_auto_flow": null,
            "grid_area": null,
            "grid_template_columns": null,
            "flex": null,
            "_model_name": "LayoutModel",
            "justify_items": null,
            "grid_row": null,
            "max_height": null,
            "align_content": null,
            "visibility": null,
            "align_self": null,
            "height": null,
            "min_height": null,
            "padding": null,
            "grid_auto_rows": null,
            "grid_gap": null,
            "max_width": null,
            "order": null,
            "_view_module_version": "1.2.0",
            "grid_template_areas": null,
            "object_position": null,
            "object_fit": null,
            "grid_auto_columns": null,
            "margin": null,
            "display": null,
            "left": null
          }
        },
        "a0a499cfdac44a449da5f249d311c707": {
          "model_module": "@jupyter-widgets/controls",
          "model_name": "ProgressStyleModel",
          "model_module_version": "1.5.0",
          "state": {
            "_view_name": "StyleView",
            "_model_name": "ProgressStyleModel",
            "description_width": "",
            "_view_module": "@jupyter-widgets/base",
            "_model_module_version": "1.5.0",
            "_view_count": null,
            "_view_module_version": "1.2.0",
            "bar_color": null,
            "_model_module": "@jupyter-widgets/controls"
          }
        },
        "8204426196d548f5ad4a77b6785302d1": {
          "model_module": "@jupyter-widgets/base",
          "model_name": "LayoutModel",
          "model_module_version": "1.2.0",
          "state": {
            "_view_name": "LayoutView",
            "grid_template_rows": null,
            "right": null,
            "justify_content": null,
            "_view_module": "@jupyter-widgets/base",
            "overflow": null,
            "_model_module_version": "1.2.0",
            "_view_count": null,
            "flex_flow": null,
            "width": null,
            "min_width": null,
            "border": null,
            "align_items": null,
            "bottom": null,
            "_model_module": "@jupyter-widgets/base",
            "top": null,
            "grid_column": null,
            "overflow_y": null,
            "overflow_x": null,
            "grid_auto_flow": null,
            "grid_area": null,
            "grid_template_columns": null,
            "flex": null,
            "_model_name": "LayoutModel",
            "justify_items": null,
            "grid_row": null,
            "max_height": null,
            "align_content": null,
            "visibility": null,
            "align_self": null,
            "height": null,
            "min_height": null,
            "padding": null,
            "grid_auto_rows": null,
            "grid_gap": null,
            "max_width": null,
            "order": null,
            "_view_module_version": "1.2.0",
            "grid_template_areas": null,
            "object_position": null,
            "object_fit": null,
            "grid_auto_columns": null,
            "margin": null,
            "display": null,
            "left": null
          }
        },
        "2bdf207116fb4b0399d842b333978c12": {
          "model_module": "@jupyter-widgets/controls",
          "model_name": "DescriptionStyleModel",
          "model_module_version": "1.5.0",
          "state": {
            "_view_name": "StyleView",
            "_model_name": "DescriptionStyleModel",
            "description_width": "",
            "_view_module": "@jupyter-widgets/base",
            "_model_module_version": "1.5.0",
            "_view_count": null,
            "_view_module_version": "1.2.0",
            "_model_module": "@jupyter-widgets/controls"
          }
        },
        "fda5129e76ad49739377f5362509a9d1": {
          "model_module": "@jupyter-widgets/base",
          "model_name": "LayoutModel",
          "model_module_version": "1.2.0",
          "state": {
            "_view_name": "LayoutView",
            "grid_template_rows": null,
            "right": null,
            "justify_content": null,
            "_view_module": "@jupyter-widgets/base",
            "overflow": null,
            "_model_module_version": "1.2.0",
            "_view_count": null,
            "flex_flow": null,
            "width": null,
            "min_width": null,
            "border": null,
            "align_items": null,
            "bottom": null,
            "_model_module": "@jupyter-widgets/base",
            "top": null,
            "grid_column": null,
            "overflow_y": null,
            "overflow_x": null,
            "grid_auto_flow": null,
            "grid_area": null,
            "grid_template_columns": null,
            "flex": null,
            "_model_name": "LayoutModel",
            "justify_items": null,
            "grid_row": null,
            "max_height": null,
            "align_content": null,
            "visibility": null,
            "align_self": null,
            "height": null,
            "min_height": null,
            "padding": null,
            "grid_auto_rows": null,
            "grid_gap": null,
            "max_width": null,
            "order": null,
            "_view_module_version": "1.2.0",
            "grid_template_areas": null,
            "object_position": null,
            "object_fit": null,
            "grid_auto_columns": null,
            "margin": null,
            "display": null,
            "left": null
          }
        },
        "d786bc5b02b440d1afa74cc045fe5df1": {
          "model_module": "@jupyter-widgets/controls",
          "model_name": "HBoxModel",
          "model_module_version": "1.5.0",
          "state": {
            "_view_name": "HBoxView",
            "_dom_classes": [],
            "_model_name": "HBoxModel",
            "_view_module": "@jupyter-widgets/controls",
            "_model_module_version": "1.5.0",
            "_view_count": null,
            "_view_module_version": "1.5.0",
            "box_style": "",
            "layout": "IPY_MODEL_fa204623806f41b098b78709cec4c473",
            "_model_module": "@jupyter-widgets/controls",
            "children": [
              "IPY_MODEL_84ace43c5d104914b195eb1fdbbb8932",
              "IPY_MODEL_f18d0605092f4001b6ae5fe62d84fc80",
              "IPY_MODEL_fa1066dc211e43c1b1c4f07c16837bbb"
            ]
          }
        },
        "fa204623806f41b098b78709cec4c473": {
          "model_module": "@jupyter-widgets/base",
          "model_name": "LayoutModel",
          "model_module_version": "1.2.0",
          "state": {
            "_view_name": "LayoutView",
            "grid_template_rows": null,
            "right": null,
            "justify_content": null,
            "_view_module": "@jupyter-widgets/base",
            "overflow": null,
            "_model_module_version": "1.2.0",
            "_view_count": null,
            "flex_flow": null,
            "width": null,
            "min_width": null,
            "border": null,
            "align_items": null,
            "bottom": null,
            "_model_module": "@jupyter-widgets/base",
            "top": null,
            "grid_column": null,
            "overflow_y": null,
            "overflow_x": null,
            "grid_auto_flow": null,
            "grid_area": null,
            "grid_template_columns": null,
            "flex": null,
            "_model_name": "LayoutModel",
            "justify_items": null,
            "grid_row": null,
            "max_height": null,
            "align_content": null,
            "visibility": null,
            "align_self": null,
            "height": null,
            "min_height": null,
            "padding": null,
            "grid_auto_rows": null,
            "grid_gap": null,
            "max_width": null,
            "order": null,
            "_view_module_version": "1.2.0",
            "grid_template_areas": null,
            "object_position": null,
            "object_fit": null,
            "grid_auto_columns": null,
            "margin": null,
            "display": null,
            "left": null
          }
        },
        "84ace43c5d104914b195eb1fdbbb8932": {
          "model_module": "@jupyter-widgets/controls",
          "model_name": "HTMLModel",
          "model_module_version": "1.5.0",
          "state": {
            "_view_name": "HTMLView",
            "style": "IPY_MODEL_c1d1349ab8624cad8135e84fd5560079",
            "_dom_classes": [],
            "description": "",
            "_model_name": "HTMLModel",
            "placeholder": "​",
            "_view_module": "@jupyter-widgets/controls",
            "_model_module_version": "1.5.0",
            "value": "Downloading: 100%",
            "_view_count": null,
            "_view_module_version": "1.5.0",
            "description_tooltip": null,
            "_model_module": "@jupyter-widgets/controls",
            "layout": "IPY_MODEL_dcbcb1a974d64abfb26fcdfe89f056d8"
          }
        },
        "f18d0605092f4001b6ae5fe62d84fc80": {
          "model_module": "@jupyter-widgets/controls",
          "model_name": "FloatProgressModel",
          "model_module_version": "1.5.0",
          "state": {
            "_view_name": "ProgressView",
            "style": "IPY_MODEL_6f4125d263714db2998f0719b49ab0b7",
            "_dom_classes": [],
            "description": "",
            "_model_name": "FloatProgressModel",
            "bar_style": "success",
            "max": 536063208,
            "_view_module": "@jupyter-widgets/controls",
            "_model_module_version": "1.5.0",
            "value": 536063208,
            "_view_count": null,
            "_view_module_version": "1.5.0",
            "orientation": "horizontal",
            "min": 0,
            "description_tooltip": null,
            "_model_module": "@jupyter-widgets/controls",
            "layout": "IPY_MODEL_064680e1c06d48f3bd9fd74e828ac1bd"
          }
        },
        "fa1066dc211e43c1b1c4f07c16837bbb": {
          "model_module": "@jupyter-widgets/controls",
          "model_name": "HTMLModel",
          "model_module_version": "1.5.0",
          "state": {
            "_view_name": "HTMLView",
            "style": "IPY_MODEL_26a60d7fd8514a45aa97b68c69b58ed0",
            "_dom_classes": [],
            "description": "",
            "_model_name": "HTMLModel",
            "placeholder": "​",
            "_view_module": "@jupyter-widgets/controls",
            "_model_module_version": "1.5.0",
            "value": " 511M/511M [00:11&lt;00:00, 45.7MB/s]",
            "_view_count": null,
            "_view_module_version": "1.5.0",
            "description_tooltip": null,
            "_model_module": "@jupyter-widgets/controls",
            "layout": "IPY_MODEL_2490be350342484b9ece8deb028c3351"
          }
        },
        "c1d1349ab8624cad8135e84fd5560079": {
          "model_module": "@jupyter-widgets/controls",
          "model_name": "DescriptionStyleModel",
          "model_module_version": "1.5.0",
          "state": {
            "_view_name": "StyleView",
            "_model_name": "DescriptionStyleModel",
            "description_width": "",
            "_view_module": "@jupyter-widgets/base",
            "_model_module_version": "1.5.0",
            "_view_count": null,
            "_view_module_version": "1.2.0",
            "_model_module": "@jupyter-widgets/controls"
          }
        },
        "dcbcb1a974d64abfb26fcdfe89f056d8": {
          "model_module": "@jupyter-widgets/base",
          "model_name": "LayoutModel",
          "model_module_version": "1.2.0",
          "state": {
            "_view_name": "LayoutView",
            "grid_template_rows": null,
            "right": null,
            "justify_content": null,
            "_view_module": "@jupyter-widgets/base",
            "overflow": null,
            "_model_module_version": "1.2.0",
            "_view_count": null,
            "flex_flow": null,
            "width": null,
            "min_width": null,
            "border": null,
            "align_items": null,
            "bottom": null,
            "_model_module": "@jupyter-widgets/base",
            "top": null,
            "grid_column": null,
            "overflow_y": null,
            "overflow_x": null,
            "grid_auto_flow": null,
            "grid_area": null,
            "grid_template_columns": null,
            "flex": null,
            "_model_name": "LayoutModel",
            "justify_items": null,
            "grid_row": null,
            "max_height": null,
            "align_content": null,
            "visibility": null,
            "align_self": null,
            "height": null,
            "min_height": null,
            "padding": null,
            "grid_auto_rows": null,
            "grid_gap": null,
            "max_width": null,
            "order": null,
            "_view_module_version": "1.2.0",
            "grid_template_areas": null,
            "object_position": null,
            "object_fit": null,
            "grid_auto_columns": null,
            "margin": null,
            "display": null,
            "left": null
          }
        },
        "6f4125d263714db2998f0719b49ab0b7": {
          "model_module": "@jupyter-widgets/controls",
          "model_name": "ProgressStyleModel",
          "model_module_version": "1.5.0",
          "state": {
            "_view_name": "StyleView",
            "_model_name": "ProgressStyleModel",
            "description_width": "",
            "_view_module": "@jupyter-widgets/base",
            "_model_module_version": "1.5.0",
            "_view_count": null,
            "_view_module_version": "1.2.0",
            "bar_color": null,
            "_model_module": "@jupyter-widgets/controls"
          }
        },
        "064680e1c06d48f3bd9fd74e828ac1bd": {
          "model_module": "@jupyter-widgets/base",
          "model_name": "LayoutModel",
          "model_module_version": "1.2.0",
          "state": {
            "_view_name": "LayoutView",
            "grid_template_rows": null,
            "right": null,
            "justify_content": null,
            "_view_module": "@jupyter-widgets/base",
            "overflow": null,
            "_model_module_version": "1.2.0",
            "_view_count": null,
            "flex_flow": null,
            "width": null,
            "min_width": null,
            "border": null,
            "align_items": null,
            "bottom": null,
            "_model_module": "@jupyter-widgets/base",
            "top": null,
            "grid_column": null,
            "overflow_y": null,
            "overflow_x": null,
            "grid_auto_flow": null,
            "grid_area": null,
            "grid_template_columns": null,
            "flex": null,
            "_model_name": "LayoutModel",
            "justify_items": null,
            "grid_row": null,
            "max_height": null,
            "align_content": null,
            "visibility": null,
            "align_self": null,
            "height": null,
            "min_height": null,
            "padding": null,
            "grid_auto_rows": null,
            "grid_gap": null,
            "max_width": null,
            "order": null,
            "_view_module_version": "1.2.0",
            "grid_template_areas": null,
            "object_position": null,
            "object_fit": null,
            "grid_auto_columns": null,
            "margin": null,
            "display": null,
            "left": null
          }
        },
        "26a60d7fd8514a45aa97b68c69b58ed0": {
          "model_module": "@jupyter-widgets/controls",
          "model_name": "DescriptionStyleModel",
          "model_module_version": "1.5.0",
          "state": {
            "_view_name": "StyleView",
            "_model_name": "DescriptionStyleModel",
            "description_width": "",
            "_view_module": "@jupyter-widgets/base",
            "_model_module_version": "1.5.0",
            "_view_count": null,
            "_view_module_version": "1.2.0",
            "_model_module": "@jupyter-widgets/controls"
          }
        },
        "2490be350342484b9ece8deb028c3351": {
          "model_module": "@jupyter-widgets/base",
          "model_name": "LayoutModel",
          "model_module_version": "1.2.0",
          "state": {
            "_view_name": "LayoutView",
            "grid_template_rows": null,
            "right": null,
            "justify_content": null,
            "_view_module": "@jupyter-widgets/base",
            "overflow": null,
            "_model_module_version": "1.2.0",
            "_view_count": null,
            "flex_flow": null,
            "width": null,
            "min_width": null,
            "border": null,
            "align_items": null,
            "bottom": null,
            "_model_module": "@jupyter-widgets/base",
            "top": null,
            "grid_column": null,
            "overflow_y": null,
            "overflow_x": null,
            "grid_auto_flow": null,
            "grid_area": null,
            "grid_template_columns": null,
            "flex": null,
            "_model_name": "LayoutModel",
            "justify_items": null,
            "grid_row": null,
            "max_height": null,
            "align_content": null,
            "visibility": null,
            "align_self": null,
            "height": null,
            "min_height": null,
            "padding": null,
            "grid_auto_rows": null,
            "grid_gap": null,
            "max_width": null,
            "order": null,
            "_view_module_version": "1.2.0",
            "grid_template_areas": null,
            "object_position": null,
            "object_fit": null,
            "grid_auto_columns": null,
            "margin": null,
            "display": null,
            "left": null
          }
        }
      }
    },
    "accelerator": "GPU"
  },
  "cells": [
    {
      "cell_type": "markdown",
      "metadata": {
        "id": "view-in-github",
        "colab_type": "text"
      },
      "source": [
        "<a href=\"https://colab.research.google.com/github/ipietri/w266_Final_Project/blob/master/notebooks/TRAC-2-notebooks/TRAC2_BERT_Models_augm_Grayscaling_mr.ipynb\" target=\"_parent\"><img src=\"https://colab.research.google.com/assets/colab-badge.svg\" alt=\"Open In Colab\"/></a>"
      ]
    },
    {
      "cell_type": "markdown",
      "metadata": {
        "id": "8f01d8e3"
      },
      "source": [
        "# Final Project"
      ],
      "id": "8f01d8e3"
    },
    {
      "cell_type": "markdown",
      "metadata": {
        "id": "67b65eac"
      },
      "source": [
        "## TRAC2- Transformer Models (BERT) - base uncased - Evaluate variability\n",
        "\n",
        "The purpose of this notebook is to evaluate the variability in the results of the models for classification task-A and task-B.\n",
        "\n",
        "These models use the training data augmented using Grayscaling techniques. "
      ],
      "id": "67b65eac"
    },
    {
      "cell_type": "code",
      "metadata": {
        "colab": {
          "base_uri": "https://localhost:8080/"
        },
        "id": "H0HMV_5JH3iL",
        "outputId": "d3153dea-324f-408c-9f52-bff0a96abf07"
      },
      "source": [
        "try:\n",
        "  from google.colab import drive\n",
        "  drive.mount('/content/drive', force_remount=True)\n",
        "except ModuleNotFoundError:\n",
        "  path = r'data'"
      ],
      "id": "H0HMV_5JH3iL",
      "execution_count": null,
      "outputs": [
        {
          "output_type": "stream",
          "name": "stdout",
          "text": [
            "Mounted at /content/drive\n"
          ]
        }
      ]
    },
    {
      "cell_type": "markdown",
      "metadata": {
        "id": "fc82e530"
      },
      "source": [
        "## Package imports"
      ],
      "id": "fc82e530"
    },
    {
      "cell_type": "code",
      "metadata": {
        "colab": {
          "base_uri": "https://localhost:8080/"
        },
        "id": "ss6OEdHqIWyt",
        "outputId": "087199b6-be1c-4b4f-dbfd-04ddc0f69360"
      },
      "source": [
        "!pip install transformers"
      ],
      "id": "ss6OEdHqIWyt",
      "execution_count": null,
      "outputs": [
        {
          "output_type": "stream",
          "name": "stdout",
          "text": [
            "Requirement already satisfied: transformers in /usr/local/lib/python3.7/dist-packages (4.12.5)\n",
            "Requirement already satisfied: filelock in /usr/local/lib/python3.7/dist-packages (from transformers) (3.4.0)\n",
            "Requirement already satisfied: tokenizers<0.11,>=0.10.1 in /usr/local/lib/python3.7/dist-packages (from transformers) (0.10.3)\n",
            "Requirement already satisfied: packaging>=20.0 in /usr/local/lib/python3.7/dist-packages (from transformers) (21.3)\n",
            "Requirement already satisfied: pyyaml>=5.1 in /usr/local/lib/python3.7/dist-packages (from transformers) (6.0)\n",
            "Requirement already satisfied: regex!=2019.12.17 in /usr/local/lib/python3.7/dist-packages (from transformers) (2019.12.20)\n",
            "Requirement already satisfied: numpy>=1.17 in /usr/local/lib/python3.7/dist-packages (from transformers) (1.19.5)\n",
            "Requirement already satisfied: requests in /usr/local/lib/python3.7/dist-packages (from transformers) (2.23.0)\n",
            "Requirement already satisfied: sacremoses in /usr/local/lib/python3.7/dist-packages (from transformers) (0.0.46)\n",
            "Requirement already satisfied: importlib-metadata in /usr/local/lib/python3.7/dist-packages (from transformers) (4.8.2)\n",
            "Requirement already satisfied: tqdm>=4.27 in /usr/local/lib/python3.7/dist-packages (from transformers) (4.62.3)\n",
            "Requirement already satisfied: huggingface-hub<1.0,>=0.1.0 in /usr/local/lib/python3.7/dist-packages (from transformers) (0.2.0)\n",
            "Requirement already satisfied: typing-extensions>=3.7.4.3 in /usr/local/lib/python3.7/dist-packages (from huggingface-hub<1.0,>=0.1.0->transformers) (3.10.0.2)\n",
            "Requirement already satisfied: pyparsing!=3.0.5,>=2.0.2 in /usr/local/lib/python3.7/dist-packages (from packaging>=20.0->transformers) (3.0.6)\n",
            "Requirement already satisfied: zipp>=0.5 in /usr/local/lib/python3.7/dist-packages (from importlib-metadata->transformers) (3.6.0)\n",
            "Requirement already satisfied: chardet<4,>=3.0.2 in /usr/local/lib/python3.7/dist-packages (from requests->transformers) (3.0.4)\n",
            "Requirement already satisfied: certifi>=2017.4.17 in /usr/local/lib/python3.7/dist-packages (from requests->transformers) (2021.10.8)\n",
            "Requirement already satisfied: urllib3!=1.25.0,!=1.25.1,<1.26,>=1.21.1 in /usr/local/lib/python3.7/dist-packages (from requests->transformers) (1.24.3)\n",
            "Requirement already satisfied: idna<3,>=2.5 in /usr/local/lib/python3.7/dist-packages (from requests->transformers) (2.10)\n",
            "Requirement already satisfied: click in /usr/local/lib/python3.7/dist-packages (from sacremoses->transformers) (7.1.2)\n",
            "Requirement already satisfied: six in /usr/local/lib/python3.7/dist-packages (from sacremoses->transformers) (1.15.0)\n",
            "Requirement already satisfied: joblib in /usr/local/lib/python3.7/dist-packages (from sacremoses->transformers) (1.1.0)\n"
          ]
        }
      ]
    },
    {
      "cell_type": "code",
      "metadata": {
        "colab": {
          "base_uri": "https://localhost:8080/"
        },
        "id": "__N7lLxVIYs0",
        "outputId": "112cbba8-40f4-47d3-e404-05bc7be97d93"
      },
      "source": [
        "!pip install datasets"
      ],
      "id": "__N7lLxVIYs0",
      "execution_count": null,
      "outputs": [
        {
          "output_type": "stream",
          "name": "stdout",
          "text": [
            "Requirement already satisfied: datasets in /usr/local/lib/python3.7/dist-packages (1.16.1)\n",
            "Requirement already satisfied: numpy>=1.17 in /usr/local/lib/python3.7/dist-packages (from datasets) (1.19.5)\n",
            "Requirement already satisfied: pyarrow!=4.0.0,>=3.0.0 in /usr/local/lib/python3.7/dist-packages (from datasets) (3.0.0)\n",
            "Requirement already satisfied: tqdm>=4.62.1 in /usr/local/lib/python3.7/dist-packages (from datasets) (4.62.3)\n",
            "Requirement already satisfied: pandas in /usr/local/lib/python3.7/dist-packages (from datasets) (1.1.5)\n",
            "Requirement already satisfied: xxhash in /usr/local/lib/python3.7/dist-packages (from datasets) (2.0.2)\n",
            "Requirement already satisfied: aiohttp in /usr/local/lib/python3.7/dist-packages (from datasets) (3.8.1)\n",
            "Requirement already satisfied: importlib-metadata in /usr/local/lib/python3.7/dist-packages (from datasets) (4.8.2)\n",
            "Requirement already satisfied: multiprocess in /usr/local/lib/python3.7/dist-packages (from datasets) (0.70.12.2)\n",
            "Requirement already satisfied: requests>=2.19.0 in /usr/local/lib/python3.7/dist-packages (from datasets) (2.23.0)\n",
            "Requirement already satisfied: fsspec[http]>=2021.05.0 in /usr/local/lib/python3.7/dist-packages (from datasets) (2021.11.1)\n",
            "Requirement already satisfied: huggingface-hub<1.0.0,>=0.1.0 in /usr/local/lib/python3.7/dist-packages (from datasets) (0.2.0)\n",
            "Requirement already satisfied: packaging in /usr/local/lib/python3.7/dist-packages (from datasets) (21.3)\n",
            "Requirement already satisfied: dill in /usr/local/lib/python3.7/dist-packages (from datasets) (0.3.4)\n",
            "Requirement already satisfied: pyyaml in /usr/local/lib/python3.7/dist-packages (from huggingface-hub<1.0.0,>=0.1.0->datasets) (6.0)\n",
            "Requirement already satisfied: typing-extensions>=3.7.4.3 in /usr/local/lib/python3.7/dist-packages (from huggingface-hub<1.0.0,>=0.1.0->datasets) (3.10.0.2)\n",
            "Requirement already satisfied: filelock in /usr/local/lib/python3.7/dist-packages (from huggingface-hub<1.0.0,>=0.1.0->datasets) (3.4.0)\n",
            "Requirement already satisfied: pyparsing!=3.0.5,>=2.0.2 in /usr/local/lib/python3.7/dist-packages (from packaging->datasets) (3.0.6)\n",
            "Requirement already satisfied: certifi>=2017.4.17 in /usr/local/lib/python3.7/dist-packages (from requests>=2.19.0->datasets) (2021.10.8)\n",
            "Requirement already satisfied: idna<3,>=2.5 in /usr/local/lib/python3.7/dist-packages (from requests>=2.19.0->datasets) (2.10)\n",
            "Requirement already satisfied: urllib3!=1.25.0,!=1.25.1,<1.26,>=1.21.1 in /usr/local/lib/python3.7/dist-packages (from requests>=2.19.0->datasets) (1.24.3)\n",
            "Requirement already satisfied: chardet<4,>=3.0.2 in /usr/local/lib/python3.7/dist-packages (from requests>=2.19.0->datasets) (3.0.4)\n",
            "Requirement already satisfied: frozenlist>=1.1.1 in /usr/local/lib/python3.7/dist-packages (from aiohttp->datasets) (1.2.0)\n",
            "Requirement already satisfied: aiosignal>=1.1.2 in /usr/local/lib/python3.7/dist-packages (from aiohttp->datasets) (1.2.0)\n",
            "Requirement already satisfied: multidict<7.0,>=4.5 in /usr/local/lib/python3.7/dist-packages (from aiohttp->datasets) (5.2.0)\n",
            "Requirement already satisfied: charset-normalizer<3.0,>=2.0 in /usr/local/lib/python3.7/dist-packages (from aiohttp->datasets) (2.0.8)\n",
            "Requirement already satisfied: asynctest==0.13.0 in /usr/local/lib/python3.7/dist-packages (from aiohttp->datasets) (0.13.0)\n",
            "Requirement already satisfied: async-timeout<5.0,>=4.0.0a3 in /usr/local/lib/python3.7/dist-packages (from aiohttp->datasets) (4.0.1)\n",
            "Requirement already satisfied: attrs>=17.3.0 in /usr/local/lib/python3.7/dist-packages (from aiohttp->datasets) (21.2.0)\n",
            "Requirement already satisfied: yarl<2.0,>=1.0 in /usr/local/lib/python3.7/dist-packages (from aiohttp->datasets) (1.7.2)\n",
            "Requirement already satisfied: zipp>=0.5 in /usr/local/lib/python3.7/dist-packages (from importlib-metadata->datasets) (3.6.0)\n",
            "Requirement already satisfied: pytz>=2017.2 in /usr/local/lib/python3.7/dist-packages (from pandas->datasets) (2018.9)\n",
            "Requirement already satisfied: python-dateutil>=2.7.3 in /usr/local/lib/python3.7/dist-packages (from pandas->datasets) (2.8.2)\n",
            "Requirement already satisfied: six>=1.5 in /usr/local/lib/python3.7/dist-packages (from python-dateutil>=2.7.3->pandas->datasets) (1.15.0)\n"
          ]
        }
      ]
    },
    {
      "cell_type": "code",
      "metadata": {
        "id": "c0ad9cf3"
      },
      "source": [
        "import pandas as pd\n",
        "import numpy as np\n",
        "import matplotlib.pyplot as plt\n",
        "# This tells matplotlib not to try opening a new window for each plot.\n",
        "%matplotlib inline\n",
        "\n",
        "import tensorflow as tf\n",
        "from transformers import AutoTokenizer\n",
        "from transformers import TFAutoModelForSequenceClassification\n",
        "from datasets import load_dataset\n",
        "\n",
        "from sklearn.preprocessing import label_binarize\n",
        "from sklearn import metrics\n",
        "\n",
        "import statistics\n",
        "import os"
      ],
      "id": "c0ad9cf3",
      "execution_count": null,
      "outputs": []
    },
    {
      "cell_type": "markdown",
      "metadata": {
        "id": "1b0b9771"
      },
      "source": [
        "## Helper functions"
      ],
      "id": "1b0b9771"
    },
    {
      "cell_type": "code",
      "metadata": {
        "id": "4a8eaacb"
      },
      "source": [
        "def from_logits_to_labels(pred, task):\n",
        "    '''\n",
        "    Returns labels based on predicted logits on labels [CAG,NAG,OAG] for task A. Task B is binary, and 'GEN' represents \n",
        "    the positive class.\n",
        "    Parameters:\n",
        "    pred: array with model prediction\n",
        "    task: either 'A' or 'B'\n",
        "    '''\n",
        "    index_a = {0:'CAG', 1:'NAG', 2:'OAG'}\n",
        "    index_b = {0:'GEN', 1:'NGEN'}\n",
        "    \n",
        "    if task == 'A':\n",
        "        highest_prob_class = np.argmax(pred, axis=1)\n",
        "        labels = np.vectorize(index_a.get)(highest_prob_class.astype(int))\n",
        "        \n",
        "    elif task == 'B':\n",
        "        highest_prob_class = np.argmax(pred, axis=1)\n",
        "        labels = np.vectorize(index_b.get)(highest_prob_class.astype(int))\n",
        "    else:\n",
        "        labels = []\n",
        "        \n",
        "    return labels  "
      ],
      "id": "4a8eaacb",
      "execution_count": null,
      "outputs": []
    },
    {
      "cell_type": "code",
      "metadata": {
        "id": "505b0828"
      },
      "source": [
        "def to_one_hot_labels(string_labels):\n",
        "    '''\n",
        "    Returns one-hot encoded labels from a multi-class label vector e.g. ['cat', 'dog', 'dog', 'lion', 'cat', ...] \n",
        "    Parameters:\n",
        "    string_labels: \n",
        "    '''\n",
        "    labels = pd.get_dummies(string_labels)\n",
        "    labels = labels.to_numpy()\n",
        "    \n",
        "    return labels"
      ],
      "id": "505b0828",
      "execution_count": null,
      "outputs": []
    },
    {
      "cell_type": "code",
      "metadata": {
        "id": "cf367348"
      },
      "source": [
        "# this is modified to get the prediction as parameter\n",
        "# to avoid predicting again since inference takes time\n",
        "def confusion_matrix_plot(pred_labels, true_labels, task, normalize=None):\n",
        "    '''\n",
        "    Returns a confusion matrix with a nice format.\n",
        "    Parameters:\n",
        "    pred_labels: predicted labels\n",
        "    true_labels: true labels \n",
        "    task: 'A' or 'B'\n",
        "    normalize: if want to normalize the confusion matrix normalize='true'\n",
        "    '''\n",
        "    \n",
        "    # Create a confusion matrix\n",
        "    cm = metrics.confusion_matrix(true_labels, pred_labels, normalize=normalize)\n",
        "    cm = np.around(cm, 2)\n",
        "\n",
        "    # Plot the confusion matrix\n",
        "    if task == 'A':\n",
        "        axis_labels = ['CAG', 'NAG', 'OAG']\n",
        "    elif task == 'B':\n",
        "        axis_labels = ['GEN', 'NGEN']\n",
        "\n",
        "    fig, ax = plt.subplots(figsize=(4,4))\n",
        "    im = ax.imshow(cm, cmap=\"Blues\")\n",
        "\n",
        "    # Create the ticks and labels\n",
        "    ax.set_xticks(np.arange(len(axis_labels)))\n",
        "    ax.set_yticks(np.arange(len(axis_labels)))\n",
        "    ax.set_xticklabels(axis_labels)\n",
        "    ax.set_yticklabels(axis_labels)\n",
        "\n",
        "    # Axis titles\n",
        "    plt.ylabel('True label', size=12)\n",
        "    plt.xlabel('Predicted label', size=12)\n",
        "\n",
        "    # Loop over data dimensions and create text annotations.\n",
        "    for i in range(len(axis_labels)):\n",
        "        for j in range(len(axis_labels)):\n",
        "            text = ax.text(j, i, cm[i, j],ha=\"center\", va=\"center\", color=\"dimgrey\", size=12)\n",
        "    \n",
        "    ax.set_title(\"Confusion Matrix\", size=16, weight=\"bold\")\n",
        "    fig.tight_layout()\n",
        "    plt.show()\n"
      ],
      "id": "cf367348",
      "execution_count": null,
      "outputs": []
    },
    {
      "cell_type": "code",
      "metadata": {
        "id": "17c5651f"
      },
      "source": [
        "def loss_accuracy_plots(training_history, xrange, task):\n",
        "    '''\n",
        "    Returns plots for loss and accuracy during the training process of a NN.\n",
        "    Parameters:\n",
        "    training_history: object that stores the training history of the NN (from model.fit(...))\n",
        "    xrange: range in x axis\n",
        "    task: string used for the title in the plot\n",
        "    '''\n",
        "    \n",
        "    fig, (ax1, ax2) = plt.subplots(1, 2, figsize=(15,6))\n",
        "    \n",
        "    # loss plot\n",
        "    ax1.plot(training_history.history['loss'], color='black')\n",
        "    ax1.plot(training_history.history['val_loss'], color='blue')\n",
        "    ax1.set_title('Training and validation loss Sub-Task ' + task)\n",
        "    ax1.legend(['training', 'development'])\n",
        "    ax1.grid(which='both')\n",
        "    ax1.set_xticks(np.arange(0, xrange, 2))\n",
        "    \n",
        "    # accuracy plot\n",
        "    ax2.plot(training_history.history['categorical_accuracy'], color='black')\n",
        "    ax2.plot(training_history.history['val_categorical_accuracy'], color='blue')\n",
        "    ax2.set_title('Training and validation acccuracy Sub_Task ' + task)\n",
        "    ax2.legend(['training', 'development'])\n",
        "    ax2.grid(which='both')\n",
        "    ax2.set_xticks(np.arange(0, xrange, 2))\n",
        "    plt.show()\n",
        "    "
      ],
      "id": "17c5651f",
      "execution_count": null,
      "outputs": []
    },
    {
      "cell_type": "markdown",
      "metadata": {
        "id": "544f08b5"
      },
      "source": [
        "## Load data\n",
        "Load training, development and test datasets."
      ],
      "id": "544f08b5"
    },
    {
      "cell_type": "code",
      "metadata": {
        "id": "c7a92330"
      },
      "source": [
        "# Load labels using pandas dataframes\n",
        "\n",
        "path = '/content/drive/MyDrive/w266/' # for kineret\n",
        "\n",
        "train_labels_a = pd.read_csv(os.path.join(path,'grey_scaled_augmented_oversampled_subtask_a_train_data.csv'))['label']\n",
        "train_labels_b = pd.read_csv(os.path.join(path,'grey_scaled_augmented_oversampled_subtask_b_train_data.csv'))['label']\n",
        "dev_labels_a = pd.read_csv(os.path.join(path,'trac2_eng_dev.csv'))['Sub-task A']\n",
        "dev_labels_b = pd.read_csv(os.path.join(path,'trac2_eng_dev.csv'))['Sub-task B']\n",
        "test_labels_a = pd.read_csv(os.path.join(path,'trac2_eng_test.csv'))['Sub-task A']\n",
        "test_labels_b = pd.read_csv(os.path.join(path,'trac2_eng_test.csv'))['Sub-task B']"
      ],
      "id": "c7a92330",
      "execution_count": null,
      "outputs": []
    },
    {
      "cell_type": "code",
      "metadata": {
        "scrolled": true,
        "colab": {
          "base_uri": "https://localhost:8080/"
        },
        "id": "e837f450",
        "outputId": "201fe2cc-6443-4b99-e65c-998976351349"
      },
      "source": [
        "# Load text data using Hugging Face datasets\n",
        "# need to use the split argument even though we are not splitting. If not, data is loaded as DatasetDict\n",
        "# to load as dataset need to include the split parameter\n",
        "train_dataset_a = load_dataset('csv', data_files=os.path.join(path,'grey_scaled_augmented_oversampled_subtask_a_train_data.csv'), split = 'train[:22091]')\n",
        "train_dataset_b = load_dataset('csv', data_files=os.path.join(path,'grey_scaled_augmented_oversampled_subtask_b_train_data.csv'), split = 'train[:16127]')\n",
        "dev_dataset = load_dataset('csv', data_files=os.path.join(path,'trac2_eng_dev.csv'), split = 'train[:1066]')\n",
        "test_dataset = load_dataset('csv', data_files=os.path.join(path,'trac2_eng_test.csv'), split = 'train[:1200]')"
      ],
      "id": "e837f450",
      "execution_count": null,
      "outputs": [
        {
          "output_type": "stream",
          "name": "stderr",
          "text": [
            "Using custom data configuration default-9049592e1c4202ce\n",
            "Reusing dataset csv (/root/.cache/huggingface/datasets/csv/default-9049592e1c4202ce/0.0.0/bf68a4c4aefa545d0712b2fcbb1b327f905bbe2f6425fbc5e8c25234acb9e14a)\n",
            "Using custom data configuration default-c727abac6b980526\n",
            "Reusing dataset csv (/root/.cache/huggingface/datasets/csv/default-c727abac6b980526/0.0.0/bf68a4c4aefa545d0712b2fcbb1b327f905bbe2f6425fbc5e8c25234acb9e14a)\n",
            "Using custom data configuration default-a715931553fedb2f\n",
            "Reusing dataset csv (/root/.cache/huggingface/datasets/csv/default-a715931553fedb2f/0.0.0/bf68a4c4aefa545d0712b2fcbb1b327f905bbe2f6425fbc5e8c25234acb9e14a)\n",
            "Using custom data configuration default-9b0933343c54cefd\n",
            "Reusing dataset csv (/root/.cache/huggingface/datasets/csv/default-9b0933343c54cefd/0.0.0/bf68a4c4aefa545d0712b2fcbb1b327f905bbe2f6425fbc5e8c25234acb9e14a)\n"
          ]
        }
      ]
    },
    {
      "cell_type": "markdown",
      "metadata": {
        "id": "86e2c1cf"
      },
      "source": [
        "## Encode labels"
      ],
      "id": "86e2c1cf"
    },
    {
      "cell_type": "code",
      "metadata": {
        "id": "2bc320b3"
      },
      "source": [
        "# encode labels Task A- [CAG,NAG,OAG]\n",
        "train_labels_a_enc = to_one_hot_labels(train_labels_a)\n",
        "dev_labels_a_enc = to_one_hot_labels(dev_labels_a)\n",
        "test_labels_a_enc = to_one_hot_labels(test_labels_a)\n"
      ],
      "id": "2bc320b3",
      "execution_count": null,
      "outputs": []
    },
    {
      "cell_type": "code",
      "metadata": {
        "id": "jCpGlFvZZ1ua"
      },
      "source": [
        "# encode labels Task B- [GEN, NGEN]\n",
        "train_labels_b_enc = to_one_hot_labels(train_labels_b)\n",
        "dev_labels_b_enc = to_one_hot_labels(dev_labels_b)\n",
        "test_labels_b_enc = to_one_hot_labels(test_labels_b)"
      ],
      "id": "jCpGlFvZZ1ua",
      "execution_count": null,
      "outputs": []
    },
    {
      "cell_type": "markdown",
      "metadata": {
        "id": "5db58504"
      },
      "source": [
        "## Prepare TensorFlow datasets for BERT"
      ],
      "id": "5db58504"
    },
    {
      "cell_type": "code",
      "metadata": {
        "id": "415583c1"
      },
      "source": [
        "# remove columns to leave only the column with the posts. Column 'Text'\n",
        "train_dataset_a = train_dataset_a.remove_columns(['label'])\n",
        "train_dataset_b = train_dataset_b.remove_columns(['label'])\n",
        "dev_dataset = dev_dataset.remove_columns(['ID', 'Sub-task A', 'Sub-task B'])\n",
        "test_dataset = test_dataset.remove_columns('ID')"
      ],
      "id": "415583c1",
      "execution_count": null,
      "outputs": []
    },
    {
      "cell_type": "code",
      "metadata": {
        "id": "5ead92c9"
      },
      "source": [
        "# define a BERT tokenizer\n",
        "# use the bert-based-uncased tokenizer\n",
        "tokenizer = AutoTokenizer.from_pretrained('bert-base-uncased')"
      ],
      "id": "5ead92c9",
      "execution_count": null,
      "outputs": []
    },
    {
      "cell_type": "code",
      "metadata": {
        "colab": {
          "base_uri": "https://localhost:8080/",
          "height": 136,
          "referenced_widgets": [
            "8d177486bf764926b1d51c0e2e00e0ab",
            "9c650265e58c4ae1ae6f4a43d65403cf",
            "a2c38777c27e40a8889577e7c619d193",
            "3d38d547778641cca83325914f649773",
            "cebb7ffed1dd41f3a4c478a997b97b50",
            "30b48eddf38a4be988c07f74054a7f5b",
            "29684baa67b94750b1351d2253a6e15f",
            "7112fbc780804418b4327de4361f0932",
            "7068c6eac7e64ee5833ed3e61ced35a6",
            "766931d0f62742c9a96eb5b4f046dde1",
            "9e9338a2679d4d22aea36ca2e95ac07b",
            "fc607cad4a8b4939a5010e185b29bf3e",
            "beb00b7f000c4317b3b0dfeb590f90c1",
            "6c892d6d5f9c40fc91d1fe79db6cfcd6",
            "6923fa747f9e449b8829e522bc2d973f",
            "3a7e54e593834a338ed65a133e545648",
            "22c04e1f3e3e4b99ba5cb573bf2dabe0",
            "13a3bff4f6204538a59bec0ee02eaa4f",
            "a0a499cfdac44a449da5f249d311c707",
            "8204426196d548f5ad4a77b6785302d1",
            "2bdf207116fb4b0399d842b333978c12",
            "fda5129e76ad49739377f5362509a9d1"
          ]
        },
        "id": "cd498279",
        "outputId": "b00c1284-b091-4202-812d-57cc7f5fa666"
      },
      "source": [
        "# tokenize the train, development and test data\n",
        "# Use a max sequence of 150 tokens. Based on EDA this is enough for majority of posts\n",
        "\n",
        "train_dataset_tok_a = train_dataset_a.map(lambda x: tokenizer(x['text'], truncation=True, padding=True, max_length=150), batched=True)\n",
        "train_dataset_tok_b = train_dataset_b.map(lambda x: tokenizer(x['text'], truncation=True, padding=True, max_length=150), batched=True)\n",
        "dev_dataset_tok = dev_dataset.map(lambda x: tokenizer(x['Text'], truncation=True, padding=True, max_length=150), batched=True)\n",
        "test_dataset_tok = test_dataset.map(lambda x: tokenizer(x['Text'], truncation=True, padding=True, max_length=150), batched=True)"
      ],
      "id": "cd498279",
      "execution_count": null,
      "outputs": [
        {
          "output_type": "display_data",
          "data": {
            "application/vnd.jupyter.widget-view+json": {
              "model_id": "8d177486bf764926b1d51c0e2e00e0ab",
              "version_minor": 0,
              "version_major": 2
            },
            "text/plain": [
              "  0%|          | 0/23 [00:00<?, ?ba/s]"
            ]
          },
          "metadata": {}
        },
        {
          "output_type": "display_data",
          "data": {
            "application/vnd.jupyter.widget-view+json": {
              "model_id": "fc607cad4a8b4939a5010e185b29bf3e",
              "version_minor": 0,
              "version_major": 2
            },
            "text/plain": [
              "  0%|          | 0/17 [00:00<?, ?ba/s]"
            ]
          },
          "metadata": {}
        },
        {
          "output_type": "stream",
          "name": "stderr",
          "text": [
            "Loading cached processed dataset at /root/.cache/huggingface/datasets/csv/default-a715931553fedb2f/0.0.0/bf68a4c4aefa545d0712b2fcbb1b327f905bbe2f6425fbc5e8c25234acb9e14a/cache-6bb52d2d6f83b081.arrow\n",
            "Loading cached processed dataset at /root/.cache/huggingface/datasets/csv/default-9b0933343c54cefd/0.0.0/bf68a4c4aefa545d0712b2fcbb1b327f905bbe2f6425fbc5e8c25234acb9e14a/cache-afb1c0590745522e.arrow\n"
          ]
        }
      ]
    },
    {
      "cell_type": "code",
      "metadata": {
        "id": "0526c186"
      },
      "source": [
        "# now we can remove the column with the original post from the dataset. We are going to use the result of tokenization for modeling\n",
        "train_dataset_tok_a = train_dataset_tok_a.remove_columns(['text']).with_format('tensorflow')\n",
        "train_dataset_tok_b = train_dataset_tok_b.remove_columns(['text']).with_format('tensorflow')\n",
        "dev_dataset_tok = dev_dataset_tok.remove_columns(['Text']).with_format('tensorflow')\n",
        "test_dataset_tok = test_dataset_tok.remove_columns(['Text']).with_format('tensorflow')"
      ],
      "id": "0526c186",
      "execution_count": null,
      "outputs": []
    },
    {
      "cell_type": "code",
      "metadata": {
        "id": "778a3871"
      },
      "source": [
        "# extract features from tokenizer output: 'input_ids', 'token_type_ids', 'attention_mask'\n",
        "train_features_a = {x: train_dataset_tok_a[x] for x in tokenizer.model_input_names}\n",
        "train_features_b = {x: train_dataset_tok_b[x] for x in tokenizer.model_input_names}\n",
        "dev_features = {x: dev_dataset_tok[x] for x in tokenizer.model_input_names}\n",
        "test_features = {x: test_dataset_tok[x] for x in tokenizer.model_input_names}"
      ],
      "id": "778a3871",
      "execution_count": null,
      "outputs": []
    },
    {
      "cell_type": "code",
      "metadata": {
        "id": "2c9445e5"
      },
      "source": [
        "# batch data\n",
        "\n",
        "batch_size = 16\n",
        "buffer_a = len(train_dataset_tok_a)\n",
        "buffer_b = len(train_dataset_tok_b)\n",
        "\n",
        "# Task A\n",
        "train_tf_dataset_a = tf.data.Dataset.from_tensor_slices((train_features_a, train_labels_a_enc)).shuffle(buffer_a).batch(batch_size)\n",
        "dev_tf_dataset_a = tf.data.Dataset.from_tensor_slices((dev_features, dev_labels_a_enc)).batch(batch_size)\n",
        "test_tf_dataset_a = tf.data.Dataset.from_tensor_slices((test_features, test_labels_a_enc)).batch(batch_size)\n",
        "\n",
        "# Task B\n",
        "train_tf_dataset_b = tf.data.Dataset.from_tensor_slices((train_features_b, train_labels_b_enc)).shuffle(buffer_b).batch(batch_size)\n",
        "dev_tf_dataset_b = tf.data.Dataset.from_tensor_slices((dev_features, dev_labels_b_enc)).batch(batch_size)\n",
        "test_tf_dataset_b = tf.data.Dataset.from_tensor_slices((test_features, test_labels_b_enc)).batch(batch_size)"
      ],
      "id": "2c9445e5",
      "execution_count": null,
      "outputs": []
    },
    {
      "cell_type": "markdown",
      "metadata": {
        "id": "b59c68de"
      },
      "source": [
        "## Model Task A"
      ],
      "id": "b59c68de"
    },
    {
      "cell_type": "code",
      "metadata": {
        "colab": {
          "base_uri": "https://localhost:8080/",
          "height": 1000,
          "referenced_widgets": [
            "d786bc5b02b440d1afa74cc045fe5df1",
            "fa204623806f41b098b78709cec4c473",
            "84ace43c5d104914b195eb1fdbbb8932",
            "f18d0605092f4001b6ae5fe62d84fc80",
            "fa1066dc211e43c1b1c4f07c16837bbb",
            "c1d1349ab8624cad8135e84fd5560079",
            "dcbcb1a974d64abfb26fcdfe89f056d8",
            "6f4125d263714db2998f0719b49ab0b7",
            "064680e1c06d48f3bd9fd74e828ac1bd",
            "26a60d7fd8514a45aa97b68c69b58ed0",
            "2490be350342484b9ece8deb028c3351"
          ]
        },
        "id": "nc1v9RnfLBNg",
        "outputId": "2d6c2d07-ad74-4246-f0ad-83949a952ede"
      },
      "source": [
        "# initialize lists to keep statistics of all runs\n",
        "f1_NAG = []\n",
        "f1_CAG = []\n",
        "f1_OAG = []\n",
        "f1_macro = []\n",
        "f1_weighted = []\n",
        "accuracy = []\n",
        "\n",
        "# run 15 times the model to get an idea of variability\n",
        "for i in range(5):\n",
        "\n",
        "  # delete model if exists\n",
        "  try:\n",
        "    del BERT_model_A\n",
        "  except:\n",
        "    pass\n",
        "  \n",
        "  # define the model. Task A is a classification task with 3 labels\n",
        "  BERT_model_A = TFAutoModelForSequenceClassification.from_pretrained(\"bert-base-uncased\", num_labels=3)\n",
        "\n",
        "  # compile model\n",
        "  BERT_model_A.compile(optimizer=tf.keras.optimizers.Adam(learning_rate=5e-5),\n",
        "                       loss=tf.keras.losses.CategoricalCrossentropy(from_logits=True),\n",
        "                       metrics=tf.metrics.CategoricalAccuracy()\n",
        "                       )\n",
        "  # fit model\n",
        "  training_history = BERT_model_A.fit(train_tf_dataset_a, validation_data=dev_tf_dataset_a, epochs=2)\n",
        "\n",
        "  print(f'---------------------------Iteration {i} ---------------------------\\n')\n",
        "  # Evaluate model on TEST data\n",
        "  # predict using model. Returns logits\n",
        "  pred_labels_test = BERT_model_A.predict(test_features)[0]\n",
        "  # convert logits lo labels\n",
        "  pred_labels_test = from_logits_to_labels(pred_labels_test, 'A')\n",
        "\n",
        "  # get f1-score for all classes, macro and weighted\n",
        "  x = metrics.classification_report(test_labels_a, pred_labels_test, digits=3, output_dict=True)\n",
        "  # append values to keep scores\n",
        "  f1_NAG.append(x['NAG']['f1-score'])\n",
        "  f1_CAG.append(x['CAG']['f1-score'])\n",
        "  f1_OAG.append(x['OAG']['f1-score'])\n",
        "  f1_macro.append(x['macro avg']['f1-score'])\n",
        "  f1_weighted.append(x['weighted avg']['f1-score'])\n",
        "  accuracy.append(x['accuracy'])\n",
        "\n",
        "# calculate mean\n",
        "f1_NAG_mean = round(statistics.mean(f1_NAG), 3)\n",
        "f1_CAG_mean = round(statistics.mean(f1_CAG), 3)\n",
        "f1_OAG_mean = round(statistics.mean(f1_OAG), 3)\n",
        "f1_macro_mean = round(statistics.mean(f1_macro), 3)\n",
        "f1_weighted_mean = round(statistics.mean(f1_weighted), 3)\n",
        "accuracy_mean = round(statistics.mean(accuracy), 3)\n",
        "\n",
        "# calculate standard deviation\n",
        "f1_NAG_std = round(statistics.stdev(f1_NAG), 3)\n",
        "f1_CAG_std = round(statistics.stdev(f1_CAG), 3)\n",
        "f1_OAG_std = round(statistics.stdev(f1_OAG), 3)\n",
        "f1_macro_std = round(statistics.stdev(f1_macro), 3)\n",
        "f1_weighted_std = round(statistics.stdev(f1_weighted), 3)\n",
        "accuracy_std = round(statistics.stdev(accuracy), 3)\n",
        "\n",
        "print('Class NAG')\n",
        "print(f'Mean f1-score = {f1_NAG_mean}')\n",
        "print(f'Standard deviation f1-score = {f1_NAG_std}\\n')\n",
        "\n",
        "print('Class CAG')\n",
        "print(f'Mean f1-score = {f1_CAG_mean}')\n",
        "print(f'Standard deviation f1-score = {f1_CAG_std}\\n')\n",
        "\n",
        "print('Class OAG')\n",
        "print(f'Mean f1-score = {f1_OAG_mean}')\n",
        "print(f'Standard deviation f1-score = {f1_OAG_std}\\n')\n",
        "\n",
        "print('Class Macro')\n",
        "print(f'Mean f1-score = {f1_macro_mean}')\n",
        "print(f'Standard deviation f1-score = {f1_macro_std}\\n')\n",
        "\n",
        "print('Class Weighted')\n",
        "print(f'Mean f1-score = {f1_weighted_mean}')\n",
        "print(f'Standard deviation f1-score = {f1_weighted_std}\\n')\n",
        "\n",
        "print('Accuracy')\n",
        "print(f'Mean = {accuracy_mean}')\n",
        "print(f'Standard deviation = {accuracy_std}\\n')"
      ],
      "id": "nc1v9RnfLBNg",
      "execution_count": 40,
      "outputs": [
        {
          "data": {
            "application/vnd.jupyter.widget-view+json": {
              "model_id": "d786bc5b02b440d1afa74cc045fe5df1",
              "version_major": 2,
              "version_minor": 0
            },
            "text/plain": [
              "Downloading:   0%|          | 0.00/511M [00:00<?, ?B/s]"
            ]
          },
          "metadata": {},
          "output_type": "display_data"
        },
        {
          "metadata": {
            "tags": null
          },
          "name": "stderr",
          "output_type": "stream",
          "text": [
            "All model checkpoint layers were used when initializing TFBertForSequenceClassification.\n",
            "\n",
            "Some layers of TFBertForSequenceClassification were not initialized from the model checkpoint at bert-base-uncased and are newly initialized: ['classifier']\n",
            "You should probably TRAIN this model on a down-stream task to be able to use it for predictions and inference.\n"
          ]
        },
        {
          "metadata": {
            "tags": null
          },
          "name": "stdout",
          "output_type": "stream",
          "text": [
            "Epoch 1/2\n",
            "1381/1381 [==============================] - 277s 188ms/step - loss: 0.2402 - categorical_accuracy: 0.9087 - val_loss: 0.7459 - val_categorical_accuracy: 0.7936\n",
            "Epoch 2/2\n",
            "1381/1381 [==============================] - 256s 185ms/step - loss: 0.0433 - categorical_accuracy: 0.9869 - val_loss: 0.8013 - val_categorical_accuracy: 0.7852\n",
            "---------------------------Iteration 0 ---------------------------\n",
            "\n"
          ]
        },
        {
          "metadata": {
            "tags": null
          },
          "name": "stderr",
          "output_type": "stream",
          "text": [
            "All model checkpoint layers were used when initializing TFBertForSequenceClassification.\n",
            "\n",
            "Some layers of TFBertForSequenceClassification were not initialized from the model checkpoint at bert-base-uncased and are newly initialized: ['classifier']\n",
            "You should probably TRAIN this model on a down-stream task to be able to use it for predictions and inference.\n"
          ]
        },
        {
          "metadata": {
            "tags": null
          },
          "name": "stdout",
          "output_type": "stream",
          "text": [
            "Epoch 1/2\n",
            "1381/1381 [==============================] - 273s 187ms/step - loss: 0.2336 - categorical_accuracy: 0.9126 - val_loss: 0.9962 - val_categorical_accuracy: 0.7983\n",
            "Epoch 2/2\n",
            "1381/1381 [==============================] - 256s 186ms/step - loss: 0.0465 - categorical_accuracy: 0.9854 - val_loss: 1.1064 - val_categorical_accuracy: 0.7927\n",
            "---------------------------Iteration 1 ---------------------------\n",
            "\n"
          ]
        },
        {
          "metadata": {
            "tags": null
          },
          "name": "stderr",
          "output_type": "stream",
          "text": [
            "All model checkpoint layers were used when initializing TFBertForSequenceClassification.\n",
            "\n",
            "Some layers of TFBertForSequenceClassification were not initialized from the model checkpoint at bert-base-uncased and are newly initialized: ['classifier']\n",
            "You should probably TRAIN this model on a down-stream task to be able to use it for predictions and inference.\n"
          ]
        },
        {
          "output_type": "stream",
          "name": "stdout",
          "text": [
            "Epoch 1/2\n",
            "1381/1381 [==============================] - 273s 187ms/step - loss: 0.2278 - categorical_accuracy: 0.9159 - val_loss: 0.8309 - val_categorical_accuracy: 0.7936\n",
            "Epoch 2/2\n",
            "1381/1381 [==============================] - 256s 185ms/step - loss: 0.0433 - categorical_accuracy: 0.9863 - val_loss: 1.1295 - val_categorical_accuracy: 0.7964\n",
            "---------------------------Iteration 2 ---------------------------\n",
            "\n"
          ]
        },
        {
          "output_type": "stream",
          "name": "stderr",
          "text": [
            "All model checkpoint layers were used when initializing TFBertForSequenceClassification.\n",
            "\n",
            "Some layers of TFBertForSequenceClassification were not initialized from the model checkpoint at bert-base-uncased and are newly initialized: ['classifier']\n",
            "You should probably TRAIN this model on a down-stream task to be able to use it for predictions and inference.\n"
          ]
        },
        {
          "output_type": "stream",
          "name": "stdout",
          "text": [
            "Epoch 1/2\n",
            "1381/1381 [==============================] - 274s 188ms/step - loss: 0.2316 - categorical_accuracy: 0.9137 - val_loss: 0.6930 - val_categorical_accuracy: 0.8086\n",
            "Epoch 2/2\n",
            "1381/1381 [==============================] - 257s 186ms/step - loss: 0.0409 - categorical_accuracy: 0.9876 - val_loss: 0.8652 - val_categorical_accuracy: 0.7964\n",
            "---------------------------Iteration 3 ---------------------------\n",
            "\n"
          ]
        },
        {
          "output_type": "stream",
          "name": "stderr",
          "text": [
            "All model checkpoint layers were used when initializing TFBertForSequenceClassification.\n",
            "\n",
            "Some layers of TFBertForSequenceClassification were not initialized from the model checkpoint at bert-base-uncased and are newly initialized: ['classifier']\n",
            "You should probably TRAIN this model on a down-stream task to be able to use it for predictions and inference.\n"
          ]
        },
        {
          "output_type": "stream",
          "name": "stdout",
          "text": [
            "Epoch 1/2\n",
            "1381/1381 [==============================] - 275s 188ms/step - loss: 0.2313 - categorical_accuracy: 0.9127 - val_loss: 0.8170 - val_categorical_accuracy: 0.7889\n",
            "Epoch 2/2\n",
            "1381/1381 [==============================] - 258s 187ms/step - loss: 0.0397 - categorical_accuracy: 0.9880 - val_loss: 1.0425 - val_categorical_accuracy: 0.7777\n",
            "---------------------------Iteration 4 ---------------------------\n",
            "\n",
            "Class NAG\n",
            "Mean f1-score = 0.828\n",
            "Standard deviation f1-score = 0.019\n",
            "\n",
            "Class CAG\n",
            "Mean f1-score = 0.357\n",
            "Standard deviation f1-score = 0.072\n",
            "\n",
            "Class OAG\n",
            "Mean f1-score = 0.634\n",
            "Standard deviation f1-score = 0.028\n",
            "\n",
            "Class Macro\n",
            "Mean f1-score = 0.607\n",
            "Standard deviation f1-score = 0.031\n",
            "\n",
            "Class Weighted\n",
            "Mean f1-score = 0.694\n",
            "Standard deviation f1-score = 0.024\n",
            "\n",
            "Accuracy\n",
            "Mean = 0.719\n",
            "Standard deviation = 0.017\n",
            "\n"
          ]
        }
      ]
    },
    {
      "cell_type": "markdown",
      "metadata": {
        "id": "9142a3df"
      },
      "source": [
        "## Model Task B"
      ],
      "id": "9142a3df"
    },
    {
      "cell_type": "code",
      "metadata": {
        "id": "qdvEEPmqN5E-",
        "colab": {
          "base_uri": "https://localhost:8080/"
        },
        "outputId": "49a41b5a-7e05-4c5c-f1ae-8be8e71bd72d"
      },
      "source": [
        "# initialize lists to keep statistics of all runs\n",
        "f1_NGEN = []\n",
        "f1_GEN = []\n",
        "f1_macro_b = []\n",
        "f1_weighted_b = []\n",
        "accuracy_b = []\n",
        "\n",
        "for i in range(5):\n",
        "\n",
        "  # delete model if exists\n",
        "  try:\n",
        "    del BERT_model_B\n",
        "  except:\n",
        "    pass\n",
        "  \n",
        "  # define the model. Task B is a classification task with 2 labels\n",
        "  BERT_model_B = TFAutoModelForSequenceClassification.from_pretrained(\"bert-base-uncased\", num_labels=2)\n",
        "\n",
        "  # compile model\n",
        "  BERT_model_B.compile(optimizer=tf.keras.optimizers.Adam(learning_rate=5e-5),\n",
        "                       loss=tf.keras.losses.CategoricalCrossentropy(from_logits=True),\n",
        "                       metrics=tf.metrics.CategoricalAccuracy()\n",
        "                       )\n",
        "  \n",
        "  # fit model\n",
        "  training_history = BERT_model_B.fit(train_tf_dataset_b, validation_data=dev_tf_dataset_b, epochs=3)\n",
        "\n",
        "  print(f'---------------------------Iteration {i} ---------------------------\\n')\n",
        "  # Evaluate model on TEST data\n",
        "  # predict using model. Returns logits\n",
        "  pred_labels_test = BERT_model_B.predict(test_features)[0]\n",
        "\n",
        "  # convert logits lo labels\n",
        "  pred_labels_test = from_logits_to_labels(pred_labels_test, 'B')\n",
        "\n",
        "  # get f1-score for all classes, macro and weighted\n",
        "  x = metrics.classification_report(test_labels_b, pred_labels_test, digits=3, output_dict=True)\n",
        "  # append values to keep scores\n",
        "  f1_NGEN.append(x['NGEN']['f1-score'])\n",
        "  f1_GEN.append(x['GEN']['f1-score'])\n",
        "  f1_macro_b.append(x['macro avg']['f1-score'])\n",
        "  f1_weighted_b.append(x['weighted avg']['f1-score'])\n",
        "  accuracy_b.append(x['accuracy'])\n",
        "\n",
        "# calculate mean\n",
        "f1_NGEN_mean = round(statistics.mean(f1_NGEN), 3)\n",
        "f1_GEN_mean = round(statistics.mean(f1_GEN), 3)\n",
        "f1_macro_b_mean = round(statistics.mean(f1_macro_b), 3)\n",
        "f1_weighted_b_mean = round(statistics.mean(f1_weighted_b), 3)\n",
        "accuracy_b_mean = round(statistics.mean(accuracy_b), 3)\n",
        "\n",
        "# calculate standard deviation\n",
        "f1_NGEN_std = round(statistics.stdev(f1_NGEN), 3)\n",
        "f1_GEN_std = round(statistics.stdev(f1_GEN), 3)\n",
        "f1_macro_b_std = round(statistics.stdev(f1_macro_b), 3)\n",
        "f1_weighted_b_std = round(statistics.stdev(f1_weighted_b), 3)\n",
        "accuracy_b_std = round(statistics.stdev(accuracy_b), 3)\n",
        "\n",
        "print('Class NGEN')\n",
        "print(f'Mean f1-score = {f1_NGEN_mean}')\n",
        "print(f'Standard deviation f1-score = {f1_NGEN_std}\\n')\n",
        "\n",
        "print('Class GEN')\n",
        "print(f'Mean f1-score = {f1_GEN_mean}')\n",
        "print(f'Standard deviation f1-score = {f1_GEN_std}\\n')\n",
        "\n",
        "print('Macro')\n",
        "print(f'Mean f1-score = {f1_macro_b_mean}')\n",
        "print(f'Standard deviation f1-score = {f1_macro_b_std}\\n')\n",
        "\n",
        "print('Weighted')\n",
        "print(f'Mean f1-score = {f1_weighted_b_mean}')\n",
        "print(f'Standard deviation f1-score = {f1_weighted_b_std}\\n')\n",
        "\n",
        "print('Accuracy')\n",
        "print(f'Mean = {accuracy_b_mean}')\n",
        "print(f'Standard deviation = {accuracy_b_std}\\n')\n"
      ],
      "id": "qdvEEPmqN5E-",
      "execution_count": 41,
      "outputs": [
        {
          "output_type": "stream",
          "name": "stderr",
          "text": [
            "All model checkpoint layers were used when initializing TFBertForSequenceClassification.\n",
            "\n",
            "Some layers of TFBertForSequenceClassification were not initialized from the model checkpoint at bert-base-uncased and are newly initialized: ['classifier']\n",
            "You should probably TRAIN this model on a down-stream task to be able to use it for predictions and inference.\n"
          ]
        },
        {
          "output_type": "stream",
          "name": "stdout",
          "text": [
            "Epoch 1/3\n",
            "1008/1008 [==============================] - 207s 190ms/step - loss: 0.1035 - categorical_accuracy: 0.9599 - val_loss: 0.2898 - val_categorical_accuracy: 0.9128\n",
            "Epoch 2/3\n",
            "1008/1008 [==============================] - 189s 187ms/step - loss: 0.0213 - categorical_accuracy: 0.9937 - val_loss: 0.3530 - val_categorical_accuracy: 0.9475\n",
            "Epoch 3/3\n",
            "1008/1008 [==============================] - 189s 187ms/step - loss: 0.0117 - categorical_accuracy: 0.9972 - val_loss: 0.3479 - val_categorical_accuracy: 0.9334\n",
            "---------------------------Iteration 0 ---------------------------\n",
            "\n"
          ]
        },
        {
          "output_type": "stream",
          "name": "stderr",
          "text": [
            "All model checkpoint layers were used when initializing TFBertForSequenceClassification.\n",
            "\n",
            "Some layers of TFBertForSequenceClassification were not initialized from the model checkpoint at bert-base-uncased and are newly initialized: ['classifier']\n",
            "You should probably TRAIN this model on a down-stream task to be able to use it for predictions and inference.\n"
          ]
        },
        {
          "output_type": "stream",
          "name": "stdout",
          "text": [
            "Epoch 1/3\n",
            "1008/1008 [==============================] - 205s 190ms/step - loss: 0.1140 - categorical_accuracy: 0.9562 - val_loss: 0.3112 - val_categorical_accuracy: 0.9240\n",
            "Epoch 2/3\n",
            "1008/1008 [==============================] - 188s 187ms/step - loss: 0.0198 - categorical_accuracy: 0.9937 - val_loss: 0.4009 - val_categorical_accuracy: 0.9250\n",
            "Epoch 3/3\n",
            "1008/1008 [==============================] - 188s 187ms/step - loss: 0.0124 - categorical_accuracy: 0.9968 - val_loss: 0.3425 - val_categorical_accuracy: 0.9240\n",
            "---------------------------Iteration 1 ---------------------------\n",
            "\n"
          ]
        },
        {
          "output_type": "stream",
          "name": "stderr",
          "text": [
            "All model checkpoint layers were used when initializing TFBertForSequenceClassification.\n",
            "\n",
            "Some layers of TFBertForSequenceClassification were not initialized from the model checkpoint at bert-base-uncased and are newly initialized: ['classifier']\n",
            "You should probably TRAIN this model on a down-stream task to be able to use it for predictions and inference.\n"
          ]
        },
        {
          "output_type": "stream",
          "name": "stdout",
          "text": [
            "Epoch 1/3\n",
            "1008/1008 [==============================] - 206s 190ms/step - loss: 0.1038 - categorical_accuracy: 0.9613 - val_loss: 0.2245 - val_categorical_accuracy: 0.9465\n",
            "Epoch 2/3\n",
            "1008/1008 [==============================] - 189s 187ms/step - loss: 0.0227 - categorical_accuracy: 0.9936 - val_loss: 0.3331 - val_categorical_accuracy: 0.9099\n",
            "Epoch 3/3\n",
            "1008/1008 [==============================] - 189s 187ms/step - loss: 0.0181 - categorical_accuracy: 0.9957 - val_loss: 0.3040 - val_categorical_accuracy: 0.9447\n",
            "---------------------------Iteration 2 ---------------------------\n",
            "\n"
          ]
        },
        {
          "output_type": "stream",
          "name": "stderr",
          "text": [
            "All model checkpoint layers were used when initializing TFBertForSequenceClassification.\n",
            "\n",
            "Some layers of TFBertForSequenceClassification were not initialized from the model checkpoint at bert-base-uncased and are newly initialized: ['classifier']\n",
            "You should probably TRAIN this model on a down-stream task to be able to use it for predictions and inference.\n"
          ]
        },
        {
          "output_type": "stream",
          "name": "stdout",
          "text": [
            "Epoch 1/3\n",
            "1008/1008 [==============================] - 206s 191ms/step - loss: 0.0992 - categorical_accuracy: 0.9620 - val_loss: 0.3396 - val_categorical_accuracy: 0.9400\n",
            "Epoch 2/3\n",
            "1008/1008 [==============================] - 189s 187ms/step - loss: 0.0212 - categorical_accuracy: 0.9934 - val_loss: 0.3192 - val_categorical_accuracy: 0.9174\n",
            "Epoch 3/3\n",
            "1008/1008 [==============================] - 189s 187ms/step - loss: 0.0164 - categorical_accuracy: 0.9952 - val_loss: 0.2825 - val_categorical_accuracy: 0.9362\n",
            "---------------------------Iteration 3 ---------------------------\n",
            "\n"
          ]
        },
        {
          "output_type": "stream",
          "name": "stderr",
          "text": [
            "All model checkpoint layers were used when initializing TFBertForSequenceClassification.\n",
            "\n",
            "Some layers of TFBertForSequenceClassification were not initialized from the model checkpoint at bert-base-uncased and are newly initialized: ['classifier']\n",
            "You should probably TRAIN this model on a down-stream task to be able to use it for predictions and inference.\n"
          ]
        },
        {
          "output_type": "stream",
          "name": "stdout",
          "text": [
            "Epoch 1/3\n",
            "1008/1008 [==============================] - 205s 190ms/step - loss: 0.1095 - categorical_accuracy: 0.9581 - val_loss: 0.3009 - val_categorical_accuracy: 0.9400\n",
            "Epoch 2/3\n",
            "1008/1008 [==============================] - 189s 188ms/step - loss: 0.0216 - categorical_accuracy: 0.9945 - val_loss: 0.2803 - val_categorical_accuracy: 0.9437\n",
            "Epoch 3/3\n",
            "1008/1008 [==============================] - 189s 188ms/step - loss: 0.0180 - categorical_accuracy: 0.9947 - val_loss: 0.4166 - val_categorical_accuracy: 0.9250\n",
            "---------------------------Iteration 4 ---------------------------\n",
            "\n",
            "Class NGEN\n",
            "Mean f1-score = 0.904\n",
            "Standard deviation f1-score = 0.017\n",
            "\n",
            "Class GEN\n",
            "Mean f1-score = 0.525\n",
            "Standard deviation f1-score = 0.015\n",
            "\n",
            "Macro\n",
            "Mean f1-score = 0.715\n",
            "Standard deviation f1-score = 0.015\n",
            "\n",
            "Weighted\n",
            "Mean f1-score = 0.849\n",
            "Standard deviation f1-score = 0.016\n",
            "\n",
            "Accuracy\n",
            "Mean = 0.841\n",
            "Standard deviation = 0.024\n",
            "\n"
          ]
        }
      ]
    },
    {
      "cell_type": "markdown",
      "metadata": {
        "id": "efcfaf92"
      },
      "source": [
        "## References\n",
        "\n",
        "- Pre-processing data: https://huggingface.co/transformers/preprocessing.html\n",
        "\n",
        "- Fine-tunning a pre-trained model: https://huggingface.co/transformers/training.html\n",
        "\n",
        "- BERT: https://huggingface.co/transformers/model_doc/bert.html\n"
      ],
      "id": "efcfaf92"
    }
  ]
}