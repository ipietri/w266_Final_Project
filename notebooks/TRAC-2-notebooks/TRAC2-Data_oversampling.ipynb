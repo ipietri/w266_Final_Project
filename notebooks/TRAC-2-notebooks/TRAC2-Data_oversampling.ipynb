{
 "cells": [
  {
   "cell_type": "markdown",
   "id": "7393349d",
   "metadata": {},
   "source": [
    "# Final Project"
   ]
  },
  {
   "cell_type": "markdown",
   "id": "e6bcfe85",
   "metadata": {},
   "source": [
    "## TRAC 2 - Oversampling training data"
   ]
  },
  {
   "cell_type": "markdown",
   "id": "02cf94d0",
   "metadata": {},
   "source": [
    "In this notebook we generate a dataset oversampling the minority classes in the training data to help with the classes imbalance."
   ]
  },
  {
   "cell_type": "markdown",
   "id": "8ebf1ecf",
   "metadata": {},
   "source": [
    "## Package imports"
   ]
  },
  {
   "cell_type": "code",
   "execution_count": 1,
   "id": "eb5bc76d",
   "metadata": {},
   "outputs": [],
   "source": [
    "import pandas as pd\n",
    "import numpy as np"
   ]
  },
  {
   "cell_type": "markdown",
   "id": "965c2856",
   "metadata": {},
   "source": [
    "## Load training data"
   ]
  },
  {
   "cell_type": "code",
   "execution_count": 2,
   "id": "06daec65",
   "metadata": {},
   "outputs": [],
   "source": [
    "# Load aggressiveness training dataset\n",
    "train_data = pd.read_csv('../../../data/release-files/eng/trac2_eng_train.csv')"
   ]
  },
  {
   "cell_type": "markdown",
   "id": "0e9637b7",
   "metadata": {},
   "source": [
    "## Oversampling"
   ]
  },
  {
   "cell_type": "code",
   "execution_count": 3,
   "id": "272bd4c6",
   "metadata": {},
   "outputs": [
    {
     "data": {
      "text/html": [
       "<div>\n",
       "<style scoped>\n",
       "    .dataframe tbody tr th:only-of-type {\n",
       "        vertical-align: middle;\n",
       "    }\n",
       "\n",
       "    .dataframe tbody tr th {\n",
       "        vertical-align: top;\n",
       "    }\n",
       "\n",
       "    .dataframe thead th {\n",
       "        text-align: right;\n",
       "    }\n",
       "</style>\n",
       "<table border=\"1\" class=\"dataframe\">\n",
       "  <thead>\n",
       "    <tr style=\"text-align: right;\">\n",
       "      <th></th>\n",
       "      <th>ID</th>\n",
       "      <th>Text</th>\n",
       "      <th>Sub-task A</th>\n",
       "      <th>Sub-task B</th>\n",
       "    </tr>\n",
       "  </thead>\n",
       "  <tbody>\n",
       "    <tr>\n",
       "      <th>0</th>\n",
       "      <td>C45.451</td>\n",
       "      <td>Next part</td>\n",
       "      <td>NAG</td>\n",
       "      <td>NGEN</td>\n",
       "    </tr>\n",
       "    <tr>\n",
       "      <th>1</th>\n",
       "      <td>C47.11</td>\n",
       "      <td>Iii8mllllllm\\nMdxfvb8o90lplppi0005</td>\n",
       "      <td>NAG</td>\n",
       "      <td>NGEN</td>\n",
       "    </tr>\n",
       "    <tr>\n",
       "      <th>2</th>\n",
       "      <td>C33.79</td>\n",
       "      <td>🤣🤣😂😂🤣🤣🤣😂osm vedio ....keep it up...make more v...</td>\n",
       "      <td>NAG</td>\n",
       "      <td>NGEN</td>\n",
       "    </tr>\n",
       "    <tr>\n",
       "      <th>3</th>\n",
       "      <td>C4.1961</td>\n",
       "      <td>What the fuck was this? I respect shwetabh and...</td>\n",
       "      <td>NAG</td>\n",
       "      <td>NGEN</td>\n",
       "    </tr>\n",
       "    <tr>\n",
       "      <th>4</th>\n",
       "      <td>C10.153</td>\n",
       "      <td>Concerned authorities should bring arundathi R...</td>\n",
       "      <td>NAG</td>\n",
       "      <td>NGEN</td>\n",
       "    </tr>\n",
       "  </tbody>\n",
       "</table>\n",
       "</div>"
      ],
      "text/plain": [
       "        ID                                               Text Sub-task A  \\\n",
       "0  C45.451                                          Next part        NAG   \n",
       "1   C47.11                 Iii8mllllllm\\nMdxfvb8o90lplppi0005        NAG   \n",
       "2   C33.79  🤣🤣😂😂🤣🤣🤣😂osm vedio ....keep it up...make more v...        NAG   \n",
       "3  C4.1961  What the fuck was this? I respect shwetabh and...        NAG   \n",
       "4  C10.153  Concerned authorities should bring arundathi R...        NAG   \n",
       "\n",
       "  Sub-task B  \n",
       "0       NGEN  \n",
       "1       NGEN  \n",
       "2       NGEN  \n",
       "3       NGEN  \n",
       "4       NGEN  "
      ]
     },
     "execution_count": 3,
     "metadata": {},
     "output_type": "execute_result"
    }
   ],
   "source": [
    "train_data.head()"
   ]
  },
  {
   "cell_type": "code",
   "execution_count": 4,
   "id": "8df7f29e",
   "metadata": {},
   "outputs": [
    {
     "data": {
      "text/plain": [
       "NAG    0.791696\n",
       "CAG    0.106263\n",
       "OAG    0.102041\n",
       "Name: Sub-task A, dtype: float64"
      ]
     },
     "execution_count": 4,
     "metadata": {},
     "output_type": "execute_result"
    }
   ],
   "source": [
    "train_data['Sub-task A'].value_counts(normalize=True)"
   ]
  },
  {
   "cell_type": "code",
   "execution_count": 5,
   "id": "6bfb18be",
   "metadata": {},
   "outputs": [
    {
     "data": {
      "text/plain": [
       "NGEN    0.927516\n",
       "GEN     0.072484\n",
       "Name: Sub-task B, dtype: float64"
      ]
     },
     "execution_count": 5,
     "metadata": {},
     "output_type": "execute_result"
    }
   ],
   "source": [
    "train_data['Sub-task B'].value_counts(normalize=True)"
   ]
  },
  {
   "cell_type": "markdown",
   "id": "e20798c7",
   "metadata": {},
   "source": [
    "### Oversampling for Task-A"
   ]
  },
  {
   "cell_type": "code",
   "execution_count": 6,
   "id": "95c53956",
   "metadata": {},
   "outputs": [
    {
     "data": {
      "text/plain": [
       "NAG    3375\n",
       "CAG     453\n",
       "OAG     435\n",
       "Name: Sub-task A, dtype: int64"
      ]
     },
     "execution_count": 6,
     "metadata": {},
     "output_type": "execute_result"
    }
   ],
   "source": [
    "train_data['Sub-task A'].value_counts()"
   ]
  },
  {
   "cell_type": "code",
   "execution_count": 7,
   "id": "c3427bc6",
   "metadata": {},
   "outputs": [],
   "source": [
    "# create a dataframe for each class\n",
    "train_0 = train_data[train_data['Sub-task A'] == 'NAG']\n",
    "train_1 = train_data[train_data['Sub-task A'] == 'CAG']\n",
    "train_2 = train_data[train_data['Sub-task A'] == 'OAG']"
   ]
  },
  {
   "cell_type": "code",
   "execution_count": 8,
   "id": "32dfe6bd",
   "metadata": {},
   "outputs": [],
   "source": [
    "# sample minority classes with replacement\n",
    "df0 = train_0\n",
    "df1 = train_1.sample(3375, replace=True, random_state=12345)\n",
    "df2 = train_2.sample(3375, replace=True, random_state=12345)"
   ]
  },
  {
   "cell_type": "code",
   "execution_count": 9,
   "id": "85ea4683",
   "metadata": {},
   "outputs": [],
   "source": [
    "# concatenate dataframes\n",
    "train_data_oversampled_taskA = pd.concat([df0,df1,df2], axis=0)"
   ]
  },
  {
   "cell_type": "code",
   "execution_count": 10,
   "id": "86574bbe",
   "metadata": {},
   "outputs": [
    {
     "data": {
      "text/plain": [
       "(10125, 4)"
      ]
     },
     "execution_count": 10,
     "metadata": {},
     "output_type": "execute_result"
    }
   ],
   "source": [
    "train_data_oversampled_taskA.shape"
   ]
  },
  {
   "cell_type": "code",
   "execution_count": 11,
   "id": "c2bace91",
   "metadata": {},
   "outputs": [
    {
     "data": {
      "text/plain": [
       "NAG    0.333333\n",
       "CAG    0.333333\n",
       "OAG    0.333333\n",
       "Name: Sub-task A, dtype: float64"
      ]
     },
     "execution_count": 11,
     "metadata": {},
     "output_type": "execute_result"
    }
   ],
   "source": [
    "train_data_oversampled_taskA['Sub-task A'].value_counts(normalize=True)"
   ]
  },
  {
   "cell_type": "code",
   "execution_count": 12,
   "id": "5162d1b3",
   "metadata": {},
   "outputs": [],
   "source": [
    "train_data_oversampled_taskA.to_csv('../../../data/release-files/eng/trac2_eng_train_oversampled_task_A.csv', index=False)"
   ]
  },
  {
   "cell_type": "markdown",
   "id": "545d5fa3",
   "metadata": {},
   "source": [
    "### Oversampling for Task-B"
   ]
  },
  {
   "cell_type": "code",
   "execution_count": 13,
   "id": "5568d9d8",
   "metadata": {},
   "outputs": [
    {
     "data": {
      "text/plain": [
       "NGEN    3954\n",
       "GEN      309\n",
       "Name: Sub-task B, dtype: int64"
      ]
     },
     "execution_count": 13,
     "metadata": {},
     "output_type": "execute_result"
    }
   ],
   "source": [
    "train_data['Sub-task B'].value_counts()"
   ]
  },
  {
   "cell_type": "code",
   "execution_count": 14,
   "id": "0eaace84",
   "metadata": {},
   "outputs": [],
   "source": [
    "# create a dataframe for each class\n",
    "train_0 = train_data[train_data['Sub-task B'] == 'NGEN']\n",
    "train_1 = train_data[train_data['Sub-task B'] == 'GEN']"
   ]
  },
  {
   "cell_type": "code",
   "execution_count": 15,
   "id": "cd11c64a",
   "metadata": {},
   "outputs": [],
   "source": [
    "# sample minority classes with replacement\n",
    "df0 = train_0\n",
    "df1 = train_1.sample(3954, replace=True, random_state=12345)"
   ]
  },
  {
   "cell_type": "code",
   "execution_count": 16,
   "id": "c7554243",
   "metadata": {},
   "outputs": [],
   "source": [
    "# concatenate dataframes\n",
    "train_data_oversampled_taskB = pd.concat([df0,df1], axis=0)"
   ]
  },
  {
   "cell_type": "code",
   "execution_count": 17,
   "id": "35f77856",
   "metadata": {},
   "outputs": [
    {
     "data": {
      "text/plain": [
       "(7908, 4)"
      ]
     },
     "execution_count": 17,
     "metadata": {},
     "output_type": "execute_result"
    }
   ],
   "source": [
    "train_data_oversampled_taskB.shape"
   ]
  },
  {
   "cell_type": "code",
   "execution_count": 18,
   "id": "478dee0a",
   "metadata": {},
   "outputs": [
    {
     "data": {
      "text/plain": [
       "NGEN    0.5\n",
       "GEN     0.5\n",
       "Name: Sub-task B, dtype: float64"
      ]
     },
     "execution_count": 18,
     "metadata": {},
     "output_type": "execute_result"
    }
   ],
   "source": [
    "train_data_oversampled_taskB['Sub-task B'].value_counts(normalize=True)"
   ]
  },
  {
   "cell_type": "code",
   "execution_count": 19,
   "id": "be074b9c",
   "metadata": {},
   "outputs": [],
   "source": [
    "train_data_oversampled_taskB.to_csv('../../../data/release-files/eng/trac2_eng_train_oversampled_task_B.csv', index=False)"
   ]
  }
 ],
 "metadata": {
  "kernelspec": {
   "display_name": "Python 3 (ipykernel)",
   "language": "python",
   "name": "python3"
  },
  "language_info": {
   "codemirror_mode": {
    "name": "ipython",
    "version": 3
   },
   "file_extension": ".py",
   "mimetype": "text/x-python",
   "name": "python",
   "nbconvert_exporter": "python",
   "pygments_lexer": "ipython3",
   "version": "3.9.7"
  }
 },
 "nbformat": 4,
 "nbformat_minor": 5
}
