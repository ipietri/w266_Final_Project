{
 "cells": [
  {
   "cell_type": "markdown",
   "id": "e39fbde0",
   "metadata": {},
   "source": [
    "## RtGender- Baseline Models\n",
    "\n",
    "In this notebook we build the baseline models for the RtGender dataset. \n",
    "\n",
    "Characteristics of the models:\n",
    "- Neural Bag of Words architecture\n",
    "- A single dense layer with dropout\n",
    "- Use Glove embeddings (dim=300) without fine tuning them\n",
    "- Maximum sequence length is 100\n",
    "\n",
    "\n"
   ]
  },
  {
   "cell_type": "markdown",
   "id": "10cd528a",
   "metadata": {},
   "source": [
    "## Package imports"
   ]
  },
  {
   "cell_type": "code",
   "execution_count": 248,
   "id": "bfb853e9",
   "metadata": {},
   "outputs": [],
   "source": [
    "import pandas as pd\n",
    "import numpy as np\n",
    "\n",
    "import matplotlib.pyplot as plt\n",
    "# This tells matplotlib not to try opening a new window for each plot.\n",
    "%matplotlib inline\n",
    "import seaborn as sns\n",
    "\n",
    "from collections import Counter\n",
    "\n",
    "import tensorflow as tf\n",
    "from keras.preprocessing.text import Tokenizer\n",
    "from tensorflow.keras.layers import Embedding, Input, Dense, Lambda, Dropout\n",
    "from keras.models import Sequential\n",
    "from tensorflow.keras.layers import TextVectorization\n",
    "import tensorflow.keras.backend as K\n",
    "# for hyperparameter tunning\n",
    "import keras_tuner as kt\n",
    "from keras_tuner import HyperModel\n",
    "import keras_tuner as kt\n",
    "from tensorflow.keras.utils import to_categorical\n",
    "from keras.preprocessing.sequence import pad_sequences\n",
    "\n",
    "\n",
    "# import sklearn to calculate the metrics\n",
    "from sklearn import metrics\n",
    "from sklearn.preprocessing import label_binarize\n",
    "from sklearn.model_selection import train_test_split\n",
    "from sklearn.metrics import classification_report\n",
    "\n",
    "# first time download library\n",
    "#!python -m spacy download en_core_web_sm\n",
    "import spacy\n",
    "# load english small model\n",
    "en = spacy.load('en_core_web_sm')\n",
    "stop_words_spacy = en.Defaults.stop_words"
   ]
  },
  {
   "cell_type": "code",
   "execution_count": 82,
   "id": "7762ba27",
   "metadata": {},
   "outputs": [
    {
     "name": "stdout",
     "output_type": "stream",
     "text": [
      "2.6.0\n"
     ]
    }
   ],
   "source": [
    "print(tf.__version__)"
   ]
  },
  {
   "cell_type": "code",
   "execution_count": 83,
   "id": "b8da6ff7",
   "metadata": {},
   "outputs": [
    {
     "data": {
      "text/plain": [
       "'/home/jupyter/w266_Final_Project/notebooks'"
      ]
     },
     "execution_count": 83,
     "metadata": {},
     "output_type": "execute_result"
    }
   ],
   "source": [
    "import os\n",
    "os.getcwd()"
   ]
  },
  {
   "cell_type": "markdown",
   "id": "e7545875",
   "metadata": {},
   "source": [
    "# Load\n",
    "Load training, development and test datasets. See RtGender Split and Save notebook to see approach. "
   ]
  },
  {
   "cell_type": "code",
   "execution_count": 4,
   "id": "51e7fb3e",
   "metadata": {},
   "outputs": [],
   "source": [
    "# Load post data\n",
    "posts_train = pd.read_parquet('RtGender/datasets/posts_train.parquet')\n",
    "#posts_test = pd.read_parquet('RtGender/datasets/posts_tests.parquet')\n",
    "posts_dev= pd.read_parquet('RtGender/datasets/posts_dev.parquet')\n",
    "\n",
    "# response data \n",
    "responses_train = pd.read_parquet('RtGender/datasets/responses_train.parquet')\n",
    "#responses_test = pd.read_parquet('RtGender/datasets/responses_test.parquet')\n",
    "responses_dev = pd.read_parquet('RtGender/datasets/responses_dev.parquet')\n",
    "\n",
    "# annotations data\n",
    "annotations = pd.read_parquet('RtGender/datasets/annotations.parquet')"
   ]
  },
  {
   "cell_type": "markdown",
   "id": "40c4ca26",
   "metadata": {},
   "source": [
    "## Load GloVe "
   ]
  },
  {
   "cell_type": "code",
   "execution_count": null,
   "id": "8e43db36",
   "metadata": {},
   "outputs": [],
   "source": [
    "# load pre-trained word embeddings. In this case Glove\n",
    "# This is commented out to avoid downloading it again\n",
    "#!wget http://nlp.stanford.edu/data/glove.6B.zip -P ~/data/\n",
    "\n",
    "# unzip the file\n",
    "# commented out for the same reason above\n",
    "#!unzip ~/data/glove.6B.zip -d ~/data/"
   ]
  },
  {
   "cell_type": "code",
   "execution_count": 13,
   "id": "8167680e",
   "metadata": {},
   "outputs": [
    {
     "name": "stdout",
     "output_type": "stream",
     "text": [
      "Found 400000 word vectors.\n"
     ]
    }
   ],
   "source": [
    "# path to glove file- will use the embeddings with dimension = 300\n",
    "glove_file =\"../../data/glove.6B.300d.txt\"\n",
    "\n",
    "# embedding layer \n",
    "embeddings_index = {}\n",
    "f = open(os.path.join(glove_file))\n",
    "for line in f:\n",
    "    values = line.split()\n",
    "    word = values[0]\n",
    "    coefs = np.asarray(values[1:], dtype='float32')\n",
    "    embeddings_index[word] = coefs\n",
    "f.close()\n",
    "\n",
    "print('Found %s word vectors.' % len(embeddings_index))"
   ]
  },
  {
   "cell_type": "markdown",
   "id": "0798594a",
   "metadata": {},
   "source": [
    "# Helper functions"
   ]
  },
  {
   "cell_type": "code",
   "execution_count": 229,
   "id": "8ec075f8",
   "metadata": {},
   "outputs": [],
   "source": [
    "#Posts, Responses, & Annotations: op_gender (M:0, W:1)\n",
    "gender_binary_mappings = {\"M\": 0, \"W\": 1}\n",
    "gender_labels = [\"M\", \"W\"]\n",
    "\n",
    "# Annotations sentiment\n",
    "# group mixed and neutral \n",
    "sentiment_mappings = {'Positive': 4, 'Mixed': 3, 'Neutral': 3, 'Negative':2}\n",
    "sentiment_labels = ['Positive', 'Mixed', 'Neutral', 'Negative']\n"
   ]
  },
  {
   "cell_type": "code",
   "execution_count": 230,
   "id": "42458b73",
   "metadata": {},
   "outputs": [],
   "source": [
    "def tokenize_Xtrain_and_Xdev(x_train, x_dev):\n",
    "    '''Combine tokenize and split back the X_train and \n",
    "    X_dev or X_test datasets. Then create an embedding matrix.'''\n",
    "\n",
    "    # note the length of the training index\n",
    "    train_idx = len(x_train)\n",
    "    #combine train and dev data and then tokenize\n",
    "    texts = x_train.append(x_dev)\n",
    "\n",
    "    tokenizer.fit_on_texts(texts)\n",
    "    sequences = tokenizer.texts_to_sequences(texts)\n",
    "    word_index = tokenizer.word_index\n",
    "    print('Train + Dev %s unique tokens.' % len(word_index))\n",
    "\n",
    "    data = pad_sequences(sequences, maxlen=max_sequence_length)\n",
    "    print('Shape of data tensor:', data.shape)\n",
    "    \n",
    "    x_train = data[:train_idx]\n",
    "    x_dev = data[train_idx:]\n",
    "\n",
    "    print('Shape of train data tensor:', x_train.shape)\n",
    "    print('Shape of dev data tensor:', x_dev.shape)\n",
    "    print(\"-\"*60)\n",
    "    \n",
    "    # print top 5 most and least common tokens\n",
    "    print(\"top 5 most common tokens: \", sorted(word_index, key=word_index.get, reverse=True)[-5:])\n",
    "    print(\"top 5 least common tokens: \", sorted(word_index, key=word_index.get, reverse=True)[:5])\n",
    "    print(\"-\"*60)\n",
    "\n",
    "    \n",
    "    # build embedding matrix to use it in the model\n",
    "    dimensions_emb = 300\n",
    "\n",
    "    # zero position is zero by default in keras\n",
    "    embedding_matrix = np.zeros((len(word_index) + 1, dimensions_emb)) \n",
    "\n",
    "    total_tokens = len(word_index) + 1\n",
    "    with_embedding = []\n",
    "    without_embedding = []\n",
    "\n",
    "    for word, i in word_index.items():\n",
    "        embedding_vector = embeddings_index.get(word)\n",
    "        if embedding_vector is not None:\n",
    "            # words not found in embedding index will be all-zeros.\n",
    "            embedding_matrix[i] = embedding_vector\n",
    "            with_embedding.append(word)\n",
    "        else:\n",
    "            without_embedding.append(word)\n",
    "\n",
    "    print(f'Number of words with embeddings found: {len(with_embedding)}')\n",
    "    print(f'Number of words with embeddings NOT found: {len(without_embedding)}')        \n",
    "\n",
    "    \n",
    "    return x_train, x_dev, embedding_matrix\n"
   ]
  },
  {
   "cell_type": "code",
   "execution_count": 40,
   "id": "5eee790a",
   "metadata": {},
   "outputs": [],
   "source": [
    "def binary_loss_accuracy_plots(training_history):\n",
    "    '''\n",
    "    Returns plots for loss and accuracy during the training process of a NN.\n",
    "    Parameters:\n",
    "    training_history: object that stores the training history of the NN (from model.fit(...))\n",
    "    xrange: range in x axis\n",
    "    task: string used for the title in the plot\n",
    "    '''\n",
    "    \n",
    "    fig, (ax1, ax2) = plt.subplots(1, 2, figsize=(15,6))\n",
    "    \n",
    "    # summarize history for accuracy\n",
    "    ax1.plot(training_history.history['binary_accuracy'])\n",
    "    ax1.plot(training_history.history['val_binary_accuracy'])\n",
    "    ax1.set_title('model accuracy')\n",
    "    ax1.set_ylabel('accuracy')\n",
    "    ax1.set_xlabel('epoch')\n",
    "    ax1.legend(['train', 'dev'], loc='upper left')\n",
    "\n",
    "    # summarize history for loss\n",
    "    ax2.plot(training_history.history['loss'])\n",
    "    ax2.plot(training_history.history['val_loss'])\n",
    "    ax2.set_title('model loss')\n",
    "    ax2.set_ylabel('loss')\n",
    "    ax2.set_xlabel('epoch')\n",
    "    ax2.legend(['train', 'dev'], loc='upper left')\n",
    "\n",
    "    plt.show()\n"
   ]
  },
  {
   "cell_type": "code",
   "execution_count": 262,
   "id": "db73c525",
   "metadata": {},
   "outputs": [],
   "source": [
    "def confusion_matrix(x_dev, original_dev_labels, class_labels):\n",
    "\n",
    "    # identify the correct class\n",
    "    max_class_idx = np.argmax(y_pred, axis = 1)\n",
    "    \n",
    "    # Create a confusion matrix\n",
    "    cm = tf.math.confusion_matrix(original_dev_labels, max_class_idx)\n",
    "    cm = cm/cm.numpy().sum(axis=1)[:, tf.newaxis]\n",
    "\n",
    "    sns.heatmap(\n",
    "        cm, annot=True,\n",
    "        xticklabels=class_labels,\n",
    "        yticklabels=class_labels,\n",
    "        fmt='.2%', cmap='Blues')\n",
    "    plt.xlabel(\"Predicted\")\n",
    "    plt.ylabel(\"True\")\n",
    "    plt.show()\n",
    "    \n",
    "    # print classification report\n",
    "    print(metrics.classification_report(original_dev_labels, max_class_idx))\n",
    "    # print global weighted f-1 score\n",
    "    f1 = metrics.f1_score(original_dev_labels, max_class_idx, pos_label=1, average='weighted')*100\n",
    "    print(f\"Weighted f1-score: %.2f%%\" %f1)\n"
   ]
  },
  {
   "cell_type": "markdown",
   "id": "62f80ddd",
   "metadata": {},
   "source": [
    "# Annotations: Op Gender Model\n",
    "[Source](https://blog.keras.io/using-pre-trained-word-embeddings-in-a-keras-model.html)\n"
   ]
  },
  {
   "cell_type": "code",
   "execution_count": 7,
   "id": "71ee318a",
   "metadata": {},
   "outputs": [],
   "source": [
    "#Annotations data split train: 70%, dev: 15%, test: 15%\n",
    "\n",
    "X = annotations['post_text']\n",
    "y = annotations['op_gender'].map(gender_binary_mappings)\n",
    "\n",
    "#1st split: 70 train /30 test\n",
    "ann_train, ann_test, ann_train_op_gender, ann_test_op_gender = train_test_split(\n",
    "X, y, test_size = .3, random_state = 1222, stratify = y)\n",
    "\n",
    "#2nd split: test data 50/50 into test/dev\n",
    "ann_test, ann_dev, ann_test_op_gender, ann_dev_op_gender = train_test_split(\n",
    "ann_test, ann_test_op_gender, test_size = .5, random_state = 1222, stratify = ann_test_op_gender)"
   ]
  },
  {
   "cell_type": "markdown",
   "id": "cae16c53",
   "metadata": {},
   "source": [
    "## Prepare the data for modeling and create Embeddings matrix"
   ]
  },
  {
   "cell_type": "code",
   "execution_count": 76,
   "id": "0111b62f",
   "metadata": {},
   "outputs": [
    {
     "name": "stdout",
     "output_type": "stream",
     "text": [
      "Train + Dev 21901 unique tokens.\n",
      "Shape of data tensor: (13049, 100)\n",
      "Shape of train data tensor: (10746, 100)\n",
      "Shape of dev data tensor: (2303, 100)\n",
      "------------------------------------------------------------\n",
      "top 5 most common tokens:  ['i', 'and', 'a', 'to', 'the']\n",
      "top 5 least common tokens:  [\"hagel's\", 'approves', 'disasterassistance', 'tropical', 'suffered']\n",
      "------------------------------------------------------------\n",
      "Number of words with embeddings found: 17158\n",
      "Number of words with embeddings NOT found: 4743\n",
      "------------------------------------------------------------\n",
      "Shape of train label tensor: (10746, 2)\n",
      "Shape of dev label tensor: (2303, 2)\n"
     ]
    }
   ],
   "source": [
    "# tokenize data and return embeddings matrix \n",
    "max_tokens = 10000\n",
    "# consider this maximum number of words\n",
    "max_sequence_length = 100\n",
    "tokenizer = Tokenizer(num_words=max_tokens)\n",
    "\n",
    "x_train, x_dev, embeddings_matrix = tokenize_Xtrain_and_Xdev(ann_train, ann_dev)\n",
    "\n",
    "# one-hot encodign and reshape labels\n",
    "print(\"-\"*60)\n",
    "\n",
    "train_labels = to_categorical(np.asarray(ann_train_op_gender))\n",
    "dev_labels = to_categorical(np.asarray(ann_dev_op_gender))\n",
    "\n",
    "print('Shape of train label tensor:', train_labels.shape)\n",
    "print('Shape of dev label tensor:', dev_labels.shape)"
   ]
  },
  {
   "cell_type": "markdown",
   "id": "045e9e52",
   "metadata": {},
   "source": [
    "## Create Model"
   ]
  },
  {
   "cell_type": "code",
   "execution_count": 70,
   "id": "45feec36",
   "metadata": {},
   "outputs": [],
   "source": [
    "# Define the model\n",
    "from keras.layers import Embedding\n",
    "\n",
    "# delete model if exists\n",
    "try:\n",
    "    del ANN_OP_GENDER\n",
    "except:\n",
    "    pass\n",
    "\n",
    "# create embedding layer\n",
    "# input_lenght: Keras' embedding layer expects a specific input length. Padding is needed here. The vectorizer\n",
    "# defined above takes care of the padding\n",
    "embedding_layer = Embedding(embedding_matrix.shape[0],\n",
    "                            embedding_matrix.shape[1],\n",
    "                            embeddings_initializer=tf.keras.initializers.Constant(embedding_matrix),\n",
    "                            input_length=max_sequence_length,\n",
    "                            trainable=False)\n",
    "\n",
    "\n",
    "# simple sequential model\n",
    "ANN_OP_GENDER = tf.keras.Sequential()\n",
    "# include the embedding layer\n",
    "ANN_OP_GENDER.add(embedding_layer)\n",
    "# average embedding vectors\n",
    "ANN_OP_GENDER.add(tf.keras.layers.Lambda(lambda x: K.mean(x, axis=1))) \n",
    "# hidden layer with rectified linear activation function (relu)\n",
    "ANN_OP_GENDER.add(Dense(100, activation='relu'))  \n",
    "# dropout layer for regularization\n",
    "ANN_OP_GENDER.add(Dropout(0.2))\n",
    "# output layer with 2 classes classification\n",
    "ANN_OP_GENDER.add(Dense(2, activation='softmax'))"
   ]
  },
  {
   "cell_type": "code",
   "execution_count": 71,
   "id": "77e27d56",
   "metadata": {},
   "outputs": [
    {
     "name": "stdout",
     "output_type": "stream",
     "text": [
      "Model: \"sequential_1\"\n",
      "_________________________________________________________________\n",
      "Layer (type)                 Output Shape              Param #   \n",
      "=================================================================\n",
      "embedding_1 (Embedding)      (None, 100, 300)          6570600   \n",
      "_________________________________________________________________\n",
      "lambda_1 (Lambda)            (None, 300)               0         \n",
      "_________________________________________________________________\n",
      "dense_2 (Dense)              (None, 100)               30100     \n",
      "_________________________________________________________________\n",
      "dropout_1 (Dropout)          (None, 100)               0         \n",
      "_________________________________________________________________\n",
      "dense_3 (Dense)              (None, 2)                 202       \n",
      "=================================================================\n",
      "Total params: 6,600,902\n",
      "Trainable params: 30,302\n",
      "Non-trainable params: 6,570,600\n",
      "_________________________________________________________________\n"
     ]
    }
   ],
   "source": [
    "# compile the model\n",
    "# categorical_crossentropy: loss function appropiate for multi-class single label classification\n",
    "ANN_OP_GENDER.compile(loss='binary_crossentropy', \n",
    "                      optimizer='adam', \n",
    "                      metrics=['binary_accuracy', 'binary_crossentropy'])\n",
    "\n",
    "# summary of the model's architecture\n",
    "ANN_OP_GENDER.summary()"
   ]
  },
  {
   "cell_type": "code",
   "execution_count": 72,
   "id": "042e1521",
   "metadata": {},
   "outputs": [],
   "source": [
    "# train the model and store the training history\n",
    "training_history = ANN_OP_GENDER.fit(x_train, train_labels,\n",
    "                                     validation_data=(x_dev, dev_labels),\n",
    "                                     epochs=50, verbose=0)"
   ]
  },
  {
   "cell_type": "code",
   "execution_count": 73,
   "id": "c5a67f9d",
   "metadata": {},
   "outputs": [
    {
     "data": {
      "image/png": "[encoded data removed]",
      "text/plain": [
       "<Figure size 1080x432 with 2 Axes>"
      ]
     },
     "metadata": {
      "needs_background": "light"
     },
     "output_type": "display_data"
    }
   ],
   "source": [
    "binary_loss_accuracy_plots(training_history)"
   ]
  },
  {
   "cell_type": "markdown",
   "id": "13b1f9e4",
   "metadata": {},
   "source": [
    "This model is clearly overfitting. Let's simplify the model by reducing the number of neurons in the dense layer. We are going try with 20 neurons instead of 100."
   ]
  },
  {
   "cell_type": "markdown",
   "id": "be0e1d92",
   "metadata": {},
   "source": [
    "## Tune\n",
    "[source](https://www.tensorflow.org/tutorials/keras/keras_tuner)"
   ]
  },
  {
   "cell_type": "code",
   "execution_count": 147,
   "id": "4d0f24a0",
   "metadata": {},
   "outputs": [],
   "source": [
    "def binary_model_builder(hp):\n",
    "    model = tf.keras.Sequential()\n",
    "    model.add(embedding_layer) \n",
    "    model.add(tf.keras.layers.Lambda(lambda x: K.mean(x, axis=1))) #avg\n",
    "\n",
    "    # Tune the number of units in the first Dense layer\n",
    "    # Choose an optimal value between 10 and 100\n",
    "    hp_units = hp.Int('units', min_value=10, max_value=100, step=10)\n",
    "    model.add(tf.keras.layers.Dense(units=hp_units, activation='relu'))\n",
    "    \n",
    "    # Tune dropout layer \n",
    "    dropout = hp.Float('dropout', min_value=0.2, max_value=0.5, default=0.0, step=0.05)\n",
    "    model.add(Dropout(dropout))\n",
    "        \n",
    "    # output layer \n",
    "    model.add(Dense(2, activation='softmax'))\n",
    "\n",
    "    # Tune the learning rate for the optimizer\n",
    "    # Choose an optimal value from 0.01, 0.001, or 0.0001\n",
    "    hp_learning_rate = hp.Choice('learning_rate', values=[1e-2, 1e-3, 1e-4])\n",
    "\n",
    "    model.compile(optimizer=tf.keras.optimizers.Adam(learning_rate=hp_learning_rate),\n",
    "                loss='binary_crossentropy', \n",
    "                metrics=['binary_accuracy', 'binary_crossentropy'])\n",
    "\n",
    "    return model"
   ]
  },
  {
   "cell_type": "code",
   "execution_count": 148,
   "id": "198d69a1",
   "metadata": {},
   "outputs": [
    {
     "name": "stdout",
     "output_type": "stream",
     "text": [
      "INFO:tensorflow:Reloading Oracle from existing project my_dir/intro_to_kt2/oracle.json\n",
      "INFO:tensorflow:Reloading Tuner from my_dir/intro_to_kt2/tuner0.json\n"
     ]
    }
   ],
   "source": [
    "tuner = kt.Hyperband(binary_model_builder,\n",
    "                     objective='val_binary_accuracy',\n",
    "                     max_epochs=10,\n",
    "                     factor=3,\n",
    "                     directory='my_dir',\n",
    "                     project_name='intro_to_kt2')"
   ]
  },
  {
   "cell_type": "code",
   "execution_count": 149,
   "id": "cd6efc60",
   "metadata": {},
   "outputs": [
    {
     "name": "stdout",
     "output_type": "stream",
     "text": [
      "INFO:tensorflow:Oracle triggered exit\n",
      "\n",
      "The hyperparameter search is complete. The optimal number of units in the first densely-connected\n",
      "layer is 30 and the optimal learning rate for the optimizer\n",
      "is 0.0001.\n",
      "\n"
     ]
    }
   ],
   "source": [
    "tuner.search(x_train, train_labels, validation_data=(x_dev, dev_labels),\n",
    "             epochs=50, verbose=0)\n",
    "\n",
    "# Get the optimal hyperparameters\n",
    "best_hps=tuner.get_best_hyperparameters(num_trials=1)[0]\n",
    "\n",
    "print(f\"\"\"\n",
    "The hyperparameter search is complete. The optimal number of units in the first densely-connected\n",
    "layer is {best_hps.get('units')} and the optimal learning rate for the optimizer\n",
    "is {best_hps.get('learning_rate')}.\n",
    "\"\"\")"
   ]
  },
  {
   "cell_type": "markdown",
   "id": "20187dd1",
   "metadata": {},
   "source": [
    "Run the model with the optimal hyperparameters"
   ]
  },
  {
   "cell_type": "code",
   "execution_count": 150,
   "id": "a0c894f4",
   "metadata": {},
   "outputs": [],
   "source": [
    "model = tuner.hypermodel.build(best_hps)\n",
    "history = model.fit(x_train, train_labels,\n",
    "                    validation_data=(x_dev, dev_labels),\n",
    "                    epochs=50, verbose=0)"
   ]
  },
  {
   "cell_type": "markdown",
   "id": "66922c0a",
   "metadata": {},
   "source": [
    "Review the performance of the selected model in the test data:"
   ]
  },
  {
   "cell_type": "markdown",
   "id": "4c71dba3",
   "metadata": {},
   "source": [
    "## Metrics"
   ]
  },
  {
   "cell_type": "code",
   "execution_count": 151,
   "id": "80cea02f",
   "metadata": {},
   "outputs": [
    {
     "data": {
      "image/png": "[encoded data removed]",
      "text/plain": [
       "<Figure size 1080x432 with 2 Axes>"
      ]
     },
     "metadata": {
      "needs_background": "light"
     },
     "output_type": "display_data"
    }
   ],
   "source": [
    "binary_loss_accuracy_plots(history)"
   ]
  },
  {
   "cell_type": "markdown",
   "id": "3928a78f",
   "metadata": {},
   "source": [
    "Still overfitting. "
   ]
  },
  {
   "cell_type": "markdown",
   "id": "592136f5",
   "metadata": {},
   "source": [
    "### Confusion Matrix"
   ]
  },
  {
   "cell_type": "code",
   "execution_count": 263,
   "id": "a5a511ca",
   "metadata": {},
   "outputs": [
    {
     "data": {
      "image/png": "[encoded data removed]",
      "text/plain": [
       "<Figure size 432x288 with 2 Axes>"
      ]
     },
     "metadata": {
      "needs_background": "light"
     },
     "output_type": "display_data"
    },
    {
     "name": "stdout",
     "output_type": "stream",
     "text": [
      "              precision    recall  f1-score   support\n",
      "\n",
      "           0       0.50      0.57      0.53      1169\n",
      "           1       0.49      0.42      0.45      1134\n",
      "\n",
      "    accuracy                           0.50      2303\n",
      "   macro avg       0.49      0.49      0.49      2303\n",
      "weighted avg       0.49      0.50      0.49      2303\n",
      "\n",
      "Weighted f1-score: 49.27%\n"
     ]
    }
   ],
   "source": [
    "y_pred = model.predict(x_dev) #predict\n",
    "confusion_matrix(x_dev, ann_dev_op_gender, gender_labels)"
   ]
  },
  {
   "cell_type": "markdown",
   "id": "3933ee1b",
   "metadata": {},
   "source": [
    "# Annotations: Sentiment\n"
   ]
  },
  {
   "cell_type": "code",
   "execution_count": 227,
   "id": "5a5e6dce",
   "metadata": {},
   "outputs": [
    {
     "data": {
      "text/html": [
       "<div>\n",
       "<style scoped>\n",
       "    .dataframe tbody tr th:only-of-type {\n",
       "        vertical-align: middle;\n",
       "    }\n",
       "\n",
       "    .dataframe tbody tr th {\n",
       "        vertical-align: top;\n",
       "    }\n",
       "\n",
       "    .dataframe thead th {\n",
       "        text-align: right;\n",
       "    }\n",
       "</style>\n",
       "<table border=\"1\" class=\"dataframe\">\n",
       "  <thead>\n",
       "    <tr style=\"text-align: right;\">\n",
       "      <th></th>\n",
       "      <th>source</th>\n",
       "      <th>op_gender</th>\n",
       "      <th>post_text</th>\n",
       "      <th>response_text</th>\n",
       "      <th>sentiment</th>\n",
       "      <th>relevance</th>\n",
       "    </tr>\n",
       "  </thead>\n",
       "  <tbody>\n",
       "    <tr>\n",
       "      <th>0</th>\n",
       "      <td>facebook_wiki</td>\n",
       "      <td>W</td>\n",
       "      <td>Stopped by Fashion Week and got to hang with A...</td>\n",
       "      <td>You are Both Sweet Ashley Tisdale and Lauren C...</td>\n",
       "      <td>Positive</td>\n",
       "      <td>Poster</td>\n",
       "    </tr>\n",
       "    <tr>\n",
       "      <th>1</th>\n",
       "      <td>facebook_wiki</td>\n",
       "      <td>M</td>\n",
       "      <td>Well guys, real progress is happening. I'm 50 ...</td>\n",
       "      <td>Give us the first page to read. ONE PAGE.</td>\n",
       "      <td>Mixed</td>\n",
       "      <td>Content</td>\n",
       "    </tr>\n",
       "    <tr>\n",
       "      <th>2</th>\n",
       "      <td>facebook_wiki</td>\n",
       "      <td>W</td>\n",
       "      <td>Tonight is going to be a good night #PerfectMo...</td>\n",
       "      <td>this is my city was there 2 weeks a go</td>\n",
       "      <td>Neutral</td>\n",
       "      <td>Content</td>\n",
       "    </tr>\n",
       "    <tr>\n",
       "      <th>3</th>\n",
       "      <td>facebook_wiki</td>\n",
       "      <td>M</td>\n",
       "      <td>I know grandma Gilmore is real proud of you ht...</td>\n",
       "      <td>if grizzly Adams had a beard.</td>\n",
       "      <td>Neutral</td>\n",
       "      <td>Content</td>\n",
       "    </tr>\n",
       "    <tr>\n",
       "      <th>4</th>\n",
       "      <td>facebook_wiki</td>\n",
       "      <td>W</td>\n",
       "      <td>#NEWS to KNOW this AM - Mayor Emanuel will mak...</td>\n",
       "      <td>Good morning Lourdes, have a great day! Great ...</td>\n",
       "      <td>Positive</td>\n",
       "      <td>Irrelevant</td>\n",
       "    </tr>\n",
       "    <tr>\n",
       "      <th>...</th>\n",
       "      <td>...</td>\n",
       "      <td>...</td>\n",
       "      <td>...</td>\n",
       "      <td>...</td>\n",
       "      <td>...</td>\n",
       "      <td>...</td>\n",
       "    </tr>\n",
       "    <tr>\n",
       "      <th>15347</th>\n",
       "      <td>ted</td>\n",
       "      <td>W</td>\n",
       "      <td>Jane McGonigal gave a talk about computers, de...</td>\n",
       "      <td>YAY! I am so happy to see this talk up! I enjo...</td>\n",
       "      <td>Positive</td>\n",
       "      <td>ContentPoster</td>\n",
       "    </tr>\n",
       "    <tr>\n",
       "      <th>15348</th>\n",
       "      <td>ted</td>\n",
       "      <td>W</td>\n",
       "      <td>Dambisa Moyo gave a talk about Africa, Asia, c...</td>\n",
       "      <td>EU, USA,CHINA none of the above have Africa at...</td>\n",
       "      <td>Neutral</td>\n",
       "      <td>Content</td>\n",
       "    </tr>\n",
       "    <tr>\n",
       "      <th>15349</th>\n",
       "      <td>ted</td>\n",
       "      <td>M</td>\n",
       "      <td>Jim Al-Khalili gave a talk about biology, bird...</td>\n",
       "      <td>He explained his self very well. not sure how ...</td>\n",
       "      <td>Mixed</td>\n",
       "      <td>ContentPoster</td>\n",
       "    </tr>\n",
       "    <tr>\n",
       "      <th>15350</th>\n",
       "      <td>ted</td>\n",
       "      <td>M</td>\n",
       "      <td>Stephen Hawking gave a talk about String theor...</td>\n",
       "      <td>Mr. Tavares. Thank you for your insight. My on...</td>\n",
       "      <td>Neutral</td>\n",
       "      <td>Irrelevant</td>\n",
       "    </tr>\n",
       "    <tr>\n",
       "      <th>15351</th>\n",
       "      <td>ted</td>\n",
       "      <td>W</td>\n",
       "      <td>Annie Murphy Paul gave a talk about children, ...</td>\n",
       "      <td>hi Nibedita! I was thinking about same story y...</td>\n",
       "      <td>Positive</td>\n",
       "      <td>Content</td>\n",
       "    </tr>\n",
       "  </tbody>\n",
       "</table>\n",
       "<p>15352 rows × 6 columns</p>\n",
       "</div>"
      ],
      "text/plain": [
       "              source op_gender  \\\n",
       "0      facebook_wiki         W   \n",
       "1      facebook_wiki         M   \n",
       "2      facebook_wiki         W   \n",
       "3      facebook_wiki         M   \n",
       "4      facebook_wiki         W   \n",
       "...              ...       ...   \n",
       "15347            ted         W   \n",
       "15348            ted         W   \n",
       "15349            ted         M   \n",
       "15350            ted         M   \n",
       "15351            ted         W   \n",
       "\n",
       "                                               post_text  \\\n",
       "0      Stopped by Fashion Week and got to hang with A...   \n",
       "1      Well guys, real progress is happening. I'm 50 ...   \n",
       "2      Tonight is going to be a good night #PerfectMo...   \n",
       "3      I know grandma Gilmore is real proud of you ht...   \n",
       "4      #NEWS to KNOW this AM - Mayor Emanuel will mak...   \n",
       "...                                                  ...   \n",
       "15347  Jane McGonigal gave a talk about computers, de...   \n",
       "15348  Dambisa Moyo gave a talk about Africa, Asia, c...   \n",
       "15349  Jim Al-Khalili gave a talk about biology, bird...   \n",
       "15350  Stephen Hawking gave a talk about String theor...   \n",
       "15351  Annie Murphy Paul gave a talk about children, ...   \n",
       "\n",
       "                                           response_text sentiment  \\\n",
       "0      You are Both Sweet Ashley Tisdale and Lauren C...  Positive   \n",
       "1              Give us the first page to read. ONE PAGE.     Mixed   \n",
       "2                 this is my city was there 2 weeks a go   Neutral   \n",
       "3                          if grizzly Adams had a beard.   Neutral   \n",
       "4      Good morning Lourdes, have a great day! Great ...  Positive   \n",
       "...                                                  ...       ...   \n",
       "15347  YAY! I am so happy to see this talk up! I enjo...  Positive   \n",
       "15348  EU, USA,CHINA none of the above have Africa at...   Neutral   \n",
       "15349  He explained his self very well. not sure how ...     Mixed   \n",
       "15350  Mr. Tavares. Thank you for your insight. My on...   Neutral   \n",
       "15351  hi Nibedita! I was thinking about same story y...  Positive   \n",
       "\n",
       "           relevance  \n",
       "0             Poster  \n",
       "1            Content  \n",
       "2            Content  \n",
       "3            Content  \n",
       "4         Irrelevant  \n",
       "...              ...  \n",
       "15347  ContentPoster  \n",
       "15348        Content  \n",
       "15349  ContentPoster  \n",
       "15350     Irrelevant  \n",
       "15351        Content  \n",
       "\n",
       "[15352 rows x 6 columns]"
      ]
     },
     "execution_count": 227,
     "metadata": {},
     "output_type": "execute_result"
    }
   ],
   "source": [
    "annotations"
   ]
  },
  {
   "cell_type": "code",
   "execution_count": 232,
   "id": "f19473bd",
   "metadata": {},
   "outputs": [],
   "source": [
    "#Annotations data split train: 70%, dev: 15%, test: 15%\n",
    "\n",
    "X = annotations['response_text']\n",
    "y = annotations['sentiment'].map(sentiment_mappings)\n",
    "\n",
    "#1st split: 70 train /30 test\n",
    "X_train, X_dev, y_train, y_dev = train_test_split(\n",
    "X, y, test_size = .3, random_state = 1222, stratify = y)\n",
    "\n",
    "#2nd split: test data 50/50 into test/dev\n",
    "X_test, X_dev, y_test, y_dev = train_test_split(\n",
    "X_dev, y_dev, test_size = .5, random_state = 1222, stratify = y_dev)"
   ]
  },
  {
   "cell_type": "markdown",
   "id": "a11e15aa",
   "metadata": {},
   "source": [
    "## Preprocess & Embeddings matrix"
   ]
  },
  {
   "cell_type": "code",
   "execution_count": 234,
   "id": "6da2e52d",
   "metadata": {},
   "outputs": [
    {
     "name": "stdout",
     "output_type": "stream",
     "text": [
      "Train + Dev 20160 unique tokens.\n",
      "Shape of data tensor: (13049, 100)\n",
      "Shape of train data tensor: (10746, 100)\n",
      "Shape of dev data tensor: (2303, 100)\n",
      "------------------------------------------------------------\n",
      "top 5 most common tokens:  ['and', 'you', 'i', 'to', 'the']\n",
      "top 5 least common tokens:  ['proceeded', 'vent', 'screenwriting', 'choreographed', \"b's\"]\n",
      "------------------------------------------------------------\n",
      "Number of words with embeddings found: 16783\n",
      "Number of words with embeddings NOT found: 3377\n",
      "------------------------------------------------------------\n",
      "Shape of train label tensor: (10746, 5)\n",
      "Shape of dev label tensor: (2303, 5)\n"
     ]
    }
   ],
   "source": [
    "# tokenize data and return embeddings matrix \n",
    "max_tokens = 10000\n",
    "# consider this maximum number of words\n",
    "max_sequence_length = 100\n",
    "tokenizer = Tokenizer(num_words=max_tokens)\n",
    "\n",
    "x_train, x_dev, embeddings_matrix = tokenize_Xtrain_and_Xdev(X_train, X_dev)\n",
    "\n",
    "# one-hot encodign and reshape labels\n",
    "print(\"-\"*60)\n",
    "\n",
    "train_labels = to_categorical(np.asarray(y_train))\n",
    "dev_labels = to_categorical(np.asarray(y_dev))\n",
    "\n",
    "print('Shape of train label tensor:', train_labels.shape)\n",
    "print('Shape of dev label tensor:', dev_labels.shape)"
   ]
  },
  {
   "cell_type": "markdown",
   "id": "d19a5fce",
   "metadata": {},
   "source": [
    "## Best Model"
   ]
  },
  {
   "cell_type": "code",
   "execution_count": 237,
   "id": "faab50e2",
   "metadata": {},
   "outputs": [],
   "source": [
    "def multiclass_model_builder(hp, output_layer_units):\n",
    "    model = tf.keras.Sequential()\n",
    "    model.add(embedding_layer) \n",
    "    model.add(tf.keras.layers.Lambda(lambda x: K.mean(x, axis=1))) #avg\n",
    "\n",
    "    # Tune the number of units in the first Dense layer\n",
    "    # Choose an optimal value between 10 and 100\n",
    "    hp_units = hp.Int('units', min_value=10, max_value=100, step=10)\n",
    "    model.add(tf.keras.layers.Dense(units=hp_units, activation='relu'))\n",
    "    \n",
    "    # Tune dropout layer \n",
    "    dropout = hp.Float('dropout', min_value=0.2, max_value=0.5, default=0.0, step=0.05)\n",
    "    model.add(Dropout(dropout))\n",
    "        \n",
    "    # output layer \n",
    "    model.add(Dense(output_layer_units, activation='softmax'))\n",
    "\n",
    "    # Tune the learning rate for the optimizer\n",
    "    # Choose an optimal value from 0.01, 0.001, or 0.0001\n",
    "    hp_learning_rate = hp.Choice('learning_rate', values=[1e-2, 1e-3, 1e-4])\n",
    "\n",
    "    model.compile(optimizer=tf.keras.optimizers.Adam(learning_rate=hp_learning_rate),\n",
    "                loss='categorical_crossentropy', \n",
    "                metrics=[tf.keras.metrics.categorical_accuracy, 'categorical_crossentropy'])\n",
    "\n",
    "    return model"
   ]
  },
  {
   "cell_type": "code",
   "execution_count": null,
   "id": "74963805",
   "metadata": {},
   "outputs": [],
   "source": [
    "tuner = kt.Hyperband(multiclass_model_builder,\n",
    "                     objective='val_categorical_accuracy',\n",
    "                     max_epochs=10,\n",
    "                     factor=3,\n",
    "                     directory='my_dir',\n",
    "                     project_name='intro_to_kt2')"
   ]
  },
  {
   "cell_type": "markdown",
   "id": "55ffbc0e",
   "metadata": {},
   "source": [
    "# Housekeeping\n",
    "Delete hyper-parameter search folders. \n"
   ]
  },
  {
   "cell_type": "code",
   "execution_count": 92,
   "id": "26fb98bf",
   "metadata": {},
   "outputs": [],
   "source": [
    "# remove hyper-parameter search directory\n",
    "!rm -r ./hp_search_BOW_task_A\n",
    "!rm -r ./hp_search_BOW_task_B"
   ]
  },
  {
   "cell_type": "markdown",
   "id": "e93a73d9",
   "metadata": {},
   "source": [
    "# Parking Lot"
   ]
  },
  {
   "cell_type": "code",
   "execution_count": null,
   "id": "b64fcbe3",
   "metadata": {},
   "outputs": [],
   "source": [
    "# invert the gender dictionary and apply mappings\n",
    "gender_binary_mappings_inverted = {value: key for key, value in gender_binary_mappings.items()}\n",
    "\n",
    "gender_binary_mappings_inverted\n",
    "y_pred_class_labels = [gender_binary_mappings_inverted[pos] for pos in max_class_idx]\n"
   ]
  },
  {
   "cell_type": "code",
   "execution_count": 93,
   "id": "9a39f2ec",
   "metadata": {},
   "outputs": [],
   "source": [
    "# to load models back\n",
    "# BOW_model_A = tf.keras.models.load_model('./TRAC-2_saved_models/BOW_model_task_A')\n",
    "# BOW_model_B = tf.keras.models.load_model('./TRAC-2_saved_models/BOW_model_task_B')"
   ]
  },
  {
   "cell_type": "markdown",
   "id": "21b99aac",
   "metadata": {},
   "source": [
    "## References\n",
    "\n",
    "- Using pre-trained word embeddings: https://keras.io/examples/nlp/pretrained_word_embeddings/\n",
    "\n",
    "- Keras random search: https://keras.io/api/keras_tuner/tuners/random/#randomsearch-class\n"
   ]
  }
 ],
 "metadata": {
  "environment": {
   "name": "common-cu110.m79",
   "type": "gcloud",
   "uri": "gcr.io/deeplearning-platform-release/base-cu110:m79"
  },
  "kernelspec": {
   "display_name": "Python 3",
   "language": "python",
   "name": "python3"
  },
  "language_info": {
   "codemirror_mode": {
    "name": "ipython",
    "version": 3
   },
   "file_extension": ".py",
   "mimetype": "text/x-python",
   "name": "python",
   "nbconvert_exporter": "python",
   "pygments_lexer": "ipython3",
   "version": "3.7.10"
  },
  "toc-autonumbering": true
 },
 "nbformat": 4,
 "nbformat_minor": 5
}
