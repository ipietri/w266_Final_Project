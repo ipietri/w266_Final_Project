{
 "cells": [
  {
   "cell_type": "markdown",
   "id": "57ec5612",
   "metadata": {},
   "source": [
    "# Hugging Face Set Up"
   ]
  },
  {
   "cell_type": "code",
   "execution_count": 1,
   "id": "baa0a923",
   "metadata": {},
   "outputs": [],
   "source": [
    "# run the first time\n",
    "#!pip install datasets\n",
    "#!python -c \"from datasets import load_dataset; print(load_dataset('squad', split='train')[0])\"\n",
    "#!git clone https://github.com/huggingface/datasets.git\n",
    "#!pip install -e datasets/ \n",
    "#!python -c \"from datasets import load_dataset; print(load_dataset('squad', split='train')[0])\""
   ]
  },
  {
   "cell_type": "markdown",
   "id": "620870bb",
   "metadata": {},
   "source": [
    "# Load Data from Hugging Face\n",
    "[config info](https://huggingface.co/datasets/peixian/rtGender/blob/main/rtGender.py)"
   ]
  },
  {
   "cell_type": "code",
   "execution_count": 2,
   "id": "419d5c07",
   "metadata": {},
   "outputs": [],
   "source": [
    "# run the first time\n",
    "# from datasets import get_dataset_config_names\n",
    "\n",
    "# configs = get_dataset_config_names('peixian/rtGender')\n",
    "# print(configs)"
   ]
  },
  {
   "cell_type": "code",
   "execution_count": 3,
   "id": "c2027792",
   "metadata": {},
   "outputs": [
    {
     "name": "stderr",
     "output_type": "stream",
     "text": [
      "Reusing dataset rt_gender (/home/kbaumberg/.cache/huggingface/datasets/rt_gender/posts/1.1.0/62d8f34778a4eda10ed650d804cbb7ad4da391ac28f38034f424a2e9a7fc43d1)\n"
     ]
    },
    {
     "name": "stdout",
     "output_type": "stream",
     "text": [
      "Dataset({\n",
      "    features: ['source', 'op_id', 'op_gender', 'post_id', 'post_text', 'post_type', 'subreddit', 'op_gender_visible'],\n",
      "    num_rows: 2469836\n",
      "})\n"
     ]
    },
    {
     "data": {
      "text/plain": [
       "{'source': '/home/kbaumberg/.cache/huggingface/datasets/downloads/extracted/2a2b549303f3c7cbf8b1989705b31377e104d11b1a2af73c46c2c726e0b54b3a/facebook_congress_posts',\n",
       " 'op_id': '57265377',\n",
       " 'op_gender': 'M',\n",
       " 'post_id': '0000000',\n",
       " 'post_text': \"Yesterday, my colleagues and I voted to protect state's rights and the rights of our unborn children by overturning Obama's HHS rule. I pledge to always protect the sanctity of life. https://goo.gl/N8kd99\",\n",
       " 'post_type': 'video',\n",
       " 'subreddit': None,\n",
       " 'op_gender_visible': None}"
      ]
     },
     "execution_count": 3,
     "metadata": {},
     "output_type": "execute_result"
    }
   ],
   "source": [
    "from datasets import load_dataset\n",
    "posts = load_dataset('peixian/rtGender', 'posts', split = 'train')\n",
    "print(posts)\n",
    "posts[0]"
   ]
  },
  {
   "cell_type": "code",
   "execution_count": 4,
   "id": "e2ee535b",
   "metadata": {},
   "outputs": [
    {
     "name": "stderr",
     "output_type": "stream",
     "text": [
      "Reusing dataset rt_gender (/home/kbaumberg/.cache/huggingface/datasets/rt_gender/responses/1.1.0/62d8f34778a4eda10ed650d804cbb7ad4da391ac28f38034f424a2e9a7fc43d1)\n"
     ]
    },
    {
     "name": "stdout",
     "output_type": "stream",
     "text": [
      "Dataset({\n",
      "    features: ['source', 'op_id', 'op_gender', 'post_id', 'responder_id', 'response_text', 'op_name', 'op_category', 'responder_gender', 'responder_gender_visible', 'subreddit'],\n",
      "    num_rows: 26496468\n",
      "})\n"
     ]
    },
    {
     "data": {
      "text/plain": [
       "{'source': ['/home/kbaumberg/.cache/huggingface/datasets/downloads/extracted/2a2b549303f3c7cbf8b1989705b31377e104d11b1a2af73c46c2c726e0b54b3a/facebook_congress_responses',\n",
       "  '/home/kbaumberg/.cache/huggingface/datasets/downloads/extracted/2a2b549303f3c7cbf8b1989705b31377e104d11b1a2af73c46c2c726e0b54b3a/facebook_congress_responses',\n",
       "  '/home/kbaumberg/.cache/huggingface/datasets/downloads/extracted/2a2b549303f3c7cbf8b1989705b31377e104d11b1a2af73c46c2c726e0b54b3a/facebook_congress_responses',\n",
       "  '/home/kbaumberg/.cache/huggingface/datasets/downloads/extracted/2a2b549303f3c7cbf8b1989705b31377e104d11b1a2af73c46c2c726e0b54b3a/facebook_congress_responses',\n",
       "  '/home/kbaumberg/.cache/huggingface/datasets/downloads/extracted/2a2b549303f3c7cbf8b1989705b31377e104d11b1a2af73c46c2c726e0b54b3a/facebook_congress_responses',\n",
       "  '/home/kbaumberg/.cache/huggingface/datasets/downloads/extracted/2a2b549303f3c7cbf8b1989705b31377e104d11b1a2af73c46c2c726e0b54b3a/facebook_congress_responses',\n",
       "  '/home/kbaumberg/.cache/huggingface/datasets/downloads/extracted/2a2b549303f3c7cbf8b1989705b31377e104d11b1a2af73c46c2c726e0b54b3a/facebook_congress_responses',\n",
       "  '/home/kbaumberg/.cache/huggingface/datasets/downloads/extracted/2a2b549303f3c7cbf8b1989705b31377e104d11b1a2af73c46c2c726e0b54b3a/facebook_congress_responses',\n",
       "  '/home/kbaumberg/.cache/huggingface/datasets/downloads/extracted/2a2b549303f3c7cbf8b1989705b31377e104d11b1a2af73c46c2c726e0b54b3a/facebook_congress_responses',\n",
       "  '/home/kbaumberg/.cache/huggingface/datasets/downloads/extracted/2a2b549303f3c7cbf8b1989705b31377e104d11b1a2af73c46c2c726e0b54b3a/facebook_congress_responses'],\n",
       " 'op_id': ['57265377',\n",
       "  '57265377',\n",
       "  '57265377',\n",
       "  '57265377',\n",
       "  '57265377',\n",
       "  '57265377',\n",
       "  '57265377',\n",
       "  '57265377',\n",
       "  '57265377',\n",
       "  '57265377'],\n",
       " 'op_gender': ['M', 'M', 'M', 'M', 'M', 'M', 'M', 'M', 'M', 'M'],\n",
       " 'post_id': ['0000000',\n",
       "  '0000000',\n",
       "  '0000000',\n",
       "  '0000000',\n",
       "  '0000000',\n",
       "  '0000000',\n",
       "  '0000000',\n",
       "  '0000000',\n",
       "  '0000000',\n",
       "  '0000000'],\n",
       " 'responder_id': ['Jerry',\n",
       "  'Andrea',\n",
       "  'Sherry',\n",
       "  'Bob',\n",
       "  'Joy',\n",
       "  'Candice',\n",
       "  'Cheri',\n",
       "  'Julie',\n",
       "  'Stephen',\n",
       "  'Tony'],\n",
       " 'response_text': ['Protecting birth is not the same as protecting life. You may very well pledge to the former but you fail miserably at the latter.',\n",
       "  'You need to protect children and leave my body to me.',\n",
       "  'Thank you',\n",
       "  'Thank you Roger',\n",
       "  'Unwanted pregnancy is a sad and unfortunate situation for anyone to find themselves in, however, the rights of a breathing human being capable of surviving without life support should take precedence over that of a potential life.',\n",
       "  'Women, the \"hosts\" of the unborn babies you\\'re so supportive of, need access to Healthcare to give birth to healthy babies. Texas has maternal mortality rate on par to developing nations. How does this help? Or do you not care?',\n",
       "  'I am Pro Choice and always will be',\n",
       "  'Thank you for taking a stand!!!!',\n",
       "  \"I seem to disagree with you again Mr.Williams. Woman have a right to determine what happens to the own bodies. Women's rights are more important than States rights.\",\n",
       "  'Please demonstrate your support by providing pre- and post-natal care to these babies and their moms.'],\n",
       " 'op_name': ['Roger Williams',\n",
       "  'Roger Williams',\n",
       "  'Roger Williams',\n",
       "  'Roger Williams',\n",
       "  'Roger Williams',\n",
       "  'Roger Williams',\n",
       "  'Roger Williams',\n",
       "  'Roger Williams',\n",
       "  'Roger Williams',\n",
       "  'Roger Williams'],\n",
       " 'op_category': ['Congress_Republican',\n",
       "  'Congress_Republican',\n",
       "  'Congress_Republican',\n",
       "  'Congress_Republican',\n",
       "  'Congress_Republican',\n",
       "  'Congress_Republican',\n",
       "  'Congress_Republican',\n",
       "  'Congress_Republican',\n",
       "  'Congress_Republican',\n",
       "  'Congress_Republican'],\n",
       " 'responder_gender': [None,\n",
       "  None,\n",
       "  None,\n",
       "  None,\n",
       "  None,\n",
       "  None,\n",
       "  None,\n",
       "  None,\n",
       "  None,\n",
       "  None],\n",
       " 'responder_gender_visible': [None,\n",
       "  None,\n",
       "  None,\n",
       "  None,\n",
       "  None,\n",
       "  None,\n",
       "  None,\n",
       "  None,\n",
       "  None,\n",
       "  None],\n",
       " 'subreddit': [None, None, None, None, None, None, None, None, None, None]}"
      ]
     },
     "execution_count": 4,
     "metadata": {},
     "output_type": "execute_result"
    }
   ],
   "source": [
    "responses = load_dataset('peixian/rtGender', 'responses', split = 'train')\n",
    "print(responses)\n",
    "responses[:10]"
   ]
  },
  {
   "cell_type": "code",
   "execution_count": 5,
   "id": "1fe5caa8",
   "metadata": {},
   "outputs": [
    {
     "name": "stderr",
     "output_type": "stream",
     "text": [
      "Reusing dataset rt_gender (/home/kbaumberg/.cache/huggingface/datasets/rt_gender/annotations/1.1.0/62d8f34778a4eda10ed650d804cbb7ad4da391ac28f38034f424a2e9a7fc43d1)\n"
     ]
    },
    {
     "name": "stdout",
     "output_type": "stream",
     "text": [
      "Dataset({\n",
      "    features: ['source', 'op_gender', 'post_text', 'response_text', 'sentiment', 'relevance'],\n",
      "    num_rows: 15352\n",
      "})\n"
     ]
    },
    {
     "data": {
      "text/plain": [
       "{'source': ['facebook_wiki',\n",
       "  'facebook_wiki',\n",
       "  'facebook_wiki',\n",
       "  'facebook_wiki',\n",
       "  'facebook_wiki',\n",
       "  'facebook_wiki',\n",
       "  'facebook_wiki',\n",
       "  'facebook_wiki',\n",
       "  'facebook_wiki',\n",
       "  'facebook_wiki'],\n",
       " 'op_gender': ['W', 'M', 'W', 'M', 'W', 'M', 'W', 'W', 'W', 'W'],\n",
       " 'post_text': [\"Stopped by Fashion Week and got to hang with Amber Fillerup (Barefoot Blonde) at Lauren Conrad's runway show. Kohl's #LCRunway\",\n",
       "  \"Well guys, real progress is happening. I'm 50 pages in and the story is really starting to get under my skin. It's all tingly...\",\n",
       "  'Tonight is going to be a good night #PerfectMoment #BeautifulNight #OlympicGames #OpeningCeremony',\n",
       "  'I know grandma Gilmore is real proud of you https://t.co/oRtvR2YuQ2',\n",
       "  \"#NEWS to KNOW this AM - Mayor Emanuel will make a special address today on police accountability...The third suspect in last month's #Paris attacks has been identified...#Teachers start voting today on a possible strike.\",\n",
       "  \"What questions do you have for Alisyn Camerota? Leave them in the comments and I'll ask her a few on Monday...if she answers me.\",\n",
       "  'Into the quarters tomorrow! Won today 6-2,6-3!',\n",
       "  'Fed Cup, ITF Pro Circuit WTA Kristina Mladenovic Amlie Mauresmo Caroline Garcia, Alize Cornet, Pauline Parmentier Avec vous les filles, de tout coeur! Profitez au max de ces moments si extraordinaires, tellement particuliers et si indfinissables! With you !',\n",
       "  'Thanks everyone!! Doubles and mixed tomorrow...come on..allezzzzz!!! xx',\n",
       "  \"GOOD Night.... Go to Sleep.... God's Up and He's got it all worked out!\"],\n",
       " 'response_text': ['You are Both Sweet Ashley Tisdale and Lauren Conrad',\n",
       "  'Give us the first page to read. ONE PAGE.',\n",
       "  'this is my city was there 2 weeks a go',\n",
       "  'if grizzly Adams had a beard.',\n",
       "  'Good morning Lourdes, have a great day! Great Christmas card photo also!',\n",
       "  'Question: Would you invite me up to have a best-of-10 *free-throw challenge* on that very backstage goal: with the loser springing a lunch date Q&A session?',\n",
       "  'awesome! Keep up the good work',\n",
       "  \"Quelle belle poque. Mary tu as berc toute ma jeunesse et m'a fait rver\",\n",
       "  \"Good luck, don't over do it. Great win today!\",\n",
       "  \"Thank you. I've had a very rough couple of weeks. This put ease to my mind.\"],\n",
       " 'sentiment': ['Positive',\n",
       "  'Mixed',\n",
       "  'Neutral',\n",
       "  'Neutral',\n",
       "  'Positive',\n",
       "  'Neutral',\n",
       "  'Positive',\n",
       "  'Neutral',\n",
       "  'Positive',\n",
       "  'Positive'],\n",
       " 'relevance': ['Poster',\n",
       "  'Content',\n",
       "  'Content',\n",
       "  'Content',\n",
       "  'Irrelevant',\n",
       "  'Content',\n",
       "  'Content',\n",
       "  'Content',\n",
       "  'Content',\n",
       "  'Content']}"
      ]
     },
     "execution_count": 5,
     "metadata": {},
     "output_type": "execute_result"
    }
   ],
   "source": [
    "annotations = load_dataset('peixian/rtGender', 'annotations', split = 'train')\n",
    "print(annotations)\n",
    "annotations[:10]"
   ]
  },
  {
   "cell_type": "markdown",
   "id": "78073510",
   "metadata": {},
   "source": [
    "# RtGender Data Loading Into Tensorflow"
   ]
  },
  {
   "cell_type": "code",
   "execution_count": 6,
   "id": "465e0073",
   "metadata": {},
   "outputs": [],
   "source": [
    "# run the first time you run this notebook\n",
    "#!pip install transformers"
   ]
  },
  {
   "cell_type": "markdown",
   "id": "e5068a70",
   "metadata": {},
   "source": [
    "[Source code](https://www.kaggle.com/nkaenzig/bert-tensorflow-2-huggingface-transformers)"
   ]
  },
  {
   "cell_type": "code",
   "execution_count": 59,
   "id": "99ab69da",
   "metadata": {},
   "outputs": [
    {
     "name": "stderr",
     "output_type": "stream",
     "text": [
      "Reusing dataset rt_gender (/home/kbaumberg/.cache/huggingface/datasets/rt_gender/posts/1.1.0/62d8f34778a4eda10ed650d804cbb7ad4da391ac28f38034f424a2e9a7fc43d1)\n",
      "Reusing dataset rt_gender (/home/kbaumberg/.cache/huggingface/datasets/rt_gender/posts/1.1.0/62d8f34778a4eda10ed650d804cbb7ad4da391ac28f38034f424a2e9a7fc43d1)\n"
     ]
    }
   ],
   "source": [
    "import tensorflow as tf\n",
    "from tf import keras\n",
    "\n",
    "from datasets import load_dataset\n",
    "from transformers import AutoTokenizer\n"
   ]
  },
  {
   "cell_type": "code",
   "execution_count": 62,
   "id": "343df8e9",
   "metadata": {},
   "outputs": [
    {
     "name": "stderr",
     "output_type": "stream",
     "text": [
      "Reusing dataset rt_gender (/home/kbaumberg/.cache/huggingface/datasets/rt_gender/posts/1.1.0/62d8f34778a4eda10ed650d804cbb7ad4da391ac28f38034f424a2e9a7fc43d1)\n",
      "Loading cached processed dataset at /home/kbaumberg/.cache/huggingface/datasets/rt_gender/posts/1.1.0/62d8f34778a4eda10ed650d804cbb7ad4da391ac28f38034f424a2e9a7fc43d1/cache-375a24b39d0fd3dd.arrow\n"
     ]
    },
    {
     "data": {
      "text/plain": [
       "({'input_ids': <tf.Tensor: shape=(32, 512), dtype=int64, numpy=\n",
       "  array([[  101, 21997,   117, ...,     0,     0,     0],\n",
       "         [  101, 17303,  1132, ...,     0,     0,     0],\n",
       "         [  101,   108,   157, ...,     0,     0,     0],\n",
       "         ...,\n",
       "         [  101,  1622,  1412, ...,     0,     0,     0],\n",
       "         [  101,  3570,   117, ...,     0,     0,     0],\n",
       "         [  101, 13832, 18734, ...,     0,     0,     0]])>,\n",
       "  'token_type_ids': <tf.Tensor: shape=(32, 512), dtype=int64, numpy=\n",
       "  array([[0, 0, 0, ..., 0, 0, 0],\n",
       "         [0, 0, 0, ..., 0, 0, 0],\n",
       "         [0, 0, 0, ..., 0, 0, 0],\n",
       "         ...,\n",
       "         [0, 0, 0, ..., 0, 0, 0],\n",
       "         [0, 0, 0, ..., 0, 0, 0],\n",
       "         [0, 0, 0, ..., 0, 0, 0]])>,\n",
       "  'attention_mask': <tf.Tensor: shape=(32, 512), dtype=int64, numpy=\n",
       "  array([[1, 1, 1, ..., 0, 0, 0],\n",
       "         [1, 1, 1, ..., 0, 0, 0],\n",
       "         [1, 1, 1, ..., 0, 0, 0],\n",
       "         ...,\n",
       "         [1, 1, 1, ..., 0, 0, 0],\n",
       "         [1, 1, 1, ..., 0, 0, 0],\n",
       "         [1, 1, 1, ..., 0, 0, 0]])>},\n",
       " <tf.Tensor: shape=(32,), dtype=string, numpy=\n",
       " array([b'M', b'M', b'M', b'M', b'M', b'M', b'M', b'M', b'M', b'M', b'M',\n",
       "        b'M', b'M', b'M', b'M', b'M', b'M', b'M', b'M', b'M', b'M', b'M',\n",
       "        b'M', b'M', b'M', b'M', b'M', b'M', b'M', b'M', b'M', b'M'],\n",
       "       dtype=object)>)"
      ]
     },
     "execution_count": 62,
     "metadata": {},
     "output_type": "execute_result"
    }
   ],
   "source": [
    "response_train = load_dataset('peixian/rtGender', 'posts', split = 'train[:900]')\n",
    "tokenizer = AutoTokenizer.from_pretrained('bert-base-cased')\n",
    "dataset = response_train.map(lambda e: tokenizer(e['post_text'], truncation=True, padding='max_length'), batched=True)\n",
    "dataset.set_format(type='tensorflow', columns=['input_ids', 'token_type_ids', 'attention_mask', 'op_gender'])\n",
    "features = {x: dataset[x].to_tensor(default_value=0, shape=[None, tokenizer.model_max_length]) for x in ['input_ids', 'token_type_ids', 'attention_mask']}\n",
    "tfdataset = tf.data.Dataset.from_tensor_slices((features, dataset[\"op_gender\"])).batch(32)\n",
    "next(iter(tfdataset))"
   ]
  },
  {
   "cell_type": "code",
   "execution_count": null,
   "id": "d641b0ba",
   "metadata": {},
   "outputs": [],
   "source": [
    "response_valid = load_dataset('peixian/rtGender', 'posts', split = 'train[901:1000]')\n"
   ]
  }
 ],
 "metadata": {
  "kernelspec": {
   "display_name": "Python 3",
   "language": "python",
   "name": "python3"
  },
  "language_info": {
   "codemirror_mode": {
    "name": "ipython",
    "version": 3
   },
   "file_extension": ".py",
   "mimetype": "text/x-python",
   "name": "python",
   "nbconvert_exporter": "python",
   "pygments_lexer": "ipython3",
   "version": "3.8.8"
  }
 },
 "nbformat": 4,
 "nbformat_minor": 5
}
