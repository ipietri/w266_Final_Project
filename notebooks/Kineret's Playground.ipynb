{
 "cells": [
  {
   "cell_type": "markdown",
   "id": "046c562b",
   "metadata": {},
   "source": [
    "# Hugging Face Set Up"
   ]
  },
  {
   "cell_type": "code",
   "execution_count": 1,
   "id": "baa0a923",
   "metadata": {},
   "outputs": [
    {
     "name": "stdout",
     "output_type": "stream",
     "text": [
      "Requirement already satisfied: datasets in /home/kbaumberg/anaconda3/lib/python3.8/site-packages (1.12.0)\n",
      "Requirement already satisfied: huggingface-hub<0.1.0,>=0.0.14 in /home/kbaumberg/anaconda3/lib/python3.8/site-packages (from datasets) (0.0.16)\n",
      "Requirement already satisfied: pyarrow!=4.0.0,>=1.0.0 in /home/kbaumberg/anaconda3/lib/python3.8/site-packages (from datasets) (5.0.0)\n",
      "Requirement already satisfied: xxhash in /home/kbaumberg/anaconda3/lib/python3.8/site-packages (from datasets) (2.0.2)\n",
      "Requirement already satisfied: fsspec[http]>=2021.05.0 in /home/kbaumberg/anaconda3/lib/python3.8/site-packages (from datasets) (2021.8.1)\n",
      "Requirement already satisfied: dill in /home/kbaumberg/anaconda3/lib/python3.8/site-packages (from datasets) (0.3.4)\n",
      "Requirement already satisfied: multiprocess in /home/kbaumberg/anaconda3/lib/python3.8/site-packages (from datasets) (0.70.12.2)\n",
      "Requirement already satisfied: pandas in /home/kbaumberg/anaconda3/lib/python3.8/site-packages (from datasets) (1.2.4)\n",
      "Requirement already satisfied: requests>=2.19.0 in /home/kbaumberg/anaconda3/lib/python3.8/site-packages (from datasets) (2.25.1)\n",
      "Requirement already satisfied: aiohttp in /home/kbaumberg/anaconda3/lib/python3.8/site-packages (from datasets) (3.7.4.post0)\n",
      "Requirement already satisfied: tqdm>=4.62.1 in /home/kbaumberg/anaconda3/lib/python3.8/site-packages (from datasets) (4.62.2)\n",
      "Requirement already satisfied: packaging in /home/kbaumberg/anaconda3/lib/python3.8/site-packages (from datasets) (20.9)\n",
      "Requirement already satisfied: numpy>=1.17 in /home/kbaumberg/anaconda3/lib/python3.8/site-packages (from datasets) (1.19.5)\n",
      "Requirement already satisfied: typing-extensions in /home/kbaumberg/anaconda3/lib/python3.8/site-packages (from huggingface-hub<0.1.0,>=0.0.14->datasets) (3.7.4.3)\n",
      "Requirement already satisfied: filelock in /home/kbaumberg/anaconda3/lib/python3.8/site-packages (from huggingface-hub<0.1.0,>=0.0.14->datasets) (3.0.12)\n",
      "Requirement already satisfied: pyparsing>=2.0.2 in /home/kbaumberg/anaconda3/lib/python3.8/site-packages (from packaging->datasets) (2.4.7)\n",
      "Requirement already satisfied: urllib3<1.27,>=1.21.1 in /home/kbaumberg/anaconda3/lib/python3.8/site-packages (from requests>=2.19.0->datasets) (1.26.4)\n",
      "Requirement already satisfied: certifi>=2017.4.17 in /home/kbaumberg/anaconda3/lib/python3.8/site-packages (from requests>=2.19.0->datasets) (2020.12.5)\n",
      "Requirement already satisfied: chardet<5,>=3.0.2 in /home/kbaumberg/anaconda3/lib/python3.8/site-packages (from requests>=2.19.0->datasets) (4.0.0)\n",
      "Requirement already satisfied: idna<3,>=2.5 in /home/kbaumberg/anaconda3/lib/python3.8/site-packages (from requests>=2.19.0->datasets) (2.10)\n",
      "Requirement already satisfied: multidict<7.0,>=4.5 in /home/kbaumberg/anaconda3/lib/python3.8/site-packages (from aiohttp->datasets) (5.1.0)\n",
      "Requirement already satisfied: attrs>=17.3.0 in /home/kbaumberg/anaconda3/lib/python3.8/site-packages (from aiohttp->datasets) (20.3.0)\n",
      "Requirement already satisfied: async-timeout<4.0,>=3.0 in /home/kbaumberg/anaconda3/lib/python3.8/site-packages (from aiohttp->datasets) (3.0.1)\n",
      "Requirement already satisfied: yarl<2.0,>=1.0 in /home/kbaumberg/anaconda3/lib/python3.8/site-packages (from aiohttp->datasets) (1.6.3)\n",
      "Requirement already satisfied: python-dateutil>=2.7.3 in /home/kbaumberg/anaconda3/lib/python3.8/site-packages (from pandas->datasets) (2.8.1)\n",
      "Requirement already satisfied: pytz>=2017.3 in /home/kbaumberg/anaconda3/lib/python3.8/site-packages (from pandas->datasets) (2021.1)\n",
      "Requirement already satisfied: six>=1.5 in /home/kbaumberg/anaconda3/lib/python3.8/site-packages (from python-dateutil>=2.7.3->pandas->datasets) (1.15.0)\n"
     ]
    }
   ],
   "source": [
    "!pip install datasets\n"
   ]
  },
  {
   "cell_type": "code",
   "execution_count": 2,
   "id": "68881528",
   "metadata": {},
   "outputs": [
    {
     "name": "stdout",
     "output_type": "stream",
     "text": [
      "Reusing dataset squad (/home/kbaumberg/.cache/huggingface/datasets/squad/plain_text/1.0.0/d6ec3ceb99ca480ce37cdd35555d6cb2511d223b9150cce08a837ef62ffea453)\n",
      "{'id': '5733be284776f41900661182', 'title': 'University_of_Notre_Dame', 'context': 'Architecturally, the school has a Catholic character. Atop the Main Building\\'s gold dome is a golden statue of the Virgin Mary. Immediately in front of the Main Building and facing it, is a copper statue of Christ with arms upraised with the legend \"Venite Ad Me Omnes\". Next to the Main Building is the Basilica of the Sacred Heart. Immediately behind the basilica is the Grotto, a Marian place of prayer and reflection. It is a replica of the grotto at Lourdes, France where the Virgin Mary reputedly appeared to Saint Bernadette Soubirous in 1858. At the end of the main drive (and in a direct line that connects through 3 statues and the Gold Dome), is a simple, modern stone statue of Mary.', 'question': 'To whom did the Virgin Mary allegedly appear in 1858 in Lourdes France?', 'answers': {'text': ['Saint Bernadette Soubirous'], 'answer_start': [515]}}\n"
     ]
    }
   ],
   "source": [
    "!python -c \"from datasets import load_dataset; print(load_dataset('squad', split='train')[0])\"\n"
   ]
  },
  {
   "cell_type": "code",
   "execution_count": 3,
   "id": "47deaca4",
   "metadata": {},
   "outputs": [
    {
     "name": "stdout",
     "output_type": "stream",
     "text": [
      "fatal: destination path 'datasets' already exists and is not an empty directory.\r\n"
     ]
    }
   ],
   "source": [
    "!git clone https://github.com/huggingface/datasets.git"
   ]
  },
  {
   "cell_type": "code",
   "execution_count": 12,
   "id": "62318641",
   "metadata": {},
   "outputs": [
    {
     "name": "stdout",
     "output_type": "stream",
     "text": [
      " EDA.ipynb  \"Kineret's Playground.ipynb\"   datasets\r\n"
     ]
    }
   ],
   "source": [
    "!cd datasets | ls"
   ]
  },
  {
   "cell_type": "code",
   "execution_count": 13,
   "id": "0a28e487",
   "metadata": {},
   "outputs": [
    {
     "name": "stdout",
     "output_type": "stream",
     "text": [
      "Obtaining file:///home/kbaumberg/final_project/w266_Final_Project/notebooks/datasets\n",
      "Requirement already satisfied: numpy>=1.17 in /home/kbaumberg/anaconda3/lib/python3.8/site-packages (from datasets==1.12.1.dev0) (1.19.5)\n",
      "Requirement already satisfied: pyarrow!=4.0.0,>=1.0.0 in /home/kbaumberg/anaconda3/lib/python3.8/site-packages (from datasets==1.12.1.dev0) (5.0.0)\n",
      "Requirement already satisfied: dill in /home/kbaumberg/anaconda3/lib/python3.8/site-packages (from datasets==1.12.1.dev0) (0.3.4)\n",
      "Requirement already satisfied: pandas in /home/kbaumberg/anaconda3/lib/python3.8/site-packages (from datasets==1.12.1.dev0) (1.2.4)\n",
      "Requirement already satisfied: requests>=2.19.0 in /home/kbaumberg/anaconda3/lib/python3.8/site-packages (from datasets==1.12.1.dev0) (2.25.1)\n",
      "Requirement already satisfied: tqdm>=4.62.1 in /home/kbaumberg/anaconda3/lib/python3.8/site-packages (from datasets==1.12.1.dev0) (4.62.2)\n",
      "Requirement already satisfied: xxhash in /home/kbaumberg/anaconda3/lib/python3.8/site-packages (from datasets==1.12.1.dev0) (2.0.2)\n",
      "Requirement already satisfied: multiprocess in /home/kbaumberg/anaconda3/lib/python3.8/site-packages (from datasets==1.12.1.dev0) (0.70.12.2)\n",
      "Requirement already satisfied: fsspec[http]>=2021.05.0 in /home/kbaumberg/anaconda3/lib/python3.8/site-packages (from datasets==1.12.1.dev0) (2021.8.1)\n",
      "Requirement already satisfied: aiohttp in /home/kbaumberg/anaconda3/lib/python3.8/site-packages (from datasets==1.12.1.dev0) (3.7.4.post0)\n",
      "Requirement already satisfied: huggingface_hub<0.1.0,>=0.0.14 in /home/kbaumberg/anaconda3/lib/python3.8/site-packages (from datasets==1.12.1.dev0) (0.0.16)\n",
      "Requirement already satisfied: packaging in /home/kbaumberg/anaconda3/lib/python3.8/site-packages (from datasets==1.12.1.dev0) (20.9)\n",
      "Requirement already satisfied: typing-extensions in /home/kbaumberg/anaconda3/lib/python3.8/site-packages (from huggingface_hub<0.1.0,>=0.0.14->datasets==1.12.1.dev0) (3.7.4.3)\n",
      "Requirement already satisfied: filelock in /home/kbaumberg/anaconda3/lib/python3.8/site-packages (from huggingface_hub<0.1.0,>=0.0.14->datasets==1.12.1.dev0) (3.0.12)\n",
      "Requirement already satisfied: pyparsing>=2.0.2 in /home/kbaumberg/anaconda3/lib/python3.8/site-packages (from packaging->datasets==1.12.1.dev0) (2.4.7)\n",
      "Requirement already satisfied: idna<3,>=2.5 in /home/kbaumberg/anaconda3/lib/python3.8/site-packages (from requests>=2.19.0->datasets==1.12.1.dev0) (2.10)\n",
      "Requirement already satisfied: certifi>=2017.4.17 in /home/kbaumberg/anaconda3/lib/python3.8/site-packages (from requests>=2.19.0->datasets==1.12.1.dev0) (2020.12.5)\n",
      "Requirement already satisfied: chardet<5,>=3.0.2 in /home/kbaumberg/anaconda3/lib/python3.8/site-packages (from requests>=2.19.0->datasets==1.12.1.dev0) (4.0.0)\n",
      "Requirement already satisfied: urllib3<1.27,>=1.21.1 in /home/kbaumberg/anaconda3/lib/python3.8/site-packages (from requests>=2.19.0->datasets==1.12.1.dev0) (1.26.4)\n",
      "Requirement already satisfied: attrs>=17.3.0 in /home/kbaumberg/anaconda3/lib/python3.8/site-packages (from aiohttp->datasets==1.12.1.dev0) (20.3.0)\n",
      "Requirement already satisfied: yarl<2.0,>=1.0 in /home/kbaumberg/anaconda3/lib/python3.8/site-packages (from aiohttp->datasets==1.12.1.dev0) (1.6.3)\n",
      "Requirement already satisfied: async-timeout<4.0,>=3.0 in /home/kbaumberg/anaconda3/lib/python3.8/site-packages (from aiohttp->datasets==1.12.1.dev0) (3.0.1)\n",
      "Requirement already satisfied: multidict<7.0,>=4.5 in /home/kbaumberg/anaconda3/lib/python3.8/site-packages (from aiohttp->datasets==1.12.1.dev0) (5.1.0)\n",
      "Requirement already satisfied: python-dateutil>=2.7.3 in /home/kbaumberg/anaconda3/lib/python3.8/site-packages (from pandas->datasets==1.12.1.dev0) (2.8.1)\n",
      "Requirement already satisfied: pytz>=2017.3 in /home/kbaumberg/anaconda3/lib/python3.8/site-packages (from pandas->datasets==1.12.1.dev0) (2021.1)\n",
      "Requirement already satisfied: six>=1.5 in /home/kbaumberg/anaconda3/lib/python3.8/site-packages (from python-dateutil>=2.7.3->pandas->datasets==1.12.1.dev0) (1.15.0)\n",
      "Installing collected packages: datasets\n",
      "  Attempting uninstall: datasets\n",
      "    Found existing installation: datasets 1.12.0\n",
      "    Uninstalling datasets-1.12.0:\n",
      "      Successfully uninstalled datasets-1.12.0\n",
      "  Running setup.py develop for datasets\n",
      "Successfully installed datasets-1.12.1.dev0\n"
     ]
    }
   ],
   "source": [
    "!pip install -e datasets/\n"
   ]
  },
  {
   "cell_type": "code",
   "execution_count": 14,
   "id": "3b4b685b",
   "metadata": {},
   "outputs": [
    {
     "name": "stdout",
     "output_type": "stream",
     "text": [
      "Downloading: 5.27kB [00:00, 3.38MB/s]                                           \n",
      "Downloading: 2.36kB [00:00, 1.59MB/s]                                           \n",
      "Reusing dataset squad (/home/kbaumberg/.cache/huggingface/datasets/squad/plain_text/1.0.0/d6ec3ceb99ca480ce37cdd35555d6cb2511d223b9150cce08a837ef62ffea453)\n",
      "{'id': '5733be284776f41900661182', 'title': 'University_of_Notre_Dame', 'context': 'Architecturally, the school has a Catholic character. Atop the Main Building\\'s gold dome is a golden statue of the Virgin Mary. Immediately in front of the Main Building and facing it, is a copper statue of Christ with arms upraised with the legend \"Venite Ad Me Omnes\". Next to the Main Building is the Basilica of the Sacred Heart. Immediately behind the basilica is the Grotto, a Marian place of prayer and reflection. It is a replica of the grotto at Lourdes, France where the Virgin Mary reputedly appeared to Saint Bernadette Soubirous in 1858. At the end of the main drive (and in a direct line that connects through 3 statues and the Gold Dome), is a simple, modern stone statue of Mary.', 'question': 'To whom did the Virgin Mary allegedly appear in 1858 in Lourdes France?', 'answers': {'text': ['Saint Bernadette Soubirous'], 'answer_start': [515]}}\n"
     ]
    }
   ],
   "source": [
    "!python -c \"from datasets import load_dataset; print(load_dataset('squad', split='train')[0])\"\n"
   ]
  },
  {
   "cell_type": "markdown",
   "id": "21a5bd0d",
   "metadata": {},
   "source": [
    "# Load Data from Hugging Face\n",
    "[config info](https://huggingface.co/datasets/peixian/rtGender/blob/main/rtGender.py)"
   ]
  },
  {
   "cell_type": "code",
   "execution_count": 3,
   "id": "419d5c07",
   "metadata": {},
   "outputs": [
    {
     "name": "stdout",
     "output_type": "stream",
     "text": [
      "['annotations', 'posts', 'responses']\n"
     ]
    }
   ],
   "source": [
    "from datasets import get_dataset_config_names\n",
    "\n",
    "configs = get_dataset_config_names('peixian/rtGender')\n",
    "print(configs)"
   ]
  },
  {
   "cell_type": "code",
   "execution_count": 13,
   "id": "c2027792",
   "metadata": {},
   "outputs": [
    {
     "name": "stderr",
     "output_type": "stream",
     "text": [
      "Reusing dataset rt_gender (/home/kbaumberg/.cache/huggingface/datasets/rt_gender/posts/1.1.0/62d8f34778a4eda10ed650d804cbb7ad4da391ac28f38034f424a2e9a7fc43d1)\n"
     ]
    },
    {
     "name": "stdout",
     "output_type": "stream",
     "text": [
      "Dataset({\n",
      "    features: ['source', 'op_id', 'op_gender', 'post_id', 'post_text', 'post_type', 'subreddit', 'op_gender_visible'],\n",
      "    num_rows: 2469836\n",
      "})\n"
     ]
    },
    {
     "data": {
      "text/plain": [
       "{'source': '/home/kbaumberg/.cache/huggingface/datasets/downloads/extracted/2a2b549303f3c7cbf8b1989705b31377e104d11b1a2af73c46c2c726e0b54b3a/facebook_congress_posts',\n",
       " 'op_id': '57265377',\n",
       " 'op_gender': 'M',\n",
       " 'post_id': '0000000',\n",
       " 'post_text': \"Yesterday, my colleagues and I voted to protect state's rights and the rights of our unborn children by overturning Obama's HHS rule. I pledge to always protect the sanctity of life. https://goo.gl/N8kd99\",\n",
       " 'post_type': 'video',\n",
       " 'subreddit': None,\n",
       " 'op_gender_visible': None}"
      ]
     },
     "execution_count": 13,
     "metadata": {},
     "output_type": "execute_result"
    }
   ],
   "source": [
    "from datasets import load_dataset\n",
    "posts = load_dataset('peixian/rtGender', 'posts', split = 'train')\n",
    "print(posts)\n",
    "posts[0]"
   ]
  },
  {
   "cell_type": "code",
   "execution_count": 14,
   "id": "ca71d797",
   "metadata": {},
   "outputs": [
    {
     "name": "stdout",
     "output_type": "stream",
     "text": [
      "Downloading and preparing dataset rt_gender/responses to /home/kbaumberg/.cache/huggingface/datasets/rt_gender/responses/1.1.0/62d8f34778a4eda10ed650d804cbb7ad4da391ac28f38034f424a2e9a7fc43d1...\n"
     ]
    },
    {
     "data": {
      "application/vnd.jupyter.widget-view+json": {
       "model_id": "",
       "version_major": 2,
       "version_minor": 0
      },
      "text/plain": [
       "0 examples [00:00, ? examples/s]"
      ]
     },
     "metadata": {},
     "output_type": "display_data"
    },
    {
     "name": "stdout",
     "output_type": "stream",
     "text": [
      "Dataset rt_gender downloaded and prepared to /home/kbaumberg/.cache/huggingface/datasets/rt_gender/responses/1.1.0/62d8f34778a4eda10ed650d804cbb7ad4da391ac28f38034f424a2e9a7fc43d1. Subsequent calls will reuse this data.\n",
      "Dataset({\n",
      "    features: ['source', 'op_id', 'op_gender', 'post_id', 'responder_id', 'response_text', 'op_name', 'op_category', 'responder_gender', 'responder_gender_visible', 'subreddit'],\n",
      "    num_rows: 26496468\n",
      "})\n"
     ]
    },
    {
     "data": {
      "text/plain": [
       "{'source': ['/home/kbaumberg/.cache/huggingface/datasets/downloads/extracted/2a2b549303f3c7cbf8b1989705b31377e104d11b1a2af73c46c2c726e0b54b3a/facebook_congress_responses',\n",
       "  '/home/kbaumberg/.cache/huggingface/datasets/downloads/extracted/2a2b549303f3c7cbf8b1989705b31377e104d11b1a2af73c46c2c726e0b54b3a/facebook_congress_responses',\n",
       "  '/home/kbaumberg/.cache/huggingface/datasets/downloads/extracted/2a2b549303f3c7cbf8b1989705b31377e104d11b1a2af73c46c2c726e0b54b3a/facebook_congress_responses',\n",
       "  '/home/kbaumberg/.cache/huggingface/datasets/downloads/extracted/2a2b549303f3c7cbf8b1989705b31377e104d11b1a2af73c46c2c726e0b54b3a/facebook_congress_responses',\n",
       "  '/home/kbaumberg/.cache/huggingface/datasets/downloads/extracted/2a2b549303f3c7cbf8b1989705b31377e104d11b1a2af73c46c2c726e0b54b3a/facebook_congress_responses',\n",
       "  '/home/kbaumberg/.cache/huggingface/datasets/downloads/extracted/2a2b549303f3c7cbf8b1989705b31377e104d11b1a2af73c46c2c726e0b54b3a/facebook_congress_responses',\n",
       "  '/home/kbaumberg/.cache/huggingface/datasets/downloads/extracted/2a2b549303f3c7cbf8b1989705b31377e104d11b1a2af73c46c2c726e0b54b3a/facebook_congress_responses',\n",
       "  '/home/kbaumberg/.cache/huggingface/datasets/downloads/extracted/2a2b549303f3c7cbf8b1989705b31377e104d11b1a2af73c46c2c726e0b54b3a/facebook_congress_responses',\n",
       "  '/home/kbaumberg/.cache/huggingface/datasets/downloads/extracted/2a2b549303f3c7cbf8b1989705b31377e104d11b1a2af73c46c2c726e0b54b3a/facebook_congress_responses',\n",
       "  '/home/kbaumberg/.cache/huggingface/datasets/downloads/extracted/2a2b549303f3c7cbf8b1989705b31377e104d11b1a2af73c46c2c726e0b54b3a/facebook_congress_responses'],\n",
       " 'op_id': ['57265377',\n",
       "  '57265377',\n",
       "  '57265377',\n",
       "  '57265377',\n",
       "  '57265377',\n",
       "  '57265377',\n",
       "  '57265377',\n",
       "  '57265377',\n",
       "  '57265377',\n",
       "  '57265377'],\n",
       " 'op_gender': ['M', 'M', 'M', 'M', 'M', 'M', 'M', 'M', 'M', 'M'],\n",
       " 'post_id': ['0000000',\n",
       "  '0000000',\n",
       "  '0000000',\n",
       "  '0000000',\n",
       "  '0000000',\n",
       "  '0000000',\n",
       "  '0000000',\n",
       "  '0000000',\n",
       "  '0000000',\n",
       "  '0000000'],\n",
       " 'responder_id': ['Jerry',\n",
       "  'Andrea',\n",
       "  'Sherry',\n",
       "  'Bob',\n",
       "  'Joy',\n",
       "  'Candice',\n",
       "  'Cheri',\n",
       "  'Julie',\n",
       "  'Stephen',\n",
       "  'Tony'],\n",
       " 'response_text': ['Protecting birth is not the same as protecting life. You may very well pledge to the former but you fail miserably at the latter.',\n",
       "  'You need to protect children and leave my body to me.',\n",
       "  'Thank you',\n",
       "  'Thank you Roger',\n",
       "  'Unwanted pregnancy is a sad and unfortunate situation for anyone to find themselves in, however, the rights of a breathing human being capable of surviving without life support should take precedence over that of a potential life.',\n",
       "  'Women, the \"hosts\" of the unborn babies you\\'re so supportive of, need access to Healthcare to give birth to healthy babies. Texas has maternal mortality rate on par to developing nations. How does this help? Or do you not care?',\n",
       "  'I am Pro Choice and always will be',\n",
       "  'Thank you for taking a stand!!!!',\n",
       "  \"I seem to disagree with you again Mr.Williams. Woman have a right to determine what happens to the own bodies. Women's rights are more important than States rights.\",\n",
       "  'Please demonstrate your support by providing pre- and post-natal care to these babies and their moms.'],\n",
       " 'op_name': ['Roger Williams',\n",
       "  'Roger Williams',\n",
       "  'Roger Williams',\n",
       "  'Roger Williams',\n",
       "  'Roger Williams',\n",
       "  'Roger Williams',\n",
       "  'Roger Williams',\n",
       "  'Roger Williams',\n",
       "  'Roger Williams',\n",
       "  'Roger Williams'],\n",
       " 'op_category': ['Congress_Republican',\n",
       "  'Congress_Republican',\n",
       "  'Congress_Republican',\n",
       "  'Congress_Republican',\n",
       "  'Congress_Republican',\n",
       "  'Congress_Republican',\n",
       "  'Congress_Republican',\n",
       "  'Congress_Republican',\n",
       "  'Congress_Republican',\n",
       "  'Congress_Republican'],\n",
       " 'responder_gender': [None,\n",
       "  None,\n",
       "  None,\n",
       "  None,\n",
       "  None,\n",
       "  None,\n",
       "  None,\n",
       "  None,\n",
       "  None,\n",
       "  None],\n",
       " 'responder_gender_visible': [None,\n",
       "  None,\n",
       "  None,\n",
       "  None,\n",
       "  None,\n",
       "  None,\n",
       "  None,\n",
       "  None,\n",
       "  None,\n",
       "  None],\n",
       " 'subreddit': [None, None, None, None, None, None, None, None, None, None]}"
      ]
     },
     "execution_count": 14,
     "metadata": {},
     "output_type": "execute_result"
    }
   ],
   "source": [
    "responses = load_dataset('peixian/rtGender', 'responses', split = 'train')\n",
    "print(responses)\n",
    "responses[:10]"
   ]
  },
  {
   "cell_type": "code",
   "execution_count": 15,
   "id": "c0001f70",
   "metadata": {},
   "outputs": [
    {
     "name": "stderr",
     "output_type": "stream",
     "text": [
      "Reusing dataset rt_gender (/home/kbaumberg/.cache/huggingface/datasets/rt_gender/annotations/1.1.0/62d8f34778a4eda10ed650d804cbb7ad4da391ac28f38034f424a2e9a7fc43d1)\n"
     ]
    },
    {
     "name": "stdout",
     "output_type": "stream",
     "text": [
      "Dataset({\n",
      "    features: ['source', 'op_gender', 'post_text', 'response_text', 'sentiment', 'relevance'],\n",
      "    num_rows: 15352\n",
      "})\n"
     ]
    },
    {
     "data": {
      "text/plain": [
       "{'source': ['facebook_wiki',\n",
       "  'facebook_wiki',\n",
       "  'facebook_wiki',\n",
       "  'facebook_wiki',\n",
       "  'facebook_wiki',\n",
       "  'facebook_wiki',\n",
       "  'facebook_wiki',\n",
       "  'facebook_wiki',\n",
       "  'facebook_wiki',\n",
       "  'facebook_wiki'],\n",
       " 'op_gender': ['W', 'M', 'W', 'M', 'W', 'M', 'W', 'W', 'W', 'W'],\n",
       " 'post_text': [\"Stopped by Fashion Week and got to hang with Amber Fillerup (Barefoot Blonde) at Lauren Conrad's runway show. Kohl's #LCRunway\",\n",
       "  \"Well guys, real progress is happening. I'm 50 pages in and the story is really starting to get under my skin. It's all tingly...\",\n",
       "  'Tonight is going to be a good night #PerfectMoment #BeautifulNight #OlympicGames #OpeningCeremony',\n",
       "  'I know grandma Gilmore is real proud of you https://t.co/oRtvR2YuQ2',\n",
       "  \"#NEWS to KNOW this AM - Mayor Emanuel will make a special address today on police accountability...The third suspect in last month's #Paris attacks has been identified...#Teachers start voting today on a possible strike.\",\n",
       "  \"What questions do you have for Alisyn Camerota? Leave them in the comments and I'll ask her a few on Monday...if she answers me.\",\n",
       "  'Into the quarters tomorrow! Won today 6-2,6-3!',\n",
       "  'Fed Cup, ITF Pro Circuit WTA Kristina Mladenovic Amlie Mauresmo Caroline Garcia, Alize Cornet, Pauline Parmentier Avec vous les filles, de tout coeur! Profitez au max de ces moments si extraordinaires, tellement particuliers et si indfinissables! With you !',\n",
       "  'Thanks everyone!! Doubles and mixed tomorrow...come on..allezzzzz!!! xx',\n",
       "  \"GOOD Night.... Go to Sleep.... God's Up and He's got it all worked out!\"],\n",
       " 'response_text': ['You are Both Sweet Ashley Tisdale and Lauren Conrad',\n",
       "  'Give us the first page to read. ONE PAGE.',\n",
       "  'this is my city was there 2 weeks a go',\n",
       "  'if grizzly Adams had a beard.',\n",
       "  'Good morning Lourdes, have a great day! Great Christmas card photo also!',\n",
       "  'Question: Would you invite me up to have a best-of-10 *free-throw challenge* on that very backstage goal: with the loser springing a lunch date Q&A session?',\n",
       "  'awesome! Keep up the good work',\n",
       "  \"Quelle belle poque. Mary tu as berc toute ma jeunesse et m'a fait rver\",\n",
       "  \"Good luck, don't over do it. Great win today!\",\n",
       "  \"Thank you. I've had a very rough couple of weeks. This put ease to my mind.\"],\n",
       " 'sentiment': ['Positive',\n",
       "  'Mixed',\n",
       "  'Neutral',\n",
       "  'Neutral',\n",
       "  'Positive',\n",
       "  'Neutral',\n",
       "  'Positive',\n",
       "  'Neutral',\n",
       "  'Positive',\n",
       "  'Positive'],\n",
       " 'relevance': ['Poster',\n",
       "  'Content',\n",
       "  'Content',\n",
       "  'Content',\n",
       "  'Irrelevant',\n",
       "  'Content',\n",
       "  'Content',\n",
       "  'Content',\n",
       "  'Content',\n",
       "  'Content']}"
      ]
     },
     "execution_count": 15,
     "metadata": {},
     "output_type": "execute_result"
    }
   ],
   "source": [
    "annotations = load_dataset('peixian/rtGender', 'annotations', split = 'train')\n",
    "print(annotations)\n",
    "annotations[:10]"
   ]
  },
  {
   "cell_type": "code",
   "execution_count": null,
   "id": "86607a03",
   "metadata": {},
   "outputs": [],
   "source": []
  }
 ],
 "metadata": {
  "kernelspec": {
   "display_name": "Python 3",
   "language": "python",
   "name": "python3"
  },
  "language_info": {
   "codemirror_mode": {
    "name": "ipython",
    "version": 3
   },
   "file_extension": ".py",
   "mimetype": "text/x-python",
   "name": "python",
   "nbconvert_exporter": "python",
   "pygments_lexer": "ipython3",
   "version": "3.8.8"
  }
 },
 "nbformat": 4,
 "nbformat_minor": 5
}
