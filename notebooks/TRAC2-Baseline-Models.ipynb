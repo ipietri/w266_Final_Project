{
 "cells": [
  {
   "cell_type": "markdown",
   "id": "612fbd9e",
   "metadata": {},
   "source": [
    "# Final Project"
   ]
  },
  {
   "cell_type": "markdown",
   "id": "f7d02199",
   "metadata": {},
   "source": [
    "## TRAC2- Baseline Models"
   ]
  },
  {
   "cell_type": "markdown",
   "id": "c61e9297",
   "metadata": {},
   "source": [
    "## Package imports"
   ]
  },
  {
   "cell_type": "code",
   "execution_count": 1,
   "id": "c74ed95b",
   "metadata": {},
   "outputs": [],
   "source": [
    "import os\n",
    "\n",
    "import pandas as pd\n",
    "import numpy as np\n",
    "import matplotlib.pyplot as plt\n",
    "# This tells matplotlib not to try opening a new window for each plot.\n",
    "%matplotlib inline\n",
    "\n",
    "import tensorflow as tf\n",
    "from keras.preprocessing.text import Tokenizer\n",
    "from tensorflow.keras.layers import Embedding, Input, Dense, Lambda, Dropout\n",
    "from keras.models import Sequential\n",
    "from keras.preprocessing.sequence import pad_sequences\n",
    "from tensorflow.keras.layers import TextVectorization\n",
    "import tensorflow.keras.backend as K\n",
    "# for hyperparameter tunning\n",
    "from keras_tuner import HyperModel\n",
    "import keras_tuner as kt\n",
    "# import sklearn to calculate the metrics\n",
    "from sklearn import metrics\n",
    "\n",
    "from sklearn.preprocessing import LabelBinarizer, LabelEncoder, label_binarize\n",
    "\n",
    "from string import ascii_uppercase"
   ]
  },
  {
   "cell_type": "code",
   "execution_count": 2,
   "id": "b769dee7",
   "metadata": {},
   "outputs": [
    {
     "name": "stdout",
     "output_type": "stream",
     "text": [
      "2.6.0\n"
     ]
    }
   ],
   "source": [
    "print(tf.__version__)"
   ]
  },
  {
   "cell_type": "markdown",
   "id": "c41cd519",
   "metadata": {},
   "source": [
    "## Load data\n",
    "Load training, development and test datasets."
   ]
  },
  {
   "cell_type": "code",
   "execution_count": 3,
   "id": "d2c353e1",
   "metadata": {},
   "outputs": [],
   "source": [
    "# Load aggressiveness dataset\n",
    "train_data = pd.read_csv('../../data/release-files/eng/trac2_eng_train.csv')\n",
    "dev_data = pd.read_csv('../../data/release-files/eng/trac2_eng_dev.csv')\n",
    "\n",
    "# test data data and labels is in separate files, potentially desorganized\n",
    "test_data = pd.read_csv('../../data/release-files/test/trac2_eng_test.csv')\n",
    "test_labels_a = pd.read_csv('../../data/release-files/gold/trac2_eng_gold_a.csv')\n",
    "test_labels_b = pd.read_csv('../../data/release-files/gold/trac2_eng_gold_b.csv')"
   ]
  },
  {
   "cell_type": "markdown",
   "id": "f7f70036",
   "metadata": {},
   "source": [
    "## Helper functions"
   ]
  },
  {
   "cell_type": "code",
   "execution_count": 4,
   "id": "068a8245",
   "metadata": {},
   "outputs": [],
   "source": [
    "def from_prob_to_labels(model, x, task):\n",
    "    '''\n",
    "    Returns labels based on predicted probability on labels [CAG,NAG,OAG] for task A. Task B is binary, and 'GEN' represents \n",
    "    the positive class.\n",
    "    Parameters:\n",
    "    model: trained model\n",
    "    x: input data\n",
    "    task: either 'A' or 'B'\n",
    "    '''\n",
    "    pred = model.predict(x)\n",
    "    \n",
    "    index_a = {0:'CAG', 1:'NAG', 2:'OAG'}\n",
    "    \n",
    "    if task == 'A':\n",
    "        highest_prob_class = np.argmax(pred, axis=1)\n",
    "        labels = np.vectorize(index_a.get)(highest_prob_class.astype(int))\n",
    "        \n",
    "    elif task == 'B':\n",
    "        labels = np.where(pred <0.5, 'NGEN', 'GEN')\n",
    "    else:\n",
    "        labels = []\n",
    "        \n",
    "    return labels    "
   ]
  },
  {
   "cell_type": "code",
   "execution_count": 5,
   "id": "8db67fab",
   "metadata": {},
   "outputs": [],
   "source": [
    "def to_binary_labels(string_labels, classes_list):\n",
    "    '''\n",
    "    Returns an array with 0 and 1 for a binary classification problem.\n",
    "    Parameters:\n",
    "    string_labels: array with 2 categories defined as strings e.g. ['cat', 'dog', 'dog', ...] \n",
    "    classes_list: array with the two classes. The order of the array defines which gets 0 and which gets 1. The first\n",
    "                  gets 0.\n",
    "    '''\n",
    "\n",
    "    labels = label_binarize(string_labels, classes = classes_list).flatten()\n",
    "    \n",
    "    return labels "
   ]
  },
  {
   "cell_type": "code",
   "execution_count": 6,
   "id": "f0ca1930",
   "metadata": {},
   "outputs": [],
   "source": [
    "def to_one_hot_labels(string_labels):\n",
    "    '''\n",
    "    Returns one-hot encoded labels from a multi-class label vector e.g. ['cat', 'dog', 'dog', 'lion', 'cat', ...] \n",
    "    Parameters:\n",
    "    string_labels: \n",
    "    '''\n",
    "    labels = pd.get_dummies(string_labels)\n",
    "    labels = labels.to_numpy()\n",
    "    \n",
    "    return labels"
   ]
  },
  {
   "cell_type": "code",
   "execution_count": 7,
   "id": "d5e1722e",
   "metadata": {},
   "outputs": [],
   "source": [
    "def confusion_matrix_plot(model, input_data, true_labels, task, normalize=None):\n",
    "    '''\n",
    "    Returns a confusion matrix with a nice format.\n",
    "    Parameters:\n",
    "    model: trained model\n",
    "    input data: data we want to use to evaluate the model\n",
    "    true_labels: true labels \n",
    "    task: 'A' or 'B'\n",
    "    normalize: if want to normalize the confusion matrix normalize='true'\n",
    "    '''\n",
    "    \n",
    "    # get predicted labels\n",
    "    pred_labels = from_prob_to_labels(model, input_data, task)\n",
    "    \n",
    "    # Create a confusion matrix\n",
    "    cm = metrics.confusion_matrix(true_labels, pred_labels, normalize=normalize)\n",
    "    cm = np.around(cm, 2)\n",
    "\n",
    "    # Plot the confusion matrix\n",
    "    if task == 'A':\n",
    "        axis_labels = ['CAG', 'NAG', 'OAG']\n",
    "    elif task == 'B':\n",
    "        axis_labels = ['GEN', 'NGEN']\n",
    "\n",
    "    fig, ax = plt.subplots(figsize=(4,4))\n",
    "    im = ax.imshow(cm, cmap=\"Blues\")\n",
    "\n",
    "    # Create the ticks and labels\n",
    "    ax.set_xticks(np.arange(len(axis_labels)))\n",
    "    ax.set_yticks(np.arange(len(axis_labels)))\n",
    "    ax.set_xticklabels(axis_labels)\n",
    "    ax.set_yticklabels(axis_labels)\n",
    "\n",
    "    # Axis titles\n",
    "    plt.ylabel('True label', size=12)\n",
    "    plt.xlabel('Predicted label', size=12)\n",
    "\n",
    "    # Loop over data dimensions and create text annotations.\n",
    "    for i in range(len(axis_labels)):\n",
    "        for j in range(len(axis_labels)):\n",
    "            text = ax.text(j, i, cm[i, j],ha=\"center\", va=\"center\", color=\"dimgrey\", size=12)\n",
    "    \n",
    "    ax.set_title(\"Confusion Matrix\", size=16, weight=\"bold\")\n",
    "    fig.tight_layout()\n",
    "    plt.show()\n"
   ]
  },
  {
   "cell_type": "markdown",
   "id": "be332e97",
   "metadata": {},
   "source": [
    "## Baseline model for aggression identification (sub task A)"
   ]
  },
  {
   "cell_type": "markdown",
   "id": "ae845ddc",
   "metadata": {},
   "source": [
    "### Baseline: Neural Bag of Words Model\n",
    "\n",
    "Our baseline model is a bag of words model..."
   ]
  },
  {
   "cell_type": "code",
   "execution_count": 8,
   "id": "9a7038fe",
   "metadata": {},
   "outputs": [],
   "source": [
    "# create arrays of text examples for train, development and test data\n",
    "train_text = np.array(train_data['Text'])\n",
    "dev_text = np.array(dev_data['Text'])\n",
    "test_text = np.array(test_data['Text'])"
   ]
  },
  {
   "cell_type": "code",
   "execution_count": 9,
   "id": "ba8a4940",
   "metadata": {},
   "outputs": [],
   "source": [
    "# create arrays of labels for train, development and test data\n",
    "train_labels = np.array(train_data['Sub-task A'])\n",
    "dev_labels = np.array(dev_data['Sub-task A'])\n",
    "test_labels = np.array(test_labels_a['Sub-task A'])"
   ]
  },
  {
   "cell_type": "code",
   "execution_count": 10,
   "id": "afbb0002",
   "metadata": {},
   "outputs": [],
   "source": [
    "# load pre-trained word embeddings. In this case Glove\n",
    "# This is commented out to avoid downloading it again\n",
    "# !wget http://nlp.stanford.edu/data/glove.6B.zip -P ~/data/"
   ]
  },
  {
   "cell_type": "code",
   "execution_count": 11,
   "id": "459a3227",
   "metadata": {},
   "outputs": [],
   "source": [
    "# unzip the file\n",
    "# commented out for the same reason above\n",
    "# !unzip ~/data/glove.6B.zip -d ~/data/"
   ]
  },
  {
   "cell_type": "code",
   "execution_count": 12,
   "id": "5d3a2e19",
   "metadata": {},
   "outputs": [],
   "source": [
    "# path to glove file- will use the embeddings with dimension = 300\n",
    "glove_file =\"../../data/glove.6B.300d.txt\""
   ]
  },
  {
   "cell_type": "code",
   "execution_count": 13,
   "id": "ec0ee1eb",
   "metadata": {},
   "outputs": [
    {
     "data": {
      "text/plain": [
       "array([[0, 1, 0],\n",
       "       [0, 1, 0],\n",
       "       [0, 1, 0],\n",
       "       ...,\n",
       "       [1, 0, 0],\n",
       "       [0, 1, 0],\n",
       "       [0, 1, 0]], dtype=uint8)"
      ]
     },
     "execution_count": 13,
     "metadata": {},
     "output_type": "execute_result"
    }
   ],
   "source": [
    "# encode the labels (one-hot encode them) as keras requires\n",
    "# [CAG,NAG,OAG]\n",
    "train_labels_enc = to_one_hot_labels(train_labels)\n",
    "train_labels_enc"
   ]
  },
  {
   "cell_type": "code",
   "execution_count": 14,
   "id": "89f8d28c",
   "metadata": {},
   "outputs": [],
   "source": [
    "# encode the labels for the development and test datasets\n",
    "dev_labels_enc = to_one_hot_labels(dev_labels)\n",
    "test_labels_enc = to_one_hot_labels(test_labels)"
   ]
  },
  {
   "cell_type": "code",
   "execution_count": 15,
   "id": "c36aad28",
   "metadata": {},
   "outputs": [
    {
     "name": "stderr",
     "output_type": "stream",
     "text": [
      "2021-09-19 18:34:02.084399: I tensorflow/core/common_runtime/process_util.cc:146] Creating new thread pool with default inter op setting: 2. Tune using inter_op_parallelism_threads for best performance.\n"
     ]
    }
   ],
   "source": [
    "# create a vocabulary index \n",
    "# consider this maximum number of words- Played with larger vocab sizes, but 10,000 is enough.\n",
    "max_tokens = 10000\n",
    "# truncate or pad sequences to be this long\n",
    "max_sequence_lenght = 100\n",
    "\n",
    "vectorizer = TextVectorization(max_tokens=max_tokens, output_sequence_length=max_sequence_lenght)"
   ]
  },
  {
   "cell_type": "code",
   "execution_count": 16,
   "id": "9e24bf1d",
   "metadata": {},
   "outputs": [
    {
     "name": "stderr",
     "output_type": "stream",
     "text": [
      "2021-09-19 18:34:02.138629: I tensorflow/compiler/mlir/mlir_graph_optimization_pass.cc:185] None of the MLIR Optimization Passes are enabled (registered 2)\n"
     ]
    }
   ],
   "source": [
    "# train vocabulary\n",
    "vectorizer.adapt(train_text)\n",
    "\n",
    "# save vocabulary in a variable\n",
    "vocab = vectorizer.get_vocabulary()"
   ]
  },
  {
   "cell_type": "code",
   "execution_count": 17,
   "id": "77fd35a0",
   "metadata": {},
   "outputs": [
    {
     "name": "stdout",
     "output_type": "stream",
     "text": [
      "Vocabulary has 10000 words.\n"
     ]
    }
   ],
   "source": [
    "print(f'Vocabulary has {len(vocab)} words.')"
   ]
  },
  {
   "cell_type": "code",
   "execution_count": 18,
   "id": "45f763f1",
   "metadata": {},
   "outputs": [
    {
     "data": {
      "text/plain": [
       "['', '[UNK]', 'the', 'and', 'is', 'to', 'a', 'of', 'i', 'you']"
      ]
     },
     "execution_count": 18,
     "metadata": {},
     "output_type": "execute_result"
    }
   ],
   "source": [
    "# inspect the vocabulary first words\n",
    "vocab[:10]"
   ]
  },
  {
   "cell_type": "code",
   "execution_count": 19,
   "id": "5b749a58",
   "metadata": {},
   "outputs": [
    {
     "data": {
      "text/plain": [
       "<tf.Tensor: shape=(100,), dtype=int64, numpy=\n",
       "array([   7,   35,    2, 2175,    5,    1,    1,    4,   88,    2,  480,\n",
       "          7,   54,  921,    0,    0,    0,    0,    0,    0,    0,    0,\n",
       "          0,    0,    0,    0,    0,    0,    0,    0,    0,    0,    0,\n",
       "          0,    0,    0,    0,    0,    0,    0,    0,    0,    0,    0,\n",
       "          0,    0,    0,    0,    0,    0,    0,    0,    0,    0,    0,\n",
       "          0,    0,    0,    0,    0,    0,    0,    0,    0,    0,    0,\n",
       "          0,    0,    0,    0,    0,    0,    0,    0,    0,    0,    0,\n",
       "          0,    0,    0,    0,    0,    0,    0,    0,    0,    0,    0,\n",
       "          0,    0,    0,    0,    0,    0,    0,    0,    0,    0,    0,\n",
       "          0])>"
      ]
     },
     "execution_count": 19,
     "metadata": {},
     "output_type": "execute_result"
    }
   ],
   "source": [
    "# see how it works with a test sentence\n",
    "# 0 is reserved for padding and index 1 is reserved for out of vocabulary tokens\n",
    "example_sentence = 'Of all the places to travel, Spain is at the top of my list.'\n",
    "vectorizer(example_sentence)"
   ]
  },
  {
   "cell_type": "code",
   "execution_count": 20,
   "id": "9a2d8dd3",
   "metadata": {},
   "outputs": [],
   "source": [
    "# create an index for each word {word: index}\n",
    "word_idx = dict(zip(vocab, range(len(vocab))))"
   ]
  },
  {
   "cell_type": "code",
   "execution_count": 21,
   "id": "ff247c77",
   "metadata": {},
   "outputs": [
    {
     "name": "stdout",
     "output_type": "stream",
     "text": [
      "Number of embeddings available: 400000\n"
     ]
    }
   ],
   "source": [
    "# Map words with their vector representation (embeddings)\n",
    "embeddings_glove = {}\n",
    "with open(glove_file) as f:\n",
    "    for line in f:\n",
    "        word, coefs = line.split(maxsplit=1)\n",
    "        coefs = np.fromstring(coefs, \"f\", sep=\" \")\n",
    "        embeddings_glove[word] = coefs\n",
    "\n",
    "print(f'Number of embeddings available: {len(embeddings_glove)}')"
   ]
  },
  {
   "cell_type": "code",
   "execution_count": 22,
   "id": "13ef11a4",
   "metadata": {},
   "outputs": [
    {
     "data": {
      "text/plain": [
       "(300,)"
      ]
     },
     "execution_count": 22,
     "metadata": {},
     "output_type": "execute_result"
    }
   ],
   "source": [
    "# just to check let's get the dimensions of one of the embeddings\n",
    "embeddings_glove['home'].shape"
   ]
  },
  {
   "cell_type": "code",
   "execution_count": 23,
   "id": "03295ec0",
   "metadata": {},
   "outputs": [
    {
     "name": "stdout",
     "output_type": "stream",
     "text": [
      "Number of words with embeddings found: 6928\n",
      "Number of words with embeddings NOT found: 3072\n"
     ]
    }
   ],
   "source": [
    "# build embedding matrix to use it in the model\n",
    "dimensions_emb = 300\n",
    "total_tokens = len(vocab) + 2\n",
    "with_embedding = []\n",
    "without_embedding = []\n",
    "\n",
    "# initialize embedding matrix with zeroes\n",
    "embedding_matrix = np.zeros((total_tokens, dimensions_emb))\n",
    "\n",
    "for word, index in word_idx.items():\n",
    "    emb_vector = embeddings_glove.get(word)\n",
    "    # add to matrix\n",
    "    # count converted and not converted words\n",
    "    if emb_vector is not None:\n",
    "        embedding_matrix[index] = emb_vector\n",
    "        with_embedding.append(word)\n",
    "    else:\n",
    "        without_embedding.append(word)\n",
    "\n",
    "print(f'Number of words with embeddings found: {len(with_embedding)}')\n",
    "print(f'Number of words with embeddings NOT found: {len(without_embedding)}')"
   ]
  },
  {
   "cell_type": "code",
   "execution_count": 24,
   "id": "f91d0a9b",
   "metadata": {},
   "outputs": [
    {
     "data": {
      "text/plain": [
       "['',\n",
       " '[UNK]',\n",
       " 'shwetabh',\n",
       " 'chutiya',\n",
       " '😂',\n",
       " 'don’t',\n",
       " '498a',\n",
       " 'it’s',\n",
       " '👍',\n",
       " '👌',\n",
       " '😍',\n",
       " '😂😂',\n",
       " 'borade',\n",
       " 'i’m',\n",
       " '🙏',\n",
       " '😂😂😂😂',\n",
       " '😂😂😂',\n",
       " 'tshirt',\n",
       " '🔥',\n",
       " 'arundati',\n",
       " '🤣',\n",
       " '💯',\n",
       " '🤣🤣🤣',\n",
       " '😊',\n",
       " 'vedio',\n",
       " 'shahids',\n",
       " 'mensutra',\n",
       " 'kutiya',\n",
       " 'can’t',\n",
       " 'arundathi',\n",
       " '😂😂😂😂😂',\n",
       " '😁',\n",
       " '👍👍',\n",
       " 'that’s',\n",
       " 'ryt',\n",
       " 'plzz',\n",
       " 'antinational',\n",
       " 'yess',\n",
       " 'pubg',\n",
       " 'misandrists',\n",
       " 'didn’t',\n",
       " 'bcz',\n",
       " 'bcoz',\n",
       " 'arundhuti',\n",
       " '09777070288',\n",
       " '🤣🤣',\n",
       " '🙌',\n",
       " '😅',\n",
       " '👍👍👍',\n",
       " '👌👌',\n",
       " 'theyll',\n",
       " 'swetabh',\n",
       " 'supar',\n",
       " 'madarchod',\n",
       " 'feminazi',\n",
       " 'charecter',\n",
       " 'bhakts',\n",
       " '🤔',\n",
       " '🙏🙏',\n",
       " '😠',\n",
       " '😘',\n",
       " '👏👏',\n",
       " '👍👍👍👍',\n",
       " '👌👌👌',\n",
       " '❤️',\n",
       " '❤',\n",
       " 'wassepur',\n",
       " 'viswambharan',\n",
       " 'vaun',\n",
       " 'thouta',\n",
       " 'thik',\n",
       " 'soch',\n",
       " 'shouldnt',\n",
       " 'selfdestructive',\n",
       " 'potray',\n",
       " 'moviei',\n",
       " 'movi',\n",
       " 'lallantop',\n",
       " 'kapoors',\n",
       " 'kabirs',\n",
       " 'hlo',\n",
       " 'hahaha',\n",
       " 'doesn’t',\n",
       " 'becoz',\n",
       " 'bakwas',\n",
       " 'achyuth',\n",
       " 'achhi',\n",
       " '7045495339',\n",
       " '🙏🏻🙏🏻',\n",
       " '😎',\n",
       " '😈',\n",
       " '😂🤣',\n",
       " '😀😀',\n",
       " '👎',\n",
       " '✌',\n",
       " '♥️',\n",
       " 'नहीं',\n",
       " 'videoi',\n",
       " 'vedios',\n",
       " 'vaiya']"
      ]
     },
     "execution_count": 24,
     "metadata": {},
     "output_type": "execute_result"
    }
   ],
   "source": [
    "# Let's explore the words with no embedding available in glove\n",
    "# Most of them are typos, some emoticons, numbers, Chinese characters?\n",
    "without_embedding[:100]"
   ]
  },
  {
   "cell_type": "code",
   "execution_count": 25,
   "id": "4ea0012b",
   "metadata": {},
   "outputs": [
    {
     "data": {
      "text/plain": [
       "True"
      ]
     },
     "execution_count": 25,
     "metadata": {},
     "output_type": "execute_result"
    }
   ],
   "source": [
    "# does glove recognize some emoticons? No\n",
    "a_smile = '😁'\n",
    "a_smile in without_embedding"
   ]
  },
  {
   "cell_type": "code",
   "execution_count": 26,
   "id": "35ff065e",
   "metadata": {},
   "outputs": [
    {
     "data": {
      "text/plain": [
       "True"
      ]
     },
     "execution_count": 26,
     "metadata": {},
     "output_type": "execute_result"
    }
   ],
   "source": [
    "# what about teh most basic smile? No\n",
    "a_smile2 = '😊'\n",
    "a_smile in without_embedding"
   ]
  },
  {
   "cell_type": "code",
   "execution_count": 27,
   "id": "8d290a37",
   "metadata": {},
   "outputs": [],
   "source": [
    "# prepare input data for the model\n",
    "# convert the train sentences to sequences of ids\n",
    "train_input = vectorizer(train_text)"
   ]
  },
  {
   "cell_type": "code",
   "execution_count": 28,
   "id": "b37cbb9c",
   "metadata": {},
   "outputs": [
    {
     "data": {
      "text/plain": [
       "TensorShape([4263, 100])"
      ]
     },
     "execution_count": 28,
     "metadata": {},
     "output_type": "execute_result"
    }
   ],
   "source": [
    "# check the dimensions\n",
    "# looks good 10125 examples and 100 max lenght\n",
    "train_input.shape"
   ]
  },
  {
   "cell_type": "code",
   "execution_count": 29,
   "id": "4c8ff11f",
   "metadata": {},
   "outputs": [
    {
     "data": {
      "text/plain": [
       "'Next part'"
      ]
     },
     "execution_count": 29,
     "metadata": {},
     "output_type": "execute_result"
    }
   ],
   "source": [
    "# Let's get one of the training examples\n",
    "train_text[0]"
   ]
  },
  {
   "cell_type": "code",
   "execution_count": 30,
   "id": "adfcec50",
   "metadata": {},
   "outputs": [
    {
     "data": {
      "text/plain": [
       "<tf.Tensor: shape=(100,), dtype=int64, numpy=\n",
       "array([489, 317,   0,   0,   0,   0,   0,   0,   0,   0,   0,   0,   0,\n",
       "         0,   0,   0,   0,   0,   0,   0,   0,   0,   0,   0,   0,   0,\n",
       "         0,   0,   0,   0,   0,   0,   0,   0,   0,   0,   0,   0,   0,\n",
       "         0,   0,   0,   0,   0,   0,   0,   0,   0,   0,   0,   0,   0,\n",
       "         0,   0,   0,   0,   0,   0,   0,   0,   0,   0,   0,   0,   0,\n",
       "         0,   0,   0,   0,   0,   0,   0,   0,   0,   0,   0,   0,   0,\n",
       "         0,   0,   0,   0,   0,   0,   0,   0,   0,   0,   0,   0,   0,\n",
       "         0,   0,   0,   0,   0,   0,   0,   0,   0])>"
      ]
     },
     "execution_count": 30,
     "metadata": {},
     "output_type": "execute_result"
    }
   ],
   "source": [
    "# this is the representation of this training example with the index of the words and padding\n",
    "train_input[0]"
   ]
  },
  {
   "cell_type": "code",
   "execution_count": 31,
   "id": "d60048ec",
   "metadata": {},
   "outputs": [],
   "source": [
    "# do the same for development and test data\n",
    "dev_input = vectorizer(dev_text)\n",
    "test_input = vectorizer(test_text)"
   ]
  },
  {
   "cell_type": "code",
   "execution_count": 32,
   "id": "5ec1b3cf",
   "metadata": {},
   "outputs": [],
   "source": [
    "# delete model if exists\n",
    "try:\n",
    "    del BOW_model\n",
    "except:\n",
    "    pass"
   ]
  },
  {
   "cell_type": "code",
   "execution_count": 33,
   "id": "cc562548",
   "metadata": {},
   "outputs": [],
   "source": [
    "# Define the model\n",
    "\n",
    "# create embedding layer\n",
    "# input_lenght: Keras' embedding layer expects a specific input length. Padding is needed here. The vectorizer\n",
    "# defined above takes care of the padding\n",
    "embedding_layer = Embedding(embedding_matrix.shape[0],\n",
    "                            embedding_matrix.shape[1],\n",
    "                            embeddings_initializer=tf.keras.initializers.Constant(embedding_matrix),\n",
    "                            input_length=max_sequence_lenght,\n",
    "                            trainable=False)\n",
    "\n",
    "# simple sequential model\n",
    "BOW_model = tf.keras.Sequential()\n",
    "# include the embedding layer\n",
    "BOW_model.add(embedding_layer)\n",
    "# average embedding vectors\n",
    "BOW_model.add(tf.keras.layers.Lambda(lambda x: K.mean(x, axis=1))) \n",
    "# hidden layer with rectified linear activation function (relu)\n",
    "BOW_model.add(Dense(100, activation='relu'))  \n",
    "# dropout layer for regularization\n",
    "BOW_model.add(Dropout(0.2))\n",
    "# output layer with 3 classes classification\n",
    "BOW_model.add(Dense(3, activation='softmax'))"
   ]
  },
  {
   "cell_type": "code",
   "execution_count": 34,
   "id": "666de72a",
   "metadata": {},
   "outputs": [],
   "source": [
    "# compile the model\n",
    "# categorical_crossentropy: loss function appropiate for multi-class single label classification\n",
    "BOW_model.compile(loss='categorical_crossentropy', optimizer='adam', metrics=[tf.keras.metrics.categorical_accuracy])"
   ]
  },
  {
   "cell_type": "code",
   "execution_count": 35,
   "id": "e65e3778",
   "metadata": {},
   "outputs": [
    {
     "name": "stdout",
     "output_type": "stream",
     "text": [
      "Model: \"sequential\"\n",
      "_________________________________________________________________\n",
      "Layer (type)                 Output Shape              Param #   \n",
      "=================================================================\n",
      "embedding (Embedding)        (None, 100, 300)          3000600   \n",
      "_________________________________________________________________\n",
      "lambda (Lambda)              (None, 300)               0         \n",
      "_________________________________________________________________\n",
      "dense (Dense)                (None, 100)               30100     \n",
      "_________________________________________________________________\n",
      "dropout (Dropout)            (None, 100)               0         \n",
      "_________________________________________________________________\n",
      "dense_1 (Dense)              (None, 3)                 303       \n",
      "=================================================================\n",
      "Total params: 3,031,003\n",
      "Trainable params: 30,403\n",
      "Non-trainable params: 3,000,600\n",
      "_________________________________________________________________\n"
     ]
    }
   ],
   "source": [
    "# summary of the model's architecture\n",
    "BOW_model.summary()"
   ]
  },
  {
   "cell_type": "code",
   "execution_count": 36,
   "id": "a1f329bf",
   "metadata": {},
   "outputs": [],
   "source": [
    "# train the model and store the training history\n",
    "training_history = BOW_model.fit(train_input, \n",
    "                                 train_labels_enc, \n",
    "                                 validation_data=(dev_input, dev_labels_enc),\n",
    "                                 epochs=50, \n",
    "                                 verbose=0)"
   ]
  },
  {
   "cell_type": "code",
   "execution_count": 37,
   "id": "620d822a",
   "metadata": {},
   "outputs": [
    {
     "data": {
      "text/plain": [
       "Text(0.5, 1.0, 'Training and validation loss- Sub-task A')"
      ]
     },
     "execution_count": 37,
     "metadata": {},
     "output_type": "execute_result"
    },
    {
     "data": {
      "image/png": "[encoded data removed]",
      "text/plain": [
       "<Figure size 432x288 with 1 Axes>"
      ]
     },
     "metadata": {
      "needs_background": "light"
     },
     "output_type": "display_data"
    }
   ],
   "source": [
    "plt.plot(training_history.history['loss'])\n",
    "plt.plot(training_history.history['val_loss'])\n",
    "plt.title('Training and validation loss- Sub-task A')"
   ]
  },
  {
   "cell_type": "code",
   "execution_count": 38,
   "id": "86b0500d",
   "metadata": {},
   "outputs": [
    {
     "data": {
      "text/plain": [
       "Text(0.5, 1.0, 'Training and validation acccuracy- Sub-task A')"
      ]
     },
     "execution_count": 38,
     "metadata": {},
     "output_type": "execute_result"
    },
    {
     "data": {
      "image/png": "[encoded data removed]",
      "text/plain": [
       "<Figure size 432x288 with 1 Axes>"
      ]
     },
     "metadata": {
      "needs_background": "light"
     },
     "output_type": "display_data"
    }
   ],
   "source": [
    "plt.plot(training_history.history['categorical_accuracy'])\n",
    "plt.plot(training_history.history['val_categorical_accuracy'])\n",
    "plt.title('Training and validation acccuracy- Sub-task A')"
   ]
  },
  {
   "cell_type": "code",
   "execution_count": 39,
   "id": "0cca59b9",
   "metadata": {},
   "outputs": [
    {
     "data": {
      "image/png": "[encoded data removed]",
      "text/plain": [
       "<Figure size 288x288 with 1 Axes>"
      ]
     },
     "metadata": {
      "needs_background": "light"
     },
     "output_type": "display_data"
    },
    {
     "name": "stdout",
     "output_type": "stream",
     "text": [
      "              precision    recall  f1-score   support\n",
      "\n",
      "         CAG      0.800     0.424     0.554       453\n",
      "         NAG      0.905     0.973     0.938      3375\n",
      "         OAG      0.725     0.660     0.691       435\n",
      "\n",
      "    accuracy                          0.882      4263\n",
      "   macro avg      0.810     0.685     0.728      4263\n",
      "weighted avg      0.876     0.882     0.872      4263\n",
      "\n",
      "Weighted f1-score: 0.8717635607429429\n"
     ]
    }
   ],
   "source": [
    "# Evaluate model on TRAINING data\n",
    "\n",
    "# predict labels using the training data\n",
    "pred_labels_train = from_prob_to_labels(BOW_model, train_input, 'A')\n",
    "\n",
    "# Create the confusion matrix\n",
    "confusion_matrix_plot(BOW_model, train_input, train_labels, task='A', normalize='true')\n",
    "\n",
    "# print the precision, recall, f1\n",
    "print(metrics.classification_report(train_labels, pred_labels_train, digits=3))\n",
    "\n",
    "# print global weighted f-1 score\n",
    "print(f\"Weighted f1-score: {metrics.f1_score(train_labels, pred_labels_train, pos_label=1, average='weighted')}\")"
   ]
  },
  {
   "cell_type": "code",
   "execution_count": 40,
   "id": "5523b42e",
   "metadata": {},
   "outputs": [
    {
     "data": {
      "image/png": "[encoded data removed]",
      "text/plain": [
       "<Figure size 288x288 with 1 Axes>"
      ]
     },
     "metadata": {
      "needs_background": "light"
     },
     "output_type": "display_data"
    },
    {
     "name": "stdout",
     "output_type": "stream",
     "text": [
      "              precision    recall  f1-score   support\n",
      "\n",
      "         CAG      0.333     0.137     0.194       117\n",
      "         NAG      0.847     0.935     0.889       836\n",
      "         OAG      0.516     0.434     0.471       113\n",
      "\n",
      "    accuracy                          0.795      1066\n",
      "   macro avg      0.565     0.502     0.518      1066\n",
      "weighted avg      0.756     0.795     0.769      1066\n",
      "\n",
      "Weighted f1-score: 0.768530615334149\n"
     ]
    }
   ],
   "source": [
    "# Evaluate model on DEVELOPMENT data\n",
    "\n",
    "# predict labels using the development data\n",
    "pred_labels_dev = from_prob_to_labels(BOW_model, dev_input, 'A')\n",
    "\n",
    "# Create confusion matrix\n",
    "confusion_matrix_plot(BOW_model, dev_input, dev_labels, task='A', normalize='true')\n",
    "\n",
    "# Print the precision, recall, f1\n",
    "print(metrics.classification_report(dev_labels, pred_labels_dev, digits=3))\n",
    "\n",
    "# print global weighted f-1 score\n",
    "print(f\"Weighted f1-score: {metrics.f1_score(dev_labels, pred_labels_dev, pos_label=1, average='weighted')}\")"
   ]
  },
  {
   "cell_type": "markdown",
   "id": "5ac299f1",
   "metadata": {},
   "source": [
    "#### Hyperparamters selection using random search"
   ]
  },
  {
   "cell_type": "code",
   "execution_count": 41,
   "id": "be7f4f55",
   "metadata": {},
   "outputs": [],
   "source": [
    "# first we need to define a hypermodel using a model builder function\n",
    "# same model architecture we used earlier\n",
    "\n",
    "def model_builder(hp):\n",
    "    \n",
    "    # sequential model\n",
    "    model = tf.keras.Sequential()\n",
    "        \n",
    "    # embedding layer\n",
    "    model.add(Embedding(embedding_matrix.shape[0],\n",
    "                        embedding_matrix.shape[1],\n",
    "                        embeddings_initializer=tf.keras.initializers.Constant(embedding_matrix),\n",
    "                        input_length=max_sequence_lenght,\n",
    "                        trainable=False))\n",
    "        \n",
    "    # average embedding vectors\n",
    "    model.add(tf.keras.layers.Lambda(lambda x: K.mean(x, axis=1))) \n",
    "        \n",
    "    # hidden layer\n",
    "    hp_units = hp.Int('units', min_value=20, max_value=150, step=10)\n",
    "    model.add(Dense(units=hp_units, activation='relu'))\n",
    "\n",
    "    # dropout layer \n",
    "    dropout = hp.Float('dropout', min_value=0.0, max_value=0.4, default=0.0, step=0.05)\n",
    "    model.add(Dropout(dropout))\n",
    "        \n",
    "    # output layer \n",
    "    model.add(Dense(3, activation='softmax'))\n",
    "\n",
    "    # compile model\n",
    "    model.compile(loss='categorical_crossentropy', optimizer='adam', metrics=['categorical_crossentropy'])\n",
    "    \n",
    "    return model"
   ]
  },
  {
   "cell_type": "code",
   "execution_count": 42,
   "id": "a8254385",
   "metadata": {},
   "outputs": [
    {
     "name": "stdout",
     "output_type": "stream",
     "text": [
      "rm: cannot remove './hp_search_baseline_task_A': No such file or directory\n"
     ]
    }
   ],
   "source": [
    "# remove folder if exists to avoid error\n",
    "!rm -r ./hp_search_baseline_task_A"
   ]
  },
  {
   "cell_type": "code",
   "execution_count": 43,
   "id": "fbc95d9a",
   "metadata": {},
   "outputs": [],
   "source": [
    "tuner = kt.RandomSearch(model_builder, objective='categorical_crossentropy', max_trials=10, directory='hp_search_baseline_task_A')"
   ]
  },
  {
   "cell_type": "code",
   "execution_count": 44,
   "id": "c1b7c26a",
   "metadata": {},
   "outputs": [
    {
     "name": "stdout",
     "output_type": "stream",
     "text": [
      "INFO:tensorflow:Oracle triggered exit\n"
     ]
    }
   ],
   "source": [
    "tuner.search(train_input, train_labels_enc, validation_data=(dev_input, dev_labels_enc), epochs=50, verbose=0)"
   ]
  },
  {
   "cell_type": "code",
   "execution_count": 45,
   "id": "642ce57b",
   "metadata": {},
   "outputs": [],
   "source": [
    "# Best hyperparameters\n",
    "best_hp = tuner.get_best_hyperparameters()[0]\n",
    "# Reinstantiate the (untrained) best model found during the search process.\n",
    "BOW_model_optimized = tuner.hypermodel.build(best_hp)"
   ]
  },
  {
   "cell_type": "code",
   "execution_count": 46,
   "id": "a7440eff",
   "metadata": {},
   "outputs": [
    {
     "name": "stdout",
     "output_type": "stream",
     "text": [
      "The optimal number of units in the hidden layer is 100 and the optimal dropout is 0.15000000000000002.\n"
     ]
    }
   ],
   "source": [
    "print(f\"The optimal number of units in the hidden layer is {best_hp.get('units')} and the optimal dropout is {best_hp.get('dropout')}.\")"
   ]
  },
  {
   "cell_type": "code",
   "execution_count": 47,
   "id": "41920d8c",
   "metadata": {},
   "outputs": [],
   "source": [
    "training_history = BOW_model_optimized.fit(train_input, \n",
    "                                           train_labels_enc,\n",
    "                                           validation_data=(dev_input, dev_labels_enc),\n",
    "                                           epochs=50, verbose=0\n",
    "                                          )"
   ]
  },
  {
   "cell_type": "code",
   "execution_count": 48,
   "id": "a8a8252f",
   "metadata": {},
   "outputs": [
    {
     "data": {
      "image/png": "[encoded data removed]",
      "text/plain": [
       "<Figure size 288x288 with 1 Axes>"
      ]
     },
     "metadata": {
      "needs_background": "light"
     },
     "output_type": "display_data"
    },
    {
     "name": "stdout",
     "output_type": "stream",
     "text": [
      "              precision    recall  f1-score   support\n",
      "\n",
      "         CAG      0.743     0.550     0.632       453\n",
      "         NAG      0.915     0.971     0.942      3375\n",
      "         OAG      0.780     0.621     0.691       435\n",
      "\n",
      "    accuracy                          0.890      4263\n",
      "   macro avg      0.813     0.714     0.755      4263\n",
      "weighted avg      0.883     0.890     0.884      4263\n",
      "\n",
      "Weighted f1-score: 0.883544574256489\n"
     ]
    }
   ],
   "source": [
    "# Evaluate model on TRAINING data\n",
    "\n",
    "# predict labels using the training data\n",
    "pred_labels_train = from_prob_to_labels(BOW_model_optimized, train_input, 'A')\n",
    "\n",
    "# Create confusion matrix\n",
    "confusion_matrix_plot(BOW_model_optimized, train_input, train_labels, task='A', normalize='true')\n",
    "\n",
    "# print the precision, recall, f1\n",
    "print(metrics.classification_report(train_labels, pred_labels_train, digits=3))\n",
    "\n",
    "# print global weighted f-1 score\n",
    "print(f\"Weighted f1-score: {metrics.f1_score(train_labels, pred_labels_train, pos_label=1, average='weighted')}\")"
   ]
  },
  {
   "cell_type": "code",
   "execution_count": 49,
   "id": "39b9a205",
   "metadata": {},
   "outputs": [
    {
     "data": {
      "image/png": "[encoded data removed]",
      "text/plain": [
       "<Figure size 288x288 with 1 Axes>"
      ]
     },
     "metadata": {
      "needs_background": "light"
     },
     "output_type": "display_data"
    },
    {
     "name": "stdout",
     "output_type": "stream",
     "text": [
      "              precision    recall  f1-score   support\n",
      "\n",
      "         CAG      0.277     0.197     0.230       117\n",
      "         NAG      0.849     0.921     0.884       836\n",
      "         OAG      0.553     0.372     0.444       113\n",
      "\n",
      "    accuracy                          0.783      1066\n",
      "   macro avg      0.560     0.496     0.519      1066\n",
      "weighted avg      0.755     0.783     0.765      1066\n",
      "\n",
      "Weighted f1-score: 0.7652596251171037\n"
     ]
    }
   ],
   "source": [
    "# Evaluate model on DEVELOPMENT data\n",
    "\n",
    "# predict labels using the development data\n",
    "pred_labels_dev = from_prob_to_labels(BOW_model_optimized, dev_input, 'A')\n",
    "\n",
    "# Create confusion matrix\n",
    "confusion_matrix_plot(BOW_model_optimized, dev_input, dev_labels, task='A', normalize='true')\n",
    "\n",
    "# Print the precision, recall, f1\n",
    "print(metrics.classification_report(dev_labels, pred_labels_dev, digits=3))\n",
    "\n",
    "# print global weighted f-1 score\n",
    "print(f\"Weighted f1-score: {metrics.f1_score(dev_labels, pred_labels_dev, pos_label=1, average='weighted')}\")"
   ]
  },
  {
   "cell_type": "code",
   "execution_count": 50,
   "id": "15b30d83",
   "metadata": {},
   "outputs": [
    {
     "data": {
      "image/png": "[encoded data removed]",
      "text/plain": [
       "<Figure size 288x288 with 1 Axes>"
      ]
     },
     "metadata": {
      "needs_background": "light"
     },
     "output_type": "display_data"
    },
    {
     "name": "stdout",
     "output_type": "stream",
     "text": [
      "              precision    recall  f1-score   support\n",
      "\n",
      "         CAG      0.529     0.402     0.457       224\n",
      "         NAG      0.770     0.942     0.847       690\n",
      "         OAG      0.780     0.507     0.614       286\n",
      "\n",
      "    accuracy                          0.738      1200\n",
      "   macro avg      0.693     0.617     0.640      1200\n",
      "weighted avg      0.727     0.738     0.719      1200\n",
      "\n",
      "Weighted f1-score: 0.7190009392296883\n"
     ]
    }
   ],
   "source": [
    "# Now we can evaluate the optimized model on the TEST data.\n",
    "\n",
    "# predict labels using the development data\n",
    "pred_labels_test = from_prob_to_labels(BOW_model_optimized, test_input, 'A')\n",
    "\n",
    "# Create confusion matrix\n",
    "confusion_matrix_plot(BOW_model_optimized, test_input, test_labels, task='A', normalize='true')\n",
    "\n",
    "# Print the precision, recall, f1\n",
    "print(metrics.classification_report(test_labels, pred_labels_test, digits=3))\n",
    "\n",
    "# print global weighted f-1 score\n",
    "print(f\"Weighted f1-score: {metrics.f1_score(test_labels, pred_labels_test, pos_label=1, average='weighted')}\")"
   ]
  },
  {
   "cell_type": "markdown",
   "id": "7382ac1c",
   "metadata": {},
   "source": [
    "## Baseline model for gendered aggression identification (sub task B)\n"
   ]
  },
  {
   "cell_type": "markdown",
   "id": "e1e88384",
   "metadata": {},
   "source": [
    "### Baseline: Neural Bag of Words Model\n",
    "\n",
    "Our baseline model is a bag of words model..."
   ]
  },
  {
   "cell_type": "code",
   "execution_count": 51,
   "id": "8cb7d41c",
   "metadata": {},
   "outputs": [],
   "source": [
    "# create arrays of labels for train, development and test data\n",
    "train_labels_b = np.array(train_data['Sub-task B'])\n",
    "dev_labels_b = np.array(dev_data['Sub-task B'])\n",
    "test_labels_b = np.array(test_labels_b['Sub-task B'])"
   ]
  },
  {
   "cell_type": "code",
   "execution_count": 52,
   "id": "acf7f422",
   "metadata": {},
   "outputs": [
    {
     "data": {
      "text/plain": [
       "array([0, 0, 0, ..., 0, 0, 0])"
      ]
     },
     "execution_count": 52,
     "metadata": {},
     "output_type": "execute_result"
    }
   ],
   "source": [
    "# encode the labels. As this is a binary classification we use binary labels 0:NGEN, 1:GEN\n",
    "train_labels_enc_b = to_binary_labels(train_labels_b, classes_list=['NGEN', 'GEN'])\n",
    "train_labels_enc_b"
   ]
  },
  {
   "cell_type": "code",
   "execution_count": 53,
   "id": "e5499d47",
   "metadata": {},
   "outputs": [],
   "source": [
    "# encode the labels for the development and test datasets (0:NGEN, 1:GEN)\n",
    "dev_labels_enc_b = to_binary_labels(dev_labels_b, classes_list=['NGEN', 'GEN'])\n",
    "test_labels_enc_b = to_binary_labels(test_labels_b, classes_list=['NGEN', 'GEN'])"
   ]
  },
  {
   "cell_type": "code",
   "execution_count": 54,
   "id": "86c52d56",
   "metadata": {},
   "outputs": [],
   "source": [
    "# delete model if exists\n",
    "try:\n",
    "    del BOW_model_B\n",
    "except:\n",
    "    pass"
   ]
  },
  {
   "cell_type": "code",
   "execution_count": 55,
   "id": "b1f10c25",
   "metadata": {},
   "outputs": [],
   "source": [
    "# Define the model\n",
    "\n",
    "# create embedding layer\n",
    "# input_lenght: Keras' embedding layer expects a specific input length. Padding is needed here. The vectorizer\n",
    "# defined above takes care of the padding\n",
    "embedding_layer = Embedding(embedding_matrix.shape[0],\n",
    "                            embedding_matrix.shape[1],\n",
    "                            embeddings_initializer=tf.keras.initializers.Constant(embedding_matrix),\n",
    "                            input_length=max_sequence_lenght,\n",
    "                            trainable=False)\n",
    "\n",
    "# simple sequential model\n",
    "BOW_model_B = tf.keras.Sequential()\n",
    "# include the embedding layer\n",
    "BOW_model_B.add(embedding_layer)\n",
    "# average embedding vectors\n",
    "BOW_model_B.add(tf.keras.layers.Lambda(lambda x: K.mean(x, axis=1))) \n",
    "# hidden layer with rectified linear activation function (relu)\n",
    "BOW_model_B.add(Dense(100, activation='relu'))  \n",
    "# dropout layer for regularization\n",
    "BOW_model_B.add(Dropout(0.2))\n",
    "# output layer with binary classification\n",
    "BOW_model_B.add(Dense(1, activation='sigmoid'))"
   ]
  },
  {
   "cell_type": "code",
   "execution_count": 56,
   "id": "438dceb2",
   "metadata": {},
   "outputs": [],
   "source": [
    "# compile the model\n",
    "# categorical_crossentropy: loss function appropiate for multi-class single label classification\n",
    "BOW_model_B.compile(loss='binary_crossentropy', optimizer='adam', metrics=[tf.keras.metrics.categorical_accuracy])\n"
   ]
  },
  {
   "cell_type": "code",
   "execution_count": 57,
   "id": "fff28332",
   "metadata": {},
   "outputs": [
    {
     "name": "stdout",
     "output_type": "stream",
     "text": [
      "Model: \"sequential_1\"\n",
      "_________________________________________________________________\n",
      "Layer (type)                 Output Shape              Param #   \n",
      "=================================================================\n",
      "embedding_1 (Embedding)      (None, 100, 300)          3000600   \n",
      "_________________________________________________________________\n",
      "lambda_1 (Lambda)            (None, 300)               0         \n",
      "_________________________________________________________________\n",
      "dense_2 (Dense)              (None, 100)               30100     \n",
      "_________________________________________________________________\n",
      "dropout_1 (Dropout)          (None, 100)               0         \n",
      "_________________________________________________________________\n",
      "dense_3 (Dense)              (None, 1)                 101       \n",
      "=================================================================\n",
      "Total params: 3,030,801\n",
      "Trainable params: 30,201\n",
      "Non-trainable params: 3,000,600\n",
      "_________________________________________________________________\n"
     ]
    }
   ],
   "source": [
    "BOW_model_B.summary()"
   ]
  },
  {
   "cell_type": "code",
   "execution_count": 58,
   "id": "c4326203",
   "metadata": {},
   "outputs": [],
   "source": [
    "# train the model and store the training history\n",
    "training_history = BOW_model_B.fit(train_input, \n",
    "                                 train_labels_enc_b, \n",
    "                                 validation_data=(dev_input, dev_labels_enc_b),\n",
    "                                 epochs=50, \n",
    "                                 verbose=0)"
   ]
  },
  {
   "cell_type": "code",
   "execution_count": 59,
   "id": "1f129315",
   "metadata": {},
   "outputs": [
    {
     "data": {
      "text/plain": [
       "Text(0.5, 1.0, 'Training and validation loss- Sub-task B')"
      ]
     },
     "execution_count": 59,
     "metadata": {},
     "output_type": "execute_result"
    },
    {
     "data": {
      "image/png": "[encoded data removed]",
      "text/plain": [
       "<Figure size 432x288 with 1 Axes>"
      ]
     },
     "metadata": {
      "needs_background": "light"
     },
     "output_type": "display_data"
    }
   ],
   "source": [
    "plt.plot(training_history.history['loss'])\n",
    "plt.plot(training_history.history['val_loss'])\n",
    "plt.title('Training and validation loss- Sub-task B')"
   ]
  },
  {
   "cell_type": "code",
   "execution_count": 60,
   "id": "ec514b4d",
   "metadata": {},
   "outputs": [
    {
     "data": {
      "text/plain": [
       "Text(0.5, 1.0, 'Training and validation acccuracy- Sub-task B')"
      ]
     },
     "execution_count": 60,
     "metadata": {},
     "output_type": "execute_result"
    },
    {
     "data": {
      "image/png": "[encoded data removed]",
      "text/plain": [
       "<Figure size 432x288 with 1 Axes>"
      ]
     },
     "metadata": {
      "needs_background": "light"
     },
     "output_type": "display_data"
    }
   ],
   "source": [
    "plt.plot(training_history.history['categorical_accuracy'])\n",
    "plt.plot(training_history.history['val_categorical_accuracy'])\n",
    "plt.title('Training and validation acccuracy- Sub-task B')"
   ]
  },
  {
   "cell_type": "code",
   "execution_count": 61,
   "id": "aabf7263",
   "metadata": {},
   "outputs": [
    {
     "data": {
      "image/png": "[encoded data removed]",
      "text/plain": [
       "<Figure size 288x288 with 1 Axes>"
      ]
     },
     "metadata": {
      "needs_background": "light"
     },
     "output_type": "display_data"
    },
    {
     "name": "stdout",
     "output_type": "stream",
     "text": [
      "              precision    recall  f1-score   support\n",
      "\n",
      "         GEN      0.880     0.472     0.615       309\n",
      "        NGEN      0.960     0.995     0.977      3954\n",
      "\n",
      "    accuracy                          0.957      4263\n",
      "   macro avg      0.920     0.734     0.796      4263\n",
      "weighted avg      0.954     0.957     0.951      4263\n",
      "\n",
      "Weighted f1-score: 0.9509919976656831\n"
     ]
    }
   ],
   "source": [
    "# Evaluate model on TRAINING data\n",
    "\n",
    "# predict labels using the training data\n",
    "pred_labels_train_b = from_prob_to_labels(BOW_model_B, train_input, 'B')\n",
    "\n",
    "# Create confusion matrix\n",
    "confusion_matrix_plot(BOW_model_B, train_input, train_labels_b, task='B', normalize='true')\n",
    "\n",
    "# print the precision, recall, f1\n",
    "print(metrics.classification_report(train_labels_b, pred_labels_train_b, digits=3))\n",
    "\n",
    "# print global weighted f-1 score\n",
    "print(f\"Weighted f1-score: {metrics.f1_score(train_labels_b, pred_labels_train_b, pos_label=1, average='weighted')}\")"
   ]
  },
  {
   "cell_type": "code",
   "execution_count": 62,
   "id": "3121edaa",
   "metadata": {},
   "outputs": [
    {
     "data": {
      "image/png": "[encoded data removed]",
      "text/plain": [
       "<Figure size 288x288 with 1 Axes>"
      ]
     },
     "metadata": {
      "needs_background": "light"
     },
     "output_type": "display_data"
    },
    {
     "name": "stdout",
     "output_type": "stream",
     "text": [
      "              precision    recall  f1-score   support\n",
      "\n",
      "         GEN      0.486     0.233     0.315        73\n",
      "        NGEN      0.946     0.982     0.963       993\n",
      "\n",
      "    accuracy                          0.931      1066\n",
      "   macro avg      0.716     0.607     0.639      1066\n",
      "weighted avg      0.914     0.931     0.919      1066\n",
      "\n",
      "Weighted f1-score: 0.9190207744025347\n"
     ]
    }
   ],
   "source": [
    "# Evaluate model on DEVELOPMENT data\n",
    "\n",
    "# predict labels using the training data\n",
    "pred_labels_dev_b = from_prob_to_labels(BOW_model_B, dev_input, 'B')\n",
    "\n",
    "# Create confusion matrix\n",
    "confusion_matrix_plot(BOW_model_B, dev_input, dev_labels_b, task='B', normalize='true')\n",
    "\n",
    "# print the precision, recall, f1\n",
    "print(metrics.classification_report(dev_labels_b, pred_labels_dev_b, digits=3))\n",
    "\n",
    "# print global weighted f-1 score\n",
    "print(f\"Weighted f1-score: {metrics.f1_score(dev_labels_b, pred_labels_dev_b, pos_label=1, average='weighted')}\")"
   ]
  },
  {
   "cell_type": "markdown",
   "id": "44989b8d",
   "metadata": {},
   "source": [
    "#### Hyperparamters selection using random search"
   ]
  },
  {
   "cell_type": "code",
   "execution_count": 63,
   "id": "2e7aa4ef",
   "metadata": {},
   "outputs": [],
   "source": [
    "# first we need to define a hypermodel using a model builder function\n",
    "# same model architecture we used earlier\n",
    "\n",
    "def model_builder_b(hp):\n",
    "    \n",
    "    # sequential model\n",
    "    model = tf.keras.Sequential()\n",
    "        \n",
    "    # embedding layer\n",
    "    model.add(Embedding(embedding_matrix.shape[0],\n",
    "                        embedding_matrix.shape[1],\n",
    "                        embeddings_initializer=tf.keras.initializers.Constant(embedding_matrix),\n",
    "                        input_length=max_sequence_lenght,\n",
    "                        trainable=False))\n",
    "        \n",
    "    # average embedding vectors\n",
    "    model.add(tf.keras.layers.Lambda(lambda x: K.mean(x, axis=1))) \n",
    "        \n",
    "    # hidden layer\n",
    "    hp_units = hp.Int('units', min_value=20, max_value=150, step=10)\n",
    "    model.add(Dense(units=hp_units, activation='relu'))\n",
    "\n",
    "    # dropout layer \n",
    "    dropout = hp.Float('dropout', min_value=0.0, max_value=0.4, default=0.0, step=0.05)\n",
    "    model.add(Dropout(dropout))\n",
    "        \n",
    "    # output layer \n",
    "    model.add(Dense(1, activation='sigmoid'))\n",
    "\n",
    "    # compile model\n",
    "    model.compile(loss='categorical_crossentropy', optimizer='adam', metrics=['categorical_crossentropy'])\n",
    "    \n",
    "    return model"
   ]
  },
  {
   "cell_type": "code",
   "execution_count": 64,
   "id": "4288a873",
   "metadata": {},
   "outputs": [
    {
     "name": "stdout",
     "output_type": "stream",
     "text": [
      "rm: cannot remove './hp_search_baseline_task_B': No such file or directory\n"
     ]
    }
   ],
   "source": [
    "# remove folder if exists to avoid error\n",
    "!rm -r ./hp_search_baseline_task_B"
   ]
  },
  {
   "cell_type": "code",
   "execution_count": 65,
   "id": "db7ad752",
   "metadata": {},
   "outputs": [],
   "source": [
    "tuner_b = kt.RandomSearch(model_builder_b, objective='categorical_crossentropy', max_trials=10, directory='hp_search_baseline_task_B')"
   ]
  },
  {
   "cell_type": "code",
   "execution_count": 66,
   "id": "af45e711",
   "metadata": {},
   "outputs": [
    {
     "name": "stdout",
     "output_type": "stream",
     "text": [
      "INFO:tensorflow:Oracle triggered exit\n"
     ]
    }
   ],
   "source": [
    "tuner_b.search(train_input, train_labels_enc_b, validation_data=(dev_input, dev_labels_enc_b), epochs=50, verbose=0)"
   ]
  },
  {
   "cell_type": "code",
   "execution_count": 67,
   "id": "a14728c7",
   "metadata": {},
   "outputs": [],
   "source": [
    "# Best hyperparameters\n",
    "best_hp_b = tuner_b.get_best_hyperparameters()[0]\n",
    "# Reinstantiate the (untrained) best model found during the search process.\n",
    "BOW_model_B_optimized = tuner_b.hypermodel.build(best_hp_b)"
   ]
  },
  {
   "cell_type": "code",
   "execution_count": 68,
   "id": "3638cec5",
   "metadata": {},
   "outputs": [
    {
     "name": "stdout",
     "output_type": "stream",
     "text": [
      "The optimal number of units in the hidden layer is 120 and the optimal dropout is 0.15000000000000002.\n"
     ]
    }
   ],
   "source": [
    "print(f\"The optimal number of units in the hidden layer is {best_hp_b.get('units')} and the optimal dropout is {best_hp_b.get('dropout')}.\")"
   ]
  },
  {
   "cell_type": "code",
   "execution_count": 69,
   "id": "75f5e997",
   "metadata": {},
   "outputs": [],
   "source": [
    "training_history = BOW_model_B_optimized.fit(train_input, \n",
    "                                             train_labels_enc_b,\n",
    "                                             validation_data=(dev_input, dev_labels_enc_b),\n",
    "                                             epochs=50, verbose=0\n",
    "                                            )"
   ]
  },
  {
   "cell_type": "code",
   "execution_count": 70,
   "id": "490d09dd",
   "metadata": {},
   "outputs": [
    {
     "data": {
      "image/png": "[encoded data removed]",
      "text/plain": [
       "<Figure size 288x288 with 1 Axes>"
      ]
     },
     "metadata": {
      "needs_background": "light"
     },
     "output_type": "display_data"
    },
    {
     "name": "stdout",
     "output_type": "stream",
     "text": [
      "              precision    recall  f1-score   support\n",
      "\n",
      "         GEN      0.000     0.000     0.000       309\n",
      "        NGEN      0.928     1.000     0.962      3954\n",
      "\n",
      "    accuracy                          0.928      4263\n",
      "   macro avg      0.464     0.500     0.481      4263\n",
      "weighted avg      0.860     0.928     0.893      4263\n",
      "\n",
      "Weighted f1-score: 0.8926366331553583\n"
     ]
    },
    {
     "name": "stderr",
     "output_type": "stream",
     "text": [
      "/opt/conda/lib/python3.7/site-packages/sklearn/metrics/_classification.py:1248: UndefinedMetricWarning: Precision and F-score are ill-defined and being set to 0.0 in labels with no predicted samples. Use `zero_division` parameter to control this behavior.\n",
      "  _warn_prf(average, modifier, msg_start, len(result))\n",
      "/opt/conda/lib/python3.7/site-packages/sklearn/metrics/_classification.py:1248: UndefinedMetricWarning: Precision and F-score are ill-defined and being set to 0.0 in labels with no predicted samples. Use `zero_division` parameter to control this behavior.\n",
      "  _warn_prf(average, modifier, msg_start, len(result))\n",
      "/opt/conda/lib/python3.7/site-packages/sklearn/metrics/_classification.py:1248: UndefinedMetricWarning: Precision and F-score are ill-defined and being set to 0.0 in labels with no predicted samples. Use `zero_division` parameter to control this behavior.\n",
      "  _warn_prf(average, modifier, msg_start, len(result))\n"
     ]
    }
   ],
   "source": [
    "# Evaluate model on TRAINING data\n",
    "\n",
    "# predict labels using the training data\n",
    "pred_labels_train_b = from_prob_to_labels(BOW_model_B_optimized, train_input, 'B')\n",
    "\n",
    "# create confusion matrix\n",
    "confusion_matrix_plot(BOW_model_B_optimized, train_input, train_labels_b, task='B', normalize='true')\n",
    "\n",
    "# print the precision, recall, f1\n",
    "print(metrics.classification_report(train_labels_b, pred_labels_train_b, digits=3))\n",
    "\n",
    "# print global weighted f-1 score\n",
    "print(f\"Weighted f1-score: {metrics.f1_score(train_labels_b, pred_labels_train_b, pos_label=1, average='weighted')}\")"
   ]
  },
  {
   "cell_type": "code",
   "execution_count": 71,
   "id": "80cd81f8",
   "metadata": {},
   "outputs": [
    {
     "data": {
      "image/png": "[encoded data removed]",
      "text/plain": [
       "<Figure size 288x288 with 1 Axes>"
      ]
     },
     "metadata": {
      "needs_background": "light"
     },
     "output_type": "display_data"
    },
    {
     "name": "stdout",
     "output_type": "stream",
     "text": [
      "              precision    recall  f1-score   support\n",
      "\n",
      "         GEN      0.000     0.000     0.000        73\n",
      "        NGEN      0.932     1.000     0.965       993\n",
      "\n",
      "    accuracy                          0.932      1066\n",
      "   macro avg      0.466     0.500     0.482      1066\n",
      "weighted avg      0.868     0.932     0.898      1066\n",
      "\n",
      "Weighted f1-score: 0.8984935035587139\n"
     ]
    },
    {
     "name": "stderr",
     "output_type": "stream",
     "text": [
      "/opt/conda/lib/python3.7/site-packages/sklearn/metrics/_classification.py:1248: UndefinedMetricWarning: Precision and F-score are ill-defined and being set to 0.0 in labels with no predicted samples. Use `zero_division` parameter to control this behavior.\n",
      "  _warn_prf(average, modifier, msg_start, len(result))\n",
      "/opt/conda/lib/python3.7/site-packages/sklearn/metrics/_classification.py:1248: UndefinedMetricWarning: Precision and F-score are ill-defined and being set to 0.0 in labels with no predicted samples. Use `zero_division` parameter to control this behavior.\n",
      "  _warn_prf(average, modifier, msg_start, len(result))\n",
      "/opt/conda/lib/python3.7/site-packages/sklearn/metrics/_classification.py:1248: UndefinedMetricWarning: Precision and F-score are ill-defined and being set to 0.0 in labels with no predicted samples. Use `zero_division` parameter to control this behavior.\n",
      "  _warn_prf(average, modifier, msg_start, len(result))\n"
     ]
    }
   ],
   "source": [
    "# Evaluate model on DEVELOPMENT data\n",
    "\n",
    "# predict labels using the training data\n",
    "pred_labels_dev_b = from_prob_to_labels(BOW_model_B_optimized, dev_input, 'B')\n",
    "\n",
    "# Create confusion matrix\n",
    "confusion_matrix_plot(BOW_model_B_optimized, dev_input, dev_labels_b, task='B', normalize='true')\n",
    "\n",
    "# print the precision, recall, f1\n",
    "print(metrics.classification_report(dev_labels_b, pred_labels_dev_b, digits=3))\n",
    "\n",
    "# print global weighted f-1 score\n",
    "print(f\"Weighted f1-score: {metrics.f1_score(dev_labels_b, pred_labels_dev_b, pos_label=1, average='weighted')}\")"
   ]
  },
  {
   "cell_type": "code",
   "execution_count": 72,
   "id": "2478e2bf",
   "metadata": {},
   "outputs": [
    {
     "data": {
      "image/png": "[encoded data removed]",
      "text/plain": [
       "<Figure size 288x288 with 1 Axes>"
      ]
     },
     "metadata": {
      "needs_background": "light"
     },
     "output_type": "display_data"
    },
    {
     "name": "stdout",
     "output_type": "stream",
     "text": [
      "              precision    recall  f1-score   support\n",
      "\n",
      "         GEN      0.000     0.000     0.000       175\n",
      "        NGEN      0.854     1.000     0.921      1025\n",
      "\n",
      "    accuracy                          0.854      1200\n",
      "   macro avg      0.427     0.500     0.461      1200\n",
      "weighted avg      0.730     0.854     0.787      1200\n",
      "\n",
      "Weighted f1-score: 0.7869850187265918\n"
     ]
    },
    {
     "name": "stderr",
     "output_type": "stream",
     "text": [
      "/opt/conda/lib/python3.7/site-packages/sklearn/metrics/_classification.py:1248: UndefinedMetricWarning: Precision and F-score are ill-defined and being set to 0.0 in labels with no predicted samples. Use `zero_division` parameter to control this behavior.\n",
      "  _warn_prf(average, modifier, msg_start, len(result))\n",
      "/opt/conda/lib/python3.7/site-packages/sklearn/metrics/_classification.py:1248: UndefinedMetricWarning: Precision and F-score are ill-defined and being set to 0.0 in labels with no predicted samples. Use `zero_division` parameter to control this behavior.\n",
      "  _warn_prf(average, modifier, msg_start, len(result))\n",
      "/opt/conda/lib/python3.7/site-packages/sklearn/metrics/_classification.py:1248: UndefinedMetricWarning: Precision and F-score are ill-defined and being set to 0.0 in labels with no predicted samples. Use `zero_division` parameter to control this behavior.\n",
      "  _warn_prf(average, modifier, msg_start, len(result))\n"
     ]
    }
   ],
   "source": [
    "# Now we can evaluate the optimized model on the TEST data.\n",
    "\n",
    "# predict labels using the training data\n",
    "pred_labels_test_b = from_prob_to_labels(BOW_model_B_optimized, test_input, 'B')\n",
    "\n",
    "# Create confusion matrix\n",
    "confusion_matrix_plot(BOW_model_B_optimized, test_input, test_labels_b, task='B', normalize='true')\n",
    "\n",
    "# print the precision, recall, f1\n",
    "print(metrics.classification_report(test_labels_b, pred_labels_test_b, digits=3))\n",
    "\n",
    "# print global weighted f-1 score\n",
    "print(f\"Weighted f1-score: {metrics.f1_score(test_labels_b, pred_labels_test_b, pos_label=1, average='weighted')}\")"
   ]
  },
  {
   "cell_type": "markdown",
   "id": "160c0f68",
   "metadata": {},
   "source": [
    "The hyperparameters search is not giving better results. The optimized model is predicting all examples as NGEN. This is because the data is very imbalanced (almost all examples are NGEN). Because of this, we will use as baseline the model before the optimization process."
   ]
  },
  {
   "cell_type": "code",
   "execution_count": 73,
   "id": "722eb5a7",
   "metadata": {},
   "outputs": [
    {
     "data": {
      "image/png": "[encoded data removed]",
      "text/plain": [
       "<Figure size 288x288 with 1 Axes>"
      ]
     },
     "metadata": {
      "needs_background": "light"
     },
     "output_type": "display_data"
    },
    {
     "name": "stdout",
     "output_type": "stream",
     "text": [
      "              precision    recall  f1-score   support\n",
      "\n",
      "         GEN      0.532     0.474     0.502       175\n",
      "        NGEN      0.912     0.929     0.920      1025\n",
      "\n",
      "    accuracy                          0.863      1200\n",
      "   macro avg      0.722     0.702     0.711      1200\n",
      "weighted avg      0.856     0.863     0.859      1200\n",
      "\n",
      "Weighted f1-score: 0.8591849690219161\n"
     ]
    }
   ],
   "source": [
    "# Now we can evaluate the optimized model on the TEST data.\n",
    "\n",
    "# predict labels using the training data\n",
    "pred_labels_test_b = from_prob_to_labels(BOW_model_B, test_input, 'B')\n",
    "\n",
    "# Create confusion matrix\n",
    "confusion_matrix_plot(BOW_model_B, test_input, test_labels_b, task='B', normalize='true')\n",
    "\n",
    "# print the precision, recall, f1\n",
    "print(metrics.classification_report(test_labels_b, pred_labels_test_b, digits=3))\n",
    "\n",
    "# print global weighted f-1 score\n",
    "print(f\"Weighted f1-score: {metrics.f1_score(test_labels_b, pred_labels_test_b, pos_label=1, average='weighted')}\")"
   ]
  },
  {
   "cell_type": "markdown",
   "id": "2434ab81",
   "metadata": {},
   "source": [
    "## Housekeeping\n",
    "Save models and delete hyper-parameter search folders. \n"
   ]
  },
  {
   "cell_type": "code",
   "execution_count": 74,
   "id": "41c5e9fc",
   "metadata": {},
   "outputs": [
    {
     "name": "stderr",
     "output_type": "stream",
     "text": [
      "2021-09-19 18:48:10.044671: W tensorflow/python/util/util.cc:348] Sets are not currently considered sequences, but this may change in the future, so consider avoiding using them.\n"
     ]
    },
    {
     "name": "stdout",
     "output_type": "stream",
     "text": [
      "INFO:tensorflow:Assets written to: ./TRAC-2_saved_models/Baseline_task_A/assets\n",
      "INFO:tensorflow:Assets written to: ./TRAC-2_saved_models/Baseline_task_B/assets\n"
     ]
    }
   ],
   "source": [
    "# save model when we are ready\n",
    "BOW_model_optimized.save('./TRAC-2_saved_models/Baseline_task_A')\n",
    "BOW_model_B.save('./TRAC-2_saved_models/Baseline_task_B')"
   ]
  },
  {
   "cell_type": "code",
   "execution_count": 77,
   "id": "4080ae08",
   "metadata": {},
   "outputs": [],
   "source": [
    "# remove hyper-parameter search directory\n",
    "!rm -r ./hp_search_baseline_task_A\n",
    "!rm -r ./hp_search_baseline_task_B"
   ]
  },
  {
   "cell_type": "code",
   "execution_count": 76,
   "id": "ef662886",
   "metadata": {},
   "outputs": [],
   "source": [
    "# to load models back\n",
    "# baseline_task_A = tf.keras.models.load_model('./TRAC-2_saved_models/Baseline_task_A')\n",
    "# baseline_task_B = tf.keras.models.load_model('./TRAC-2_saved_models/Baseline_task_B')"
   ]
  },
  {
   "cell_type": "markdown",
   "id": "8c2eefb5",
   "metadata": {},
   "source": [
    "## References\n",
    "\n",
    "- Using pre-trained word embeddings: https://keras.io/examples/nlp/pretrained_word_embeddings/\n",
    "\n",
    "- Keras random search: https://keras.io/api/keras_tuner/tuners/random/#randomsearch-class\n"
   ]
  }
 ],
 "metadata": {
  "environment": {
   "name": "tf2-gpu.2-6.m79",
   "type": "gcloud",
   "uri": "gcr.io/deeplearning-platform-release/tf2-gpu.2-6:m79"
  },
  "kernelspec": {
   "display_name": "Python 3",
   "language": "python",
   "name": "python3"
  },
  "language_info": {
   "codemirror_mode": {
    "name": "ipython",
    "version": 3
   },
   "file_extension": ".py",
   "mimetype": "text/x-python",
   "name": "python",
   "nbconvert_exporter": "python",
   "pygments_lexer": "ipython3",
   "version": "3.8.8"
  }
 },
 "nbformat": 4,
 "nbformat_minor": 5
}
